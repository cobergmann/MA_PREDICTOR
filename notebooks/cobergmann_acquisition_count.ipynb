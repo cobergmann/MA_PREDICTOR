{
 "cells": [
  {
   "cell_type": "code",
   "execution_count": 1,
   "id": "550c94e1",
   "metadata": {},
   "outputs": [],
   "source": [
    "import pandas as pd\n",
    "import numpy as np"
   ]
  },
  {
   "cell_type": "code",
   "execution_count": 12,
   "id": "fd945d20",
   "metadata": {},
   "outputs": [],
   "source": [
    "# Importing dataset of (relevant) completed acquisition from 1990 onwards\n",
    "\n",
    "df = pd.read_csv('../raw_data/210913_historical_count.csv')\n",
    "data = df[['M&A SDC Deal Number', 'Date Announced', 'Acquiror Full Name']].copy()\n",
    "data.columns = ['id', 'announcement_date', 'acquiror_name'] # id needed for merge"
   ]
  },
  {
   "cell_type": "code",
   "execution_count": 16,
   "id": "f4080fd6",
   "metadata": {},
   "outputs": [],
   "source": [
    "# Cummulative count of each acquire\n",
    "data['acquisition_count'] = data.groupby('acquiror_name').cumcount()"
   ]
  },
  {
   "cell_type": "code",
   "execution_count": null,
   "id": "46aa1374",
   "metadata": {},
   "outputs": [],
   "source": [
    "# TODO sort by"
   ]
  },
  {
   "cell_type": "code",
   "execution_count": 18,
   "id": "b255d944",
   "metadata": {},
   "outputs": [
    {
     "name": "stdout",
     "output_type": "stream",
     "text": [
      "Saved as acquisition_count.pkl\n"
     ]
    }
   ],
   "source": [
    "data.to_pickle('../MA_PREDICTOR/data/acquisition_count.pkl')\n",
    "print('Saved as acquisition_count.pkl')"
   ]
  }
 ],
 "metadata": {
  "kernelspec": {
   "display_name": "Python 3 (ipykernel)",
   "language": "python",
   "name": "python3"
  },
  "language_info": {
   "codemirror_mode": {
    "name": "ipython",
    "version": 3
   },
   "file_extension": ".py",
   "mimetype": "text/x-python",
   "name": "python",
   "nbconvert_exporter": "python",
   "pygments_lexer": "ipython3",
   "version": "3.8.6"
  },
  "toc": {
   "base_numbering": 1,
   "nav_menu": {},
   "number_sections": true,
   "sideBar": true,
   "skip_h1_title": false,
   "title_cell": "Table of Contents",
   "title_sidebar": "Contents",
   "toc_cell": false,
   "toc_position": {},
   "toc_section_display": true,
   "toc_window_display": false
  }
 },
 "nbformat": 4,
 "nbformat_minor": 5
}
