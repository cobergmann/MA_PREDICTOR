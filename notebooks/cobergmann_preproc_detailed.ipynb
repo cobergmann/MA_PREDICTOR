{
 "cells": [
  {
   "cell_type": "code",
   "execution_count": 1,
   "id": "9bb2fcdd",
   "metadata": {},
   "outputs": [],
   "source": [
    "import pandas as pd\n",
    "import numpy as np\n",
    "import random\n",
    "import pickle"
   ]
  },
  {
   "cell_type": "code",
   "execution_count": 2,
   "id": "737e9605",
   "metadata": {},
   "outputs": [],
   "source": [
    "data_orig= pd.read_csv('../MA_PREDICTOR/data/ma_detailed_data_car.csv', parse_dates=['announcement_date'])"
   ]
  },
  {
   "cell_type": "code",
   "execution_count": 3,
   "id": "d72fcab6",
   "metadata": {},
   "outputs": [],
   "source": [
    "# Removing outliers\n",
    "data = data_orig[(data_orig.car > -0.3) & (data_orig.car < 0.3)]"
   ]
  },
  {
   "cell_type": "code",
   "execution_count": 4,
   "id": "4e6bc2b6",
   "metadata": {
    "scrolled": false
   },
   "outputs": [
    {
     "data": {
      "text/html": [
       "<div>\n",
       "<style scoped>\n",
       "    .dataframe tbody tr th:only-of-type {\n",
       "        vertical-align: middle;\n",
       "    }\n",
       "\n",
       "    .dataframe tbody tr th {\n",
       "        vertical-align: top;\n",
       "    }\n",
       "\n",
       "    .dataframe thead th {\n",
       "        text-align: right;\n",
       "    }\n",
       "</style>\n",
       "<table border=\"1\" class=\"dataframe\">\n",
       "  <thead>\n",
       "    <tr style=\"text-align: right;\">\n",
       "      <th></th>\n",
       "      <th>id</th>\n",
       "      <th>announcement_date</th>\n",
       "      <th>deal_value</th>\n",
       "      <th>acquiror_total_assets</th>\n",
       "      <th>acquiror_name</th>\n",
       "      <th>acquiror_ticker</th>\n",
       "      <th>target_name</th>\n",
       "      <th>target_nation</th>\n",
       "      <th>acquiror_nation</th>\n",
       "      <th>target_status</th>\n",
       "      <th>...</th>\n",
       "      <th>shares_acquired</th>\n",
       "      <th>consideration_offered</th>\n",
       "      <th>attitude</th>\n",
       "      <th>acquisition_technique</th>\n",
       "      <th>acquiror_financial_advisor</th>\n",
       "      <th>target_financial_advisor</th>\n",
       "      <th>purpose</th>\n",
       "      <th>acquiror_code</th>\n",
       "      <th>target_code</th>\n",
       "      <th>car</th>\n",
       "    </tr>\n",
       "  </thead>\n",
       "  <tbody>\n",
       "    <tr>\n",
       "      <th>0</th>\n",
       "      <td>1631732020</td>\n",
       "      <td>2005-01-01</td>\n",
       "      <td>12.00</td>\n",
       "      <td>3160.41</td>\n",
       "      <td>Plains All American Pipeline LP</td>\n",
       "      <td>PAA</td>\n",
       "      <td>Shell Pipeline Co LP-Crude Oil Pipeline Assets...</td>\n",
       "      <td>United States</td>\n",
       "      <td>United States</td>\n",
       "      <td>Subsidiary</td>\n",
       "      <td>...</td>\n",
       "      <td>100.00</td>\n",
       "      <td>Cash|Cash Only</td>\n",
       "      <td>Friendly</td>\n",
       "      <td>Financial Acquiror|Divestiture</td>\n",
       "      <td>NaN</td>\n",
       "      <td>NaN</td>\n",
       "      <td>Strengthen existing operations/expand presence...</td>\n",
       "      <td>50102030</td>\n",
       "      <td>50103030</td>\n",
       "      <td>0.006854</td>\n",
       "    </tr>\n",
       "    <tr>\n",
       "      <th>1</th>\n",
       "      <td>1629274020</td>\n",
       "      <td>2005-01-04</td>\n",
       "      <td>153.67</td>\n",
       "      <td>6166.05</td>\n",
       "      <td>SuperValu Inc</td>\n",
       "      <td>SVU</td>\n",
       "      <td>Total Logistics Inc</td>\n",
       "      <td>United States</td>\n",
       "      <td>United States</td>\n",
       "      <td>Public</td>\n",
       "      <td>...</td>\n",
       "      <td>100.00</td>\n",
       "      <td>Cash Only|Cash</td>\n",
       "      <td>Friendly</td>\n",
       "      <td>Tender Offer|Tender Merger</td>\n",
       "      <td>Lazard</td>\n",
       "      <td>William Blair &amp; Co</td>\n",
       "      <td>Strengthen existing operations/expand presence...</td>\n",
       "      <td>54301020</td>\n",
       "      <td>52405030</td>\n",
       "      <td>-0.009362</td>\n",
       "    </tr>\n",
       "    <tr>\n",
       "      <th>2</th>\n",
       "      <td>1631278020</td>\n",
       "      <td>2005-01-11</td>\n",
       "      <td>89.16</td>\n",
       "      <td>11127.95</td>\n",
       "      <td>Fulton Financial Corp</td>\n",
       "      <td>FULT</td>\n",
       "      <td>SVB Financial Services Inc, Sommerville,New Je...</td>\n",
       "      <td>United States</td>\n",
       "      <td>United States</td>\n",
       "      <td>Public</td>\n",
       "      <td>...</td>\n",
       "      <td>100.00</td>\n",
       "      <td>Cash|Cash|Common Stock|Common Stock</td>\n",
       "      <td>Friendly</td>\n",
       "      <td>Stock Swap</td>\n",
       "      <td>NaN</td>\n",
       "      <td>Danielson Associates Inc</td>\n",
       "      <td>Expand presence in new/foreign markets</td>\n",
       "      <td>55101010</td>\n",
       "      <td>55101010</td>\n",
       "      <td>-0.011249</td>\n",
       "    </tr>\n",
       "    <tr>\n",
       "      <th>3</th>\n",
       "      <td>1631266040</td>\n",
       "      <td>2005-01-12</td>\n",
       "      <td>427.54</td>\n",
       "      <td>1116.90</td>\n",
       "      <td>Cleveland-Cliffs Inc</td>\n",
       "      <td>CLF</td>\n",
       "      <td>Portman Ltd</td>\n",
       "      <td>Australia</td>\n",
       "      <td>United States</td>\n",
       "      <td>Public</td>\n",
       "      <td>...</td>\n",
       "      <td>80.39</td>\n",
       "      <td>Cash|Cash</td>\n",
       "      <td>Friendly</td>\n",
       "      <td>Tender Offer</td>\n",
       "      <td>Wilson HTM|Fleet National Bank|Fifth Third Bank</td>\n",
       "      <td>Gresham Partners|Azure Capital</td>\n",
       "      <td>Strengthen existing operations/expand presence...</td>\n",
       "      <td>51201020</td>\n",
       "      <td>51201020</td>\n",
       "      <td>0.013061</td>\n",
       "    </tr>\n",
       "    <tr>\n",
       "      <th>4</th>\n",
       "      <td>1632176020</td>\n",
       "      <td>2005-01-14</td>\n",
       "      <td>16.00</td>\n",
       "      <td>1722.27</td>\n",
       "      <td>Thomas &amp; Betts Corp</td>\n",
       "      <td>TNB</td>\n",
       "      <td>Southern Monopole &amp; Utilities Co</td>\n",
       "      <td>United States</td>\n",
       "      <td>United States</td>\n",
       "      <td>Subsidiary</td>\n",
       "      <td>...</td>\n",
       "      <td>100.00</td>\n",
       "      <td>Cash|Cash Only</td>\n",
       "      <td>Friendly</td>\n",
       "      <td>Divestiture</td>\n",
       "      <td>NaN</td>\n",
       "      <td>NaN</td>\n",
       "      <td>Acquire competitors technology/strategic assets</td>\n",
       "      <td>52102030</td>\n",
       "      <td>51201020</td>\n",
       "      <td>0.000000</td>\n",
       "    </tr>\n",
       "  </tbody>\n",
       "</table>\n",
       "<p>5 rows × 23 columns</p>\n",
       "</div>"
      ],
      "text/plain": [
       "           id announcement_date  deal_value  acquiror_total_assets  \\\n",
       "0  1631732020        2005-01-01       12.00                3160.41   \n",
       "1  1629274020        2005-01-04      153.67                6166.05   \n",
       "2  1631278020        2005-01-11       89.16               11127.95   \n",
       "3  1631266040        2005-01-12      427.54                1116.90   \n",
       "4  1632176020        2005-01-14       16.00                1722.27   \n",
       "\n",
       "                     acquiror_name acquiror_ticker  \\\n",
       "0  Plains All American Pipeline LP             PAA   \n",
       "1                    SuperValu Inc             SVU   \n",
       "2            Fulton Financial Corp            FULT   \n",
       "3             Cleveland-Cliffs Inc             CLF   \n",
       "4              Thomas & Betts Corp             TNB   \n",
       "\n",
       "                                         target_name  target_nation  \\\n",
       "0  Shell Pipeline Co LP-Crude Oil Pipeline Assets...  United States   \n",
       "1                                Total Logistics Inc  United States   \n",
       "2  SVB Financial Services Inc, Sommerville,New Je...  United States   \n",
       "3                                        Portman Ltd      Australia   \n",
       "4                   Southern Monopole & Utilities Co  United States   \n",
       "\n",
       "  acquiror_nation target_status  ... shares_acquired  \\\n",
       "0   United States    Subsidiary  ...          100.00   \n",
       "1   United States        Public  ...          100.00   \n",
       "2   United States        Public  ...          100.00   \n",
       "3   United States        Public  ...           80.39   \n",
       "4   United States    Subsidiary  ...          100.00   \n",
       "\n",
       "                 consideration_offered  attitude  \\\n",
       "0                       Cash|Cash Only  Friendly   \n",
       "1                       Cash Only|Cash  Friendly   \n",
       "2  Cash|Cash|Common Stock|Common Stock  Friendly   \n",
       "3                            Cash|Cash  Friendly   \n",
       "4                       Cash|Cash Only  Friendly   \n",
       "\n",
       "            acquisition_technique  \\\n",
       "0  Financial Acquiror|Divestiture   \n",
       "1      Tender Offer|Tender Merger   \n",
       "2                      Stock Swap   \n",
       "3                    Tender Offer   \n",
       "4                     Divestiture   \n",
       "\n",
       "                        acquiror_financial_advisor  \\\n",
       "0                                              NaN   \n",
       "1                                           Lazard   \n",
       "2                                              NaN   \n",
       "3  Wilson HTM|Fleet National Bank|Fifth Third Bank   \n",
       "4                                              NaN   \n",
       "\n",
       "         target_financial_advisor  \\\n",
       "0                             NaN   \n",
       "1              William Blair & Co   \n",
       "2        Danielson Associates Inc   \n",
       "3  Gresham Partners|Azure Capital   \n",
       "4                             NaN   \n",
       "\n",
       "                                             purpose acquiror_code  \\\n",
       "0  Strengthen existing operations/expand presence...      50102030   \n",
       "1  Strengthen existing operations/expand presence...      54301020   \n",
       "2             Expand presence in new/foreign markets      55101010   \n",
       "3  Strengthen existing operations/expand presence...      51201020   \n",
       "4    Acquire competitors technology/strategic assets      52102030   \n",
       "\n",
       "  target_code       car  \n",
       "0    50103030  0.006854  \n",
       "1    52405030 -0.009362  \n",
       "2    55101010 -0.011249  \n",
       "3    51201020  0.013061  \n",
       "4    51201020  0.000000  \n",
       "\n",
       "[5 rows x 23 columns]"
      ]
     },
     "execution_count": 4,
     "metadata": {},
     "output_type": "execute_result"
    }
   ],
   "source": [
    "data.head()"
   ]
  },
  {
   "cell_type": "code",
   "execution_count": 5,
   "id": "898fd9b3",
   "metadata": {},
   "outputs": [
    {
     "data": {
      "text/plain": [
       "Index(['id', 'announcement_date', 'deal_value', 'acquiror_total_assets',\n",
       "       'acquiror_name', 'acquiror_ticker', 'target_name', 'target_nation',\n",
       "       'acquiror_nation', 'target_status', 'acquiror_industry',\n",
       "       'target_industry', 'shares_at_announcement', 'shares_acquired',\n",
       "       'consideration_offered', 'attitude', 'acquisition_technique',\n",
       "       'acquiror_financial_advisor', 'target_financial_advisor', 'purpose',\n",
       "       'acquiror_code', 'target_code', 'car'],\n",
       "      dtype='object')"
      ]
     },
     "execution_count": 5,
     "metadata": {},
     "output_type": "execute_result"
    }
   ],
   "source": [
    "data.columns"
   ]
  },
  {
   "cell_type": "code",
   "execution_count": 6,
   "id": "5ca38757",
   "metadata": {},
   "outputs": [],
   "source": [
    "# Creating new dataframe to work on\n",
    "\n",
    "clean = data[['announcement_date',\n",
    "              'deal_value', 'acquiror_total_assets', # financials\n",
    "              'target_nation', 'acquiror_nation', 'target_status', # participants\n",
    "              'acquiror_code', 'target_code', # participants\n",
    "              'shares_at_announcement', 'shares_acquired', # deal\n",
    "              'consideration_offered', 'acquisition_technique', 'purpose', # deal \n",
    "              'acquiror_financial_advisor', 'target_financial_advisor', # deal\n",
    "              'car'\n",
    "             ]].copy()"
   ]
  },
  {
   "cell_type": "markdown",
   "id": "b2c34392",
   "metadata": {},
   "source": [
    "# announcement_date (month)"
   ]
  },
  {
   "cell_type": "code",
   "execution_count": 7,
   "id": "0abe964f",
   "metadata": {},
   "outputs": [],
   "source": [
    "clean['month']= pd.DatetimeIndex(clean['announcement_date']).month"
   ]
  },
  {
   "cell_type": "markdown",
   "id": "8bff2773",
   "metadata": {},
   "source": [
    "# deal_value (relative deal_value)"
   ]
  },
  {
   "cell_type": "code",
   "execution_count": 8,
   "id": "13a6ba95",
   "metadata": {},
   "outputs": [],
   "source": [
    "clean['rel_deal_value'] = clean.apply(lambda row:\n",
    "                                       row.deal_value / row.acquiror_total_assets\n",
    "                                       if row.acquiror_total_assets # one observation has 0 total assets and\n",
    "                                       else -1000, # will be filtered out\n",
    "                                       axis=1)\n",
    "\n",
    "# Filtering out acquiror_total_assets = 0\n",
    "clean = clean[clean.rel_deal_value > 0]\n",
    "\n",
    "# Dropping cols\n",
    "clean.drop(columns=['deal_value', 'acquiror_total_assets'], inplace=True)"
   ]
  },
  {
   "cell_type": "markdown",
   "id": "49c8fa83",
   "metadata": {},
   "source": [
    "# acquiror_nation & target_nation (cross-border)"
   ]
  },
  {
   "cell_type": "code",
   "execution_count": 9,
   "id": "e0d7354d",
   "metadata": {
    "scrolled": true
   },
   "outputs": [],
   "source": [
    "clean['cross_border'] = clean.apply(lambda row:\n",
    "                                    'cross_border'\n",
    "                                    if row.acquiror_nation == row.target_nation\n",
    "                                    else 'national',\n",
    "                                    axis=1)\n",
    "# Dropping cols\n",
    "clean.drop(columns=['acquiror_nation', 'target_nation'], inplace=True)"
   ]
  },
  {
   "cell_type": "markdown",
   "id": "90c1703b",
   "metadata": {},
   "source": [
    "# target_status"
   ]
  },
  {
   "cell_type": "code",
   "execution_count": 10,
   "id": "fd06e586",
   "metadata": {},
   "outputs": [],
   "source": [
    "clean['target_status'] = clean['target_status'].apply(lambda val:\n",
    "                                                      'public'\n",
    "                                                      if val== 'Public'\n",
    "                                                      else 'others')"
   ]
  },
  {
   "cell_type": "markdown",
   "id": "e2d953f1",
   "metadata": {},
   "source": [
    "# acquiror_code & target_code (relatedness)"
   ]
  },
  {
   "cell_type": "code",
   "execution_count": 11,
   "id": "7cc3ed2b",
   "metadata": {},
   "outputs": [],
   "source": [
    "# Get relatedness from TRBC code\n",
    "def relatedness(acquiror, target):\n",
    "    if acquiror == target:\n",
    "        return 'industry'\n",
    "    elif acquiror[:6] == target[:6]:\n",
    "        return 'industry_group'\n",
    "    elif acquiror[:4] == target[:4]:\n",
    "        return 'business_sector'\n",
    "    elif acquiror[:2] == target[:2]:\n",
    "        return 'economic_sector'\n",
    "    else:\n",
    "        return 'not_related'"
   ]
  },
  {
   "cell_type": "code",
   "execution_count": 12,
   "id": "74f75039",
   "metadata": {},
   "outputs": [],
   "source": [
    "clean['relatedness'] = clean.apply(lambda row:\n",
    "                                   relatedness(str(row.acquiror_code), str(row.target_code)),\n",
    "                                   axis=1)"
   ]
  },
  {
   "cell_type": "markdown",
   "id": "85c13ec0",
   "metadata": {},
   "source": [
    "# acquiror_code & target_code (industries)"
   ]
  },
  {
   "cell_type": "markdown",
   "id": "93590da0",
   "metadata": {},
   "source": [
    "## Declassifier"
   ]
  },
  {
   "cell_type": "code",
   "execution_count": 13,
   "id": "e00b9e13",
   "metadata": {},
   "outputs": [],
   "source": [
    "# transform code into different cols mentioned above\n",
    "def declassifier(x):\n",
    "    x = str(x)\n",
    "    return x[:2], x[:4]"
   ]
  },
  {
   "cell_type": "code",
   "execution_count": 14,
   "id": "62038a02",
   "metadata": {},
   "outputs": [],
   "source": [
    "clean['economic_sector_ac'], clean['business_sector_ac'] = \\\n",
    "zip(*clean['acquiror_code'].map(declassifier))\n",
    "clean['economic_sector_target'], clean['business_sector_target'] = \\\n",
    "zip(*clean['target_code'].map(declassifier))"
   ]
  },
  {
   "cell_type": "code",
   "execution_count": 15,
   "id": "dae89e26",
   "metadata": {},
   "outputs": [],
   "source": [
    "clean.drop(columns=['acquiror_code', 'target_code'], inplace=True)"
   ]
  },
  {
   "cell_type": "markdown",
   "id": "638bdcde",
   "metadata": {},
   "source": [
    "## Implementation of the declassifier function"
   ]
  },
  {
   "cell_type": "code",
   "execution_count": 16,
   "id": "c230e935",
   "metadata": {},
   "outputs": [],
   "source": [
    "# Implement the declassifier\n",
    "\n",
    "pickle_in = open(\"/Users/Conradi/code/cobergmann/MA_PREDICTOR/MA_PREDICTOR/data/declassification.pkl\",\"rb\")\n",
    "results = pickle.load(pickle_in)"
   ]
  },
  {
   "cell_type": "code",
   "execution_count": 17,
   "id": "b7896db0",
   "metadata": {},
   "outputs": [],
   "source": [
    "def get_info_trbc(hierarchical_id):\n",
    "    str_id= str(hierarchical_id)\n",
    "    try:\n",
    "        if len(str_id)==2:\n",
    "            s = results.loc[results['hierarchical_id'].str.startswith(str_id), 'economic_sector'].reset_index(drop=True)\n",
    "            return s[0]\n",
    "        elif len(str_id)==4:\n",
    "            r = results.loc[results['hierarchical_id'].str.startswith(str_id), 'business_sector'].reset_index(drop=True)\n",
    "            return r[0]\n",
    "        elif len(str_id)==6:\n",
    "            q = results.loc[results['hierarchical_id'].str.startswith(str_id), 'industry_group'].reset_index(drop=True)\n",
    "            return q[0] \n",
    "        elif len(str_id)==8:\n",
    "            p = results.loc[results['hierarchical_id'].str.startswith(str_id), 'industry'].reset_index(drop=True)\n",
    "            return p[0] \n",
    "        else:\n",
    "            print(\"Please enter a valid hierarchical ID.\")\n",
    "    except:\n",
    "        print(\"Please enter a valid hierarchical ID.\")"
   ]
  },
  {
   "cell_type": "code",
   "execution_count": 18,
   "id": "8e4f56fb",
   "metadata": {},
   "outputs": [],
   "source": [
    "clean['economic_sector_ac'] = clean.apply(lambda row: get_info_trbc(row.economic_sector_ac), axis=1)\n",
    "clean['business_sector_ac'] = clean.apply(lambda row: get_info_trbc(row.business_sector_ac), axis=1)\n",
    "clean['economic_sector_target'] = clean.apply(lambda row: get_info_trbc(row.economic_sector_target), axis=1)\n",
    "clean['business_sector_target'] = clean.apply(lambda row: get_info_trbc(row.business_sector_target), axis=1)"
   ]
  },
  {
   "cell_type": "markdown",
   "id": "507e701f",
   "metadata": {},
   "source": [
    "# shares_acquired"
   ]
  },
  {
   "cell_type": "code",
   "execution_count": 19,
   "id": "5dfb2968",
   "metadata": {
    "scrolled": true
   },
   "outputs": [],
   "source": [
    "clean['shares_acquired'] = clean['shares_acquired'].astype(str)"
   ]
  },
  {
   "cell_type": "code",
   "execution_count": 20,
   "id": "834e526b",
   "metadata": {
    "scrolled": false
   },
   "outputs": [],
   "source": [
    "# Apply\n",
    "clean['shares_acquired'] = clean['shares_acquired'].apply(lambda val:\n",
    "                                                          \"full\"\n",
    "                                                          if val==\"100.0\"\n",
    "                                                          else \"not_full\")"
   ]
  },
  {
   "cell_type": "markdown",
   "id": "2ce4a266",
   "metadata": {},
   "source": [
    "# shares_at_announcement"
   ]
  },
  {
   "cell_type": "code",
   "execution_count": 21,
   "id": "5b35f1f8",
   "metadata": {
    "scrolled": false
   },
   "outputs": [],
   "source": [
    "# Transform\n",
    "clean['shares_at_announcement'] = clean['shares_at_announcement'].astype(str)\n",
    "\n",
    "# Apply\n",
    "clean['shares_at_announcement'] = clean['shares_at_announcement'].apply(lambda val: \"no\" if val==\"0.0\" else \"yes\")"
   ]
  },
  {
   "cell_type": "markdown",
   "id": "daa5205e",
   "metadata": {},
   "source": [
    "# consideration_offered"
   ]
  },
  {
   "cell_type": "code",
   "execution_count": 22,
   "id": "7a320867",
   "metadata": {},
   "outputs": [],
   "source": [
    "# transform pipes into list of all considerations\n",
    "list_gen = lambda x: x.split('|')\n",
    "clean['consideration_offered'] = clean.consideration_offered.apply(list_gen)\n",
    "\n",
    "# Cluster considerations\n",
    "def cash(considerations):\n",
    "    \n",
    "    for consideration in considerations:\n",
    "        if 'Cash' not in consideration:\n",
    "            return 'Other'\n",
    "    return 'Cash'\n",
    "\n",
    "# Apply\n",
    "clean['consideration_offered'] = clean.apply(lambda row:\n",
    "                                             cash(row.consideration_offered),\n",
    "                                             axis=1)"
   ]
  },
  {
   "cell_type": "markdown",
   "id": "3bc26bbb",
   "metadata": {},
   "source": [
    "# acquisition_technique (tbc with defined cluster of techniques)"
   ]
  },
  {
   "cell_type": "code",
   "execution_count": 23,
   "id": "3343b80f",
   "metadata": {},
   "outputs": [],
   "source": [
    "# Transform string into list of techniques used\n",
    "list_gen = lambda x: x.split('|')\n",
    "clean['acquisition_technique'] = clean.acquisition_technique.apply(list_gen)"
   ]
  },
  {
   "cell_type": "code",
   "execution_count": 24,
   "id": "ea7f9d5f",
   "metadata": {},
   "outputs": [],
   "source": [
    "# Remove deals with fishy techniques (defined in cobergmann_detailed_data_exploration_advanced)\n",
    "\n",
    "# Function to exclude fishy techniques\n",
    "def fishy(techniques):\n",
    "    \n",
    "    # Define fishy techniques\n",
    "    to_exclude = [\n",
    "        'Open Market Purchase', # 3 deals will be lost\n",
    "        'Sale and leaseback' # 16 deals will be lost\n",
    "    ]\n",
    "    \n",
    "    # Label fishy techniques\n",
    "    for technique in techniques:\n",
    "        if technique in to_exclude:\n",
    "            return 'exlclude'\n",
    "    return 'ok'\n",
    "\n",
    "# Apply detector\n",
    "clean['red_flag'] = clean.apply(lambda row: fishy(row.acquisition_technique), axis=1)\n",
    "\n",
    "# Remove fishy techniques\n",
    "clean = clean[clean.red_flag == 'ok']\n",
    "\n",
    "# Remove helper columns 'red_flag'\n",
    "clean.drop(columns='red_flag', inplace=True)"
   ]
  },
  {
   "cell_type": "markdown",
   "id": "530ac374",
   "metadata": {},
   "source": [
    "# purpose (tbc with defined cluster of motives)"
   ]
  },
  {
   "cell_type": "markdown",
   "id": "7e2eb01d",
   "metadata": {},
   "source": [
    "# acquiror_financial_advisor & target_financial_advisor (count)"
   ]
  },
  {
   "cell_type": "markdown",
   "id": "bb7cf599",
   "metadata": {},
   "source": [
    "**Top 10 M&A advisors sourced from dealroom (https://dealroom.net/blog/biggest-m-a-firms)**"
   ]
  },
  {
   "cell_type": "code",
   "execution_count": 25,
   "id": "65eec8cb",
   "metadata": {},
   "outputs": [],
   "source": [
    "# Defining top advisors\n",
    "\n",
    "parties = ['acquiror_financial_advisor', 'target_financial_advisor']\n",
    "adv = clean[parties].copy()\n",
    "\n",
    "# Filling up NAs with 'Unknown'\n",
    "adv.fillna('Unknown', inplace=True)\n",
    "\n",
    "# unpack advisors and put them into set\n",
    "advisors = set()\n",
    "for index, row in adv.iterrows():\n",
    "    for advisor in row['acquiror_financial_advisor'].split('|'):\n",
    "        advisors.add(advisor)\n",
    "    for advisor in row['acquiror_financial_advisor'].split('|'):\n",
    "        advisors.add(advisor)\n",
    "        \n",
    "# Defining list of top M&A advisors ()\n",
    "base = ['Barclays', 'Bank of America', 'Citi', 'Credit Suisse','Goldman Sachs',\n",
    "        'JP Morgan', 'Lazard', 'Morgan Stanley', 'Rothschild', 'UBS']\n",
    "\n",
    "# Adjust advisor's name to dataset (preliminary operation)\n",
    "top_advisors = []\n",
    "for advisor in advisors: # iterating through set of advisors\n",
    "    for top_advisor in base:\n",
    "        if top_advisor in advisor: # if (base) name of top_advisors is in set append\n",
    "            top_advisors.append(advisor)\n",
    "            \n",
    "top_advisors = sorted(top_advisors)\n",
    "\n",
    "# Manually investigate top_advisors and append/ remove accordingly\n",
    "top_advisors.remove('Mitsubishi UFJ Morgan Stanley')"
   ]
  },
  {
   "cell_type": "code",
   "execution_count": 26,
   "id": "a3b49460",
   "metadata": {},
   "outputs": [],
   "source": [
    "# Find out how many top_advisors were involved in transaction\n",
    "\n",
    "# Filling up NAs with 'Unknown'\n",
    "clean.fillna('Unknown', inplace=True)\n",
    "\n",
    "# Transforming advisor pipe(s) into lists to iterate through\n",
    "list_gen = lambda x: x.split('|')\n",
    "\n",
    "for party in parties:\n",
    "    clean[party] = clean[party].apply(list_gen)\n",
    "\n",
    "# Counting number of top_advisors per deal (acquiror_side)\n",
    "def counter(advisors):\n",
    "    count = 0\n",
    "    for advisor in advisors:\n",
    "        if advisor in top_advisors:\n",
    "            count += 1\n",
    "    return count\n",
    "\n",
    "# Create new cols for acquiror and target\n",
    "clean['a_fin_adv_count'] = clean.apply(lambda row: counter(row.acquiror_financial_advisor), axis=1)\n",
    "clean['t_fin_adv_count'] = clean.apply(lambda row: counter(row.target_financial_advisor), axis=1)\n",
    "\n",
    "# Drop cols\n",
    "clean.drop(columns=parties, inplace=True)"
   ]
  },
  {
   "cell_type": "markdown",
   "id": "afe14f31",
   "metadata": {},
   "source": [
    "# Clean-up"
   ]
  },
  {
   "cell_type": "code",
   "execution_count": 27,
   "id": "5779d6ce",
   "metadata": {},
   "outputs": [],
   "source": [
    "clean.drop(columns=['acquisition_technique', 'purpose'], inplace=True) # Comment if necessary"
   ]
  },
  {
   "cell_type": "code",
   "execution_count": 28,
   "id": "27bf6f78",
   "metadata": {
    "scrolled": true
   },
   "outputs": [],
   "source": [
    "old_order = clean.columns.tolist()\n",
    "new_order = old_order[:5] + old_order[6:] + [old_order[5]]"
   ]
  },
  {
   "cell_type": "code",
   "execution_count": 29,
   "id": "9ad6bb4a",
   "metadata": {},
   "outputs": [],
   "source": [
    "clean = clean[new_order]"
   ]
  },
  {
   "cell_type": "code",
   "execution_count": 30,
   "id": "76890569",
   "metadata": {},
   "outputs": [
    {
     "data": {
      "text/plain": [
       "(3293, 16)"
      ]
     },
     "execution_count": 30,
     "metadata": {},
     "output_type": "execute_result"
    }
   ],
   "source": [
    "clean.shape"
   ]
  },
  {
   "cell_type": "code",
   "execution_count": 31,
   "id": "b228bc14",
   "metadata": {},
   "outputs": [
    {
     "data": {
      "text/html": [
       "<div>\n",
       "<style scoped>\n",
       "    .dataframe tbody tr th:only-of-type {\n",
       "        vertical-align: middle;\n",
       "    }\n",
       "\n",
       "    .dataframe tbody tr th {\n",
       "        vertical-align: top;\n",
       "    }\n",
       "\n",
       "    .dataframe thead th {\n",
       "        text-align: right;\n",
       "    }\n",
       "</style>\n",
       "<table border=\"1\" class=\"dataframe\">\n",
       "  <thead>\n",
       "    <tr style=\"text-align: right;\">\n",
       "      <th></th>\n",
       "      <th>announcement_date</th>\n",
       "      <th>target_status</th>\n",
       "      <th>shares_at_announcement</th>\n",
       "      <th>shares_acquired</th>\n",
       "      <th>consideration_offered</th>\n",
       "      <th>month</th>\n",
       "      <th>rel_deal_value</th>\n",
       "      <th>cross_border</th>\n",
       "      <th>relatedness</th>\n",
       "      <th>economic_sector_ac</th>\n",
       "      <th>business_sector_ac</th>\n",
       "      <th>economic_sector_target</th>\n",
       "      <th>business_sector_target</th>\n",
       "      <th>a_fin_adv_count</th>\n",
       "      <th>t_fin_adv_count</th>\n",
       "      <th>car</th>\n",
       "    </tr>\n",
       "  </thead>\n",
       "  <tbody>\n",
       "    <tr>\n",
       "      <th>0</th>\n",
       "      <td>2005-01-01</td>\n",
       "      <td>others</td>\n",
       "      <td>no</td>\n",
       "      <td>full</td>\n",
       "      <td>Cash</td>\n",
       "      <td>1</td>\n",
       "      <td>0.003797</td>\n",
       "      <td>cross_border</td>\n",
       "      <td>business_sector</td>\n",
       "      <td>Energy</td>\n",
       "      <td>Energy - Fossil Fuels</td>\n",
       "      <td>Energy</td>\n",
       "      <td>Energy - Fossil Fuels</td>\n",
       "      <td>0</td>\n",
       "      <td>0</td>\n",
       "      <td>0.006854</td>\n",
       "    </tr>\n",
       "    <tr>\n",
       "      <th>1</th>\n",
       "      <td>2005-01-04</td>\n",
       "      <td>public</td>\n",
       "      <td>no</td>\n",
       "      <td>full</td>\n",
       "      <td>Cash</td>\n",
       "      <td>1</td>\n",
       "      <td>0.024922</td>\n",
       "      <td>cross_border</td>\n",
       "      <td>not_related</td>\n",
       "      <td>Consumer Non-Cyclicals</td>\n",
       "      <td>Food &amp; Drug Retailing</td>\n",
       "      <td>Industrials</td>\n",
       "      <td>Transportation</td>\n",
       "      <td>1</td>\n",
       "      <td>0</td>\n",
       "      <td>-0.009362</td>\n",
       "    </tr>\n",
       "    <tr>\n",
       "      <th>2</th>\n",
       "      <td>2005-01-11</td>\n",
       "      <td>public</td>\n",
       "      <td>no</td>\n",
       "      <td>full</td>\n",
       "      <td>Other</td>\n",
       "      <td>1</td>\n",
       "      <td>0.008012</td>\n",
       "      <td>cross_border</td>\n",
       "      <td>industry</td>\n",
       "      <td>Financials</td>\n",
       "      <td>Banking &amp; Investment Services</td>\n",
       "      <td>Financials</td>\n",
       "      <td>Banking &amp; Investment Services</td>\n",
       "      <td>0</td>\n",
       "      <td>0</td>\n",
       "      <td>-0.011249</td>\n",
       "    </tr>\n",
       "    <tr>\n",
       "      <th>3</th>\n",
       "      <td>2005-01-12</td>\n",
       "      <td>public</td>\n",
       "      <td>no</td>\n",
       "      <td>not_full</td>\n",
       "      <td>Cash</td>\n",
       "      <td>1</td>\n",
       "      <td>0.382792</td>\n",
       "      <td>national</td>\n",
       "      <td>industry</td>\n",
       "      <td>Basic Materials</td>\n",
       "      <td>Mineral Resources</td>\n",
       "      <td>Basic Materials</td>\n",
       "      <td>Mineral Resources</td>\n",
       "      <td>0</td>\n",
       "      <td>0</td>\n",
       "      <td>0.013061</td>\n",
       "    </tr>\n",
       "    <tr>\n",
       "      <th>4</th>\n",
       "      <td>2005-01-14</td>\n",
       "      <td>others</td>\n",
       "      <td>no</td>\n",
       "      <td>full</td>\n",
       "      <td>Cash</td>\n",
       "      <td>1</td>\n",
       "      <td>0.009290</td>\n",
       "      <td>cross_border</td>\n",
       "      <td>not_related</td>\n",
       "      <td>Industrials</td>\n",
       "      <td>Industrial Goods</td>\n",
       "      <td>Basic Materials</td>\n",
       "      <td>Mineral Resources</td>\n",
       "      <td>0</td>\n",
       "      <td>0</td>\n",
       "      <td>0.000000</td>\n",
       "    </tr>\n",
       "  </tbody>\n",
       "</table>\n",
       "</div>"
      ],
      "text/plain": [
       "  announcement_date target_status shares_at_announcement shares_acquired  \\\n",
       "0        2005-01-01        others                     no            full   \n",
       "1        2005-01-04        public                     no            full   \n",
       "2        2005-01-11        public                     no            full   \n",
       "3        2005-01-12        public                     no        not_full   \n",
       "4        2005-01-14        others                     no            full   \n",
       "\n",
       "  consideration_offered  month  rel_deal_value  cross_border      relatedness  \\\n",
       "0                  Cash      1        0.003797  cross_border  business_sector   \n",
       "1                  Cash      1        0.024922  cross_border      not_related   \n",
       "2                 Other      1        0.008012  cross_border         industry   \n",
       "3                  Cash      1        0.382792      national         industry   \n",
       "4                  Cash      1        0.009290  cross_border      not_related   \n",
       "\n",
       "       economic_sector_ac             business_sector_ac  \\\n",
       "0                  Energy          Energy - Fossil Fuels   \n",
       "1  Consumer Non-Cyclicals          Food & Drug Retailing   \n",
       "2              Financials  Banking & Investment Services   \n",
       "3         Basic Materials              Mineral Resources   \n",
       "4             Industrials               Industrial Goods   \n",
       "\n",
       "  economic_sector_target         business_sector_target  a_fin_adv_count  \\\n",
       "0                 Energy          Energy - Fossil Fuels                0   \n",
       "1            Industrials                 Transportation                1   \n",
       "2             Financials  Banking & Investment Services                0   \n",
       "3        Basic Materials              Mineral Resources                0   \n",
       "4        Basic Materials              Mineral Resources                0   \n",
       "\n",
       "   t_fin_adv_count       car  \n",
       "0                0  0.006854  \n",
       "1                0 -0.009362  \n",
       "2                0 -0.011249  \n",
       "3                0  0.013061  \n",
       "4                0  0.000000  "
      ]
     },
     "execution_count": 31,
     "metadata": {},
     "output_type": "execute_result"
    }
   ],
   "source": [
    "clean.head()"
   ]
  },
  {
   "cell_type": "markdown",
   "id": "e4eb5169",
   "metadata": {},
   "source": [
    "# Uploading"
   ]
  },
  {
   "cell_type": "code",
   "execution_count": 32,
   "id": "3bc2ee96",
   "metadata": {},
   "outputs": [],
   "source": [
    "clean.to_csv('../MA_PREDICTOR/data/ma_detailed_data_car_clean.csv', index=False, date_format=\"%d/%m/%Y\")"
   ]
  }
 ],
 "metadata": {
  "kernelspec": {
   "display_name": "Python 3 (ipykernel)",
   "language": "python",
   "name": "python3"
  },
  "language_info": {
   "codemirror_mode": {
    "name": "ipython",
    "version": 3
   },
   "file_extension": ".py",
   "mimetype": "text/x-python",
   "name": "python",
   "nbconvert_exporter": "python",
   "pygments_lexer": "ipython3",
   "version": "3.8.6"
  },
  "toc": {
   "base_numbering": 1,
   "nav_menu": {},
   "number_sections": true,
   "sideBar": true,
   "skip_h1_title": false,
   "title_cell": "Table of Contents",
   "title_sidebar": "Contents",
   "toc_cell": false,
   "toc_position": {
    "height": "calc(100% - 180px)",
    "left": "10px",
    "top": "150px",
    "width": "287.594px"
   },
   "toc_section_display": true,
   "toc_window_display": false
  }
 },
 "nbformat": 4,
 "nbformat_minor": 5
}
