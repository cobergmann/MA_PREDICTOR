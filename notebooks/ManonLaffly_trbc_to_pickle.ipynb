{
 "cells": [
  {
   "cell_type": "code",
   "execution_count": 6,
   "source": [
    "import pandas as pd"
   ],
   "outputs": [],
   "metadata": {}
  },
  {
   "cell_type": "code",
   "execution_count": 8,
   "source": [
    "!pwd"
   ],
   "outputs": [
    {
     "output_type": "stream",
     "name": "stdout",
     "text": [
      "/Users/manonlaffly/code/cobergmann/MA_PREDICTOR/notebooks\n"
     ]
    }
   ],
   "metadata": {}
  },
  {
   "cell_type": "code",
   "execution_count": 11,
   "source": [
    "TRBC_industry = pd.read_csv('../raw_data/hierarchical_ids_by_industries.csv')"
   ],
   "outputs": [],
   "metadata": {}
  },
  {
   "cell_type": "code",
   "execution_count": 12,
   "source": [
    "TRBC_industry"
   ],
   "outputs": [
    {
     "output_type": "execute_result",
     "data": {
      "text/plain": [
       "     Unnamed: 0                                   industries  hierarchal ID  \\\n",
       "0             0                                         Coal       50101010   \n",
       "1             1                         Integrated Oil & Gas       50102010   \n",
       "2             2         Oil & Gas Exploration and Production       50102020   \n",
       "3             3             Oil & Gas Refining and Marketing       50102030   \n",
       "4             4                           Oil & Gas Drilling       50103010   \n",
       "..          ...                                          ...            ...   \n",
       "148         148         Government Administration Activities       62101030   \n",
       "149         149    National Security & International Affairs       62101040   \n",
       "150         150  Miscellaneous Educational Service Providers       63101010   \n",
       "151         151                 School, College & University       63102010   \n",
       "152         152            Professional & Business Education       63103010   \n",
       "\n",
       "    Unnamed: 3  \n",
       "0          NaN  \n",
       "1          NaN  \n",
       "2          NaN  \n",
       "3          NaN  \n",
       "4          NaN  \n",
       "..         ...  \n",
       "148        NaN  \n",
       "149        NaN  \n",
       "150        NaN  \n",
       "151        NaN  \n",
       "152          _  \n",
       "\n",
       "[153 rows x 4 columns]"
      ],
      "text/html": [
       "<div>\n",
       "<style scoped>\n",
       "    .dataframe tbody tr th:only-of-type {\n",
       "        vertical-align: middle;\n",
       "    }\n",
       "\n",
       "    .dataframe tbody tr th {\n",
       "        vertical-align: top;\n",
       "    }\n",
       "\n",
       "    .dataframe thead th {\n",
       "        text-align: right;\n",
       "    }\n",
       "</style>\n",
       "<table border=\"1\" class=\"dataframe\">\n",
       "  <thead>\n",
       "    <tr style=\"text-align: right;\">\n",
       "      <th></th>\n",
       "      <th>Unnamed: 0</th>\n",
       "      <th>industries</th>\n",
       "      <th>hierarchal ID</th>\n",
       "      <th>Unnamed: 3</th>\n",
       "    </tr>\n",
       "  </thead>\n",
       "  <tbody>\n",
       "    <tr>\n",
       "      <th>0</th>\n",
       "      <td>0</td>\n",
       "      <td>Coal</td>\n",
       "      <td>50101010</td>\n",
       "      <td>NaN</td>\n",
       "    </tr>\n",
       "    <tr>\n",
       "      <th>1</th>\n",
       "      <td>1</td>\n",
       "      <td>Integrated Oil &amp; Gas</td>\n",
       "      <td>50102010</td>\n",
       "      <td>NaN</td>\n",
       "    </tr>\n",
       "    <tr>\n",
       "      <th>2</th>\n",
       "      <td>2</td>\n",
       "      <td>Oil &amp; Gas Exploration and Production</td>\n",
       "      <td>50102020</td>\n",
       "      <td>NaN</td>\n",
       "    </tr>\n",
       "    <tr>\n",
       "      <th>3</th>\n",
       "      <td>3</td>\n",
       "      <td>Oil &amp; Gas Refining and Marketing</td>\n",
       "      <td>50102030</td>\n",
       "      <td>NaN</td>\n",
       "    </tr>\n",
       "    <tr>\n",
       "      <th>4</th>\n",
       "      <td>4</td>\n",
       "      <td>Oil &amp; Gas Drilling</td>\n",
       "      <td>50103010</td>\n",
       "      <td>NaN</td>\n",
       "    </tr>\n",
       "    <tr>\n",
       "      <th>...</th>\n",
       "      <td>...</td>\n",
       "      <td>...</td>\n",
       "      <td>...</td>\n",
       "      <td>...</td>\n",
       "    </tr>\n",
       "    <tr>\n",
       "      <th>148</th>\n",
       "      <td>148</td>\n",
       "      <td>Government Administration Activities</td>\n",
       "      <td>62101030</td>\n",
       "      <td>NaN</td>\n",
       "    </tr>\n",
       "    <tr>\n",
       "      <th>149</th>\n",
       "      <td>149</td>\n",
       "      <td>National Security &amp; International Affairs</td>\n",
       "      <td>62101040</td>\n",
       "      <td>NaN</td>\n",
       "    </tr>\n",
       "    <tr>\n",
       "      <th>150</th>\n",
       "      <td>150</td>\n",
       "      <td>Miscellaneous Educational Service Providers</td>\n",
       "      <td>63101010</td>\n",
       "      <td>NaN</td>\n",
       "    </tr>\n",
       "    <tr>\n",
       "      <th>151</th>\n",
       "      <td>151</td>\n",
       "      <td>School, College &amp; University</td>\n",
       "      <td>63102010</td>\n",
       "      <td>NaN</td>\n",
       "    </tr>\n",
       "    <tr>\n",
       "      <th>152</th>\n",
       "      <td>152</td>\n",
       "      <td>Professional &amp; Business Education</td>\n",
       "      <td>63103010</td>\n",
       "      <td>_</td>\n",
       "    </tr>\n",
       "  </tbody>\n",
       "</table>\n",
       "<p>153 rows × 4 columns</p>\n",
       "</div>"
      ]
     },
     "metadata": {},
     "execution_count": 12
    }
   ],
   "metadata": {}
  },
  {
   "cell_type": "code",
   "execution_count": null,
   "source": [
    "!pwd"
   ],
   "outputs": [
    {
     "output_type": "stream",
     "name": "stdout",
     "text": [
      "/Users/manonlaffly/code/cobergmann/MA_PREDICTOR/notebooks\n"
     ]
    }
   ],
   "metadata": {}
  },
  {
   "cell_type": "code",
   "execution_count": 13,
   "source": [
    "del TRBC_industry['Unnamed: 0']"
   ],
   "outputs": [],
   "metadata": {}
  },
  {
   "cell_type": "code",
   "execution_count": 15,
   "source": [
    "del TRBC_industry['Unnamed: 3']"
   ],
   "outputs": [],
   "metadata": {}
  },
  {
   "cell_type": "code",
   "execution_count": 17,
   "source": [
    "TRBC_industry = TRBC_industry.rename(columns={'hierarchal ID': 'Hierarchical_Code',\n",
    "                                              'industries': 'Title'})"
   ],
   "outputs": [],
   "metadata": {}
  },
  {
   "cell_type": "code",
   "execution_count": 18,
   "source": [
    "TRBC_industry"
   ],
   "outputs": [
    {
     "output_type": "execute_result",
     "data": {
      "text/plain": [
       "                                           Title  Hierarchical_Code\n",
       "0                                           Coal           50101010\n",
       "1                           Integrated Oil & Gas           50102010\n",
       "2           Oil & Gas Exploration and Production           50102020\n",
       "3               Oil & Gas Refining and Marketing           50102030\n",
       "4                             Oil & Gas Drilling           50103010\n",
       "..                                           ...                ...\n",
       "148         Government Administration Activities           62101030\n",
       "149    National Security & International Affairs           62101040\n",
       "150  Miscellaneous Educational Service Providers           63101010\n",
       "151                 School, College & University           63102010\n",
       "152            Professional & Business Education           63103010\n",
       "\n",
       "[153 rows x 2 columns]"
      ],
      "text/html": [
       "<div>\n",
       "<style scoped>\n",
       "    .dataframe tbody tr th:only-of-type {\n",
       "        vertical-align: middle;\n",
       "    }\n",
       "\n",
       "    .dataframe tbody tr th {\n",
       "        vertical-align: top;\n",
       "    }\n",
       "\n",
       "    .dataframe thead th {\n",
       "        text-align: right;\n",
       "    }\n",
       "</style>\n",
       "<table border=\"1\" class=\"dataframe\">\n",
       "  <thead>\n",
       "    <tr style=\"text-align: right;\">\n",
       "      <th></th>\n",
       "      <th>Title</th>\n",
       "      <th>Hierarchical_Code</th>\n",
       "    </tr>\n",
       "  </thead>\n",
       "  <tbody>\n",
       "    <tr>\n",
       "      <th>0</th>\n",
       "      <td>Coal</td>\n",
       "      <td>50101010</td>\n",
       "    </tr>\n",
       "    <tr>\n",
       "      <th>1</th>\n",
       "      <td>Integrated Oil &amp; Gas</td>\n",
       "      <td>50102010</td>\n",
       "    </tr>\n",
       "    <tr>\n",
       "      <th>2</th>\n",
       "      <td>Oil &amp; Gas Exploration and Production</td>\n",
       "      <td>50102020</td>\n",
       "    </tr>\n",
       "    <tr>\n",
       "      <th>3</th>\n",
       "      <td>Oil &amp; Gas Refining and Marketing</td>\n",
       "      <td>50102030</td>\n",
       "    </tr>\n",
       "    <tr>\n",
       "      <th>4</th>\n",
       "      <td>Oil &amp; Gas Drilling</td>\n",
       "      <td>50103010</td>\n",
       "    </tr>\n",
       "    <tr>\n",
       "      <th>...</th>\n",
       "      <td>...</td>\n",
       "      <td>...</td>\n",
       "    </tr>\n",
       "    <tr>\n",
       "      <th>148</th>\n",
       "      <td>Government Administration Activities</td>\n",
       "      <td>62101030</td>\n",
       "    </tr>\n",
       "    <tr>\n",
       "      <th>149</th>\n",
       "      <td>National Security &amp; International Affairs</td>\n",
       "      <td>62101040</td>\n",
       "    </tr>\n",
       "    <tr>\n",
       "      <th>150</th>\n",
       "      <td>Miscellaneous Educational Service Providers</td>\n",
       "      <td>63101010</td>\n",
       "    </tr>\n",
       "    <tr>\n",
       "      <th>151</th>\n",
       "      <td>School, College &amp; University</td>\n",
       "      <td>63102010</td>\n",
       "    </tr>\n",
       "    <tr>\n",
       "      <th>152</th>\n",
       "      <td>Professional &amp; Business Education</td>\n",
       "      <td>63103010</td>\n",
       "    </tr>\n",
       "  </tbody>\n",
       "</table>\n",
       "<p>153 rows × 2 columns</p>\n",
       "</div>"
      ]
     },
     "metadata": {},
     "execution_count": 18
    }
   ],
   "metadata": {}
  },
  {
   "cell_type": "code",
   "execution_count": 19,
   "source": [
    "TRBC_industry.dtypes"
   ],
   "outputs": [
    {
     "output_type": "execute_result",
     "data": {
      "text/plain": [
       "Title                object\n",
       "Hierarchical_Code     int64\n",
       "dtype: object"
      ]
     },
     "metadata": {},
     "execution_count": 19
    }
   ],
   "metadata": {}
  },
  {
   "cell_type": "code",
   "execution_count": 20,
   "source": [
    "TRBC_industry.to_pickle('../MA_PREDICTOR/data/trbc.pkl')\n",
    "print('Saved as trbc.pkl')"
   ],
   "outputs": [
    {
     "output_type": "stream",
     "name": "stdout",
     "text": [
      "Saved as trbc.pkl\n"
     ]
    }
   ],
   "metadata": {}
  },
  {
   "cell_type": "code",
   "execution_count": null,
   "source": [],
   "outputs": [],
   "metadata": {}
  }
 ],
 "metadata": {
  "orig_nbformat": 4,
  "language_info": {
   "name": "python",
   "version": "3.8.6",
   "mimetype": "text/x-python",
   "codemirror_mode": {
    "name": "ipython",
    "version": 3
   },
   "pygments_lexer": "ipython3",
   "nbconvert_exporter": "python",
   "file_extension": ".py"
  },
  "kernelspec": {
   "name": "python3",
   "display_name": "Python 3.8.6 64-bit"
  },
  "interpreter": {
   "hash": "e9ec23007a573ce60368dcad2686594e69313dda8b9bc0e206a636419d3b343f"
  }
 },
 "nbformat": 4,
 "nbformat_minor": 2
}