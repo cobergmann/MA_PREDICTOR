{
 "cells": [
  {
   "cell_type": "code",
   "execution_count": 80,
   "id": "05a79569",
   "metadata": {},
   "outputs": [],
   "source": [
    "import pandas as pd\n",
    "from sklearn.model_selection import train_test_split\n",
    "from sklearn.dummy import DummyRegressor\n",
    "from sklearn.linear_model import LinearRegression\n",
    "from sklearn.metrics import mean_squared_error\n",
    "import numpy as np"
   ]
  },
  {
   "cell_type": "code",
   "execution_count": 81,
   "id": "133d197f",
   "metadata": {},
   "outputs": [],
   "source": [
    "data_orig=pd.read_csv('../MA_PREDICTOR/data/ma_data_car.csv', parse_dates=['announcement_date'])"
   ]
  },
  {
   "cell_type": "code",
   "execution_count": 82,
   "id": "c176633f",
   "metadata": {},
   "outputs": [],
   "source": [
    "data = data_orig[(data_orig.car > -0.3) & (data_orig.car < 0.3)]"
   ]
  },
  {
   "cell_type": "code",
   "execution_count": 83,
   "id": "9c6283a6",
   "metadata": {},
   "outputs": [
    {
     "data": {
      "text/html": [
       "<div>\n",
       "<style scoped>\n",
       "    .dataframe tbody tr th:only-of-type {\n",
       "        vertical-align: middle;\n",
       "    }\n",
       "\n",
       "    .dataframe tbody tr th {\n",
       "        vertical-align: top;\n",
       "    }\n",
       "\n",
       "    .dataframe thead th {\n",
       "        text-align: right;\n",
       "    }\n",
       "</style>\n",
       "<table border=\"1\" class=\"dataframe\">\n",
       "  <thead>\n",
       "    <tr style=\"text-align: right;\">\n",
       "      <th></th>\n",
       "      <th>id</th>\n",
       "      <th>announcement_date</th>\n",
       "      <th>deal_value</th>\n",
       "      <th>acquiror_total_assets</th>\n",
       "      <th>acquiror_name</th>\n",
       "      <th>acquiror_ticker</th>\n",
       "      <th>target_name</th>\n",
       "      <th>target_nation</th>\n",
       "      <th>acquiror_nation</th>\n",
       "      <th>target_status</th>\n",
       "      <th>...</th>\n",
       "      <th>shares_acquired</th>\n",
       "      <th>consideration_offered</th>\n",
       "      <th>attitude</th>\n",
       "      <th>acquisition_technique</th>\n",
       "      <th>acquiror_financial_advisor</th>\n",
       "      <th>target_financial_advisor</th>\n",
       "      <th>purpose</th>\n",
       "      <th>acquiror_code</th>\n",
       "      <th>target_code</th>\n",
       "      <th>car</th>\n",
       "    </tr>\n",
       "  </thead>\n",
       "  <tbody>\n",
       "    <tr>\n",
       "      <th>0</th>\n",
       "      <td>1631732020</td>\n",
       "      <td>2005-01-01</td>\n",
       "      <td>12.00</td>\n",
       "      <td>3160.41</td>\n",
       "      <td>Plains All American Pipeline LP</td>\n",
       "      <td>PAA</td>\n",
       "      <td>Shell Pipeline Co LP-Crude Oil Pipeline Assets...</td>\n",
       "      <td>United States</td>\n",
       "      <td>United States</td>\n",
       "      <td>Subsidiary</td>\n",
       "      <td>...</td>\n",
       "      <td>100.0</td>\n",
       "      <td>Cash|Cash Only</td>\n",
       "      <td>Friendly</td>\n",
       "      <td>Financial Acquiror|Divestiture</td>\n",
       "      <td>NaN</td>\n",
       "      <td>NaN</td>\n",
       "      <td>Strengthen existing operations/expand presence...</td>\n",
       "      <td>50102030</td>\n",
       "      <td>50103030</td>\n",
       "      <td>0.006854</td>\n",
       "    </tr>\n",
       "    <tr>\n",
       "      <th>1</th>\n",
       "      <td>1653652020</td>\n",
       "      <td>2005-01-01</td>\n",
       "      <td>NaN</td>\n",
       "      <td>1680.57</td>\n",
       "      <td>Regis Corp</td>\n",
       "      <td>RGS</td>\n",
       "      <td>Scot Lewis Schools</td>\n",
       "      <td>United States</td>\n",
       "      <td>United States</td>\n",
       "      <td>Private</td>\n",
       "      <td>...</td>\n",
       "      <td>100.0</td>\n",
       "      <td>Unspecified</td>\n",
       "      <td>Friendly</td>\n",
       "      <td>Not Applicable</td>\n",
       "      <td>NaN</td>\n",
       "      <td>NaN</td>\n",
       "      <td>NaN</td>\n",
       "      <td>54201030</td>\n",
       "      <td>63103010</td>\n",
       "      <td>-0.010266</td>\n",
       "    </tr>\n",
       "    <tr>\n",
       "      <th>2</th>\n",
       "      <td>1949421020</td>\n",
       "      <td>2005-01-01</td>\n",
       "      <td>NaN</td>\n",
       "      <td>3301.76</td>\n",
       "      <td>Google Inc</td>\n",
       "      <td>GOOG</td>\n",
       "      <td>PhatBits</td>\n",
       "      <td>United States</td>\n",
       "      <td>United States</td>\n",
       "      <td>Private</td>\n",
       "      <td>...</td>\n",
       "      <td>100.0</td>\n",
       "      <td>Unspecified</td>\n",
       "      <td>Friendly</td>\n",
       "      <td>Not Applicable</td>\n",
       "      <td>NaN</td>\n",
       "      <td>NaN</td>\n",
       "      <td>NaN</td>\n",
       "      <td>57201030</td>\n",
       "      <td>57201020</td>\n",
       "      <td>0.007746</td>\n",
       "    </tr>\n",
       "    <tr>\n",
       "      <th>3</th>\n",
       "      <td>1652453040</td>\n",
       "      <td>2005-01-01</td>\n",
       "      <td>20.03</td>\n",
       "      <td>371.71</td>\n",
       "      <td>Graco Inc</td>\n",
       "      <td>GGG</td>\n",
       "      <td>Gusmer Europe SL</td>\n",
       "      <td>Spain</td>\n",
       "      <td>United States</td>\n",
       "      <td>Private</td>\n",
       "      <td>...</td>\n",
       "      <td>100.0</td>\n",
       "      <td>Cash|Cash Only</td>\n",
       "      <td>Friendly</td>\n",
       "      <td>Not Applicable</td>\n",
       "      <td>NaN</td>\n",
       "      <td>NaN</td>\n",
       "      <td>NaN</td>\n",
       "      <td>52102010</td>\n",
       "      <td>51101010</td>\n",
       "      <td>-0.011133</td>\n",
       "    </tr>\n",
       "    <tr>\n",
       "      <th>4</th>\n",
       "      <td>2721963020</td>\n",
       "      <td>2005-01-01</td>\n",
       "      <td>18220.52</td>\n",
       "      <td>NaN</td>\n",
       "      <td>Exxon Mobil Corp</td>\n",
       "      <td>XOM</td>\n",
       "      <td>Exxon Mobil Corp</td>\n",
       "      <td>United States</td>\n",
       "      <td>United States</td>\n",
       "      <td>Public</td>\n",
       "      <td>...</td>\n",
       "      <td>5.0</td>\n",
       "      <td>Cash|Cash Only</td>\n",
       "      <td>No Applicable</td>\n",
       "      <td>Open Market Purchase|Privately Negotiated Purc...</td>\n",
       "      <td>NaN</td>\n",
       "      <td>NaN</td>\n",
       "      <td>Other</td>\n",
       "      <td>50102030</td>\n",
       "      <td>50102030</td>\n",
       "      <td>-0.003971</td>\n",
       "    </tr>\n",
       "  </tbody>\n",
       "</table>\n",
       "<p>5 rows × 23 columns</p>\n",
       "</div>"
      ],
      "text/plain": [
       "           id announcement_date  deal_value  acquiror_total_assets  \\\n",
       "0  1631732020        2005-01-01       12.00                3160.41   \n",
       "1  1653652020        2005-01-01         NaN                1680.57   \n",
       "2  1949421020        2005-01-01         NaN                3301.76   \n",
       "3  1652453040        2005-01-01       20.03                 371.71   \n",
       "4  2721963020        2005-01-01    18220.52                    NaN   \n",
       "\n",
       "                     acquiror_name acquiror_ticker  \\\n",
       "0  Plains All American Pipeline LP             PAA   \n",
       "1                       Regis Corp             RGS   \n",
       "2                       Google Inc            GOOG   \n",
       "3                        Graco Inc             GGG   \n",
       "4                 Exxon Mobil Corp             XOM   \n",
       "\n",
       "                                         target_name  target_nation  \\\n",
       "0  Shell Pipeline Co LP-Crude Oil Pipeline Assets...  United States   \n",
       "1                                 Scot Lewis Schools  United States   \n",
       "2                                           PhatBits  United States   \n",
       "3                                   Gusmer Europe SL          Spain   \n",
       "4                                   Exxon Mobil Corp  United States   \n",
       "\n",
       "  acquiror_nation target_status  ... shares_acquired consideration_offered  \\\n",
       "0   United States    Subsidiary  ...           100.0        Cash|Cash Only   \n",
       "1   United States       Private  ...           100.0           Unspecified   \n",
       "2   United States       Private  ...           100.0           Unspecified   \n",
       "3   United States       Private  ...           100.0        Cash|Cash Only   \n",
       "4   United States        Public  ...             5.0        Cash|Cash Only   \n",
       "\n",
       "        attitude                              acquisition_technique  \\\n",
       "0       Friendly                     Financial Acquiror|Divestiture   \n",
       "1       Friendly                                     Not Applicable   \n",
       "2       Friendly                                     Not Applicable   \n",
       "3       Friendly                                     Not Applicable   \n",
       "4  No Applicable  Open Market Purchase|Privately Negotiated Purc...   \n",
       "\n",
       "  acquiror_financial_advisor target_financial_advisor  \\\n",
       "0                        NaN                      NaN   \n",
       "1                        NaN                      NaN   \n",
       "2                        NaN                      NaN   \n",
       "3                        NaN                      NaN   \n",
       "4                        NaN                      NaN   \n",
       "\n",
       "                                             purpose acquiror_code  \\\n",
       "0  Strengthen existing operations/expand presence...      50102030   \n",
       "1                                                NaN      54201030   \n",
       "2                                                NaN      57201030   \n",
       "3                                                NaN      52102010   \n",
       "4                                              Other      50102030   \n",
       "\n",
       "  target_code       car  \n",
       "0    50103030  0.006854  \n",
       "1    63103010 -0.010266  \n",
       "2    57201020  0.007746  \n",
       "3    51101010 -0.011133  \n",
       "4    50102030 -0.003971  \n",
       "\n",
       "[5 rows x 23 columns]"
      ]
     },
     "execution_count": 83,
     "metadata": {},
     "output_type": "execute_result"
    }
   ],
   "source": [
    "data.head()"
   ]
  },
  {
   "cell_type": "code",
   "execution_count": 84,
   "id": "3e0331d3",
   "metadata": {},
   "outputs": [],
   "source": [
    "# Prepare X and y\n",
    "X = data[data.columns.difference(['car'])]\n",
    "y = data['car']\n",
    "\n",
    "\n",
    "X_train, X_test, y_train, y_test = train_test_split(X, y,\n",
    "                                                    test_size = 0.3, \n",
    "                                                    random_state = 6) # Holdout\n"
   ]
  },
  {
   "cell_type": "code",
   "execution_count": 85,
   "id": "ab061d31",
   "metadata": {},
   "outputs": [
    {
     "data": {
      "text/plain": [
       "(12756,)"
      ]
     },
     "execution_count": 85,
     "metadata": {},
     "output_type": "execute_result"
    }
   ],
   "source": [
    "y_train.shape"
   ]
  },
  {
   "cell_type": "markdown",
   "id": "0689b1ba",
   "metadata": {},
   "source": [
    "# First baseline: Mean"
   ]
  },
  {
   "cell_type": "code",
   "execution_count": 86,
   "id": "648eef75",
   "metadata": {},
   "outputs": [],
   "source": [
    "mean=data['car'].mean(axis = 0, skipna = True)"
   ]
  },
  {
   "cell_type": "code",
   "execution_count": 87,
   "id": "7baa05b7",
   "metadata": {},
   "outputs": [
    {
     "data": {
      "text/plain": [
       "0.0030104735175560697"
      ]
     },
     "execution_count": 87,
     "metadata": {},
     "output_type": "execute_result"
    }
   ],
   "source": [
    "mean"
   ]
  },
  {
   "cell_type": "code",
   "execution_count": 88,
   "id": "40ef279e",
   "metadata": {},
   "outputs": [],
   "source": [
    "y_pred_mean= np.full((12756,), fill_value=mean)"
   ]
  },
  {
   "cell_type": "code",
   "execution_count": 89,
   "id": "324f4377",
   "metadata": {},
   "outputs": [],
   "source": [
    "MSE_mean= mean_squared_error(y_train, y_pred_mean)"
   ]
  },
  {
   "cell_type": "code",
   "execution_count": 90,
   "id": "bb96bf0a",
   "metadata": {},
   "outputs": [
    {
     "data": {
      "text/plain": [
       "0.0021280119415414377"
      ]
     },
     "execution_count": 90,
     "metadata": {},
     "output_type": "execute_result"
    }
   ],
   "source": [
    "MSE_mean"
   ]
  },
  {
   "cell_type": "markdown",
   "id": "7cf3ca3e",
   "metadata": {},
   "source": [
    "# Second baseline : Median"
   ]
  },
  {
   "cell_type": "code",
   "execution_count": 91,
   "id": "12f815ab",
   "metadata": {},
   "outputs": [],
   "source": [
    "median=data['car'].median(axis = 0, skipna = True)"
   ]
  },
  {
   "cell_type": "code",
   "execution_count": 92,
   "id": "27e96f3d",
   "metadata": {},
   "outputs": [
    {
     "data": {
      "text/plain": [
       "0.0002201180431128"
      ]
     },
     "execution_count": 92,
     "metadata": {},
     "output_type": "execute_result"
    }
   ],
   "source": [
    "median"
   ]
  },
  {
   "cell_type": "code",
   "execution_count": 93,
   "id": "6ed8ea0c",
   "metadata": {},
   "outputs": [],
   "source": [
    "y_pred_median= np.full((12756,), fill_value=median)"
   ]
  },
  {
   "cell_type": "code",
   "execution_count": 94,
   "id": "7f2f84a2",
   "metadata": {},
   "outputs": [],
   "source": [
    "MSE_median= mean_squared_error(y_train, y_pred_median)"
   ]
  },
  {
   "cell_type": "code",
   "execution_count": 95,
   "id": "6d508342",
   "metadata": {},
   "outputs": [
    {
     "data": {
      "text/plain": [
       "0.002138388107824844"
      ]
     },
     "execution_count": 95,
     "metadata": {},
     "output_type": "execute_result"
    }
   ],
   "source": [
    "MSE_median"
   ]
  },
  {
   "cell_type": "markdown",
   "id": "6e4263bd",
   "metadata": {},
   "source": [
    "# Third Baseline: Constant"
   ]
  },
  {
   "cell_type": "code",
   "execution_count": 96,
   "id": "8aa32e4d",
   "metadata": {},
   "outputs": [],
   "source": [
    "y_pred_zero= np.full((12756,), fill_value=0)"
   ]
  },
  {
   "cell_type": "code",
   "execution_count": 97,
   "id": "bb7d3d32",
   "metadata": {},
   "outputs": [],
   "source": [
    "MSE_zero= mean_squared_error(y_train, y_pred_zero)"
   ]
  },
  {
   "cell_type": "code",
   "execution_count": 98,
   "id": "6f8eba6d",
   "metadata": {},
   "outputs": [
    {
     "data": {
      "text/plain": [
       "0.002139869294408053"
      ]
     },
     "execution_count": 98,
     "metadata": {},
     "output_type": "execute_result"
    }
   ],
   "source": [
    "MSE_zero"
   ]
  }
 ],
 "metadata": {
  "kernelspec": {
   "display_name": "Python 3 (ipykernel)",
   "language": "python",
   "name": "python3"
  },
  "language_info": {
   "codemirror_mode": {
    "name": "ipython",
    "version": 3
   },
   "file_extension": ".py",
   "mimetype": "text/x-python",
   "name": "python",
   "nbconvert_exporter": "python",
   "pygments_lexer": "ipython3",
   "version": "3.8.6"
  }
 },
 "nbformat": 4,
 "nbformat_minor": 5
}
