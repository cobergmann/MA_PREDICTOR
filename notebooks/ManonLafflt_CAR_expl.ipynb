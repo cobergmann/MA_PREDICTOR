{
 "cells": [
  {
   "cell_type": "code",
   "execution_count": 84,
   "id": "608417ba",
   "metadata": {
    "ExecuteTime": {
     "end_time": "2021-09-14T08:59:46.201726Z",
     "start_time": "2021-09-14T08:59:46.168586Z"
    }
   },
   "outputs": [
    {
     "name": "stdout",
     "output_type": "stream",
     "text": [
      "The autoreload extension is already loaded. To reload it, use:\n",
      "  %reload_ext autoreload\n"
     ]
    }
   ],
   "source": [
    "%load_ext autoreload\n",
    "%autoreload 2 \n",
    "import pandas as pd\n",
    "import numpy as np\n",
    "from MA_PREDICTOR.car import calculate_car\n",
    "import os\n",
    "from MA_PREDICTOR.global_vars import STOCKS\n",
    "import matplotlib.pyplot as plt"
   ]
  },
  {
   "cell_type": "code",
   "execution_count": 85,
   "id": "8dc25728",
   "metadata": {
    "ExecuteTime": {
     "end_time": "2021-09-14T08:59:46.404807Z",
     "start_time": "2021-09-14T08:59:46.365278Z"
    }
   },
   "outputs": [],
   "source": [
    "from MA_PREDICTOR.data import add_car"
   ]
  },
  {
   "cell_type": "code",
   "execution_count": 86,
   "id": "85f1c5e7",
   "metadata": {
    "ExecuteTime": {
     "end_time": "2021-09-14T08:59:46.815762Z",
     "start_time": "2021-09-14T08:59:46.538136Z"
    }
   },
   "outputs": [],
   "source": [
    "data=pd.read_csv('../MA_PREDICTOR/data/ma_data.csv', parse_dates=['announcement_date'])"
   ]
  },
  {
   "cell_type": "code",
   "execution_count": 87,
   "id": "3a5cadd8",
   "metadata": {
    "ExecuteTime": {
     "end_time": "2021-09-14T08:59:46.896639Z",
     "start_time": "2021-09-14T08:59:46.819238Z"
    }
   },
   "outputs": [
    {
     "name": "stdout",
     "output_type": "stream",
     "text": [
      "<class 'pandas.core.frame.DataFrame'>\n",
      "RangeIndex: 27272 entries, 0 to 27271\n",
      "Data columns (total 22 columns):\n",
      " #   Column                      Non-Null Count  Dtype         \n",
      "---  ------                      --------------  -----         \n",
      " 0   id                          27272 non-null  int64         \n",
      " 1   announcement_date           27272 non-null  datetime64[ns]\n",
      " 2   deal_value                  14351 non-null  float64       \n",
      " 3   acquiror_total_assets       25390 non-null  float64       \n",
      " 4   acquiror_name               27272 non-null  object        \n",
      " 5   acquiror_ticker             27272 non-null  object        \n",
      " 6   target_name                 27272 non-null  object        \n",
      " 7   target_nation               27272 non-null  object        \n",
      " 8   acquiror_nation             27272 non-null  object        \n",
      " 9   target_status               27272 non-null  object        \n",
      " 10  acquiror_industry           27272 non-null  object        \n",
      " 11  target_industry             27272 non-null  object        \n",
      " 12  shares_at_announcement      27272 non-null  float64       \n",
      " 13  shares_acquired             27272 non-null  float64       \n",
      " 14  consideration_offered       27272 non-null  object        \n",
      " 15  attitude                    27272 non-null  object        \n",
      " 16  acquisition_technique       27272 non-null  object        \n",
      " 17  acquiror_financial_advisor  5137 non-null   object        \n",
      " 18  target_financial_advisor    7745 non-null   object        \n",
      " 19  purpose                     14739 non-null  object        \n",
      " 20  acquiror_code               27272 non-null  int64         \n",
      " 21  target_code                 27272 non-null  int64         \n",
      "dtypes: datetime64[ns](1), float64(4), int64(3), object(14)\n",
      "memory usage: 4.6+ MB\n"
     ]
    }
   ],
   "source": [
    "data.info()"
   ]
  },
  {
   "cell_type": "code",
   "execution_count": 88,
   "id": "00ef3ca2",
   "metadata": {
    "ExecuteTime": {
     "end_time": "2021-09-14T08:59:46.954331Z",
     "start_time": "2021-09-14T08:59:46.901527Z"
    }
   },
   "outputs": [],
   "source": [
    "def add_car(df):\n",
    "\n",
    "    # if ticker not in dict put nan\n",
    "    df['car'] = df.apply(\n",
    "        lambda row:\n",
    "            calculate_car(row.acquiror_ticker, row.announcement_date)\n",
    "            if row.acquiror_ticker in STOCKS else np.NaN,\n",
    "        axis=1)"
   ]
  },
  {
   "cell_type": "code",
   "execution_count": 89,
   "id": "6f22ea9a",
   "metadata": {
    "ExecuteTime": {
     "end_time": "2021-09-14T08:59:47.142720Z",
     "start_time": "2021-09-14T08:59:47.098632Z"
    }
   },
   "outputs": [],
   "source": [
    "def add_car_3(df):\n",
    "\n",
    "    # if ticker not in dict put nan\n",
    "    df['car_3'] = df.apply(\n",
    "        lambda row:\n",
    "            calculate_car(row.acquiror_ticker, row.announcement_date, 3, 3)\n",
    "            if row.acquiror_ticker in STOCKS else np.NaN,\n",
    "        axis=1)"
   ]
  },
  {
   "cell_type": "code",
   "execution_count": 90,
   "id": "c8e2df0a",
   "metadata": {
    "ExecuteTime": {
     "end_time": "2021-09-14T08:59:47.266356Z",
     "start_time": "2021-09-14T08:59:47.233117Z"
    }
   },
   "outputs": [],
   "source": [
    "def add_car_5(df):\n",
    "\n",
    "    # if ticker not in dict put nan\n",
    "    df['car_5'] = df.apply(\n",
    "        lambda row:\n",
    "            calculate_car(row.acquiror_ticker, row.announcement_date, 5, 5)\n",
    "            if row.acquiror_ticker in STOCKS else np.NaN,\n",
    "        axis=1)"
   ]
  },
  {
   "cell_type": "code",
   "execution_count": 91,
   "id": "64b42a15",
   "metadata": {
    "ExecuteTime": {
     "end_time": "2021-09-14T08:59:47.470053Z",
     "start_time": "2021-09-14T08:59:47.424712Z"
    }
   },
   "outputs": [],
   "source": [
    "def add_car_10(df):\n",
    "\n",
    "    # if ticker not in dict put nan\n",
    "    df['car_10'] = df.apply(\n",
    "        lambda row:\n",
    "            calculate_car(row.acquiror_ticker, row.announcement_date, 10, 10)\n",
    "            if row.acquiror_ticker in STOCKS else np.NaN,\n",
    "        axis=1)\n",
    "    "
   ]
  },
  {
   "cell_type": "code",
   "execution_count": 92,
   "id": "ee5da460",
   "metadata": {
    "ExecuteTime": {
     "end_time": "2021-09-14T09:01:21.253195Z",
     "start_time": "2021-09-14T08:59:47.624727Z"
    }
   },
   "outputs": [],
   "source": [
    "add_car(data)"
   ]
  },
  {
   "cell_type": "code",
   "execution_count": 93,
   "id": "f5176d7e",
   "metadata": {
    "ExecuteTime": {
     "end_time": "2021-09-14T09:02:51.812827Z",
     "start_time": "2021-09-14T09:01:21.256314Z"
    }
   },
   "outputs": [],
   "source": [
    "add_car_3(data)"
   ]
  },
  {
   "cell_type": "code",
   "execution_count": 94,
   "id": "d19018e5",
   "metadata": {
    "ExecuteTime": {
     "end_time": "2021-09-14T09:05:07.516730Z",
     "start_time": "2021-09-14T09:02:51.817483Z"
    }
   },
   "outputs": [],
   "source": [
    "add_car_5(data)"
   ]
  },
  {
   "cell_type": "code",
   "execution_count": 95,
   "id": "371c34c3",
   "metadata": {
    "ExecuteTime": {
     "end_time": "2021-09-14T09:06:53.008093Z",
     "start_time": "2021-09-14T09:05:07.582526Z"
    }
   },
   "outputs": [],
   "source": [
    "add_car_10(data)"
   ]
  },
  {
   "cell_type": "code",
   "execution_count": 96,
   "id": "d7b7fd8d",
   "metadata": {
    "ExecuteTime": {
     "end_time": "2021-09-14T09:06:53.083876Z",
     "start_time": "2021-09-14T09:06:53.010515Z"
    }
   },
   "outputs": [
    {
     "data": {
      "text/html": [
       "<div>\n",
       "<style scoped>\n",
       "    .dataframe tbody tr th:only-of-type {\n",
       "        vertical-align: middle;\n",
       "    }\n",
       "\n",
       "    .dataframe tbody tr th {\n",
       "        vertical-align: top;\n",
       "    }\n",
       "\n",
       "    .dataframe thead th {\n",
       "        text-align: right;\n",
       "    }\n",
       "</style>\n",
       "<table border=\"1\" class=\"dataframe\">\n",
       "  <thead>\n",
       "    <tr style=\"text-align: right;\">\n",
       "      <th></th>\n",
       "      <th>id</th>\n",
       "      <th>announcement_date</th>\n",
       "      <th>deal_value</th>\n",
       "      <th>acquiror_total_assets</th>\n",
       "      <th>acquiror_name</th>\n",
       "      <th>acquiror_ticker</th>\n",
       "      <th>target_name</th>\n",
       "      <th>target_nation</th>\n",
       "      <th>acquiror_nation</th>\n",
       "      <th>target_status</th>\n",
       "      <th>...</th>\n",
       "      <th>acquisition_technique</th>\n",
       "      <th>acquiror_financial_advisor</th>\n",
       "      <th>target_financial_advisor</th>\n",
       "      <th>purpose</th>\n",
       "      <th>acquiror_code</th>\n",
       "      <th>target_code</th>\n",
       "      <th>car</th>\n",
       "      <th>car_3</th>\n",
       "      <th>car_5</th>\n",
       "      <th>car_10</th>\n",
       "    </tr>\n",
       "  </thead>\n",
       "  <tbody>\n",
       "    <tr>\n",
       "      <th>0</th>\n",
       "      <td>1631732020</td>\n",
       "      <td>2005-01-01</td>\n",
       "      <td>12.00</td>\n",
       "      <td>3160.41</td>\n",
       "      <td>Plains All American Pipeline LP</td>\n",
       "      <td>PAA</td>\n",
       "      <td>Shell Pipeline Co LP-Crude Oil Pipeline Assets...</td>\n",
       "      <td>United States</td>\n",
       "      <td>United States</td>\n",
       "      <td>Subsidiary</td>\n",
       "      <td>...</td>\n",
       "      <td>Financial Acquiror|Divestiture</td>\n",
       "      <td>NaN</td>\n",
       "      <td>NaN</td>\n",
       "      <td>Strengthen existing operations/expand presence...</td>\n",
       "      <td>50102030</td>\n",
       "      <td>50103030</td>\n",
       "      <td>0.006854</td>\n",
       "      <td>0.027138</td>\n",
       "      <td>0.026767</td>\n",
       "      <td>0.071106</td>\n",
       "    </tr>\n",
       "    <tr>\n",
       "      <th>1</th>\n",
       "      <td>1653652020</td>\n",
       "      <td>2005-01-01</td>\n",
       "      <td>NaN</td>\n",
       "      <td>1680.57</td>\n",
       "      <td>Regis Corp</td>\n",
       "      <td>RGS</td>\n",
       "      <td>Scot Lewis Schools</td>\n",
       "      <td>United States</td>\n",
       "      <td>United States</td>\n",
       "      <td>Private</td>\n",
       "      <td>...</td>\n",
       "      <td>Not Applicable</td>\n",
       "      <td>NaN</td>\n",
       "      <td>NaN</td>\n",
       "      <td>NaN</td>\n",
       "      <td>54201030</td>\n",
       "      <td>63103010</td>\n",
       "      <td>-0.010266</td>\n",
       "      <td>-0.096277</td>\n",
       "      <td>-0.095443</td>\n",
       "      <td>-0.059613</td>\n",
       "    </tr>\n",
       "    <tr>\n",
       "      <th>2</th>\n",
       "      <td>1949421020</td>\n",
       "      <td>2005-01-01</td>\n",
       "      <td>NaN</td>\n",
       "      <td>3301.76</td>\n",
       "      <td>Google Inc</td>\n",
       "      <td>GOOG</td>\n",
       "      <td>PhatBits</td>\n",
       "      <td>United States</td>\n",
       "      <td>United States</td>\n",
       "      <td>Private</td>\n",
       "      <td>...</td>\n",
       "      <td>Not Applicable</td>\n",
       "      <td>NaN</td>\n",
       "      <td>NaN</td>\n",
       "      <td>NaN</td>\n",
       "      <td>57201030</td>\n",
       "      <td>57201020</td>\n",
       "      <td>0.007746</td>\n",
       "      <td>0.002229</td>\n",
       "      <td>0.057510</td>\n",
       "      <td>0.117220</td>\n",
       "    </tr>\n",
       "    <tr>\n",
       "      <th>3</th>\n",
       "      <td>1652453040</td>\n",
       "      <td>2005-01-01</td>\n",
       "      <td>20.03</td>\n",
       "      <td>371.71</td>\n",
       "      <td>Graco Inc</td>\n",
       "      <td>GGG</td>\n",
       "      <td>Gusmer Europe SL</td>\n",
       "      <td>Spain</td>\n",
       "      <td>United States</td>\n",
       "      <td>Private</td>\n",
       "      <td>...</td>\n",
       "      <td>Not Applicable</td>\n",
       "      <td>NaN</td>\n",
       "      <td>NaN</td>\n",
       "      <td>NaN</td>\n",
       "      <td>52102010</td>\n",
       "      <td>51101010</td>\n",
       "      <td>-0.011133</td>\n",
       "      <td>-0.017296</td>\n",
       "      <td>-0.010688</td>\n",
       "      <td>-0.000134</td>\n",
       "    </tr>\n",
       "    <tr>\n",
       "      <th>4</th>\n",
       "      <td>2721963020</td>\n",
       "      <td>2005-01-01</td>\n",
       "      <td>18220.52</td>\n",
       "      <td>NaN</td>\n",
       "      <td>Exxon Mobil Corp</td>\n",
       "      <td>XOM</td>\n",
       "      <td>Exxon Mobil Corp</td>\n",
       "      <td>United States</td>\n",
       "      <td>United States</td>\n",
       "      <td>Public</td>\n",
       "      <td>...</td>\n",
       "      <td>Open Market Purchase|Privately Negotiated Purc...</td>\n",
       "      <td>NaN</td>\n",
       "      <td>NaN</td>\n",
       "      <td>Other</td>\n",
       "      <td>50102030</td>\n",
       "      <td>50102030</td>\n",
       "      <td>-0.003971</td>\n",
       "      <td>0.003257</td>\n",
       "      <td>-0.021984</td>\n",
       "      <td>0.034378</td>\n",
       "    </tr>\n",
       "    <tr>\n",
       "      <th>...</th>\n",
       "      <td>...</td>\n",
       "      <td>...</td>\n",
       "      <td>...</td>\n",
       "      <td>...</td>\n",
       "      <td>...</td>\n",
       "      <td>...</td>\n",
       "      <td>...</td>\n",
       "      <td>...</td>\n",
       "      <td>...</td>\n",
       "      <td>...</td>\n",
       "      <td>...</td>\n",
       "      <td>...</td>\n",
       "      <td>...</td>\n",
       "      <td>...</td>\n",
       "      <td>...</td>\n",
       "      <td>...</td>\n",
       "      <td>...</td>\n",
       "      <td>...</td>\n",
       "      <td>...</td>\n",
       "      <td>...</td>\n",
       "      <td>...</td>\n",
       "    </tr>\n",
       "    <tr>\n",
       "      <th>27267</th>\n",
       "      <td>3791733020</td>\n",
       "      <td>2021-08-30</td>\n",
       "      <td>40.00</td>\n",
       "      <td>2830.00</td>\n",
       "      <td>Chart Industries Inc</td>\n",
       "      <td>GTLS</td>\n",
       "      <td>AdEdge Holdings LLC</td>\n",
       "      <td>United States</td>\n",
       "      <td>United States</td>\n",
       "      <td>Private</td>\n",
       "      <td>...</td>\n",
       "      <td>Not Applicable</td>\n",
       "      <td>NaN</td>\n",
       "      <td>Raymond James</td>\n",
       "      <td>NaN</td>\n",
       "      <td>52102010</td>\n",
       "      <td>59103010</td>\n",
       "      <td>0.020108</td>\n",
       "      <td>0.081362</td>\n",
       "      <td>0.060503</td>\n",
       "      <td>0.087061</td>\n",
       "    </tr>\n",
       "    <tr>\n",
       "      <th>27268</th>\n",
       "      <td>3791806020</td>\n",
       "      <td>2021-08-30</td>\n",
       "      <td>NaN</td>\n",
       "      <td>2224.71</td>\n",
       "      <td>Patrick Industries Inc</td>\n",
       "      <td>PATK</td>\n",
       "      <td>Tumacs Boat Covers Inc</td>\n",
       "      <td>United States</td>\n",
       "      <td>United States</td>\n",
       "      <td>Private</td>\n",
       "      <td>...</td>\n",
       "      <td>Not Applicable</td>\n",
       "      <td>NaN</td>\n",
       "      <td>NaN</td>\n",
       "      <td>NaN</td>\n",
       "      <td>53203020</td>\n",
       "      <td>53205020</td>\n",
       "      <td>-0.040156</td>\n",
       "      <td>-0.043024</td>\n",
       "      <td>-0.037087</td>\n",
       "      <td>-0.075494</td>\n",
       "    </tr>\n",
       "    <tr>\n",
       "      <th>27269</th>\n",
       "      <td>3793728040</td>\n",
       "      <td>2021-08-30</td>\n",
       "      <td>NaN</td>\n",
       "      <td>21061.02</td>\n",
       "      <td>Sysco Corp</td>\n",
       "      <td>SYY</td>\n",
       "      <td>Cegal AS</td>\n",
       "      <td>Norway</td>\n",
       "      <td>United States</td>\n",
       "      <td>Subsidiary</td>\n",
       "      <td>...</td>\n",
       "      <td>Divestiture</td>\n",
       "      <td>NaN</td>\n",
       "      <td>NaN</td>\n",
       "      <td>NaN</td>\n",
       "      <td>54301020</td>\n",
       "      <td>57201010</td>\n",
       "      <td>-0.003545</td>\n",
       "      <td>-0.012076</td>\n",
       "      <td>-0.013147</td>\n",
       "      <td>-0.040705</td>\n",
       "    </tr>\n",
       "    <tr>\n",
       "      <th>27270</th>\n",
       "      <td>3792444020</td>\n",
       "      <td>2021-08-31</td>\n",
       "      <td>NaN</td>\n",
       "      <td>5295.10</td>\n",
       "      <td>Financial Institutions Inc</td>\n",
       "      <td>FISI</td>\n",
       "      <td>North Woods Capital Benefits LLC</td>\n",
       "      <td>United States</td>\n",
       "      <td>United States</td>\n",
       "      <td>Private</td>\n",
       "      <td>...</td>\n",
       "      <td>Not Applicable</td>\n",
       "      <td>NaN</td>\n",
       "      <td>NaN</td>\n",
       "      <td>NaN</td>\n",
       "      <td>55101010</td>\n",
       "      <td>52203030</td>\n",
       "      <td>-0.025992</td>\n",
       "      <td>-0.019414</td>\n",
       "      <td>-0.018001</td>\n",
       "      <td>-0.045913</td>\n",
       "    </tr>\n",
       "    <tr>\n",
       "      <th>27271</th>\n",
       "      <td>3792794040</td>\n",
       "      <td>2021-08-31</td>\n",
       "      <td>NaN</td>\n",
       "      <td>10092.50</td>\n",
       "      <td>Lithia Motors Inc</td>\n",
       "      <td>LAD</td>\n",
       "      <td>Pfaff Automotive Partners Inc-Leasing Business</td>\n",
       "      <td>Canada</td>\n",
       "      <td>United States</td>\n",
       "      <td>Subsidiary</td>\n",
       "      <td>...</td>\n",
       "      <td>Divestiture</td>\n",
       "      <td>NaN</td>\n",
       "      <td>NaN</td>\n",
       "      <td>NaN</td>\n",
       "      <td>53403010</td>\n",
       "      <td>55101050</td>\n",
       "      <td>-0.000099</td>\n",
       "      <td>-0.054546</td>\n",
       "      <td>-0.041685</td>\n",
       "      <td>-0.148157</td>\n",
       "    </tr>\n",
       "  </tbody>\n",
       "</table>\n",
       "<p>27272 rows × 26 columns</p>\n",
       "</div>"
      ],
      "text/plain": [
       "               id announcement_date  deal_value  acquiror_total_assets  \\\n",
       "0      1631732020        2005-01-01       12.00                3160.41   \n",
       "1      1653652020        2005-01-01         NaN                1680.57   \n",
       "2      1949421020        2005-01-01         NaN                3301.76   \n",
       "3      1652453040        2005-01-01       20.03                 371.71   \n",
       "4      2721963020        2005-01-01    18220.52                    NaN   \n",
       "...           ...               ...         ...                    ...   \n",
       "27267  3791733020        2021-08-30       40.00                2830.00   \n",
       "27268  3791806020        2021-08-30         NaN                2224.71   \n",
       "27269  3793728040        2021-08-30         NaN               21061.02   \n",
       "27270  3792444020        2021-08-31         NaN                5295.10   \n",
       "27271  3792794040        2021-08-31         NaN               10092.50   \n",
       "\n",
       "                         acquiror_name acquiror_ticker  \\\n",
       "0      Plains All American Pipeline LP             PAA   \n",
       "1                           Regis Corp             RGS   \n",
       "2                           Google Inc            GOOG   \n",
       "3                            Graco Inc             GGG   \n",
       "4                     Exxon Mobil Corp             XOM   \n",
       "...                                ...             ...   \n",
       "27267             Chart Industries Inc            GTLS   \n",
       "27268           Patrick Industries Inc            PATK   \n",
       "27269                       Sysco Corp             SYY   \n",
       "27270       Financial Institutions Inc            FISI   \n",
       "27271                Lithia Motors Inc             LAD   \n",
       "\n",
       "                                             target_name  target_nation  \\\n",
       "0      Shell Pipeline Co LP-Crude Oil Pipeline Assets...  United States   \n",
       "1                                     Scot Lewis Schools  United States   \n",
       "2                                               PhatBits  United States   \n",
       "3                                       Gusmer Europe SL          Spain   \n",
       "4                                       Exxon Mobil Corp  United States   \n",
       "...                                                  ...            ...   \n",
       "27267                                AdEdge Holdings LLC  United States   \n",
       "27268                             Tumacs Boat Covers Inc  United States   \n",
       "27269                                           Cegal AS         Norway   \n",
       "27270                   North Woods Capital Benefits LLC  United States   \n",
       "27271     Pfaff Automotive Partners Inc-Leasing Business         Canada   \n",
       "\n",
       "      acquiror_nation target_status  ...  \\\n",
       "0       United States    Subsidiary  ...   \n",
       "1       United States       Private  ...   \n",
       "2       United States       Private  ...   \n",
       "3       United States       Private  ...   \n",
       "4       United States        Public  ...   \n",
       "...               ...           ...  ...   \n",
       "27267   United States       Private  ...   \n",
       "27268   United States       Private  ...   \n",
       "27269   United States    Subsidiary  ...   \n",
       "27270   United States       Private  ...   \n",
       "27271   United States    Subsidiary  ...   \n",
       "\n",
       "                                   acquisition_technique  \\\n",
       "0                         Financial Acquiror|Divestiture   \n",
       "1                                         Not Applicable   \n",
       "2                                         Not Applicable   \n",
       "3                                         Not Applicable   \n",
       "4      Open Market Purchase|Privately Negotiated Purc...   \n",
       "...                                                  ...   \n",
       "27267                                     Not Applicable   \n",
       "27268                                     Not Applicable   \n",
       "27269                                        Divestiture   \n",
       "27270                                     Not Applicable   \n",
       "27271                                        Divestiture   \n",
       "\n",
       "      acquiror_financial_advisor  target_financial_advisor  \\\n",
       "0                            NaN                       NaN   \n",
       "1                            NaN                       NaN   \n",
       "2                            NaN                       NaN   \n",
       "3                            NaN                       NaN   \n",
       "4                            NaN                       NaN   \n",
       "...                          ...                       ...   \n",
       "27267                        NaN             Raymond James   \n",
       "27268                        NaN                       NaN   \n",
       "27269                        NaN                       NaN   \n",
       "27270                        NaN                       NaN   \n",
       "27271                        NaN                       NaN   \n",
       "\n",
       "                                                 purpose acquiror_code  \\\n",
       "0      Strengthen existing operations/expand presence...      50102030   \n",
       "1                                                    NaN      54201030   \n",
       "2                                                    NaN      57201030   \n",
       "3                                                    NaN      52102010   \n",
       "4                                                  Other      50102030   \n",
       "...                                                  ...           ...   \n",
       "27267                                                NaN      52102010   \n",
       "27268                                                NaN      53203020   \n",
       "27269                                                NaN      54301020   \n",
       "27270                                                NaN      55101010   \n",
       "27271                                                NaN      53403010   \n",
       "\n",
       "      target_code       car     car_3     car_5    car_10  \n",
       "0        50103030  0.006854  0.027138  0.026767  0.071106  \n",
       "1        63103010 -0.010266 -0.096277 -0.095443 -0.059613  \n",
       "2        57201020  0.007746  0.002229  0.057510  0.117220  \n",
       "3        51101010 -0.011133 -0.017296 -0.010688 -0.000134  \n",
       "4        50102030 -0.003971  0.003257 -0.021984  0.034378  \n",
       "...           ...       ...       ...       ...       ...  \n",
       "27267    59103010  0.020108  0.081362  0.060503  0.087061  \n",
       "27268    53205020 -0.040156 -0.043024 -0.037087 -0.075494  \n",
       "27269    57201010 -0.003545 -0.012076 -0.013147 -0.040705  \n",
       "27270    52203030 -0.025992 -0.019414 -0.018001 -0.045913  \n",
       "27271    55101050 -0.000099 -0.054546 -0.041685 -0.148157  \n",
       "\n",
       "[27272 rows x 26 columns]"
      ]
     },
     "execution_count": 96,
     "metadata": {},
     "output_type": "execute_result"
    }
   ],
   "source": [
    "data"
   ]
  },
  {
   "cell_type": "code",
   "execution_count": 97,
   "id": "52e75f87",
   "metadata": {
    "ExecuteTime": {
     "end_time": "2021-09-14T09:06:53.155172Z",
     "start_time": "2021-09-14T09:06:53.088441Z"
    }
   },
   "outputs": [
    {
     "name": "stderr",
     "output_type": "stream",
     "text": [
      "/var/folders/tw/12c8kwg9497btcy7q6r_t5y00000gn/T/ipykernel_25936/2723740006.py:1: FutureWarning: Dropping of nuisance columns in DataFrame reductions (with 'numeric_only=None') is deprecated; in a future version this will raise TypeError.  Select only valid columns before calling the reduction.\n",
      "  data.std()\n"
     ]
    },
    {
     "data": {
      "text/plain": [
       "id                                    588864651.521951\n",
       "announcement_date         1692 days 23:58:49.942889696\n",
       "deal_value                                 2774.201559\n",
       "acquiror_total_assets                    128578.859474\n",
       "shares_at_announcement                        8.662541\n",
       "shares_acquired                              21.534897\n",
       "acquiror_code                           2843539.668925\n",
       "target_code                             2763862.410672\n",
       "car                                        1313.993729\n",
       "car_3                                       1323.23541\n",
       "car_5                                      1337.908961\n",
       "car_10                                     1439.034082\n",
       "dtype: object"
      ]
     },
     "execution_count": 97,
     "metadata": {},
     "output_type": "execute_result"
    }
   ],
   "source": [
    "data.std()"
   ]
  },
  {
   "cell_type": "code",
   "execution_count": 98,
   "id": "389809a2",
   "metadata": {
    "ExecuteTime": {
     "end_time": "2021-09-14T09:06:53.197196Z",
     "start_time": "2021-09-14T09:06:53.159135Z"
    }
   },
   "outputs": [],
   "source": [
    "data= data[(data.car > -0.3) & (data.car < 0.3)]"
   ]
  },
  {
   "cell_type": "code",
   "execution_count": 99,
   "id": "a3170eef",
   "metadata": {
    "ExecuteTime": {
     "end_time": "2021-09-14T09:06:53.241672Z",
     "start_time": "2021-09-14T09:06:53.200334Z"
    }
   },
   "outputs": [],
   "source": [
    "data= data[(data.car_3 > -0.3) & (data.car_3 < 0.3)]"
   ]
  },
  {
   "cell_type": "code",
   "execution_count": 100,
   "id": "14d27472",
   "metadata": {
    "ExecuteTime": {
     "end_time": "2021-09-14T09:06:53.276811Z",
     "start_time": "2021-09-14T09:06:53.244415Z"
    }
   },
   "outputs": [],
   "source": [
    "data= data[(data.car_5 > -0.3) & (data.car_5 < 0.3)]"
   ]
  },
  {
   "cell_type": "code",
   "execution_count": 101,
   "id": "5424724e",
   "metadata": {
    "ExecuteTime": {
     "end_time": "2021-09-14T09:06:53.312932Z",
     "start_time": "2021-09-14T09:06:53.282900Z"
    }
   },
   "outputs": [],
   "source": [
    "data= data[(data.car_10 > -0.3) & (data.car_10 < 0.3)]"
   ]
  },
  {
   "cell_type": "code",
   "execution_count": 102,
   "id": "6294351b",
   "metadata": {
    "ExecuteTime": {
     "end_time": "2021-09-14T09:06:53.364472Z",
     "start_time": "2021-09-14T09:06:53.315221Z"
    }
   },
   "outputs": [
    {
     "name": "stderr",
     "output_type": "stream",
     "text": [
      "/var/folders/tw/12c8kwg9497btcy7q6r_t5y00000gn/T/ipykernel_25936/2723740006.py:1: FutureWarning: Dropping of nuisance columns in DataFrame reductions (with 'numeric_only=None') is deprecated; in a future version this will raise TypeError.  Select only valid columns before calling the reduction.\n",
      "  data.std()\n"
     ]
    },
    {
     "data": {
      "text/plain": [
       "id                                    599274349.829394\n",
       "announcement_date         1704 days 15:42:19.489143616\n",
       "deal_value                                 3171.712075\n",
       "acquiror_total_assets                    152856.523189\n",
       "shares_at_announcement                        8.448159\n",
       "shares_acquired                              21.376311\n",
       "acquiror_code                           2820551.889076\n",
       "target_code                              2733826.73775\n",
       "car                                            0.04077\n",
       "car_3                                         0.053954\n",
       "car_5                                          0.06326\n",
       "car_10                                        0.080327\n",
       "dtype: object"
      ]
     },
     "execution_count": 102,
     "metadata": {},
     "output_type": "execute_result"
    }
   ],
   "source": [
    "data.std()"
   ]
  },
  {
   "cell_type": "code",
   "execution_count": 104,
   "id": "c5bcbbe7",
   "metadata": {
    "ExecuteTime": {
     "end_time": "2021-09-14T09:08:11.623541Z",
     "start_time": "2021-09-14T09:08:11.363087Z"
    }
   },
   "outputs": [
    {
     "name": "stderr",
     "output_type": "stream",
     "text": [
      "/var/folders/tw/12c8kwg9497btcy7q6r_t5y00000gn/T/ipykernel_25936/2941536589.py:1: FutureWarning: Dropping of nuisance columns in DataFrame reductions (with 'numeric_only=None') is deprecated; in a future version this will raise TypeError.  Select only valid columns before calling the reduction.\n",
      "  plt.plot(list(data.std()[-4:]))\n"
     ]
    },
    {
     "data": {
      "text/plain": [
       "[<matplotlib.lines.Line2D at 0x119b22c40>]"
      ]
     },
     "execution_count": 104,
     "metadata": {},
     "output_type": "execute_result"
    },
    {
     "data": {
      "image/png": "[encoded data removed]",
      "text/plain": [
       "<Figure size 432x288 with 1 Axes>"
      ]
     },
     "metadata": {
      "needs_background": "light"
     },
     "output_type": "display_data"
    }
   ],
   "source": [
    "plt.plot(list(data.std()[-4:]))"
   ]
  },
  {
   "cell_type": "code",
   "execution_count": 105,
   "id": "68961534",
   "metadata": {
    "ExecuteTime": {
     "end_time": "2021-09-14T09:08:12.421997Z",
     "start_time": "2021-09-14T09:08:12.140072Z"
    }
   },
   "outputs": [
    {
     "name": "stderr",
     "output_type": "stream",
     "text": [
      "/var/folders/tw/12c8kwg9497btcy7q6r_t5y00000gn/T/ipykernel_25936/4118999147.py:1: FutureWarning: Dropping of nuisance columns in DataFrame reductions (with 'numeric_only=None') is deprecated; in a future version this will raise TypeError.  Select only valid columns before calling the reduction.\n",
      "  plt.hist(list(data.std()[-4:]))\n"
     ]
    },
    {
     "data": {
      "text/plain": [
       "(array([1., 0., 0., 1., 0., 1., 0., 0., 0., 1.]),\n",
       " array([0.0407701 , 0.04472576, 0.04868142, 0.05263708, 0.05659274,\n",
       "        0.06054841, 0.06450407, 0.06845973, 0.07241539, 0.07637105,\n",
       "        0.08032671]),\n",
       " <BarContainer object of 10 artists>)"
      ]
     },
     "execution_count": 105,
     "metadata": {},
     "output_type": "execute_result"
    },
    {
     "data": {
      "image/png": "[encoded data removed]",
      "text/plain": [
       "<Figure size 432x288 with 1 Axes>"
      ]
     },
     "metadata": {
      "needs_background": "light"
     },
     "output_type": "display_data"
    }
   ],
   "source": [
    "plt.hist(list(data.std()[-4:]))"
   ]
  },
  {
   "cell_type": "code",
   "execution_count": null,
   "id": "1481c357",
   "metadata": {},
   "outputs": [],
   "source": []
  }
 ],
 "metadata": {
  "kernelspec": {
   "display_name": "Python 3 (ipykernel)",
   "language": "python",
   "name": "python3"
  },
  "language_info": {
   "codemirror_mode": {
    "name": "ipython",
    "version": 3
   },
   "file_extension": ".py",
   "mimetype": "text/x-python",
   "name": "python",
   "nbconvert_exporter": "python",
   "pygments_lexer": "ipython3",
   "version": "3.8.6"
  },
  "toc": {
   "base_numbering": 1,
   "nav_menu": {},
   "number_sections": true,
   "sideBar": true,
   "skip_h1_title": false,
   "title_cell": "Table of Contents",
   "title_sidebar": "Contents",
   "toc_cell": false,
   "toc_position": {},
   "toc_section_display": true,
   "toc_window_display": false
  }
 },
 "nbformat": 4,
 "nbformat_minor": 5
}
