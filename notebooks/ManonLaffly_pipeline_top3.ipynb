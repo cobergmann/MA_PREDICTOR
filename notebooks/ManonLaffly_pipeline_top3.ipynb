{
 "cells": [
  {
   "cell_type": "code",
   "execution_count": 81,
   "id": "8683f222",
   "metadata": {
    "ExecuteTime": {
     "end_time": "2021-09-13T09:51:38.065672Z",
     "start_time": "2021-09-13T09:51:38.059279Z"
    }
   },
   "outputs": [],
   "source": [
    "from sklearn.preprocessing import OneHotEncoder\n",
    "from sklearn.compose import ColumnTransformer\n",
    "import numpy as np\n",
    "import pandas as pd\n",
    "from sklearn.model_selection import train_test_split\n",
    "from sklearn.linear_model import LinearRegression\n",
    "from sklearn.model_selection import cross_val_score\n",
    "from sklearn.pipeline import Pipeline\n",
    "from sklearn.ensemble import RandomForestRegressor\n",
    "from sklearn.tree import DecisionTreeRegressor\n",
    "from sklearn.metrics import r2_score,mean_squared_error\n",
    "from sklearn.model_selection import GridSearchCV\n",
    "from sklearn.linear_model import ElasticNet"
   ]
  },
  {
   "cell_type": "markdown",
   "id": "99f53fd1",
   "metadata": {},
   "source": [
    "We will now create another pipeline, similar to the one wrote in v1, but only selecting the deals that correspond to the 3 most represented industries. Then, we will evaluate the model without the gridsearch."
   ]
  },
  {
   "cell_type": "code",
   "execution_count": 82,
   "id": "dcbbbb5c",
   "metadata": {
    "ExecuteTime": {
     "end_time": "2021-09-13T09:51:38.540600Z",
     "start_time": "2021-09-13T09:51:38.436922Z"
    }
   },
   "outputs": [],
   "source": [
    "data = pd.read_csv('../MA_PREDICTOR/data/ma_data_car_clean.csv')"
   ]
  },
  {
   "cell_type": "code",
   "execution_count": 83,
   "id": "da9434b0",
   "metadata": {
    "ExecuteTime": {
     "end_time": "2021-09-13T09:51:38.688115Z",
     "start_time": "2021-09-13T09:51:38.626949Z"
    },
    "scrolled": true
   },
   "outputs": [
    {
     "data": {
      "text/html": [
       "<div>\n",
       "<style scoped>\n",
       "    .dataframe tbody tr th:only-of-type {\n",
       "        vertical-align: middle;\n",
       "    }\n",
       "\n",
       "    .dataframe tbody tr th {\n",
       "        vertical-align: top;\n",
       "    }\n",
       "\n",
       "    .dataframe thead th {\n",
       "        text-align: right;\n",
       "    }\n",
       "</style>\n",
       "<table border=\"1\" class=\"dataframe\">\n",
       "  <thead>\n",
       "    <tr style=\"text-align: right;\">\n",
       "      <th></th>\n",
       "      <th>consideration_offered</th>\n",
       "      <th>shares_acquired</th>\n",
       "      <th>shares_at_announcement</th>\n",
       "      <th>acquiror_code</th>\n",
       "      <th>target_code</th>\n",
       "      <th>target_status</th>\n",
       "      <th>month</th>\n",
       "      <th>cross_border</th>\n",
       "      <th>relatedness</th>\n",
       "      <th>economic_sector_ac</th>\n",
       "      <th>business_sector_ac</th>\n",
       "      <th>economic_sector_target</th>\n",
       "      <th>business_sector_target</th>\n",
       "      <th>car</th>\n",
       "    </tr>\n",
       "  </thead>\n",
       "  <tbody>\n",
       "    <tr>\n",
       "      <th>0</th>\n",
       "      <td>Cash</td>\n",
       "      <td>full</td>\n",
       "      <td>no</td>\n",
       "      <td>50102030</td>\n",
       "      <td>50103030</td>\n",
       "      <td>others</td>\n",
       "      <td>1</td>\n",
       "      <td>cross_border</td>\n",
       "      <td>business_sector</td>\n",
       "      <td>Energy</td>\n",
       "      <td>Energy - Fossil Fuels</td>\n",
       "      <td>Energy</td>\n",
       "      <td>Energy - Fossil Fuels</td>\n",
       "      <td>0.006854</td>\n",
       "    </tr>\n",
       "    <tr>\n",
       "      <th>1</th>\n",
       "      <td>Other</td>\n",
       "      <td>full</td>\n",
       "      <td>no</td>\n",
       "      <td>54201030</td>\n",
       "      <td>63103010</td>\n",
       "      <td>others</td>\n",
       "      <td>1</td>\n",
       "      <td>cross_border</td>\n",
       "      <td>not_related</td>\n",
       "      <td>Consumer Non-Cyclicals</td>\n",
       "      <td>Personal &amp; Household Products &amp; Services</td>\n",
       "      <td>Academic &amp; Educational Services</td>\n",
       "      <td>Academic &amp; Educational Services</td>\n",
       "      <td>-0.010266</td>\n",
       "    </tr>\n",
       "    <tr>\n",
       "      <th>2</th>\n",
       "      <td>Other</td>\n",
       "      <td>full</td>\n",
       "      <td>no</td>\n",
       "      <td>57201030</td>\n",
       "      <td>57201020</td>\n",
       "      <td>others</td>\n",
       "      <td>1</td>\n",
       "      <td>cross_border</td>\n",
       "      <td>industry_group</td>\n",
       "      <td>Technology</td>\n",
       "      <td>Software &amp; IT Services</td>\n",
       "      <td>Technology</td>\n",
       "      <td>Software &amp; IT Services</td>\n",
       "      <td>0.007746</td>\n",
       "    </tr>\n",
       "    <tr>\n",
       "      <th>3</th>\n",
       "      <td>Cash</td>\n",
       "      <td>full</td>\n",
       "      <td>no</td>\n",
       "      <td>52102010</td>\n",
       "      <td>51101010</td>\n",
       "      <td>others</td>\n",
       "      <td>1</td>\n",
       "      <td>national</td>\n",
       "      <td>not_related</td>\n",
       "      <td>Industrials</td>\n",
       "      <td>Industrial Goods</td>\n",
       "      <td>Basic Materials</td>\n",
       "      <td>Chemicals</td>\n",
       "      <td>-0.011133</td>\n",
       "    </tr>\n",
       "    <tr>\n",
       "      <th>4</th>\n",
       "      <td>Cash</td>\n",
       "      <td>not_full</td>\n",
       "      <td>no</td>\n",
       "      <td>50102030</td>\n",
       "      <td>50102030</td>\n",
       "      <td>public</td>\n",
       "      <td>1</td>\n",
       "      <td>cross_border</td>\n",
       "      <td>industry</td>\n",
       "      <td>Energy</td>\n",
       "      <td>Energy - Fossil Fuels</td>\n",
       "      <td>Energy</td>\n",
       "      <td>Energy - Fossil Fuels</td>\n",
       "      <td>-0.003971</td>\n",
       "    </tr>\n",
       "  </tbody>\n",
       "</table>\n",
       "</div>"
      ],
      "text/plain": [
       "  consideration_offered shares_acquired shares_at_announcement  acquiror_code  \\\n",
       "0                  Cash            full                     no       50102030   \n",
       "1                 Other            full                     no       54201030   \n",
       "2                 Other            full                     no       57201030   \n",
       "3                  Cash            full                     no       52102010   \n",
       "4                  Cash        not_full                     no       50102030   \n",
       "\n",
       "   target_code target_status  month  cross_border      relatedness  \\\n",
       "0     50103030        others      1  cross_border  business_sector   \n",
       "1     63103010        others      1  cross_border      not_related   \n",
       "2     57201020        others      1  cross_border   industry_group   \n",
       "3     51101010        others      1      national      not_related   \n",
       "4     50102030        public      1  cross_border         industry   \n",
       "\n",
       "       economic_sector_ac                        business_sector_ac  \\\n",
       "0                  Energy                     Energy - Fossil Fuels   \n",
       "1  Consumer Non-Cyclicals  Personal & Household Products & Services   \n",
       "2              Technology                    Software & IT Services   \n",
       "3             Industrials                          Industrial Goods   \n",
       "4                  Energy                     Energy - Fossil Fuels   \n",
       "\n",
       "            economic_sector_target           business_sector_target       car  \n",
       "0                           Energy            Energy - Fossil Fuels  0.006854  \n",
       "1  Academic & Educational Services  Academic & Educational Services -0.010266  \n",
       "2                       Technology           Software & IT Services  0.007746  \n",
       "3                  Basic Materials                        Chemicals -0.011133  \n",
       "4                           Energy            Energy - Fossil Fuels -0.003971  "
      ]
     },
     "execution_count": 83,
     "metadata": {},
     "output_type": "execute_result"
    }
   ],
   "source": [
    "data.head()"
   ]
  },
  {
   "cell_type": "markdown",
   "id": "09c0a204",
   "metadata": {
    "ExecuteTime": {
     "end_time": "2021-09-13T08:51:45.426898Z",
     "start_time": "2021-09-13T08:51:45.408744Z"
    }
   },
   "source": [
    "- 52: 'Industrials'\n",
    "- 55: 'Financials'\n",
    "- 57: 'Technology'"
   ]
  },
  {
   "cell_type": "markdown",
   "id": "57043bb4",
   "metadata": {
    "heading_collapsed": true
   },
   "source": [
    "# Filtering for top 3"
   ]
  },
  {
   "cell_type": "code",
   "execution_count": 130,
   "id": "2b891162",
   "metadata": {
    "ExecuteTime": {
     "end_time": "2021-09-13T10:08:03.229988Z",
     "start_time": "2021-09-13T10:08:03.188884Z"
    },
    "hidden": true
   },
   "outputs": [],
   "source": [
    "d_filtered=data[data['economic_sector_ac'].str.match('Industrials|Financials|Technology')].reset_index(drop=True)"
   ]
  },
  {
   "cell_type": "code",
   "execution_count": 131,
   "id": "94309188",
   "metadata": {
    "ExecuteTime": {
     "end_time": "2021-09-13T10:08:03.472677Z",
     "start_time": "2021-09-13T10:08:03.405475Z"
    },
    "hidden": true
   },
   "outputs": [
    {
     "data": {
      "text/html": [
       "<div>\n",
       "<style scoped>\n",
       "    .dataframe tbody tr th:only-of-type {\n",
       "        vertical-align: middle;\n",
       "    }\n",
       "\n",
       "    .dataframe tbody tr th {\n",
       "        vertical-align: top;\n",
       "    }\n",
       "\n",
       "    .dataframe thead th {\n",
       "        text-align: right;\n",
       "    }\n",
       "</style>\n",
       "<table border=\"1\" class=\"dataframe\">\n",
       "  <thead>\n",
       "    <tr style=\"text-align: right;\">\n",
       "      <th></th>\n",
       "      <th>consideration_offered</th>\n",
       "      <th>shares_acquired</th>\n",
       "      <th>shares_at_announcement</th>\n",
       "      <th>acquiror_code</th>\n",
       "      <th>target_code</th>\n",
       "      <th>target_status</th>\n",
       "      <th>month</th>\n",
       "      <th>cross_border</th>\n",
       "      <th>relatedness</th>\n",
       "      <th>economic_sector_ac</th>\n",
       "      <th>business_sector_ac</th>\n",
       "      <th>economic_sector_target</th>\n",
       "      <th>business_sector_target</th>\n",
       "      <th>car</th>\n",
       "    </tr>\n",
       "  </thead>\n",
       "  <tbody>\n",
       "    <tr>\n",
       "      <th>0</th>\n",
       "      <td>Other</td>\n",
       "      <td>full</td>\n",
       "      <td>no</td>\n",
       "      <td>57201030</td>\n",
       "      <td>57201020</td>\n",
       "      <td>others</td>\n",
       "      <td>1</td>\n",
       "      <td>cross_border</td>\n",
       "      <td>industry_group</td>\n",
       "      <td>Technology</td>\n",
       "      <td>Software &amp; IT Services</td>\n",
       "      <td>Technology</td>\n",
       "      <td>Software &amp; IT Services</td>\n",
       "      <td>0.007746</td>\n",
       "    </tr>\n",
       "    <tr>\n",
       "      <th>1</th>\n",
       "      <td>Cash</td>\n",
       "      <td>full</td>\n",
       "      <td>no</td>\n",
       "      <td>52102010</td>\n",
       "      <td>51101010</td>\n",
       "      <td>others</td>\n",
       "      <td>1</td>\n",
       "      <td>national</td>\n",
       "      <td>not_related</td>\n",
       "      <td>Industrials</td>\n",
       "      <td>Industrial Goods</td>\n",
       "      <td>Basic Materials</td>\n",
       "      <td>Chemicals</td>\n",
       "      <td>-0.011133</td>\n",
       "    </tr>\n",
       "    <tr>\n",
       "      <th>2</th>\n",
       "      <td>Other</td>\n",
       "      <td>full</td>\n",
       "      <td>no</td>\n",
       "      <td>55101010</td>\n",
       "      <td>55301010</td>\n",
       "      <td>others</td>\n",
       "      <td>1</td>\n",
       "      <td>cross_border</td>\n",
       "      <td>economic_sector</td>\n",
       "      <td>Financials</td>\n",
       "      <td>Banking &amp; Investment Services</td>\n",
       "      <td>Financials</td>\n",
       "      <td>Insurance</td>\n",
       "      <td>-0.002947</td>\n",
       "    </tr>\n",
       "    <tr>\n",
       "      <th>3</th>\n",
       "      <td>Other</td>\n",
       "      <td>full</td>\n",
       "      <td>no</td>\n",
       "      <td>55101010</td>\n",
       "      <td>55301010</td>\n",
       "      <td>others</td>\n",
       "      <td>1</td>\n",
       "      <td>cross_border</td>\n",
       "      <td>economic_sector</td>\n",
       "      <td>Financials</td>\n",
       "      <td>Banking &amp; Investment Services</td>\n",
       "      <td>Financials</td>\n",
       "      <td>Insurance</td>\n",
       "      <td>-0.002947</td>\n",
       "    </tr>\n",
       "    <tr>\n",
       "      <th>4</th>\n",
       "      <td>Other</td>\n",
       "      <td>full</td>\n",
       "      <td>no</td>\n",
       "      <td>52102050</td>\n",
       "      <td>53205020</td>\n",
       "      <td>others</td>\n",
       "      <td>1</td>\n",
       "      <td>cross_border</td>\n",
       "      <td>not_related</td>\n",
       "      <td>Industrials</td>\n",
       "      <td>Industrial Goods</td>\n",
       "      <td>Consumer Cyclicals</td>\n",
       "      <td>Cyclical Consumer Products</td>\n",
       "      <td>0.006169</td>\n",
       "    </tr>\n",
       "    <tr>\n",
       "      <th>...</th>\n",
       "      <td>...</td>\n",
       "      <td>...</td>\n",
       "      <td>...</td>\n",
       "      <td>...</td>\n",
       "      <td>...</td>\n",
       "      <td>...</td>\n",
       "      <td>...</td>\n",
       "      <td>...</td>\n",
       "      <td>...</td>\n",
       "      <td>...</td>\n",
       "      <td>...</td>\n",
       "      <td>...</td>\n",
       "      <td>...</td>\n",
       "      <td>...</td>\n",
       "    </tr>\n",
       "    <tr>\n",
       "      <th>9607</th>\n",
       "      <td>Cash</td>\n",
       "      <td>full</td>\n",
       "      <td>no</td>\n",
       "      <td>52102010</td>\n",
       "      <td>52203040</td>\n",
       "      <td>others</td>\n",
       "      <td>8</td>\n",
       "      <td>cross_border</td>\n",
       "      <td>economic_sector</td>\n",
       "      <td>Industrials</td>\n",
       "      <td>Industrial Goods</td>\n",
       "      <td>Industrials</td>\n",
       "      <td>Industrial &amp; Commercial Services</td>\n",
       "      <td>0.015438</td>\n",
       "    </tr>\n",
       "    <tr>\n",
       "      <th>9608</th>\n",
       "      <td>Other</td>\n",
       "      <td>full</td>\n",
       "      <td>no</td>\n",
       "      <td>57201010</td>\n",
       "      <td>57201020</td>\n",
       "      <td>others</td>\n",
       "      <td>8</td>\n",
       "      <td>cross_border</td>\n",
       "      <td>industry_group</td>\n",
       "      <td>Technology</td>\n",
       "      <td>Software &amp; IT Services</td>\n",
       "      <td>Technology</td>\n",
       "      <td>Software &amp; IT Services</td>\n",
       "      <td>0.002050</td>\n",
       "    </tr>\n",
       "    <tr>\n",
       "      <th>9609</th>\n",
       "      <td>Other</td>\n",
       "      <td>full</td>\n",
       "      <td>no</td>\n",
       "      <td>57201030</td>\n",
       "      <td>52203030</td>\n",
       "      <td>others</td>\n",
       "      <td>8</td>\n",
       "      <td>cross_border</td>\n",
       "      <td>not_related</td>\n",
       "      <td>Technology</td>\n",
       "      <td>Software &amp; IT Services</td>\n",
       "      <td>Industrials</td>\n",
       "      <td>Industrial &amp; Commercial Services</td>\n",
       "      <td>0.031459</td>\n",
       "    </tr>\n",
       "    <tr>\n",
       "      <th>9610</th>\n",
       "      <td>Cash</td>\n",
       "      <td>full</td>\n",
       "      <td>no</td>\n",
       "      <td>52102010</td>\n",
       "      <td>59103010</td>\n",
       "      <td>others</td>\n",
       "      <td>8</td>\n",
       "      <td>cross_border</td>\n",
       "      <td>not_related</td>\n",
       "      <td>Industrials</td>\n",
       "      <td>Industrial Goods</td>\n",
       "      <td>Utilities</td>\n",
       "      <td>Utilities</td>\n",
       "      <td>0.020108</td>\n",
       "    </tr>\n",
       "    <tr>\n",
       "      <th>9611</th>\n",
       "      <td>Other</td>\n",
       "      <td>full</td>\n",
       "      <td>no</td>\n",
       "      <td>55101010</td>\n",
       "      <td>52203030</td>\n",
       "      <td>others</td>\n",
       "      <td>8</td>\n",
       "      <td>cross_border</td>\n",
       "      <td>not_related</td>\n",
       "      <td>Financials</td>\n",
       "      <td>Banking &amp; Investment Services</td>\n",
       "      <td>Industrials</td>\n",
       "      <td>Industrial &amp; Commercial Services</td>\n",
       "      <td>-0.025992</td>\n",
       "    </tr>\n",
       "  </tbody>\n",
       "</table>\n",
       "<p>9612 rows × 14 columns</p>\n",
       "</div>"
      ],
      "text/plain": [
       "     consideration_offered shares_acquired shares_at_announcement  \\\n",
       "0                    Other            full                     no   \n",
       "1                     Cash            full                     no   \n",
       "2                    Other            full                     no   \n",
       "3                    Other            full                     no   \n",
       "4                    Other            full                     no   \n",
       "...                    ...             ...                    ...   \n",
       "9607                  Cash            full                     no   \n",
       "9608                 Other            full                     no   \n",
       "9609                 Other            full                     no   \n",
       "9610                  Cash            full                     no   \n",
       "9611                 Other            full                     no   \n",
       "\n",
       "      acquiror_code  target_code target_status  month  cross_border  \\\n",
       "0          57201030     57201020        others      1  cross_border   \n",
       "1          52102010     51101010        others      1      national   \n",
       "2          55101010     55301010        others      1  cross_border   \n",
       "3          55101010     55301010        others      1  cross_border   \n",
       "4          52102050     53205020        others      1  cross_border   \n",
       "...             ...          ...           ...    ...           ...   \n",
       "9607       52102010     52203040        others      8  cross_border   \n",
       "9608       57201010     57201020        others      8  cross_border   \n",
       "9609       57201030     52203030        others      8  cross_border   \n",
       "9610       52102010     59103010        others      8  cross_border   \n",
       "9611       55101010     52203030        others      8  cross_border   \n",
       "\n",
       "          relatedness economic_sector_ac             business_sector_ac  \\\n",
       "0      industry_group         Technology         Software & IT Services   \n",
       "1         not_related        Industrials               Industrial Goods   \n",
       "2     economic_sector         Financials  Banking & Investment Services   \n",
       "3     economic_sector         Financials  Banking & Investment Services   \n",
       "4         not_related        Industrials               Industrial Goods   \n",
       "...               ...                ...                            ...   \n",
       "9607  economic_sector        Industrials               Industrial Goods   \n",
       "9608   industry_group         Technology         Software & IT Services   \n",
       "9609      not_related         Technology         Software & IT Services   \n",
       "9610      not_related        Industrials               Industrial Goods   \n",
       "9611      not_related         Financials  Banking & Investment Services   \n",
       "\n",
       "     economic_sector_target            business_sector_target       car  \n",
       "0                Technology            Software & IT Services  0.007746  \n",
       "1           Basic Materials                         Chemicals -0.011133  \n",
       "2                Financials                         Insurance -0.002947  \n",
       "3                Financials                         Insurance -0.002947  \n",
       "4        Consumer Cyclicals        Cyclical Consumer Products  0.006169  \n",
       "...                     ...                               ...       ...  \n",
       "9607            Industrials  Industrial & Commercial Services  0.015438  \n",
       "9608             Technology            Software & IT Services  0.002050  \n",
       "9609            Industrials  Industrial & Commercial Services  0.031459  \n",
       "9610              Utilities                         Utilities  0.020108  \n",
       "9611            Industrials  Industrial & Commercial Services -0.025992  \n",
       "\n",
       "[9612 rows x 14 columns]"
      ]
     },
     "execution_count": 131,
     "metadata": {},
     "output_type": "execute_result"
    }
   ],
   "source": [
    "d_filtered"
   ]
  },
  {
   "cell_type": "markdown",
   "id": "ccced8e8",
   "metadata": {
    "hidden": true
   },
   "source": [
    "## Splitting "
   ]
  },
  {
   "cell_type": "code",
   "execution_count": 132,
   "id": "c80a219f",
   "metadata": {
    "ExecuteTime": {
     "end_time": "2021-09-13T10:08:03.771516Z",
     "start_time": "2021-09-13T10:08:03.755516Z"
    },
    "hidden": true
   },
   "outputs": [],
   "source": [
    "y=d_filtered['car']"
   ]
  },
  {
   "cell_type": "code",
   "execution_count": 133,
   "id": "9c339091",
   "metadata": {
    "ExecuteTime": {
     "end_time": "2021-09-13T10:08:04.100174Z",
     "start_time": "2021-09-13T10:08:04.080622Z"
    },
    "hidden": true
   },
   "outputs": [],
   "source": [
    "X=d_filtered[['consideration_offered', 'shares_acquired', 'shares_at_announcement', 'month', 'cross_border', 'relatedness',\n",
    "       'economic_sector_ac', 'business_sector_ac', 'economic_sector_target', 'target_status',\n",
    "       'business_sector_target']]"
   ]
  },
  {
   "cell_type": "code",
   "execution_count": 134,
   "id": "578ec658",
   "metadata": {
    "ExecuteTime": {
     "end_time": "2021-09-13T10:08:04.360684Z",
     "start_time": "2021-09-13T10:08:04.333975Z"
    },
    "hidden": true
   },
   "outputs": [],
   "source": [
    "from sklearn.model_selection import train_test_split\n",
    "X_train, X_test, y_train, y_test = train_test_split(X,y, test_size=0.3, random_state=0)"
   ]
  },
  {
   "cell_type": "markdown",
   "id": "16fe3525",
   "metadata": {
    "hidden": true
   },
   "source": [
    "## Pipeline"
   ]
  },
  {
   "cell_type": "code",
   "execution_count": 135,
   "id": "f5bfac84",
   "metadata": {
    "ExecuteTime": {
     "end_time": "2021-09-13T10:08:05.038354Z",
     "start_time": "2021-09-13T10:08:05.019310Z"
    },
    "hidden": true
   },
   "outputs": [],
   "source": [
    "cat_transformer = OneHotEncoder(handle_unknown='ignore')"
   ]
  },
  {
   "cell_type": "code",
   "execution_count": 136,
   "id": "a7a95fc6",
   "metadata": {
    "ExecuteTime": {
     "end_time": "2021-09-13T10:08:05.613771Z",
     "start_time": "2021-09-13T10:08:05.603858Z"
    },
    "hidden": true
   },
   "outputs": [],
   "source": [
    "cat_features=['consideration_offered', 'shares_acquired', 'shares_at_announcement', 'month', 'cross_border', 'relatedness',\n",
    "       'economic_sector_ac', 'business_sector_ac', 'economic_sector_target',  'target_status',\n",
    "       'business_sector_target']"
   ]
  },
  {
   "cell_type": "code",
   "execution_count": 137,
   "id": "2a37c08c",
   "metadata": {
    "ExecuteTime": {
     "end_time": "2021-09-13T10:08:05.837782Z",
     "start_time": "2021-09-13T10:08:05.815949Z"
    },
    "hidden": true
   },
   "outputs": [],
   "source": [
    "preprocessor = ColumnTransformer([\n",
    "    ('cat_transformer', cat_transformer, cat_features)])"
   ]
  },
  {
   "cell_type": "code",
   "execution_count": 138,
   "id": "b78b5bce",
   "metadata": {
    "ExecuteTime": {
     "end_time": "2021-09-13T10:08:06.016546Z",
     "start_time": "2021-09-13T10:08:06.003416Z"
    },
    "hidden": true
   },
   "outputs": [],
   "source": [
    "pipe = Pipeline([\n",
    "    ('preprocessing', preprocessor),\n",
    "    ('model', LinearRegression())])"
   ]
  },
  {
   "cell_type": "code",
   "execution_count": 139,
   "id": "be836576",
   "metadata": {
    "ExecuteTime": {
     "end_time": "2021-09-13T10:08:07.050950Z",
     "start_time": "2021-09-13T10:08:06.558843Z"
    },
    "hidden": true
   },
   "outputs": [
    {
     "data": {
      "text/plain": [
       "-0.0020277133032756945"
      ]
     },
     "execution_count": 139,
     "metadata": {},
     "output_type": "execute_result"
    }
   ],
   "source": [
    "cross_val_score(pipe, X_train, y_train, cv=5, scoring='neg_mean_squared_error').mean()"
   ]
  },
  {
   "cell_type": "code",
   "execution_count": 140,
   "id": "8454608c",
   "metadata": {
    "ExecuteTime": {
     "end_time": "2021-09-13T10:08:24.378774Z",
     "start_time": "2021-09-13T10:08:23.932334Z"
    },
    "hidden": true
   },
   "outputs": [
    {
     "data": {
      "text/plain": [
       "-0.014902799110255183"
      ]
     },
     "execution_count": 140,
     "metadata": {},
     "output_type": "execute_result"
    }
   ],
   "source": [
    "cross_val_score(pipe, X_train, y_train, cv=5, scoring='r2').mean()"
   ]
  },
  {
   "cell_type": "markdown",
   "id": "846d40de",
   "metadata": {},
   "source": [
    "# Filtering for one industry:"
   ]
  },
  {
   "cell_type": "markdown",
   "id": "e3a3ae31",
   "metadata": {
    "heading_collapsed": true
   },
   "source": [
    "## 'Industrials'"
   ]
  },
  {
   "cell_type": "markdown",
   "id": "ff41bda9",
   "metadata": {
    "ExecuteTime": {
     "end_time": "2021-09-13T10:05:18.395110Z",
     "start_time": "2021-09-13T10:05:18.390089Z"
    },
    "heading_collapsed": true,
    "hidden": true
   },
   "source": [
    "### Filtering"
   ]
  },
  {
   "cell_type": "code",
   "execution_count": 141,
   "id": "75b4c1d0",
   "metadata": {
    "ExecuteTime": {
     "end_time": "2021-09-13T10:08:27.581450Z",
     "start_time": "2021-09-13T10:08:27.550274Z"
    },
    "hidden": true
   },
   "outputs": [],
   "source": [
    "d_industrials=data[data['economic_sector_ac'].str.match('Industrials')].reset_index(drop=True)"
   ]
  },
  {
   "cell_type": "code",
   "execution_count": 142,
   "id": "257f30d6",
   "metadata": {
    "ExecuteTime": {
     "end_time": "2021-09-13T10:08:28.754289Z",
     "start_time": "2021-09-13T10:08:28.737200Z"
    },
    "hidden": true
   },
   "outputs": [],
   "source": [
    "y=d_industrials['car']"
   ]
  },
  {
   "cell_type": "code",
   "execution_count": 143,
   "id": "c93f3bc1",
   "metadata": {
    "ExecuteTime": {
     "end_time": "2021-09-13T10:08:28.987386Z",
     "start_time": "2021-09-13T10:08:28.978499Z"
    },
    "hidden": true
   },
   "outputs": [],
   "source": [
    "X=d_industrials[['consideration_offered', 'shares_acquired', 'shares_at_announcement', 'month', 'cross_border', 'relatedness',\n",
    "       'economic_sector_ac', 'business_sector_ac', 'economic_sector_target', 'target_status',\n",
    "       'business_sector_target']]"
   ]
  },
  {
   "cell_type": "markdown",
   "id": "232fe594",
   "metadata": {
    "heading_collapsed": true,
    "hidden": true
   },
   "source": [
    "### Splitting"
   ]
  },
  {
   "cell_type": "code",
   "execution_count": 144,
   "id": "b69f1115",
   "metadata": {
    "ExecuteTime": {
     "end_time": "2021-09-13T10:08:30.118014Z",
     "start_time": "2021-09-13T10:08:30.104214Z"
    },
    "hidden": true
   },
   "outputs": [],
   "source": [
    "from sklearn.model_selection import train_test_split\n",
    "X_train, X_test, y_train, y_test = train_test_split(X,y, test_size=0.3, random_state=0)"
   ]
  },
  {
   "cell_type": "markdown",
   "id": "a2165dc8",
   "metadata": {
    "heading_collapsed": true,
    "hidden": true
   },
   "source": [
    "### Pipeline"
   ]
  },
  {
   "cell_type": "code",
   "execution_count": 145,
   "id": "2edb4eb3",
   "metadata": {
    "ExecuteTime": {
     "end_time": "2021-09-13T10:08:31.419127Z",
     "start_time": "2021-09-13T10:08:31.415240Z"
    },
    "hidden": true
   },
   "outputs": [],
   "source": [
    "cat_transformer = OneHotEncoder(handle_unknown='ignore')"
   ]
  },
  {
   "cell_type": "code",
   "execution_count": 146,
   "id": "7959e5f6",
   "metadata": {
    "ExecuteTime": {
     "end_time": "2021-09-13T10:08:31.787625Z",
     "start_time": "2021-09-13T10:08:31.777667Z"
    },
    "hidden": true
   },
   "outputs": [],
   "source": [
    "cat_features=['consideration_offered', 'shares_acquired', 'shares_at_announcement', 'month', 'cross_border', 'relatedness',\n",
    "       'economic_sector_ac', 'business_sector_ac', 'economic_sector_target', 'target_status',\n",
    "       'business_sector_target']"
   ]
  },
  {
   "cell_type": "code",
   "execution_count": 147,
   "id": "707b41e4",
   "metadata": {
    "ExecuteTime": {
     "end_time": "2021-09-13T10:08:32.670927Z",
     "start_time": "2021-09-13T10:08:32.666670Z"
    },
    "hidden": true
   },
   "outputs": [],
   "source": [
    "preprocessor = ColumnTransformer([\n",
    "    ('cat_transformer', cat_transformer, cat_features)])"
   ]
  },
  {
   "cell_type": "code",
   "execution_count": 148,
   "id": "bd9d9905",
   "metadata": {
    "ExecuteTime": {
     "end_time": "2021-09-13T10:08:33.005749Z",
     "start_time": "2021-09-13T10:08:32.993200Z"
    },
    "hidden": true
   },
   "outputs": [],
   "source": [
    "pipe = Pipeline([\n",
    "    ('preprocessing', preprocessor),\n",
    "    ('model', LinearRegression())])"
   ]
  },
  {
   "cell_type": "code",
   "execution_count": 149,
   "id": "d3bfd777",
   "metadata": {
    "ExecuteTime": {
     "end_time": "2021-09-13T10:08:33.699434Z",
     "start_time": "2021-09-13T10:08:33.409235Z"
    },
    "hidden": true
   },
   "outputs": [
    {
     "data": {
      "text/plain": [
       "-0.0023978933778701834"
      ]
     },
     "execution_count": 149,
     "metadata": {},
     "output_type": "execute_result"
    }
   ],
   "source": [
    "cross_val_score(pipe, X_train, y_train, cv=5, scoring='neg_mean_squared_error').mean()"
   ]
  },
  {
   "cell_type": "code",
   "execution_count": 150,
   "id": "d6bc2b27",
   "metadata": {
    "ExecuteTime": {
     "end_time": "2021-09-13T10:08:48.923494Z",
     "start_time": "2021-09-13T10:08:48.621924Z"
    },
    "hidden": true
   },
   "outputs": [
    {
     "data": {
      "text/plain": [
       "-0.036430491581535974"
      ]
     },
     "execution_count": 150,
     "metadata": {},
     "output_type": "execute_result"
    }
   ],
   "source": [
    "cross_val_score(pipe, X_train, y_train, cv=5, scoring='r2').mean()"
   ]
  },
  {
   "cell_type": "markdown",
   "id": "9fab6d1e",
   "metadata": {
    "heading_collapsed": true
   },
   "source": [
    "## 'Technology'"
   ]
  },
  {
   "cell_type": "markdown",
   "id": "ac9c410b",
   "metadata": {
    "ExecuteTime": {
     "end_time": "2021-09-13T10:05:18.395110Z",
     "start_time": "2021-09-13T10:05:18.390089Z"
    },
    "hidden": true
   },
   "source": [
    "### Filtering"
   ]
  },
  {
   "cell_type": "code",
   "execution_count": 154,
   "id": "4238fcf8",
   "metadata": {
    "ExecuteTime": {
     "end_time": "2021-09-13T10:12:12.615306Z",
     "start_time": "2021-09-13T10:12:12.583150Z"
    },
    "hidden": true
   },
   "outputs": [],
   "source": [
    "d_tech=data[data['economic_sector_ac'].str.match('Technology')].reset_index(drop=True)"
   ]
  },
  {
   "cell_type": "code",
   "execution_count": 155,
   "id": "1f91c5cf",
   "metadata": {
    "ExecuteTime": {
     "end_time": "2021-09-13T10:12:22.286095Z",
     "start_time": "2021-09-13T10:12:22.280086Z"
    },
    "hidden": true
   },
   "outputs": [],
   "source": [
    "y=d_tech['car']"
   ]
  },
  {
   "cell_type": "code",
   "execution_count": 156,
   "id": "350a993a",
   "metadata": {
    "ExecuteTime": {
     "end_time": "2021-09-13T10:12:22.706220Z",
     "start_time": "2021-09-13T10:12:22.700924Z"
    },
    "hidden": true
   },
   "outputs": [],
   "source": [
    "X=d_tech[['consideration_offered', 'shares_acquired', 'shares_at_announcement', 'month', 'cross_border', 'relatedness',\n",
    "       'economic_sector_ac', 'business_sector_ac', 'economic_sector_target', 'target_status',\n",
    "       'business_sector_target']]"
   ]
  },
  {
   "cell_type": "markdown",
   "id": "3efcf778",
   "metadata": {
    "hidden": true
   },
   "source": [
    "### Splitting"
   ]
  },
  {
   "cell_type": "code",
   "execution_count": 157,
   "id": "0d34303d",
   "metadata": {
    "ExecuteTime": {
     "end_time": "2021-09-13T10:12:24.455445Z",
     "start_time": "2021-09-13T10:12:24.439912Z"
    },
    "hidden": true
   },
   "outputs": [],
   "source": [
    "from sklearn.model_selection import train_test_split\n",
    "X_train, X_test, y_train, y_test = train_test_split(X,y, test_size=0.3, random_state=0)"
   ]
  },
  {
   "cell_type": "markdown",
   "id": "ef9e183b",
   "metadata": {
    "hidden": true
   },
   "source": [
    "### Pipeline"
   ]
  },
  {
   "cell_type": "code",
   "execution_count": 158,
   "id": "bcf64771",
   "metadata": {
    "ExecuteTime": {
     "end_time": "2021-09-13T10:12:25.358381Z",
     "start_time": "2021-09-13T10:12:25.350895Z"
    },
    "hidden": true
   },
   "outputs": [],
   "source": [
    "cat_transformer = OneHotEncoder(handle_unknown='ignore')"
   ]
  },
  {
   "cell_type": "code",
   "execution_count": 159,
   "id": "1b85f01c",
   "metadata": {
    "ExecuteTime": {
     "end_time": "2021-09-13T10:12:25.555402Z",
     "start_time": "2021-09-13T10:12:25.549491Z"
    },
    "hidden": true
   },
   "outputs": [],
   "source": [
    "cat_features=['consideration_offered', 'shares_acquired', 'shares_at_announcement', 'month', 'cross_border', 'relatedness',\n",
    "       'economic_sector_ac', 'business_sector_ac', 'economic_sector_target', 'target_status',\n",
    "       'business_sector_target']"
   ]
  },
  {
   "cell_type": "code",
   "execution_count": 160,
   "id": "c776fe41",
   "metadata": {
    "ExecuteTime": {
     "end_time": "2021-09-13T10:12:25.724445Z",
     "start_time": "2021-09-13T10:12:25.717167Z"
    },
    "hidden": true
   },
   "outputs": [],
   "source": [
    "preprocessor = ColumnTransformer([\n",
    "    ('cat_transformer', cat_transformer, cat_features)])"
   ]
  },
  {
   "cell_type": "code",
   "execution_count": 161,
   "id": "7951d28e",
   "metadata": {
    "ExecuteTime": {
     "end_time": "2021-09-13T10:12:27.015435Z",
     "start_time": "2021-09-13T10:12:27.007499Z"
    },
    "hidden": true
   },
   "outputs": [],
   "source": [
    "pipe = Pipeline([\n",
    "    ('preprocessing', preprocessor),\n",
    "    ('model', LinearRegression())])"
   ]
  },
  {
   "cell_type": "code",
   "execution_count": 162,
   "id": "2980f520",
   "metadata": {
    "ExecuteTime": {
     "end_time": "2021-09-13T10:12:27.878113Z",
     "start_time": "2021-09-13T10:12:27.612310Z"
    },
    "hidden": true
   },
   "outputs": [
    {
     "data": {
      "text/plain": [
       "-0.0024472570271191476"
      ]
     },
     "execution_count": 162,
     "metadata": {},
     "output_type": "execute_result"
    }
   ],
   "source": [
    "cross_val_score(pipe, X_train, y_train, cv=5, scoring='neg_mean_squared_error').mean()"
   ]
  },
  {
   "cell_type": "code",
   "execution_count": 163,
   "id": "700b87aa",
   "metadata": {
    "ExecuteTime": {
     "end_time": "2021-09-13T10:12:29.762132Z",
     "start_time": "2021-09-13T10:12:29.456658Z"
    },
    "hidden": true
   },
   "outputs": [
    {
     "data": {
      "text/plain": [
       "-0.03873172307462773"
      ]
     },
     "execution_count": 163,
     "metadata": {},
     "output_type": "execute_result"
    }
   ],
   "source": [
    "cross_val_score(pipe, X_train, y_train, cv=5, scoring='r2').mean()"
   ]
  },
  {
   "cell_type": "markdown",
   "id": "f2399bad",
   "metadata": {
    "heading_collapsed": true
   },
   "source": [
    "## 'Financials'"
   ]
  },
  {
   "cell_type": "markdown",
   "id": "1c82878e",
   "metadata": {
    "hidden": true
   },
   "source": [
    "### Baseline"
   ]
  },
  {
   "cell_type": "markdown",
   "id": "762ba256",
   "metadata": {
    "ExecuteTime": {
     "end_time": "2021-09-13T10:05:18.395110Z",
     "start_time": "2021-09-13T10:05:18.390089Z"
    },
    "hidden": true
   },
   "source": [
    "### Filtering"
   ]
  },
  {
   "cell_type": "code",
   "execution_count": 165,
   "id": "6328766a",
   "metadata": {
    "ExecuteTime": {
     "end_time": "2021-09-13T10:14:20.961517Z",
     "start_time": "2021-09-13T10:14:20.937234Z"
    },
    "hidden": true
   },
   "outputs": [],
   "source": [
    "d_fin=data[data['economic_sector_ac'].str.match('Financials')].reset_index(drop=True)"
   ]
  },
  {
   "cell_type": "code",
   "execution_count": 166,
   "id": "0c66a7a5",
   "metadata": {
    "ExecuteTime": {
     "end_time": "2021-09-13T10:14:25.723140Z",
     "start_time": "2021-09-13T10:14:25.718253Z"
    },
    "hidden": true
   },
   "outputs": [],
   "source": [
    "y=d_fin['car']"
   ]
  },
  {
   "cell_type": "code",
   "execution_count": 167,
   "id": "b3468019",
   "metadata": {
    "ExecuteTime": {
     "end_time": "2021-09-13T10:14:29.317541Z",
     "start_time": "2021-09-13T10:14:29.300391Z"
    },
    "hidden": true
   },
   "outputs": [],
   "source": [
    "X=d_fin[['consideration_offered', 'shares_acquired', 'shares_at_announcement', 'month', 'cross_border', 'relatedness',\n",
    "       'economic_sector_ac', 'business_sector_ac', 'economic_sector_target', 'target_status',\n",
    "       'business_sector_target']]"
   ]
  },
  {
   "cell_type": "markdown",
   "id": "92c376f3",
   "metadata": {
    "hidden": true
   },
   "source": [
    "### Splitting"
   ]
  },
  {
   "cell_type": "code",
   "execution_count": 168,
   "id": "4e259e93",
   "metadata": {
    "ExecuteTime": {
     "end_time": "2021-09-13T10:14:32.359506Z",
     "start_time": "2021-09-13T10:14:32.351515Z"
    },
    "hidden": true
   },
   "outputs": [],
   "source": [
    "from sklearn.model_selection import train_test_split\n",
    "X_train, X_test, y_train, y_test = train_test_split(X,y, test_size=0.3, random_state=0)"
   ]
  },
  {
   "cell_type": "markdown",
   "id": "18b56779",
   "metadata": {
    "hidden": true
   },
   "source": [
    "### Pipeline"
   ]
  },
  {
   "cell_type": "code",
   "execution_count": 169,
   "id": "37ac469f",
   "metadata": {
    "ExecuteTime": {
     "end_time": "2021-09-13T10:14:33.421600Z",
     "start_time": "2021-09-13T10:14:33.411088Z"
    },
    "hidden": true
   },
   "outputs": [],
   "source": [
    "cat_transformer = OneHotEncoder(handle_unknown='ignore')"
   ]
  },
  {
   "cell_type": "code",
   "execution_count": 170,
   "id": "8d1e92e1",
   "metadata": {
    "ExecuteTime": {
     "end_time": "2021-09-13T10:14:33.739101Z",
     "start_time": "2021-09-13T10:14:33.731565Z"
    },
    "hidden": true
   },
   "outputs": [],
   "source": [
    "cat_features=['consideration_offered', 'shares_acquired', 'shares_at_announcement', 'month', 'cross_border', 'relatedness',\n",
    "       'economic_sector_ac', 'business_sector_ac', 'economic_sector_target', 'target_status',\n",
    "       'business_sector_target']"
   ]
  },
  {
   "cell_type": "code",
   "execution_count": 171,
   "id": "db93ce7c",
   "metadata": {
    "ExecuteTime": {
     "end_time": "2021-09-13T10:14:35.102878Z",
     "start_time": "2021-09-13T10:14:35.094792Z"
    },
    "hidden": true
   },
   "outputs": [],
   "source": [
    "preprocessor = ColumnTransformer([\n",
    "    ('cat_transformer', cat_transformer, cat_features)])"
   ]
  },
  {
   "cell_type": "code",
   "execution_count": 172,
   "id": "370ff4a9",
   "metadata": {
    "ExecuteTime": {
     "end_time": "2021-09-13T10:14:35.436271Z",
     "start_time": "2021-09-13T10:14:35.423369Z"
    },
    "hidden": true
   },
   "outputs": [],
   "source": [
    "pipe = Pipeline([\n",
    "    ('preprocessing', preprocessor),\n",
    "    ('model', LinearRegression())])"
   ]
  },
  {
   "cell_type": "code",
   "execution_count": 173,
   "id": "11cb0aa0",
   "metadata": {
    "ExecuteTime": {
     "end_time": "2021-09-13T10:14:40.343148Z",
     "start_time": "2021-09-13T10:14:39.978515Z"
    },
    "hidden": true
   },
   "outputs": [
    {
     "data": {
      "text/plain": [
       "-0.0015304784917848212"
      ]
     },
     "execution_count": 173,
     "metadata": {},
     "output_type": "execute_result"
    }
   ],
   "source": [
    "cross_val_score(pipe, X_train, y_train, cv=5, scoring='neg_mean_squared_error').mean()"
   ]
  },
  {
   "cell_type": "code",
   "execution_count": 174,
   "id": "99b7a55a",
   "metadata": {
    "ExecuteTime": {
     "end_time": "2021-09-13T10:14:41.671935Z",
     "start_time": "2021-09-13T10:14:41.287455Z"
    },
    "hidden": true
   },
   "outputs": [
    {
     "data": {
      "text/plain": [
       "-0.03633027193853826"
      ]
     },
     "execution_count": 174,
     "metadata": {},
     "output_type": "execute_result"
    }
   ],
   "source": [
    "cross_val_score(pipe, X_train, y_train, cv=5, scoring='r2').mean()"
   ]
  },
  {
   "cell_type": "code",
   "execution_count": null,
   "id": "8adb3235",
   "metadata": {
    "hidden": true
   },
   "outputs": [],
   "source": []
  }
 ],
 "metadata": {
  "kernelspec": {
   "display_name": "Python 3 (ipykernel)",
   "language": "python",
   "name": "python3"
  },
  "language_info": {
   "codemirror_mode": {
    "name": "ipython",
    "version": 3
   },
   "file_extension": ".py",
   "mimetype": "text/x-python",
   "name": "python",
   "nbconvert_exporter": "python",
   "pygments_lexer": "ipython3",
   "version": "3.8.6"
  },
  "toc": {
   "base_numbering": 1,
   "nav_menu": {},
   "number_sections": true,
   "sideBar": true,
   "skip_h1_title": false,
   "title_cell": "Table of Contents",
   "title_sidebar": "Contents",
   "toc_cell": false,
   "toc_position": {},
   "toc_section_display": true,
   "toc_window_display": false
  }
 },
 "nbformat": 4,
 "nbformat_minor": 5
}
