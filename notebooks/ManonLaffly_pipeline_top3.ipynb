{
 "cells": [
  {
   "cell_type": "code",
   "execution_count": 26,
   "id": "ecfe930b",
   "metadata": {
    "ExecuteTime": {
     "end_time": "2021-09-13T09:08:05.834458Z",
     "start_time": "2021-09-13T09:08:05.813202Z"
    }
   },
   "outputs": [],
   "source": [
    "from sklearn.preprocessing import OneHotEncoder\n",
    "from sklearn.compose import ColumnTransformer\n",
    "import numpy as np\n",
    "import pandas as pd\n",
    "from sklearn.model_selection import train_test_split\n",
    "from sklearn.linear_model import LinearRegression\n",
    "from sklearn.model_selection import cross_val_score\n",
    "from sklearn.pipeline import Pipeline\n",
    "from sklearn.ensemble import RandomForestRegressor\n",
    "from xgboost import XGBRegressor\n",
    "from sklearn.ensemble import AdaBoostRegressor\n",
    "from sklearn.ensemble import GradientBoostingRegressor\n",
    "from sklearn.ensemble import BaggingRegressor\n",
    "from sklearn.tree import DecisionTreeRegressor\n",
    "from sklearn.metrics import r2_score,mean_squared_error\n",
    "from sklearn.model_selection import GridSearchCV\n",
    "from sklearn.linear_model import ElasticNet"
   ]
  },
  {
   "cell_type": "markdown",
   "id": "ceffe030",
   "metadata": {},
   "source": [
    "We will now create another pipeline, similar to the one wrote in v1, but only selecting the deals that correspond to the 3 most represented industries. Then, we will evaluate the model without the gridsearch."
   ]
  },
  {
   "cell_type": "code",
   "execution_count": 27,
   "id": "c3b47a5e",
   "metadata": {
    "ExecuteTime": {
     "end_time": "2021-09-13T09:08:06.465590Z",
     "start_time": "2021-09-13T09:08:06.329161Z"
    }
   },
   "outputs": [],
   "source": [
    "data = pd.read_csv('../MA_PREDICTOR/data/ma_data_car_clean.csv')"
   ]
  },
  {
   "cell_type": "code",
   "execution_count": 28,
   "id": "b6e43399",
   "metadata": {
    "ExecuteTime": {
     "end_time": "2021-09-13T09:08:06.591856Z",
     "start_time": "2021-09-13T09:08:06.514977Z"
    },
    "scrolled": true
   },
   "outputs": [
    {
     "data": {
      "text/html": [
       "<div>\n",
       "<style scoped>\n",
       "    .dataframe tbody tr th:only-of-type {\n",
       "        vertical-align: middle;\n",
       "    }\n",
       "\n",
       "    .dataframe tbody tr th {\n",
       "        vertical-align: top;\n",
       "    }\n",
       "\n",
       "    .dataframe thead th {\n",
       "        text-align: right;\n",
       "    }\n",
       "</style>\n",
       "<table border=\"1\" class=\"dataframe\">\n",
       "  <thead>\n",
       "    <tr style=\"text-align: right;\">\n",
       "      <th></th>\n",
       "      <th>consideration_offered</th>\n",
       "      <th>shares_acquired</th>\n",
       "      <th>shares_at_announcement</th>\n",
       "      <th>acquiror_code</th>\n",
       "      <th>target_code</th>\n",
       "      <th>month</th>\n",
       "      <th>cross_border</th>\n",
       "      <th>relatedness</th>\n",
       "      <th>economic_sector_ac</th>\n",
       "      <th>business_sector_ac</th>\n",
       "      <th>economic_sector_target</th>\n",
       "      <th>business_sector_target</th>\n",
       "      <th>car</th>\n",
       "    </tr>\n",
       "  </thead>\n",
       "  <tbody>\n",
       "    <tr>\n",
       "      <th>0</th>\n",
       "      <td>Cash</td>\n",
       "      <td>full</td>\n",
       "      <td>no</td>\n",
       "      <td>50102030</td>\n",
       "      <td>50103030</td>\n",
       "      <td>1</td>\n",
       "      <td>cross_border</td>\n",
       "      <td>business_sector</td>\n",
       "      <td>Energy</td>\n",
       "      <td>Energy - Fossil Fuels</td>\n",
       "      <td>Energy</td>\n",
       "      <td>Energy - Fossil Fuels</td>\n",
       "      <td>0.006854</td>\n",
       "    </tr>\n",
       "    <tr>\n",
       "      <th>1</th>\n",
       "      <td>Other</td>\n",
       "      <td>full</td>\n",
       "      <td>no</td>\n",
       "      <td>54201030</td>\n",
       "      <td>63103010</td>\n",
       "      <td>1</td>\n",
       "      <td>cross_border</td>\n",
       "      <td>not_related</td>\n",
       "      <td>Consumer Non-Cyclicals</td>\n",
       "      <td>Personal &amp; Household Products &amp; Services</td>\n",
       "      <td>Academic &amp; Educational Services</td>\n",
       "      <td>Academic &amp; Educational Services</td>\n",
       "      <td>-0.010266</td>\n",
       "    </tr>\n",
       "    <tr>\n",
       "      <th>2</th>\n",
       "      <td>Other</td>\n",
       "      <td>full</td>\n",
       "      <td>no</td>\n",
       "      <td>57201030</td>\n",
       "      <td>57201020</td>\n",
       "      <td>1</td>\n",
       "      <td>cross_border</td>\n",
       "      <td>industry_group</td>\n",
       "      <td>Technology</td>\n",
       "      <td>Software &amp; IT Services</td>\n",
       "      <td>Technology</td>\n",
       "      <td>Software &amp; IT Services</td>\n",
       "      <td>0.007746</td>\n",
       "    </tr>\n",
       "    <tr>\n",
       "      <th>3</th>\n",
       "      <td>Cash</td>\n",
       "      <td>full</td>\n",
       "      <td>no</td>\n",
       "      <td>52102010</td>\n",
       "      <td>51101010</td>\n",
       "      <td>1</td>\n",
       "      <td>national</td>\n",
       "      <td>not_related</td>\n",
       "      <td>Industrials</td>\n",
       "      <td>Industrial Goods</td>\n",
       "      <td>Basic Materials</td>\n",
       "      <td>Chemicals</td>\n",
       "      <td>-0.011133</td>\n",
       "    </tr>\n",
       "    <tr>\n",
       "      <th>4</th>\n",
       "      <td>Cash</td>\n",
       "      <td>not_full</td>\n",
       "      <td>no</td>\n",
       "      <td>50102030</td>\n",
       "      <td>50102030</td>\n",
       "      <td>1</td>\n",
       "      <td>cross_border</td>\n",
       "      <td>industry</td>\n",
       "      <td>Energy</td>\n",
       "      <td>Energy - Fossil Fuels</td>\n",
       "      <td>Energy</td>\n",
       "      <td>Energy - Fossil Fuels</td>\n",
       "      <td>-0.003971</td>\n",
       "    </tr>\n",
       "  </tbody>\n",
       "</table>\n",
       "</div>"
      ],
      "text/plain": [
       "  consideration_offered shares_acquired shares_at_announcement  acquiror_code  \\\n",
       "0                  Cash            full                     no       50102030   \n",
       "1                 Other            full                     no       54201030   \n",
       "2                 Other            full                     no       57201030   \n",
       "3                  Cash            full                     no       52102010   \n",
       "4                  Cash        not_full                     no       50102030   \n",
       "\n",
       "   target_code  month  cross_border      relatedness      economic_sector_ac  \\\n",
       "0     50103030      1  cross_border  business_sector                  Energy   \n",
       "1     63103010      1  cross_border      not_related  Consumer Non-Cyclicals   \n",
       "2     57201020      1  cross_border   industry_group              Technology   \n",
       "3     51101010      1      national      not_related             Industrials   \n",
       "4     50102030      1  cross_border         industry                  Energy   \n",
       "\n",
       "                         business_sector_ac           economic_sector_target  \\\n",
       "0                     Energy - Fossil Fuels                           Energy   \n",
       "1  Personal & Household Products & Services  Academic & Educational Services   \n",
       "2                    Software & IT Services                       Technology   \n",
       "3                          Industrial Goods                  Basic Materials   \n",
       "4                     Energy - Fossil Fuels                           Energy   \n",
       "\n",
       "            business_sector_target       car  \n",
       "0            Energy - Fossil Fuels  0.006854  \n",
       "1  Academic & Educational Services -0.010266  \n",
       "2           Software & IT Services  0.007746  \n",
       "3                        Chemicals -0.011133  \n",
       "4            Energy - Fossil Fuels -0.003971  "
      ]
     },
     "execution_count": 28,
     "metadata": {},
     "output_type": "execute_result"
    }
   ],
   "source": [
    "data.head()"
   ]
  },
  {
   "cell_type": "markdown",
   "id": "944a35e7",
   "metadata": {
    "ExecuteTime": {
     "end_time": "2021-09-13T08:51:45.426898Z",
     "start_time": "2021-09-13T08:51:45.408744Z"
    }
   },
   "source": [
    "- 52: 'Industrials'\n",
    "- 55: 'Financials'\n",
    "- 57: 'Technology'"
   ]
  },
  {
   "cell_type": "markdown",
   "id": "f24676db",
   "metadata": {},
   "source": [
    "# Filtering"
   ]
  },
  {
   "cell_type": "code",
   "execution_count": 29,
   "id": "f493df24",
   "metadata": {
    "ExecuteTime": {
     "end_time": "2021-09-13T09:08:07.194943Z",
     "start_time": "2021-09-13T09:08:07.153493Z"
    }
   },
   "outputs": [],
   "source": [
    "d_filtered=data[data['economic_sector_ac'].str.match('Industrials|Financials|Technology')].reset_index(drop=True)"
   ]
  },
  {
   "cell_type": "code",
   "execution_count": 30,
   "id": "2f1c5298",
   "metadata": {
    "ExecuteTime": {
     "end_time": "2021-09-13T09:08:07.453317Z",
     "start_time": "2021-09-13T09:08:07.401252Z"
    }
   },
   "outputs": [
    {
     "data": {
      "text/html": [
       "<div>\n",
       "<style scoped>\n",
       "    .dataframe tbody tr th:only-of-type {\n",
       "        vertical-align: middle;\n",
       "    }\n",
       "\n",
       "    .dataframe tbody tr th {\n",
       "        vertical-align: top;\n",
       "    }\n",
       "\n",
       "    .dataframe thead th {\n",
       "        text-align: right;\n",
       "    }\n",
       "</style>\n",
       "<table border=\"1\" class=\"dataframe\">\n",
       "  <thead>\n",
       "    <tr style=\"text-align: right;\">\n",
       "      <th></th>\n",
       "      <th>consideration_offered</th>\n",
       "      <th>shares_acquired</th>\n",
       "      <th>shares_at_announcement</th>\n",
       "      <th>acquiror_code</th>\n",
       "      <th>target_code</th>\n",
       "      <th>month</th>\n",
       "      <th>cross_border</th>\n",
       "      <th>relatedness</th>\n",
       "      <th>economic_sector_ac</th>\n",
       "      <th>business_sector_ac</th>\n",
       "      <th>economic_sector_target</th>\n",
       "      <th>business_sector_target</th>\n",
       "      <th>car</th>\n",
       "    </tr>\n",
       "  </thead>\n",
       "  <tbody>\n",
       "    <tr>\n",
       "      <th>0</th>\n",
       "      <td>Other</td>\n",
       "      <td>full</td>\n",
       "      <td>no</td>\n",
       "      <td>57201030</td>\n",
       "      <td>57201020</td>\n",
       "      <td>1</td>\n",
       "      <td>cross_border</td>\n",
       "      <td>industry_group</td>\n",
       "      <td>Technology</td>\n",
       "      <td>Software &amp; IT Services</td>\n",
       "      <td>Technology</td>\n",
       "      <td>Software &amp; IT Services</td>\n",
       "      <td>0.007746</td>\n",
       "    </tr>\n",
       "    <tr>\n",
       "      <th>1</th>\n",
       "      <td>Cash</td>\n",
       "      <td>full</td>\n",
       "      <td>no</td>\n",
       "      <td>52102010</td>\n",
       "      <td>51101010</td>\n",
       "      <td>1</td>\n",
       "      <td>national</td>\n",
       "      <td>not_related</td>\n",
       "      <td>Industrials</td>\n",
       "      <td>Industrial Goods</td>\n",
       "      <td>Basic Materials</td>\n",
       "      <td>Chemicals</td>\n",
       "      <td>-0.011133</td>\n",
       "    </tr>\n",
       "    <tr>\n",
       "      <th>2</th>\n",
       "      <td>Other</td>\n",
       "      <td>full</td>\n",
       "      <td>no</td>\n",
       "      <td>55101010</td>\n",
       "      <td>55301010</td>\n",
       "      <td>1</td>\n",
       "      <td>cross_border</td>\n",
       "      <td>economic_sector</td>\n",
       "      <td>Financials</td>\n",
       "      <td>Banking &amp; Investment Services</td>\n",
       "      <td>Financials</td>\n",
       "      <td>Insurance</td>\n",
       "      <td>-0.002947</td>\n",
       "    </tr>\n",
       "    <tr>\n",
       "      <th>3</th>\n",
       "      <td>Other</td>\n",
       "      <td>full</td>\n",
       "      <td>no</td>\n",
       "      <td>55101010</td>\n",
       "      <td>55301010</td>\n",
       "      <td>1</td>\n",
       "      <td>cross_border</td>\n",
       "      <td>economic_sector</td>\n",
       "      <td>Financials</td>\n",
       "      <td>Banking &amp; Investment Services</td>\n",
       "      <td>Financials</td>\n",
       "      <td>Insurance</td>\n",
       "      <td>-0.002947</td>\n",
       "    </tr>\n",
       "    <tr>\n",
       "      <th>4</th>\n",
       "      <td>Other</td>\n",
       "      <td>full</td>\n",
       "      <td>no</td>\n",
       "      <td>52102050</td>\n",
       "      <td>53205020</td>\n",
       "      <td>1</td>\n",
       "      <td>cross_border</td>\n",
       "      <td>not_related</td>\n",
       "      <td>Industrials</td>\n",
       "      <td>Industrial Goods</td>\n",
       "      <td>Consumer Cyclicals</td>\n",
       "      <td>Cyclical Consumer Products</td>\n",
       "      <td>0.006169</td>\n",
       "    </tr>\n",
       "    <tr>\n",
       "      <th>...</th>\n",
       "      <td>...</td>\n",
       "      <td>...</td>\n",
       "      <td>...</td>\n",
       "      <td>...</td>\n",
       "      <td>...</td>\n",
       "      <td>...</td>\n",
       "      <td>...</td>\n",
       "      <td>...</td>\n",
       "      <td>...</td>\n",
       "      <td>...</td>\n",
       "      <td>...</td>\n",
       "      <td>...</td>\n",
       "      <td>...</td>\n",
       "    </tr>\n",
       "    <tr>\n",
       "      <th>9607</th>\n",
       "      <td>Cash</td>\n",
       "      <td>full</td>\n",
       "      <td>no</td>\n",
       "      <td>52102010</td>\n",
       "      <td>52203040</td>\n",
       "      <td>8</td>\n",
       "      <td>cross_border</td>\n",
       "      <td>economic_sector</td>\n",
       "      <td>Industrials</td>\n",
       "      <td>Industrial Goods</td>\n",
       "      <td>Industrials</td>\n",
       "      <td>Industrial &amp; Commercial Services</td>\n",
       "      <td>0.015438</td>\n",
       "    </tr>\n",
       "    <tr>\n",
       "      <th>9608</th>\n",
       "      <td>Other</td>\n",
       "      <td>full</td>\n",
       "      <td>no</td>\n",
       "      <td>57201010</td>\n",
       "      <td>57201020</td>\n",
       "      <td>8</td>\n",
       "      <td>cross_border</td>\n",
       "      <td>industry_group</td>\n",
       "      <td>Technology</td>\n",
       "      <td>Software &amp; IT Services</td>\n",
       "      <td>Technology</td>\n",
       "      <td>Software &amp; IT Services</td>\n",
       "      <td>0.002050</td>\n",
       "    </tr>\n",
       "    <tr>\n",
       "      <th>9609</th>\n",
       "      <td>Other</td>\n",
       "      <td>full</td>\n",
       "      <td>no</td>\n",
       "      <td>57201030</td>\n",
       "      <td>52203030</td>\n",
       "      <td>8</td>\n",
       "      <td>cross_border</td>\n",
       "      <td>not_related</td>\n",
       "      <td>Technology</td>\n",
       "      <td>Software &amp; IT Services</td>\n",
       "      <td>Industrials</td>\n",
       "      <td>Industrial &amp; Commercial Services</td>\n",
       "      <td>0.031459</td>\n",
       "    </tr>\n",
       "    <tr>\n",
       "      <th>9610</th>\n",
       "      <td>Cash</td>\n",
       "      <td>full</td>\n",
       "      <td>no</td>\n",
       "      <td>52102010</td>\n",
       "      <td>59103010</td>\n",
       "      <td>8</td>\n",
       "      <td>cross_border</td>\n",
       "      <td>not_related</td>\n",
       "      <td>Industrials</td>\n",
       "      <td>Industrial Goods</td>\n",
       "      <td>Utilities</td>\n",
       "      <td>Utilities</td>\n",
       "      <td>0.020108</td>\n",
       "    </tr>\n",
       "    <tr>\n",
       "      <th>9611</th>\n",
       "      <td>Other</td>\n",
       "      <td>full</td>\n",
       "      <td>no</td>\n",
       "      <td>55101010</td>\n",
       "      <td>52203030</td>\n",
       "      <td>8</td>\n",
       "      <td>cross_border</td>\n",
       "      <td>not_related</td>\n",
       "      <td>Financials</td>\n",
       "      <td>Banking &amp; Investment Services</td>\n",
       "      <td>Industrials</td>\n",
       "      <td>Industrial &amp; Commercial Services</td>\n",
       "      <td>-0.025992</td>\n",
       "    </tr>\n",
       "  </tbody>\n",
       "</table>\n",
       "<p>9612 rows × 13 columns</p>\n",
       "</div>"
      ],
      "text/plain": [
       "     consideration_offered shares_acquired shares_at_announcement  \\\n",
       "0                    Other            full                     no   \n",
       "1                     Cash            full                     no   \n",
       "2                    Other            full                     no   \n",
       "3                    Other            full                     no   \n",
       "4                    Other            full                     no   \n",
       "...                    ...             ...                    ...   \n",
       "9607                  Cash            full                     no   \n",
       "9608                 Other            full                     no   \n",
       "9609                 Other            full                     no   \n",
       "9610                  Cash            full                     no   \n",
       "9611                 Other            full                     no   \n",
       "\n",
       "      acquiror_code  target_code  month  cross_border      relatedness  \\\n",
       "0          57201030     57201020      1  cross_border   industry_group   \n",
       "1          52102010     51101010      1      national      not_related   \n",
       "2          55101010     55301010      1  cross_border  economic_sector   \n",
       "3          55101010     55301010      1  cross_border  economic_sector   \n",
       "4          52102050     53205020      1  cross_border      not_related   \n",
       "...             ...          ...    ...           ...              ...   \n",
       "9607       52102010     52203040      8  cross_border  economic_sector   \n",
       "9608       57201010     57201020      8  cross_border   industry_group   \n",
       "9609       57201030     52203030      8  cross_border      not_related   \n",
       "9610       52102010     59103010      8  cross_border      not_related   \n",
       "9611       55101010     52203030      8  cross_border      not_related   \n",
       "\n",
       "     economic_sector_ac             business_sector_ac economic_sector_target  \\\n",
       "0            Technology         Software & IT Services             Technology   \n",
       "1           Industrials               Industrial Goods        Basic Materials   \n",
       "2            Financials  Banking & Investment Services             Financials   \n",
       "3            Financials  Banking & Investment Services             Financials   \n",
       "4           Industrials               Industrial Goods     Consumer Cyclicals   \n",
       "...                 ...                            ...                    ...   \n",
       "9607        Industrials               Industrial Goods            Industrials   \n",
       "9608         Technology         Software & IT Services             Technology   \n",
       "9609         Technology         Software & IT Services            Industrials   \n",
       "9610        Industrials               Industrial Goods              Utilities   \n",
       "9611         Financials  Banking & Investment Services            Industrials   \n",
       "\n",
       "                business_sector_target       car  \n",
       "0               Software & IT Services  0.007746  \n",
       "1                            Chemicals -0.011133  \n",
       "2                            Insurance -0.002947  \n",
       "3                            Insurance -0.002947  \n",
       "4           Cyclical Consumer Products  0.006169  \n",
       "...                                ...       ...  \n",
       "9607  Industrial & Commercial Services  0.015438  \n",
       "9608            Software & IT Services  0.002050  \n",
       "9609  Industrial & Commercial Services  0.031459  \n",
       "9610                         Utilities  0.020108  \n",
       "9611  Industrial & Commercial Services -0.025992  \n",
       "\n",
       "[9612 rows x 13 columns]"
      ]
     },
     "execution_count": 30,
     "metadata": {},
     "output_type": "execute_result"
    }
   ],
   "source": [
    "d_filtered"
   ]
  },
  {
   "cell_type": "markdown",
   "id": "169a4788",
   "metadata": {},
   "source": [
    "# Splitting "
   ]
  },
  {
   "cell_type": "code",
   "execution_count": 31,
   "id": "cbb211f2",
   "metadata": {
    "ExecuteTime": {
     "end_time": "2021-09-13T09:08:08.859547Z",
     "start_time": "2021-09-13T09:08:08.850849Z"
    }
   },
   "outputs": [],
   "source": [
    "y=d_filtered['car']"
   ]
  },
  {
   "cell_type": "code",
   "execution_count": 32,
   "id": "c4fe8328",
   "metadata": {
    "ExecuteTime": {
     "end_time": "2021-09-13T09:08:09.761266Z",
     "start_time": "2021-09-13T09:08:09.741633Z"
    }
   },
   "outputs": [],
   "source": [
    "X=d_filtered[['consideration_offered', 'shares_acquired', 'shares_at_announcement', 'month', 'cross_border', 'relatedness',\n",
    "       'economic_sector_ac', 'business_sector_ac', 'economic_sector_target',\n",
    "       'business_sector_target']]"
   ]
  },
  {
   "cell_type": "code",
   "execution_count": 33,
   "id": "390363ed",
   "metadata": {
    "ExecuteTime": {
     "end_time": "2021-09-13T09:08:13.989874Z",
     "start_time": "2021-09-13T09:08:13.966926Z"
    }
   },
   "outputs": [],
   "source": [
    "from sklearn.model_selection import train_test_split\n",
    "X_train, X_test, y_train, y_test = train_test_split(X,y, test_size=0.3, random_state=0)"
   ]
  },
  {
   "cell_type": "markdown",
   "id": "0468cb47",
   "metadata": {},
   "source": [
    "# Pipeline"
   ]
  },
  {
   "cell_type": "code",
   "execution_count": 34,
   "id": "5bc994fe",
   "metadata": {
    "ExecuteTime": {
     "end_time": "2021-09-13T09:09:05.741866Z",
     "start_time": "2021-09-13T09:09:05.737667Z"
    }
   },
   "outputs": [],
   "source": [
    "cat_transformer = OneHotEncoder(handle_unknown='ignore')"
   ]
  },
  {
   "cell_type": "code",
   "execution_count": 35,
   "id": "70c13c71",
   "metadata": {
    "ExecuteTime": {
     "end_time": "2021-09-13T09:09:11.350550Z",
     "start_time": "2021-09-13T09:09:11.332425Z"
    }
   },
   "outputs": [],
   "source": [
    "cat_features=['consideration_offered', 'shares_acquired', 'shares_at_announcement', 'month', 'cross_border', 'relatedness',\n",
    "       'economic_sector_ac', 'business_sector_ac', 'economic_sector_target',\n",
    "       'business_sector_target']"
   ]
  },
  {
   "cell_type": "code",
   "execution_count": 36,
   "id": "f35e108d",
   "metadata": {
    "ExecuteTime": {
     "end_time": "2021-09-13T09:09:18.115664Z",
     "start_time": "2021-09-13T09:09:18.110914Z"
    }
   },
   "outputs": [],
   "source": [
    "preprocessor = ColumnTransformer([\n",
    "    ('cat_transformer', cat_transformer, cat_features)])"
   ]
  },
  {
   "cell_type": "code",
   "execution_count": null,
   "id": "5b5b6d7e",
   "metadata": {},
   "outputs": [],
   "source": [
    "pipe = Pipeline([\n",
    "    ('preprocessing', preprocessor),\n",
    "    ('model', Linear)])"
   ]
  }
 ],
 "metadata": {
  "kernelspec": {
   "display_name": "Python 3 (ipykernel)",
   "language": "python",
   "name": "python3"
  },
  "language_info": {
   "codemirror_mode": {
    "name": "ipython",
    "version": 3
   },
   "file_extension": ".py",
   "mimetype": "text/x-python",
   "name": "python",
   "nbconvert_exporter": "python",
   "pygments_lexer": "ipython3",
   "version": "3.8.6"
  },
  "toc": {
   "base_numbering": 1,
   "nav_menu": {},
   "number_sections": true,
   "sideBar": true,
   "skip_h1_title": false,
   "title_cell": "Table of Contents",
   "title_sidebar": "Contents",
   "toc_cell": false,
   "toc_position": {},
   "toc_section_display": true,
   "toc_window_display": false
  }
 },
 "nbformat": 4,
 "nbformat_minor": 5
}
