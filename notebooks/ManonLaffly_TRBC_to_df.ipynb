{
 "cells": [
  {
   "cell_type": "code",
   "execution_count": null,
   "id": "d304e478",
   "metadata": {},
   "outputs": [],
   "source": [
    "Only push this a new branch made for this purpose. "
   ]
  },
  {
   "cell_type": "code",
   "execution_count": 1,
   "id": "db37eb70",
   "metadata": {},
   "outputs": [],
   "source": [
    "import pandas as pd"
   ]
  },
  {
   "cell_type": "code",
   "execution_count": 10,
   "id": "2e6de3e4",
   "metadata": {},
   "outputs": [],
   "source": [
    "TRBC_industry = pd.read_excel('/Users/manonlaffly/code/cobergmann/MA_PREDICTOR/raw_data/TRBC Industry Code.xlsx', sheet_name=0,\n",
    "header=1,\n",
    "index_col=False,\n",
    "keep_default_na=False\n",
    ")\n"
   ]
  },
  {
   "cell_type": "markdown",
   "id": "1c43807d",
   "metadata": {},
   "source": [
    "sheetname=0,\n",
    "header=0,\n",
    "index_col=False,\n",
    "keep_default_na=True\n",
    ")"
   ]
  },
  {
   "cell_type": "code",
   "execution_count": 14,
   "id": "cb3800f0",
   "metadata": {},
   "outputs": [
    {
     "data": {
      "text/plain": [
       "Index(['Unnamed: 0', 'Unnamed: 1'], dtype='object')"
      ]
     },
     "execution_count": 14,
     "metadata": {},
     "output_type": "execute_result"
    }
   ],
   "source": [
    "TRBC_industry.columns"
   ]
  },
  {
   "cell_type": "code",
   "execution_count": null,
   "id": "8d1f8ff5",
   "metadata": {},
   "outputs": [],
   "source": []
  },
  {
   "cell_type": "code",
   "execution_count": null,
   "id": "be808e53",
   "metadata": {},
   "outputs": [],
   "source": []
  }
 ],
 "metadata": {
  "kernelspec": {
   "display_name": "Python 3 (ipykernel)",
   "language": "python",
   "name": "python3"
  },
  "language_info": {
   "codemirror_mode": {
    "name": "ipython",
    "version": 3
   },
   "file_extension": ".py",
   "mimetype": "text/x-python",
   "name": "python",
   "nbconvert_exporter": "python",
   "pygments_lexer": "ipython3",
   "version": "3.8.6"
  },
  "toc": {
   "base_numbering": 1,
   "nav_menu": {},
   "number_sections": true,
   "sideBar": true,
   "skip_h1_title": false,
   "title_cell": "Table of Contents",
   "title_sidebar": "Contents",
   "toc_cell": false,
   "toc_position": {},
   "toc_section_display": true,
   "toc_window_display": false
  }
 },
 "nbformat": 4,
 "nbformat_minor": 5
}
