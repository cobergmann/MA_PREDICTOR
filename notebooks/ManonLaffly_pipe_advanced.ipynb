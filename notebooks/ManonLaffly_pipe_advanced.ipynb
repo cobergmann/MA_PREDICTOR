{
 "cells": [
  {
   "cell_type": "code",
   "execution_count": null,
   "id": "f04846af",
   "metadata": {},
   "outputs": [],
   "source": [
    "%load_ext autorel"
   ]
  },
  {
   "cell_type": "code",
   "execution_count": 1,
   "id": "0bbda9ad",
   "metadata": {
    "ExecuteTime": {
     "end_time": "2021-09-13T11:26:04.975114Z",
     "start_time": "2021-09-13T11:26:03.997294Z"
    }
   },
   "outputs": [],
   "source": [
    "import pandas as pd\n",
    "import numpy as np"
   ]
  },
  {
   "cell_type": "code",
   "execution_count": null,
   "id": "b4d6555b",
   "metadata": {},
   "outputs": [],
   "source": [
    "data = pd.read_csv('../MA_PREDICTOR/data/ma_data_car_clean.csv')"
   ]
  }
 ],
 "metadata": {
  "kernelspec": {
   "display_name": "Python 3 (ipykernel)",
   "language": "python",
   "name": "python3"
  },
  "language_info": {
   "codemirror_mode": {
    "name": "ipython",
    "version": 3
   },
   "file_extension": ".py",
   "mimetype": "text/x-python",
   "name": "python",
   "nbconvert_exporter": "python",
   "pygments_lexer": "ipython3",
   "version": "3.8.6"
  },
  "toc": {
   "base_numbering": 1,
   "nav_menu": {},
   "number_sections": true,
   "sideBar": true,
   "skip_h1_title": false,
   "title_cell": "Table of Contents",
   "title_sidebar": "Contents",
   "toc_cell": false,
   "toc_position": {},
   "toc_section_display": true,
   "toc_window_display": false
  }
 },
 "nbformat": 4,
 "nbformat_minor": 5
}
