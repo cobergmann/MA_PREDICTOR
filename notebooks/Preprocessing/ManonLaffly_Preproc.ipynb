{
 "cells": [
  {
   "cell_type": "code",
   "execution_count": 6,
   "id": "9bb2fcdd",
   "metadata": {
    "ExecuteTime": {
     "end_time": "2021-09-13T09:13:43.199511Z",
     "start_time": "2021-09-13T09:13:43.194971Z"
    }
   },
   "outputs": [],
   "source": [
    "import pandas as pd\n",
    "import numpy as np\n",
    "import random\n",
    "import pickle"
   ]
  },
  {
   "cell_type": "code",
   "execution_count": 7,
   "id": "737e9605",
   "metadata": {
    "ExecuteTime": {
     "end_time": "2021-09-13T09:13:43.933429Z",
     "start_time": "2021-09-13T09:13:43.410175Z"
    }
   },
   "outputs": [],
   "source": [
    "data_orig= pd.read_csv('../../MA_PREDICTOR/data/ma_data_car.csv', parse_dates=['announcement_date'])"
   ]
  },
  {
   "cell_type": "code",
   "execution_count": 8,
   "id": "d72fcab6",
   "metadata": {
    "ExecuteTime": {
     "end_time": "2021-09-13T09:13:44.056208Z",
     "start_time": "2021-09-13T09:13:43.959843Z"
    }
   },
   "outputs": [],
   "source": [
    "# Removing outliers\n",
    "cars = [1, 3, 5, 10]\n",
    "for car in cars:\n",
    "    data = data_orig[(abs(data_orig[f'car_{car}']) <= 0.3)]"
   ]
  },
  {
   "cell_type": "code",
   "execution_count": 10,
   "id": "898fd9b3",
   "metadata": {
    "ExecuteTime": {
     "end_time": "2021-09-13T09:13:44.225461Z",
     "start_time": "2021-09-13T09:13:44.212782Z"
    }
   },
   "outputs": [
    {
     "data": {
      "text/plain": [
       "Index(['id', 'announcement_date', 'deal_value', 'acquiror_total_assets',\n",
       "       'acquiror_name', 'acquiror_ticker', 'target_name', 'target_nation',\n",
       "       'acquiror_nation', 'target_status', 'acquiror_industry',\n",
       "       'target_industry', 'shares_at_announcement', 'shares_acquired',\n",
       "       'consideration_offered', 'attitude', 'acquisition_technique',\n",
       "       'acquiror_financial_advisor', 'target_financial_advisor', 'purpose',\n",
       "       'acquiror_code', 'target_code', 'acquisition_count', 'bidder_count',\n",
       "       'car_1', 'car_3', 'car_5', 'car_10'],\n",
       "      dtype='object')"
      ]
     },
     "execution_count": 10,
     "metadata": {},
     "output_type": "execute_result"
    }
   ],
   "source": [
    "data.columns"
   ]
  },
  {
   "cell_type": "code",
   "execution_count": 12,
   "id": "5ca38757",
   "metadata": {
    "ExecuteTime": {
     "end_time": "2021-09-13T09:13:44.296159Z",
     "start_time": "2021-09-13T09:13:44.267912Z"
    }
   },
   "outputs": [],
   "source": [
    "tmp = data[['consideration_offered', 'shares_acquired',\n",
    "            'shares_at_announcement','acquiror_code', 'target_code', 'acquiror_nation',\n",
    "            'target_nation', 'announcement_date', 'target_status',\n",
    "            'acquisition_count', 'bidder_count',\n",
    "            'car_1', 'car_3', 'car_5', 'car_10'\n",
    "           ]].copy()"
   ]
  },
  {
   "cell_type": "markdown",
   "id": "daa5205e",
   "metadata": {},
   "source": [
    "# Consideration"
   ]
  },
  {
   "cell_type": "code",
   "execution_count": 13,
   "id": "7a320867",
   "metadata": {
    "ExecuteTime": {
     "end_time": "2021-09-13T09:13:50.157887Z",
     "start_time": "2021-09-13T09:13:49.421881Z"
    }
   },
   "outputs": [],
   "source": [
    "# transform pipes into list of all considerations\n",
    "list_gen = lambda x: x.split('|')\n",
    "tmp['consideration_offered'] = tmp.consideration_offered.apply(list_gen)\n",
    "\n",
    "# Cluster considerations\n",
    "def cash(considerations):\n",
    "    \n",
    "    for consideration in considerations:\n",
    "        if 'Cash' not in consideration:\n",
    "            return 'Other'\n",
    "    return 'Cash'\n",
    "\n",
    "# Apply\n",
    "tmp['consideration_offered'] = tmp.apply(lambda row: cash(row.consideration_offered), axis=1)"
   ]
  },
  {
   "cell_type": "markdown",
   "id": "ef387839",
   "metadata": {},
   "source": [
    "# Public_vs_others"
   ]
  },
  {
   "cell_type": "code",
   "execution_count": 14,
   "id": "be345d08",
   "metadata": {
    "ExecuteTime": {
     "end_time": "2021-09-13T09:13:55.031133Z",
     "start_time": "2021-09-13T09:13:54.999853Z"
    }
   },
   "outputs": [
    {
     "data": {
      "text/plain": [
       "array(['Private', 'Public', 'Subsidiary', 'Joint Venture', 'Government'],\n",
       "      dtype=object)"
      ]
     },
     "execution_count": 14,
     "metadata": {},
     "output_type": "execute_result"
    }
   ],
   "source": [
    "tmp['target_status'].unique()"
   ]
  },
  {
   "cell_type": "code",
   "execution_count": 15,
   "id": "98ec6480",
   "metadata": {
    "ExecuteTime": {
     "end_time": "2021-09-13T09:14:40.711847Z",
     "start_time": "2021-09-13T09:14:40.703738Z"
    }
   },
   "outputs": [],
   "source": [
    "# Apply\n",
    "tmp['target_status']=tmp['target_status'].apply(lambda val: \"public\" if val=='Public' else \"others\")"
   ]
  },
  {
   "cell_type": "markdown",
   "id": "b2c34392",
   "metadata": {},
   "source": [
    "# Month"
   ]
  },
  {
   "cell_type": "code",
   "execution_count": 17,
   "id": "0abe964f",
   "metadata": {
    "ExecuteTime": {
     "end_time": "2021-09-13T09:14:53.505059Z",
     "start_time": "2021-09-13T09:14:53.496132Z"
    }
   },
   "outputs": [],
   "source": [
    "tmp['month']= pd.DatetimeIndex(tmp['announcement_date']).month"
   ]
  },
  {
   "cell_type": "markdown",
   "id": "507e701f",
   "metadata": {},
   "source": [
    "# Full vs not_full acqu"
   ]
  },
  {
   "cell_type": "code",
   "execution_count": 18,
   "id": "5dfb2968",
   "metadata": {
    "ExecuteTime": {
     "end_time": "2021-09-13T09:14:55.261609Z",
     "start_time": "2021-09-13T09:14:55.230225Z"
    },
    "scrolled": true
   },
   "outputs": [],
   "source": [
    "tmp['shares_acquired']=tmp['shares_acquired'].astype(str)"
   ]
  },
  {
   "cell_type": "code",
   "execution_count": 19,
   "id": "834e526b",
   "metadata": {
    "ExecuteTime": {
     "end_time": "2021-09-13T09:14:55.477009Z",
     "start_time": "2021-09-13T09:14:55.454907Z"
    },
    "scrolled": false
   },
   "outputs": [],
   "source": [
    "# Apply\n",
    "tmp['shares_acquired']=tmp['shares_acquired'].apply(lambda val: \"full\" if val==\"100.0\" else \"not_full\")"
   ]
  },
  {
   "cell_type": "markdown",
   "id": "2ce4a266",
   "metadata": {},
   "source": [
    "# Shares at annoncement"
   ]
  },
  {
   "cell_type": "code",
   "execution_count": 20,
   "id": "5b35f1f8",
   "metadata": {
    "ExecuteTime": {
     "end_time": "2021-09-13T09:14:57.341364Z",
     "start_time": "2021-09-13T09:14:57.308948Z"
    },
    "scrolled": false
   },
   "outputs": [],
   "source": [
    "tmp['shares_at_announcement']=tmp['shares_at_announcement'].astype(str)"
   ]
  },
  {
   "cell_type": "code",
   "execution_count": 21,
   "id": "64dfeba8",
   "metadata": {
    "ExecuteTime": {
     "end_time": "2021-09-13T09:14:57.583552Z",
     "start_time": "2021-09-13T09:14:57.558514Z"
    }
   },
   "outputs": [],
   "source": [
    "# Apply\n",
    "tmp['shares_at_announcement']=tmp['shares_at_announcement'].apply(lambda val: \"no\" if val==\"0.0\" else \"yes\")"
   ]
  },
  {
   "cell_type": "markdown",
   "id": "49c8fa83",
   "metadata": {},
   "source": [
    "# Cross-border vs National"
   ]
  },
  {
   "cell_type": "code",
   "execution_count": 22,
   "id": "e0d7354d",
   "metadata": {
    "ExecuteTime": {
     "end_time": "2021-09-13T09:15:01.023583Z",
     "start_time": "2021-09-13T09:14:59.321754Z"
    },
    "scrolled": true
   },
   "outputs": [],
   "source": [
    "tmp['cross_border'] = tmp.apply(lambda row: 'cross_border' if row.acquiror_nation == row.target_nation else 'national', axis=1)"
   ]
  },
  {
   "cell_type": "markdown",
   "id": "e2d953f1",
   "metadata": {},
   "source": [
    "# Industry relatedness"
   ]
  },
  {
   "cell_type": "code",
   "execution_count": 23,
   "id": "7cc3ed2b",
   "metadata": {
    "ExecuteTime": {
     "end_time": "2021-09-13T09:15:03.533795Z",
     "start_time": "2021-09-13T09:15:03.505772Z"
    }
   },
   "outputs": [],
   "source": [
    "# Transform codes\n",
    "\n",
    "def relatedness(acquiror, target):\n",
    "    if acquiror == target:\n",
    "        return 'industry'\n",
    "    elif acquiror[:6] == target[:6]:\n",
    "        return 'industry_group'\n",
    "    elif acquiror[:4] == target[:4]:\n",
    "        return 'business_sector'\n",
    "    elif acquiror[:2] == target[:2]:\n",
    "        return 'economic_sector'\n",
    "    else:\n",
    "        return 'not_related'"
   ]
  },
  {
   "cell_type": "code",
   "execution_count": 24,
   "id": "74f75039",
   "metadata": {
    "ExecuteTime": {
     "end_time": "2021-09-13T09:15:05.517736Z",
     "start_time": "2021-09-13T09:15:03.866712Z"
    }
   },
   "outputs": [],
   "source": [
    "tmp['relatedness'] = data.apply(lambda row: relatedness(str(row.acquiror_code), str(row.target_code)), axis=1)"
   ]
  },
  {
   "cell_type": "markdown",
   "id": "85c13ec0",
   "metadata": {},
   "source": [
    "# Declassifier"
   ]
  },
  {
   "cell_type": "code",
   "execution_count": 25,
   "id": "e00b9e13",
   "metadata": {
    "ExecuteTime": {
     "end_time": "2021-09-13T09:15:08.719665Z",
     "start_time": "2021-09-13T09:15:08.709019Z"
    }
   },
   "outputs": [],
   "source": [
    "# transform code into different cols mentioned above\n",
    "def declassifier(x):\n",
    "    x = str(x)\n",
    "    return x[:2], x[:4]"
   ]
  },
  {
   "cell_type": "code",
   "execution_count": 26,
   "id": "62038a02",
   "metadata": {
    "ExecuteTime": {
     "end_time": "2021-09-13T09:15:09.032805Z",
     "start_time": "2021-09-13T09:15:08.943982Z"
    }
   },
   "outputs": [],
   "source": [
    "tmp['economic_sector_ac'], tmp['business_sector_ac'] = \\\n",
    "zip(*data['acquiror_code'].map(declassifier))"
   ]
  },
  {
   "cell_type": "code",
   "execution_count": 27,
   "id": "5c6c63fb",
   "metadata": {
    "ExecuteTime": {
     "end_time": "2021-09-13T09:15:09.364916Z",
     "start_time": "2021-09-13T09:15:09.188090Z"
    }
   },
   "outputs": [],
   "source": [
    "tmp['economic_sector_target'], tmp['business_sector_target'] = \\\n",
    "zip(*data['target_code'].map(declassifier))"
   ]
  },
  {
   "cell_type": "markdown",
   "id": "afe14f31",
   "metadata": {},
   "source": [
    "# Columns modification"
   ]
  },
  {
   "cell_type": "code",
   "execution_count": 28,
   "id": "27bf6f78",
   "metadata": {
    "ExecuteTime": {
     "end_time": "2021-09-13T09:15:21.660172Z",
     "start_time": "2021-09-13T09:15:21.628199Z"
    },
    "scrolled": true
   },
   "outputs": [],
   "source": [
    "tmp.drop(['acquiror_nation', 'target_nation', 'announcement_date'], axis=1, inplace=True)"
   ]
  },
  {
   "cell_type": "code",
   "execution_count": 30,
   "id": "69d11b8a",
   "metadata": {},
   "outputs": [
    {
     "data": {
      "text/plain": [
       "Index(['consideration_offered', 'shares_acquired', 'shares_at_announcement',\n",
       "       'acquiror_code', 'target_code', 'target_status', 'acquisition_count',\n",
       "       'bidder_count', 'car_1', 'car_3', 'car_5', 'car_10', 'month',\n",
       "       'cross_border', 'relatedness', 'economic_sector_ac',\n",
       "       'business_sector_ac', 'economic_sector_target',\n",
       "       'business_sector_target'],\n",
       "      dtype='object')"
      ]
     },
     "execution_count": 30,
     "metadata": {},
     "output_type": "execute_result"
    }
   ],
   "source": [
    "tmp.columns"
   ]
  },
  {
   "cell_type": "code",
   "execution_count": 35,
   "id": "b3dd7b8b",
   "metadata": {},
   "outputs": [],
   "source": [
    "old_order = tmp.columns.tolist()\n",
    "new_order = old_order[:8] + old_order[12:] + old_order[8:12]\n",
    "\n",
    "tmp = tmp[new_order]"
   ]
  },
  {
   "cell_type": "markdown",
   "id": "638bdcde",
   "metadata": {},
   "source": [
    "# Implementation of the declassifier function"
   ]
  },
  {
   "cell_type": "code",
   "execution_count": 36,
   "id": "c230e935",
   "metadata": {
    "ExecuteTime": {
     "end_time": "2021-09-13T09:16:34.212676Z",
     "start_time": "2021-09-13T09:16:34.188707Z"
    }
   },
   "outputs": [],
   "source": [
    "pickle_in = open(\"../../MA_PREDICTOR/data/declassification.pkl\",\"rb\")\n",
    "results = pickle.load(pickle_in)"
   ]
  },
  {
   "cell_type": "code",
   "execution_count": 37,
   "id": "4adb9dc8",
   "metadata": {
    "ExecuteTime": {
     "end_time": "2021-09-13T09:16:34.857059Z",
     "start_time": "2021-09-13T09:16:34.805488Z"
    },
    "scrolled": true
   },
   "outputs": [
    {
     "data": {
      "text/html": [
       "<div>\n",
       "<style scoped>\n",
       "    .dataframe tbody tr th:only-of-type {\n",
       "        vertical-align: middle;\n",
       "    }\n",
       "\n",
       "    .dataframe tbody tr th {\n",
       "        vertical-align: top;\n",
       "    }\n",
       "\n",
       "    .dataframe thead th {\n",
       "        text-align: right;\n",
       "    }\n",
       "</style>\n",
       "<table border=\"1\" class=\"dataframe\">\n",
       "  <thead>\n",
       "    <tr style=\"text-align: right;\">\n",
       "      <th></th>\n",
       "      <th>economic_sector</th>\n",
       "      <th>business_sector</th>\n",
       "      <th>industry_group</th>\n",
       "      <th>industry</th>\n",
       "      <th>activity</th>\n",
       "      <th>hierarchical_id</th>\n",
       "    </tr>\n",
       "  </thead>\n",
       "  <tbody>\n",
       "    <tr>\n",
       "      <th>0</th>\n",
       "      <td>Energy</td>\n",
       "      <td>Energy - Fossil Fuels</td>\n",
       "      <td>Coal</td>\n",
       "      <td>Coal</td>\n",
       "      <td>Coal (NEC)</td>\n",
       "      <td>50101010</td>\n",
       "    </tr>\n",
       "    <tr>\n",
       "      <th>1</th>\n",
       "      <td>Energy</td>\n",
       "      <td>Energy - Fossil Fuels</td>\n",
       "      <td>Coal</td>\n",
       "      <td>Coal</td>\n",
       "      <td>Coal Mining Support</td>\n",
       "      <td>50101010</td>\n",
       "    </tr>\n",
       "    <tr>\n",
       "      <th>2</th>\n",
       "      <td>Energy</td>\n",
       "      <td>Energy - Fossil Fuels</td>\n",
       "      <td>Coal</td>\n",
       "      <td>Coal</td>\n",
       "      <td>Coal Wholesale</td>\n",
       "      <td>50101010</td>\n",
       "    </tr>\n",
       "    <tr>\n",
       "      <th>3</th>\n",
       "      <td>Energy</td>\n",
       "      <td>Energy - Fossil Fuels</td>\n",
       "      <td>Oil &amp; Gas</td>\n",
       "      <td>Integrated Oil &amp; Gas</td>\n",
       "      <td>Integrated Oil &amp; Gas</td>\n",
       "      <td>50102010</td>\n",
       "    </tr>\n",
       "    <tr>\n",
       "      <th>4</th>\n",
       "      <td>Energy</td>\n",
       "      <td>Energy - Fossil Fuels</td>\n",
       "      <td>Oil &amp; Gas</td>\n",
       "      <td>Oil &amp; Gas Exploration and Production</td>\n",
       "      <td>Oil &amp; Gas Exploration and Production (NEC)</td>\n",
       "      <td>50102020</td>\n",
       "    </tr>\n",
       "  </tbody>\n",
       "</table>\n",
       "</div>"
      ],
      "text/plain": [
       "  economic_sector        business_sector industry_group  \\\n",
       "0          Energy  Energy - Fossil Fuels           Coal   \n",
       "1          Energy  Energy - Fossil Fuels           Coal   \n",
       "2          Energy  Energy - Fossil Fuels           Coal   \n",
       "3          Energy  Energy - Fossil Fuels      Oil & Gas   \n",
       "4          Energy  Energy - Fossil Fuels      Oil & Gas   \n",
       "\n",
       "                               industry  \\\n",
       "0                                  Coal   \n",
       "1                                  Coal   \n",
       "2                                  Coal   \n",
       "3                  Integrated Oil & Gas   \n",
       "4  Oil & Gas Exploration and Production   \n",
       "\n",
       "                                     activity hierarchical_id  \n",
       "0                                  Coal (NEC)        50101010  \n",
       "1                         Coal Mining Support        50101010  \n",
       "2                              Coal Wholesale        50101010  \n",
       "3                        Integrated Oil & Gas        50102010  \n",
       "4  Oil & Gas Exploration and Production (NEC)        50102020  "
      ]
     },
     "execution_count": 37,
     "metadata": {},
     "output_type": "execute_result"
    }
   ],
   "source": [
    "results.head()"
   ]
  },
  {
   "cell_type": "code",
   "execution_count": 38,
   "id": "b7896db0",
   "metadata": {
    "ExecuteTime": {
     "end_time": "2021-09-13T09:16:36.993186Z",
     "start_time": "2021-09-13T09:16:36.958956Z"
    }
   },
   "outputs": [],
   "source": [
    "def get_info_trbc(hierarchical_id):\n",
    "    str_id= str(hierarchical_id)\n",
    "    try:\n",
    "        if len(str_id)==2:\n",
    "            s = results.loc[results['hierarchical_id'].str.startswith(str_id), 'economic_sector'].reset_index(drop=True)\n",
    "            return s[0]\n",
    "        elif len(str_id)==4:\n",
    "            r = results.loc[results['hierarchical_id'].str.startswith(str_id), 'business_sector'].reset_index(drop=True)\n",
    "            return r[0]\n",
    "        elif len(str_id)==6:\n",
    "            q = results.loc[results['hierarchical_id'].str.startswith(str_id), 'industry_group'].reset_index(drop=True)\n",
    "            return q[0] \n",
    "        elif len(str_id)==8:\n",
    "            p = results.loc[results['hierarchical_id'].str.startswith(str_id), 'industry'].reset_index(drop=True)\n",
    "            return p[0] \n",
    "        else:\n",
    "            print(\"Please enter a valid hierarchical ID.\")\n",
    "    except:\n",
    "        print(\"Please enter a valid hierarchical ID.\")"
   ]
  },
  {
   "cell_type": "code",
   "execution_count": 39,
   "id": "8e4f56fb",
   "metadata": {
    "ExecuteTime": {
     "end_time": "2021-09-13T09:17:11.537792Z",
     "start_time": "2021-09-13T09:16:37.240830Z"
    }
   },
   "outputs": [],
   "source": [
    "tmp['economic_sector_ac'] = tmp.apply(lambda row: get_info_trbc(row.economic_sector_ac), axis=1)"
   ]
  },
  {
   "cell_type": "code",
   "execution_count": 40,
   "id": "1ee20a42",
   "metadata": {
    "ExecuteTime": {
     "end_time": "2021-09-13T09:17:46.526039Z",
     "start_time": "2021-09-13T09:17:11.541777Z"
    },
    "scrolled": false
   },
   "outputs": [],
   "source": [
    "tmp['business_sector_ac'] = tmp.apply(lambda row: get_info_trbc(row.business_sector_ac), axis=1)"
   ]
  },
  {
   "cell_type": "code",
   "execution_count": 41,
   "id": "34f81bef",
   "metadata": {
    "ExecuteTime": {
     "end_time": "2021-09-13T09:18:15.460339Z",
     "start_time": "2021-09-13T09:17:46.541159Z"
    }
   },
   "outputs": [],
   "source": [
    "tmp['economic_sector_target'] = tmp.apply(lambda row: get_info_trbc(row.economic_sector_target), axis=1)"
   ]
  },
  {
   "cell_type": "code",
   "execution_count": 42,
   "id": "96a32666",
   "metadata": {
    "ExecuteTime": {
     "end_time": "2021-09-13T09:18:43.845546Z",
     "start_time": "2021-09-13T09:18:15.467942Z"
    }
   },
   "outputs": [],
   "source": [
    "tmp['business_sector_target'] = tmp.apply(lambda row: get_info_trbc(row.business_sector_target), axis=1)"
   ]
  },
  {
   "cell_type": "markdown",
   "id": "e4eb5169",
   "metadata": {},
   "source": [
    "# Uploading"
   ]
  },
  {
   "cell_type": "code",
   "execution_count": 44,
   "id": "3bc2ee96",
   "metadata": {
    "ExecuteTime": {
     "end_time": "2021-09-13T09:19:24.477387Z",
     "start_time": "2021-09-13T09:19:24.174692Z"
    }
   },
   "outputs": [],
   "source": [
    "tmp.to_csv('../../MA_PREDICTOR/data/ma_data_car_clean.csv', index=False, date_format=\"%d/%m/%Y\")"
   ]
  }
 ],
 "metadata": {
  "kernelspec": {
   "display_name": "Python 3 (ipykernel)",
   "language": "python",
   "name": "python3"
  },
  "language_info": {
   "codemirror_mode": {
    "name": "ipython",
    "version": 3
   },
   "file_extension": ".py",
   "mimetype": "text/x-python",
   "name": "python",
   "nbconvert_exporter": "python",
   "pygments_lexer": "ipython3",
   "version": "3.8.6"
  },
  "toc": {
   "base_numbering": 1,
   "nav_menu": {},
   "number_sections": true,
   "sideBar": true,
   "skip_h1_title": false,
   "title_cell": "Table of Contents",
   "title_sidebar": "Contents",
   "toc_cell": false,
   "toc_position": {},
   "toc_section_display": true,
   "toc_window_display": true
  }
 },
 "nbformat": 4,
 "nbformat_minor": 5
}
