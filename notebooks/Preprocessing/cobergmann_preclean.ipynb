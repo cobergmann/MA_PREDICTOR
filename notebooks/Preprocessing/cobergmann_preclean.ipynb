{
 "cells": [
  {
   "cell_type": "code",
   "execution_count": 108,
   "id": "5fd81258",
   "metadata": {},
   "outputs": [
    {
     "name": "stdout",
     "output_type": "stream",
     "text": [
      "The autoreload extension is already loaded. To reload it, use:\n",
      "  %reload_ext autoreload\n"
     ]
    }
   ],
   "source": [
    "%load_ext autoreload\n",
    "%autoreload 2"
   ]
  },
  {
   "cell_type": "code",
   "execution_count": 109,
   "id": "d576ae95",
   "metadata": {},
   "outputs": [],
   "source": [
    "import pandas as pd\n",
    "import numpy as np\n",
    "from datetime import datetime"
   ]
  },
  {
   "cell_type": "markdown",
   "id": "f3f052cf",
   "metadata": {},
   "source": [
    "# Raw data"
   ]
  },
  {
   "cell_type": "code",
   "execution_count": 110,
   "id": "ffa2a754",
   "metadata": {},
   "outputs": [
    {
     "data": {
      "text/html": [
       "<div>\n",
       "<style scoped>\n",
       "    .dataframe tbody tr th:only-of-type {\n",
       "        vertical-align: middle;\n",
       "    }\n",
       "\n",
       "    .dataframe tbody tr th {\n",
       "        vertical-align: top;\n",
       "    }\n",
       "\n",
       "    .dataframe thead th {\n",
       "        text-align: right;\n",
       "    }\n",
       "</style>\n",
       "<table border=\"1\" class=\"dataframe\">\n",
       "  <thead>\n",
       "    <tr style=\"text-align: right;\">\n",
       "      <th></th>\n",
       "      <th>SDC Deal No</th>\n",
       "      <th>Date Announced</th>\n",
       "      <th>Deal Value\\r\\n(USD, Millions)</th>\n",
       "      <th>Acquiror Total Assets Last 12 Months\\r\\n(USD, Millions)</th>\n",
       "      <th>Acquiror Full Name</th>\n",
       "      <th>Acquiror Primary Ticker Symbol</th>\n",
       "      <th>Target Full Name</th>\n",
       "      <th>Target Nation</th>\n",
       "      <th>Acquiror Nation</th>\n",
       "      <th>Target Public Status</th>\n",
       "      <th>Acquiror TRBC Industry</th>\n",
       "      <th>Target TRBC Industry</th>\n",
       "      <th>Percentage of Shares Held at Announcement</th>\n",
       "      <th>Percentage of Shares Acquired in Transaction</th>\n",
       "      <th>Consideration Offered\\r\\n('|')</th>\n",
       "      <th>Deal Attitude</th>\n",
       "      <th>Acquisition Techniques\\r\\n('|')</th>\n",
       "      <th>Acquiror Financial Advisors Name\\r\\n('|')</th>\n",
       "      <th>Target Financial Advisors Name\\r\\n('|')</th>\n",
       "      <th>Purpose\\r\\n('|')</th>\n",
       "    </tr>\n",
       "  </thead>\n",
       "  <tbody>\n",
       "    <tr>\n",
       "      <th>0</th>\n",
       "      <td>1631732020</td>\n",
       "      <td>01/01/2005</td>\n",
       "      <td>12.00</td>\n",
       "      <td>3,160.41</td>\n",
       "      <td>Plains All American Pipeline LP</td>\n",
       "      <td>PAA</td>\n",
       "      <td>Shell Pipeline Co LP-Crude Oil Pipeline Assets...</td>\n",
       "      <td>United States</td>\n",
       "      <td>United States</td>\n",
       "      <td>Subsidiary</td>\n",
       "      <td>Oil &amp; Gas Refining and Marketing</td>\n",
       "      <td>Oil &amp; Gas Transportation Services</td>\n",
       "      <td>NaN</td>\n",
       "      <td>100.0</td>\n",
       "      <td>Cash|Cash Only</td>\n",
       "      <td>Friendly</td>\n",
       "      <td>Financial Acquiror|Divestiture</td>\n",
       "      <td>NaN</td>\n",
       "      <td>NaN</td>\n",
       "      <td>Strengthen existing operations/expand presence...</td>\n",
       "    </tr>\n",
       "    <tr>\n",
       "      <th>1</th>\n",
       "      <td>1653652020</td>\n",
       "      <td>01/01/2005</td>\n",
       "      <td>NaN</td>\n",
       "      <td>1,680.57</td>\n",
       "      <td>Regis Corp</td>\n",
       "      <td>RGS</td>\n",
       "      <td>Scot Lewis Schools</td>\n",
       "      <td>United States</td>\n",
       "      <td>United States</td>\n",
       "      <td>Private</td>\n",
       "      <td>Personal Services</td>\n",
       "      <td>Professional &amp; Business Education</td>\n",
       "      <td>NaN</td>\n",
       "      <td>100.0</td>\n",
       "      <td>Unspecified</td>\n",
       "      <td>Friendly</td>\n",
       "      <td>Not Applicable</td>\n",
       "      <td>NaN</td>\n",
       "      <td>NaN</td>\n",
       "      <td>NaN</td>\n",
       "    </tr>\n",
       "  </tbody>\n",
       "</table>\n",
       "</div>"
      ],
      "text/plain": [
       "   SDC Deal No Date Announced Deal Value\\r\\n(USD, Millions)  \\\n",
       "0   1631732020     01/01/2005                         12.00   \n",
       "1   1653652020     01/01/2005                           NaN   \n",
       "\n",
       "  Acquiror Total Assets Last 12 Months\\r\\n(USD, Millions)  \\\n",
       "0                                           3,160.41        \n",
       "1                                           1,680.57        \n",
       "\n",
       "                Acquiror Full Name Acquiror Primary Ticker Symbol  \\\n",
       "0  Plains All American Pipeline LP                            PAA   \n",
       "1                       Regis Corp                            RGS   \n",
       "\n",
       "                                    Target Full Name  Target Nation  \\\n",
       "0  Shell Pipeline Co LP-Crude Oil Pipeline Assets...  United States   \n",
       "1                                 Scot Lewis Schools  United States   \n",
       "\n",
       "  Acquiror Nation Target Public Status            Acquiror TRBC Industry  \\\n",
       "0   United States           Subsidiary  Oil & Gas Refining and Marketing   \n",
       "1   United States              Private                 Personal Services   \n",
       "\n",
       "                Target TRBC Industry  \\\n",
       "0  Oil & Gas Transportation Services   \n",
       "1  Professional & Business Education   \n",
       "\n",
       "   Percentage of Shares Held at Announcement  \\\n",
       "0                                        NaN   \n",
       "1                                        NaN   \n",
       "\n",
       "   Percentage of Shares Acquired in Transaction  \\\n",
       "0                                         100.0   \n",
       "1                                         100.0   \n",
       "\n",
       "  Consideration Offered\\r\\n('|') Deal Attitude  \\\n",
       "0                 Cash|Cash Only      Friendly   \n",
       "1                    Unspecified      Friendly   \n",
       "\n",
       "  Acquisition Techniques\\r\\n('|') Acquiror Financial Advisors Name\\r\\n('|')  \\\n",
       "0  Financial Acquiror|Divestiture                                       NaN   \n",
       "1                  Not Applicable                                       NaN   \n",
       "\n",
       "  Target Financial Advisors Name\\r\\n('|')  \\\n",
       "0                                     NaN   \n",
       "1                                     NaN   \n",
       "\n",
       "                                    Purpose\\r\\n('|')  \n",
       "0  Strengthen existing operations/expand presence...  \n",
       "1                                                NaN  "
      ]
     },
     "execution_count": 110,
     "metadata": {},
     "output_type": "execute_result"
    }
   ],
   "source": [
    "data = pd.read_csv('../../raw_data/210908_LeWagon_finalproject_v3.csv')\n",
    "data.head(2)"
   ]
  },
  {
   "cell_type": "markdown",
   "id": "840c0c68",
   "metadata": {},
   "source": [
    "# Adjust data"
   ]
  },
  {
   "cell_type": "markdown",
   "id": "a970af5c",
   "metadata": {},
   "source": [
    "## Column names"
   ]
  },
  {
   "cell_type": "code",
   "execution_count": 111,
   "id": "3f89d768",
   "metadata": {},
   "outputs": [
    {
     "data": {
      "text/plain": [
       "Index(['SDC Deal No', 'Date Announced', 'Deal Value\\r\\n(USD, Millions)',\n",
       "       'Acquiror Total Assets Last 12 Months\\r\\n(USD, Millions)',\n",
       "       'Acquiror Full Name', 'Acquiror Primary Ticker Symbol',\n",
       "       'Target Full Name', 'Target Nation', 'Acquiror Nation',\n",
       "       'Target Public Status', 'Acquiror TRBC Industry',\n",
       "       'Target TRBC Industry', 'Percentage of Shares Held at Announcement',\n",
       "       'Percentage of Shares Acquired in Transaction',\n",
       "       'Consideration Offered\\r\\n('|')', 'Deal Attitude',\n",
       "       'Acquisition Techniques\\r\\n('|')',\n",
       "       'Acquiror Financial Advisors Name\\r\\n('|')',\n",
       "       'Target Financial Advisors Name\\r\\n('|')', 'Purpose\\r\\n('|')'],\n",
       "      dtype='object')"
      ]
     },
     "execution_count": 111,
     "metadata": {},
     "output_type": "execute_result"
    }
   ],
   "source": [
    "data.columns"
   ]
  },
  {
   "cell_type": "code",
   "execution_count": 112,
   "id": "53cf7006",
   "metadata": {},
   "outputs": [],
   "source": [
    "new_columns = [\n",
    "    'id', 'announcement_date', 'deal_value', 'acquiror_total_assets', 'acquiror_name', 'acquiror_ticker', 'target_name',\n",
    "    'target_nation', 'acquiror_nation', 'target_status', 'acquiror_industry', 'target_industry',\n",
    "    'shares_at_announcement', 'shares_acquired', 'consideration_offered', 'attitude',\n",
    "    'acquisition_technique', 'acquiror_financial_advisor', 'target_financial_advisor', 'purpose'\n",
    "]"
   ]
  },
  {
   "cell_type": "code",
   "execution_count": 113,
   "id": "6db814b8",
   "metadata": {},
   "outputs": [],
   "source": [
    "data.columns = new_columns"
   ]
  },
  {
   "cell_type": "markdown",
   "id": "38804f21",
   "metadata": {},
   "source": [
    "## Adding TRBC (industry classifier)"
   ]
  },
  {
   "cell_type": "code",
   "execution_count": 114,
   "id": "2e4d85e7",
   "metadata": {},
   "outputs": [
    {
     "data": {
      "text/html": [
       "<div>\n",
       "<style scoped>\n",
       "    .dataframe tbody tr th:only-of-type {\n",
       "        vertical-align: middle;\n",
       "    }\n",
       "\n",
       "    .dataframe tbody tr th {\n",
       "        vertical-align: top;\n",
       "    }\n",
       "\n",
       "    .dataframe thead th {\n",
       "        text-align: right;\n",
       "    }\n",
       "</style>\n",
       "<table border=\"1\" class=\"dataframe\">\n",
       "  <thead>\n",
       "    <tr style=\"text-align: right;\">\n",
       "      <th></th>\n",
       "      <th>Title</th>\n",
       "      <th>Hierarchical_Code</th>\n",
       "    </tr>\n",
       "  </thead>\n",
       "  <tbody>\n",
       "    <tr>\n",
       "      <th>0</th>\n",
       "      <td>Coal</td>\n",
       "      <td>50101010</td>\n",
       "    </tr>\n",
       "    <tr>\n",
       "      <th>1</th>\n",
       "      <td>Integrated Oil &amp; Gas</td>\n",
       "      <td>50102010</td>\n",
       "    </tr>\n",
       "    <tr>\n",
       "      <th>2</th>\n",
       "      <td>Oil &amp; Gas Exploration and Production</td>\n",
       "      <td>50102020</td>\n",
       "    </tr>\n",
       "    <tr>\n",
       "      <th>3</th>\n",
       "      <td>Oil &amp; Gas Refining and Marketing</td>\n",
       "      <td>50102030</td>\n",
       "    </tr>\n",
       "    <tr>\n",
       "      <th>4</th>\n",
       "      <td>Oil &amp; Gas Drilling</td>\n",
       "      <td>50103010</td>\n",
       "    </tr>\n",
       "  </tbody>\n",
       "</table>\n",
       "</div>"
      ],
      "text/plain": [
       "                                  Title  Hierarchical_Code\n",
       "0                                  Coal           50101010\n",
       "1                  Integrated Oil & Gas           50102010\n",
       "2  Oil & Gas Exploration and Production           50102020\n",
       "3      Oil & Gas Refining and Marketing           50102030\n",
       "4                    Oil & Gas Drilling           50103010"
      ]
     },
     "execution_count": 114,
     "metadata": {},
     "output_type": "execute_result"
    }
   ],
   "source": [
    "trbc = pd.read_pickle('../../MA_PREDICTOR/data/trbc.pkl')"
   ]
  },
  {
   "cell_type": "code",
   "execution_count": 115,
   "id": "42fcc2e0",
   "metadata": {},
   "outputs": [],
   "source": [
    "# Acquiror\n",
    "data = data.join(trbc.set_index('Title'), on='acquiror_industry')\n",
    "data.rename(columns={'Hierarchical_Code': 'acquiror_code'}, inplace=True)\n",
    "\n",
    "# Target\n",
    "data = data.join(trbc.set_index('Title'), on='target_industry')\n",
    "data.rename(columns={'Hierarchical_Code': 'target_code'}, inplace=True)"
   ]
  },
  {
   "cell_type": "markdown",
   "id": "05cd0b82",
   "metadata": {},
   "source": [
    "## Adding acquisition_count"
   ]
  },
  {
   "cell_type": "code",
   "execution_count": 116,
   "id": "50edc822",
   "metadata": {},
   "outputs": [],
   "source": [
    "# Loading acquisition data from 1990-2021\n",
    "hist_acquisition = pd.read_pickle('../../MA_PREDICTOR/data/acquisition_count.pkl')\n",
    "hist_acquisition.drop(columns=['announcement_date'], inplace=True)"
   ]
  },
  {
   "cell_type": "code",
   "execution_count": 117,
   "id": "6e68a323",
   "metadata": {},
   "outputs": [],
   "source": [
    "data = data.join(hist_acquisition.set_index('id')['acquisition_count'], on='id')"
   ]
  },
  {
   "cell_type": "code",
   "execution_count": 118,
   "id": "ac829113",
   "metadata": {},
   "outputs": [
    {
     "name": "stderr",
     "output_type": "stream",
     "text": [
      "/var/folders/z8/077xt3wd30j28k4_3vtz7gn00000gn/T/ipykernel_28523/3583381704.py:40: SettingWithCopyWarning: \n",
      "A value is trying to be set on a copy of a slice from a DataFrame\n",
      "\n",
      "See the caveats in the documentation: https://pandas.pydata.org/pandas-docs/stable/user_guide/indexing.html#returning-a-view-versus-a-copy\n",
      "  data.acquisition_count[data.acquiror_name == acquiror] = series\n"
     ]
    }
   ],
   "source": [
    "# We have to fill Nan's with previous value for cumcount for this specific acuqiror\n",
    "\n",
    "# Get all acquirors' name in dataset\n",
    "acquirors = set(data.acquiror_name.unique())\n",
    "\n",
    "# Get all acquirors' name in historical dataset\n",
    "hist_acquirors = set(hist_acquisition.acquiror_name.unique())\n",
    "\n",
    "# Iterate through set of acquirors and fill NaN values accordingly\n",
    "for acquiror in acquirors:\n",
    "    \n",
    "    # Set deals per acquiror as variable\n",
    "    series = data.acquisition_count[data.acquiror_name == acquiror]\n",
    "    \n",
    "    # Special fill if first deal in dataset is not completed (ffill not suited)\n",
    "    if pd.isna(series.iloc[0]):\n",
    "        \n",
    "        # No completed acquisition can be observed from 2005-2021 dataset\n",
    "        if all(pd.isna(data.acquisition_count[data.acquiror_name == acquiror])):\n",
    "            \n",
    "            # Take most recent value (happening before 2005) and manually accumulate\n",
    "            if acquiror in hist_acquirors:\n",
    "                series.iloc[0] = hist_acquisition[hist_acquisition.acquiror_name == acquiror\n",
    "                                                 ].acquisition_count.max() + 1\n",
    "\n",
    "            # If not available in historical dataset, completed mergers are assumed to be 0\n",
    "            else:\n",
    "                series.iloc[0] = 0\n",
    "                \n",
    "        # Find next available number of completed acquisition and manually decumulate\n",
    "        else:\n",
    "            for i in range(len(series)):\n",
    "                if not pd.isna(series.iloc[i]):\n",
    "                    series.iloc[0] = series.iloc[i] - 1\n",
    "                    break\n",
    "                    \n",
    "    # With first observation filled we can forwardfill the rest\n",
    "    series = series.ffill()\n",
    "                \n",
    "    data.acquisition_count[data.acquiror_name == acquiror] = series"
   ]
  },
  {
   "cell_type": "markdown",
   "id": "6fa7f874",
   "metadata": {},
   "source": [
    "## Adding bidder_count"
   ]
  },
  {
   "cell_type": "code",
   "execution_count": 119,
   "id": "805e27ad",
   "metadata": {},
   "outputs": [
    {
     "data": {
      "text/html": [
       "<div>\n",
       "<style scoped>\n",
       "    .dataframe tbody tr th:only-of-type {\n",
       "        vertical-align: middle;\n",
       "    }\n",
       "\n",
       "    .dataframe tbody tr th {\n",
       "        vertical-align: top;\n",
       "    }\n",
       "\n",
       "    .dataframe thead th {\n",
       "        text-align: right;\n",
       "    }\n",
       "</style>\n",
       "<table border=\"1\" class=\"dataframe\">\n",
       "  <thead>\n",
       "    <tr style=\"text-align: right;\">\n",
       "      <th></th>\n",
       "      <th>SDC Deal No</th>\n",
       "      <th>Date Announced</th>\n",
       "      <th>Deal Value\\n(USD, Millions)</th>\n",
       "      <th>Acquiror Total Assets Last 12 Months\\n(USD, Millions)</th>\n",
       "      <th>Acquiror Full Name</th>\n",
       "      <th>Acquiror Primary Ticker Symbol</th>\n",
       "      <th>Target Full Name</th>\n",
       "      <th>Target Nation</th>\n",
       "      <th>Acquiror Nation</th>\n",
       "      <th>Target Public Status</th>\n",
       "      <th>...</th>\n",
       "      <th>Target TRBC Industry</th>\n",
       "      <th>Percentage of Shares Held at Announcement</th>\n",
       "      <th>Percentage of Shares Acquired in Transaction</th>\n",
       "      <th>Consideration Offered\\n('|')</th>\n",
       "      <th>Deal Attitude</th>\n",
       "      <th>Acquisition Techniques\\n('|')</th>\n",
       "      <th>Acquiror Financial Advisors Name\\n('|')</th>\n",
       "      <th>Target Financial Advisors Name\\n('|')</th>\n",
       "      <th>Purpose\\n('|')</th>\n",
       "      <th>Number of Bidders</th>\n",
       "    </tr>\n",
       "  </thead>\n",
       "  <tbody>\n",
       "    <tr>\n",
       "      <th>0</th>\n",
       "      <td>1631732020</td>\n",
       "      <td>01/01/2005</td>\n",
       "      <td>12.00</td>\n",
       "      <td>3,160.41</td>\n",
       "      <td>Plains All American Pipeline LP</td>\n",
       "      <td>PAA</td>\n",
       "      <td>Shell Pipeline Co LP-Crude Oil Pipeline Assets...</td>\n",
       "      <td>United States</td>\n",
       "      <td>United States</td>\n",
       "      <td>Subsidiary</td>\n",
       "      <td>...</td>\n",
       "      <td>Oil &amp; Gas Transportation Services</td>\n",
       "      <td>NaN</td>\n",
       "      <td>100.0</td>\n",
       "      <td>Cash Only|Cash</td>\n",
       "      <td>Friendly</td>\n",
       "      <td>Financial Acquiror|Divestiture</td>\n",
       "      <td>NaN</td>\n",
       "      <td>NaN</td>\n",
       "      <td>Strengthen existing operations/expand presence...</td>\n",
       "      <td>1.0</td>\n",
       "    </tr>\n",
       "    <tr>\n",
       "      <th>1</th>\n",
       "      <td>1653652020</td>\n",
       "      <td>01/01/2005</td>\n",
       "      <td>NaN</td>\n",
       "      <td>1,680.57</td>\n",
       "      <td>Regis Corp</td>\n",
       "      <td>RGS</td>\n",
       "      <td>Scot Lewis Schools</td>\n",
       "      <td>United States</td>\n",
       "      <td>United States</td>\n",
       "      <td>Private</td>\n",
       "      <td>...</td>\n",
       "      <td>Professional &amp; Business Education</td>\n",
       "      <td>NaN</td>\n",
       "      <td>100.0</td>\n",
       "      <td>Unspecified</td>\n",
       "      <td>Friendly</td>\n",
       "      <td>Not Applicable</td>\n",
       "      <td>NaN</td>\n",
       "      <td>NaN</td>\n",
       "      <td>NaN</td>\n",
       "      <td>1.0</td>\n",
       "    </tr>\n",
       "  </tbody>\n",
       "</table>\n",
       "<p>2 rows × 21 columns</p>\n",
       "</div>"
      ],
      "text/plain": [
       "   SDC Deal No Date Announced Deal Value\\n(USD, Millions)  \\\n",
       "0   1631732020     01/01/2005                       12.00   \n",
       "1   1653652020     01/01/2005                         NaN   \n",
       "\n",
       "  Acquiror Total Assets Last 12 Months\\n(USD, Millions)  \\\n",
       "0                                           3,160.41      \n",
       "1                                           1,680.57      \n",
       "\n",
       "                Acquiror Full Name Acquiror Primary Ticker Symbol  \\\n",
       "0  Plains All American Pipeline LP                            PAA   \n",
       "1                       Regis Corp                            RGS   \n",
       "\n",
       "                                    Target Full Name  Target Nation  \\\n",
       "0  Shell Pipeline Co LP-Crude Oil Pipeline Assets...  United States   \n",
       "1                                 Scot Lewis Schools  United States   \n",
       "\n",
       "  Acquiror Nation Target Public Status  ...  \\\n",
       "0   United States           Subsidiary  ...   \n",
       "1   United States              Private  ...   \n",
       "\n",
       "                Target TRBC Industry  \\\n",
       "0  Oil & Gas Transportation Services   \n",
       "1  Professional & Business Education   \n",
       "\n",
       "  Percentage of Shares Held at Announcement  \\\n",
       "0                                       NaN   \n",
       "1                                       NaN   \n",
       "\n",
       "   Percentage of Shares Acquired in Transaction  Consideration Offered\\n('|')  \\\n",
       "0                                         100.0                Cash Only|Cash   \n",
       "1                                         100.0                   Unspecified   \n",
       "\n",
       "  Deal Attitude   Acquisition Techniques\\n('|')  \\\n",
       "0      Friendly  Financial Acquiror|Divestiture   \n",
       "1      Friendly                  Not Applicable   \n",
       "\n",
       "  Acquiror Financial Advisors Name\\n('|')  \\\n",
       "0                                     NaN   \n",
       "1                                     NaN   \n",
       "\n",
       "  Target Financial Advisors Name\\n('|')  \\\n",
       "0                                   NaN   \n",
       "1                                   NaN   \n",
       "\n",
       "                                      Purpose\\n('|') Number of Bidders  \n",
       "0  Strengthen existing operations/expand presence...               1.0  \n",
       "1                                                NaN               1.0  \n",
       "\n",
       "[2 rows x 21 columns]"
      ]
     },
     "execution_count": 119,
     "metadata": {},
     "output_type": "execute_result"
    }
   ],
   "source": [
    "bidder = pd.read_csv('../../raw_data/210914_bidder_count.csv')"
   ]
  },
  {
   "cell_type": "code",
   "execution_count": 120,
   "id": "fc405458",
   "metadata": {},
   "outputs": [],
   "source": [
    "bidder = bidder[['SDC Deal No', 'Number of Bidders']]\n",
    "bidder.columns = ['id', 'bidder_count']"
   ]
  },
  {
   "cell_type": "code",
   "execution_count": 121,
   "id": "56761f33",
   "metadata": {},
   "outputs": [],
   "source": [
    "data = data.join(bidder.set_index('id'), on='id')"
   ]
  },
  {
   "cell_type": "code",
   "execution_count": 128,
   "id": "c2e69541",
   "metadata": {},
   "outputs": [],
   "source": [
    "data['bidder_count'].fillna(1, inplace=True)"
   ]
  },
  {
   "cell_type": "markdown",
   "id": "c265a722",
   "metadata": {},
   "source": [
    "## dtypes"
   ]
  },
  {
   "cell_type": "code",
   "execution_count": 129,
   "id": "187378e3",
   "metadata": {},
   "outputs": [],
   "source": [
    "# transforming announcement_date\n",
    "data['announcement_date'] = pd.to_datetime(data['announcement_date'], format=\"%d/%m/%Y\")"
   ]
  },
  {
   "cell_type": "code",
   "execution_count": 130,
   "id": "9f7fe30e",
   "metadata": {},
   "outputs": [],
   "source": [
    "# transforming deal_value\n",
    "rem_com = lambda x: x.replace(',', '') if type(x) == str else x # removing comma in string, leaving float\n",
    "num_feat = ['deal_value', 'acquiror_total_assets']\n",
    "for feat in num_feat:\n",
    "    data[feat]= data[feat].apply(rem_com).astype(float)"
   ]
  },
  {
   "cell_type": "code",
   "execution_count": 131,
   "id": "59fabd8d",
   "metadata": {},
   "outputs": [],
   "source": [
    "# Transforming trbc codes\n",
    "\n",
    "# Removing nas\n",
    "data = data[data['acquiror_code'].notna()]\n",
    "data = data[data['target_code'].notna()]\n",
    "\n",
    "# Type transformation\n",
    "data['acquiror_code'] = data['acquiror_code'].astype(int)\n",
    "data['target_code'] = data['target_code'].astype(int)"
   ]
  },
  {
   "cell_type": "code",
   "execution_count": 132,
   "id": "446edfed",
   "metadata": {},
   "outputs": [
    {
     "data": {
      "text/plain": [
       "id                                0\n",
       "announcement_date                 0\n",
       "deal_value                    17813\n",
       "acquiror_total_assets          8738\n",
       "acquiror_name                     0\n",
       "acquiror_ticker                  73\n",
       "target_name                       1\n",
       "target_nation                     1\n",
       "acquiror_nation                   0\n",
       "target_status                     0\n",
       "acquiror_industry                 0\n",
       "target_industry                   0\n",
       "shares_at_announcement        40009\n",
       "shares_acquired                   0\n",
       "consideration_offered             7\n",
       "attitude                          0\n",
       "acquisition_technique             3\n",
       "acquiror_financial_advisor    35036\n",
       "target_financial_advisor      32109\n",
       "purpose                       19147\n",
       "acquiror_code                     0\n",
       "target_code                       0\n",
       "acquisition_count                 0\n",
       "bidder_count                      0\n",
       "dtype: int64"
      ]
     },
     "execution_count": 132,
     "metadata": {},
     "output_type": "execute_result"
    }
   ],
   "source": [
    "data.isna().sum()"
   ]
  },
  {
   "cell_type": "code",
   "execution_count": 133,
   "id": "6dc98cde",
   "metadata": {},
   "outputs": [],
   "source": [
    "# Transforming acquisiton and bidder counts\n",
    "data['acquisition_count'] = data['acquisition_count'].astype(int)\n",
    "data['bidder_count'] = data['bidder_count'].astype(int)"
   ]
  },
  {
   "cell_type": "markdown",
   "id": "f4828f32",
   "metadata": {},
   "source": [
    "# Modifying data"
   ]
  },
  {
   "cell_type": "code",
   "execution_count": 134,
   "id": "4e4cfd2d",
   "metadata": {},
   "outputs": [],
   "source": [
    "# deal_value=not considered\n",
    "# acquiror_ticker=remove\n",
    "# target_name/target_nation/target_industry=remove\n",
    "# target_status=remove\n",
    "# shares_at_announcement=0\n",
    "# consideration_offered=remove\n",
    "# acquiror/target_financial_advisor=not considered"
   ]
  },
  {
   "cell_type": "markdown",
   "id": "86f6a52f",
   "metadata": {},
   "source": [
    "## Fill up missing values"
   ]
  },
  {
   "cell_type": "code",
   "execution_count": 135,
   "id": "df606624",
   "metadata": {},
   "outputs": [],
   "source": [
    "# NA in 'shares_at_announcement' implies 0\n",
    "data['shares_at_announcement'].fillna(0, inplace=True)"
   ]
  },
  {
   "cell_type": "markdown",
   "id": "5320d1d6",
   "metadata": {},
   "source": [
    "## Removing NAs"
   ]
  },
  {
   "cell_type": "code",
   "execution_count": 136,
   "id": "5ed45ecb",
   "metadata": {},
   "outputs": [],
   "source": [
    "drop_na = ['acquiror_ticker', 'target_name', 'target_nation', 'target_status', 'target_industry',\n",
    "           'consideration_offered']"
   ]
  },
  {
   "cell_type": "code",
   "execution_count": 137,
   "id": "01e7468c",
   "metadata": {},
   "outputs": [],
   "source": [
    "for col in drop_na:\n",
    "    data = data[data[col].notna()]"
   ]
  },
  {
   "cell_type": "markdown",
   "id": "6e8c7c1b",
   "metadata": {},
   "source": [
    "## Optional: clean consideration offered"
   ]
  },
  {
   "cell_type": "code",
   "execution_count": 138,
   "id": "346111b7",
   "metadata": {},
   "outputs": [
    {
     "data": {
      "text/plain": [
       "0.3874583606876261"
      ]
     },
     "execution_count": 138,
     "metadata": {},
     "output_type": "execute_result"
    }
   ],
   "source": [
    "# 'Unspecified' in consideration_offered has to be removed -> we would lose 38% of our data\n",
    "len(data[data['consideration_offered'] == 'Unspecified']) / len(data)"
   ]
  },
  {
   "cell_type": "code",
   "execution_count": 139,
   "id": "4f445758",
   "metadata": {},
   "outputs": [],
   "source": [
    "# to be excluded in detailed dataset\n",
    "# data = data[data['consideration_offered'] != 'Unspecified']"
   ]
  },
  {
   "cell_type": "markdown",
   "id": "4dab15ae",
   "metadata": {},
   "source": [
    "## US only"
   ]
  },
  {
   "cell_type": "code",
   "execution_count": 140,
   "id": "8d23ac10",
   "metadata": {},
   "outputs": [
    {
     "data": {
      "text/plain": [
       "array(['United States', 'Canada', 'China (Mainland)', 'Russia',\n",
       "       'Hong Kong', 'Philippines', 'Poland', 'Japan', 'Netherlands',\n",
       "       'France', 'Malaysia', 'United Kingdom', 'Australia', 'Taiwan',\n",
       "       'Sweden', 'Bermuda', 'Switzerland', 'Hungary', 'Singapore',\n",
       "       'Israel', 'Peru', 'Argentina', 'Colombia', 'United Arab Emirates',\n",
       "       'Thailand', 'Brazil', 'Cambodia', 'New Zealand', 'Panama',\n",
       "       'South Korea', 'Germany', 'Ireland', 'Italy', 'Ecuador', 'Vietnam',\n",
       "       'Czech Republic', 'Dominican Republic', 'Fiji', 'Kenya', 'Denmark',\n",
       "       'Ukraine', 'Latvia', 'Malta', 'Jamaica', 'Puerto Rico', 'Greece',\n",
       "       'Indonesia', 'U.S. Virgin Islands', 'India'], dtype=object)"
      ]
     },
     "execution_count": 140,
     "metadata": {},
     "output_type": "execute_result"
    }
   ],
   "source": [
    "# Raw data was filtered for nation of incorporation, some nations stayed in\n",
    "data['acquiror_nation'].unique()"
   ]
  },
  {
   "cell_type": "code",
   "execution_count": 141,
   "id": "6ec78f32",
   "metadata": {},
   "outputs": [],
   "source": [
    "data = data[data['acquiror_nation'] == 'United States']"
   ]
  },
  {
   "cell_type": "markdown",
   "id": "c579c918",
   "metadata": {},
   "source": [
    "## Empty acquisitions"
   ]
  },
  {
   "cell_type": "code",
   "execution_count": 142,
   "id": "c524114f",
   "metadata": {},
   "outputs": [
    {
     "data": {
      "text/plain": [
       "(12579, 24)"
      ]
     },
     "execution_count": 142,
     "metadata": {},
     "output_type": "execute_result"
    }
   ],
   "source": [
    "data[data['shares_acquired'] <= 0.0].shape # we have 12579 empty acquisitions"
   ]
  },
  {
   "cell_type": "code",
   "execution_count": 143,
   "id": "33d82049",
   "metadata": {
    "scrolled": true
   },
   "outputs": [],
   "source": [
    "data = data[data['shares_acquired'] > 0.0]"
   ]
  },
  {
   "cell_type": "markdown",
   "id": "50d884ed",
   "metadata": {},
   "source": [
    "## Optional: No purpose given"
   ]
  },
  {
   "cell_type": "code",
   "execution_count": 144,
   "id": "4fd7c300",
   "metadata": {},
   "outputs": [
    {
     "data": {
      "text/plain": [
       "(673, 24)"
      ]
     },
     "execution_count": 144,
     "metadata": {},
     "output_type": "execute_result"
    }
   ],
   "source": [
    "data[data['purpose'] == 'Other'].shape # 673 undefined purpose\n",
    "# + 12533 NaN\n",
    "# = 13206 lost deals"
   ]
  },
  {
   "cell_type": "code",
   "execution_count": 145,
   "id": "db1741e3",
   "metadata": {},
   "outputs": [],
   "source": [
    "# to be excluded in detailed model\n",
    "#data = data[data['purpose'].notna()]\n",
    "#data = data[data['purpose'] != 'Other']"
   ]
  },
  {
   "cell_type": "markdown",
   "id": "b38b078a",
   "metadata": {},
   "source": [
    "## Optional: No acquisition_technique"
   ]
  },
  {
   "cell_type": "code",
   "execution_count": 146,
   "id": "104ed7ff",
   "metadata": {},
   "outputs": [
    {
     "data": {
      "text/plain": [
       "(13940, 24)"
      ]
     },
     "execution_count": 146,
     "metadata": {},
     "output_type": "execute_result"
    }
   ],
   "source": [
    "data[data['acquisition_technique'] == 'Not Applicable'].shape # 13940 not specified"
   ]
  },
  {
   "cell_type": "code",
   "execution_count": 147,
   "id": "311d8e7e",
   "metadata": {},
   "outputs": [],
   "source": [
    "# to be excluded in detailed dataset\n",
    "#data = data[data['acquisition_technique'] != 'Not Applicable']"
   ]
  },
  {
   "cell_type": "markdown",
   "id": "448f2902",
   "metadata": {},
   "source": [
    "## Optional: missing financial data"
   ]
  },
  {
   "cell_type": "code",
   "execution_count": 148,
   "id": "754a70c9",
   "metadata": {},
   "outputs": [],
   "source": [
    "fin_feat = ['deal_value', 'acquiror_total_assets']\n",
    "#for feat in fin_feat:\n",
    "#    data = data[data[feat].notna()]"
   ]
  },
  {
   "cell_type": "markdown",
   "id": "6ee3f3ab",
   "metadata": {},
   "source": [
    "# Upload 1"
   ]
  },
  {
   "cell_type": "code",
   "execution_count": 149,
   "id": "83d55a74",
   "metadata": {},
   "outputs": [
    {
     "data": {
      "text/plain": [
       "id                                     int64\n",
       "announcement_date             datetime64[ns]\n",
       "deal_value                           float64\n",
       "acquiror_total_assets                float64\n",
       "acquiror_name                         object\n",
       "acquiror_ticker                       object\n",
       "target_name                           object\n",
       "target_nation                         object\n",
       "acquiror_nation                       object\n",
       "target_status                         object\n",
       "acquiror_industry                     object\n",
       "target_industry                       object\n",
       "shares_at_announcement               float64\n",
       "shares_acquired                      float64\n",
       "consideration_offered                 object\n",
       "attitude                              object\n",
       "acquisition_technique                 object\n",
       "acquiror_financial_advisor            object\n",
       "target_financial_advisor              object\n",
       "purpose                               object\n",
       "acquiror_code                          int64\n",
       "target_code                            int64\n",
       "acquisition_count                      int64\n",
       "bidder_count                           int64\n",
       "dtype: object"
      ]
     },
     "execution_count": 149,
     "metadata": {},
     "output_type": "execute_result"
    }
   ],
   "source": [
    "data.dtypes"
   ]
  },
  {
   "cell_type": "code",
   "execution_count": 150,
   "id": "2ca1ebdc",
   "metadata": {},
   "outputs": [
    {
     "data": {
      "text/plain": [
       "(27272, 24)"
      ]
     },
     "execution_count": 150,
     "metadata": {},
     "output_type": "execute_result"
    }
   ],
   "source": [
    "data.shape # detailed: 5047 deals, not_detailed: 27272 deals"
   ]
  },
  {
   "cell_type": "code",
   "execution_count": 151,
   "id": "c13f4424",
   "metadata": {},
   "outputs": [],
   "source": [
    "data.to_csv('../../MA_PREDICTOR/data/ma_data.csv', index=False, date_format=\"%d/%m/%Y\")"
   ]
  },
  {
   "cell_type": "markdown",
   "id": "aa803d89",
   "metadata": {},
   "source": [
    "# Clean missing feature (CAR)"
   ]
  },
  {
   "cell_type": "code",
   "execution_count": 152,
   "id": "78b93ede",
   "metadata": {},
   "outputs": [],
   "source": [
    "data_car = pd.read_csv('../../MA_PREDICTOR/data/ma_data_car.csv', parse_dates=['announcement_date'])"
   ]
  },
  {
   "cell_type": "code",
   "execution_count": 154,
   "id": "e39a6b9d",
   "metadata": {},
   "outputs": [
    {
     "data": {
      "text/plain": [
       "id                                0\n",
       "announcement_date                 0\n",
       "deal_value                    12921\n",
       "acquiror_total_assets          1882\n",
       "acquiror_name                     0\n",
       "acquiror_ticker                   0\n",
       "target_name                       0\n",
       "target_nation                     0\n",
       "acquiror_nation                   0\n",
       "target_status                     0\n",
       "acquiror_industry                 0\n",
       "target_industry                   0\n",
       "shares_at_announcement            0\n",
       "shares_acquired                   0\n",
       "consideration_offered             0\n",
       "attitude                          0\n",
       "acquisition_technique             0\n",
       "acquiror_financial_advisor    22135\n",
       "target_financial_advisor      19527\n",
       "purpose                       12533\n",
       "acquiror_code                     0\n",
       "target_code                       0\n",
       "acquisition_count                 0\n",
       "bidder_count                      0\n",
       "car_1                         10838\n",
       "car_3                         10842\n",
       "car_5                         10845\n",
       "car_10                        10858\n",
       "dtype: int64"
      ]
     },
     "execution_count": 154,
     "metadata": {},
     "output_type": "execute_result"
    }
   ],
   "source": [
    "data_car.isna().sum() # we will loose around 10858 observations (before: 8813) and 2022 for detailed"
   ]
  },
  {
   "cell_type": "code",
   "execution_count": 155,
   "id": "62bdfb18",
   "metadata": {},
   "outputs": [],
   "source": [
    "# Clean na values of missing stock/ CAR data\n",
    "cars = [1, 3, 5, 10]\n",
    "for car in cars:\n",
    "    data_car = data_car[data_car[f'car_{car}'].notna()]"
   ]
  },
  {
   "cell_type": "markdown",
   "id": "a1203dc0",
   "metadata": {},
   "source": [
    "# Upload 2"
   ]
  },
  {
   "cell_type": "code",
   "execution_count": 156,
   "id": "d2ecad99",
   "metadata": {},
   "outputs": [],
   "source": [
    "data_car.to_csv('../../MA_PREDICTOR/data/ma_data_car.csv', index=False, date_format=\"%d/%m/%Y\")"
   ]
  },
  {
   "cell_type": "code",
   "execution_count": null,
   "id": "7f7ca2dd",
   "metadata": {},
   "outputs": [],
   "source": []
  }
 ],
 "metadata": {
  "kernelspec": {
   "display_name": "Python 3 (ipykernel)",
   "language": "python",
   "name": "python3"
  },
  "language_info": {
   "codemirror_mode": {
    "name": "ipython",
    "version": 3
   },
   "file_extension": ".py",
   "mimetype": "text/x-python",
   "name": "python",
   "nbconvert_exporter": "python",
   "pygments_lexer": "ipython3",
   "version": "3.8.6"
  },
  "toc": {
   "base_numbering": 1,
   "nav_menu": {},
   "number_sections": true,
   "sideBar": true,
   "skip_h1_title": false,
   "title_cell": "Table of Contents",
   "title_sidebar": "Contents",
   "toc_cell": false,
   "toc_position": {
    "height": "calc(100% - 180px)",
    "left": "10px",
    "top": "150px",
    "width": "288px"
   },
   "toc_section_display": true,
   "toc_window_display": true
  }
 },
 "nbformat": 4,
 "nbformat_minor": 5
}
