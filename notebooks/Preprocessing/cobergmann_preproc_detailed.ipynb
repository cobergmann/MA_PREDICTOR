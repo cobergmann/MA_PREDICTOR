{
 "cells": [
  {
   "cell_type": "code",
   "execution_count": 120,
   "id": "9bb2fcdd",
   "metadata": {
    "ExecuteTime": {
     "end_time": "2021-09-14T15:36:10.223510Z",
     "start_time": "2021-09-14T15:36:10.217440Z"
    }
   },
   "outputs": [],
   "source": [
    "import pandas as pd\n",
    "import numpy as np\n",
    "import random\n",
    "import pickle"
   ]
  },
  {
   "cell_type": "code",
   "execution_count": 121,
   "id": "737e9605",
   "metadata": {
    "ExecuteTime": {
     "end_time": "2021-09-14T15:36:10.284481Z",
     "start_time": "2021-09-14T15:36:10.227770Z"
    }
   },
   "outputs": [],
   "source": [
    "data = pd.read_csv('../../MA_PREDICTOR/data/ma_detailed_data_car.csv', parse_dates=['announcement_date'])"
   ]
  },
  {
   "cell_type": "code",
   "execution_count": 122,
   "id": "4e6bc2b6",
   "metadata": {
    "ExecuteTime": {
     "end_time": "2021-09-14T15:36:10.351099Z",
     "start_time": "2021-09-14T15:36:10.313235Z"
    },
    "scrolled": false
   },
   "outputs": [
    {
     "data": {
      "text/html": [
       "<div>\n",
       "<style scoped>\n",
       "    .dataframe tbody tr th:only-of-type {\n",
       "        vertical-align: middle;\n",
       "    }\n",
       "\n",
       "    .dataframe tbody tr th {\n",
       "        vertical-align: top;\n",
       "    }\n",
       "\n",
       "    .dataframe thead th {\n",
       "        text-align: right;\n",
       "    }\n",
       "</style>\n",
       "<table border=\"1\" class=\"dataframe\">\n",
       "  <thead>\n",
       "    <tr style=\"text-align: right;\">\n",
       "      <th></th>\n",
       "      <th>id</th>\n",
       "      <th>announcement_date</th>\n",
       "      <th>deal_value</th>\n",
       "      <th>acquiror_total_assets</th>\n",
       "      <th>acquiror_name</th>\n",
       "      <th>acquiror_ticker</th>\n",
       "      <th>target_name</th>\n",
       "      <th>target_nation</th>\n",
       "      <th>acquiror_nation</th>\n",
       "      <th>target_status</th>\n",
       "      <th>...</th>\n",
       "      <th>target_financial_advisor</th>\n",
       "      <th>purpose</th>\n",
       "      <th>acquiror_code</th>\n",
       "      <th>target_code</th>\n",
       "      <th>acquisition_count</th>\n",
       "      <th>bidder_count</th>\n",
       "      <th>car_1</th>\n",
       "      <th>car_3</th>\n",
       "      <th>car_5</th>\n",
       "      <th>car_10</th>\n",
       "    </tr>\n",
       "  </thead>\n",
       "  <tbody>\n",
       "    <tr>\n",
       "      <th>0</th>\n",
       "      <td>1629274020</td>\n",
       "      <td>2005-01-04</td>\n",
       "      <td>153.67</td>\n",
       "      <td>6166.05</td>\n",
       "      <td>SuperValu Inc</td>\n",
       "      <td>SVU</td>\n",
       "      <td>Total Logistics Inc</td>\n",
       "      <td>United States</td>\n",
       "      <td>United States</td>\n",
       "      <td>Public</td>\n",
       "      <td>...</td>\n",
       "      <td>William Blair &amp; Co</td>\n",
       "      <td>Strengthen existing operations/expand presence...</td>\n",
       "      <td>54301020</td>\n",
       "      <td>52405030</td>\n",
       "      <td>23</td>\n",
       "      <td>1</td>\n",
       "      <td>-0.009362</td>\n",
       "      <td>0.001308</td>\n",
       "      <td>0.018041</td>\n",
       "      <td>0.056428</td>\n",
       "    </tr>\n",
       "    <tr>\n",
       "      <th>1</th>\n",
       "      <td>1631278020</td>\n",
       "      <td>2005-01-11</td>\n",
       "      <td>89.16</td>\n",
       "      <td>11127.95</td>\n",
       "      <td>Fulton Financial Corp</td>\n",
       "      <td>FULT</td>\n",
       "      <td>SVB Financial Services Inc, Sommerville,New Je...</td>\n",
       "      <td>United States</td>\n",
       "      <td>United States</td>\n",
       "      <td>Public</td>\n",
       "      <td>...</td>\n",
       "      <td>Danielson Associates Inc</td>\n",
       "      <td>Expand presence in new/foreign markets</td>\n",
       "      <td>55101010</td>\n",
       "      <td>55101010</td>\n",
       "      <td>18</td>\n",
       "      <td>1</td>\n",
       "      <td>-0.011249</td>\n",
       "      <td>0.004454</td>\n",
       "      <td>0.012696</td>\n",
       "      <td>0.044807</td>\n",
       "    </tr>\n",
       "    <tr>\n",
       "      <th>2</th>\n",
       "      <td>1631266040</td>\n",
       "      <td>2005-01-12</td>\n",
       "      <td>427.54</td>\n",
       "      <td>1116.90</td>\n",
       "      <td>Cleveland-Cliffs Inc</td>\n",
       "      <td>CLF</td>\n",
       "      <td>Portman Ltd</td>\n",
       "      <td>Australia</td>\n",
       "      <td>United States</td>\n",
       "      <td>Public</td>\n",
       "      <td>...</td>\n",
       "      <td>Gresham Partners|Azure Capital</td>\n",
       "      <td>Strengthen existing operations/expand presence...</td>\n",
       "      <td>51201020</td>\n",
       "      <td>51201020</td>\n",
       "      <td>8</td>\n",
       "      <td>1</td>\n",
       "      <td>0.013061</td>\n",
       "      <td>0.056958</td>\n",
       "      <td>0.055917</td>\n",
       "      <td>0.016918</td>\n",
       "    </tr>\n",
       "    <tr>\n",
       "      <th>3</th>\n",
       "      <td>1632555020</td>\n",
       "      <td>2005-01-18</td>\n",
       "      <td>232.22</td>\n",
       "      <td>15834.52</td>\n",
       "      <td>Colonial BancGroup Inc</td>\n",
       "      <td>CNB</td>\n",
       "      <td>FFLC Bancorp Inc,Leesburg, Florida</td>\n",
       "      <td>United States</td>\n",
       "      <td>United States</td>\n",
       "      <td>Public</td>\n",
       "      <td>...</td>\n",
       "      <td>Keefe Bruyette &amp; Woods Inc</td>\n",
       "      <td>Create synergies, eliminate duplicate services...</td>\n",
       "      <td>55101010</td>\n",
       "      <td>55101010</td>\n",
       "      <td>40</td>\n",
       "      <td>1</td>\n",
       "      <td>0.060476</td>\n",
       "      <td>-0.010042</td>\n",
       "      <td>0.002116</td>\n",
       "      <td>0.040544</td>\n",
       "    </tr>\n",
       "    <tr>\n",
       "      <th>4</th>\n",
       "      <td>1634502020</td>\n",
       "      <td>2005-01-26</td>\n",
       "      <td>2211.08</td>\n",
       "      <td>1105.45</td>\n",
       "      <td>Cimarex Energy Co</td>\n",
       "      <td>XEC</td>\n",
       "      <td>Magnum Hunter Resources Inc</td>\n",
       "      <td>United States</td>\n",
       "      <td>United States</td>\n",
       "      <td>Public</td>\n",
       "      <td>...</td>\n",
       "      <td>Deutsche Bank Securities|Merrill Lynch</td>\n",
       "      <td>Strengthen existing operations/expand presence...</td>\n",
       "      <td>50102020</td>\n",
       "      <td>50102020</td>\n",
       "      <td>0</td>\n",
       "      <td>1</td>\n",
       "      <td>-0.093760</td>\n",
       "      <td>-0.082288</td>\n",
       "      <td>-0.082288</td>\n",
       "      <td>-0.061740</td>\n",
       "    </tr>\n",
       "  </tbody>\n",
       "</table>\n",
       "<p>5 rows × 28 columns</p>\n",
       "</div>"
      ],
      "text/plain": [
       "           id announcement_date  deal_value  acquiror_total_assets  \\\n",
       "0  1629274020        2005-01-04      153.67                6166.05   \n",
       "1  1631278020        2005-01-11       89.16               11127.95   \n",
       "2  1631266040        2005-01-12      427.54                1116.90   \n",
       "3  1632555020        2005-01-18      232.22               15834.52   \n",
       "4  1634502020        2005-01-26     2211.08                1105.45   \n",
       "\n",
       "            acquiror_name acquiror_ticker  \\\n",
       "0           SuperValu Inc             SVU   \n",
       "1   Fulton Financial Corp            FULT   \n",
       "2    Cleveland-Cliffs Inc             CLF   \n",
       "3  Colonial BancGroup Inc             CNB   \n",
       "4       Cimarex Energy Co             XEC   \n",
       "\n",
       "                                         target_name  target_nation  \\\n",
       "0                                Total Logistics Inc  United States   \n",
       "1  SVB Financial Services Inc, Sommerville,New Je...  United States   \n",
       "2                                        Portman Ltd      Australia   \n",
       "3                 FFLC Bancorp Inc,Leesburg, Florida  United States   \n",
       "4                        Magnum Hunter Resources Inc  United States   \n",
       "\n",
       "  acquiror_nation target_status  ...                target_financial_advisor  \\\n",
       "0   United States        Public  ...                      William Blair & Co   \n",
       "1   United States        Public  ...                Danielson Associates Inc   \n",
       "2   United States        Public  ...          Gresham Partners|Azure Capital   \n",
       "3   United States        Public  ...              Keefe Bruyette & Woods Inc   \n",
       "4   United States        Public  ...  Deutsche Bank Securities|Merrill Lynch   \n",
       "\n",
       "                                             purpose  acquiror_code  \\\n",
       "0  Strengthen existing operations/expand presence...       54301020   \n",
       "1             Expand presence in new/foreign markets       55101010   \n",
       "2  Strengthen existing operations/expand presence...       51201020   \n",
       "3  Create synergies, eliminate duplicate services...       55101010   \n",
       "4  Strengthen existing operations/expand presence...       50102020   \n",
       "\n",
       "   target_code acquisition_count bidder_count     car_1     car_3     car_5  \\\n",
       "0     52405030                23            1 -0.009362  0.001308  0.018041   \n",
       "1     55101010                18            1 -0.011249  0.004454  0.012696   \n",
       "2     51201020                 8            1  0.013061  0.056958  0.055917   \n",
       "3     55101010                40            1  0.060476 -0.010042  0.002116   \n",
       "4     50102020                 0            1 -0.093760 -0.082288 -0.082288   \n",
       "\n",
       "     car_10  \n",
       "0  0.056428  \n",
       "1  0.044807  \n",
       "2  0.016918  \n",
       "3  0.040544  \n",
       "4 -0.061740  \n",
       "\n",
       "[5 rows x 28 columns]"
      ]
     },
     "execution_count": 122,
     "metadata": {},
     "output_type": "execute_result"
    }
   ],
   "source": [
    "data.head()"
   ]
  },
  {
   "cell_type": "code",
   "execution_count": 123,
   "id": "898fd9b3",
   "metadata": {
    "ExecuteTime": {
     "end_time": "2021-09-14T15:36:10.375659Z",
     "start_time": "2021-09-14T15:36:10.361407Z"
    }
   },
   "outputs": [
    {
     "data": {
      "text/plain": [
       "Index(['id', 'announcement_date', 'deal_value', 'acquiror_total_assets',\n",
       "       'acquiror_name', 'acquiror_ticker', 'target_name', 'target_nation',\n",
       "       'acquiror_nation', 'target_status', 'acquiror_industry',\n",
       "       'target_industry', 'shares_at_announcement', 'shares_acquired',\n",
       "       'consideration_offered', 'attitude', 'acquisition_technique',\n",
       "       'acquiror_financial_advisor', 'target_financial_advisor', 'purpose',\n",
       "       'acquiror_code', 'target_code', 'acquisition_count', 'bidder_count',\n",
       "       'car_1', 'car_3', 'car_5', 'car_10'],\n",
       "      dtype='object')"
      ]
     },
     "execution_count": 123,
     "metadata": {},
     "output_type": "execute_result"
    }
   ],
   "source": [
    "data.columns"
   ]
  },
  {
   "cell_type": "code",
   "execution_count": 124,
   "id": "5ca38757",
   "metadata": {
    "ExecuteTime": {
     "end_time": "2021-09-14T15:36:10.394447Z",
     "start_time": "2021-09-14T15:36:10.383004Z"
    }
   },
   "outputs": [],
   "source": [
    "# Creating new dataframe to work on\n",
    "\n",
    "clean = data[['announcement_date',\n",
    "              'deal_value', 'acquiror_total_assets', # financials\n",
    "              'target_nation', 'acquiror_nation', 'target_status', # participants\n",
    "              'acquiror_code', 'target_code', # participants\n",
    "              'acquisition_count', # participants\n",
    "              'shares_at_announcement', 'shares_acquired', # deal\n",
    "              'consideration_offered', 'acquisition_technique', 'purpose', # deal \n",
    "              'acquiror_financial_advisor', 'target_financial_advisor', # deal\n",
    "              'bidder_count', # deal \n",
    "              'car_1', 'car_3', 'car_5', 'car_10'\n",
    "             ]].copy()"
   ]
  },
  {
   "cell_type": "markdown",
   "id": "b2c34392",
   "metadata": {},
   "source": [
    "# announcement_date (month)"
   ]
  },
  {
   "cell_type": "code",
   "execution_count": 125,
   "id": "0abe964f",
   "metadata": {
    "ExecuteTime": {
     "end_time": "2021-09-14T15:36:10.418057Z",
     "start_time": "2021-09-14T15:36:10.405965Z"
    }
   },
   "outputs": [],
   "source": [
    "clean['month']= pd.DatetimeIndex(clean['announcement_date']).month"
   ]
  },
  {
   "cell_type": "markdown",
   "id": "8bff2773",
   "metadata": {},
   "source": [
    "# deal_value (relative deal_value)"
   ]
  },
  {
   "cell_type": "code",
   "execution_count": 126,
   "id": "13a6ba95",
   "metadata": {
    "ExecuteTime": {
     "end_time": "2021-09-14T15:36:10.939328Z",
     "start_time": "2021-09-14T15:36:10.430927Z"
    }
   },
   "outputs": [],
   "source": [
    "clean['rel_deal_value'] = clean.apply(lambda row:\n",
    "                                       row.deal_value / row.acquiror_total_assets\n",
    "                                       if row.acquiror_total_assets # one observation has 0 total assets and\n",
    "                                       else -1000, # will be filtered out\n",
    "                                       axis=1)\n",
    "\n",
    "# Filtering out acquiror_total_assets = 0\n",
    "clean = clean[clean.rel_deal_value > 0]\n",
    "\n",
    "# Dropping cols\n",
    "clean.drop(columns=['deal_value', 'acquiror_total_assets'], inplace=True)"
   ]
  },
  {
   "cell_type": "markdown",
   "id": "49c8fa83",
   "metadata": {},
   "source": [
    "# acquiror_nation & target_nation (cross-border)"
   ]
  },
  {
   "cell_type": "code",
   "execution_count": 127,
   "id": "e0d7354d",
   "metadata": {
    "ExecuteTime": {
     "end_time": "2021-09-14T15:36:11.238308Z",
     "start_time": "2021-09-14T15:36:10.998212Z"
    },
    "scrolled": true
   },
   "outputs": [],
   "source": [
    "clean['cross_border'] = clean.apply(lambda row:\n",
    "                                    'cross_border'\n",
    "                                    if row.acquiror_nation == row.target_nation\n",
    "                                    else 'national',\n",
    "                                    axis=1)\n",
    "# Dropping cols\n",
    "clean.drop(columns=['acquiror_nation', 'target_nation'], inplace=True)"
   ]
  },
  {
   "cell_type": "markdown",
   "id": "90c1703b",
   "metadata": {},
   "source": [
    "# target_status"
   ]
  },
  {
   "cell_type": "code",
   "execution_count": 128,
   "id": "fd06e586",
   "metadata": {
    "ExecuteTime": {
     "end_time": "2021-09-14T15:36:11.266246Z",
     "start_time": "2021-09-14T15:36:11.253382Z"
    }
   },
   "outputs": [],
   "source": [
    "clean['target_status'] = clean['target_status'].apply(lambda val:\n",
    "                                                      'public'\n",
    "                                                      if val== 'Public'\n",
    "                                                      else 'others')"
   ]
  },
  {
   "cell_type": "markdown",
   "id": "e2d953f1",
   "metadata": {},
   "source": [
    "# acquiror_code & target_code (relatedness)"
   ]
  },
  {
   "cell_type": "code",
   "execution_count": 129,
   "id": "7cc3ed2b",
   "metadata": {
    "ExecuteTime": {
     "end_time": "2021-09-14T15:36:11.282406Z",
     "start_time": "2021-09-14T15:36:11.271615Z"
    }
   },
   "outputs": [],
   "source": [
    "# Get relatedness from TRBC code\n",
    "def relatedness(acquiror, target):\n",
    "    if acquiror == target:\n",
    "        return 'industry'\n",
    "    elif acquiror[:6] == target[:6]:\n",
    "        return 'industry_group'\n",
    "    elif acquiror[:4] == target[:4]:\n",
    "        return 'business_sector'\n",
    "    elif acquiror[:2] == target[:2]:\n",
    "        return 'economic_sector'\n",
    "    else:\n",
    "        return 'not_related'"
   ]
  },
  {
   "cell_type": "code",
   "execution_count": 130,
   "id": "74f75039",
   "metadata": {
    "ExecuteTime": {
     "end_time": "2021-09-14T15:36:11.572694Z",
     "start_time": "2021-09-14T15:36:11.291491Z"
    }
   },
   "outputs": [],
   "source": [
    "clean['relatedness'] = clean.apply(lambda row:\n",
    "                                   relatedness(str(row.acquiror_code), str(row.target_code)),\n",
    "                                   axis=1)"
   ]
  },
  {
   "cell_type": "markdown",
   "id": "85c13ec0",
   "metadata": {},
   "source": [
    "# acquiror_code & target_code (industries)"
   ]
  },
  {
   "cell_type": "markdown",
   "id": "93590da0",
   "metadata": {},
   "source": [
    "## Declassifier"
   ]
  },
  {
   "cell_type": "code",
   "execution_count": 131,
   "id": "e00b9e13",
   "metadata": {
    "ExecuteTime": {
     "end_time": "2021-09-14T15:36:11.593089Z",
     "start_time": "2021-09-14T15:36:11.583245Z"
    }
   },
   "outputs": [],
   "source": [
    "# transform code into different cols mentioned above\n",
    "def declassifier(x):\n",
    "    x = str(x)\n",
    "    return x[:2], x[:4]"
   ]
  },
  {
   "cell_type": "code",
   "execution_count": 132,
   "id": "62038a02",
   "metadata": {
    "ExecuteTime": {
     "end_time": "2021-09-14T15:36:11.644591Z",
     "start_time": "2021-09-14T15:36:11.601970Z"
    }
   },
   "outputs": [],
   "source": [
    "clean['economic_sector_ac'], clean['business_sector_ac'] = \\\n",
    "zip(*clean['acquiror_code'].map(declassifier))\n",
    "clean['economic_sector_target'], clean['business_sector_target'] = \\\n",
    "zip(*clean['target_code'].map(declassifier))"
   ]
  },
  {
   "cell_type": "code",
   "execution_count": 133,
   "id": "dae89e26",
   "metadata": {
    "ExecuteTime": {
     "end_time": "2021-09-14T15:36:11.670846Z",
     "start_time": "2021-09-14T15:36:11.653923Z"
    }
   },
   "outputs": [],
   "source": [
    "clean.drop(columns=['acquiror_code', 'target_code'], inplace=True)"
   ]
  },
  {
   "cell_type": "markdown",
   "id": "638bdcde",
   "metadata": {},
   "source": [
    "## Implementation of the declassifier function"
   ]
  },
  {
   "cell_type": "code",
   "execution_count": 134,
   "id": "c230e935",
   "metadata": {
    "ExecuteTime": {
     "end_time": "2021-09-14T15:36:11.696145Z",
     "start_time": "2021-09-14T15:36:11.684125Z"
    }
   },
   "outputs": [],
   "source": [
    "# Implement the declassifier\n",
    "\n",
    "pickle_in = open(\"../../MA_PREDICTOR/data//declassification.pkl\",\"rb\")\n",
    "results = pickle.load(pickle_in)"
   ]
  },
  {
   "cell_type": "code",
   "execution_count": 135,
   "id": "b7896db0",
   "metadata": {
    "ExecuteTime": {
     "end_time": "2021-09-14T15:36:11.774886Z",
     "start_time": "2021-09-14T15:36:11.759716Z"
    }
   },
   "outputs": [],
   "source": [
    "def get_info_trbc(hierarchical_id):\n",
    "    str_id= str(hierarchical_id)\n",
    "    try:\n",
    "        if len(str_id)==2:\n",
    "            s = results.loc[results['hierarchical_id'].str.startswith(str_id), 'economic_sector'].reset_index(drop=True)\n",
    "            return s[0]\n",
    "        elif len(str_id)==4:\n",
    "            r = results.loc[results['hierarchical_id'].str.startswith(str_id), 'business_sector'].reset_index(drop=True)\n",
    "            return r[0]\n",
    "        elif len(str_id)==6:\n",
    "            q = results.loc[results['hierarchical_id'].str.startswith(str_id), 'industry_group'].reset_index(drop=True)\n",
    "            return q[0] \n",
    "        elif len(str_id)==8:\n",
    "            p = results.loc[results['hierarchical_id'].str.startswith(str_id), 'industry'].reset_index(drop=True)\n",
    "            return p[0] \n",
    "        else:\n",
    "            print(\"Please enter a valid hierarchical ID.\")\n",
    "    except:\n",
    "        print(\"Please enter a valid hierarchical ID.\")"
   ]
  },
  {
   "cell_type": "code",
   "execution_count": 136,
   "id": "8e4f56fb",
   "metadata": {
    "ExecuteTime": {
     "end_time": "2021-09-14T15:36:41.586174Z",
     "start_time": "2021-09-14T15:36:11.785424Z"
    }
   },
   "outputs": [],
   "source": [
    "clean['economic_sector_ac'] = clean.apply(lambda row: get_info_trbc(row.economic_sector_ac), axis=1)\n",
    "clean['business_sector_ac'] = clean.apply(lambda row: get_info_trbc(row.business_sector_ac), axis=1)\n",
    "clean['economic_sector_target'] = clean.apply(lambda row: get_info_trbc(row.economic_sector_target), axis=1)\n",
    "clean['business_sector_target'] = clean.apply(lambda row: get_info_trbc(row.business_sector_target), axis=1)"
   ]
  },
  {
   "cell_type": "markdown",
   "id": "507e701f",
   "metadata": {},
   "source": [
    "# shares_acquired"
   ]
  },
  {
   "cell_type": "code",
   "execution_count": 137,
   "id": "5dfb2968",
   "metadata": {
    "ExecuteTime": {
     "end_time": "2021-09-14T15:36:41.628500Z",
     "start_time": "2021-09-14T15:36:41.600615Z"
    },
    "scrolled": true
   },
   "outputs": [],
   "source": [
    "clean['shares_acquired'] = clean['shares_acquired'].astype(str)"
   ]
  },
  {
   "cell_type": "code",
   "execution_count": 138,
   "id": "834e526b",
   "metadata": {
    "ExecuteTime": {
     "end_time": "2021-09-14T15:36:41.748966Z",
     "start_time": "2021-09-14T15:36:41.701305Z"
    },
    "scrolled": false
   },
   "outputs": [],
   "source": [
    "# Apply\n",
    "clean['shares_acquired'] = clean['shares_acquired'].apply(lambda val:\n",
    "                                                          \"full\"\n",
    "                                                          if val==\"100.0\"\n",
    "                                                          else \"not_full\")"
   ]
  },
  {
   "cell_type": "markdown",
   "id": "2ce4a266",
   "metadata": {},
   "source": [
    "# shares_at_announcement"
   ]
  },
  {
   "cell_type": "code",
   "execution_count": 139,
   "id": "5b35f1f8",
   "metadata": {
    "ExecuteTime": {
     "end_time": "2021-09-14T15:36:41.780500Z",
     "start_time": "2021-09-14T15:36:41.766486Z"
    },
    "scrolled": false
   },
   "outputs": [],
   "source": [
    "# Transform\n",
    "clean['shares_at_announcement'] = clean['shares_at_announcement'].astype(str)\n",
    "\n",
    "# Apply\n",
    "clean['shares_at_announcement'] = clean['shares_at_announcement'].apply(lambda val: \"no\" if val==\"0.0\" else \"yes\")"
   ]
  },
  {
   "cell_type": "markdown",
   "id": "daa5205e",
   "metadata": {},
   "source": [
    "# consideration_offered"
   ]
  },
  {
   "cell_type": "code",
   "execution_count": 140,
   "id": "7a320867",
   "metadata": {
    "ExecuteTime": {
     "end_time": "2021-09-14T15:36:42.017646Z",
     "start_time": "2021-09-14T15:36:41.791197Z"
    }
   },
   "outputs": [],
   "source": [
    "# transform pipes into list of all considerations\n",
    "list_gen = lambda x: x.split('|')\n",
    "clean['consideration_offered'] = clean.consideration_offered.apply(list_gen)\n",
    "\n",
    "# Cluster considerations\n",
    "def cash(considerations):\n",
    "    \n",
    "    for consideration in considerations:\n",
    "        if 'Cash' not in consideration:\n",
    "            return 'Other'\n",
    "    return 'Cash'\n",
    "\n",
    "# Apply\n",
    "clean['consideration_offered'] = clean.apply(lambda row:\n",
    "                                             cash(row.consideration_offered),\n",
    "                                             axis=1)"
   ]
  },
  {
   "cell_type": "markdown",
   "id": "530ac374",
   "metadata": {},
   "source": [
    "# acquisition_technique (tbc with defined cluster of techniques)"
   ]
  },
  {
   "cell_type": "code",
   "execution_count": 141,
   "id": "cbd838d9",
   "metadata": {
    "ExecuteTime": {
     "end_time": "2021-09-14T15:38:28.630881Z",
     "start_time": "2021-09-14T15:38:28.622453Z"
    }
   },
   "outputs": [],
   "source": [
    "cluster_dict = {\n",
    "        'private_companies': ['Reverse Takeover',\n",
    "                              'Acquiror Is An Investor Group',\n",
    "                              'Privatization',\n",
    "                              'Private Tender Offer',\n",
    "                              'Privately Negotiated Purchase',\n",
    "                              'Secondary Buyout', \n",
    "                              'Going Private'],\n",
    "        'asset_driven_op': ['Mandatory Offering',\n",
    "                            'Mergerof Equals',\n",
    "                            'Collar',\n",
    "                            'Joint Venture', \n",
    "                            'Reverse Morris Trust',\n",
    "                            'Sale and Leaseback',\n",
    "                            'Property Acquisition Flag',\n",
    "                            'Concession',\n",
    "                            'Asset Swap',\n",
    "                            'Stock Swap'],\n",
    "        'divestiture': ['Divestiture', \n",
    "                        'Institutional Buyout', \n",
    "                        'Leveraged Buyout',\n",
    "                        'Tender Merger',\n",
    "                        'Tender Offer', \n",
    "                        'Open Market Purchase',\n",
    "                        'Financial Acquiror', \n",
    "                        'Debt Restructuring', \n",
    "                        'Internal Reorganization',\n",
    "                        'Three Way Merger',\n",
    "                        'Rumored Deal',\n",
    "                        'Schemeof Arrangement',\n",
    "                        'Unsolicited Deal'],\n",
    "        'possible_problematic': ['Litigation',\n",
    "                                 'Acquiror Includes Management',\n",
    "                                 'Acquiror Is A White Knight',\n",
    "                                 'Proxy Fight'],\n",
    "        'bankruptcy': ['Bankruptcy Acquisition',\n",
    "                       'Restructuring',\n",
    "                       'Auction']\n",
    "                                 \n",
    "    }"
   ]
  },
  {
   "cell_type": "code",
   "execution_count": 142,
   "id": "9ca1afbd",
   "metadata": {
    "ExecuteTime": {
     "end_time": "2021-09-14T15:38:34.410323Z",
     "start_time": "2021-09-14T15:38:34.401396Z"
    },
    "scrolled": true
   },
   "outputs": [],
   "source": [
    "clean[\"acquisition_technique_clean\"] = clean[\"acquisition_technique\"].apply(lambda x: x[:x.find(\"|\")] if \"|\" in x else x)"
   ]
  },
  {
   "cell_type": "code",
   "execution_count": 143,
   "id": "a058c6aa",
   "metadata": {
    "ExecuteTime": {
     "end_time": "2021-09-14T15:39:03.902285Z",
     "start_time": "2021-09-14T15:39:03.897285Z"
    }
   },
   "outputs": [],
   "source": [
    "def get_cluster(technique):\n",
    "        #cluster_df = pd.DataFrame(cluster_dict)\n",
    "    for k, v in cluster_dict.items():\n",
    "        if technique in v:\n",
    "            return k"
   ]
  },
  {
   "cell_type": "code",
   "execution_count": 144,
   "id": "2a30afb0",
   "metadata": {
    "ExecuteTime": {
     "end_time": "2021-09-14T15:39:20.427714Z",
     "start_time": "2021-09-14T15:39:20.415878Z"
    }
   },
   "outputs": [],
   "source": [
    "clean['cluster_category'] = clean['acquisition_technique_clean'].apply(get_cluster)\n",
    "    \n"
   ]
  },
  {
   "cell_type": "code",
   "execution_count": 145,
   "id": "a4ac3c3d",
   "metadata": {
    "ExecuteTime": {
     "end_time": "2021-09-14T15:41:31.458107Z",
     "start_time": "2021-09-14T15:41:31.450151Z"
    }
   },
   "outputs": [],
   "source": [
    "clean.drop('acquisition_technique_clean', inplace=True, axis=1)"
   ]
  },
  {
   "cell_type": "markdown",
   "id": "7e2eb01d",
   "metadata": {},
   "source": [
    "# acquiror_financial_advisor & target_financial_advisor (count)"
   ]
  },
  {
   "cell_type": "markdown",
   "id": "bb7cf599",
   "metadata": {},
   "source": [
    "**Top 10 M&A advisors sourced from dealroom (https://dealroom.net/blog/biggest-m-a-firms)**"
   ]
  },
  {
   "cell_type": "code",
   "execution_count": 146,
   "id": "65eec8cb",
   "metadata": {
    "ExecuteTime": {
     "end_time": "2021-09-14T15:42:01.921853Z",
     "start_time": "2021-09-14T15:42:01.525187Z"
    }
   },
   "outputs": [],
   "source": [
    "# Defining top advisors\n",
    "\n",
    "parties = ['acquiror_financial_advisor', 'target_financial_advisor']\n",
    "adv = clean[parties].copy()\n",
    "\n",
    "# Filling up NAs with 'Unknown'\n",
    "adv.fillna('Unknown', inplace=True)\n",
    "\n",
    "# unpack advisors and put them into set\n",
    "advisors = set()\n",
    "for index, row in adv.iterrows():\n",
    "    for advisor in row['acquiror_financial_advisor'].split('|'):\n",
    "        advisors.add(advisor)\n",
    "    for advisor in row['acquiror_financial_advisor'].split('|'):\n",
    "        advisors.add(advisor)\n",
    "        \n",
    "# Defining list of top M&A advisors ()\n",
    "base = ['Barclays', 'Bank of America', 'Citi', 'Credit Suisse','Goldman Sachs',\n",
    "        'JP Morgan', 'Lazard', 'Morgan Stanley', 'Rothschild', 'UBS']\n",
    "\n",
    "# Adjust advisor's name to dataset (preliminary operation)\n",
    "top_advisors = []\n",
    "for advisor in advisors: # iterating through set of advisors\n",
    "    for top_advisor in base:\n",
    "        if top_advisor in advisor: # if (base) name of top_advisors is in set append\n",
    "            top_advisors.append(advisor)\n",
    "            \n",
    "top_advisors = sorted(top_advisors)\n",
    "\n",
    "# Manually investigate top_advisors and append/ remove accordingly\n",
    "top_advisors.remove('Mitsubishi UFJ Morgan Stanley')"
   ]
  },
  {
   "cell_type": "code",
   "execution_count": 147,
   "id": "a3b49460",
   "metadata": {
    "ExecuteTime": {
     "end_time": "2021-09-14T15:42:03.524185Z",
     "start_time": "2021-09-14T15:42:02.997066Z"
    }
   },
   "outputs": [],
   "source": [
    "# Find out how many top_advisors were involved in transaction\n",
    "\n",
    "# Filling up NAs with 'Unknown'\n",
    "clean.fillna('Unknown', inplace=True)\n",
    "\n",
    "# Transforming advisor pipe(s) into lists to iterate through\n",
    "list_gen = lambda x: x.split('|')\n",
    "\n",
    "for party in parties:\n",
    "    clean[party] = clean[party].apply(list_gen)\n",
    "\n",
    "# Counting number of top_advisors per deal (acquiror_side)\n",
    "def counter(advisors):\n",
    "    count = 0\n",
    "    for advisor in advisors:\n",
    "        if advisor in top_advisors:\n",
    "            count += 1\n",
    "    return count\n",
    "\n",
    "# Create new cols for acquiror and target\n",
    "clean['a_fin_adv_count'] = clean.apply(lambda row: counter(row.acquiror_financial_advisor), axis=1)\n",
    "clean['t_fin_adv_count'] = clean.apply(lambda row: counter(row.target_financial_advisor), axis=1)\n",
    "\n",
    "# Drop cols\n",
    "clean.drop(columns=parties, inplace=True)"
   ]
  },
  {
   "cell_type": "markdown",
   "id": "afe14f31",
   "metadata": {},
   "source": [
    "# Clean-up"
   ]
  },
  {
   "cell_type": "code",
   "execution_count": 148,
   "id": "5779d6ce",
   "metadata": {
    "ExecuteTime": {
     "end_time": "2021-09-14T15:42:06.432070Z",
     "start_time": "2021-09-14T15:42:06.425506Z"
    }
   },
   "outputs": [],
   "source": [
    "clean.drop(columns=['acquisition_technique', 'purpose'], inplace=True) # Comment if necessary"
   ]
  },
  {
   "cell_type": "code",
   "execution_count": 149,
   "id": "11e7c2af",
   "metadata": {
    "ExecuteTime": {
     "end_time": "2021-09-14T15:42:06.827050Z",
     "start_time": "2021-09-14T15:42:06.817480Z"
    }
   },
   "outputs": [
    {
     "data": {
      "text/plain": [
       "Index(['announcement_date', 'target_status', 'acquisition_count',\n",
       "       'shares_at_announcement', 'shares_acquired', 'consideration_offered',\n",
       "       'bidder_count', 'car_1', 'car_3', 'car_5', 'car_10', 'month',\n",
       "       'rel_deal_value', 'cross_border', 'relatedness', 'economic_sector_ac',\n",
       "       'business_sector_ac', 'economic_sector_target',\n",
       "       'business_sector_target', 'cluster_category', 'a_fin_adv_count',\n",
       "       't_fin_adv_count'],\n",
       "      dtype='object')"
      ]
     },
     "execution_count": 149,
     "metadata": {},
     "output_type": "execute_result"
    }
   ],
   "source": [
    "clean.columns"
   ]
  },
  {
   "cell_type": "code",
   "execution_count": 150,
   "id": "27bf6f78",
   "metadata": {
    "ExecuteTime": {
     "end_time": "2021-09-14T15:42:07.225930Z",
     "start_time": "2021-09-14T15:42:07.220594Z"
    },
    "scrolled": true
   },
   "outputs": [],
   "source": [
    "old_order = clean.columns.tolist()\n",
    "new_order = old_order[:7] + old_order[11:] + old_order[7:11]"
   ]
  },
  {
   "cell_type": "code",
   "execution_count": 152,
   "id": "9ad6bb4a",
   "metadata": {
    "ExecuteTime": {
     "end_time": "2021-09-14T15:42:07.755875Z",
     "start_time": "2021-09-14T15:42:07.748626Z"
    }
   },
   "outputs": [],
   "source": [
    "clean = clean[new_order]"
   ]
  },
  {
   "cell_type": "code",
   "execution_count": 153,
   "id": "76890569",
   "metadata": {
    "ExecuteTime": {
     "end_time": "2021-09-14T15:42:08.074760Z",
     "start_time": "2021-09-14T15:42:08.065050Z"
    }
   },
   "outputs": [
    {
     "data": {
      "text/plain": [
       "(3025, 22)"
      ]
     },
     "execution_count": 153,
     "metadata": {},
     "output_type": "execute_result"
    }
   ],
   "source": [
    "clean.shape"
   ]
  },
  {
   "cell_type": "code",
   "execution_count": 154,
   "id": "b228bc14",
   "metadata": {
    "ExecuteTime": {
     "end_time": "2021-09-14T15:42:08.413177Z",
     "start_time": "2021-09-14T15:42:08.373872Z"
    }
   },
   "outputs": [
    {
     "data": {
      "text/html": [
       "<div>\n",
       "<style scoped>\n",
       "    .dataframe tbody tr th:only-of-type {\n",
       "        vertical-align: middle;\n",
       "    }\n",
       "\n",
       "    .dataframe tbody tr th {\n",
       "        vertical-align: top;\n",
       "    }\n",
       "\n",
       "    .dataframe thead th {\n",
       "        text-align: right;\n",
       "    }\n",
       "</style>\n",
       "<table border=\"1\" class=\"dataframe\">\n",
       "  <thead>\n",
       "    <tr style=\"text-align: right;\">\n",
       "      <th></th>\n",
       "      <th>announcement_date</th>\n",
       "      <th>target_status</th>\n",
       "      <th>acquisition_count</th>\n",
       "      <th>shares_at_announcement</th>\n",
       "      <th>shares_acquired</th>\n",
       "      <th>consideration_offered</th>\n",
       "      <th>bidder_count</th>\n",
       "      <th>month</th>\n",
       "      <th>rel_deal_value</th>\n",
       "      <th>cross_border</th>\n",
       "      <th>...</th>\n",
       "      <th>business_sector_ac</th>\n",
       "      <th>economic_sector_target</th>\n",
       "      <th>business_sector_target</th>\n",
       "      <th>cluster_category</th>\n",
       "      <th>a_fin_adv_count</th>\n",
       "      <th>t_fin_adv_count</th>\n",
       "      <th>car_1</th>\n",
       "      <th>car_3</th>\n",
       "      <th>car_5</th>\n",
       "      <th>car_10</th>\n",
       "    </tr>\n",
       "  </thead>\n",
       "  <tbody>\n",
       "    <tr>\n",
       "      <th>0</th>\n",
       "      <td>2005-01-04</td>\n",
       "      <td>public</td>\n",
       "      <td>23</td>\n",
       "      <td>no</td>\n",
       "      <td>full</td>\n",
       "      <td>Cash</td>\n",
       "      <td>1</td>\n",
       "      <td>1</td>\n",
       "      <td>0.024922</td>\n",
       "      <td>cross_border</td>\n",
       "      <td>...</td>\n",
       "      <td>Food &amp; Drug Retailing</td>\n",
       "      <td>Industrials</td>\n",
       "      <td>Transportation</td>\n",
       "      <td>divestiture</td>\n",
       "      <td>1</td>\n",
       "      <td>0</td>\n",
       "      <td>-0.009362</td>\n",
       "      <td>0.001308</td>\n",
       "      <td>0.018041</td>\n",
       "      <td>0.056428</td>\n",
       "    </tr>\n",
       "    <tr>\n",
       "      <th>1</th>\n",
       "      <td>2005-01-11</td>\n",
       "      <td>public</td>\n",
       "      <td>18</td>\n",
       "      <td>no</td>\n",
       "      <td>full</td>\n",
       "      <td>Other</td>\n",
       "      <td>1</td>\n",
       "      <td>1</td>\n",
       "      <td>0.008012</td>\n",
       "      <td>cross_border</td>\n",
       "      <td>...</td>\n",
       "      <td>Banking &amp; Investment Services</td>\n",
       "      <td>Financials</td>\n",
       "      <td>Banking &amp; Investment Services</td>\n",
       "      <td>asset_driven_op</td>\n",
       "      <td>0</td>\n",
       "      <td>0</td>\n",
       "      <td>-0.011249</td>\n",
       "      <td>0.004454</td>\n",
       "      <td>0.012696</td>\n",
       "      <td>0.044807</td>\n",
       "    </tr>\n",
       "    <tr>\n",
       "      <th>2</th>\n",
       "      <td>2005-01-12</td>\n",
       "      <td>public</td>\n",
       "      <td>8</td>\n",
       "      <td>no</td>\n",
       "      <td>not_full</td>\n",
       "      <td>Cash</td>\n",
       "      <td>1</td>\n",
       "      <td>1</td>\n",
       "      <td>0.382792</td>\n",
       "      <td>national</td>\n",
       "      <td>...</td>\n",
       "      <td>Mineral Resources</td>\n",
       "      <td>Basic Materials</td>\n",
       "      <td>Mineral Resources</td>\n",
       "      <td>divestiture</td>\n",
       "      <td>0</td>\n",
       "      <td>0</td>\n",
       "      <td>0.013061</td>\n",
       "      <td>0.056958</td>\n",
       "      <td>0.055917</td>\n",
       "      <td>0.016918</td>\n",
       "    </tr>\n",
       "    <tr>\n",
       "      <th>3</th>\n",
       "      <td>2005-01-18</td>\n",
       "      <td>public</td>\n",
       "      <td>40</td>\n",
       "      <td>no</td>\n",
       "      <td>full</td>\n",
       "      <td>Other</td>\n",
       "      <td>1</td>\n",
       "      <td>1</td>\n",
       "      <td>0.014665</td>\n",
       "      <td>cross_border</td>\n",
       "      <td>...</td>\n",
       "      <td>Banking &amp; Investment Services</td>\n",
       "      <td>Financials</td>\n",
       "      <td>Banking &amp; Investment Services</td>\n",
       "      <td>asset_driven_op</td>\n",
       "      <td>0</td>\n",
       "      <td>0</td>\n",
       "      <td>0.060476</td>\n",
       "      <td>-0.010042</td>\n",
       "      <td>0.002116</td>\n",
       "      <td>0.040544</td>\n",
       "    </tr>\n",
       "    <tr>\n",
       "      <th>4</th>\n",
       "      <td>2005-01-26</td>\n",
       "      <td>public</td>\n",
       "      <td>0</td>\n",
       "      <td>no</td>\n",
       "      <td>full</td>\n",
       "      <td>Other</td>\n",
       "      <td>1</td>\n",
       "      <td>1</td>\n",
       "      <td>2.000163</td>\n",
       "      <td>cross_border</td>\n",
       "      <td>...</td>\n",
       "      <td>Energy - Fossil Fuels</td>\n",
       "      <td>Energy</td>\n",
       "      <td>Energy - Fossil Fuels</td>\n",
       "      <td>asset_driven_op</td>\n",
       "      <td>0</td>\n",
       "      <td>0</td>\n",
       "      <td>-0.093760</td>\n",
       "      <td>-0.082288</td>\n",
       "      <td>-0.082288</td>\n",
       "      <td>-0.061740</td>\n",
       "    </tr>\n",
       "  </tbody>\n",
       "</table>\n",
       "<p>5 rows × 22 columns</p>\n",
       "</div>"
      ],
      "text/plain": [
       "  announcement_date target_status  acquisition_count shares_at_announcement  \\\n",
       "0        2005-01-04        public                 23                     no   \n",
       "1        2005-01-11        public                 18                     no   \n",
       "2        2005-01-12        public                  8                     no   \n",
       "3        2005-01-18        public                 40                     no   \n",
       "4        2005-01-26        public                  0                     no   \n",
       "\n",
       "  shares_acquired consideration_offered  bidder_count  month  rel_deal_value  \\\n",
       "0            full                  Cash             1      1        0.024922   \n",
       "1            full                 Other             1      1        0.008012   \n",
       "2        not_full                  Cash             1      1        0.382792   \n",
       "3            full                 Other             1      1        0.014665   \n",
       "4            full                 Other             1      1        2.000163   \n",
       "\n",
       "   cross_border  ...             business_sector_ac economic_sector_target  \\\n",
       "0  cross_border  ...          Food & Drug Retailing            Industrials   \n",
       "1  cross_border  ...  Banking & Investment Services             Financials   \n",
       "2      national  ...              Mineral Resources        Basic Materials   \n",
       "3  cross_border  ...  Banking & Investment Services             Financials   \n",
       "4  cross_border  ...          Energy - Fossil Fuels                 Energy   \n",
       "\n",
       "          business_sector_target cluster_category a_fin_adv_count  \\\n",
       "0                 Transportation      divestiture               1   \n",
       "1  Banking & Investment Services  asset_driven_op               0   \n",
       "2              Mineral Resources      divestiture               0   \n",
       "3  Banking & Investment Services  asset_driven_op               0   \n",
       "4          Energy - Fossil Fuels  asset_driven_op               0   \n",
       "\n",
       "  t_fin_adv_count     car_1     car_3     car_5    car_10  \n",
       "0               0 -0.009362  0.001308  0.018041  0.056428  \n",
       "1               0 -0.011249  0.004454  0.012696  0.044807  \n",
       "2               0  0.013061  0.056958  0.055917  0.016918  \n",
       "3               0  0.060476 -0.010042  0.002116  0.040544  \n",
       "4               0 -0.093760 -0.082288 -0.082288 -0.061740  \n",
       "\n",
       "[5 rows x 22 columns]"
      ]
     },
     "execution_count": 154,
     "metadata": {},
     "output_type": "execute_result"
    }
   ],
   "source": [
    "clean.head()"
   ]
  },
  {
   "cell_type": "markdown",
   "id": "e4eb5169",
   "metadata": {},
   "source": [
    "# Uploading"
   ]
  },
  {
   "cell_type": "code",
   "execution_count": 155,
   "id": "3bc2ee96",
   "metadata": {
    "ExecuteTime": {
     "end_time": "2021-09-14T15:42:46.037454Z",
     "start_time": "2021-09-14T15:42:45.897999Z"
    }
   },
   "outputs": [],
   "source": [
    "clean.to_csv('../../MA_PREDICTOR/data/ma_detailed_data_car_clean.csv', index=False, date_format=\"%d/%m/%Y\")"
   ]
  }
 ],
 "metadata": {
  "kernelspec": {
   "display_name": "Python 3 (ipykernel)",
   "language": "python",
   "name": "python3"
  },
  "language_info": {
   "codemirror_mode": {
    "name": "ipython",
    "version": 3
   },
   "file_extension": ".py",
   "mimetype": "text/x-python",
   "name": "python",
   "nbconvert_exporter": "python",
   "pygments_lexer": "ipython3",
   "version": "3.8.6"
  },
  "toc": {
   "base_numbering": 1,
   "nav_menu": {},
   "number_sections": true,
   "sideBar": true,
   "skip_h1_title": false,
   "title_cell": "Table of Contents",
   "title_sidebar": "Contents",
   "toc_cell": false,
   "toc_position": {
    "height": "calc(100% - 180px)",
    "left": "10px",
    "top": "150px",
    "width": "287.594px"
   },
   "toc_section_display": true,
   "toc_window_display": true
  }
 },
 "nbformat": 4,
 "nbformat_minor": 5
}
