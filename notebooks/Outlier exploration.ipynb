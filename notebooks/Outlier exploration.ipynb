{
 "cells": [
  {
   "cell_type": "markdown",
   "id": "cd4704a5",
   "metadata": {},
   "source": [
    "## Outlier Exploration"
   ]
  },
  {
   "cell_type": "code",
   "execution_count": 1,
   "id": "4666bbce",
   "metadata": {},
   "outputs": [],
   "source": [
    "%load_ext autoreload\n",
    "%autoreload 2"
   ]
  },
  {
   "cell_type": "code",
   "execution_count": 2,
   "id": "3298db7a",
   "metadata": {},
   "outputs": [],
   "source": [
    "import pandas as pd\n",
    "import numpy as np\n",
    "import matplotlib.pyplot as plt\n",
    "import seaborn as sns"
   ]
  },
  {
   "cell_type": "code",
   "execution_count": 3,
   "id": "830d91b5",
   "metadata": {},
   "outputs": [],
   "source": [
    "df = pd.read_csv('../MA_PREDICTOR/data/ma_data_car.csv')"
   ]
  },
  {
   "cell_type": "code",
   "execution_count": 4,
   "id": "b6685000",
   "metadata": {},
   "outputs": [],
   "source": [
    "#Sort by CAR\n",
    "df = df.sort_values(by=['car'], ascending=False)\n",
    "#Drop head 5 outliers in thousands\n",
    "df = df.iloc[9: , :]\n"
   ]
  },
  {
   "cell_type": "code",
   "execution_count": 5,
   "id": "75d49de9",
   "metadata": {},
   "outputs": [
    {
     "data": {
      "text/html": [
       "<div>\n",
       "<style scoped>\n",
       "    .dataframe tbody tr th:only-of-type {\n",
       "        vertical-align: middle;\n",
       "    }\n",
       "\n",
       "    .dataframe tbody tr th {\n",
       "        vertical-align: top;\n",
       "    }\n",
       "\n",
       "    .dataframe thead th {\n",
       "        text-align: right;\n",
       "    }\n",
       "</style>\n",
       "<table border=\"1\" class=\"dataframe\">\n",
       "  <thead>\n",
       "    <tr style=\"text-align: right;\">\n",
       "      <th></th>\n",
       "      <th>id</th>\n",
       "      <th>announcement_date</th>\n",
       "      <th>deal_value</th>\n",
       "      <th>acquiror_total_assets</th>\n",
       "      <th>acquiror_name</th>\n",
       "      <th>acquiror_ticker</th>\n",
       "      <th>target_name</th>\n",
       "      <th>target_nation</th>\n",
       "      <th>acquiror_nation</th>\n",
       "      <th>target_status</th>\n",
       "      <th>...</th>\n",
       "      <th>shares_acquired</th>\n",
       "      <th>consideration_offered</th>\n",
       "      <th>attitude</th>\n",
       "      <th>acquisition_technique</th>\n",
       "      <th>acquiror_financial_advisor</th>\n",
       "      <th>target_financial_advisor</th>\n",
       "      <th>purpose</th>\n",
       "      <th>acquiror_code</th>\n",
       "      <th>target_code</th>\n",
       "      <th>car</th>\n",
       "    </tr>\n",
       "  </thead>\n",
       "  <tbody>\n",
       "    <tr>\n",
       "      <th>3072</th>\n",
       "      <td>1937047020</td>\n",
       "      <td>20/12/2007</td>\n",
       "      <td>99.00</td>\n",
       "      <td>3372.73</td>\n",
       "      <td>Inverness Medical Innovations Inc</td>\n",
       "      <td>IMA</td>\n",
       "      <td>Redwood Toxicology Laboratory Inc</td>\n",
       "      <td>United States</td>\n",
       "      <td>United States</td>\n",
       "      <td>Subsidiary</td>\n",
       "      <td>...</td>\n",
       "      <td>100.0</td>\n",
       "      <td>Cash Only|Cash</td>\n",
       "      <td>Friendly</td>\n",
       "      <td>Divestiture</td>\n",
       "      <td>NaN</td>\n",
       "      <td>NaN</td>\n",
       "      <td>Strengthen existing operations/expand presence...</td>\n",
       "      <td>56101010</td>\n",
       "      <td>56102010</td>\n",
       "      <td>113.344456</td>\n",
       "    </tr>\n",
       "    <tr>\n",
       "      <th>2442</th>\n",
       "      <td>1878874020</td>\n",
       "      <td>18/06/2007</td>\n",
       "      <td>25.00</td>\n",
       "      <td>1339.34</td>\n",
       "      <td>Inverness Medical Innovations Inc</td>\n",
       "      <td>IMA</td>\n",
       "      <td>Quality Assured Services Inc</td>\n",
       "      <td>United States</td>\n",
       "      <td>United States</td>\n",
       "      <td>Private</td>\n",
       "      <td>...</td>\n",
       "      <td>100.0</td>\n",
       "      <td>Cash|Common Stock</td>\n",
       "      <td>Friendly</td>\n",
       "      <td>Not Applicable</td>\n",
       "      <td>NaN</td>\n",
       "      <td>NaN</td>\n",
       "      <td>Allow to offer new products and services</td>\n",
       "      <td>56101010</td>\n",
       "      <td>56101020</td>\n",
       "      <td>76.249511</td>\n",
       "    </tr>\n",
       "    <tr>\n",
       "      <th>3187</th>\n",
       "      <td>1946927020</td>\n",
       "      <td>28/01/2008</td>\n",
       "      <td>1156.95</td>\n",
       "      <td>4867.40</td>\n",
       "      <td>Inverness Medical Innovations Inc</td>\n",
       "      <td>IMA</td>\n",
       "      <td>Matria Healthcare Inc</td>\n",
       "      <td>United States</td>\n",
       "      <td>United States</td>\n",
       "      <td>Public</td>\n",
       "      <td>...</td>\n",
       "      <td>100.0</td>\n",
       "      <td>Cash|Liabilities|Convertible Preferred</td>\n",
       "      <td>Friendly</td>\n",
       "      <td>Stock Swap</td>\n",
       "      <td>Covington Associates|UBS Investment Bank</td>\n",
       "      <td>CIBC World Markets Inc|SunTrust Robinson Humph...</td>\n",
       "      <td>Allow to offer new products and services|Stren...</td>\n",
       "      <td>56101010</td>\n",
       "      <td>56102010</td>\n",
       "      <td>72.719711</td>\n",
       "    </tr>\n",
       "    <tr>\n",
       "      <th>4920</th>\n",
       "      <td>2165090020</td>\n",
       "      <td>16/03/2010</td>\n",
       "      <td>961.06</td>\n",
       "      <td>3799.67</td>\n",
       "      <td>Massey Energy Co</td>\n",
       "      <td>MEE</td>\n",
       "      <td>Cumberland Resources Corp</td>\n",
       "      <td>United States</td>\n",
       "      <td>United States</td>\n",
       "      <td>Private</td>\n",
       "      <td>...</td>\n",
       "      <td>100.0</td>\n",
       "      <td>Cash|Common Stock</td>\n",
       "      <td>Friendly</td>\n",
       "      <td>Not Applicable</td>\n",
       "      <td>Stifel Nicolaus &amp; Co Inc</td>\n",
       "      <td>UBS Investment Bank</td>\n",
       "      <td>Create synergies, eliminate duplicate services...</td>\n",
       "      <td>50101010</td>\n",
       "      <td>50101010</td>\n",
       "      <td>62.871616</td>\n",
       "    </tr>\n",
       "    <tr>\n",
       "      <th>2051</th>\n",
       "      <td>1837229020</td>\n",
       "      <td>02/05/2007</td>\n",
       "      <td>25.00</td>\n",
       "      <td>1085.69</td>\n",
       "      <td>Inverness Medical Innovations Inc</td>\n",
       "      <td>IMA</td>\n",
       "      <td>First Check Diagnostics LLC</td>\n",
       "      <td>United States</td>\n",
       "      <td>United States</td>\n",
       "      <td>Private</td>\n",
       "      <td>...</td>\n",
       "      <td>100.0</td>\n",
       "      <td>Earnout|Cash</td>\n",
       "      <td>Friendly</td>\n",
       "      <td>Not Applicable</td>\n",
       "      <td>NaN</td>\n",
       "      <td>NaN</td>\n",
       "      <td>NaN</td>\n",
       "      <td>56101010</td>\n",
       "      <td>56201040</td>\n",
       "      <td>43.673528</td>\n",
       "    </tr>\n",
       "  </tbody>\n",
       "</table>\n",
       "<p>5 rows × 23 columns</p>\n",
       "</div>"
      ],
      "text/plain": [
       "              id announcement_date  deal_value  acquiror_total_assets  \\\n",
       "3072  1937047020        20/12/2007       99.00                3372.73   \n",
       "2442  1878874020        18/06/2007       25.00                1339.34   \n",
       "3187  1946927020        28/01/2008     1156.95                4867.40   \n",
       "4920  2165090020        16/03/2010      961.06                3799.67   \n",
       "2051  1837229020        02/05/2007       25.00                1085.69   \n",
       "\n",
       "                          acquiror_name acquiror_ticker  \\\n",
       "3072  Inverness Medical Innovations Inc             IMA   \n",
       "2442  Inverness Medical Innovations Inc             IMA   \n",
       "3187  Inverness Medical Innovations Inc             IMA   \n",
       "4920                   Massey Energy Co             MEE   \n",
       "2051  Inverness Medical Innovations Inc             IMA   \n",
       "\n",
       "                            target_name  target_nation acquiror_nation  \\\n",
       "3072  Redwood Toxicology Laboratory Inc  United States   United States   \n",
       "2442       Quality Assured Services Inc  United States   United States   \n",
       "3187              Matria Healthcare Inc  United States   United States   \n",
       "4920          Cumberland Resources Corp  United States   United States   \n",
       "2051        First Check Diagnostics LLC  United States   United States   \n",
       "\n",
       "     target_status  ... shares_acquired  \\\n",
       "3072    Subsidiary  ...           100.0   \n",
       "2442       Private  ...           100.0   \n",
       "3187        Public  ...           100.0   \n",
       "4920       Private  ...           100.0   \n",
       "2051       Private  ...           100.0   \n",
       "\n",
       "                       consideration_offered  attitude  acquisition_technique  \\\n",
       "3072                          Cash Only|Cash  Friendly            Divestiture   \n",
       "2442                       Cash|Common Stock  Friendly         Not Applicable   \n",
       "3187  Cash|Liabilities|Convertible Preferred  Friendly             Stock Swap   \n",
       "4920                       Cash|Common Stock  Friendly         Not Applicable   \n",
       "2051                            Earnout|Cash  Friendly         Not Applicable   \n",
       "\n",
       "                    acquiror_financial_advisor  \\\n",
       "3072                                       NaN   \n",
       "2442                                       NaN   \n",
       "3187  Covington Associates|UBS Investment Bank   \n",
       "4920                  Stifel Nicolaus & Co Inc   \n",
       "2051                                       NaN   \n",
       "\n",
       "                               target_financial_advisor  \\\n",
       "3072                                                NaN   \n",
       "2442                                                NaN   \n",
       "3187  CIBC World Markets Inc|SunTrust Robinson Humph...   \n",
       "4920                                UBS Investment Bank   \n",
       "2051                                                NaN   \n",
       "\n",
       "                                                purpose acquiror_code  \\\n",
       "3072  Strengthen existing operations/expand presence...      56101010   \n",
       "2442           Allow to offer new products and services      56101010   \n",
       "3187  Allow to offer new products and services|Stren...      56101010   \n",
       "4920  Create synergies, eliminate duplicate services...      50101010   \n",
       "2051                                                NaN      56101010   \n",
       "\n",
       "     target_code         car  \n",
       "3072    56102010  113.344456  \n",
       "2442    56101020   76.249511  \n",
       "3187    56102010   72.719711  \n",
       "4920    50101010   62.871616  \n",
       "2051    56201040   43.673528  \n",
       "\n",
       "[5 rows x 23 columns]"
      ]
     },
     "execution_count": 5,
     "metadata": {},
     "output_type": "execute_result"
    }
   ],
   "source": [
    "df.head()"
   ]
  },
  {
   "cell_type": "code",
   "execution_count": 6,
   "id": "36a258d3",
   "metadata": {},
   "outputs": [],
   "source": [
    "#pos outliers\n",
    "dfop = df[df['car']>0.25]\n",
    "#neg outliers\n",
    "dfon = df[df['car']<-0.25]\n",
    "#all outliers\n",
    "stuff = [dfop, dfon]\n",
    "dfo = pd.concat(stuff)"
   ]
  },
  {
   "cell_type": "code",
   "execution_count": 7,
   "id": "ec26513a",
   "metadata": {},
   "outputs": [
    {
     "data": {
      "text/plain": [
       "(18450, 23)"
      ]
     },
     "execution_count": 7,
     "metadata": {},
     "output_type": "execute_result"
    }
   ],
   "source": [
    "df.shape"
   ]
  },
  {
   "cell_type": "code",
   "execution_count": 8,
   "id": "36652b9d",
   "metadata": {
    "scrolled": true
   },
   "outputs": [
    {
     "data": {
      "text/plain": [
       "(213, 23)"
      ]
     },
     "execution_count": 8,
     "metadata": {},
     "output_type": "execute_result"
    }
   ],
   "source": [
    "#positive outliers \n",
    "dfop.shape"
   ]
  },
  {
   "cell_type": "code",
   "execution_count": 9,
   "id": "52b172db",
   "metadata": {
    "scrolled": true
   },
   "outputs": [
    {
     "data": {
      "text/plain": [
       "(72, 23)"
      ]
     },
     "execution_count": 9,
     "metadata": {},
     "output_type": "execute_result"
    }
   ],
   "source": [
    "dfon.shape"
   ]
  },
  {
   "cell_type": "code",
   "execution_count": 10,
   "id": "c866394c",
   "metadata": {
    "scrolled": true
   },
   "outputs": [
    {
     "data": {
      "text/plain": [
       "(285, 23)"
      ]
     },
     "execution_count": 10,
     "metadata": {},
     "output_type": "execute_result"
    }
   ],
   "source": [
    "dfo.shape"
   ]
  },
  {
   "cell_type": "code",
   "execution_count": 11,
   "id": "81c9553f",
   "metadata": {},
   "outputs": [
    {
     "data": {
      "text/plain": [
       "8370"
      ]
     },
     "execution_count": 11,
     "metadata": {},
     "output_type": "execute_result"
    }
   ],
   "source": [
    "df[(df['car']<=0.05) & (df['car']>=0)].shape[0]"
   ]
  },
  {
   "cell_type": "code",
   "execution_count": 12,
   "id": "971c5f6f",
   "metadata": {
    "scrolled": true
   },
   "outputs": [
    {
     "ename": "SyntaxError",
     "evalue": "invalid syntax (847949172.py, line 11)",
     "output_type": "error",
     "traceback": [
      "\u001b[0;36m  File \u001b[0;32m\"/tmp/ipykernel_1171/847949172.py\"\u001b[0;36m, line \u001b[0;32m11\u001b[0m\n\u001b[0;31m    plt.plot(thresholdsp, pos)\u001b[0m\n\u001b[0m    ^\u001b[0m\n\u001b[0;31mSyntaxError\u001b[0m\u001b[0;31m:\u001b[0m invalid syntax\n"
     ]
    }
   ],
   "source": [
    "## Y = outliers as a proportion of total \n",
    "#X = outlier threshold\n",
    "\n",
    "thresholdsp = [0.01,0.1,0.2,0.3,0.5,0.75,1,2,5]\n",
    "pos =[]\n",
    "\n",
    "\n",
    "for threshold in thresholdsp:\n",
    "    pos.append((df[(df['car']<=threshold) & (df['car']>=0)].shape[0])/(df['car'].shape[0])\n",
    "\n",
    "plt.plot(thresholdsp, pos)\n",
    "\n"
   ]
  },
  {
   "cell_type": "code",
   "execution_count": null,
   "id": "b41fae6f",
   "metadata": {},
   "outputs": [],
   "source": [
    "neg=[]\n",
    "outl=[]\n",
    "thresholdsn = [-10,-5,-2,-1,-0.75,-0,5,-0.25,-0.1,-0.01,-0.001,0]\n",
    "thresholds = [-10,-5,-2,-1,-0.75,-0,5,-0.25,-0.1,-0.01,-0.001,0,0.001,0.01,0.1,0.2,0.3,0.5,0.75,1,2,5,10,20,50,75,100]\n"
   ]
  },
  {
   "cell_type": "code",
   "execution_count": null,
   "id": "0492a7f4",
   "metadata": {},
   "outputs": [],
   "source": [
    "#Y = outliers as a proportion of total \n",
    "#X = outlier threshold\n",
    "\n",
    "thresholds = [0]\n",
    "\n",
    "pos =[]\n",
    "neg=[]\n",
    "outl=[]\n",
    "\n",
    "for threshold in thresholds:\n",
    "    pos.append(df[(df['car']<=threshold) & (df['car']>=0)].shape[0])\n",
    "for threshold in thresholds2   \n",
    "\n",
    "plt.plot(thresholds, pos)\n",
    "plt.\n"
   ]
  },
  {
   "cell_type": "code",
   "execution_count": null,
   "id": "b26fab2f",
   "metadata": {},
   "outputs": [],
   "source": [
    "np.logspace(-4, 3, 100)"
   ]
  },
  {
   "cell_type": "code",
   "execution_count": null,
   "id": "1e9c7924",
   "metadata": {},
   "outputs": [],
   "source": [
    "pos"
   ]
  },
  {
   "cell_type": "markdown",
   "id": "77ee8286",
   "metadata": {},
   "source": [
    "## All outliers"
   ]
  },
  {
   "cell_type": "code",
   "execution_count": null,
   "id": "f699844b",
   "metadata": {
    "scrolled": true
   },
   "outputs": [],
   "source": [
    "sns.catplot(y='car', x='target_code', data=dfo)\n",
    "plt.xticks(rotation=90)\n"
   ]
  },
  {
   "cell_type": "code",
   "execution_count": null,
   "id": "02dc1bcc",
   "metadata": {},
   "outputs": [],
   "source": [
    "sns.catplot(y='car', x='acquiror_code', data=dfo)"
   ]
  },
  {
   "cell_type": "code",
   "execution_count": null,
   "id": "294b7ba4",
   "metadata": {
    "scrolled": false
   },
   "outputs": [],
   "source": [
    "plt.figure(figsize=(36,36))\n",
    "sns.catplot( x='car',y='acquisition_technique', data=dfo)\n",
    "plt.xticks(rotation=90)"
   ]
  },
  {
   "cell_type": "code",
   "execution_count": null,
   "id": "70a91e96",
   "metadata": {
    "scrolled": true
   },
   "outputs": [],
   "source": [
    "plt.figure(figsize=(36,36))\n",
    "sns.catplot( x='car',y='consideration_offered', data=dfo)\n",
    "plt.xticks(rotation=90)\n",
    "plt.yticks(rotation=10)"
   ]
  },
  {
   "cell_type": "code",
   "execution_count": null,
   "id": "6c7e4a2c",
   "metadata": {
    "scrolled": true
   },
   "outputs": [],
   "source": [
    "plt.figure(figsize=(36,36))\n",
    "sns.catplot( x='car',y='target_nation', data=dfo)\n"
   ]
  },
  {
   "cell_type": "code",
   "execution_count": null,
   "id": "ee08134d",
   "metadata": {
    "scrolled": true
   },
   "outputs": [],
   "source": [
    "plt.figure(figsize=(36,36))\n",
    "sns.catplot( y='car',x='purpose', data=dfo)\n",
    "plt.xticks(rotation=90)"
   ]
  },
  {
   "cell_type": "code",
   "execution_count": null,
   "id": "99d83fd9",
   "metadata": {},
   "outputs": [],
   "source": [
    "#target status\n",
    "plt.figure(figsize=(36,36))\n",
    "sns.catplot( y='car',x='target_status', data=dfo)\n",
    "plt.xticks(rotation=90)"
   ]
  },
  {
   "cell_type": "markdown",
   "id": "ecabb45a",
   "metadata": {},
   "source": [
    "## Positive outliers"
   ]
  },
  {
   "cell_type": "code",
   "execution_count": null,
   "id": "e4d02fef",
   "metadata": {
    "scrolled": true
   },
   "outputs": [],
   "source": [
    "#Target Code\n",
    "sns.catplot(y='car', x='target_code', data=dfop)\n",
    "plt.xticks(rotation=90)"
   ]
  },
  {
   "cell_type": "code",
   "execution_count": null,
   "id": "49a774ea",
   "metadata": {},
   "outputs": [],
   "source": [
    "#Acquiror code\n",
    "sns.catplot(y='car', x='acquiror_code', data=dfop)"
   ]
  },
  {
   "cell_type": "code",
   "execution_count": null,
   "id": "d0d70b83",
   "metadata": {},
   "outputs": [],
   "source": [
    "#acquisition technique\n",
    "plt.figure(figsize=(36,36))\n",
    "sns.catplot( x='car',y='acquisition_technique', data=dfop)\n",
    "plt.xticks(rotation=90)"
   ]
  },
  {
   "cell_type": "code",
   "execution_count": null,
   "id": "162cd32d",
   "metadata": {},
   "outputs": [],
   "source": [
    "#consideration offered\n",
    "plt.figure(figsize=(36,36))\n",
    "sns.catplot( x='car',y='consideration_offered', data=dfop)\n",
    "plt.xticks(rotation=90)\n",
    "plt.yticks(rotation=10)"
   ]
  },
  {
   "cell_type": "code",
   "execution_count": null,
   "id": "c8b8a573",
   "metadata": {},
   "outputs": [],
   "source": [
    "#target nation\n",
    "plt.figure(figsize=(36,36))\n",
    "sns.catplot( x='car',y='target_nation', data=dfop)\n"
   ]
  },
  {
   "cell_type": "code",
   "execution_count": null,
   "id": "5c3a255d",
   "metadata": {},
   "outputs": [],
   "source": [
    "#purpose \n",
    "plt.figure(figsize=(36,36))\n",
    "sns.catplot( y='car',x='purpose', data=dfop)\n",
    "plt.xticks(rotation=90)"
   ]
  },
  {
   "cell_type": "code",
   "execution_count": null,
   "id": "b0e2abd5",
   "metadata": {},
   "outputs": [],
   "source": [
    "#target status\n",
    "plt.figure(figsize=(36,36))\n",
    "sns.catplot( y='car',x='target_status', data=dfo)\n",
    "plt.xticks(rotation=90)"
   ]
  },
  {
   "cell_type": "markdown",
   "id": "749d1867",
   "metadata": {
    "heading_collapsed": true
   },
   "source": [
    "## Negative outliers"
   ]
  },
  {
   "cell_type": "code",
   "execution_count": null,
   "id": "ed7fd20c",
   "metadata": {
    "hidden": true
   },
   "outputs": [],
   "source": [
    "#Target Code\n",
    "sns.catplot(y='car', x='target_code', data=dfon)\n",
    "plt.xticks(rotation=90)"
   ]
  },
  {
   "cell_type": "code",
   "execution_count": null,
   "id": "062d5a09",
   "metadata": {
    "hidden": true
   },
   "outputs": [],
   "source": [
    "#Acquiror code\n",
    "sns.catplot(y='car', x='acquiror_code', data=dfon)"
   ]
  },
  {
   "cell_type": "code",
   "execution_count": null,
   "id": "d4c624f6",
   "metadata": {
    "hidden": true
   },
   "outputs": [],
   "source": [
    "#acquisition technique\n",
    "plt.figure(figsize=(36,36))\n",
    "sns.catplot( x='car',y='acquisition_technique', data=dfon)\n",
    "plt.xticks(rotation=90)"
   ]
  },
  {
   "cell_type": "code",
   "execution_count": null,
   "id": "00d8be9e",
   "metadata": {
    "hidden": true
   },
   "outputs": [],
   "source": [
    "#consideration offered\n",
    "plt.figure(figsize=(36,36))\n",
    "sns.catplot( x='car',y='consideration_offered', data=dfon)\n",
    "plt.xticks(rotation=90)\n",
    "plt.yticks(rotation=10)"
   ]
  },
  {
   "cell_type": "code",
   "execution_count": null,
   "id": "5b63800a",
   "metadata": {
    "hidden": true
   },
   "outputs": [],
   "source": [
    "#target nation\n",
    "plt.figure(figsize=(36,36))\n",
    "sns.catplot( x='car',y='target_nation', data=dfon)\n"
   ]
  },
  {
   "cell_type": "code",
   "execution_count": null,
   "id": "c221da34",
   "metadata": {
    "hidden": true
   },
   "outputs": [],
   "source": [
    "#purpose \n",
    "plt.figure(figsize=(36,36))\n",
    "sns.catplot( y='car',x='purpose', data=dfon)\n",
    "plt.xticks(rotation=90)"
   ]
  },
  {
   "cell_type": "code",
   "execution_count": null,
   "id": "8ae59d05",
   "metadata": {
    "hidden": true
   },
   "outputs": [],
   "source": [
    "#target status\n",
    "plt.figure(figsize=(36,36))\n",
    "sns.catplot( y='car',x='target_status', data=dfon)\n",
    "plt.xticks(rotation=90)"
   ]
  },
  {
   "cell_type": "markdown",
   "id": "c96e231f",
   "metadata": {},
   "source": [
    "## Next steps"
   ]
  },
  {
   "cell_type": "code",
   "execution_count": null,
   "id": "d7dcfafb",
   "metadata": {},
   "outputs": [],
   "source": []
  },
  {
   "cell_type": "code",
   "execution_count": null,
   "id": "694b1ebd",
   "metadata": {},
   "outputs": [],
   "source": []
  },
  {
   "cell_type": "code",
   "execution_count": null,
   "id": "0f99b7ac",
   "metadata": {},
   "outputs": [],
   "source": [
    "#zscore"
   ]
  },
  {
   "cell_type": "code",
   "execution_count": null,
   "id": "6de1d770",
   "metadata": {},
   "outputs": [],
   "source": [
    "# removing inverness & most"
   ]
  }
 ],
 "metadata": {
  "kernelspec": {
   "display_name": "Python 3 (ipykernel)",
   "language": "python",
   "name": "python3"
  },
  "language_info": {
   "codemirror_mode": {
    "name": "ipython",
    "version": 3
   },
   "file_extension": ".py",
   "mimetype": "text/x-python",
   "name": "python",
   "nbconvert_exporter": "python",
   "pygments_lexer": "ipython3",
   "version": "3.8.6"
  },
  "toc": {
   "base_numbering": 1,
   "nav_menu": {},
   "number_sections": true,
   "sideBar": true,
   "skip_h1_title": false,
   "title_cell": "Table of Contents",
   "title_sidebar": "Contents",
   "toc_cell": false,
   "toc_position": {},
   "toc_section_display": true,
   "toc_window_display": false
  }
 },
 "nbformat": 4,
 "nbformat_minor": 5
}
