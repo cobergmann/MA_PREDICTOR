{
 "cells": [
  {
   "cell_type": "code",
   "execution_count": 2,
   "id": "a30b4ee7",
   "metadata": {
    "ExecuteTime": {
     "end_time": "2021-09-15T21:47:54.505504Z",
     "start_time": "2021-09-15T21:47:52.342609Z"
    }
   },
   "outputs": [],
   "source": [
    "from sklearn.preprocessing import OneHotEncoder\n",
    "from sklearn.compose import ColumnTransformer\n",
    "import numpy as np\n",
    "import pandas as pd\n",
    "from sklearn.model_selection import train_test_split\n",
    "from sklearn.linear_model import LinearRegression\n",
    "from sklearn.model_selection import cross_val_score\n",
    "from sklearn.pipeline import Pipeline\n",
    "from sklearn.ensemble import RandomForestRegressor\n",
    "from xgboost import XGBRegressor\n",
    "from sklearn.metrics import r2_score,mean_squared_error\n",
    "from sklearn.model_selection import GridSearchCV\n",
    "from sklearn.linear_model import ElasticNet\n",
    "from sklearn.dummy import DummyRegressor\n",
    "import xgboost as xgb\n",
    "from sklearn.preprocessing import MinMaxScaler\n",
    "from sklearn.svm import SVR\n",
    "from sklearn.linear_model import Ridge"
   ]
  },
  {
   "cell_type": "code",
   "execution_count": 3,
   "id": "4b853f21",
   "metadata": {
    "ExecuteTime": {
     "end_time": "2021-09-15T21:47:54.625987Z",
     "start_time": "2021-09-15T21:47:54.591806Z"
    }
   },
   "outputs": [],
   "source": [
    "data = pd.read_csv('../../MA_PREDICTOR/data/ma_detailed_data_car_clean.csv')"
   ]
  },
  {
   "cell_type": "code",
   "execution_count": 4,
   "id": "ee599922",
   "metadata": {
    "ExecuteTime": {
     "end_time": "2021-09-15T21:47:55.990301Z",
     "start_time": "2021-09-15T21:47:55.981509Z"
    },
    "scrolled": true
   },
   "outputs": [],
   "source": [
    "data.drop('month', inplace=True, axis=1)"
   ]
  },
  {
   "cell_type": "code",
   "execution_count": 5,
   "id": "4a19f5f9",
   "metadata": {
    "ExecuteTime": {
     "end_time": "2021-09-15T21:47:58.876819Z",
     "start_time": "2021-09-15T21:47:58.855047Z"
    }
   },
   "outputs": [],
   "source": [
    "horizons = [1, 3, 5, 10]\n",
    "for horizon in horizons:\n",
    "    data = data[(abs(data[f'car_{horizon}']) <= 0.3)]"
   ]
  },
  {
   "cell_type": "code",
   "execution_count": 6,
   "id": "a910692f",
   "metadata": {
    "ExecuteTime": {
     "end_time": "2021-09-15T21:47:59.565742Z",
     "start_time": "2021-09-15T21:47:59.497248Z"
    },
    "scrolled": true
   },
   "outputs": [
    {
     "data": {
      "text/html": [
       "<div>\n",
       "<style scoped>\n",
       "    .dataframe tbody tr th:only-of-type {\n",
       "        vertical-align: middle;\n",
       "    }\n",
       "\n",
       "    .dataframe tbody tr th {\n",
       "        vertical-align: top;\n",
       "    }\n",
       "\n",
       "    .dataframe thead th {\n",
       "        text-align: right;\n",
       "    }\n",
       "</style>\n",
       "<table border=\"1\" class=\"dataframe\">\n",
       "  <thead>\n",
       "    <tr style=\"text-align: right;\">\n",
       "      <th></th>\n",
       "      <th>announcement_date</th>\n",
       "      <th>target_status</th>\n",
       "      <th>acquisition_count</th>\n",
       "      <th>shares_at_announcement</th>\n",
       "      <th>shares_acquired</th>\n",
       "      <th>consideration_offered</th>\n",
       "      <th>bidder_count</th>\n",
       "      <th>rel_deal_value</th>\n",
       "      <th>cross_border</th>\n",
       "      <th>relatedness</th>\n",
       "      <th>...</th>\n",
       "      <th>business_sector_ac</th>\n",
       "      <th>economic_sector_target</th>\n",
       "      <th>business_sector_target</th>\n",
       "      <th>cluster_category</th>\n",
       "      <th>a_fin_adv_count</th>\n",
       "      <th>t_fin_adv_count</th>\n",
       "      <th>car_1</th>\n",
       "      <th>car_3</th>\n",
       "      <th>car_5</th>\n",
       "      <th>car_10</th>\n",
       "    </tr>\n",
       "  </thead>\n",
       "  <tbody>\n",
       "    <tr>\n",
       "      <th>0</th>\n",
       "      <td>04/01/2005</td>\n",
       "      <td>public</td>\n",
       "      <td>23</td>\n",
       "      <td>no</td>\n",
       "      <td>full</td>\n",
       "      <td>Cash</td>\n",
       "      <td>1</td>\n",
       "      <td>0.024922</td>\n",
       "      <td>cross_border</td>\n",
       "      <td>not_related</td>\n",
       "      <td>...</td>\n",
       "      <td>Food &amp; Drug Retailing</td>\n",
       "      <td>Industrials</td>\n",
       "      <td>Transportation</td>\n",
       "      <td>divestiture</td>\n",
       "      <td>1</td>\n",
       "      <td>0</td>\n",
       "      <td>-0.009362</td>\n",
       "      <td>0.001308</td>\n",
       "      <td>0.018041</td>\n",
       "      <td>0.056428</td>\n",
       "    </tr>\n",
       "    <tr>\n",
       "      <th>1</th>\n",
       "      <td>11/01/2005</td>\n",
       "      <td>public</td>\n",
       "      <td>18</td>\n",
       "      <td>no</td>\n",
       "      <td>full</td>\n",
       "      <td>Other</td>\n",
       "      <td>1</td>\n",
       "      <td>0.008012</td>\n",
       "      <td>cross_border</td>\n",
       "      <td>industry</td>\n",
       "      <td>...</td>\n",
       "      <td>Banking &amp; Investment Services</td>\n",
       "      <td>Financials</td>\n",
       "      <td>Banking &amp; Investment Services</td>\n",
       "      <td>asset_driven_op</td>\n",
       "      <td>0</td>\n",
       "      <td>0</td>\n",
       "      <td>-0.011249</td>\n",
       "      <td>0.004454</td>\n",
       "      <td>0.012696</td>\n",
       "      <td>0.044807</td>\n",
       "    </tr>\n",
       "    <tr>\n",
       "      <th>2</th>\n",
       "      <td>12/01/2005</td>\n",
       "      <td>public</td>\n",
       "      <td>8</td>\n",
       "      <td>no</td>\n",
       "      <td>not_full</td>\n",
       "      <td>Cash</td>\n",
       "      <td>1</td>\n",
       "      <td>0.382792</td>\n",
       "      <td>national</td>\n",
       "      <td>industry</td>\n",
       "      <td>...</td>\n",
       "      <td>Mineral Resources</td>\n",
       "      <td>Basic Materials</td>\n",
       "      <td>Mineral Resources</td>\n",
       "      <td>divestiture</td>\n",
       "      <td>0</td>\n",
       "      <td>0</td>\n",
       "      <td>0.013061</td>\n",
       "      <td>0.056958</td>\n",
       "      <td>0.055917</td>\n",
       "      <td>0.016918</td>\n",
       "    </tr>\n",
       "    <tr>\n",
       "      <th>3</th>\n",
       "      <td>18/01/2005</td>\n",
       "      <td>public</td>\n",
       "      <td>40</td>\n",
       "      <td>no</td>\n",
       "      <td>full</td>\n",
       "      <td>Other</td>\n",
       "      <td>1</td>\n",
       "      <td>0.014665</td>\n",
       "      <td>cross_border</td>\n",
       "      <td>industry</td>\n",
       "      <td>...</td>\n",
       "      <td>Banking &amp; Investment Services</td>\n",
       "      <td>Financials</td>\n",
       "      <td>Banking &amp; Investment Services</td>\n",
       "      <td>asset_driven_op</td>\n",
       "      <td>0</td>\n",
       "      <td>0</td>\n",
       "      <td>0.060476</td>\n",
       "      <td>-0.010042</td>\n",
       "      <td>0.002116</td>\n",
       "      <td>0.040544</td>\n",
       "    </tr>\n",
       "    <tr>\n",
       "      <th>4</th>\n",
       "      <td>26/01/2005</td>\n",
       "      <td>public</td>\n",
       "      <td>0</td>\n",
       "      <td>no</td>\n",
       "      <td>full</td>\n",
       "      <td>Other</td>\n",
       "      <td>1</td>\n",
       "      <td>2.000163</td>\n",
       "      <td>cross_border</td>\n",
       "      <td>industry</td>\n",
       "      <td>...</td>\n",
       "      <td>Energy - Fossil Fuels</td>\n",
       "      <td>Energy</td>\n",
       "      <td>Energy - Fossil Fuels</td>\n",
       "      <td>asset_driven_op</td>\n",
       "      <td>0</td>\n",
       "      <td>0</td>\n",
       "      <td>-0.093760</td>\n",
       "      <td>-0.082288</td>\n",
       "      <td>-0.082288</td>\n",
       "      <td>-0.061740</td>\n",
       "    </tr>\n",
       "    <tr>\n",
       "      <th>...</th>\n",
       "      <td>...</td>\n",
       "      <td>...</td>\n",
       "      <td>...</td>\n",
       "      <td>...</td>\n",
       "      <td>...</td>\n",
       "      <td>...</td>\n",
       "      <td>...</td>\n",
       "      <td>...</td>\n",
       "      <td>...</td>\n",
       "      <td>...</td>\n",
       "      <td>...</td>\n",
       "      <td>...</td>\n",
       "      <td>...</td>\n",
       "      <td>...</td>\n",
       "      <td>...</td>\n",
       "      <td>...</td>\n",
       "      <td>...</td>\n",
       "      <td>...</td>\n",
       "      <td>...</td>\n",
       "      <td>...</td>\n",
       "      <td>...</td>\n",
       "    </tr>\n",
       "    <tr>\n",
       "      <th>3020</th>\n",
       "      <td>16/07/2021</td>\n",
       "      <td>others</td>\n",
       "      <td>9</td>\n",
       "      <td>no</td>\n",
       "      <td>full</td>\n",
       "      <td>Cash</td>\n",
       "      <td>1</td>\n",
       "      <td>0.004449</td>\n",
       "      <td>cross_border</td>\n",
       "      <td>not_related</td>\n",
       "      <td>...</td>\n",
       "      <td>Utilities</td>\n",
       "      <td>Energy</td>\n",
       "      <td>Energy - Fossil Fuels</td>\n",
       "      <td>divestiture</td>\n",
       "      <td>0</td>\n",
       "      <td>1</td>\n",
       "      <td>-0.015629</td>\n",
       "      <td>-0.045382</td>\n",
       "      <td>-0.025400</td>\n",
       "      <td>-0.054948</td>\n",
       "    </tr>\n",
       "    <tr>\n",
       "      <th>3021</th>\n",
       "      <td>19/07/2021</td>\n",
       "      <td>others</td>\n",
       "      <td>1</td>\n",
       "      <td>no</td>\n",
       "      <td>full</td>\n",
       "      <td>Other</td>\n",
       "      <td>1</td>\n",
       "      <td>0.104705</td>\n",
       "      <td>cross_border</td>\n",
       "      <td>industry</td>\n",
       "      <td>...</td>\n",
       "      <td>Software &amp; IT Services</td>\n",
       "      <td>Technology</td>\n",
       "      <td>Software &amp; IT Services</td>\n",
       "      <td>asset_driven_op</td>\n",
       "      <td>0</td>\n",
       "      <td>0</td>\n",
       "      <td>0.088395</td>\n",
       "      <td>0.122123</td>\n",
       "      <td>0.059973</td>\n",
       "      <td>0.066900</td>\n",
       "    </tr>\n",
       "    <tr>\n",
       "      <th>3022</th>\n",
       "      <td>19/07/2021</td>\n",
       "      <td>others</td>\n",
       "      <td>6</td>\n",
       "      <td>no</td>\n",
       "      <td>full</td>\n",
       "      <td>Other</td>\n",
       "      <td>1</td>\n",
       "      <td>0.270094</td>\n",
       "      <td>cross_border</td>\n",
       "      <td>industry</td>\n",
       "      <td>...</td>\n",
       "      <td>Software &amp; IT Services</td>\n",
       "      <td>Technology</td>\n",
       "      <td>Software &amp; IT Services</td>\n",
       "      <td>divestiture</td>\n",
       "      <td>0</td>\n",
       "      <td>0</td>\n",
       "      <td>0.068755</td>\n",
       "      <td>0.110112</td>\n",
       "      <td>0.102726</td>\n",
       "      <td>0.120972</td>\n",
       "    </tr>\n",
       "    <tr>\n",
       "      <th>3023</th>\n",
       "      <td>28/07/2021</td>\n",
       "      <td>others</td>\n",
       "      <td>21</td>\n",
       "      <td>no</td>\n",
       "      <td>full</td>\n",
       "      <td>Cash</td>\n",
       "      <td>1</td>\n",
       "      <td>0.232595</td>\n",
       "      <td>cross_border</td>\n",
       "      <td>not_related</td>\n",
       "      <td>...</td>\n",
       "      <td>Applied Resources</td>\n",
       "      <td>Consumer Cyclicals</td>\n",
       "      <td>Cyclical Consumer Services</td>\n",
       "      <td>divestiture</td>\n",
       "      <td>1</td>\n",
       "      <td>0</td>\n",
       "      <td>0.022186</td>\n",
       "      <td>0.041487</td>\n",
       "      <td>0.041487</td>\n",
       "      <td>0.016503</td>\n",
       "    </tr>\n",
       "    <tr>\n",
       "      <th>3024</th>\n",
       "      <td>13/08/2021</td>\n",
       "      <td>others</td>\n",
       "      <td>1</td>\n",
       "      <td>no</td>\n",
       "      <td>full</td>\n",
       "      <td>Other</td>\n",
       "      <td>1</td>\n",
       "      <td>0.372376</td>\n",
       "      <td>cross_border</td>\n",
       "      <td>business_sector</td>\n",
       "      <td>...</td>\n",
       "      <td>Pharmaceuticals &amp; Medical Research</td>\n",
       "      <td>Healthcare</td>\n",
       "      <td>Pharmaceuticals &amp; Medical Research</td>\n",
       "      <td>divestiture</td>\n",
       "      <td>0</td>\n",
       "      <td>0</td>\n",
       "      <td>0.045619</td>\n",
       "      <td>0.146613</td>\n",
       "      <td>0.231234</td>\n",
       "      <td>0.290762</td>\n",
       "    </tr>\n",
       "  </tbody>\n",
       "</table>\n",
       "<p>2946 rows × 21 columns</p>\n",
       "</div>"
      ],
      "text/plain": [
       "     announcement_date target_status  acquisition_count  \\\n",
       "0           04/01/2005        public                 23   \n",
       "1           11/01/2005        public                 18   \n",
       "2           12/01/2005        public                  8   \n",
       "3           18/01/2005        public                 40   \n",
       "4           26/01/2005        public                  0   \n",
       "...                ...           ...                ...   \n",
       "3020        16/07/2021        others                  9   \n",
       "3021        19/07/2021        others                  1   \n",
       "3022        19/07/2021        others                  6   \n",
       "3023        28/07/2021        others                 21   \n",
       "3024        13/08/2021        others                  1   \n",
       "\n",
       "     shares_at_announcement shares_acquired consideration_offered  \\\n",
       "0                        no            full                  Cash   \n",
       "1                        no            full                 Other   \n",
       "2                        no        not_full                  Cash   \n",
       "3                        no            full                 Other   \n",
       "4                        no            full                 Other   \n",
       "...                     ...             ...                   ...   \n",
       "3020                     no            full                  Cash   \n",
       "3021                     no            full                 Other   \n",
       "3022                     no            full                 Other   \n",
       "3023                     no            full                  Cash   \n",
       "3024                     no            full                 Other   \n",
       "\n",
       "      bidder_count  rel_deal_value  cross_border      relatedness  ...  \\\n",
       "0                1        0.024922  cross_border      not_related  ...   \n",
       "1                1        0.008012  cross_border         industry  ...   \n",
       "2                1        0.382792      national         industry  ...   \n",
       "3                1        0.014665  cross_border         industry  ...   \n",
       "4                1        2.000163  cross_border         industry  ...   \n",
       "...            ...             ...           ...              ...  ...   \n",
       "3020             1        0.004449  cross_border      not_related  ...   \n",
       "3021             1        0.104705  cross_border         industry  ...   \n",
       "3022             1        0.270094  cross_border         industry  ...   \n",
       "3023             1        0.232595  cross_border      not_related  ...   \n",
       "3024             1        0.372376  cross_border  business_sector  ...   \n",
       "\n",
       "                      business_sector_ac economic_sector_target  \\\n",
       "0                  Food & Drug Retailing            Industrials   \n",
       "1          Banking & Investment Services             Financials   \n",
       "2                      Mineral Resources        Basic Materials   \n",
       "3          Banking & Investment Services             Financials   \n",
       "4                  Energy - Fossil Fuels                 Energy   \n",
       "...                                  ...                    ...   \n",
       "3020                           Utilities                 Energy   \n",
       "3021              Software & IT Services             Technology   \n",
       "3022              Software & IT Services             Technology   \n",
       "3023                   Applied Resources     Consumer Cyclicals   \n",
       "3024  Pharmaceuticals & Medical Research             Healthcare   \n",
       "\n",
       "                  business_sector_target cluster_category a_fin_adv_count  \\\n",
       "0                         Transportation      divestiture               1   \n",
       "1          Banking & Investment Services  asset_driven_op               0   \n",
       "2                      Mineral Resources      divestiture               0   \n",
       "3          Banking & Investment Services  asset_driven_op               0   \n",
       "4                  Energy - Fossil Fuels  asset_driven_op               0   \n",
       "...                                  ...              ...             ...   \n",
       "3020               Energy - Fossil Fuels      divestiture               0   \n",
       "3021              Software & IT Services  asset_driven_op               0   \n",
       "3022              Software & IT Services      divestiture               0   \n",
       "3023          Cyclical Consumer Services      divestiture               1   \n",
       "3024  Pharmaceuticals & Medical Research      divestiture               0   \n",
       "\n",
       "      t_fin_adv_count     car_1     car_3     car_5    car_10  \n",
       "0                   0 -0.009362  0.001308  0.018041  0.056428  \n",
       "1                   0 -0.011249  0.004454  0.012696  0.044807  \n",
       "2                   0  0.013061  0.056958  0.055917  0.016918  \n",
       "3                   0  0.060476 -0.010042  0.002116  0.040544  \n",
       "4                   0 -0.093760 -0.082288 -0.082288 -0.061740  \n",
       "...               ...       ...       ...       ...       ...  \n",
       "3020                1 -0.015629 -0.045382 -0.025400 -0.054948  \n",
       "3021                0  0.088395  0.122123  0.059973  0.066900  \n",
       "3022                0  0.068755  0.110112  0.102726  0.120972  \n",
       "3023                0  0.022186  0.041487  0.041487  0.016503  \n",
       "3024                0  0.045619  0.146613  0.231234  0.290762  \n",
       "\n",
       "[2946 rows x 21 columns]"
      ]
     },
     "execution_count": 6,
     "metadata": {},
     "output_type": "execute_result"
    }
   ],
   "source": [
    "data"
   ]
  },
  {
   "cell_type": "code",
   "execution_count": 7,
   "id": "0173ae77",
   "metadata": {
    "ExecuteTime": {
     "end_time": "2021-09-15T21:49:46.856404Z",
     "start_time": "2021-09-15T21:49:46.849076Z"
    }
   },
   "outputs": [
    {
     "data": {
      "text/plain": [
       "Index(['announcement_date', 'target_status', 'acquisition_count',\n",
       "       'shares_at_announcement', 'shares_acquired', 'consideration_offered',\n",
       "       'bidder_count', 'rel_deal_value', 'cross_border', 'relatedness',\n",
       "       'economic_sector_ac', 'business_sector_ac', 'economic_sector_target',\n",
       "       'business_sector_target', 'cluster_category', 'a_fin_adv_count',\n",
       "       't_fin_adv_count', 'car_1', 'car_3', 'car_5', 'car_10'],\n",
       "      dtype='object')"
      ]
     },
     "execution_count": 7,
     "metadata": {},
     "output_type": "execute_result"
    }
   ],
   "source": [
    "data.columns"
   ]
  },
  {
   "cell_type": "code",
   "execution_count": 8,
   "id": "43c916a5",
   "metadata": {
    "ExecuteTime": {
     "end_time": "2021-09-15T21:51:16.209455Z",
     "start_time": "2021-09-15T21:51:16.204986Z"
    }
   },
   "outputs": [],
   "source": [
    "y_1=data['car_1']"
   ]
  },
  {
   "cell_type": "code",
   "execution_count": 9,
   "id": "537d102a",
   "metadata": {
    "ExecuteTime": {
     "end_time": "2021-09-15T21:51:16.683439Z",
     "start_time": "2021-09-15T21:51:16.678307Z"
    }
   },
   "outputs": [],
   "source": [
    "y_3=data['car_3']"
   ]
  },
  {
   "cell_type": "code",
   "execution_count": 10,
   "id": "9ca1d990",
   "metadata": {
    "ExecuteTime": {
     "end_time": "2021-09-15T21:51:17.102807Z",
     "start_time": "2021-09-15T21:51:17.098087Z"
    }
   },
   "outputs": [],
   "source": [
    "y_5=data['car_5']"
   ]
  },
  {
   "cell_type": "code",
   "execution_count": 11,
   "id": "5c7e9985",
   "metadata": {
    "ExecuteTime": {
     "end_time": "2021-09-15T21:51:17.545249Z",
     "start_time": "2021-09-15T21:51:17.538140Z"
    }
   },
   "outputs": [],
   "source": [
    "y_10=data['car_10']"
   ]
  },
  {
   "cell_type": "code",
   "execution_count": 16,
   "id": "6c30c162",
   "metadata": {
    "ExecuteTime": {
     "end_time": "2021-09-15T21:53:21.004363Z",
     "start_time": "2021-09-15T21:53:20.990312Z"
    }
   },
   "outputs": [],
   "source": [
    "X=data[['target_status', 'acquisition_count',\n",
    "       'shares_at_announcement', 'shares_acquired', 'consideration_offered',\n",
    "       'bidder_count', 'rel_deal_value', 'cross_border', 'relatedness',\n",
    "       'economic_sector_ac', 'business_sector_ac', 'economic_sector_target',\n",
    "       'business_sector_target', 'cluster_category', 'a_fin_adv_count',\n",
    "       't_fin_adv_count']]"
   ]
  },
  {
   "cell_type": "markdown",
   "id": "93457331",
   "metadata": {},
   "source": [
    "# Car_1"
   ]
  },
  {
   "cell_type": "markdown",
   "id": "8588e22d",
   "metadata": {},
   "source": [
    "## Splitting of the dataset"
   ]
  },
  {
   "cell_type": "code",
   "execution_count": 17,
   "id": "635d5f59",
   "metadata": {
    "ExecuteTime": {
     "end_time": "2021-09-15T21:53:23.574593Z",
     "start_time": "2021-09-15T21:53:23.562880Z"
    }
   },
   "outputs": [],
   "source": [
    "#Split\n",
    "from sklearn.model_selection import train_test_split\n",
    "X_train, X_test, y_train, y_test = train_test_split(X,y_1, test_size=0.3, random_state=0)"
   ]
  },
  {
   "cell_type": "markdown",
   "id": "5bb6e8cd",
   "metadata": {},
   "source": [
    "## Pipeline and GridSearch"
   ]
  },
  {
   "cell_type": "code",
   "execution_count": 21,
   "id": "751262e6",
   "metadata": {
    "ExecuteTime": {
     "end_time": "2021-09-15T21:57:14.950232Z",
     "start_time": "2021-09-15T21:57:14.944395Z"
    }
   },
   "outputs": [],
   "source": [
    "cat_transformer = OneHotEncoder(handle_unknown='ignore')"
   ]
  },
  {
   "cell_type": "code",
   "execution_count": 22,
   "id": "2fd543b4",
   "metadata": {
    "ExecuteTime": {
     "end_time": "2021-09-15T21:57:15.252207Z",
     "start_time": "2021-09-15T21:57:15.246738Z"
    }
   },
   "outputs": [],
   "source": [
    "num_transformer= MinMaxScaler()"
   ]
  },
  {
   "cell_type": "code",
   "execution_count": 23,
   "id": "062890ff",
   "metadata": {
    "ExecuteTime": {
     "end_time": "2021-09-15T21:57:15.719810Z",
     "start_time": "2021-09-15T21:57:15.713954Z"
    }
   },
   "outputs": [],
   "source": [
    "cat_features=['target_status', 'shares_at_announcement', 'shares_acquired', \n",
    "              'consideration_offered',\n",
    "               'cross_border', 'relatedness',\n",
    "               'economic_sector_ac', 'business_sector_ac', 'economic_sector_target',\n",
    "               'business_sector_target', 'cluster_category']"
   ]
  },
  {
   "cell_type": "code",
   "execution_count": 24,
   "id": "549dbc82",
   "metadata": {
    "ExecuteTime": {
     "end_time": "2021-09-15T21:57:17.827089Z",
     "start_time": "2021-09-15T21:57:17.821308Z"
    }
   },
   "outputs": [],
   "source": [
    "preprocessor = ColumnTransformer([\n",
    "    ('num_transformer', num_transformer, ['acquisition_count', 'rel_deal_value']),\n",
    "    ('cat_transformer', cat_transformer, cat_features)], remainder='passthrough')"
   ]
  },
  {
   "cell_type": "markdown",
   "id": "afc084be",
   "metadata": {},
   "source": [
    "## Baseline"
   ]
  },
  {
   "cell_type": "code",
   "execution_count": 25,
   "id": "87700c7d",
   "metadata": {
    "ExecuteTime": {
     "end_time": "2021-09-15T21:57:28.514883Z",
     "start_time": "2021-09-15T21:57:28.510933Z"
    }
   },
   "outputs": [],
   "source": [
    "baseline_model_mean = DummyRegressor(strategy=\"mean\") "
   ]
  },
  {
   "cell_type": "code",
   "execution_count": 26,
   "id": "919d1f78",
   "metadata": {
    "ExecuteTime": {
     "end_time": "2021-09-15T21:57:28.967001Z",
     "start_time": "2021-09-15T21:57:28.935318Z"
    }
   },
   "outputs": [
    {
     "data": {
      "text/plain": [
       "-0.0028035919184601354"
      ]
     },
     "execution_count": 26,
     "metadata": {},
     "output_type": "execute_result"
    }
   ],
   "source": [
    "cross_val_score(baseline_model_mean, X_train, y_train, cv=5, scoring='r2').mean()"
   ]
  },
  {
   "cell_type": "code",
   "execution_count": 27,
   "id": "c58bc95f",
   "metadata": {
    "ExecuteTime": {
     "end_time": "2021-09-15T21:57:29.589083Z",
     "start_time": "2021-09-15T21:57:29.556578Z"
    }
   },
   "outputs": [
    {
     "data": {
      "text/plain": [
       "-0.0023029481616530594"
      ]
     },
     "execution_count": 27,
     "metadata": {},
     "output_type": "execute_result"
    }
   ],
   "source": [
    "cross_val_score(baseline_model_mean, X_train, y_train, cv=5, scoring='neg_mean_squared_error').mean()"
   ]
  },
  {
   "cell_type": "markdown",
   "id": "3e740db2",
   "metadata": {},
   "source": [
    "## ElasticNet"
   ]
  },
  {
   "cell_type": "code",
   "execution_count": 28,
   "id": "c6f5d99a",
   "metadata": {
    "ExecuteTime": {
     "end_time": "2021-09-15T21:57:55.793945Z",
     "start_time": "2021-09-15T21:57:55.789074Z"
    }
   },
   "outputs": [],
   "source": [
    "# Hyperparameter Grid\n",
    "grid = {'model__alpha': [0.1, 0.2, 0.3, 0.4],\n",
    "        'model__l1_ratio': [0,0.05, 0.1, 0.15, 0.2],\n",
    "        'model__max_iter': [10000]}"
   ]
  },
  {
   "cell_type": "code",
   "execution_count": 29,
   "id": "c94704ed",
   "metadata": {
    "ExecuteTime": {
     "end_time": "2021-09-15T21:57:56.359251Z",
     "start_time": "2021-09-15T21:57:56.353566Z"
    }
   },
   "outputs": [],
   "source": [
    "# Combine preprocessor and linear model in pipeline\n",
    "pipe = Pipeline([\n",
    "    ('preprocessing', preprocessor),\n",
    "    ('model', ElasticNet())])"
   ]
  },
  {
   "cell_type": "code",
   "execution_count": 30,
   "id": "dadf399d",
   "metadata": {
    "ExecuteTime": {
     "end_time": "2021-09-15T21:57:57.166285Z",
     "start_time": "2021-09-15T21:57:57.157736Z"
    }
   },
   "outputs": [],
   "source": [
    "search = GridSearchCV(pipe, \n",
    "                      grid, \n",
    "                      scoring = ['neg_mean_squared_error', 'r2','neg_mean_absolute_error'],\n",
    "                      refit='neg_mean_squared_error',\n",
    "                      cv = 5,\n",
    "                      n_jobs=-1) "
   ]
  },
  {
   "cell_type": "code",
   "execution_count": 31,
   "id": "549b1784",
   "metadata": {
    "ExecuteTime": {
     "end_time": "2021-09-15T21:59:33.119365Z",
     "start_time": "2021-09-15T21:58:00.217378Z"
    }
   },
   "outputs": [
    {
     "name": "stderr",
     "output_type": "stream",
     "text": [
      "/Users/manonlaffly/.pyenv/versions/3.8.6/envs/MA_PREDICTOR/lib/python3.8/site-packages/sklearn/linear_model/_coordinate_descent.py:513: ConvergenceWarning: Objective did not converge. You might want to increase the number of iterations. Duality gap: 2.313368389120233, tolerance: 0.0004742683849161588\n",
      "  model = cd_fast.sparse_enet_coordinate_descent(\n"
     ]
    }
   ],
   "source": [
    "# Fit data to Grid Search\n",
    "search.fit(X_train,y_train);"
   ]
  },
  {
   "cell_type": "code",
   "execution_count": 32,
   "id": "96fa7590",
   "metadata": {
    "ExecuteTime": {
     "end_time": "2021-09-15T21:59:33.210855Z",
     "start_time": "2021-09-15T21:59:33.173782Z"
    },
    "scrolled": true
   },
   "outputs": [
    {
     "data": {
      "text/plain": [
       "-0.002267369834701439"
      ]
     },
     "execution_count": 32,
     "metadata": {},
     "output_type": "execute_result"
    }
   ],
   "source": [
    "# Best score 1\n",
    "search.best_score_"
   ]
  },
  {
   "cell_type": "code",
   "execution_count": 33,
   "id": "9234bfac",
   "metadata": {
    "ExecuteTime": {
     "end_time": "2021-09-15T21:59:33.238429Z",
     "start_time": "2021-09-15T21:59:33.222238Z"
    }
   },
   "outputs": [
    {
     "data": {
      "text/plain": [
       "{'model__alpha': 0.1, 'model__l1_ratio': 0, 'model__max_iter': 10000}"
      ]
     },
     "execution_count": 33,
     "metadata": {},
     "output_type": "execute_result"
    }
   ],
   "source": [
    "search.best_params_"
   ]
  },
  {
   "cell_type": "markdown",
   "id": "9fb1e230",
   "metadata": {},
   "source": [
    "# Car_3"
   ]
  },
  {
   "cell_type": "markdown",
   "id": "d2c755d6",
   "metadata": {},
   "source": [
    "## Splitting of the dataset"
   ]
  },
  {
   "cell_type": "code",
   "execution_count": 34,
   "id": "9f0f8527",
   "metadata": {
    "ExecuteTime": {
     "end_time": "2021-09-15T21:59:33.273710Z",
     "start_time": "2021-09-15T21:59:33.263971Z"
    }
   },
   "outputs": [],
   "source": [
    "#Split\n",
    "from sklearn.model_selection import train_test_split\n",
    "X_train, X_test, y_train, y_test = train_test_split(X,y_3, test_size=0.3, random_state=0)"
   ]
  },
  {
   "cell_type": "markdown",
   "id": "8f287486",
   "metadata": {},
   "source": [
    "## Pipeline and GridSearch"
   ]
  },
  {
   "cell_type": "code",
   "execution_count": 35,
   "id": "35fad8c9",
   "metadata": {
    "ExecuteTime": {
     "end_time": "2021-09-15T21:59:33.287204Z",
     "start_time": "2021-09-15T21:59:33.278510Z"
    }
   },
   "outputs": [],
   "source": [
    "cat_transformer = OneHotEncoder(handle_unknown='ignore')"
   ]
  },
  {
   "cell_type": "code",
   "execution_count": 36,
   "id": "9eeb5bb1",
   "metadata": {
    "ExecuteTime": {
     "end_time": "2021-09-15T21:59:33.299752Z",
     "start_time": "2021-09-15T21:59:33.294303Z"
    }
   },
   "outputs": [],
   "source": [
    "num_transformer= MinMaxScaler()"
   ]
  },
  {
   "cell_type": "code",
   "execution_count": 37,
   "id": "20b5d3d0",
   "metadata": {
    "ExecuteTime": {
     "end_time": "2021-09-15T21:59:33.315906Z",
     "start_time": "2021-09-15T21:59:33.308987Z"
    }
   },
   "outputs": [],
   "source": [
    "cat_features=['target_status', 'shares_at_announcement', 'shares_acquired', \n",
    "              'consideration_offered',\n",
    "               'cross_border', 'relatedness',\n",
    "               'economic_sector_ac', 'business_sector_ac', 'economic_sector_target',\n",
    "               'business_sector_target', 'cluster_category']"
   ]
  },
  {
   "cell_type": "code",
   "execution_count": 38,
   "id": "93485bfc",
   "metadata": {
    "ExecuteTime": {
     "end_time": "2021-09-15T21:59:33.329500Z",
     "start_time": "2021-09-15T21:59:33.321875Z"
    }
   },
   "outputs": [],
   "source": [
    "preprocessor = ColumnTransformer([\n",
    "    ('num_transformer', num_transformer, ['acquisition_count', 'rel_deal_value']),\n",
    "    ('cat_transformer', cat_transformer, cat_features)], remainder='passthrough')"
   ]
  },
  {
   "cell_type": "markdown",
   "id": "decc0c1a",
   "metadata": {},
   "source": [
    "## Baseline"
   ]
  },
  {
   "cell_type": "code",
   "execution_count": 39,
   "id": "bd887ac9",
   "metadata": {
    "ExecuteTime": {
     "end_time": "2021-09-15T21:59:33.357019Z",
     "start_time": "2021-09-15T21:59:33.343049Z"
    }
   },
   "outputs": [],
   "source": [
    "baseline_model_mean = DummyRegressor(strategy=\"mean\") "
   ]
  },
  {
   "cell_type": "code",
   "execution_count": 40,
   "id": "de65a9d4",
   "metadata": {
    "ExecuteTime": {
     "end_time": "2021-09-15T21:59:33.501976Z",
     "start_time": "2021-09-15T21:59:33.395831Z"
    }
   },
   "outputs": [
    {
     "data": {
      "text/plain": [
       "-0.0035816677480401625"
      ]
     },
     "execution_count": 40,
     "metadata": {},
     "output_type": "execute_result"
    }
   ],
   "source": [
    "cross_val_score(baseline_model_mean, X_train, y_train, cv=5, scoring='r2').mean()"
   ]
  },
  {
   "cell_type": "code",
   "execution_count": 41,
   "id": "b3040847",
   "metadata": {
    "ExecuteTime": {
     "end_time": "2021-09-15T21:59:33.551287Z",
     "start_time": "2021-09-15T21:59:33.515697Z"
    }
   },
   "outputs": [
    {
     "data": {
      "text/plain": [
       "-0.003272686721817799"
      ]
     },
     "execution_count": 41,
     "metadata": {},
     "output_type": "execute_result"
    }
   ],
   "source": [
    "cross_val_score(baseline_model_mean, X_train, y_train, cv=5, scoring='neg_mean_squared_error').mean()"
   ]
  },
  {
   "cell_type": "markdown",
   "id": "f8884311",
   "metadata": {},
   "source": [
    "## ElasticNet"
   ]
  },
  {
   "cell_type": "code",
   "execution_count": 42,
   "id": "edbe2e40",
   "metadata": {
    "ExecuteTime": {
     "end_time": "2021-09-15T21:59:33.575686Z",
     "start_time": "2021-09-15T21:59:33.560876Z"
    }
   },
   "outputs": [],
   "source": [
    "# Hyperparameter Grid\n",
    "grid = {'model__alpha': [0.1, 0.2, 0.3, 0.4],\n",
    "        'model__l1_ratio': [0,0.05, 0.1, 0.15, 0.2],\n",
    "        'model__max_iter': [10000]}"
   ]
  },
  {
   "cell_type": "code",
   "execution_count": 43,
   "id": "c14892f2",
   "metadata": {
    "ExecuteTime": {
     "end_time": "2021-09-15T21:59:33.593831Z",
     "start_time": "2021-09-15T21:59:33.583344Z"
    }
   },
   "outputs": [],
   "source": [
    "# Combine preprocessor and linear model in pipeline\n",
    "pipe = Pipeline([\n",
    "    ('preprocessing', preprocessor),\n",
    "    ('model', ElasticNet())])"
   ]
  },
  {
   "cell_type": "code",
   "execution_count": 44,
   "id": "71872acc",
   "metadata": {
    "ExecuteTime": {
     "end_time": "2021-09-15T21:59:33.624979Z",
     "start_time": "2021-09-15T21:59:33.605172Z"
    }
   },
   "outputs": [],
   "source": [
    "search = GridSearchCV(pipe, \n",
    "                      grid, \n",
    "                      scoring = ['neg_mean_squared_error', 'r2','neg_mean_absolute_error'],\n",
    "                      refit='neg_mean_squared_error',\n",
    "                      cv = 5,\n",
    "                      n_jobs=-1) "
   ]
  },
  {
   "cell_type": "code",
   "execution_count": 45,
   "id": "0293b795",
   "metadata": {
    "ExecuteTime": {
     "end_time": "2021-09-15T22:01:02.000391Z",
     "start_time": "2021-09-15T21:59:33.637369Z"
    }
   },
   "outputs": [
    {
     "name": "stderr",
     "output_type": "stream",
     "text": [
      "/Users/manonlaffly/.pyenv/versions/3.8.6/envs/MA_PREDICTOR/lib/python3.8/site-packages/sklearn/linear_model/_coordinate_descent.py:513: ConvergenceWarning: Objective did not converge. You might want to increase the number of iterations. Duality gap: 3.3128523626465434, tolerance: 0.0006738103238184865\n",
      "  model = cd_fast.sparse_enet_coordinate_descent(\n"
     ]
    }
   ],
   "source": [
    "# Fit data to Grid Search\n",
    "search.fit(X_train,y_train);"
   ]
  },
  {
   "cell_type": "code",
   "execution_count": 46,
   "id": "e33eb7e2",
   "metadata": {
    "ExecuteTime": {
     "end_time": "2021-09-15T22:01:02.028841Z",
     "start_time": "2021-09-15T22:01:02.010893Z"
    },
    "scrolled": true
   },
   "outputs": [
    {
     "data": {
      "text/plain": [
       "-0.0032326437611872342"
      ]
     },
     "execution_count": 46,
     "metadata": {},
     "output_type": "execute_result"
    }
   ],
   "source": [
    "# Best score 1\n",
    "search.best_score_"
   ]
  },
  {
   "cell_type": "code",
   "execution_count": 47,
   "id": "cf8bc6bd",
   "metadata": {
    "ExecuteTime": {
     "end_time": "2021-09-15T22:01:02.098315Z",
     "start_time": "2021-09-15T22:01:02.038725Z"
    }
   },
   "outputs": [
    {
     "data": {
      "text/plain": [
       "{'model__alpha': 0.2, 'model__l1_ratio': 0, 'model__max_iter': 10000}"
      ]
     },
     "execution_count": 47,
     "metadata": {},
     "output_type": "execute_result"
    }
   ],
   "source": [
    "search.best_params_"
   ]
  },
  {
   "cell_type": "code",
   "execution_count": null,
   "id": "6f75510a",
   "metadata": {},
   "outputs": [],
   "source": []
  },
  {
   "cell_type": "markdown",
   "id": "03e52c1e",
   "metadata": {},
   "source": [
    "# Car_5"
   ]
  },
  {
   "cell_type": "markdown",
   "id": "6b175d7b",
   "metadata": {},
   "source": [
    "## Splitting of the dataset"
   ]
  },
  {
   "cell_type": "code",
   "execution_count": 48,
   "id": "0c3a3f75",
   "metadata": {
    "ExecuteTime": {
     "end_time": "2021-09-15T22:01:02.175660Z",
     "start_time": "2021-09-15T22:01:02.152201Z"
    }
   },
   "outputs": [],
   "source": [
    "#Split\n",
    "from sklearn.model_selection import train_test_split\n",
    "X_train, X_test, y_train, y_test = train_test_split(X,y_5, test_size=0.3, random_state=0)"
   ]
  },
  {
   "cell_type": "markdown",
   "id": "c534611c",
   "metadata": {},
   "source": [
    "## Pipeline and GridSearch"
   ]
  },
  {
   "cell_type": "code",
   "execution_count": 49,
   "id": "2417b8f1",
   "metadata": {
    "ExecuteTime": {
     "end_time": "2021-09-15T22:01:02.191875Z",
     "start_time": "2021-09-15T22:01:02.185917Z"
    }
   },
   "outputs": [],
   "source": [
    "cat_transformer = OneHotEncoder(handle_unknown='ignore')"
   ]
  },
  {
   "cell_type": "code",
   "execution_count": 50,
   "id": "9952803f",
   "metadata": {
    "ExecuteTime": {
     "end_time": "2021-09-15T22:01:02.204474Z",
     "start_time": "2021-09-15T22:01:02.198953Z"
    }
   },
   "outputs": [],
   "source": [
    "num_transformer= MinMaxScaler()"
   ]
  },
  {
   "cell_type": "code",
   "execution_count": 51,
   "id": "da933eea",
   "metadata": {
    "ExecuteTime": {
     "end_time": "2021-09-15T22:01:02.218894Z",
     "start_time": "2021-09-15T22:01:02.209613Z"
    }
   },
   "outputs": [],
   "source": [
    "cat_features=['target_status', 'shares_at_announcement', 'shares_acquired', \n",
    "              'consideration_offered',\n",
    "               'cross_border', 'relatedness',\n",
    "               'economic_sector_ac', 'business_sector_ac', 'economic_sector_target',\n",
    "               'business_sector_target', 'cluster_category']"
   ]
  },
  {
   "cell_type": "code",
   "execution_count": 52,
   "id": "0b410ef5",
   "metadata": {
    "ExecuteTime": {
     "end_time": "2021-09-15T22:01:02.239459Z",
     "start_time": "2021-09-15T22:01:02.228722Z"
    }
   },
   "outputs": [],
   "source": [
    "preprocessor = ColumnTransformer([\n",
    "    ('num_transformer', num_transformer, ['acquisition_count', 'rel_deal_value']),\n",
    "    ('cat_transformer', cat_transformer, cat_features)], remainder='passthrough')"
   ]
  },
  {
   "cell_type": "markdown",
   "id": "2c39b574",
   "metadata": {},
   "source": [
    "## Baseline"
   ]
  },
  {
   "cell_type": "code",
   "execution_count": 53,
   "id": "643424dd",
   "metadata": {
    "ExecuteTime": {
     "end_time": "2021-09-15T22:01:02.251677Z",
     "start_time": "2021-09-15T22:01:02.247326Z"
    }
   },
   "outputs": [],
   "source": [
    "baseline_model_mean = DummyRegressor(strategy=\"mean\") "
   ]
  },
  {
   "cell_type": "code",
   "execution_count": 54,
   "id": "4eccc566",
   "metadata": {
    "ExecuteTime": {
     "end_time": "2021-09-15T22:01:02.289415Z",
     "start_time": "2021-09-15T22:01:02.258966Z"
    }
   },
   "outputs": [
    {
     "data": {
      "text/plain": [
       "-0.0027172066560102516"
      ]
     },
     "execution_count": 54,
     "metadata": {},
     "output_type": "execute_result"
    }
   ],
   "source": [
    "cross_val_score(baseline_model_mean, X_train, y_train, cv=5, scoring='r2').mean()"
   ]
  },
  {
   "cell_type": "code",
   "execution_count": 55,
   "id": "88276474",
   "metadata": {
    "ExecuteTime": {
     "end_time": "2021-09-15T22:01:02.338927Z",
     "start_time": "2021-09-15T22:01:02.299001Z"
    }
   },
   "outputs": [
    {
     "data": {
      "text/plain": [
       "-0.004008256293086424"
      ]
     },
     "execution_count": 55,
     "metadata": {},
     "output_type": "execute_result"
    }
   ],
   "source": [
    "cross_val_score(baseline_model_mean, X_train, y_train, cv=5, scoring='neg_mean_squared_error').mean()"
   ]
  },
  {
   "cell_type": "markdown",
   "id": "5d4b49f2",
   "metadata": {},
   "source": [
    "## ElasticNet"
   ]
  },
  {
   "cell_type": "code",
   "execution_count": 56,
   "id": "2ffdd63f",
   "metadata": {
    "ExecuteTime": {
     "end_time": "2021-09-15T22:01:02.350739Z",
     "start_time": "2021-09-15T22:01:02.344203Z"
    }
   },
   "outputs": [],
   "source": [
    "# Hyperparameter Grid\n",
    "grid = {'model__alpha': [0.1, 0.2, 0.3, 0.4],\n",
    "        'model__l1_ratio': [0,0.05, 0.1, 0.15, 0.2],\n",
    "        'model__max_iter': [10000]}"
   ]
  },
  {
   "cell_type": "code",
   "execution_count": 57,
   "id": "fc03ce04",
   "metadata": {
    "ExecuteTime": {
     "end_time": "2021-09-15T22:01:02.368955Z",
     "start_time": "2021-09-15T22:01:02.358439Z"
    }
   },
   "outputs": [],
   "source": [
    "# Combine preprocessor and linear model in pipeline\n",
    "pipe = Pipeline([\n",
    "    ('preprocessing', preprocessor),\n",
    "    ('model', ElasticNet())])"
   ]
  },
  {
   "cell_type": "code",
   "execution_count": 58,
   "id": "c23744e1",
   "metadata": {
    "ExecuteTime": {
     "end_time": "2021-09-15T22:01:02.608999Z",
     "start_time": "2021-09-15T22:01:02.598655Z"
    }
   },
   "outputs": [],
   "source": [
    "search = GridSearchCV(pipe, \n",
    "                      grid, \n",
    "                      scoring = ['neg_mean_squared_error', 'r2','neg_mean_absolute_error'],\n",
    "                      refit='neg_mean_squared_error',\n",
    "                      cv = 5,\n",
    "                      n_jobs=-1) "
   ]
  },
  {
   "cell_type": "code",
   "execution_count": 59,
   "id": "d7bdffb6",
   "metadata": {
    "ExecuteTime": {
     "end_time": "2021-09-15T22:02:17.088920Z",
     "start_time": "2021-09-15T22:01:02.619701Z"
    }
   },
   "outputs": [
    {
     "name": "stderr",
     "output_type": "stream",
     "text": [
      "/Users/manonlaffly/.pyenv/versions/3.8.6/envs/MA_PREDICTOR/lib/python3.8/site-packages/sklearn/linear_model/_coordinate_descent.py:513: ConvergenceWarning: Objective did not converge. You might want to increase the number of iterations. Duality gap: 4.087081578508191, tolerance: 0.0008255994531788251\n",
      "  model = cd_fast.sparse_enet_coordinate_descent(\n"
     ]
    }
   ],
   "source": [
    "# Fit data to Grid Search\n",
    "search.fit(X_train,y_train);"
   ]
  },
  {
   "cell_type": "code",
   "execution_count": 60,
   "id": "aa12d019",
   "metadata": {
    "ExecuteTime": {
     "end_time": "2021-09-15T22:02:17.169641Z",
     "start_time": "2021-09-15T22:02:17.110731Z"
    },
    "scrolled": true
   },
   "outputs": [
    {
     "data": {
      "text/plain": [
       "-0.003987410810003885"
      ]
     },
     "execution_count": 60,
     "metadata": {},
     "output_type": "execute_result"
    }
   ],
   "source": [
    "# Best score 1\n",
    "search.best_score_"
   ]
  },
  {
   "cell_type": "code",
   "execution_count": 61,
   "id": "63b544f6",
   "metadata": {
    "ExecuteTime": {
     "end_time": "2021-09-15T22:02:17.240922Z",
     "start_time": "2021-09-15T22:02:17.225048Z"
    }
   },
   "outputs": [
    {
     "data": {
      "text/plain": [
       "{'model__alpha': 0.3, 'model__l1_ratio': 0, 'model__max_iter': 10000}"
      ]
     },
     "execution_count": 61,
     "metadata": {},
     "output_type": "execute_result"
    }
   ],
   "source": [
    "search.best_params_"
   ]
  },
  {
   "cell_type": "code",
   "execution_count": null,
   "id": "f6949627",
   "metadata": {},
   "outputs": [],
   "source": []
  },
  {
   "cell_type": "markdown",
   "id": "9a021ce1",
   "metadata": {},
   "source": [
    "# Car_10"
   ]
  },
  {
   "cell_type": "markdown",
   "id": "4eb94b67",
   "metadata": {},
   "source": [
    "## Splitting of the dataset"
   ]
  },
  {
   "cell_type": "code",
   "execution_count": 62,
   "id": "c916dcf2",
   "metadata": {
    "ExecuteTime": {
     "end_time": "2021-09-15T22:02:17.261282Z",
     "start_time": "2021-09-15T22:02:17.248312Z"
    }
   },
   "outputs": [],
   "source": [
    "#Split\n",
    "from sklearn.model_selection import train_test_split\n",
    "X_train, X_test, y_train, y_test = train_test_split(X,y_10, test_size=0.3, random_state=0)"
   ]
  },
  {
   "cell_type": "markdown",
   "id": "688d5a55",
   "metadata": {},
   "source": [
    "## Pipeline and GridSearch"
   ]
  },
  {
   "cell_type": "code",
   "execution_count": 63,
   "id": "af145565",
   "metadata": {
    "ExecuteTime": {
     "end_time": "2021-09-15T22:02:17.275520Z",
     "start_time": "2021-09-15T22:02:17.266451Z"
    }
   },
   "outputs": [],
   "source": [
    "cat_transformer = OneHotEncoder(handle_unknown='ignore')"
   ]
  },
  {
   "cell_type": "code",
   "execution_count": 64,
   "id": "c7f8b13b",
   "metadata": {
    "ExecuteTime": {
     "end_time": "2021-09-15T22:02:17.288495Z",
     "start_time": "2021-09-15T22:02:17.284465Z"
    }
   },
   "outputs": [],
   "source": [
    "num_transformer= MinMaxScaler()"
   ]
  },
  {
   "cell_type": "code",
   "execution_count": 65,
   "id": "ea502b50",
   "metadata": {
    "ExecuteTime": {
     "end_time": "2021-09-15T22:02:17.321280Z",
     "start_time": "2021-09-15T22:02:17.295916Z"
    }
   },
   "outputs": [],
   "source": [
    "cat_features=['target_status', 'shares_at_announcement', 'shares_acquired', \n",
    "              'consideration_offered',\n",
    "               'cross_border', 'relatedness',\n",
    "               'economic_sector_ac', 'business_sector_ac', 'economic_sector_target',\n",
    "               'business_sector_target', 'cluster_category']"
   ]
  },
  {
   "cell_type": "code",
   "execution_count": 66,
   "id": "9c85626b",
   "metadata": {
    "ExecuteTime": {
     "end_time": "2021-09-15T22:02:17.397193Z",
     "start_time": "2021-09-15T22:02:17.343935Z"
    }
   },
   "outputs": [],
   "source": [
    "preprocessor = ColumnTransformer([\n",
    "    ('num_transformer', num_transformer, ['acquisition_count', 'rel_deal_value']),\n",
    "    ('cat_transformer', cat_transformer, cat_features)], remainder='passthrough')"
   ]
  },
  {
   "cell_type": "markdown",
   "id": "ffd4b619",
   "metadata": {},
   "source": [
    "## Baseline"
   ]
  },
  {
   "cell_type": "code",
   "execution_count": 67,
   "id": "2be91d6a",
   "metadata": {
    "ExecuteTime": {
     "end_time": "2021-09-15T22:02:17.437120Z",
     "start_time": "2021-09-15T22:02:17.423096Z"
    }
   },
   "outputs": [],
   "source": [
    "baseline_model_mean = DummyRegressor(strategy=\"mean\") "
   ]
  },
  {
   "cell_type": "code",
   "execution_count": 68,
   "id": "33c9b59a",
   "metadata": {
    "ExecuteTime": {
     "end_time": "2021-09-15T22:02:17.487340Z",
     "start_time": "2021-09-15T22:02:17.451501Z"
    }
   },
   "outputs": [
    {
     "data": {
      "text/plain": [
       "-0.002114042773200575"
      ]
     },
     "execution_count": 68,
     "metadata": {},
     "output_type": "execute_result"
    }
   ],
   "source": [
    "cross_val_score(baseline_model_mean, X_train, y_train, cv=5, scoring='r2').mean()"
   ]
  },
  {
   "cell_type": "code",
   "execution_count": 69,
   "id": "39d8db70",
   "metadata": {
    "ExecuteTime": {
     "end_time": "2021-09-15T22:02:17.545833Z",
     "start_time": "2021-09-15T22:02:17.501786Z"
    }
   },
   "outputs": [
    {
     "data": {
      "text/plain": [
       "-0.005898614531676237"
      ]
     },
     "execution_count": 69,
     "metadata": {},
     "output_type": "execute_result"
    }
   ],
   "source": [
    "cross_val_score(baseline_model_mean, X_train, y_train, cv=5, scoring='neg_mean_squared_error').mean()"
   ]
  },
  {
   "cell_type": "markdown",
   "id": "0d49fb9c",
   "metadata": {},
   "source": [
    "## ElasticNet"
   ]
  },
  {
   "cell_type": "code",
   "execution_count": 70,
   "id": "aa75c93d",
   "metadata": {
    "ExecuteTime": {
     "end_time": "2021-09-15T22:02:17.563328Z",
     "start_time": "2021-09-15T22:02:17.555461Z"
    }
   },
   "outputs": [],
   "source": [
    "# Hyperparameter Grid\n",
    "grid = {'model__alpha': [0.1, 0.2, 0.3, 0.4],\n",
    "        'model__l1_ratio': [0,0.05, 0.1, 0.15, 0.2],\n",
    "        'model__max_iter': [10000]}"
   ]
  },
  {
   "cell_type": "code",
   "execution_count": 71,
   "id": "57b70e6f",
   "metadata": {
    "ExecuteTime": {
     "end_time": "2021-09-15T22:02:17.589817Z",
     "start_time": "2021-09-15T22:02:17.576136Z"
    }
   },
   "outputs": [],
   "source": [
    "# Combine preprocessor and linear model in pipeline\n",
    "pipe = Pipeline([\n",
    "    ('preprocessing', preprocessor),\n",
    "    ('model', ElasticNet())])"
   ]
  },
  {
   "cell_type": "code",
   "execution_count": 72,
   "id": "b19db9a6",
   "metadata": {
    "ExecuteTime": {
     "end_time": "2021-09-15T22:02:17.614713Z",
     "start_time": "2021-09-15T22:02:17.603608Z"
    }
   },
   "outputs": [],
   "source": [
    "search = GridSearchCV(pipe, \n",
    "                      grid, \n",
    "                      scoring = ['neg_mean_squared_error', 'r2','neg_mean_absolute_error'],\n",
    "                      refit='neg_mean_squared_error',\n",
    "                      cv = 5,\n",
    "                      n_jobs=-1) "
   ]
  },
  {
   "cell_type": "code",
   "execution_count": 73,
   "id": "503e0f74",
   "metadata": {
    "ExecuteTime": {
     "end_time": "2021-09-15T22:03:32.968571Z",
     "start_time": "2021-09-15T22:02:17.633933Z"
    }
   },
   "outputs": [
    {
     "name": "stderr",
     "output_type": "stream",
     "text": [
      "/Users/manonlaffly/.pyenv/versions/3.8.6/envs/MA_PREDICTOR/lib/python3.8/site-packages/sklearn/linear_model/_coordinate_descent.py:513: ConvergenceWarning: Objective did not converge. You might want to increase the number of iterations. Duality gap: 6.013173505511341, tolerance: 0.0012154030349845102\n",
      "  model = cd_fast.sparse_enet_coordinate_descent(\n"
     ]
    }
   ],
   "source": [
    "# Fit data to Grid Search\n",
    "search.fit(X_train,y_train);"
   ]
  },
  {
   "cell_type": "code",
   "execution_count": 74,
   "id": "7117a491",
   "metadata": {
    "ExecuteTime": {
     "end_time": "2021-09-15T22:03:32.999557Z",
     "start_time": "2021-09-15T22:03:32.974750Z"
    },
    "scrolled": true
   },
   "outputs": [
    {
     "data": {
      "text/plain": [
       "-0.005866874444325098"
      ]
     },
     "execution_count": 74,
     "metadata": {},
     "output_type": "execute_result"
    }
   ],
   "source": [
    "# Best score 1\n",
    "search.best_score_"
   ]
  },
  {
   "cell_type": "code",
   "execution_count": 75,
   "id": "0ee6742b",
   "metadata": {
    "ExecuteTime": {
     "end_time": "2021-09-15T22:03:33.021216Z",
     "start_time": "2021-09-15T22:03:33.009651Z"
    }
   },
   "outputs": [
    {
     "data": {
      "text/plain": [
       "{'model__alpha': 0.3, 'model__l1_ratio': 0, 'model__max_iter': 10000}"
      ]
     },
     "execution_count": 75,
     "metadata": {},
     "output_type": "execute_result"
    },
    {
     "name": "stderr",
     "output_type": "stream",
     "text": [
      "/Users/manonlaffly/.pyenv/versions/3.8.6/envs/MA_PREDICTOR/lib/python3.8/site-packages/sklearn/linear_model/_coordinate_descent.py:513: ConvergenceWarning: Objective did not converge. You might want to increase the number of iterations. Duality gap: 1.982612412021405, tolerance: 0.0004080827716704209\n",
      "  model = cd_fast.sparse_enet_coordinate_descent(\n",
      "/Users/manonlaffly/.pyenv/versions/3.8.6/envs/MA_PREDICTOR/lib/python3.8/site-packages/sklearn/linear_model/_coordinate_descent.py:513: ConvergenceWarning: Objective did not converge. You might want to increase the number of iterations. Duality gap: 1.880404124536022, tolerance: 0.0003863954713921758\n",
      "  model = cd_fast.sparse_enet_coordinate_descent(\n",
      "/Users/manonlaffly/.pyenv/versions/3.8.6/envs/MA_PREDICTOR/lib/python3.8/site-packages/sklearn/linear_model/_coordinate_descent.py:513: ConvergenceWarning: Objective did not converge. You might want to increase the number of iterations. Duality gap: 1.7540329373576207, tolerance: 0.0003571887493432527\n",
      "  model = cd_fast.sparse_enet_coordinate_descent(\n",
      "/Users/manonlaffly/.pyenv/versions/3.8.6/envs/MA_PREDICTOR/lib/python3.8/site-packages/sklearn/linear_model/_coordinate_descent.py:513: ConvergenceWarning: Objective did not converge. You might want to increase the number of iterations. Duality gap: 1.8499116329151823, tolerance: 0.0003766286960459714\n",
      "  model = cd_fast.sparse_enet_coordinate_descent(\n",
      "/Users/manonlaffly/.pyenv/versions/3.8.6/envs/MA_PREDICTOR/lib/python3.8/site-packages/sklearn/linear_model/_coordinate_descent.py:513: ConvergenceWarning: Objective did not converge. You might want to increase the number of iterations. Duality gap: 2.0085256660325137, tolerance: 0.0004080827716704209\n",
      "  model = cd_fast.sparse_enet_coordinate_descent(\n",
      "/Users/manonlaffly/.pyenv/versions/3.8.6/envs/MA_PREDICTOR/lib/python3.8/site-packages/sklearn/linear_model/_coordinate_descent.py:513: ConvergenceWarning: Objective did not converge. You might want to increase the number of iterations. Duality gap: 2.624099607625488, tolerance: 0.0005393984683007446\n",
      "  model = cd_fast.sparse_enet_coordinate_descent(\n",
      "/Users/manonlaffly/.pyenv/versions/3.8.6/envs/MA_PREDICTOR/lib/python3.8/site-packages/sklearn/linear_model/_coordinate_descent.py:513: ConvergenceWarning: Objective did not converge. You might want to increase the number of iterations. Duality gap: 2.70460269463907, tolerance: 0.0005537342884659982\n",
      "  model = cd_fast.sparse_enet_coordinate_descent(\n",
      "/Users/manonlaffly/.pyenv/versions/3.8.6/envs/MA_PREDICTOR/lib/python3.8/site-packages/sklearn/linear_model/_coordinate_descent.py:513: ConvergenceWarning: Objective did not converge. You might want to increase the number of iterations. Duality gap: 2.534925680274631, tolerance: 0.0005157057579840058\n",
      "  model = cd_fast.sparse_enet_coordinate_descent(\n",
      "/Users/manonlaffly/.pyenv/versions/3.8.6/envs/MA_PREDICTOR/lib/python3.8/site-packages/sklearn/linear_model/_coordinate_descent.py:513: ConvergenceWarning: Objective did not converge. You might want to increase the number of iterations. Duality gap: 2.6526236429506413, tolerance: 0.0005393984683007446\n",
      "  model = cd_fast.sparse_enet_coordinate_descent(\n",
      "/Users/manonlaffly/.pyenv/versions/3.8.6/envs/MA_PREDICTOR/lib/python3.8/site-packages/sklearn/linear_model/_coordinate_descent.py:513: ConvergenceWarning: Objective did not converge. You might want to increase the number of iterations. Duality gap: 2.7955846813238514, tolerance: 0.0005669890949357667\n",
      "  model = cd_fast.sparse_enet_coordinate_descent(\n",
      "/Users/manonlaffly/.pyenv/versions/3.8.6/envs/MA_PREDICTOR/lib/python3.8/site-packages/sklearn/linear_model/_coordinate_descent.py:513: ConvergenceWarning: Objective did not converge. You might want to increase the number of iterations. Duality gap: 3.103038968828218, tolerance: 0.0006310554613420527\n",
      "  model = cd_fast.sparse_enet_coordinate_descent(\n",
      "/Users/manonlaffly/.pyenv/versions/3.8.6/envs/MA_PREDICTOR/lib/python3.8/site-packages/sklearn/linear_model/_coordinate_descent.py:513: ConvergenceWarning: Objective did not converge. You might want to increase the number of iterations. Duality gap: 3.308788581708294, tolerance: 0.000671903145716994\n",
      "  model = cd_fast.sparse_enet_coordinate_descent(\n",
      "/Users/manonlaffly/.pyenv/versions/3.8.6/envs/MA_PREDICTOR/lib/python3.8/site-packages/sklearn/linear_model/_coordinate_descent.py:513: ConvergenceWarning: Objective did not converge. You might want to increase the number of iterations. Duality gap: 3.4141181357250883, tolerance: 0.0006904027879187132\n",
      "  model = cd_fast.sparse_enet_coordinate_descent(\n",
      "/Users/manonlaffly/.pyenv/versions/3.8.6/envs/MA_PREDICTOR/lib/python3.8/site-packages/sklearn/linear_model/_coordinate_descent.py:513: ConvergenceWarning: Objective did not converge. You might want to increase the number of iterations. Duality gap: 3.1413558299136444, tolerance: 0.0006345512959536316\n",
      "  model = cd_fast.sparse_enet_coordinate_descent(\n",
      "/Users/manonlaffly/.pyenv/versions/3.8.6/envs/MA_PREDICTOR/lib/python3.8/site-packages/sklearn/linear_model/_coordinate_descent.py:513: ConvergenceWarning: Objective did not converge. You might want to increase the number of iterations. Duality gap: 3.3400014318550553, tolerance: 0.0006740888997717471\n",
      "  model = cd_fast.sparse_enet_coordinate_descent(\n",
      "/Users/manonlaffly/.pyenv/versions/3.8.6/envs/MA_PREDICTOR/lib/python3.8/site-packages/sklearn/linear_model/_coordinate_descent.py:513: ConvergenceWarning: Objective did not converge. You might want to increase the number of iterations. Duality gap: 4.853062216914668, tolerance: 0.0009899786955636003\n",
      "  model = cd_fast.sparse_enet_coordinate_descent(\n",
      "/Users/manonlaffly/.pyenv/versions/3.8.6/envs/MA_PREDICTOR/lib/python3.8/site-packages/sklearn/linear_model/_coordinate_descent.py:513: ConvergenceWarning: Objective did not converge. You might want to increase the number of iterations. Duality gap: 4.5835496232280475, tolerance: 0.0009308545847257228\n",
      "  model = cd_fast.sparse_enet_coordinate_descent(\n",
      "/Users/manonlaffly/.pyenv/versions/3.8.6/envs/MA_PREDICTOR/lib/python3.8/site-packages/sklearn/linear_model/_coordinate_descent.py:513: ConvergenceWarning: Objective did not converge. You might want to increase the number of iterations. Duality gap: 5.028018150767563, tolerance: 0.0010206776959780098\n",
      "  model = cd_fast.sparse_enet_coordinate_descent(\n",
      "/Users/manonlaffly/.pyenv/versions/3.8.6/envs/MA_PREDICTOR/lib/python3.8/site-packages/sklearn/linear_model/_coordinate_descent.py:513: ConvergenceWarning: Objective did not converge. You might want to increase the number of iterations. Duality gap: 4.828264039551439, tolerance: 0.0009768002021539792\n",
      "  model = cd_fast.sparse_enet_coordinate_descent(\n",
      "/Users/manonlaffly/.pyenv/versions/3.8.6/envs/MA_PREDICTOR/lib/python3.8/site-packages/sklearn/linear_model/_coordinate_descent.py:513: ConvergenceWarning: Objective did not converge. You might want to increase the number of iterations. Duality gap: 4.668474083539102, tolerance: 0.0009428799817577781\n",
      "  model = cd_fast.sparse_enet_coordinate_descent(\n",
      "/Users/manonlaffly/.pyenv/versions/3.8.6/envs/MA_PREDICTOR/lib/python3.8/site-packages/sklearn/linear_model/_coordinate_descent.py:513: ConvergenceWarning: Objective did not converge. You might want to increase the number of iterations. Duality gap: 1.830028096350277, tolerance: 0.0003766286960459714\n",
      "  model = cd_fast.sparse_enet_coordinate_descent(\n",
      "/Users/manonlaffly/.pyenv/versions/3.8.6/envs/MA_PREDICTOR/lib/python3.8/site-packages/sklearn/linear_model/_coordinate_descent.py:513: ConvergenceWarning: Objective did not converge. You might want to increase the number of iterations. Duality gap: 1.8428046837027132, tolerance: 0.0003766286960459714\n",
      "  model = cd_fast.sparse_enet_coordinate_descent(\n",
      "/Users/manonlaffly/.pyenv/versions/3.8.6/envs/MA_PREDICTOR/lib/python3.8/site-packages/sklearn/linear_model/_coordinate_descent.py:513: ConvergenceWarning: Objective did not converge. You might want to increase the number of iterations. Duality gap: 1.8145667159553718, tolerance: 0.0003685309322441173\n",
      "  model = cd_fast.sparse_enet_coordinate_descent(\n",
      "/Users/manonlaffly/.pyenv/versions/3.8.6/envs/MA_PREDICTOR/lib/python3.8/site-packages/sklearn/linear_model/_coordinate_descent.py:513: ConvergenceWarning: Objective did not converge. You might want to increase the number of iterations. Duality gap: 1.8996488173024693, tolerance: 0.0003863954713921758\n",
      "  model = cd_fast.sparse_enet_coordinate_descent(\n",
      "/Users/manonlaffly/.pyenv/versions/3.8.6/envs/MA_PREDICTOR/lib/python3.8/site-packages/sklearn/linear_model/_coordinate_descent.py:513: ConvergenceWarning: Objective did not converge. You might want to increase the number of iterations. Duality gap: 1.7634832965831488, tolerance: 0.0003571887493432527\n",
      "  model = cd_fast.sparse_enet_coordinate_descent(\n",
      "/Users/manonlaffly/.pyenv/versions/3.8.6/envs/MA_PREDICTOR/lib/python3.8/site-packages/sklearn/linear_model/_coordinate_descent.py:513: ConvergenceWarning: Objective did not converge. You might want to increase the number of iterations. Duality gap: 2.7630742179217553, tolerance: 0.0005669890949357667\n",
      "  model = cd_fast.sparse_enet_coordinate_descent(\n",
      "/Users/manonlaffly/.pyenv/versions/3.8.6/envs/MA_PREDICTOR/lib/python3.8/site-packages/sklearn/linear_model/_coordinate_descent.py:513: ConvergenceWarning: Objective did not converge. You might want to increase the number of iterations. Duality gap: 2.553261498575589, tolerance: 0.000518970508792017\n",
      "  model = cd_fast.sparse_enet_coordinate_descent(\n",
      "/Users/manonlaffly/.pyenv/versions/3.8.6/envs/MA_PREDICTOR/lib/python3.8/site-packages/sklearn/linear_model/_coordinate_descent.py:513: ConvergenceWarning: Objective did not converge. You might want to increase the number of iterations. Duality gap: 2.7200099483444142, tolerance: 0.0005537342884659982\n",
      "  model = cd_fast.sparse_enet_coordinate_descent(\n",
      "/Users/manonlaffly/.pyenv/versions/3.8.6/envs/MA_PREDICTOR/lib/python3.8/site-packages/sklearn/linear_model/_coordinate_descent.py:513: ConvergenceWarning: Objective did not converge. You might want to increase the number of iterations. Duality gap: 2.5426568959066507, tolerance: 0.0005157057579840058\n",
      "  model = cd_fast.sparse_enet_coordinate_descent(\n",
      "/Users/manonlaffly/.pyenv/versions/3.8.6/envs/MA_PREDICTOR/lib/python3.8/site-packages/sklearn/linear_model/_coordinate_descent.py:513: ConvergenceWarning: Objective did not converge. You might want to increase the number of iterations. Duality gap: 2.659246863366954, tolerance: 0.0005393984683007446\n",
      "  model = cd_fast.sparse_enet_coordinate_descent(\n",
      "/Users/manonlaffly/.pyenv/versions/3.8.6/envs/MA_PREDICTOR/lib/python3.8/site-packages/sklearn/linear_model/_coordinate_descent.py:513: ConvergenceWarning: Objective did not converge. You might want to increase the number of iterations. Duality gap: 3.109256673596488, tolerance: 0.0006345512959536316\n",
      "  model = cd_fast.sparse_enet_coordinate_descent(\n",
      "/Users/manonlaffly/.pyenv/versions/3.8.6/envs/MA_PREDICTOR/lib/python3.8/site-packages/sklearn/linear_model/_coordinate_descent.py:513: ConvergenceWarning: Objective did not converge. You might want to increase the number of iterations. Duality gap: 3.311610492377632, tolerance: 0.0006740888997717471\n",
      "  model = cd_fast.sparse_enet_coordinate_descent(\n",
      "/Users/manonlaffly/.pyenv/versions/3.8.6/envs/MA_PREDICTOR/lib/python3.8/site-packages/sklearn/linear_model/_coordinate_descent.py:513: ConvergenceWarning: Objective did not converge. You might want to increase the number of iterations. Duality gap: 3.116773159706748, tolerance: 0.0006310554613420527\n",
      "  model = cd_fast.sparse_enet_coordinate_descent(\n",
      "/Users/manonlaffly/.pyenv/versions/3.8.6/envs/MA_PREDICTOR/lib/python3.8/site-packages/sklearn/linear_model/_coordinate_descent.py:513: ConvergenceWarning: Objective did not converge. You might want to increase the number of iterations. Duality gap: 3.3183433231634525, tolerance: 0.000671903145716994\n",
      "  model = cd_fast.sparse_enet_coordinate_descent(\n",
      "/Users/manonlaffly/.pyenv/versions/3.8.6/envs/MA_PREDICTOR/lib/python3.8/site-packages/sklearn/linear_model/_coordinate_descent.py:513: ConvergenceWarning: Objective did not converge. You might want to increase the number of iterations. Duality gap: 3.41966078497142, tolerance: 0.0006904027879187132\n",
      "  model = cd_fast.sparse_enet_coordinate_descent(\n",
      "/Users/manonlaffly/.pyenv/versions/3.8.6/envs/MA_PREDICTOR/lib/python3.8/site-packages/sklearn/linear_model/_coordinate_descent.py:513: ConvergenceWarning: Objective did not converge. You might want to increase the number of iterations. Duality gap: 4.557120351912255, tolerance: 0.0009308545847257228\n",
      "  model = cd_fast.sparse_enet_coordinate_descent(\n",
      "/Users/manonlaffly/.pyenv/versions/3.8.6/envs/MA_PREDICTOR/lib/python3.8/site-packages/sklearn/linear_model/_coordinate_descent.py:513: ConvergenceWarning: Objective did not converge. You might want to increase the number of iterations. Duality gap: 5.002698372198421, tolerance: 0.0010206776959780098\n",
      "  model = cd_fast.sparse_enet_coordinate_descent(\n",
      "/Users/manonlaffly/.pyenv/versions/3.8.6/envs/MA_PREDICTOR/lib/python3.8/site-packages/sklearn/linear_model/_coordinate_descent.py:513: ConvergenceWarning: Objective did not converge. You might want to increase the number of iterations. Duality gap: 4.8160170583009165, tolerance: 0.0009768002021539792\n",
      "  model = cd_fast.sparse_enet_coordinate_descent(\n",
      "/Users/manonlaffly/.pyenv/versions/3.8.6/envs/MA_PREDICTOR/lib/python3.8/site-packages/sklearn/linear_model/_coordinate_descent.py:513: ConvergenceWarning: Objective did not converge. You might want to increase the number of iterations. Duality gap: 4.660145748307696, tolerance: 0.0009428799817577781\n",
      "  model = cd_fast.sparse_enet_coordinate_descent(\n",
      "/Users/manonlaffly/.pyenv/versions/3.8.6/envs/MA_PREDICTOR/lib/python3.8/site-packages/sklearn/linear_model/_coordinate_descent.py:513: ConvergenceWarning: Objective did not converge. You might want to increase the number of iterations. Duality gap: 4.901121191261471, tolerance: 0.0009899786955636003\n",
      "  model = cd_fast.sparse_enet_coordinate_descent(\n",
      "/Users/manonlaffly/.pyenv/versions/3.8.6/envs/MA_PREDICTOR/lib/python3.8/site-packages/sklearn/linear_model/_coordinate_descent.py:513: ConvergenceWarning: Objective did not converge. You might want to increase the number of iterations. Duality gap: 1.7963446480670573, tolerance: 0.0003685309322441173\n",
      "  model = cd_fast.sparse_enet_coordinate_descent(\n",
      "/Users/manonlaffly/.pyenv/versions/3.8.6/envs/MA_PREDICTOR/lib/python3.8/site-packages/sklearn/linear_model/_coordinate_descent.py:513: ConvergenceWarning: Objective did not converge. You might want to increase the number of iterations. Duality gap: 1.808171328087817, tolerance: 0.0003685309322441173\n",
      "  model = cd_fast.sparse_enet_coordinate_descent(\n",
      "/Users/manonlaffly/.pyenv/versions/3.8.6/envs/MA_PREDICTOR/lib/python3.8/site-packages/sklearn/linear_model/_coordinate_descent.py:513: ConvergenceWarning: Objective did not converge. You might want to increase the number of iterations. Duality gap: 1.8926694117535423, tolerance: 0.0003863954713921758\n",
      "  model = cd_fast.sparse_enet_coordinate_descent(\n",
      "/Users/manonlaffly/.pyenv/versions/3.8.6/envs/MA_PREDICTOR/lib/python3.8/site-packages/sklearn/linear_model/_coordinate_descent.py:513: ConvergenceWarning: Objective did not converge. You might want to increase the number of iterations. Duality gap: 1.7597049316383726, tolerance: 0.0003571887493432527\n",
      "  model = cd_fast.sparse_enet_coordinate_descent(\n",
      "/Users/manonlaffly/.pyenv/versions/3.8.6/envs/MA_PREDICTOR/lib/python3.8/site-packages/sklearn/linear_model/_coordinate_descent.py:513: ConvergenceWarning: Objective did not converge. You might want to increase the number of iterations. Duality gap: 1.8546574432118086, tolerance: 0.0003766286960459714\n",
      "  model = cd_fast.sparse_enet_coordinate_descent(\n",
      "/Users/manonlaffly/.pyenv/versions/3.8.6/envs/MA_PREDICTOR/lib/python3.8/site-packages/sklearn/linear_model/_coordinate_descent.py:513: ConvergenceWarning: Objective did not converge. You might want to increase the number of iterations. Duality gap: 2.538492182391175, tolerance: 0.000518970508792017\n",
      "  model = cd_fast.sparse_enet_coordinate_descent(\n",
      "/Users/manonlaffly/.pyenv/versions/3.8.6/envs/MA_PREDICTOR/lib/python3.8/site-packages/sklearn/linear_model/_coordinate_descent.py:513: ConvergenceWarning: Objective did not converge. You might want to increase the number of iterations. Duality gap: 2.6425645962392013, tolerance: 0.0005393984683007446\n",
      "  model = cd_fast.sparse_enet_coordinate_descent(\n",
      "/Users/manonlaffly/.pyenv/versions/3.8.6/envs/MA_PREDICTOR/lib/python3.8/site-packages/sklearn/linear_model/_coordinate_descent.py:513: ConvergenceWarning: Objective did not converge. You might want to increase the number of iterations. Duality gap: 2.789055186191121, tolerance: 0.0005669890949357667\n",
      "  model = cd_fast.sparse_enet_coordinate_descent(\n",
      "/Users/manonlaffly/.pyenv/versions/3.8.6/envs/MA_PREDICTOR/lib/python3.8/site-packages/sklearn/linear_model/_coordinate_descent.py:513: ConvergenceWarning: Objective did not converge. You might want to increase the number of iterations. Duality gap: 2.566389297022262, tolerance: 0.000518970508792017\n",
      "  model = cd_fast.sparse_enet_coordinate_descent(\n",
      "/Users/manonlaffly/.pyenv/versions/3.8.6/envs/MA_PREDICTOR/lib/python3.8/site-packages/sklearn/linear_model/_coordinate_descent.py:513: ConvergenceWarning: Objective did not converge. You might want to increase the number of iterations. Duality gap: 2.734484857554214, tolerance: 0.0005537342884659982\n",
      "  model = cd_fast.sparse_enet_coordinate_descent(\n",
      "/Users/manonlaffly/.pyenv/versions/3.8.6/envs/MA_PREDICTOR/lib/python3.8/site-packages/sklearn/linear_model/_coordinate_descent.py:513: ConvergenceWarning: Objective did not converge. You might want to increase the number of iterations. Duality gap: 3.3915093282117694, tolerance: 0.0006904027879187132\n",
      "  model = cd_fast.sparse_enet_coordinate_descent(\n",
      "/Users/manonlaffly/.pyenv/versions/3.8.6/envs/MA_PREDICTOR/lib/python3.8/site-packages/sklearn/linear_model/_coordinate_descent.py:513: ConvergenceWarning: Objective did not converge. You might want to increase the number of iterations. Duality gap: 3.1263504886130784, tolerance: 0.0006345512959536316\n",
      "  model = cd_fast.sparse_enet_coordinate_descent(\n",
      "/Users/manonlaffly/.pyenv/versions/3.8.6/envs/MA_PREDICTOR/lib/python3.8/site-packages/sklearn/linear_model/_coordinate_descent.py:513: ConvergenceWarning: Objective did not converge. You might want to increase the number of iterations. Duality gap: 3.3264423777564294, tolerance: 0.0006740888997717471\n",
      "  model = cd_fast.sparse_enet_coordinate_descent(\n",
      "/Users/manonlaffly/.pyenv/versions/3.8.6/envs/MA_PREDICTOR/lib/python3.8/site-packages/sklearn/linear_model/_coordinate_descent.py:513: ConvergenceWarning: Objective did not converge. You might want to increase the number of iterations. Duality gap: 3.1240665272331176, tolerance: 0.0006310554613420527\n",
      "  model = cd_fast.sparse_enet_coordinate_descent(\n",
      "/Users/manonlaffly/.pyenv/versions/3.8.6/envs/MA_PREDICTOR/lib/python3.8/site-packages/sklearn/linear_model/_coordinate_descent.py:513: ConvergenceWarning: Objective did not converge. You might want to increase the number of iterations. Duality gap: 3.3246301790828348, tolerance: 0.000671903145716994\n",
      "  model = cd_fast.sparse_enet_coordinate_descent(\n",
      "/Users/manonlaffly/.pyenv/versions/3.8.6/envs/MA_PREDICTOR/lib/python3.8/site-packages/sklearn/linear_model/_coordinate_descent.py:513: ConvergenceWarning: Objective did not converge. You might want to increase the number of iterations. Duality gap: 4.621934495204535, tolerance: 0.0009428799817577781\n",
      "  model = cd_fast.sparse_enet_coordinate_descent(\n",
      "/Users/manonlaffly/.pyenv/versions/3.8.6/envs/MA_PREDICTOR/lib/python3.8/site-packages/sklearn/linear_model/_coordinate_descent.py:513: ConvergenceWarning: Objective did not converge. You might want to increase the number of iterations. Duality gap: 4.878503233510852, tolerance: 0.0009899786955636003\n",
      "  model = cd_fast.sparse_enet_coordinate_descent(\n",
      "/Users/manonlaffly/.pyenv/versions/3.8.6/envs/MA_PREDICTOR/lib/python3.8/site-packages/sklearn/linear_model/_coordinate_descent.py:513: ConvergenceWarning: Objective did not converge. You might want to increase the number of iterations. Duality gap: 4.597222353094954, tolerance: 0.0009308545847257228\n",
      "  model = cd_fast.sparse_enet_coordinate_descent(\n",
      "/Users/manonlaffly/.pyenv/versions/3.8.6/envs/MA_PREDICTOR/lib/python3.8/site-packages/sklearn/linear_model/_coordinate_descent.py:513: ConvergenceWarning: Objective did not converge. You might want to increase the number of iterations. Duality gap: 5.041709349320529, tolerance: 0.0010206776959780098\n",
      "  model = cd_fast.sparse_enet_coordinate_descent(\n",
      "/Users/manonlaffly/.pyenv/versions/3.8.6/envs/MA_PREDICTOR/lib/python3.8/site-packages/sklearn/linear_model/_coordinate_descent.py:513: ConvergenceWarning: Objective did not converge. You might want to increase the number of iterations. Duality gap: 4.836287488695034, tolerance: 0.0009768002021539792\n",
      "  model = cd_fast.sparse_enet_coordinate_descent(\n"
     ]
    },
    {
     "name": "stderr",
     "output_type": "stream",
     "text": [
      "/Users/manonlaffly/.pyenv/versions/3.8.6/envs/MA_PREDICTOR/lib/python3.8/site-packages/sklearn/linear_model/_coordinate_descent.py:513: ConvergenceWarning: Objective did not converge. You might want to increase the number of iterations. Duality gap: 1.7437808275233355, tolerance: 0.0003571887493432527\n",
      "  model = cd_fast.sparse_enet_coordinate_descent(\n",
      "/Users/manonlaffly/.pyenv/versions/3.8.6/envs/MA_PREDICTOR/lib/python3.8/site-packages/sklearn/linear_model/_coordinate_descent.py:513: ConvergenceWarning: Objective did not converge. You might want to increase the number of iterations. Duality gap: 1.9956840950460875, tolerance: 0.0004080827716704209\n",
      "  model = cd_fast.sparse_enet_coordinate_descent(\n",
      "/Users/manonlaffly/.pyenv/versions/3.8.6/envs/MA_PREDICTOR/lib/python3.8/site-packages/sklearn/linear_model/_coordinate_descent.py:513: ConvergenceWarning: Objective did not converge. You might want to increase the number of iterations. Duality gap: 2.0033119906373624, tolerance: 0.0004080827716704209\n",
      "  model = cd_fast.sparse_enet_coordinate_descent(\n",
      "/Users/manonlaffly/.pyenv/versions/3.8.6/envs/MA_PREDICTOR/lib/python3.8/site-packages/sklearn/linear_model/_coordinate_descent.py:513: ConvergenceWarning: Objective did not converge. You might want to increase the number of iterations. Duality gap: 1.818764314213891, tolerance: 0.0003685309322441173\n",
      "  model = cd_fast.sparse_enet_coordinate_descent(\n",
      "/Users/manonlaffly/.pyenv/versions/3.8.6/envs/MA_PREDICTOR/lib/python3.8/site-packages/sklearn/linear_model/_coordinate_descent.py:513: ConvergenceWarning: Objective did not converge. You might want to increase the number of iterations. Duality gap: 1.904343770407919, tolerance: 0.0003863954713921758\n",
      "  model = cd_fast.sparse_enet_coordinate_descent(\n",
      "/Users/manonlaffly/.pyenv/versions/3.8.6/envs/MA_PREDICTOR/lib/python3.8/site-packages/sklearn/linear_model/_coordinate_descent.py:513: ConvergenceWarning: Objective did not converge. You might want to increase the number of iterations. Duality gap: 2.5207538886478464, tolerance: 0.0005157057579840058\n",
      "  model = cd_fast.sparse_enet_coordinate_descent(\n",
      "/Users/manonlaffly/.pyenv/versions/3.8.6/envs/MA_PREDICTOR/lib/python3.8/site-packages/sklearn/linear_model/_coordinate_descent.py:513: ConvergenceWarning: Objective did not converge. You might want to increase the number of iterations. Duality gap: 2.7794765982486807, tolerance: 0.0005669890949357667\n",
      "  model = cd_fast.sparse_enet_coordinate_descent(\n",
      "/Users/manonlaffly/.pyenv/versions/3.8.6/envs/MA_PREDICTOR/lib/python3.8/site-packages/sklearn/linear_model/_coordinate_descent.py:513: ConvergenceWarning: Objective did not converge. You might want to increase the number of iterations. Duality gap: 2.561204652204485, tolerance: 0.000518970508792017\n",
      "  model = cd_fast.sparse_enet_coordinate_descent(\n",
      "/Users/manonlaffly/.pyenv/versions/3.8.6/envs/MA_PREDICTOR/lib/python3.8/site-packages/sklearn/linear_model/_coordinate_descent.py:513: ConvergenceWarning: Objective did not converge. You might want to increase the number of iterations. Duality gap: 2.7286756611506746, tolerance: 0.0005537342884659982\n",
      "  model = cd_fast.sparse_enet_coordinate_descent(\n",
      "/Users/manonlaffly/.pyenv/versions/3.8.6/envs/MA_PREDICTOR/lib/python3.8/site-packages/sklearn/linear_model/_coordinate_descent.py:513: ConvergenceWarning: Objective did not converge. You might want to increase the number of iterations. Duality gap: 2.547793314727807, tolerance: 0.0005157057579840058\n",
      "  model = cd_fast.sparse_enet_coordinate_descent(\n",
      "/Users/manonlaffly/.pyenv/versions/3.8.6/envs/MA_PREDICTOR/lib/python3.8/site-packages/sklearn/linear_model/_coordinate_descent.py:513: ConvergenceWarning: Objective did not converge. You might want to increase the number of iterations. Duality gap: 3.2911914369356805, tolerance: 0.000671903145716994\n",
      "  model = cd_fast.sparse_enet_coordinate_descent(\n",
      "/Users/manonlaffly/.pyenv/versions/3.8.6/envs/MA_PREDICTOR/lib/python3.8/site-packages/sklearn/linear_model/_coordinate_descent.py:513: ConvergenceWarning: Objective did not converge. You might want to increase the number of iterations. Duality gap: 3.405901690674918, tolerance: 0.0006904027879187132\n",
      "  model = cd_fast.sparse_enet_coordinate_descent(\n",
      "/Users/manonlaffly/.pyenv/versions/3.8.6/envs/MA_PREDICTOR/lib/python3.8/site-packages/sklearn/linear_model/_coordinate_descent.py:513: ConvergenceWarning: Objective did not converge. You might want to increase the number of iterations. Duality gap: 3.1354497070229357, tolerance: 0.0006345512959536316\n",
      "  model = cd_fast.sparse_enet_coordinate_descent(\n",
      "/Users/manonlaffly/.pyenv/versions/3.8.6/envs/MA_PREDICTOR/lib/python3.8/site-packages/sklearn/linear_model/_coordinate_descent.py:513: ConvergenceWarning: Objective did not converge. You might want to increase the number of iterations. Duality gap: 3.334600302347725, tolerance: 0.0006740888997717471\n",
      "  model = cd_fast.sparse_enet_coordinate_descent(\n",
      "/Users/manonlaffly/.pyenv/versions/3.8.6/envs/MA_PREDICTOR/lib/python3.8/site-packages/sklearn/linear_model/_coordinate_descent.py:513: ConvergenceWarning: Objective did not converge. You might want to increase the number of iterations. Duality gap: 3.128822851900034, tolerance: 0.0006310554613420527\n",
      "  model = cd_fast.sparse_enet_coordinate_descent(\n",
      "/Users/manonlaffly/.pyenv/versions/3.8.6/envs/MA_PREDICTOR/lib/python3.8/site-packages/sklearn/linear_model/_coordinate_descent.py:513: ConvergenceWarning: Objective did not converge. You might want to increase the number of iterations. Duality gap: 4.7930226969618115, tolerance: 0.0009768002021539792\n",
      "  model = cd_fast.sparse_enet_coordinate_descent(\n",
      "/Users/manonlaffly/.pyenv/versions/3.8.6/envs/MA_PREDICTOR/lib/python3.8/site-packages/sklearn/linear_model/_coordinate_descent.py:513: ConvergenceWarning: Objective did not converge. You might want to increase the number of iterations. Duality gap: 4.6471467321868705, tolerance: 0.0009428799817577781\n",
      "  model = cd_fast.sparse_enet_coordinate_descent(\n",
      "/Users/manonlaffly/.pyenv/versions/3.8.6/envs/MA_PREDICTOR/lib/python3.8/site-packages/sklearn/linear_model/_coordinate_descent.py:513: ConvergenceWarning: Objective did not converge. You might want to increase the number of iterations. Duality gap: 4.892205572902912, tolerance: 0.0009899786955636003\n",
      "  model = cd_fast.sparse_enet_coordinate_descent(\n",
      "/Users/manonlaffly/.pyenv/versions/3.8.6/envs/MA_PREDICTOR/lib/python3.8/site-packages/sklearn/linear_model/_coordinate_descent.py:513: ConvergenceWarning: Objective did not converge. You might want to increase the number of iterations. Duality gap: 4.605977157605967, tolerance: 0.0009308545847257228\n",
      "  model = cd_fast.sparse_enet_coordinate_descent(\n",
      "/Users/manonlaffly/.pyenv/versions/3.8.6/envs/MA_PREDICTOR/lib/python3.8/site-packages/sklearn/linear_model/_coordinate_descent.py:513: ConvergenceWarning: Objective did not converge. You might want to increase the number of iterations. Duality gap: 5.050706052856365, tolerance: 0.0010206776959780098\n",
      "  model = cd_fast.sparse_enet_coordinate_descent(\n"
     ]
    }
   ],
   "source": [
    "search.best_params_"
   ]
  },
  {
   "cell_type": "code",
   "execution_count": null,
   "id": "edf9d774",
   "metadata": {},
   "outputs": [],
   "source": []
  }
 ],
 "metadata": {
  "kernelspec": {
   "display_name": "Python 3 (ipykernel)",
   "language": "python",
   "name": "python3"
  },
  "language_info": {
   "codemirror_mode": {
    "name": "ipython",
    "version": 3
   },
   "file_extension": ".py",
   "mimetype": "text/x-python",
   "name": "python",
   "nbconvert_exporter": "python",
   "pygments_lexer": "ipython3",
   "version": "3.8.6"
  },
  "toc": {
   "base_numbering": 1,
   "nav_menu": {},
   "number_sections": true,
   "sideBar": true,
   "skip_h1_title": false,
   "title_cell": "Table of Contents",
   "title_sidebar": "Contents",
   "toc_cell": false,
   "toc_position": {},
   "toc_section_display": true,
   "toc_window_display": false
  }
 },
 "nbformat": 4,
 "nbformat_minor": 5
}
