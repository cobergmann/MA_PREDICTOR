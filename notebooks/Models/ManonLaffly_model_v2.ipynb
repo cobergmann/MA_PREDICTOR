{
 "cells": [
  {
   "cell_type": "code",
   "execution_count": 91,
   "id": "a30b4ee7",
   "metadata": {
    "ExecuteTime": {
     "end_time": "2021-09-15T14:17:39.665122Z",
     "start_time": "2021-09-15T14:17:39.652496Z"
    }
   },
   "outputs": [],
   "source": [
    "from sklearn.preprocessing import OneHotEncoder\n",
    "from sklearn.compose import ColumnTransformer\n",
    "import numpy as np\n",
    "import pandas as pd\n",
    "from sklearn.model_selection import train_test_split\n",
    "from sklearn.linear_model import LinearRegression\n",
    "from sklearn.model_selection import cross_val_score\n",
    "from sklearn.pipeline import Pipeline\n",
    "from sklearn.ensemble import RandomForestRegressor\n",
    "from xgboost import XGBRegressor\n",
    "from sklearn.metrics import r2_score,mean_squared_error\n",
    "from sklearn.model_selection import GridSearchCV\n",
    "from sklearn.linear_model import ElasticNet\n",
    "from sklearn.dummy import DummyRegressor\n",
    "import xgboost as xgb\n",
    "from sklearn.preprocessing import MinMaxScaler\n",
    "from sklearn.svm import SVR\n",
    "from sklearn.linear_model import Ridge"
   ]
  },
  {
   "cell_type": "code",
   "execution_count": 92,
   "id": "4b853f21",
   "metadata": {
    "ExecuteTime": {
     "end_time": "2021-09-15T14:17:40.305810Z",
     "start_time": "2021-09-15T14:17:40.020193Z"
    }
   },
   "outputs": [],
   "source": [
    "data = pd.read_csv('../../MA_PREDICTOR/data/ma_data_car_clean.csv')"
   ]
  },
  {
   "cell_type": "code",
   "execution_count": 93,
   "id": "ee599922",
   "metadata": {
    "ExecuteTime": {
     "end_time": "2021-09-15T14:17:40.334872Z",
     "start_time": "2021-09-15T14:17:40.316622Z"
    },
    "scrolled": true
   },
   "outputs": [],
   "source": [
    "data.drop('month', inplace=True, axis=1)"
   ]
  },
  {
   "cell_type": "code",
   "execution_count": 94,
   "id": "4a19f5f9",
   "metadata": {
    "ExecuteTime": {
     "end_time": "2021-09-15T14:17:40.563894Z",
     "start_time": "2021-09-15T14:17:40.527553Z"
    }
   },
   "outputs": [],
   "source": [
    "horizons = [1, 3, 5, 10]\n",
    "for horizon in horizons:\n",
    "    data = data[(abs(data[f'car_{horizon}']) <= 0.3)]"
   ]
  },
  {
   "cell_type": "code",
   "execution_count": 95,
   "id": "a910692f",
   "metadata": {
    "ExecuteTime": {
     "end_time": "2021-09-15T14:17:40.946974Z",
     "start_time": "2021-09-15T14:17:40.854689Z"
    }
   },
   "outputs": [
    {
     "data": {
      "text/html": [
       "<div>\n",
       "<style scoped>\n",
       "    .dataframe tbody tr th:only-of-type {\n",
       "        vertical-align: middle;\n",
       "    }\n",
       "\n",
       "    .dataframe tbody tr th {\n",
       "        vertical-align: top;\n",
       "    }\n",
       "\n",
       "    .dataframe thead th {\n",
       "        text-align: right;\n",
       "    }\n",
       "</style>\n",
       "<table border=\"1\" class=\"dataframe\">\n",
       "  <thead>\n",
       "    <tr style=\"text-align: right;\">\n",
       "      <th></th>\n",
       "      <th>consideration_offered</th>\n",
       "      <th>shares_acquired</th>\n",
       "      <th>shares_at_announcement</th>\n",
       "      <th>acquiror_code</th>\n",
       "      <th>target_code</th>\n",
       "      <th>target_status</th>\n",
       "      <th>acquisition_count</th>\n",
       "      <th>bidder_count</th>\n",
       "      <th>cross_border</th>\n",
       "      <th>relatedness</th>\n",
       "      <th>economic_sector_ac</th>\n",
       "      <th>business_sector_ac</th>\n",
       "      <th>economic_sector_target</th>\n",
       "      <th>business_sector_target</th>\n",
       "      <th>car_1</th>\n",
       "      <th>car_3</th>\n",
       "      <th>car_5</th>\n",
       "      <th>car_10</th>\n",
       "    </tr>\n",
       "  </thead>\n",
       "  <tbody>\n",
       "    <tr>\n",
       "      <th>0</th>\n",
       "      <td>Other</td>\n",
       "      <td>full</td>\n",
       "      <td>no</td>\n",
       "      <td>55101010</td>\n",
       "      <td>55301010</td>\n",
       "      <td>others</td>\n",
       "      <td>5</td>\n",
       "      <td>1</td>\n",
       "      <td>cross_border</td>\n",
       "      <td>economic_sector</td>\n",
       "      <td>Financials</td>\n",
       "      <td>Banking &amp; Investment Services</td>\n",
       "      <td>Financials</td>\n",
       "      <td>Insurance</td>\n",
       "      <td>-0.002947</td>\n",
       "      <td>-0.000599</td>\n",
       "      <td>-0.019639</td>\n",
       "      <td>-0.007640</td>\n",
       "    </tr>\n",
       "    <tr>\n",
       "      <th>1</th>\n",
       "      <td>Other</td>\n",
       "      <td>full</td>\n",
       "      <td>no</td>\n",
       "      <td>55101010</td>\n",
       "      <td>55301010</td>\n",
       "      <td>others</td>\n",
       "      <td>6</td>\n",
       "      <td>1</td>\n",
       "      <td>cross_border</td>\n",
       "      <td>economic_sector</td>\n",
       "      <td>Financials</td>\n",
       "      <td>Banking &amp; Investment Services</td>\n",
       "      <td>Financials</td>\n",
       "      <td>Insurance</td>\n",
       "      <td>-0.002947</td>\n",
       "      <td>-0.000599</td>\n",
       "      <td>-0.019639</td>\n",
       "      <td>-0.007640</td>\n",
       "    </tr>\n",
       "    <tr>\n",
       "      <th>2</th>\n",
       "      <td>Other</td>\n",
       "      <td>full</td>\n",
       "      <td>no</td>\n",
       "      <td>52102050</td>\n",
       "      <td>53205020</td>\n",
       "      <td>others</td>\n",
       "      <td>22</td>\n",
       "      <td>1</td>\n",
       "      <td>cross_border</td>\n",
       "      <td>not_related</td>\n",
       "      <td>Industrials</td>\n",
       "      <td>Industrial Goods</td>\n",
       "      <td>Consumer Cyclicals</td>\n",
       "      <td>Cyclical Consumer Products</td>\n",
       "      <td>0.006169</td>\n",
       "      <td>0.000123</td>\n",
       "      <td>-0.020599</td>\n",
       "      <td>-0.001150</td>\n",
       "    </tr>\n",
       "    <tr>\n",
       "      <th>3</th>\n",
       "      <td>Other</td>\n",
       "      <td>full</td>\n",
       "      <td>no</td>\n",
       "      <td>54201010</td>\n",
       "      <td>56201040</td>\n",
       "      <td>others</td>\n",
       "      <td>34</td>\n",
       "      <td>1</td>\n",
       "      <td>cross_border</td>\n",
       "      <td>not_related</td>\n",
       "      <td>Consumer Non-Cyclicals</td>\n",
       "      <td>Personal &amp; Household Products &amp; Services</td>\n",
       "      <td>Healthcare</td>\n",
       "      <td>Pharmaceuticals &amp; Medical Research</td>\n",
       "      <td>0.007969</td>\n",
       "      <td>0.029287</td>\n",
       "      <td>0.009896</td>\n",
       "      <td>0.028176</td>\n",
       "    </tr>\n",
       "    <tr>\n",
       "      <th>4</th>\n",
       "      <td>Other</td>\n",
       "      <td>full</td>\n",
       "      <td>no</td>\n",
       "      <td>52102050</td>\n",
       "      <td>53205020</td>\n",
       "      <td>others</td>\n",
       "      <td>23</td>\n",
       "      <td>1</td>\n",
       "      <td>cross_border</td>\n",
       "      <td>not_related</td>\n",
       "      <td>Industrials</td>\n",
       "      <td>Industrial Goods</td>\n",
       "      <td>Consumer Cyclicals</td>\n",
       "      <td>Cyclical Consumer Products</td>\n",
       "      <td>0.006169</td>\n",
       "      <td>0.000123</td>\n",
       "      <td>-0.020599</td>\n",
       "      <td>-0.001150</td>\n",
       "    </tr>\n",
       "    <tr>\n",
       "      <th>...</th>\n",
       "      <td>...</td>\n",
       "      <td>...</td>\n",
       "      <td>...</td>\n",
       "      <td>...</td>\n",
       "      <td>...</td>\n",
       "      <td>...</td>\n",
       "      <td>...</td>\n",
       "      <td>...</td>\n",
       "      <td>...</td>\n",
       "      <td>...</td>\n",
       "      <td>...</td>\n",
       "      <td>...</td>\n",
       "      <td>...</td>\n",
       "      <td>...</td>\n",
       "      <td>...</td>\n",
       "      <td>...</td>\n",
       "      <td>...</td>\n",
       "      <td>...</td>\n",
       "    </tr>\n",
       "    <tr>\n",
       "      <th>15921</th>\n",
       "      <td>Cash</td>\n",
       "      <td>full</td>\n",
       "      <td>no</td>\n",
       "      <td>52102010</td>\n",
       "      <td>59103010</td>\n",
       "      <td>others</td>\n",
       "      <td>15</td>\n",
       "      <td>1</td>\n",
       "      <td>cross_border</td>\n",
       "      <td>not_related</td>\n",
       "      <td>Industrials</td>\n",
       "      <td>Industrial Goods</td>\n",
       "      <td>Utilities</td>\n",
       "      <td>Utilities</td>\n",
       "      <td>0.020108</td>\n",
       "      <td>0.052302</td>\n",
       "      <td>0.070522</td>\n",
       "      <td>0.093236</td>\n",
       "    </tr>\n",
       "    <tr>\n",
       "      <th>15922</th>\n",
       "      <td>Other</td>\n",
       "      <td>full</td>\n",
       "      <td>no</td>\n",
       "      <td>53203020</td>\n",
       "      <td>53205020</td>\n",
       "      <td>others</td>\n",
       "      <td>60</td>\n",
       "      <td>1</td>\n",
       "      <td>cross_border</td>\n",
       "      <td>business_sector</td>\n",
       "      <td>Consumer Cyclicals</td>\n",
       "      <td>Cyclical Consumer Products</td>\n",
       "      <td>Consumer Cyclicals</td>\n",
       "      <td>Cyclical Consumer Products</td>\n",
       "      <td>-0.040156</td>\n",
       "      <td>-0.034438</td>\n",
       "      <td>-0.058843</td>\n",
       "      <td>-0.028895</td>\n",
       "    </tr>\n",
       "    <tr>\n",
       "      <th>15923</th>\n",
       "      <td>Other</td>\n",
       "      <td>full</td>\n",
       "      <td>no</td>\n",
       "      <td>54301020</td>\n",
       "      <td>57201010</td>\n",
       "      <td>others</td>\n",
       "      <td>52</td>\n",
       "      <td>1</td>\n",
       "      <td>national</td>\n",
       "      <td>not_related</td>\n",
       "      <td>Consumer Non-Cyclicals</td>\n",
       "      <td>Food &amp; Drug Retailing</td>\n",
       "      <td>Technology</td>\n",
       "      <td>Software &amp; IT Services</td>\n",
       "      <td>-0.003545</td>\n",
       "      <td>-0.022961</td>\n",
       "      <td>-0.024630</td>\n",
       "      <td>-0.004876</td>\n",
       "    </tr>\n",
       "    <tr>\n",
       "      <th>15924</th>\n",
       "      <td>Other</td>\n",
       "      <td>full</td>\n",
       "      <td>no</td>\n",
       "      <td>55101010</td>\n",
       "      <td>52203030</td>\n",
       "      <td>others</td>\n",
       "      <td>6</td>\n",
       "      <td>1</td>\n",
       "      <td>cross_border</td>\n",
       "      <td>not_related</td>\n",
       "      <td>Financials</td>\n",
       "      <td>Banking &amp; Investment Services</td>\n",
       "      <td>Industrials</td>\n",
       "      <td>Industrial &amp; Commercial Services</td>\n",
       "      <td>-0.025992</td>\n",
       "      <td>-0.009654</td>\n",
       "      <td>-0.019414</td>\n",
       "      <td>-0.025331</td>\n",
       "    </tr>\n",
       "    <tr>\n",
       "      <th>15925</th>\n",
       "      <td>Other</td>\n",
       "      <td>full</td>\n",
       "      <td>no</td>\n",
       "      <td>53403010</td>\n",
       "      <td>55101050</td>\n",
       "      <td>others</td>\n",
       "      <td>73</td>\n",
       "      <td>1</td>\n",
       "      <td>national</td>\n",
       "      <td>not_related</td>\n",
       "      <td>Consumer Cyclicals</td>\n",
       "      <td>Retailers</td>\n",
       "      <td>Financials</td>\n",
       "      <td>Banking &amp; Investment Services</td>\n",
       "      <td>-0.000099</td>\n",
       "      <td>-0.037174</td>\n",
       "      <td>-0.054546</td>\n",
       "      <td>-0.051735</td>\n",
       "    </tr>\n",
       "  </tbody>\n",
       "</table>\n",
       "<p>15815 rows × 18 columns</p>\n",
       "</div>"
      ],
      "text/plain": [
       "      consideration_offered shares_acquired shares_at_announcement  \\\n",
       "0                     Other            full                     no   \n",
       "1                     Other            full                     no   \n",
       "2                     Other            full                     no   \n",
       "3                     Other            full                     no   \n",
       "4                     Other            full                     no   \n",
       "...                     ...             ...                    ...   \n",
       "15921                  Cash            full                     no   \n",
       "15922                 Other            full                     no   \n",
       "15923                 Other            full                     no   \n",
       "15924                 Other            full                     no   \n",
       "15925                 Other            full                     no   \n",
       "\n",
       "       acquiror_code  target_code target_status  acquisition_count  \\\n",
       "0           55101010     55301010        others                  5   \n",
       "1           55101010     55301010        others                  6   \n",
       "2           52102050     53205020        others                 22   \n",
       "3           54201010     56201040        others                 34   \n",
       "4           52102050     53205020        others                 23   \n",
       "...              ...          ...           ...                ...   \n",
       "15921       52102010     59103010        others                 15   \n",
       "15922       53203020     53205020        others                 60   \n",
       "15923       54301020     57201010        others                 52   \n",
       "15924       55101010     52203030        others                  6   \n",
       "15925       53403010     55101050        others                 73   \n",
       "\n",
       "       bidder_count  cross_border      relatedness      economic_sector_ac  \\\n",
       "0                 1  cross_border  economic_sector              Financials   \n",
       "1                 1  cross_border  economic_sector              Financials   \n",
       "2                 1  cross_border      not_related             Industrials   \n",
       "3                 1  cross_border      not_related  Consumer Non-Cyclicals   \n",
       "4                 1  cross_border      not_related             Industrials   \n",
       "...             ...           ...              ...                     ...   \n",
       "15921             1  cross_border      not_related             Industrials   \n",
       "15922             1  cross_border  business_sector      Consumer Cyclicals   \n",
       "15923             1      national      not_related  Consumer Non-Cyclicals   \n",
       "15924             1  cross_border      not_related              Financials   \n",
       "15925             1      national      not_related      Consumer Cyclicals   \n",
       "\n",
       "                             business_sector_ac economic_sector_target  \\\n",
       "0                 Banking & Investment Services             Financials   \n",
       "1                 Banking & Investment Services             Financials   \n",
       "2                              Industrial Goods     Consumer Cyclicals   \n",
       "3      Personal & Household Products & Services             Healthcare   \n",
       "4                              Industrial Goods     Consumer Cyclicals   \n",
       "...                                         ...                    ...   \n",
       "15921                          Industrial Goods              Utilities   \n",
       "15922                Cyclical Consumer Products     Consumer Cyclicals   \n",
       "15923                     Food & Drug Retailing             Technology   \n",
       "15924             Banking & Investment Services            Industrials   \n",
       "15925                                 Retailers             Financials   \n",
       "\n",
       "                   business_sector_target     car_1     car_3     car_5  \\\n",
       "0                               Insurance -0.002947 -0.000599 -0.019639   \n",
       "1                               Insurance -0.002947 -0.000599 -0.019639   \n",
       "2              Cyclical Consumer Products  0.006169  0.000123 -0.020599   \n",
       "3      Pharmaceuticals & Medical Research  0.007969  0.029287  0.009896   \n",
       "4              Cyclical Consumer Products  0.006169  0.000123 -0.020599   \n",
       "...                                   ...       ...       ...       ...   \n",
       "15921                           Utilities  0.020108  0.052302  0.070522   \n",
       "15922          Cyclical Consumer Products -0.040156 -0.034438 -0.058843   \n",
       "15923              Software & IT Services -0.003545 -0.022961 -0.024630   \n",
       "15924    Industrial & Commercial Services -0.025992 -0.009654 -0.019414   \n",
       "15925       Banking & Investment Services -0.000099 -0.037174 -0.054546   \n",
       "\n",
       "         car_10  \n",
       "0     -0.007640  \n",
       "1     -0.007640  \n",
       "2     -0.001150  \n",
       "3      0.028176  \n",
       "4     -0.001150  \n",
       "...         ...  \n",
       "15921  0.093236  \n",
       "15922 -0.028895  \n",
       "15923 -0.004876  \n",
       "15924 -0.025331  \n",
       "15925 -0.051735  \n",
       "\n",
       "[15815 rows x 18 columns]"
      ]
     },
     "execution_count": 95,
     "metadata": {},
     "output_type": "execute_result"
    }
   ],
   "source": [
    "data"
   ]
  },
  {
   "cell_type": "code",
   "execution_count": 96,
   "id": "e7aae6af",
   "metadata": {
    "ExecuteTime": {
     "end_time": "2021-09-15T14:17:41.097172Z",
     "start_time": "2021-09-15T14:17:41.075731Z"
    },
    "scrolled": false
   },
   "outputs": [
    {
     "data": {
      "text/plain": [
       "Index(['consideration_offered', 'shares_acquired', 'shares_at_announcement',\n",
       "       'acquiror_code', 'target_code', 'target_status', 'acquisition_count',\n",
       "       'bidder_count', 'cross_border', 'relatedness', 'economic_sector_ac',\n",
       "       'business_sector_ac', 'economic_sector_target',\n",
       "       'business_sector_target', 'car_1', 'car_3', 'car_5', 'car_10'],\n",
       "      dtype='object')"
      ]
     },
     "execution_count": 96,
     "metadata": {},
     "output_type": "execute_result"
    }
   ],
   "source": [
    "data.columns"
   ]
  },
  {
   "cell_type": "code",
   "execution_count": 97,
   "id": "43c916a5",
   "metadata": {
    "ExecuteTime": {
     "end_time": "2021-09-15T14:17:41.401288Z",
     "start_time": "2021-09-15T14:17:41.395800Z"
    }
   },
   "outputs": [],
   "source": [
    "y_1=data['car_1']"
   ]
  },
  {
   "cell_type": "code",
   "execution_count": 98,
   "id": "537d102a",
   "metadata": {
    "ExecuteTime": {
     "end_time": "2021-09-15T14:17:41.582082Z",
     "start_time": "2021-09-15T14:17:41.576410Z"
    }
   },
   "outputs": [],
   "source": [
    "y_3=data['car_3']"
   ]
  },
  {
   "cell_type": "code",
   "execution_count": 99,
   "id": "9ca1d990",
   "metadata": {
    "ExecuteTime": {
     "end_time": "2021-09-15T14:17:44.682454Z",
     "start_time": "2021-09-15T14:17:44.678363Z"
    }
   },
   "outputs": [],
   "source": [
    "y_5=data['car_5']"
   ]
  },
  {
   "cell_type": "code",
   "execution_count": 100,
   "id": "5c7e9985",
   "metadata": {
    "ExecuteTime": {
     "end_time": "2021-09-15T14:17:45.007850Z",
     "start_time": "2021-09-15T14:17:45.002912Z"
    }
   },
   "outputs": [],
   "source": [
    "y_10=data['car_10']"
   ]
  },
  {
   "cell_type": "code",
   "execution_count": 101,
   "id": "6c30c162",
   "metadata": {
    "ExecuteTime": {
     "end_time": "2021-09-15T14:17:45.368895Z",
     "start_time": "2021-09-15T14:17:45.356563Z"
    }
   },
   "outputs": [],
   "source": [
    "X=data[['consideration_offered', 'shares_acquired', 'shares_at_announcement',\n",
    "       'acquiror_code', 'target_code', 'target_status', 'acquisition_count',\n",
    "       'bidder_count', 'cross_border', 'relatedness', 'economic_sector_ac',\n",
    "       'business_sector_ac', 'economic_sector_target',\n",
    "       'business_sector_target']]"
   ]
  },
  {
   "cell_type": "markdown",
   "id": "93457331",
   "metadata": {},
   "source": [
    "# Car_1"
   ]
  },
  {
   "cell_type": "markdown",
   "id": "8588e22d",
   "metadata": {},
   "source": [
    "## Splitting of the dataset"
   ]
  },
  {
   "cell_type": "code",
   "execution_count": 102,
   "id": "635d5f59",
   "metadata": {
    "ExecuteTime": {
     "end_time": "2021-09-15T14:17:45.963070Z",
     "start_time": "2021-09-15T14:17:45.939289Z"
    }
   },
   "outputs": [],
   "source": [
    "#Split\n",
    "from sklearn.model_selection import train_test_split\n",
    "X_train, X_test, y_train, y_test = train_test_split(X,y_1, test_size=0.3, random_state=0)"
   ]
  },
  {
   "cell_type": "markdown",
   "id": "5bb6e8cd",
   "metadata": {},
   "source": [
    "## Pipeline and GridSearch"
   ]
  },
  {
   "cell_type": "code",
   "execution_count": 103,
   "id": "751262e6",
   "metadata": {
    "ExecuteTime": {
     "end_time": "2021-09-15T14:17:46.417681Z",
     "start_time": "2021-09-15T14:17:46.411515Z"
    }
   },
   "outputs": [],
   "source": [
    "cat_transformer = OneHotEncoder(handle_unknown='ignore')"
   ]
  },
  {
   "cell_type": "code",
   "execution_count": 104,
   "id": "2fd543b4",
   "metadata": {
    "ExecuteTime": {
     "end_time": "2021-09-15T14:17:46.709287Z",
     "start_time": "2021-09-15T14:17:46.704109Z"
    }
   },
   "outputs": [],
   "source": [
    "num_transformer= MinMaxScaler()"
   ]
  },
  {
   "cell_type": "code",
   "execution_count": 105,
   "id": "062890ff",
   "metadata": {
    "ExecuteTime": {
     "end_time": "2021-09-15T14:17:48.929501Z",
     "start_time": "2021-09-15T14:17:48.924682Z"
    }
   },
   "outputs": [],
   "source": [
    "cat_features=['consideration_offered', 'shares_acquired', 'shares_at_announcement',\n",
    "       'acquiror_code', 'target_code', 'target_status', 'cross_border', 'relatedness', 'economic_sector_ac',\n",
    "       'business_sector_ac', 'economic_sector_target',\n",
    "       'business_sector_target']"
   ]
  },
  {
   "cell_type": "code",
   "execution_count": 106,
   "id": "549dbc82",
   "metadata": {
    "ExecuteTime": {
     "end_time": "2021-09-15T14:17:49.245612Z",
     "start_time": "2021-09-15T14:17:49.239615Z"
    }
   },
   "outputs": [],
   "source": [
    "preprocessor = ColumnTransformer([\n",
    "    ('num_transformer', num_transformer, ['acquisition_count']),\n",
    "    ('cat_transformer', cat_transformer, cat_features)], remainder='passthrough')"
   ]
  },
  {
   "cell_type": "markdown",
   "id": "afc084be",
   "metadata": {},
   "source": [
    "## Baseline"
   ]
  },
  {
   "cell_type": "code",
   "execution_count": 107,
   "id": "87700c7d",
   "metadata": {
    "ExecuteTime": {
     "end_time": "2021-09-15T14:17:49.863668Z",
     "start_time": "2021-09-15T14:17:49.858293Z"
    }
   },
   "outputs": [],
   "source": [
    "baseline_model_mean = DummyRegressor(strategy=\"mean\") "
   ]
  },
  {
   "cell_type": "code",
   "execution_count": 108,
   "id": "919d1f78",
   "metadata": {
    "ExecuteTime": {
     "end_time": "2021-09-15T14:17:50.218751Z",
     "start_time": "2021-09-15T14:17:50.166543Z"
    }
   },
   "outputs": [
    {
     "data": {
      "text/plain": [
       "-0.0005246333864007635"
      ]
     },
     "execution_count": 108,
     "metadata": {},
     "output_type": "execute_result"
    }
   ],
   "source": [
    "cross_val_score(baseline_model_mean, X_train, y_train, cv=5, scoring='r2').mean()"
   ]
  },
  {
   "cell_type": "code",
   "execution_count": 109,
   "id": "c58bc95f",
   "metadata": {
    "ExecuteTime": {
     "end_time": "2021-09-15T14:17:50.526637Z",
     "start_time": "2021-09-15T14:17:50.482294Z"
    }
   },
   "outputs": [
    {
     "data": {
      "text/plain": [
       "-0.0018494774855108622"
      ]
     },
     "execution_count": 109,
     "metadata": {},
     "output_type": "execute_result"
    }
   ],
   "source": [
    "cross_val_score(baseline_model_mean, X_train, y_train, cv=5, scoring='neg_mean_squared_error').mean()"
   ]
  },
  {
   "cell_type": "markdown",
   "id": "3e740db2",
   "metadata": {},
   "source": [
    "## ElasticNet"
   ]
  },
  {
   "cell_type": "code",
   "execution_count": 110,
   "id": "c6f5d99a",
   "metadata": {
    "ExecuteTime": {
     "end_time": "2021-09-15T14:17:51.016119Z",
     "start_time": "2021-09-15T14:17:51.009530Z"
    }
   },
   "outputs": [],
   "source": [
    "# Hyperparameter Grid\n",
    "grid = {'model__alpha': [0.1, 0.2, 0.3, 0.4],\n",
    "        'model__l1_ratio': [0,0.05, 0.1, 0.15, 0.2],\n",
    "        'model__max_iter': [10000]}"
   ]
  },
  {
   "cell_type": "code",
   "execution_count": 111,
   "id": "c94704ed",
   "metadata": {
    "ExecuteTime": {
     "end_time": "2021-09-15T14:17:51.267188Z",
     "start_time": "2021-09-15T14:17:51.260888Z"
    }
   },
   "outputs": [],
   "source": [
    "# Combine preprocessor and linear model in pipeline\n",
    "pipe = Pipeline([\n",
    "    ('preprocessing', preprocessor),\n",
    "    ('model', ElasticNet())])"
   ]
  },
  {
   "cell_type": "code",
   "execution_count": 112,
   "id": "dadf399d",
   "metadata": {
    "ExecuteTime": {
     "end_time": "2021-09-15T14:17:51.564941Z",
     "start_time": "2021-09-15T14:17:51.559717Z"
    }
   },
   "outputs": [],
   "source": [
    "search = GridSearchCV(pipe, \n",
    "                      grid, \n",
    "                      scoring = ['neg_mean_squared_error', 'r2','neg_mean_absolute_error'],\n",
    "                      refit='neg_mean_squared_error',\n",
    "                      cv = 5,\n",
    "                      n_jobs=-1) "
   ]
  },
  {
   "cell_type": "code",
   "execution_count": 113,
   "id": "549b1784",
   "metadata": {
    "ExecuteTime": {
     "end_time": "2021-09-15T14:48:58.006316Z",
     "start_time": "2021-09-15T14:17:51.883814Z"
    }
   },
   "outputs": [
    {
     "name": "stderr",
     "output_type": "stream",
     "text": [
      "/Users/manonlaffly/.pyenv/versions/3.8.6/envs/MA_PREDICTOR/lib/python3.8/site-packages/sklearn/linear_model/_coordinate_descent.py:513: ConvergenceWarning: Objective did not converge. You might want to increase the number of iterations. Duality gap: 10.200028305152852, tolerance: 0.002046981507595808\n",
      "  model = cd_fast.sparse_enet_coordinate_descent(\n"
     ]
    }
   ],
   "source": [
    "# Fit data to Grid Search\n",
    "search.fit(X_train,y_train);"
   ]
  },
  {
   "cell_type": "code",
   "execution_count": 114,
   "id": "96fa7590",
   "metadata": {
    "ExecuteTime": {
     "end_time": "2021-09-15T14:48:58.041978Z",
     "start_time": "2021-09-15T14:48:58.024464Z"
    },
    "scrolled": true
   },
   "outputs": [
    {
     "data": {
      "text/plain": [
       "-0.001847028794143277"
      ]
     },
     "execution_count": 114,
     "metadata": {},
     "output_type": "execute_result"
    }
   ],
   "source": [
    "# Best score 1\n",
    "search.best_score_"
   ]
  },
  {
   "cell_type": "code",
   "execution_count": 115,
   "id": "9234bfac",
   "metadata": {
    "ExecuteTime": {
     "end_time": "2021-09-15T14:48:58.067051Z",
     "start_time": "2021-09-15T14:48:58.054012Z"
    }
   },
   "outputs": [
    {
     "data": {
      "text/plain": [
       "{'model__alpha': 0.2, 'model__l1_ratio': 0, 'model__max_iter': 10000}"
      ]
     },
     "execution_count": 115,
     "metadata": {},
     "output_type": "execute_result"
    }
   ],
   "source": [
    "search.best_params_"
   ]
  },
  {
   "cell_type": "markdown",
   "id": "9fb1e230",
   "metadata": {},
   "source": [
    "# Car_3"
   ]
  },
  {
   "cell_type": "markdown",
   "id": "d2c755d6",
   "metadata": {},
   "source": [
    "## Splitting of the dataset"
   ]
  },
  {
   "cell_type": "code",
   "execution_count": 116,
   "id": "9f0f8527",
   "metadata": {
    "ExecuteTime": {
     "end_time": "2021-09-15T14:48:58.118194Z",
     "start_time": "2021-09-15T14:48:58.100059Z"
    }
   },
   "outputs": [],
   "source": [
    "#Split\n",
    "from sklearn.model_selection import train_test_split\n",
    "X_train, X_test, y_train, y_test = train_test_split(X,y_3, test_size=0.3, random_state=0)"
   ]
  },
  {
   "cell_type": "markdown",
   "id": "8f287486",
   "metadata": {},
   "source": [
    "## Pipeline and GridSearch"
   ]
  },
  {
   "cell_type": "code",
   "execution_count": 117,
   "id": "35fad8c9",
   "metadata": {
    "ExecuteTime": {
     "end_time": "2021-09-15T14:48:58.155273Z",
     "start_time": "2021-09-15T14:48:58.144115Z"
    }
   },
   "outputs": [],
   "source": [
    "cat_transformer = OneHotEncoder(handle_unknown='ignore')"
   ]
  },
  {
   "cell_type": "code",
   "execution_count": 118,
   "id": "9eeb5bb1",
   "metadata": {
    "ExecuteTime": {
     "end_time": "2021-09-15T14:48:58.175543Z",
     "start_time": "2021-09-15T14:48:58.165844Z"
    }
   },
   "outputs": [],
   "source": [
    "num_transformer= MinMaxScaler()"
   ]
  },
  {
   "cell_type": "code",
   "execution_count": 119,
   "id": "20b5d3d0",
   "metadata": {
    "ExecuteTime": {
     "end_time": "2021-09-15T14:48:58.199228Z",
     "start_time": "2021-09-15T14:48:58.186511Z"
    }
   },
   "outputs": [],
   "source": [
    "cat_features=['consideration_offered', 'shares_acquired', 'shares_at_announcement',\n",
    "       'acquiror_code', 'target_code', 'target_status', 'cross_border', 'relatedness', 'economic_sector_ac',\n",
    "       'business_sector_ac', 'economic_sector_target',\n",
    "       'business_sector_target']"
   ]
  },
  {
   "cell_type": "code",
   "execution_count": 120,
   "id": "93485bfc",
   "metadata": {
    "ExecuteTime": {
     "end_time": "2021-09-15T14:48:58.225525Z",
     "start_time": "2021-09-15T14:48:58.212681Z"
    }
   },
   "outputs": [],
   "source": [
    "preprocessor = ColumnTransformer([\n",
    "    ('num_transformer', num_transformer, ['acquisition_count']),\n",
    "    ('cat_transformer', cat_transformer, cat_features)], remainder='passthrough')"
   ]
  },
  {
   "cell_type": "markdown",
   "id": "decc0c1a",
   "metadata": {},
   "source": [
    "## Baseline"
   ]
  },
  {
   "cell_type": "code",
   "execution_count": 121,
   "id": "bd887ac9",
   "metadata": {
    "ExecuteTime": {
     "end_time": "2021-09-15T14:48:58.250954Z",
     "start_time": "2021-09-15T14:48:58.234735Z"
    }
   },
   "outputs": [],
   "source": [
    "baseline_model_mean = DummyRegressor(strategy=\"mean\") "
   ]
  },
  {
   "cell_type": "code",
   "execution_count": 122,
   "id": "de65a9d4",
   "metadata": {
    "ExecuteTime": {
     "end_time": "2021-09-15T14:48:58.393357Z",
     "start_time": "2021-09-15T14:48:58.338681Z"
    }
   },
   "outputs": [
    {
     "data": {
      "text/plain": [
       "-0.0006164455356379328"
      ]
     },
     "execution_count": 122,
     "metadata": {},
     "output_type": "execute_result"
    }
   ],
   "source": [
    "cross_val_score(baseline_model_mean, X_train, y_train, cv=5, scoring='r2').mean()"
   ]
  },
  {
   "cell_type": "code",
   "execution_count": 123,
   "id": "b3040847",
   "metadata": {
    "ExecuteTime": {
     "end_time": "2021-09-15T14:48:58.450939Z",
     "start_time": "2021-09-15T14:48:58.402957Z"
    }
   },
   "outputs": [
    {
     "data": {
      "text/plain": [
       "-0.0028219917186760074"
      ]
     },
     "execution_count": 123,
     "metadata": {},
     "output_type": "execute_result"
    }
   ],
   "source": [
    "cross_val_score(baseline_model_mean, X_train, y_train, cv=5, scoring='neg_mean_squared_error').mean()"
   ]
  },
  {
   "cell_type": "markdown",
   "id": "f8884311",
   "metadata": {},
   "source": [
    "## ElasticNet"
   ]
  },
  {
   "cell_type": "code",
   "execution_count": 124,
   "id": "edbe2e40",
   "metadata": {
    "ExecuteTime": {
     "end_time": "2021-09-15T14:48:58.478150Z",
     "start_time": "2021-09-15T14:48:58.462362Z"
    }
   },
   "outputs": [],
   "source": [
    "# Hyperparameter Grid\n",
    "grid = {'model__alpha': [0.1, 0.2, 0.3, 0.4],\n",
    "        'model__l1_ratio': [0,0.05, 0.1, 0.15, 0.2],\n",
    "        'model__max_iter': [10000]}"
   ]
  },
  {
   "cell_type": "code",
   "execution_count": 125,
   "id": "c14892f2",
   "metadata": {
    "ExecuteTime": {
     "end_time": "2021-09-15T14:48:58.501252Z",
     "start_time": "2021-09-15T14:48:58.488010Z"
    }
   },
   "outputs": [],
   "source": [
    "# Combine preprocessor and linear model in pipeline\n",
    "pipe = Pipeline([\n",
    "    ('preprocessing', preprocessor),\n",
    "    ('model', ElasticNet())])"
   ]
  },
  {
   "cell_type": "code",
   "execution_count": 126,
   "id": "71872acc",
   "metadata": {
    "ExecuteTime": {
     "end_time": "2021-09-15T14:48:58.532033Z",
     "start_time": "2021-09-15T14:48:58.516294Z"
    }
   },
   "outputs": [],
   "source": [
    "search = GridSearchCV(pipe, \n",
    "                      grid, \n",
    "                      scoring = ['neg_mean_squared_error', 'r2','neg_mean_absolute_error'],\n",
    "                      refit='neg_mean_squared_error',\n",
    "                      cv = 5,\n",
    "                      n_jobs=-1) "
   ]
  },
  {
   "cell_type": "code",
   "execution_count": 127,
   "id": "0293b795",
   "metadata": {
    "ExecuteTime": {
     "end_time": "2021-09-15T15:11:57.016040Z",
     "start_time": "2021-09-15T14:48:58.543332Z"
    }
   },
   "outputs": [
    {
     "name": "stderr",
     "output_type": "stream",
     "text": [
      "/Users/manonlaffly/.pyenv/versions/3.8.6/envs/MA_PREDICTOR/lib/python3.8/site-packages/sklearn/linear_model/_coordinate_descent.py:513: ConvergenceWarning: Objective did not converge. You might want to increase the number of iterations. Duality gap: 15.577089455802108, tolerance: 0.0031232521387035456\n",
      "  model = cd_fast.sparse_enet_coordinate_descent(\n"
     ]
    }
   ],
   "source": [
    "# Fit data to Grid Search\n",
    "search.fit(X_train,y_train);"
   ]
  },
  {
   "cell_type": "code",
   "execution_count": 128,
   "id": "e33eb7e2",
   "metadata": {
    "ExecuteTime": {
     "end_time": "2021-09-15T15:11:57.047458Z",
     "start_time": "2021-09-15T15:11:57.028817Z"
    },
    "scrolled": true
   },
   "outputs": [
    {
     "data": {
      "text/plain": [
       "-0.0028190328178341975"
      ]
     },
     "execution_count": 128,
     "metadata": {},
     "output_type": "execute_result"
    }
   ],
   "source": [
    "# Best score 1\n",
    "search.best_score_"
   ]
  },
  {
   "cell_type": "code",
   "execution_count": 129,
   "id": "cf8bc6bd",
   "metadata": {
    "ExecuteTime": {
     "end_time": "2021-09-15T15:11:57.071960Z",
     "start_time": "2021-09-15T15:11:57.052691Z"
    }
   },
   "outputs": [
    {
     "data": {
      "text/plain": [
       "{'model__alpha': 0.3, 'model__l1_ratio': 0, 'model__max_iter': 10000}"
      ]
     },
     "execution_count": 129,
     "metadata": {},
     "output_type": "execute_result"
    }
   ],
   "source": [
    "search.best_params_"
   ]
  },
  {
   "cell_type": "code",
   "execution_count": null,
   "id": "6f75510a",
   "metadata": {},
   "outputs": [],
   "source": []
  },
  {
   "cell_type": "markdown",
   "id": "03e52c1e",
   "metadata": {},
   "source": [
    "# Car_5"
   ]
  },
  {
   "cell_type": "markdown",
   "id": "6b175d7b",
   "metadata": {},
   "source": [
    "## Splitting of the dataset"
   ]
  },
  {
   "cell_type": "code",
   "execution_count": 130,
   "id": "0c3a3f75",
   "metadata": {
    "ExecuteTime": {
     "end_time": "2021-09-15T15:11:57.101791Z",
     "start_time": "2021-09-15T15:11:57.077604Z"
    }
   },
   "outputs": [],
   "source": [
    "#Split\n",
    "from sklearn.model_selection import train_test_split\n",
    "X_train, X_test, y_train, y_test = train_test_split(X,y_5, test_size=0.3, random_state=0)"
   ]
  },
  {
   "cell_type": "markdown",
   "id": "c534611c",
   "metadata": {},
   "source": [
    "## Pipeline and GridSearch"
   ]
  },
  {
   "cell_type": "code",
   "execution_count": 131,
   "id": "2417b8f1",
   "metadata": {
    "ExecuteTime": {
     "end_time": "2021-09-15T15:11:57.117584Z",
     "start_time": "2021-09-15T15:11:57.109343Z"
    }
   },
   "outputs": [],
   "source": [
    "cat_transformer = OneHotEncoder(handle_unknown='ignore')"
   ]
  },
  {
   "cell_type": "code",
   "execution_count": 132,
   "id": "9952803f",
   "metadata": {
    "ExecuteTime": {
     "end_time": "2021-09-15T15:11:57.130874Z",
     "start_time": "2021-09-15T15:11:57.124601Z"
    }
   },
   "outputs": [],
   "source": [
    "num_transformer= MinMaxScaler()"
   ]
  },
  {
   "cell_type": "code",
   "execution_count": 133,
   "id": "da933eea",
   "metadata": {
    "ExecuteTime": {
     "end_time": "2021-09-15T15:11:57.147201Z",
     "start_time": "2021-09-15T15:11:57.137601Z"
    }
   },
   "outputs": [],
   "source": [
    "cat_features=['consideration_offered', 'shares_acquired', 'shares_at_announcement',\n",
    "       'acquiror_code', 'target_code', 'target_status', 'cross_border', 'relatedness', 'economic_sector_ac',\n",
    "       'business_sector_ac', 'economic_sector_target',\n",
    "       'business_sector_target']"
   ]
  },
  {
   "cell_type": "code",
   "execution_count": 134,
   "id": "0b410ef5",
   "metadata": {
    "ExecuteTime": {
     "end_time": "2021-09-15T15:11:57.161289Z",
     "start_time": "2021-09-15T15:11:57.150892Z"
    }
   },
   "outputs": [],
   "source": [
    "preprocessor = ColumnTransformer([\n",
    "    ('num_transformer', num_transformer, ['acquisition_count']),\n",
    "    ('cat_transformer', cat_transformer, cat_features)], remainder='passthrough')"
   ]
  },
  {
   "cell_type": "markdown",
   "id": "2c39b574",
   "metadata": {},
   "source": [
    "## Baseline"
   ]
  },
  {
   "cell_type": "code",
   "execution_count": 135,
   "id": "643424dd",
   "metadata": {
    "ExecuteTime": {
     "end_time": "2021-09-15T15:11:57.177147Z",
     "start_time": "2021-09-15T15:11:57.166154Z"
    }
   },
   "outputs": [],
   "source": [
    "baseline_model_mean = DummyRegressor(strategy=\"mean\") "
   ]
  },
  {
   "cell_type": "code",
   "execution_count": 136,
   "id": "4eccc566",
   "metadata": {
    "ExecuteTime": {
     "end_time": "2021-09-15T15:11:57.231041Z",
     "start_time": "2021-09-15T15:11:57.189451Z"
    }
   },
   "outputs": [
    {
     "data": {
      "text/plain": [
       "-0.00026360045456024216"
      ]
     },
     "execution_count": 136,
     "metadata": {},
     "output_type": "execute_result"
    }
   ],
   "source": [
    "cross_val_score(baseline_model_mean, X_train, y_train, cv=5, scoring='r2').mean()"
   ]
  },
  {
   "cell_type": "code",
   "execution_count": 137,
   "id": "88276474",
   "metadata": {
    "ExecuteTime": {
     "end_time": "2021-09-15T15:11:57.306882Z",
     "start_time": "2021-09-15T15:11:57.241757Z"
    }
   },
   "outputs": [
    {
     "data": {
      "text/plain": [
       "-0.003547537274034695"
      ]
     },
     "execution_count": 137,
     "metadata": {},
     "output_type": "execute_result"
    }
   ],
   "source": [
    "cross_val_score(baseline_model_mean, X_train, y_train, cv=5, scoring='neg_mean_squared_error').mean()"
   ]
  },
  {
   "cell_type": "markdown",
   "id": "5d4b49f2",
   "metadata": {},
   "source": [
    "## ElasticNet"
   ]
  },
  {
   "cell_type": "code",
   "execution_count": 138,
   "id": "2ffdd63f",
   "metadata": {
    "ExecuteTime": {
     "end_time": "2021-09-15T15:11:57.332630Z",
     "start_time": "2021-09-15T15:11:57.322612Z"
    }
   },
   "outputs": [],
   "source": [
    "# Hyperparameter Grid\n",
    "grid = {'model__alpha': [0.1, 0.2, 0.3, 0.4],\n",
    "        'model__l1_ratio': [0,0.05, 0.1, 0.15, 0.2],\n",
    "        'model__max_iter': [10000]}"
   ]
  },
  {
   "cell_type": "code",
   "execution_count": 139,
   "id": "fc03ce04",
   "metadata": {
    "ExecuteTime": {
     "end_time": "2021-09-15T15:11:57.359375Z",
     "start_time": "2021-09-15T15:11:57.346297Z"
    }
   },
   "outputs": [],
   "source": [
    "# Combine preprocessor and linear model in pipeline\n",
    "pipe = Pipeline([\n",
    "    ('preprocessing', preprocessor),\n",
    "    ('model', ElasticNet())])"
   ]
  },
  {
   "cell_type": "code",
   "execution_count": 140,
   "id": "c23744e1",
   "metadata": {
    "ExecuteTime": {
     "end_time": "2021-09-15T15:11:57.575373Z",
     "start_time": "2021-09-15T15:11:57.565734Z"
    }
   },
   "outputs": [],
   "source": [
    "search = GridSearchCV(pipe, \n",
    "                      grid, \n",
    "                      scoring = ['neg_mean_squared_error', 'r2','neg_mean_absolute_error'],\n",
    "                      refit='neg_mean_squared_error',\n",
    "                      cv = 5,\n",
    "                      n_jobs=-1) "
   ]
  },
  {
   "cell_type": "code",
   "execution_count": 141,
   "id": "d7bdffb6",
   "metadata": {
    "ExecuteTime": {
     "end_time": "2021-09-15T15:34:51.364201Z",
     "start_time": "2021-09-15T15:11:57.588199Z"
    }
   },
   "outputs": [
    {
     "name": "stderr",
     "output_type": "stream",
     "text": [
      "/Users/manonlaffly/.pyenv/versions/3.8.6/envs/MA_PREDICTOR/lib/python3.8/site-packages/sklearn/linear_model/_coordinate_descent.py:513: ConvergenceWarning: Objective did not converge. You might want to increase the number of iterations. Duality gap: 19.58774058785964, tolerance: 0.003926742194046038\n",
      "  model = cd_fast.sparse_enet_coordinate_descent(\n"
     ]
    }
   ],
   "source": [
    "# Fit data to Grid Search\n",
    "search.fit(X_train,y_train);"
   ]
  },
  {
   "cell_type": "code",
   "execution_count": 142,
   "id": "aa12d019",
   "metadata": {
    "ExecuteTime": {
     "end_time": "2021-09-15T15:34:51.387117Z",
     "start_time": "2021-09-15T15:34:51.370333Z"
    },
    "scrolled": true
   },
   "outputs": [
    {
     "data": {
      "text/plain": [
       "-0.0035436052687067543"
      ]
     },
     "execution_count": 142,
     "metadata": {},
     "output_type": "execute_result"
    }
   ],
   "source": [
    "# Best score 1\n",
    "search.best_score_"
   ]
  },
  {
   "cell_type": "code",
   "execution_count": 143,
   "id": "63b544f6",
   "metadata": {
    "ExecuteTime": {
     "end_time": "2021-09-15T15:34:51.408969Z",
     "start_time": "2021-09-15T15:34:51.394134Z"
    }
   },
   "outputs": [
    {
     "data": {
      "text/plain": [
       "{'model__alpha': 0.3, 'model__l1_ratio': 0, 'model__max_iter': 10000}"
      ]
     },
     "execution_count": 143,
     "metadata": {},
     "output_type": "execute_result"
    }
   ],
   "source": [
    "search.best_params_"
   ]
  },
  {
   "cell_type": "code",
   "execution_count": null,
   "id": "f6949627",
   "metadata": {},
   "outputs": [],
   "source": []
  },
  {
   "cell_type": "markdown",
   "id": "9a021ce1",
   "metadata": {},
   "source": [
    "# Car_10"
   ]
  },
  {
   "cell_type": "markdown",
   "id": "4eb94b67",
   "metadata": {},
   "source": [
    "## Splitting of the dataset"
   ]
  },
  {
   "cell_type": "code",
   "execution_count": 144,
   "id": "c916dcf2",
   "metadata": {
    "ExecuteTime": {
     "end_time": "2021-09-15T15:34:51.431508Z",
     "start_time": "2021-09-15T15:34:51.414490Z"
    }
   },
   "outputs": [],
   "source": [
    "#Split\n",
    "from sklearn.model_selection import train_test_split\n",
    "X_train, X_test, y_train, y_test = train_test_split(X,y_10, test_size=0.3, random_state=0)"
   ]
  },
  {
   "cell_type": "markdown",
   "id": "688d5a55",
   "metadata": {},
   "source": [
    "## Pipeline and GridSearch"
   ]
  },
  {
   "cell_type": "code",
   "execution_count": 145,
   "id": "af145565",
   "metadata": {
    "ExecuteTime": {
     "end_time": "2021-09-15T15:34:51.443894Z",
     "start_time": "2021-09-15T15:34:51.436681Z"
    }
   },
   "outputs": [],
   "source": [
    "cat_transformer = OneHotEncoder(handle_unknown='ignore')"
   ]
  },
  {
   "cell_type": "code",
   "execution_count": 146,
   "id": "c7f8b13b",
   "metadata": {
    "ExecuteTime": {
     "end_time": "2021-09-15T15:34:51.453915Z",
     "start_time": "2021-09-15T15:34:51.448365Z"
    }
   },
   "outputs": [],
   "source": [
    "num_transformer= MinMaxScaler()"
   ]
  },
  {
   "cell_type": "code",
   "execution_count": 147,
   "id": "ea502b50",
   "metadata": {
    "ExecuteTime": {
     "end_time": "2021-09-15T15:34:51.471922Z",
     "start_time": "2021-09-15T15:34:51.461950Z"
    }
   },
   "outputs": [],
   "source": [
    "cat_features=['consideration_offered', 'shares_acquired', 'shares_at_announcement',\n",
    "       'acquiror_code', 'target_code', 'target_status', 'cross_border', 'relatedness', 'economic_sector_ac',\n",
    "       'business_sector_ac', 'economic_sector_target',\n",
    "       'business_sector_target']"
   ]
  },
  {
   "cell_type": "code",
   "execution_count": 148,
   "id": "9c85626b",
   "metadata": {
    "ExecuteTime": {
     "end_time": "2021-09-15T15:34:51.489937Z",
     "start_time": "2021-09-15T15:34:51.480275Z"
    }
   },
   "outputs": [],
   "source": [
    "preprocessor = ColumnTransformer([\n",
    "    ('num_transformer', num_transformer, ['acquisition_count']),\n",
    "    ('cat_transformer', cat_transformer, cat_features)], remainder='passthrough')"
   ]
  },
  {
   "cell_type": "markdown",
   "id": "ffd4b619",
   "metadata": {},
   "source": [
    "## Baseline"
   ]
  },
  {
   "cell_type": "code",
   "execution_count": 149,
   "id": "2be91d6a",
   "metadata": {
    "ExecuteTime": {
     "end_time": "2021-09-15T15:34:51.502322Z",
     "start_time": "2021-09-15T15:34:51.494190Z"
    }
   },
   "outputs": [],
   "source": [
    "baseline_model_mean = DummyRegressor(strategy=\"mean\") "
   ]
  },
  {
   "cell_type": "code",
   "execution_count": 150,
   "id": "33c9b59a",
   "metadata": {
    "ExecuteTime": {
     "end_time": "2021-09-15T15:34:51.548612Z",
     "start_time": "2021-09-15T15:34:51.507497Z"
    }
   },
   "outputs": [
    {
     "data": {
      "text/plain": [
       "-0.0004421487262225465"
      ]
     },
     "execution_count": 150,
     "metadata": {},
     "output_type": "execute_result"
    }
   ],
   "source": [
    "cross_val_score(baseline_model_mean, X_train, y_train, cv=5, scoring='r2').mean()"
   ]
  },
  {
   "cell_type": "code",
   "execution_count": 151,
   "id": "39d8db70",
   "metadata": {
    "ExecuteTime": {
     "end_time": "2021-09-15T15:34:51.625660Z",
     "start_time": "2021-09-15T15:34:51.559648Z"
    }
   },
   "outputs": [
    {
     "data": {
      "text/plain": [
       "-0.0056061923784172995"
      ]
     },
     "execution_count": 151,
     "metadata": {},
     "output_type": "execute_result"
    }
   ],
   "source": [
    "cross_val_score(baseline_model_mean, X_train, y_train, cv=5, scoring='neg_mean_squared_error').mean()"
   ]
  },
  {
   "cell_type": "markdown",
   "id": "0d49fb9c",
   "metadata": {},
   "source": [
    "## ElasticNet"
   ]
  },
  {
   "cell_type": "code",
   "execution_count": 152,
   "id": "aa75c93d",
   "metadata": {
    "ExecuteTime": {
     "end_time": "2021-09-15T15:34:51.654137Z",
     "start_time": "2021-09-15T15:34:51.635921Z"
    }
   },
   "outputs": [],
   "source": [
    "# Hyperparameter Grid\n",
    "grid = {'model__alpha': [0.1, 0.2, 0.3, 0.4],\n",
    "        'model__l1_ratio': [0,0.05, 0.1, 0.15, 0.2],\n",
    "        'model__max_iter': [10000]}"
   ]
  },
  {
   "cell_type": "code",
   "execution_count": 153,
   "id": "57b70e6f",
   "metadata": {
    "ExecuteTime": {
     "end_time": "2021-09-15T15:34:51.696826Z",
     "start_time": "2021-09-15T15:34:51.665500Z"
    }
   },
   "outputs": [],
   "source": [
    "# Combine preprocessor and linear model in pipeline\n",
    "pipe = Pipeline([\n",
    "    ('preprocessing', preprocessor),\n",
    "    ('model', ElasticNet())])"
   ]
  },
  {
   "cell_type": "code",
   "execution_count": 154,
   "id": "b19db9a6",
   "metadata": {
    "ExecuteTime": {
     "end_time": "2021-09-15T15:34:51.718313Z",
     "start_time": "2021-09-15T15:34:51.705615Z"
    }
   },
   "outputs": [],
   "source": [
    "search = GridSearchCV(pipe, \n",
    "                      grid, \n",
    "                      scoring = ['neg_mean_squared_error', 'r2','neg_mean_absolute_error'],\n",
    "                      refit='neg_mean_squared_error',\n",
    "                      cv = 5,\n",
    "                      n_jobs=-1) "
   ]
  },
  {
   "cell_type": "code",
   "execution_count": 155,
   "id": "503e0f74",
   "metadata": {
    "ExecuteTime": {
     "end_time": "2021-09-15T15:59:19.471691Z",
     "start_time": "2021-09-15T15:34:51.730458Z"
    }
   },
   "outputs": [
    {
     "name": "stderr",
     "output_type": "stream",
     "text": [
      "/Users/manonlaffly/.pyenv/versions/3.8.6/envs/MA_PREDICTOR/lib/python3.8/site-packages/sklearn/linear_model/_coordinate_descent.py:513: ConvergenceWarning: Objective did not converge. You might want to increase the number of iterations. Duality gap: 30.927486723047043, tolerance: 0.006205071658314512\n",
      "  model = cd_fast.sparse_enet_coordinate_descent(\n"
     ]
    }
   ],
   "source": [
    "# Fit data to Grid Search\n",
    "search.fit(X_train,y_train);"
   ]
  },
  {
   "cell_type": "code",
   "execution_count": 156,
   "id": "7117a491",
   "metadata": {
    "ExecuteTime": {
     "end_time": "2021-09-15T15:59:19.615406Z",
     "start_time": "2021-09-15T15:59:19.512768Z"
    },
    "scrolled": true
   },
   "outputs": [
    {
     "data": {
      "text/plain": [
       "-0.005598300735268118"
      ]
     },
     "execution_count": 156,
     "metadata": {},
     "output_type": "execute_result"
    }
   ],
   "source": [
    "# Best score 1\n",
    "search.best_score_"
   ]
  },
  {
   "cell_type": "code",
   "execution_count": 157,
   "id": "0ee6742b",
   "metadata": {
    "ExecuteTime": {
     "end_time": "2021-09-15T15:59:19.683089Z",
     "start_time": "2021-09-15T15:59:19.652032Z"
    },
    "collapsed": true
   },
   "outputs": [
    {
     "data": {
      "text/plain": [
       "{'model__alpha': 0.2, 'model__l1_ratio': 0, 'model__max_iter': 10000}"
      ]
     },
     "execution_count": 157,
     "metadata": {},
     "output_type": "execute_result"
    },
    {
     "name": "stderr",
     "output_type": "stream",
     "text": [
      "/Users/manonlaffly/.pyenv/versions/3.8.6/envs/MA_PREDICTOR/lib/python3.8/site-packages/sklearn/linear_model/_coordinate_descent.py:513: ConvergenceWarning: Objective did not converge. You might want to increase the number of iterations. Duality gap: 8.016013928847673, tolerance: 0.0016118924782258508\n",
      "  model = cd_fast.sparse_enet_coordinate_descent(\n",
      "/Users/manonlaffly/.pyenv/versions/3.8.6/envs/MA_PREDICTOR/lib/python3.8/site-packages/sklearn/linear_model/_coordinate_descent.py:513: ConvergenceWarning: Objective did not converge. You might want to increase the number of iterations. Duality gap: 8.218647150793386, tolerance: 0.0016516780661889544\n",
      "  model = cd_fast.sparse_enet_coordinate_descent(\n",
      "/Users/manonlaffly/.pyenv/versions/3.8.6/envs/MA_PREDICTOR/lib/python3.8/site-packages/sklearn/linear_model/_coordinate_descent.py:513: ConvergenceWarning: Objective did not converge. You might want to increase the number of iterations. Duality gap: 8.19923113994814, tolerance: 0.0016472161256409418\n",
      "  model = cd_fast.sparse_enet_coordinate_descent(\n",
      "/Users/manonlaffly/.pyenv/versions/3.8.6/envs/MA_PREDICTOR/lib/python3.8/site-packages/sklearn/linear_model/_coordinate_descent.py:513: ConvergenceWarning: Objective did not converge. You might want to increase the number of iterations. Duality gap: 8.199857625374342, tolerance: 0.0016455686866021766\n",
      "  model = cd_fast.sparse_enet_coordinate_descent(\n",
      "/Users/manonlaffly/.pyenv/versions/3.8.6/envs/MA_PREDICTOR/lib/python3.8/site-packages/sklearn/linear_model/_coordinate_descent.py:513: ConvergenceWarning: Objective did not converge. You might want to increase the number of iterations. Duality gap: 8.136785938020175, tolerance: 0.0016313973097854372\n",
      "  model = cd_fast.sparse_enet_coordinate_descent(\n",
      "/Users/manonlaffly/.pyenv/versions/3.8.6/envs/MA_PREDICTOR/lib/python3.8/site-packages/sklearn/linear_model/_coordinate_descent.py:513: ConvergenceWarning: Objective did not converge. You might want to increase the number of iterations. Duality gap: 12.571177779582246, tolerance: 0.0025305312557892304\n",
      "  model = cd_fast.sparse_enet_coordinate_descent(\n",
      "/Users/manonlaffly/.pyenv/versions/3.8.6/envs/MA_PREDICTOR/lib/python3.8/site-packages/sklearn/linear_model/_coordinate_descent.py:513: ConvergenceWarning: Objective did not converge. You might want to increase the number of iterations. Duality gap: 12.597039703135941, tolerance: 0.0025305312557892304\n",
      "  model = cd_fast.sparse_enet_coordinate_descent(\n",
      "/Users/manonlaffly/.pyenv/versions/3.8.6/envs/MA_PREDICTOR/lib/python3.8/site-packages/sklearn/linear_model/_coordinate_descent.py:513: ConvergenceWarning: Objective did not converge. You might want to increase the number of iterations. Duality gap: 12.40790166095783, tolerance: 0.002487710948999346\n",
      "  model = cd_fast.sparse_enet_coordinate_descent(\n",
      "/Users/manonlaffly/.pyenv/versions/3.8.6/envs/MA_PREDICTOR/lib/python3.8/site-packages/sklearn/linear_model/_coordinate_descent.py:513: ConvergenceWarning: Objective did not converge. You might want to increase the number of iterations. Duality gap: 12.371573635716627, tolerance: 0.0024804968379867286\n",
      "  model = cd_fast.sparse_enet_coordinate_descent(\n",
      "/Users/manonlaffly/.pyenv/versions/3.8.6/envs/MA_PREDICTOR/lib/python3.8/site-packages/sklearn/linear_model/_coordinate_descent.py:513: ConvergenceWarning: Objective did not converge. You might want to increase the number of iterations. Duality gap: 12.458096282150148, tolerance: 0.002498119034037341\n",
      "  model = cd_fast.sparse_enet_coordinate_descent(\n",
      "/Users/manonlaffly/.pyenv/versions/3.8.6/envs/MA_PREDICTOR/lib/python3.8/site-packages/sklearn/linear_model/_coordinate_descent.py:513: ConvergenceWarning: Objective did not converge. You might want to increase the number of iterations. Duality gap: 15.752133065536718, tolerance: 0.003167451541995013\n",
      "  model = cd_fast.sparse_enet_coordinate_descent(\n",
      "/Users/manonlaffly/.pyenv/versions/3.8.6/envs/MA_PREDICTOR/lib/python3.8/site-packages/sklearn/linear_model/_coordinate_descent.py:513: ConvergenceWarning: Objective did not converge. You might want to increase the number of iterations. Duality gap: 15.76057234407655, tolerance: 0.003164158593676084\n",
      "  model = cd_fast.sparse_enet_coordinate_descent(\n",
      "/Users/manonlaffly/.pyenv/versions/3.8.6/envs/MA_PREDICTOR/lib/python3.8/site-packages/sklearn/linear_model/_coordinate_descent.py:513: ConvergenceWarning: Objective did not converge. You might want to increase the number of iterations. Duality gap: 15.658760707240326, tolerance: 0.003138994820618328\n",
      "  model = cd_fast.sparse_enet_coordinate_descent(\n",
      "/Users/manonlaffly/.pyenv/versions/3.8.6/envs/MA_PREDICTOR/lib/python3.8/site-packages/sklearn/linear_model/_coordinate_descent.py:513: ConvergenceWarning: Objective did not converge. You might want to increase the number of iterations. Duality gap: 15.605619009544988, tolerance: 0.003128850088536555\n",
      "  model = cd_fast.sparse_enet_coordinate_descent(\n",
      "/Users/manonlaffly/.pyenv/versions/3.8.6/envs/MA_PREDICTOR/lib/python3.8/site-packages/sklearn/linear_model/_coordinate_descent.py:513: ConvergenceWarning: Objective did not converge. You might want to increase the number of iterations. Duality gap: 15.502400923665327, tolerance: 0.0031073441454424564\n",
      "  model = cd_fast.sparse_enet_coordinate_descent(\n",
      "/Users/manonlaffly/.pyenv/versions/3.8.6/envs/MA_PREDICTOR/lib/python3.8/site-packages/sklearn/linear_model/_coordinate_descent.py:513: ConvergenceWarning: Objective did not converge. You might want to increase the number of iterations. Duality gap: 24.621220045407295, tolerance: 0.004949720810723808\n",
      "  model = cd_fast.sparse_enet_coordinate_descent(\n",
      "/Users/manonlaffly/.pyenv/versions/3.8.6/envs/MA_PREDICTOR/lib/python3.8/site-packages/sklearn/linear_model/_coordinate_descent.py:513: ConvergenceWarning: Objective did not converge. You might want to increase the number of iterations. Duality gap: 24.795939515131693, tolerance: 0.004976198021435116\n",
      "  model = cd_fast.sparse_enet_coordinate_descent(\n",
      "/Users/manonlaffly/.pyenv/versions/3.8.6/envs/MA_PREDICTOR/lib/python3.8/site-packages/sklearn/linear_model/_coordinate_descent.py:513: ConvergenceWarning: Objective did not converge. You might want to increase the number of iterations. Duality gap: 24.89308203761852, tolerance: 0.0049986286679072605\n",
      "  model = cd_fast.sparse_enet_coordinate_descent(\n",
      "/Users/manonlaffly/.pyenv/versions/3.8.6/envs/MA_PREDICTOR/lib/python3.8/site-packages/sklearn/linear_model/_coordinate_descent.py:513: ConvergenceWarning: Objective did not converge. You might want to increase the number of iterations. Duality gap: 24.413512563767608, tolerance: 0.0048934068170980866\n",
      "  model = cd_fast.sparse_enet_coordinate_descent(\n",
      "/Users/manonlaffly/.pyenv/versions/3.8.6/envs/MA_PREDICTOR/lib/python3.8/site-packages/sklearn/linear_model/_coordinate_descent.py:513: ConvergenceWarning: Objective did not converge. You might want to increase the number of iterations. Duality gap: 24.941599243327484, tolerance: 0.005001895291830032\n",
      "  model = cd_fast.sparse_enet_coordinate_descent(\n",
      "/Users/manonlaffly/.pyenv/versions/3.8.6/envs/MA_PREDICTOR/lib/python3.8/site-packages/sklearn/linear_model/_coordinate_descent.py:513: ConvergenceWarning: Objective did not converge. You might want to increase the number of iterations. Duality gap: 8.109875900017625, tolerance: 0.0016313973097854372\n",
      "  model = cd_fast.sparse_enet_coordinate_descent(\n",
      "/Users/manonlaffly/.pyenv/versions/3.8.6/envs/MA_PREDICTOR/lib/python3.8/site-packages/sklearn/linear_model/_coordinate_descent.py:513: ConvergenceWarning: Objective did not converge. You might want to increase the number of iterations. Duality gap: 8.03059659550827, tolerance: 0.0016118924782258508\n",
      "  model = cd_fast.sparse_enet_coordinate_descent(\n",
      "/Users/manonlaffly/.pyenv/versions/3.8.6/envs/MA_PREDICTOR/lib/python3.8/site-packages/sklearn/linear_model/_coordinate_descent.py:513: ConvergenceWarning: Objective did not converge. You might want to increase the number of iterations. Duality gap: 8.232316313020329, tolerance: 0.0016516780661889544\n",
      "  model = cd_fast.sparse_enet_coordinate_descent(\n",
      "/Users/manonlaffly/.pyenv/versions/3.8.6/envs/MA_PREDICTOR/lib/python3.8/site-packages/sklearn/linear_model/_coordinate_descent.py:513: ConvergenceWarning: Objective did not converge. You might want to increase the number of iterations. Duality gap: 8.207058559740254, tolerance: 0.0016472161256409418\n",
      "  model = cd_fast.sparse_enet_coordinate_descent(\n",
      "/Users/manonlaffly/.pyenv/versions/3.8.6/envs/MA_PREDICTOR/lib/python3.8/site-packages/sklearn/linear_model/_coordinate_descent.py:513: ConvergenceWarning: Objective did not converge. You might want to increase the number of iterations. Duality gap: 8.204824583961797, tolerance: 0.0016455686866021766\n",
      "  model = cd_fast.sparse_enet_coordinate_descent(\n",
      "/Users/manonlaffly/.pyenv/versions/3.8.6/envs/MA_PREDICTOR/lib/python3.8/site-packages/sklearn/linear_model/_coordinate_descent.py:513: ConvergenceWarning: Objective did not converge. You might want to increase the number of iterations. Duality gap: 12.37954410110922, tolerance: 0.002487710948999346\n",
      "  model = cd_fast.sparse_enet_coordinate_descent(\n",
      "/Users/manonlaffly/.pyenv/versions/3.8.6/envs/MA_PREDICTOR/lib/python3.8/site-packages/sklearn/linear_model/_coordinate_descent.py:513: ConvergenceWarning: Objective did not converge. You might want to increase the number of iterations. Duality gap: 12.341520115437815, tolerance: 0.0024804968379867286\n",
      "  model = cd_fast.sparse_enet_coordinate_descent(\n",
      "/Users/manonlaffly/.pyenv/versions/3.8.6/envs/MA_PREDICTOR/lib/python3.8/site-packages/sklearn/linear_model/_coordinate_descent.py:513: ConvergenceWarning: Objective did not converge. You might want to increase the number of iterations. Duality gap: 12.440744931958722, tolerance: 0.002498119034037341\n",
      "  model = cd_fast.sparse_enet_coordinate_descent(\n",
      "/Users/manonlaffly/.pyenv/versions/3.8.6/envs/MA_PREDICTOR/lib/python3.8/site-packages/sklearn/linear_model/_coordinate_descent.py:513: ConvergenceWarning: Objective did not converge. You might want to increase the number of iterations. Duality gap: 12.609448568257635, tolerance: 0.0025305312557892304\n",
      "  model = cd_fast.sparse_enet_coordinate_descent(\n",
      "/Users/manonlaffly/.pyenv/versions/3.8.6/envs/MA_PREDICTOR/lib/python3.8/site-packages/sklearn/linear_model/_coordinate_descent.py:513: ConvergenceWarning: Objective did not converge. You might want to increase the number of iterations. Duality gap: 12.449638337585414, tolerance: 0.0024958426140589585\n",
      "  model = cd_fast.sparse_enet_coordinate_descent(\n",
      "/Users/manonlaffly/.pyenv/versions/3.8.6/envs/MA_PREDICTOR/lib/python3.8/site-packages/sklearn/linear_model/_coordinate_descent.py:513: ConvergenceWarning: Objective did not converge. You might want to increase the number of iterations. Duality gap: 15.625171460811112, tolerance: 0.003138994820618328\n",
      "  model = cd_fast.sparse_enet_coordinate_descent(\n",
      "/Users/manonlaffly/.pyenv/versions/3.8.6/envs/MA_PREDICTOR/lib/python3.8/site-packages/sklearn/linear_model/_coordinate_descent.py:513: ConvergenceWarning: Objective did not converge. You might want to increase the number of iterations. Duality gap: 15.569849255008172, tolerance: 0.003128850088536555\n",
      "  model = cd_fast.sparse_enet_coordinate_descent(\n",
      "/Users/manonlaffly/.pyenv/versions/3.8.6/envs/MA_PREDICTOR/lib/python3.8/site-packages/sklearn/linear_model/_coordinate_descent.py:513: ConvergenceWarning: Objective did not converge. You might want to increase the number of iterations. Duality gap: 15.48415746868392, tolerance: 0.0031073441454424564\n",
      "  model = cd_fast.sparse_enet_coordinate_descent(\n",
      "/Users/manonlaffly/.pyenv/versions/3.8.6/envs/MA_PREDICTOR/lib/python3.8/site-packages/sklearn/linear_model/_coordinate_descent.py:513: ConvergenceWarning: Objective did not converge. You might want to increase the number of iterations. Duality gap: 15.773542238877585, tolerance: 0.003164158593676084\n",
      "  model = cd_fast.sparse_enet_coordinate_descent(\n",
      "/Users/manonlaffly/.pyenv/versions/3.8.6/envs/MA_PREDICTOR/lib/python3.8/site-packages/sklearn/linear_model/_coordinate_descent.py:513: ConvergenceWarning: Objective did not converge. You might want to increase the number of iterations. Duality gap: 15.799027487641974, tolerance: 0.003167451541995013\n",
      "  model = cd_fast.sparse_enet_coordinate_descent(\n",
      "/Users/manonlaffly/.pyenv/versions/3.8.6/envs/MA_PREDICTOR/lib/python3.8/site-packages/sklearn/linear_model/_coordinate_descent.py:513: ConvergenceWarning: Objective did not converge. You might want to increase the number of iterations. Duality gap: 24.75114798980625, tolerance: 0.004976198021435116\n",
      "  model = cd_fast.sparse_enet_coordinate_descent(\n",
      "/Users/manonlaffly/.pyenv/versions/3.8.6/envs/MA_PREDICTOR/lib/python3.8/site-packages/sklearn/linear_model/_coordinate_descent.py:513: ConvergenceWarning: Objective did not converge. You might want to increase the number of iterations. Duality gap: 24.84333498236311, tolerance: 0.0049986286679072605\n",
      "  model = cd_fast.sparse_enet_coordinate_descent(\n",
      "/Users/manonlaffly/.pyenv/versions/3.8.6/envs/MA_PREDICTOR/lib/python3.8/site-packages/sklearn/linear_model/_coordinate_descent.py:513: ConvergenceWarning: Objective did not converge. You might want to increase the number of iterations. Duality gap: 24.396128729907254, tolerance: 0.0048934068170980866\n",
      "  model = cd_fast.sparse_enet_coordinate_descent(\n",
      "/Users/manonlaffly/.pyenv/versions/3.8.6/envs/MA_PREDICTOR/lib/python3.8/site-packages/sklearn/linear_model/_coordinate_descent.py:513: ConvergenceWarning: Objective did not converge. You might want to increase the number of iterations. Duality gap: 24.92733262297967, tolerance: 0.005001895291830032\n",
      "  model = cd_fast.sparse_enet_coordinate_descent(\n",
      "/Users/manonlaffly/.pyenv/versions/3.8.6/envs/MA_PREDICTOR/lib/python3.8/site-packages/sklearn/linear_model/_coordinate_descent.py:513: ConvergenceWarning: Objective did not converge. You might want to increase the number of iterations. Duality gap: 24.694770589852762, tolerance: 0.004949720810723808\n",
      "  model = cd_fast.sparse_enet_coordinate_descent(\n"
     ]
    },
    {
     "name": "stderr",
     "output_type": "stream",
     "text": [
      "/Users/manonlaffly/.pyenv/versions/3.8.6/envs/MA_PREDICTOR/lib/python3.8/site-packages/sklearn/linear_model/_coordinate_descent.py:513: ConvergenceWarning: Objective did not converge. You might want to increase the number of iterations. Duality gap: 8.174663527850896, tolerance: 0.0016455686866021766\n",
      "  model = cd_fast.sparse_enet_coordinate_descent(\n",
      "/Users/manonlaffly/.pyenv/versions/3.8.6/envs/MA_PREDICTOR/lib/python3.8/site-packages/sklearn/linear_model/_coordinate_descent.py:513: ConvergenceWarning: Objective did not converge. You might want to increase the number of iterations. Duality gap: 8.191726780759723, tolerance: 0.0016455686866021766\n",
      "  model = cd_fast.sparse_enet_coordinate_descent(\n",
      "/Users/manonlaffly/.pyenv/versions/3.8.6/envs/MA_PREDICTOR/lib/python3.8/site-packages/sklearn/linear_model/_coordinate_descent.py:513: ConvergenceWarning: Objective did not converge. You might want to increase the number of iterations. Duality gap: 8.132393991723813, tolerance: 0.0016313973097854372\n",
      "  model = cd_fast.sparse_enet_coordinate_descent(\n",
      "/Users/manonlaffly/.pyenv/versions/3.8.6/envs/MA_PREDICTOR/lib/python3.8/site-packages/sklearn/linear_model/_coordinate_descent.py:513: ConvergenceWarning: Objective did not converge. You might want to increase the number of iterations. Duality gap: 8.041395170082275, tolerance: 0.0016118924782258508\n",
      "  model = cd_fast.sparse_enet_coordinate_descent(\n",
      "/Users/manonlaffly/.pyenv/versions/3.8.6/envs/MA_PREDICTOR/lib/python3.8/site-packages/sklearn/linear_model/_coordinate_descent.py:513: ConvergenceWarning: Objective did not converge. You might want to increase the number of iterations. Duality gap: 8.242240975992306, tolerance: 0.0016516780661889544\n",
      "  model = cd_fast.sparse_enet_coordinate_descent(\n",
      "/Users/manonlaffly/.pyenv/versions/3.8.6/envs/MA_PREDICTOR/lib/python3.8/site-packages/sklearn/linear_model/_coordinate_descent.py:513: ConvergenceWarning: Objective did not converge. You might want to increase the number of iterations. Duality gap: 12.418149071501732, tolerance: 0.002498119034037341\n",
      "  model = cd_fast.sparse_enet_coordinate_descent(\n",
      "/Users/manonlaffly/.pyenv/versions/3.8.6/envs/MA_PREDICTOR/lib/python3.8/site-packages/sklearn/linear_model/_coordinate_descent.py:513: ConvergenceWarning: Objective did not converge. You might want to increase the number of iterations. Duality gap: 12.398889472832469, tolerance: 0.002487710948999346\n",
      "  model = cd_fast.sparse_enet_coordinate_descent(\n",
      "/Users/manonlaffly/.pyenv/versions/3.8.6/envs/MA_PREDICTOR/lib/python3.8/site-packages/sklearn/linear_model/_coordinate_descent.py:513: ConvergenceWarning: Objective did not converge. You might want to increase the number of iterations. Duality gap: 12.36215937200288, tolerance: 0.0024804968379867286\n",
      "  model = cd_fast.sparse_enet_coordinate_descent(\n",
      "/Users/manonlaffly/.pyenv/versions/3.8.6/envs/MA_PREDICTOR/lib/python3.8/site-packages/sklearn/linear_model/_coordinate_descent.py:513: ConvergenceWarning: Objective did not converge. You might want to increase the number of iterations. Duality gap: 12.451475940803912, tolerance: 0.002498119034037341\n",
      "  model = cd_fast.sparse_enet_coordinate_descent(\n",
      "/Users/manonlaffly/.pyenv/versions/3.8.6/envs/MA_PREDICTOR/lib/python3.8/site-packages/sklearn/linear_model/_coordinate_descent.py:513: ConvergenceWarning: Objective did not converge. You might want to increase the number of iterations. Duality gap: 12.617057977063599, tolerance: 0.0025305312557892304\n",
      "  model = cd_fast.sparse_enet_coordinate_descent(\n",
      "/Users/manonlaffly/.pyenv/versions/3.8.6/envs/MA_PREDICTOR/lib/python3.8/site-packages/sklearn/linear_model/_coordinate_descent.py:513: ConvergenceWarning: Objective did not converge. You might want to increase the number of iterations. Duality gap: 15.460383068316453, tolerance: 0.0031073441454424564\n",
      "  model = cd_fast.sparse_enet_coordinate_descent(\n",
      "/Users/manonlaffly/.pyenv/versions/3.8.6/envs/MA_PREDICTOR/lib/python3.8/site-packages/sklearn/linear_model/_coordinate_descent.py:513: ConvergenceWarning: Objective did not converge. You might want to increase the number of iterations. Duality gap: 15.778406047493633, tolerance: 0.003167451541995013\n",
      "  model = cd_fast.sparse_enet_coordinate_descent(\n",
      "/Users/manonlaffly/.pyenv/versions/3.8.6/envs/MA_PREDICTOR/lib/python3.8/site-packages/sklearn/linear_model/_coordinate_descent.py:513: ConvergenceWarning: Objective did not converge. You might want to increase the number of iterations. Duality gap: 15.791135206693761, tolerance: 0.003167451541995013\n",
      "  model = cd_fast.sparse_enet_coordinate_descent(\n",
      "/Users/manonlaffly/.pyenv/versions/3.8.6/envs/MA_PREDICTOR/lib/python3.8/site-packages/sklearn/linear_model/_coordinate_descent.py:513: ConvergenceWarning: Objective did not converge. You might want to increase the number of iterations. Duality gap: 15.66516863253334, tolerance: 0.003138994820618328\n",
      "  model = cd_fast.sparse_enet_coordinate_descent(\n",
      "/Users/manonlaffly/.pyenv/versions/3.8.6/envs/MA_PREDICTOR/lib/python3.8/site-packages/sklearn/linear_model/_coordinate_descent.py:513: ConvergenceWarning: Objective did not converge. You might want to increase the number of iterations. Duality gap: 15.612499546152112, tolerance: 0.003128850088536555\n",
      "  model = cd_fast.sparse_enet_coordinate_descent(\n",
      "/Users/manonlaffly/.pyenv/versions/3.8.6/envs/MA_PREDICTOR/lib/python3.8/site-packages/sklearn/linear_model/_coordinate_descent.py:513: ConvergenceWarning: Objective did not converge. You might want to increase the number of iterations. Duality gap: 24.357045639461575, tolerance: 0.0048934068170980866\n",
      "  model = cd_fast.sparse_enet_coordinate_descent(\n",
      "/Users/manonlaffly/.pyenv/versions/3.8.6/envs/MA_PREDICTOR/lib/python3.8/site-packages/sklearn/linear_model/_coordinate_descent.py:513: ConvergenceWarning: Objective did not converge. You might want to increase the number of iterations. Duality gap: 24.904304901582453, tolerance: 0.005001895291830032\n",
      "  model = cd_fast.sparse_enet_coordinate_descent(\n",
      "/Users/manonlaffly/.pyenv/versions/3.8.6/envs/MA_PREDICTOR/lib/python3.8/site-packages/sklearn/linear_model/_coordinate_descent.py:513: ConvergenceWarning: Objective did not converge. You might want to increase the number of iterations. Duality gap: 24.81632844969585, tolerance: 0.004976198021435116\n",
      "  model = cd_fast.sparse_enet_coordinate_descent(\n",
      "/Users/manonlaffly/.pyenv/versions/3.8.6/envs/MA_PREDICTOR/lib/python3.8/site-packages/sklearn/linear_model/_coordinate_descent.py:513: ConvergenceWarning: Objective did not converge. You might want to increase the number of iterations. Duality gap: 24.916370265414944, tolerance: 0.0049986286679072605\n",
      "  model = cd_fast.sparse_enet_coordinate_descent(\n",
      "/Users/manonlaffly/.pyenv/versions/3.8.6/envs/MA_PREDICTOR/lib/python3.8/site-packages/sklearn/linear_model/_coordinate_descent.py:513: ConvergenceWarning: Objective did not converge. You might want to increase the number of iterations. Duality gap: 24.423712239141107, tolerance: 0.0048934068170980866\n",
      "  model = cd_fast.sparse_enet_coordinate_descent(\n",
      "/Users/manonlaffly/.pyenv/versions/3.8.6/envs/MA_PREDICTOR/lib/python3.8/site-packages/sklearn/linear_model/_coordinate_descent.py:513: ConvergenceWarning: Objective did not converge. You might want to increase the number of iterations. Duality gap: 8.183233591953613, tolerance: 0.0016472161256409418\n",
      "  model = cd_fast.sparse_enet_coordinate_descent(\n",
      "/Users/manonlaffly/.pyenv/versions/3.8.6/envs/MA_PREDICTOR/lib/python3.8/site-packages/sklearn/linear_model/_coordinate_descent.py:513: ConvergenceWarning: Objective did not converge. You might want to increase the number of iterations. Duality gap: 8.125166956273619, tolerance: 0.0016313973097854372\n",
      "  model = cd_fast.sparse_enet_coordinate_descent(\n",
      "/Users/manonlaffly/.pyenv/versions/3.8.6/envs/MA_PREDICTOR/lib/python3.8/site-packages/sklearn/linear_model/_coordinate_descent.py:513: ConvergenceWarning: Objective did not converge. You might want to increase the number of iterations. Duality gap: 8.037346165999425, tolerance: 0.0016118924782258508\n",
      "  model = cd_fast.sparse_enet_coordinate_descent(\n",
      "/Users/manonlaffly/.pyenv/versions/3.8.6/envs/MA_PREDICTOR/lib/python3.8/site-packages/sklearn/linear_model/_coordinate_descent.py:513: ConvergenceWarning: Objective did not converge. You might want to increase the number of iterations. Duality gap: 8.238541547035448, tolerance: 0.0016516780661889544\n",
      "  model = cd_fast.sparse_enet_coordinate_descent(\n",
      "/Users/manonlaffly/.pyenv/versions/3.8.6/envs/MA_PREDICTOR/lib/python3.8/site-packages/sklearn/linear_model/_coordinate_descent.py:513: ConvergenceWarning: Objective did not converge. You might want to increase the number of iterations. Duality gap: 8.2119389006688, tolerance: 0.0016472161256409418\n",
      "  model = cd_fast.sparse_enet_coordinate_descent(\n",
      "/Users/manonlaffly/.pyenv/versions/3.8.6/envs/MA_PREDICTOR/lib/python3.8/site-packages/sklearn/linear_model/_coordinate_descent.py:513: ConvergenceWarning: Objective did not converge. You might want to increase the number of iterations. Duality gap: 12.41007267819842, tolerance: 0.0024958426140589585\n",
      "  model = cd_fast.sparse_enet_coordinate_descent(\n",
      "/Users/manonlaffly/.pyenv/versions/3.8.6/envs/MA_PREDICTOR/lib/python3.8/site-packages/sklearn/linear_model/_coordinate_descent.py:513: ConvergenceWarning: Objective did not converge. You might want to increase the number of iterations. Duality gap: 12.432671988728227, tolerance: 0.0024958426140589585\n",
      "  model = cd_fast.sparse_enet_coordinate_descent(\n",
      "/Users/manonlaffly/.pyenv/versions/3.8.6/envs/MA_PREDICTOR/lib/python3.8/site-packages/sklearn/linear_model/_coordinate_descent.py:513: ConvergenceWarning: Objective did not converge. You might want to increase the number of iterations. Duality gap: 12.4432348316616, tolerance: 0.0024958426140589585\n",
      "  model = cd_fast.sparse_enet_coordinate_descent(\n",
      "/Users/manonlaffly/.pyenv/versions/3.8.6/envs/MA_PREDICTOR/lib/python3.8/site-packages/sklearn/linear_model/_coordinate_descent.py:513: ConvergenceWarning: Objective did not converge. You might want to increase the number of iterations. Duality gap: 12.413360304020985, tolerance: 0.002487710948999346\n",
      "  model = cd_fast.sparse_enet_coordinate_descent(\n",
      "/Users/manonlaffly/.pyenv/versions/3.8.6/envs/MA_PREDICTOR/lib/python3.8/site-packages/sklearn/linear_model/_coordinate_descent.py:513: ConvergenceWarning: Objective did not converge. You might want to increase the number of iterations. Duality gap: 12.377203266054535, tolerance: 0.0024804968379867286\n",
      "  model = cd_fast.sparse_enet_coordinate_descent(\n",
      "/Users/manonlaffly/.pyenv/versions/3.8.6/envs/MA_PREDICTOR/lib/python3.8/site-packages/sklearn/linear_model/_coordinate_descent.py:513: ConvergenceWarning: Objective did not converge. You might want to increase the number of iterations. Duality gap: 15.73420357748305, tolerance: 0.003164158593676084\n",
      "  model = cd_fast.sparse_enet_coordinate_descent(\n",
      "/Users/manonlaffly/.pyenv/versions/3.8.6/envs/MA_PREDICTOR/lib/python3.8/site-packages/sklearn/linear_model/_coordinate_descent.py:513: ConvergenceWarning: Objective did not converge. You might want to increase the number of iterations. Duality gap: 15.648166845282836, tolerance: 0.003138994820618328\n",
      "  model = cd_fast.sparse_enet_coordinate_descent(\n",
      "/Users/manonlaffly/.pyenv/versions/3.8.6/envs/MA_PREDICTOR/lib/python3.8/site-packages/sklearn/linear_model/_coordinate_descent.py:513: ConvergenceWarning: Objective did not converge. You might want to increase the number of iterations. Duality gap: 15.594264770800972, tolerance: 0.003128850088536555\n",
      "  model = cd_fast.sparse_enet_coordinate_descent(\n",
      "/Users/manonlaffly/.pyenv/versions/3.8.6/envs/MA_PREDICTOR/lib/python3.8/site-packages/sklearn/linear_model/_coordinate_descent.py:513: ConvergenceWarning: Objective did not converge. You might want to increase the number of iterations. Duality gap: 15.495434956902319, tolerance: 0.0031073441454424564\n",
      "  model = cd_fast.sparse_enet_coordinate_descent(\n",
      "/Users/manonlaffly/.pyenv/versions/3.8.6/envs/MA_PREDICTOR/lib/python3.8/site-packages/sklearn/linear_model/_coordinate_descent.py:513: ConvergenceWarning: Objective did not converge. You might want to increase the number of iterations. Duality gap: 15.781628350810482, tolerance: 0.003164158593676084\n",
      "  model = cd_fast.sparse_enet_coordinate_descent(\n",
      "/Users/manonlaffly/.pyenv/versions/3.8.6/envs/MA_PREDICTOR/lib/python3.8/site-packages/sklearn/linear_model/_coordinate_descent.py:513: ConvergenceWarning: Objective did not converge. You might want to increase the number of iterations. Duality gap: 24.857304968139964, tolerance: 0.005001895291830032\n",
      "  model = cd_fast.sparse_enet_coordinate_descent(\n",
      "/Users/manonlaffly/.pyenv/versions/3.8.6/envs/MA_PREDICTOR/lib/python3.8/site-packages/sklearn/linear_model/_coordinate_descent.py:513: ConvergenceWarning: Objective did not converge. You might want to increase the number of iterations. Duality gap: 24.66331303514026, tolerance: 0.004949720810723808\n",
      "  model = cd_fast.sparse_enet_coordinate_descent(\n",
      "/Users/manonlaffly/.pyenv/versions/3.8.6/envs/MA_PREDICTOR/lib/python3.8/site-packages/sklearn/linear_model/_coordinate_descent.py:513: ConvergenceWarning: Objective did not converge. You might want to increase the number of iterations. Duality gap: 24.682933452270433, tolerance: 0.004949720810723808\n",
      "  model = cd_fast.sparse_enet_coordinate_descent(\n",
      "/Users/manonlaffly/.pyenv/versions/3.8.6/envs/MA_PREDICTOR/lib/python3.8/site-packages/sklearn/linear_model/_coordinate_descent.py:513: ConvergenceWarning: Objective did not converge. You might want to increase the number of iterations. Duality gap: 24.828426890170704, tolerance: 0.004976198021435116\n",
      "  model = cd_fast.sparse_enet_coordinate_descent(\n",
      "/Users/manonlaffly/.pyenv/versions/3.8.6/envs/MA_PREDICTOR/lib/python3.8/site-packages/sklearn/linear_model/_coordinate_descent.py:513: ConvergenceWarning: Objective did not converge. You might want to increase the number of iterations. Duality gap: 24.930414738080962, tolerance: 0.0049986286679072605\n",
      "  model = cd_fast.sparse_enet_coordinate_descent(\n"
     ]
    }
   ],
   "source": [
    "search.best_params_"
   ]
  },
  {
   "cell_type": "code",
   "execution_count": null,
   "id": "edf9d774",
   "metadata": {},
   "outputs": [],
   "source": []
  }
 ],
 "metadata": {
  "kernelspec": {
   "display_name": "Python 3 (ipykernel)",
   "language": "python",
   "name": "python3"
  },
  "language_info": {
   "codemirror_mode": {
    "name": "ipython",
    "version": 3
   },
   "file_extension": ".py",
   "mimetype": "text/x-python",
   "name": "python",
   "nbconvert_exporter": "python",
   "pygments_lexer": "ipython3",
   "version": "3.8.6"
  },
  "toc": {
   "base_numbering": 1,
   "nav_menu": {},
   "number_sections": true,
   "sideBar": true,
   "skip_h1_title": false,
   "title_cell": "Table of Contents",
   "title_sidebar": "Contents",
   "toc_cell": false,
   "toc_position": {},
   "toc_section_display": true,
   "toc_window_display": false
  }
 },
 "nbformat": 4,
 "nbformat_minor": 5
}
