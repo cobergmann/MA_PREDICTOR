{
 "cells": [
  {
   "cell_type": "code",
   "execution_count": 2,
   "id": "a30b4ee7",
   "metadata": {
    "ExecuteTime": {
     "end_time": "2021-09-15T22:11:30.744068Z",
     "start_time": "2021-09-15T22:11:30.737287Z"
    }
   },
   "outputs": [],
   "source": [
    "from sklearn.preprocessing import OneHotEncoder\n",
    "from sklearn.compose import ColumnTransformer\n",
    "import numpy as np\n",
    "import pandas as pd\n",
    "from sklearn.model_selection import train_test_split, cross_val_score\n",
    "from sklearn.pipeline import Pipeline\n",
    "from sklearn.model_selection import GridSearchCV\n",
    "from sklearn.dummy import DummyClassifier\n",
    "from sklearn.preprocessing import MinMaxScaler, FunctionTransformer, LabelEncoder\n",
    "from sklearn.linear_model import SGDClassifier\n",
    "\n",
    "import joblib"
   ]
  },
  {
   "cell_type": "code",
   "execution_count": 3,
   "id": "4b853f21",
   "metadata": {
    "ExecuteTime": {
     "end_time": "2021-09-15T22:11:31.105693Z",
     "start_time": "2021-09-15T22:11:31.077096Z"
    }
   },
   "outputs": [],
   "source": [
    "data = pd.read_csv('../../MA_PREDICTOR/data/ma_detailed_data_car_clean.csv')\n",
    "data.drop('month', inplace=True, axis=1)"
   ]
  },
  {
   "cell_type": "code",
   "execution_count": 4,
   "id": "a910692f",
   "metadata": {
    "ExecuteTime": {
     "end_time": "2021-09-15T22:11:31.916638Z",
     "start_time": "2021-09-15T22:11:31.898736Z"
    }
   },
   "outputs": [],
   "source": [
    "# Removing outliers\n",
    "horizons = [1, 3, 5, 10]\n",
    "for horizon in horizons:\n",
    "    data = data[(abs(data[f'car_{horizon}']) <= 0.3)]"
   ]
  },
  {
   "cell_type": "code",
   "execution_count": 5,
   "id": "c07e5425",
   "metadata": {
    "ExecuteTime": {
     "end_time": "2021-09-15T22:11:42.393776Z",
     "start_time": "2021-09-15T22:11:42.388786Z"
    }
   },
   "outputs": [],
   "source": [
    "# Classifying target\n",
    "\n",
    "data['car_class_1'] = data['car_1']\n",
    "data['car_class_3'] = data['car_3']\n",
    "data['car_class_5'] = data['car_5']\n",
    "data['car_class_10'] = data['car_10']\n",
    "\n",
    "def trans_class(x):\n",
    "    if x > 0.01:\n",
    "        return \"positive\"\n",
    "    elif x < -0.01:\n",
    "        return \"negative\"\n",
    "    else:\n",
    "        return \"neutral\"\n",
    "    \n",
    "horizons = [1, 3, 5, 10]\n",
    "for horizon in horizons:\n",
    "    data[f'car_class_{horizon}'] = data[f'car_class_{horizon}'].apply(trans_class)"
   ]
  },
  {
   "cell_type": "markdown",
   "id": "6ab2f674",
   "metadata": {},
   "source": [
    "# Target preprocessing"
   ]
  },
  {
   "cell_type": "code",
   "execution_count": 6,
   "id": "0776e684",
   "metadata": {
    "ExecuteTime": {
     "end_time": "2021-09-15T22:11:47.032678Z",
     "start_time": "2021-09-15T22:11:47.017052Z"
    }
   },
   "outputs": [],
   "source": [
    "# Creating instance of labelencoder\n",
    "labelencoder = LabelEncoder()\n",
    "\n",
    "# Assigning numerical values and storing in another column\n",
    "data['car_class_1'] = labelencoder.fit_transform(data['car_class_1'])\n",
    "data['car_class_3'] = labelencoder.fit_transform(data['car_class_3'])\n",
    "data['car_class_5'] = labelencoder.fit_transform(data['car_class_5'])\n",
    "data['car_class_10'] = labelencoder.fit_transform(data['car_class_10'])"
   ]
  },
  {
   "cell_type": "code",
   "execution_count": 7,
   "id": "43c916a5",
   "metadata": {
    "ExecuteTime": {
     "end_time": "2021-09-15T22:11:53.859374Z",
     "start_time": "2021-09-15T22:11:53.852892Z"
    }
   },
   "outputs": [],
   "source": [
    "y_1 = data['car_class_1']\n",
    "y_3 = data['car_class_3']\n",
    "y_5 = data['car_class_5']\n",
    "y_10 = data['car_class_10']"
   ]
  },
  {
   "cell_type": "code",
   "execution_count": 8,
   "id": "6c30c162",
   "metadata": {
    "ExecuteTime": {
     "end_time": "2021-09-15T22:12:24.921078Z",
     "start_time": "2021-09-15T22:12:24.911378Z"
    }
   },
   "outputs": [],
   "source": [
    "X = data[['target_status', 'acquisition_count',\n",
    "          'shares_at_announcement', 'shares_acquired', 'consideration_offered',\n",
    "          'bidder_count', 'rel_deal_value', 'cross_border', 'relatedness',\n",
    "          'economic_sector_ac', 'business_sector_ac', 'economic_sector_target',\n",
    "          'business_sector_target', 'cluster_category', 'a_fin_adv_count',\n",
    "          't_fin_adv_count']]"
   ]
  },
  {
   "cell_type": "markdown",
   "id": "5bb6e8cd",
   "metadata": {},
   "source": [
    "# SGDClassifier"
   ]
  },
  {
   "cell_type": "markdown",
   "id": "6bdf3499",
   "metadata": {},
   "source": [
    "## Setup"
   ]
  },
  {
   "cell_type": "code",
   "execution_count": 9,
   "id": "87700c7d",
   "metadata": {
    "ExecuteTime": {
     "end_time": "2021-09-15T22:13:20.828875Z",
     "start_time": "2021-09-15T22:13:20.824185Z"
    }
   },
   "outputs": [],
   "source": [
    "# Defining the baseline\n",
    "baseline_model_str = DummyClassifier(strategy=\"stratified\") "
   ]
  },
  {
   "cell_type": "code",
   "execution_count": 10,
   "id": "751262e6",
   "metadata": {
    "ExecuteTime": {
     "end_time": "2021-09-15T22:12:48.228085Z",
     "start_time": "2021-09-15T22:12:48.223126Z"
    }
   },
   "outputs": [],
   "source": [
    "# Defining features and transformation\n",
    "cat_transformer = OneHotEncoder(handle_unknown='ignore')\n",
    "num_transformer= MinMaxScaler()\n",
    "\n",
    "cat_features=['target_status', 'shares_at_announcement', 'shares_acquired', \n",
    "              'consideration_offered',\n",
    "               'cross_border', 'relatedness',\n",
    "               'economic_sector_ac', 'business_sector_ac', 'economic_sector_target',\n",
    "               'business_sector_target', 'cluster_category']\n",
    "\n",
    "# Defining preprocessor\n",
    "preprocessor = ColumnTransformer([\n",
    "    ('num_transformer', num_transformer, ['acquisition_count', 'rel_deal_value']),\n",
    "    ('cat_transformer', cat_transformer, cat_features)], remainder='passthrough')"
   ]
  },
  {
   "cell_type": "markdown",
   "id": "c821cd43",
   "metadata": {},
   "source": [
    "## Car_1"
   ]
  },
  {
   "cell_type": "code",
   "execution_count": 16,
   "id": "3d0e8ecf",
   "metadata": {},
   "outputs": [
    {
     "name": "stdout",
     "output_type": "stream",
     "text": [
      "Baseline: 0.34190742612661323\n",
      "Model score: 0.428245844989304\n",
      "Model params: {'model__alpha': 0.07, 'model__loss': 'modified_huber', 'model__n_jobs': -1, 'model__penalty': 'elasticnet'}\n",
      "Model uploaded to joblib.\n"
     ]
    }
   ],
   "source": [
    "X_train, X_test, y_train, y_test = train_test_split(X,\n",
    "                                                    y_1,\n",
    "                                                    test_size=0.3, random_state=0)\n",
    "\n",
    "# Baseline\n",
    "print('Baseline:', cross_val_score(baseline_model_str, X_train, y_train, cv=5, scoring='accuracy').mean())\n",
    "\n",
    "# Putting model into pipeline\n",
    "model = SGDClassifier()\n",
    "\n",
    "pipe = Pipeline([\n",
    "    ('preprocessing', preprocessor),\n",
    "    ('model', model)])\n",
    "\n",
    "# Setting up GridSearch\n",
    "grid = {\n",
    "    'model__alpha': [0.03, 0.05, 0.07, 0.1], \n",
    "    'model__loss': ['hinge', 'log', 'modified_huber', 'squared_hinge', 'perceptron'],\n",
    "    'model__penalty': ['l2', 'l1', 'elasticnet'],\n",
    "    'model__n_jobs': [-1]\n",
    "}\n",
    "\n",
    "search = GridSearchCV(pipe, \n",
    "                      grid, \n",
    "                      scoring='accuracy',\n",
    "                      cv=5,\n",
    "                      n_jobs=-1)\n",
    "\n",
    "# Fit data to GridSearch and retrieve best score\n",
    "search.fit(X_train, y_train)\n",
    "print('Model score:', search.best_score_)\n",
    "print('Model params:', search.best_params_)\n",
    "\n",
    "# Assigining best parameters to pipeline\n",
    "best_pipe = search.best_estimator_\n",
    "best_pipe.fit(X_train, y_train);\n",
    "\n",
    "# Uploading pipeline\n",
    "joblib.dump(best_pipe, '../../MA_PREDICTOR/models/SGDClassifier_car1');\n",
    "print('Model uploaded to joblib.')"
   ]
  },
  {
   "cell_type": "markdown",
   "id": "2c49ffab",
   "metadata": {},
   "source": [
    "## Car_3"
   ]
  },
  {
   "cell_type": "code",
   "execution_count": 20,
   "id": "176d187c",
   "metadata": {},
   "outputs": [
    {
     "name": "stdout",
     "output_type": "stream",
     "text": [
      "Baseline: 0.33751381085592047\n",
      "Model score: 0.4505359787489128\n",
      "Model params: {'model__alpha': 0.01, 'model__loss': 'log', 'model__n_jobs': -1, 'model__penalty': 'l1'}\n",
      "Model uploaded to joblib.\n"
     ]
    }
   ],
   "source": [
    "X_train, X_test, y_train, y_test = train_test_split(X,\n",
    "                                                    y_3,\n",
    "                                                    test_size=0.3, random_state=0)\n",
    "\n",
    "# Baseline\n",
    "print('Baseline:', cross_val_score(baseline_model_str, X_train, y_train, cv=5, scoring='accuracy').mean())\n",
    "\n",
    "# Putting model into pipeline\n",
    "model = SGDClassifier()\n",
    "\n",
    "pipe = Pipeline([\n",
    "    ('preprocessing', preprocessor),\n",
    "    ('model', model)])\n",
    "\n",
    "# Setting up GridSearch\n",
    "grid = {\n",
    "    'model__alpha': [0.005, 0.01, 0.015, 0.02], \n",
    "    'model__loss': ['hinge', 'log', 'modified_huber', 'squared_hinge', 'perceptron'],\n",
    "    'model__penalty': ['l2', 'l1', 'elasticnet'],\n",
    "    'model__n_jobs': [-1]\n",
    "}\n",
    "\n",
    "search = GridSearchCV(pipe, \n",
    "                      grid, \n",
    "                      scoring='accuracy',\n",
    "                      cv=5,\n",
    "                      n_jobs=-1)\n",
    "\n",
    "# Fit data to GridSearch and retrieve best score\n",
    "search.fit(X_train, y_train)\n",
    "print('Model score:', search.best_score_)\n",
    "print('Model params:', search.best_params_)\n",
    "\n",
    "# Assigining best parameters to pipeline\n",
    "best_pipe = search.best_estimator_\n",
    "best_pipe.fit(X_train, y_train);\n",
    "\n",
    "# Uploading pipeline\n",
    "joblib.dump(best_pipe, '../../MA_PREDICTOR/models/SGDClassifier_car3');\n",
    "print('Model uploaded to joblib.')"
   ]
  },
  {
   "cell_type": "markdown",
   "id": "e29476ad",
   "metadata": {},
   "source": [
    "## Car_5"
   ]
  },
  {
   "cell_type": "code",
   "execution_count": 23,
   "id": "05ac4d3b",
   "metadata": {},
   "outputs": [
    {
     "name": "stdout",
     "output_type": "stream",
     "text": [
      "Baseline: 0.3690660335221797\n",
      "Model score: 0.4563623968593527\n",
      "Model params: {'model__alpha': 0.1, 'model__loss': 'log', 'model__n_jobs': -1, 'model__penalty': 'l2'}\n",
      "Model uploaded to joblib.\n"
     ]
    }
   ],
   "source": [
    "X_train, X_test, y_train, y_test = train_test_split(X,\n",
    "                                                    y_5,\n",
    "                                                    test_size=0.3, random_state=0)\n",
    "\n",
    "# Baseline\n",
    "print('Baseline:', cross_val_score(baseline_model_str, X_train, y_train, cv=5, scoring='accuracy').mean())\n",
    "\n",
    "# Putting model into pipeline\n",
    "model = SGDClassifier()\n",
    "\n",
    "pipe = Pipeline([\n",
    "    ('preprocessing', preprocessor),\n",
    "    ('model', model)])\n",
    "\n",
    "# Setting up GridSearch\n",
    "grid = {\n",
    "    'model__alpha': [0.05, 0.1, 0.15, 0.2, 0.4], \n",
    "    'model__loss': ['hinge', 'log', 'modified_huber', 'squared_hinge', 'perceptron'],\n",
    "    'model__penalty': ['l2', 'l1', 'elasticnet'],\n",
    "    'model__n_jobs': [-1]\n",
    "}\n",
    "\n",
    "search = GridSearchCV(pipe, \n",
    "                      grid, \n",
    "                      scoring='accuracy',\n",
    "                      cv=5,\n",
    "                      n_jobs=-1)\n",
    "\n",
    "# Fit data to GridSearch and retrieve best score\n",
    "search.fit(X_train, y_train)\n",
    "print('Model score:', search.best_score_)\n",
    "print('Model params:', search.best_params_)\n",
    "\n",
    "# Assigining best parameters to pipeline\n",
    "best_pipe = search.best_estimator_\n",
    "best_pipe.fit(X_train, y_train);\n",
    "\n",
    "# Uploading pipeline\n",
    "joblib.dump(best_pipe, '../../MA_PREDICTOR/models/SGDClassifier_car5');\n",
    "print('Model uploaded to joblib.')"
   ]
  },
  {
   "cell_type": "markdown",
   "id": "4674880b",
   "metadata": {},
   "source": [
    "## Car_10"
   ]
  },
  {
   "cell_type": "code",
   "execution_count": 32,
   "id": "bd4ea76c",
   "metadata": {},
   "outputs": [
    {
     "name": "stdout",
     "output_type": "stream",
     "text": [
      "Baseline: 0.39671007781094997\n",
      "Model score: 0.4801182444345189\n",
      "Model params: {'model__alpha': 0.13, 'model__loss': 'modified_huber', 'model__n_jobs': -1, 'model__penalty': 'elasticnet'}\n",
      "Model uploaded to joblib.\n"
     ]
    }
   ],
   "source": [
    "X_train, X_test, y_train, y_test = train_test_split(X,\n",
    "                                                    y_10,\n",
    "                                                    test_size=0.3, random_state=0)\n",
    "\n",
    "# Baseline\n",
    "print('Baseline:', cross_val_score(baseline_model_str, X_train, y_train, cv=5, scoring='accuracy').mean())\n",
    "\n",
    "# Putting model into pipeline\n",
    "\n",
    "model = SGDClassifier()\n",
    "\n",
    "pipe = Pipeline([\n",
    "    ('preprocessing', preprocessor),\n",
    "    ('model', model)])\n",
    "\n",
    "# Setting up GridSearch\n",
    "grid = {\n",
    "    'model__alpha': [0.0095, 0.1, 0.115, 0.13],\n",
    "    'model__loss': ['hinge', 'log', 'modified_huber'],\n",
    "    'model__penalty': ['l2', 'l1', 'elasticnet'],\n",
    "    'model__n_jobs': [-1]\n",
    "}\n",
    "\n",
    "search = GridSearchCV(pipe, \n",
    "                      grid, \n",
    "                      scoring='accuracy',\n",
    "                      cv=5,\n",
    "                      n_jobs=-1)\n",
    "\n",
    "# Fit data to GridSearch and retrieve best score\n",
    "search.fit(X_train, y_train)\n",
    "print('Model score:', search.best_score_)\n",
    "print('Model params:', search.best_params_)\n",
    "\n",
    "# Assigining best parameters to pipeline\n",
    "best_pipe = search.best_estimator_\n",
    "best_pipe.fit(X_train, y_train);\n",
    "\n",
    "# Uploading pipeline\n",
    "joblib.dump(best_pipe, '../../MA_PREDICTOR/models/SGDClassifier_car10');\n",
    "print('Model uploaded to joblib.')"
   ]
  },
  {
   "cell_type": "code",
   "execution_count": 38,
   "id": "e6ae6511",
   "metadata": {},
   "outputs": [
    {
     "data": {
      "text/html": [
       "<div>\n",
       "<style scoped>\n",
       "    .dataframe tbody tr th:only-of-type {\n",
       "        vertical-align: middle;\n",
       "    }\n",
       "\n",
       "    .dataframe tbody tr th {\n",
       "        vertical-align: top;\n",
       "    }\n",
       "\n",
       "    .dataframe thead th {\n",
       "        text-align: right;\n",
       "    }\n",
       "</style>\n",
       "<table border=\"1\" class=\"dataframe\">\n",
       "  <thead>\n",
       "    <tr style=\"text-align: right;\">\n",
       "      <th></th>\n",
       "      <th>target_status</th>\n",
       "      <th>acquisition_count</th>\n",
       "      <th>shares_at_announcement</th>\n",
       "      <th>shares_acquired</th>\n",
       "      <th>consideration_offered</th>\n",
       "      <th>bidder_count</th>\n",
       "      <th>rel_deal_value</th>\n",
       "      <th>cross_border</th>\n",
       "      <th>relatedness</th>\n",
       "      <th>economic_sector_ac</th>\n",
       "      <th>business_sector_ac</th>\n",
       "      <th>economic_sector_target</th>\n",
       "      <th>business_sector_target</th>\n",
       "      <th>cluster_category</th>\n",
       "      <th>a_fin_adv_count</th>\n",
       "      <th>t_fin_adv_count</th>\n",
       "    </tr>\n",
       "  </thead>\n",
       "  <tbody>\n",
       "    <tr>\n",
       "      <th>306</th>\n",
       "      <td>others</td>\n",
       "      <td>2</td>\n",
       "      <td>no</td>\n",
       "      <td>full</td>\n",
       "      <td>Cash</td>\n",
       "      <td>1</td>\n",
       "      <td>0.060038</td>\n",
       "      <td>cross_border</td>\n",
       "      <td>not_related</td>\n",
       "      <td>Energy</td>\n",
       "      <td>Energy - Fossil Fuels</td>\n",
       "      <td>Consumer Non-Cyclicals</td>\n",
       "      <td>Food &amp; Drug Retailing</td>\n",
       "      <td>divestiture</td>\n",
       "      <td>0</td>\n",
       "      <td>0</td>\n",
       "    </tr>\n",
       "  </tbody>\n",
       "</table>\n",
       "</div>"
      ],
      "text/plain": [
       "    target_status  acquisition_count shares_at_announcement shares_acquired  \\\n",
       "306        others                  2                     no            full   \n",
       "\n",
       "    consideration_offered  bidder_count  rel_deal_value  cross_border  \\\n",
       "306                  Cash             1        0.060038  cross_border   \n",
       "\n",
       "     relatedness economic_sector_ac     business_sector_ac  \\\n",
       "306  not_related             Energy  Energy - Fossil Fuels   \n",
       "\n",
       "     economic_sector_target business_sector_target cluster_category  \\\n",
       "306  Consumer Non-Cyclicals  Food & Drug Retailing      divestiture   \n",
       "\n",
       "     a_fin_adv_count  t_fin_adv_count  \n",
       "306                0                0  "
      ]
     },
     "execution_count": 38,
     "metadata": {},
     "output_type": "execute_result"
    }
   ],
   "source": [
    "X[300:301]\n"
   ]
  },
  {
   "cell_type": "code",
   "execution_count": 34,
   "id": "8155bb43",
   "metadata": {},
   "outputs": [],
   "source": [
    "# Testing the model\n",
    "sgd = joblib.load('../../MA_PREDICTOR/models/SGDClassifier_car10')\n",
    "pred = sgd.predict_proba(X[300:301])"
   ]
  },
  {
   "cell_type": "code",
   "execution_count": 37,
   "id": "f6c10b95",
   "metadata": {},
   "outputs": [
    {
     "data": {
      "text/plain": [
       "[0.3787001709299372, 0.13247528695560015, 0.48882454211446275]"
      ]
     },
     "execution_count": 37,
     "metadata": {},
     "output_type": "execute_result"
    }
   ],
   "source": [
    "list(pred[0])"
   ]
  }
 ],
 "metadata": {
  "kernelspec": {
   "display_name": "Python 3 (ipykernel)",
   "language": "python",
   "name": "python3"
  },
  "language_info": {
   "codemirror_mode": {
    "name": "ipython",
    "version": 3
   },
   "file_extension": ".py",
   "mimetype": "text/x-python",
   "name": "python",
   "nbconvert_exporter": "python",
   "pygments_lexer": "ipython3",
   "version": "3.8.6"
  },
  "toc": {
   "base_numbering": 1,
   "nav_menu": {},
   "number_sections": true,
   "sideBar": true,
   "skip_h1_title": false,
   "title_cell": "Table of Contents",
   "title_sidebar": "Contents",
   "toc_cell": false,
   "toc_position": {},
   "toc_section_display": true,
   "toc_window_display": false
  }
 },
 "nbformat": 4,
 "nbformat_minor": 5
}
