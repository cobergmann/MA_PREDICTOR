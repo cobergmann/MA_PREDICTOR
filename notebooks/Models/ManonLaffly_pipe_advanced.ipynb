{
 "cells": [
  {
   "cell_type": "code",
   "execution_count": 29,
   "id": "0550be1a",
   "metadata": {
    "ExecuteTime": {
     "end_time": "2021-09-13T11:48:35.925211Z",
     "start_time": "2021-09-13T11:48:35.860270Z"
    }
   },
   "outputs": [
    {
     "name": "stdout",
     "output_type": "stream",
     "text": [
      "The autoreload extension is already loaded. To reload it, use:\n",
      "  %reload_ext autoreload\n"
     ]
    }
   ],
   "source": [
    "%load_ext autoreload\n",
    "%autoreload 2"
   ]
  },
  {
   "cell_type": "code",
   "execution_count": 82,
   "id": "52f5589b",
   "metadata": {
    "ExecuteTime": {
     "end_time": "2021-09-13T13:26:37.041808Z",
     "start_time": "2021-09-13T13:26:36.998863Z"
    }
   },
   "outputs": [],
   "source": [
    "import pandas as pd\n",
    "import numpy as np\n",
    "from sklearn.preprocessing import OneHotEncoder\n",
    "from sklearn.compose import ColumnTransformer\n",
    "from sklearn.model_selection import train_test_split\n",
    "from sklearn.linear_model import LinearRegression\n",
    "from sklearn.model_selection import cross_val_score\n",
    "from sklearn.pipeline import Pipeline\n",
    "from sklearn.ensemble import RandomForestRegressor\n",
    "from sklearn.tree import DecisionTreeRegressor\n",
    "from sklearn.metrics import r2_score,mean_squared_error\n",
    "from sklearn.model_selection import GridSearchCV\n",
    "from sklearn.linear_model import ElasticNet\n",
    "from sklearn.dummy import DummyRegressor"
   ]
  },
  {
   "cell_type": "code",
   "execution_count": 75,
   "id": "2937f078",
   "metadata": {
    "ExecuteTime": {
     "end_time": "2021-09-13T13:25:08.423077Z",
     "start_time": "2021-09-13T13:25:08.368124Z"
    }
   },
   "outputs": [],
   "source": [
    "data_orig = pd.read_csv('../MA_PREDICTOR/data/ma_detailed_data_car_clean.csv')"
   ]
  },
  {
   "cell_type": "code",
   "execution_count": 76,
   "id": "1065ba8f",
   "metadata": {
    "ExecuteTime": {
     "end_time": "2021-09-13T13:25:09.294357Z",
     "start_time": "2021-09-13T13:25:09.261284Z"
    },
    "scrolled": true
   },
   "outputs": [],
   "source": [
    "data = data_orig[(data_orig.car > -0.3) & (data_orig.car < 0.3)]"
   ]
  },
  {
   "cell_type": "code",
   "execution_count": 77,
   "id": "4361b503",
   "metadata": {
    "ExecuteTime": {
     "end_time": "2021-09-13T13:25:39.096971Z",
     "start_time": "2021-09-13T13:25:39.059416Z"
    },
    "scrolled": true
   },
   "outputs": [],
   "source": [
    "data.drop(columns='announcement_date', inplace=True)"
   ]
  },
  {
   "cell_type": "code",
   "execution_count": 78,
   "id": "ad312884",
   "metadata": {
    "ExecuteTime": {
     "end_time": "2021-09-13T13:25:40.088047Z",
     "start_time": "2021-09-13T13:25:40.052643Z"
    }
   },
   "outputs": [],
   "source": [
    "y=data['car']"
   ]
  },
  {
   "cell_type": "code",
   "execution_count": 79,
   "id": "23e337af",
   "metadata": {
    "ExecuteTime": {
     "end_time": "2021-09-13T13:25:44.451655Z",
     "start_time": "2021-09-13T13:25:44.414602Z"
    }
   },
   "outputs": [],
   "source": [
    "X=data[[ 'target_status', 'shares_at_announcement',\n",
    "       'shares_acquired', 'consideration_offered', 'month', 'rel_deal_value',\n",
    "       'cross_border', 'relatedness', 'economic_sector_ac',\n",
    "       'business_sector_ac', 'economic_sector_target',\n",
    "       'business_sector_target', 'a_fin_adv_count', 't_fin_adv_count']]"
   ]
  },
  {
   "cell_type": "code",
   "execution_count": 80,
   "id": "18bb1357",
   "metadata": {
    "ExecuteTime": {
     "end_time": "2021-09-13T13:25:45.066297Z",
     "start_time": "2021-09-13T13:25:45.029902Z"
    }
   },
   "outputs": [],
   "source": [
    "from sklearn.model_selection import train_test_split\n",
    "X_train, X_test, y_train, y_test = train_test_split(X,y, test_size=0.3, random_state=0)"
   ]
  },
  {
   "cell_type": "markdown",
   "id": "c80be9c2",
   "metadata": {},
   "source": [
    "# Baseline"
   ]
  },
  {
   "cell_type": "code",
   "execution_count": 83,
   "id": "419740d2",
   "metadata": {
    "ExecuteTime": {
     "end_time": "2021-09-13T13:26:41.366984Z",
     "start_time": "2021-09-13T13:26:41.325958Z"
    }
   },
   "outputs": [],
   "source": [
    "baseline_model_mean = DummyRegressor(strategy=\"mean\") "
   ]
  },
  {
   "cell_type": "code",
   "execution_count": 84,
   "id": "035ca8ac",
   "metadata": {
    "ExecuteTime": {
     "end_time": "2021-09-13T13:27:20.212582Z",
     "start_time": "2021-09-13T13:27:20.153631Z"
    }
   },
   "outputs": [
    {
     "data": {
      "text/plain": [
       "-0.0029046994417758487"
      ]
     },
     "execution_count": 84,
     "metadata": {},
     "output_type": "execute_result"
    }
   ],
   "source": [
    "cross_val_score(baseline_model_mean, X_train, y_train, cv=5, scoring='r2').mean()"
   ]
  },
  {
   "cell_type": "code",
   "execution_count": 85,
   "id": "724180e8",
   "metadata": {
    "ExecuteTime": {
     "end_time": "2021-09-13T13:27:34.116579Z",
     "start_time": "2021-09-13T13:27:34.060471Z"
    }
   },
   "outputs": [
    {
     "data": {
      "text/plain": [
       "-0.0024689986443534014"
      ]
     },
     "execution_count": 85,
     "metadata": {},
     "output_type": "execute_result"
    }
   ],
   "source": [
    "cross_val_score(baseline_model_mean, X_train, y_train, cv=5, scoring='neg_mean_squared_error').mean()"
   ]
  },
  {
   "cell_type": "markdown",
   "id": "32f91c67",
   "metadata": {},
   "source": [
    "# Pipeline"
   ]
  },
  {
   "cell_type": "code",
   "execution_count": 86,
   "id": "891e040f",
   "metadata": {
    "ExecuteTime": {
     "end_time": "2021-09-13T13:27:59.613252Z",
     "start_time": "2021-09-13T13:27:59.578771Z"
    }
   },
   "outputs": [],
   "source": [
    "cat_transformer = OneHotEncoder(handle_unknown='ignore')"
   ]
  },
  {
   "cell_type": "code",
   "execution_count": 87,
   "id": "68ce2535",
   "metadata": {
    "ExecuteTime": {
     "end_time": "2021-09-13T13:27:59.799888Z",
     "start_time": "2021-09-13T13:27:59.765833Z"
    }
   },
   "outputs": [],
   "source": [
    "cat_features=['target_status', 'shares_at_announcement',\n",
    "       'shares_acquired', 'consideration_offered',\n",
    "       'cross_border', 'relatedness', 'economic_sector_ac',\n",
    "       'business_sector_ac', 'economic_sector_target',\n",
    "       'business_sector_target']"
   ]
  },
  {
   "cell_type": "code",
   "execution_count": 88,
   "id": "b2290c55",
   "metadata": {
    "ExecuteTime": {
     "end_time": "2021-09-13T13:27:59.991890Z",
     "start_time": "2021-09-13T13:27:59.954036Z"
    }
   },
   "outputs": [],
   "source": [
    "preprocessor = ColumnTransformer([\n",
    "    ('cat_transformer', cat_transformer, cat_features)], remainder='passthrough')"
   ]
  },
  {
   "cell_type": "code",
   "execution_count": 89,
   "id": "695f034c",
   "metadata": {
    "ExecuteTime": {
     "end_time": "2021-09-13T13:28:00.192520Z",
     "start_time": "2021-09-13T13:28:00.147379Z"
    }
   },
   "outputs": [],
   "source": [
    "pipe = Pipeline([\n",
    "    ('preprocessing', preprocessor),\n",
    "    ('model', LinearRegression())])"
   ]
  },
  {
   "cell_type": "code",
   "execution_count": 90,
   "id": "2aba8a56",
   "metadata": {
    "ExecuteTime": {
     "end_time": "2021-09-13T13:28:15.666520Z",
     "start_time": "2021-09-13T13:28:15.333166Z"
    }
   },
   "outputs": [
    {
     "data": {
      "text/plain": [
       "-0.0025489291865800593"
      ]
     },
     "execution_count": 90,
     "metadata": {},
     "output_type": "execute_result"
    }
   ],
   "source": [
    "cross_val_score(pipe, X_train, y_train, cv=5, scoring='neg_mean_squared_error').mean()"
   ]
  },
  {
   "cell_type": "code",
   "execution_count": 91,
   "id": "498ccbed",
   "metadata": {
    "ExecuteTime": {
     "end_time": "2021-09-13T13:28:16.803255Z",
     "start_time": "2021-09-13T13:28:16.487564Z"
    }
   },
   "outputs": [
    {
     "data": {
      "text/plain": [
       "-0.036103584870120865"
      ]
     },
     "execution_count": 91,
     "metadata": {},
     "output_type": "execute_result"
    }
   ],
   "source": [
    "cross_val_score(pipe, X_train, y_train, cv=5, scoring='r2').mean()"
   ]
  },
  {
   "cell_type": "markdown",
   "id": "c57a9c8d",
   "metadata": {},
   "source": [
    "# ElasticNet"
   ]
  },
  {
   "cell_type": "code",
   "execution_count": 92,
   "id": "42b53da7",
   "metadata": {
    "ExecuteTime": {
     "end_time": "2021-09-13T13:28:42.679492Z",
     "start_time": "2021-09-13T13:28:42.645747Z"
    }
   },
   "outputs": [],
   "source": [
    "grid = {'model__alpha': [0.2, 0.3, 0.4, 0.5, 0.6],\n",
    "        'model__l1_ratio': [0,0.2],\n",
    "        'model__max_iter': [10000]}"
   ]
  },
  {
   "cell_type": "code",
   "execution_count": 93,
   "id": "b692c065",
   "metadata": {
    "ExecuteTime": {
     "end_time": "2021-09-13T13:28:43.662859Z",
     "start_time": "2021-09-13T13:28:43.628089Z"
    }
   },
   "outputs": [],
   "source": [
    "pipe = Pipeline([\n",
    "    ('preprocessing', preprocessor),\n",
    "    ('model', ElasticNet())])"
   ]
  },
  {
   "cell_type": "code",
   "execution_count": 94,
   "id": "9410d8d7",
   "metadata": {
    "ExecuteTime": {
     "end_time": "2021-09-13T13:28:44.112641Z",
     "start_time": "2021-09-13T13:28:44.072978Z"
    }
   },
   "outputs": [],
   "source": [
    "search = GridSearchCV(pipe, \n",
    "                      grid, \n",
    "                      scoring = ['neg_mean_squared_error', 'r2','neg_mean_absolute_error'],\n",
    "                      refit='neg_mean_squared_error',\n",
    "                      cv = 5,\n",
    "                      n_jobs=-1) "
   ]
  },
  {
   "cell_type": "code",
   "execution_count": 95,
   "id": "a4383bff",
   "metadata": {
    "ExecuteTime": {
     "end_time": "2021-09-13T13:29:47.236309Z",
     "start_time": "2021-09-13T13:28:46.498895Z"
    },
    "collapsed": true
   },
   "outputs": [
    {
     "name": "stderr",
     "output_type": "stream",
     "text": [
      "/Users/manonlaffly/.pyenv/versions/3.8.6/envs/MA_PREDICTOR/lib/python3.8/site-packages/sklearn/linear_model/_coordinate_descent.py:513: ConvergenceWarning: Objective did not converge. You might want to increase the number of iterations. Duality gap: 2.783448621372009, tolerance: 0.0005684619764424259\n",
      "  model = cd_fast.sparse_enet_coordinate_descent(\n"
     ]
    },
    {
     "data": {
      "text/plain": [
       "GridSearchCV(cv=5,\n",
       "             estimator=Pipeline(steps=[('preprocessing',\n",
       "                                        ColumnTransformer(remainder='passthrough',\n",
       "                                                          transformers=[('cat_transformer',\n",
       "                                                                         OneHotEncoder(handle_unknown='ignore'),\n",
       "                                                                         ['target_status',\n",
       "                                                                          'shares_at_announcement',\n",
       "                                                                          'shares_acquired',\n",
       "                                                                          'consideration_offered',\n",
       "                                                                          'cross_border',\n",
       "                                                                          'relatedness',\n",
       "                                                                          'economic_sector_ac',\n",
       "                                                                          'business_sector_ac',\n",
       "                                                                          'economic_sector_target',\n",
       "                                                                          'business_sector_target'])])),\n",
       "                                       ('model', ElasticNet())]),\n",
       "             n_jobs=-1,\n",
       "             param_grid={'model__alpha': [0.2, 0.3, 0.4, 0.5, 0.6],\n",
       "                         'model__l1_ratio': [0, 0.2],\n",
       "                         'model__max_iter': [10000]},\n",
       "             refit='neg_mean_squared_error',\n",
       "             scoring=['neg_mean_squared_error', 'r2',\n",
       "                      'neg_mean_absolute_error'])"
      ]
     },
     "execution_count": 95,
     "metadata": {},
     "output_type": "execute_result"
    }
   ],
   "source": [
    "# Fit data to Grid Search\n",
    "search.fit(X_train,y_train)"
   ]
  },
  {
   "cell_type": "code",
   "execution_count": 96,
   "id": "c65ac158",
   "metadata": {
    "ExecuteTime": {
     "end_time": "2021-09-13T13:29:47.279740Z",
     "start_time": "2021-09-13T13:29:47.241405Z"
    }
   },
   "outputs": [
    {
     "data": {
      "text/plain": [
       "-0.002438774561070367"
      ]
     },
     "execution_count": 96,
     "metadata": {},
     "output_type": "execute_result"
    }
   ],
   "source": [
    "# Best score 1\n",
    "search.best_score_"
   ]
  },
  {
   "cell_type": "code",
   "execution_count": 97,
   "id": "1de97ce9",
   "metadata": {
    "ExecuteTime": {
     "end_time": "2021-09-13T13:29:47.314858Z",
     "start_time": "2021-09-13T13:29:47.282897Z"
    },
    "collapsed": true
   },
   "outputs": [
    {
     "data": {
      "text/plain": [
       "{'model__alpha': 0.3, 'model__l1_ratio': 0, 'model__max_iter': 10000}"
      ]
     },
     "execution_count": 97,
     "metadata": {},
     "output_type": "execute_result"
    },
    {
     "name": "stderr",
     "output_type": "stream",
     "text": [
      "/Users/manonlaffly/.pyenv/versions/3.8.6/envs/MA_PREDICTOR/lib/python3.8/site-packages/sklearn/linear_model/_coordinate_descent.py:513: ConvergenceWarning: Objective did not converge. You might want to increase the number of iterations. Duality gap: 2.257856837677321, tolerance: 0.000465706556622184\n",
      "  model = cd_fast.sparse_enet_coordinate_descent(\n",
      "/Users/manonlaffly/.pyenv/versions/3.8.6/envs/MA_PREDICTOR/lib/python3.8/site-packages/sklearn/linear_model/_coordinate_descent.py:513: ConvergenceWarning: Objective did not converge. You might want to increase the number of iterations. Duality gap: 2.2678948976052036, tolerance: 0.000465706556622184\n",
      "  model = cd_fast.sparse_enet_coordinate_descent(\n",
      "/Users/manonlaffly/.pyenv/versions/3.8.6/envs/MA_PREDICTOR/lib/python3.8/site-packages/sklearn/linear_model/_coordinate_descent.py:513: ConvergenceWarning: Objective did not converge. You might want to increase the number of iterations. Duality gap: 2.173786069287569, tolerance: 0.00044507085380397326\n",
      "  model = cd_fast.sparse_enet_coordinate_descent(\n",
      "/Users/manonlaffly/.pyenv/versions/3.8.6/envs/MA_PREDICTOR/lib/python3.8/site-packages/sklearn/linear_model/_coordinate_descent.py:513: ConvergenceWarning: Objective did not converge. You might want to increase the number of iterations. Duality gap: 2.2452503319328585, tolerance: 0.0004551908573539898\n",
      "  model = cd_fast.sparse_enet_coordinate_descent(\n",
      "/Users/manonlaffly/.pyenv/versions/3.8.6/envs/MA_PREDICTOR/lib/python3.8/site-packages/sklearn/linear_model/_coordinate_descent.py:513: ConvergenceWarning: Objective did not converge. You might want to increase the number of iterations. Duality gap: 2.279585537835437, tolerance: 0.000465706556622184\n",
      "  model = cd_fast.sparse_enet_coordinate_descent(\n",
      "/Users/manonlaffly/.pyenv/versions/3.8.6/envs/MA_PREDICTOR/lib/python3.8/site-packages/sklearn/linear_model/_coordinate_descent.py:513: ConvergenceWarning: Objective did not converge. You might want to increase the number of iterations. Duality gap: 2.15639520284204, tolerance: 0.00043938802405252714\n",
      "  model = cd_fast.sparse_enet_coordinate_descent(\n",
      "/Users/manonlaffly/.pyenv/versions/3.8.6/envs/MA_PREDICTOR/lib/python3.8/site-packages/sklearn/linear_model/_coordinate_descent.py:513: ConvergenceWarning: Objective did not converge. You might want to increase the number of iterations. Duality gap: 2.2783780467010772, tolerance: 0.00046820618678990384\n",
      "  model = cd_fast.sparse_enet_coordinate_descent(\n",
      "/Users/manonlaffly/.pyenv/versions/3.8.6/envs/MA_PREDICTOR/lib/python3.8/site-packages/sklearn/linear_model/_coordinate_descent.py:513: ConvergenceWarning: Objective did not converge. You might want to increase the number of iterations. Duality gap: 2.1437252602323693, tolerance: 0.00043938802405252714\n",
      "  model = cd_fast.sparse_enet_coordinate_descent(\n",
      "/Users/manonlaffly/.pyenv/versions/3.8.6/envs/MA_PREDICTOR/lib/python3.8/site-packages/sklearn/linear_model/_coordinate_descent.py:513: ConvergenceWarning: Objective did not converge. You might want to increase the number of iterations. Duality gap: 2.2927977201820697, tolerance: 0.00046820618678990384\n",
      "  model = cd_fast.sparse_enet_coordinate_descent(\n",
      "/Users/manonlaffly/.pyenv/versions/3.8.6/envs/MA_PREDICTOR/lib/python3.8/site-packages/sklearn/linear_model/_coordinate_descent.py:513: ConvergenceWarning: Objective did not converge. You might want to increase the number of iterations. Duality gap: 2.179070785782753, tolerance: 0.00044507085380397326\n",
      "  model = cd_fast.sparse_enet_coordinate_descent(\n",
      "/Users/manonlaffly/.pyenv/versions/3.8.6/envs/MA_PREDICTOR/lib/python3.8/site-packages/sklearn/linear_model/_coordinate_descent.py:513: ConvergenceWarning: Objective did not converge. You might want to increase the number of iterations. Duality gap: 2.249068693047275, tolerance: 0.0004551908573539898\n",
      "  model = cd_fast.sparse_enet_coordinate_descent(\n",
      "/Users/manonlaffly/.pyenv/versions/3.8.6/envs/MA_PREDICTOR/lib/python3.8/site-packages/sklearn/linear_model/_coordinate_descent.py:513: ConvergenceWarning: Objective did not converge. You might want to increase the number of iterations. Duality gap: 2.2833750357317757, tolerance: 0.000465706556622184\n",
      "  model = cd_fast.sparse_enet_coordinate_descent(\n",
      "/Users/manonlaffly/.pyenv/versions/3.8.6/envs/MA_PREDICTOR/lib/python3.8/site-packages/sklearn/linear_model/_coordinate_descent.py:513: ConvergenceWarning: Objective did not converge. You might want to increase the number of iterations. Duality gap: 2.1354932775634206, tolerance: 0.00043938802405252714\n",
      "  model = cd_fast.sparse_enet_coordinate_descent(\n",
      "/Users/manonlaffly/.pyenv/versions/3.8.6/envs/MA_PREDICTOR/lib/python3.8/site-packages/sklearn/linear_model/_coordinate_descent.py:513: ConvergenceWarning: Objective did not converge. You might want to increase the number of iterations. Duality gap: 2.2870159039715565, tolerance: 0.00046820618678990384\n",
      "  model = cd_fast.sparse_enet_coordinate_descent(\n",
      "/Users/manonlaffly/.pyenv/versions/3.8.6/envs/MA_PREDICTOR/lib/python3.8/site-packages/sklearn/linear_model/_coordinate_descent.py:513: ConvergenceWarning: Objective did not converge. You might want to increase the number of iterations. Duality gap: 2.149259253300755, tolerance: 0.00043938802405252714\n",
      "  model = cd_fast.sparse_enet_coordinate_descent(\n",
      "/Users/manonlaffly/.pyenv/versions/3.8.6/envs/MA_PREDICTOR/lib/python3.8/site-packages/sklearn/linear_model/_coordinate_descent.py:513: ConvergenceWarning: Objective did not converge. You might want to increase the number of iterations. Duality gap: 2.2970074923458506, tolerance: 0.00046820618678990384\n",
      "  model = cd_fast.sparse_enet_coordinate_descent(\n",
      "/Users/manonlaffly/.pyenv/versions/3.8.6/envs/MA_PREDICTOR/lib/python3.8/site-packages/sklearn/linear_model/_coordinate_descent.py:513: ConvergenceWarning: Objective did not converge. You might want to increase the number of iterations. Duality gap: 2.182978719037107, tolerance: 0.00044507085380397326\n",
      "  model = cd_fast.sparse_enet_coordinate_descent(\n",
      "/Users/manonlaffly/.pyenv/versions/3.8.6/envs/MA_PREDICTOR/lib/python3.8/site-packages/sklearn/linear_model/_coordinate_descent.py:513: ConvergenceWarning: Objective did not converge. You might want to increase the number of iterations. Duality gap: 2.2519951212511007, tolerance: 0.0004551908573539898\n",
      "  model = cd_fast.sparse_enet_coordinate_descent(\n",
      "/Users/manonlaffly/.pyenv/versions/3.8.6/envs/MA_PREDICTOR/lib/python3.8/site-packages/sklearn/linear_model/_coordinate_descent.py:513: ConvergenceWarning: Objective did not converge. You might want to increase the number of iterations. Duality gap: 2.232206026364077, tolerance: 0.0004551908573539898\n",
      "  model = cd_fast.sparse_enet_coordinate_descent(\n",
      "/Users/manonlaffly/.pyenv/versions/3.8.6/envs/MA_PREDICTOR/lib/python3.8/site-packages/sklearn/linear_model/_coordinate_descent.py:513: ConvergenceWarning: Objective did not converge. You might want to increase the number of iterations. Duality gap: 2.166090372089018, tolerance: 0.00044507085380397326\n",
      "  model = cd_fast.sparse_enet_coordinate_descent(\n",
      "/Users/manonlaffly/.pyenv/versions/3.8.6/envs/MA_PREDICTOR/lib/python3.8/site-packages/sklearn/linear_model/_coordinate_descent.py:513: ConvergenceWarning: Objective did not converge. You might want to increase the number of iterations. Duality gap: 2.240009186463916, tolerance: 0.0004551908573539898\n",
      "  model = cd_fast.sparse_enet_coordinate_descent(\n",
      "/Users/manonlaffly/.pyenv/versions/3.8.6/envs/MA_PREDICTOR/lib/python3.8/site-packages/sklearn/linear_model/_coordinate_descent.py:513: ConvergenceWarning: Objective did not converge. You might want to increase the number of iterations. Duality gap: 2.2746516712559433, tolerance: 0.000465706556622184\n",
      "  model = cd_fast.sparse_enet_coordinate_descent(\n",
      "/Users/manonlaffly/.pyenv/versions/3.8.6/envs/MA_PREDICTOR/lib/python3.8/site-packages/sklearn/linear_model/_coordinate_descent.py:513: ConvergenceWarning: Objective did not converge. You might want to increase the number of iterations. Duality gap: 2.1532964574576905, tolerance: 0.00043938802405252714\n",
      "  model = cd_fast.sparse_enet_coordinate_descent(\n",
      "/Users/manonlaffly/.pyenv/versions/3.8.6/envs/MA_PREDICTOR/lib/python3.8/site-packages/sklearn/linear_model/_coordinate_descent.py:513: ConvergenceWarning: Objective did not converge. You might want to increase the number of iterations. Duality gap: 2.3002352741775858, tolerance: 0.00046820618678990384\n",
      "  model = cd_fast.sparse_enet_coordinate_descent(\n",
      "/Users/manonlaffly/.pyenv/versions/3.8.6/envs/MA_PREDICTOR/lib/python3.8/site-packages/sklearn/linear_model/_coordinate_descent.py:513: ConvergenceWarning: Objective did not converge. You might want to increase the number of iterations. Duality gap: 2.1860062654326446, tolerance: 0.00044507085380397326\n",
      "  model = cd_fast.sparse_enet_coordinate_descent(\n"
     ]
    }
   ],
   "source": [
    "search.best_params_"
   ]
  },
  {
   "cell_type": "code",
   "execution_count": null,
   "id": "ea85aa0e",
   "metadata": {},
   "outputs": [],
   "source": []
  }
 ],
 "metadata": {
  "kernelspec": {
   "display_name": "Python 3 (ipykernel)",
   "language": "python",
   "name": "python3"
  },
  "language_info": {
   "codemirror_mode": {
    "name": "ipython",
    "version": 3
   },
   "file_extension": ".py",
   "mimetype": "text/x-python",
   "name": "python",
   "nbconvert_exporter": "python",
   "pygments_lexer": "ipython3",
   "version": "3.8.6"
  },
  "toc": {
   "base_numbering": 1,
   "nav_menu": {},
   "number_sections": true,
   "sideBar": true,
   "skip_h1_title": false,
   "title_cell": "Table of Contents",
   "title_sidebar": "Contents",
   "toc_cell": false,
   "toc_position": {},
   "toc_section_display": true,
   "toc_window_display": false
  }
 },
 "nbformat": 4,
 "nbformat_minor": 5
}
