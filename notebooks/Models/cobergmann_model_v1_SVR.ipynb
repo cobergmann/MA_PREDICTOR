{
 "cells": [
  {
   "cell_type": "code",
   "execution_count": 20,
   "id": "a30b4ee7",
   "metadata": {
    "ExecuteTime": {
     "end_time": "2021-09-15T07:58:55.059305Z",
     "start_time": "2021-09-15T07:58:55.047452Z"
    }
   },
   "outputs": [],
   "source": [
    "from sklearn.preprocessing import OneHotEncoder\n",
    "from sklearn.compose import ColumnTransformer\n",
    "import numpy as np\n",
    "import pandas as pd\n",
    "from sklearn.model_selection import train_test_split\n",
    "from sklearn.linear_model import LinearRegression\n",
    "from sklearn.model_selection import cross_val_score\n",
    "from sklearn.pipeline import Pipeline\n",
    "from sklearn.ensemble import RandomForestRegressor\n",
    "from xgboost import XGBRegressor\n",
    "from sklearn.metrics import r2_score,mean_squared_error\n",
    "from sklearn.model_selection import GridSearchCV\n",
    "from sklearn.linear_model import ElasticNet\n",
    "from sklearn.dummy import DummyRegressor\n",
    "import xgboost as xgb\n",
    "from sklearn.preprocessing import MinMaxScaler\n",
    "from sklearn.svm import SVR\n",
    "from sklearn.linear_model import Ridge"
   ]
  },
  {
   "cell_type": "code",
   "execution_count": 21,
   "id": "d5731e5f",
   "metadata": {
    "ExecuteTime": {
     "end_time": "2021-09-15T07:58:55.610777Z",
     "start_time": "2021-09-15T07:58:55.442960Z"
    }
   },
   "outputs": [
    {
     "name": "stdout",
     "output_type": "stream",
     "text": [
      "/Users/manonlaffly/code/cobergmann/MA_PREDICTOR/notebooks/Models\r\n"
     ]
    }
   ],
   "source": [
    "!pwd"
   ]
  },
  {
   "cell_type": "code",
   "execution_count": 22,
   "id": "4b853f21",
   "metadata": {
    "ExecuteTime": {
     "end_time": "2021-09-15T07:58:56.258987Z",
     "start_time": "2021-09-15T07:58:56.110021Z"
    }
   },
   "outputs": [],
   "source": [
    "data_orig = pd.read_csv('../../MA_PREDICTOR/data/ma_data_car_clean.csv')"
   ]
  },
  {
   "cell_type": "code",
   "execution_count": 23,
   "id": "83c28433",
   "metadata": {
    "ExecuteTime": {
     "end_time": "2021-09-15T07:58:57.497952Z",
     "start_time": "2021-09-15T07:58:57.474997Z"
    }
   },
   "outputs": [],
   "source": [
    "data = data_orig[(data_orig.car > -0.3) & (data_orig.car < 0.3)]"
   ]
  },
  {
   "cell_type": "code",
   "execution_count": 24,
   "id": "ee599922",
   "metadata": {
    "ExecuteTime": {
     "end_time": "2021-09-15T07:58:57.844407Z",
     "start_time": "2021-09-15T07:58:57.828767Z"
    },
    "scrolled": true
   },
   "outputs": [],
   "source": [
    "data.drop('month', inplace=True, axis=1)"
   ]
  },
  {
   "cell_type": "code",
   "execution_count": 25,
   "id": "a910692f",
   "metadata": {
    "ExecuteTime": {
     "end_time": "2021-09-15T07:58:58.996228Z",
     "start_time": "2021-09-15T07:58:58.948599Z"
    }
   },
   "outputs": [
    {
     "data": {
      "text/html": [
       "<div>\n",
       "<style scoped>\n",
       "    .dataframe tbody tr th:only-of-type {\n",
       "        vertical-align: middle;\n",
       "    }\n",
       "\n",
       "    .dataframe tbody tr th {\n",
       "        vertical-align: top;\n",
       "    }\n",
       "\n",
       "    .dataframe thead th {\n",
       "        text-align: right;\n",
       "    }\n",
       "</style>\n",
       "<table border=\"1\" class=\"dataframe\">\n",
       "  <thead>\n",
       "    <tr style=\"text-align: right;\">\n",
       "      <th></th>\n",
       "      <th>consideration_offered</th>\n",
       "      <th>shares_acquired</th>\n",
       "      <th>shares_at_announcement</th>\n",
       "      <th>acquiror_code</th>\n",
       "      <th>target_code</th>\n",
       "      <th>target_status</th>\n",
       "      <th>acquisition_count</th>\n",
       "      <th>bidder_count</th>\n",
       "      <th>cross_border</th>\n",
       "      <th>relatedness</th>\n",
       "      <th>economic_sector_ac</th>\n",
       "      <th>business_sector_ac</th>\n",
       "      <th>economic_sector_target</th>\n",
       "      <th>business_sector_target</th>\n",
       "      <th>car</th>\n",
       "    </tr>\n",
       "  </thead>\n",
       "  <tbody>\n",
       "    <tr>\n",
       "      <th>0</th>\n",
       "      <td>Cash</td>\n",
       "      <td>full</td>\n",
       "      <td>no</td>\n",
       "      <td>50102030</td>\n",
       "      <td>50103030</td>\n",
       "      <td>others</td>\n",
       "      <td>15</td>\n",
       "      <td>1</td>\n",
       "      <td>cross_border</td>\n",
       "      <td>business_sector</td>\n",
       "      <td>Energy</td>\n",
       "      <td>Energy - Fossil Fuels</td>\n",
       "      <td>Energy</td>\n",
       "      <td>Energy - Fossil Fuels</td>\n",
       "      <td>0.006854</td>\n",
       "    </tr>\n",
       "    <tr>\n",
       "      <th>1</th>\n",
       "      <td>Other</td>\n",
       "      <td>full</td>\n",
       "      <td>no</td>\n",
       "      <td>54201030</td>\n",
       "      <td>63103010</td>\n",
       "      <td>others</td>\n",
       "      <td>31</td>\n",
       "      <td>1</td>\n",
       "      <td>cross_border</td>\n",
       "      <td>not_related</td>\n",
       "      <td>Consumer Non-Cyclicals</td>\n",
       "      <td>Personal &amp; Household Products &amp; Services</td>\n",
       "      <td>Academic &amp; Educational Services</td>\n",
       "      <td>Academic &amp; Educational Services</td>\n",
       "      <td>-0.010266</td>\n",
       "    </tr>\n",
       "    <tr>\n",
       "      <th>2</th>\n",
       "      <td>Other</td>\n",
       "      <td>full</td>\n",
       "      <td>no</td>\n",
       "      <td>57201030</td>\n",
       "      <td>57201020</td>\n",
       "      <td>others</td>\n",
       "      <td>2</td>\n",
       "      <td>1</td>\n",
       "      <td>cross_border</td>\n",
       "      <td>industry_group</td>\n",
       "      <td>Technology</td>\n",
       "      <td>Software &amp; IT Services</td>\n",
       "      <td>Technology</td>\n",
       "      <td>Software &amp; IT Services</td>\n",
       "      <td>0.007746</td>\n",
       "    </tr>\n",
       "    <tr>\n",
       "      <th>3</th>\n",
       "      <td>Cash</td>\n",
       "      <td>full</td>\n",
       "      <td>no</td>\n",
       "      <td>52102010</td>\n",
       "      <td>51101010</td>\n",
       "      <td>others</td>\n",
       "      <td>7</td>\n",
       "      <td>1</td>\n",
       "      <td>national</td>\n",
       "      <td>not_related</td>\n",
       "      <td>Industrials</td>\n",
       "      <td>Industrial Goods</td>\n",
       "      <td>Basic Materials</td>\n",
       "      <td>Chemicals</td>\n",
       "      <td>-0.011133</td>\n",
       "    </tr>\n",
       "    <tr>\n",
       "      <th>4</th>\n",
       "      <td>Cash</td>\n",
       "      <td>not_full</td>\n",
       "      <td>no</td>\n",
       "      <td>50102030</td>\n",
       "      <td>50102030</td>\n",
       "      <td>public</td>\n",
       "      <td>8</td>\n",
       "      <td>1</td>\n",
       "      <td>cross_border</td>\n",
       "      <td>industry</td>\n",
       "      <td>Energy</td>\n",
       "      <td>Energy - Fossil Fuels</td>\n",
       "      <td>Energy</td>\n",
       "      <td>Energy - Fossil Fuels</td>\n",
       "      <td>-0.003971</td>\n",
       "    </tr>\n",
       "    <tr>\n",
       "      <th>...</th>\n",
       "      <td>...</td>\n",
       "      <td>...</td>\n",
       "      <td>...</td>\n",
       "      <td>...</td>\n",
       "      <td>...</td>\n",
       "      <td>...</td>\n",
       "      <td>...</td>\n",
       "      <td>...</td>\n",
       "      <td>...</td>\n",
       "      <td>...</td>\n",
       "      <td>...</td>\n",
       "      <td>...</td>\n",
       "      <td>...</td>\n",
       "      <td>...</td>\n",
       "      <td>...</td>\n",
       "    </tr>\n",
       "    <tr>\n",
       "      <th>18219</th>\n",
       "      <td>Cash</td>\n",
       "      <td>full</td>\n",
       "      <td>no</td>\n",
       "      <td>52102010</td>\n",
       "      <td>59103010</td>\n",
       "      <td>others</td>\n",
       "      <td>15</td>\n",
       "      <td>1</td>\n",
       "      <td>cross_border</td>\n",
       "      <td>not_related</td>\n",
       "      <td>Industrials</td>\n",
       "      <td>Industrial Goods</td>\n",
       "      <td>Utilities</td>\n",
       "      <td>Utilities</td>\n",
       "      <td>0.020108</td>\n",
       "    </tr>\n",
       "    <tr>\n",
       "      <th>18220</th>\n",
       "      <td>Other</td>\n",
       "      <td>full</td>\n",
       "      <td>no</td>\n",
       "      <td>53203020</td>\n",
       "      <td>53205020</td>\n",
       "      <td>others</td>\n",
       "      <td>60</td>\n",
       "      <td>1</td>\n",
       "      <td>cross_border</td>\n",
       "      <td>business_sector</td>\n",
       "      <td>Consumer Cyclicals</td>\n",
       "      <td>Cyclical Consumer Products</td>\n",
       "      <td>Consumer Cyclicals</td>\n",
       "      <td>Cyclical Consumer Products</td>\n",
       "      <td>-0.040156</td>\n",
       "    </tr>\n",
       "    <tr>\n",
       "      <th>18221</th>\n",
       "      <td>Other</td>\n",
       "      <td>full</td>\n",
       "      <td>no</td>\n",
       "      <td>54301020</td>\n",
       "      <td>57201010</td>\n",
       "      <td>others</td>\n",
       "      <td>52</td>\n",
       "      <td>1</td>\n",
       "      <td>national</td>\n",
       "      <td>not_related</td>\n",
       "      <td>Consumer Non-Cyclicals</td>\n",
       "      <td>Food &amp; Drug Retailing</td>\n",
       "      <td>Technology</td>\n",
       "      <td>Software &amp; IT Services</td>\n",
       "      <td>-0.003545</td>\n",
       "    </tr>\n",
       "    <tr>\n",
       "      <th>18222</th>\n",
       "      <td>Other</td>\n",
       "      <td>full</td>\n",
       "      <td>no</td>\n",
       "      <td>55101010</td>\n",
       "      <td>52203030</td>\n",
       "      <td>others</td>\n",
       "      <td>6</td>\n",
       "      <td>1</td>\n",
       "      <td>cross_border</td>\n",
       "      <td>not_related</td>\n",
       "      <td>Financials</td>\n",
       "      <td>Banking &amp; Investment Services</td>\n",
       "      <td>Industrials</td>\n",
       "      <td>Industrial &amp; Commercial Services</td>\n",
       "      <td>-0.025992</td>\n",
       "    </tr>\n",
       "    <tr>\n",
       "      <th>18223</th>\n",
       "      <td>Other</td>\n",
       "      <td>full</td>\n",
       "      <td>no</td>\n",
       "      <td>53403010</td>\n",
       "      <td>55101050</td>\n",
       "      <td>others</td>\n",
       "      <td>73</td>\n",
       "      <td>1</td>\n",
       "      <td>national</td>\n",
       "      <td>not_related</td>\n",
       "      <td>Consumer Cyclicals</td>\n",
       "      <td>Retailers</td>\n",
       "      <td>Financials</td>\n",
       "      <td>Banking &amp; Investment Services</td>\n",
       "      <td>-0.000099</td>\n",
       "    </tr>\n",
       "  </tbody>\n",
       "</table>\n",
       "<p>18224 rows × 15 columns</p>\n",
       "</div>"
      ],
      "text/plain": [
       "      consideration_offered shares_acquired shares_at_announcement  \\\n",
       "0                      Cash            full                     no   \n",
       "1                     Other            full                     no   \n",
       "2                     Other            full                     no   \n",
       "3                      Cash            full                     no   \n",
       "4                      Cash        not_full                     no   \n",
       "...                     ...             ...                    ...   \n",
       "18219                  Cash            full                     no   \n",
       "18220                 Other            full                     no   \n",
       "18221                 Other            full                     no   \n",
       "18222                 Other            full                     no   \n",
       "18223                 Other            full                     no   \n",
       "\n",
       "       acquiror_code  target_code target_status  acquisition_count  \\\n",
       "0           50102030     50103030        others                 15   \n",
       "1           54201030     63103010        others                 31   \n",
       "2           57201030     57201020        others                  2   \n",
       "3           52102010     51101010        others                  7   \n",
       "4           50102030     50102030        public                  8   \n",
       "...              ...          ...           ...                ...   \n",
       "18219       52102010     59103010        others                 15   \n",
       "18220       53203020     53205020        others                 60   \n",
       "18221       54301020     57201010        others                 52   \n",
       "18222       55101010     52203030        others                  6   \n",
       "18223       53403010     55101050        others                 73   \n",
       "\n",
       "       bidder_count  cross_border      relatedness      economic_sector_ac  \\\n",
       "0                 1  cross_border  business_sector                  Energy   \n",
       "1                 1  cross_border      not_related  Consumer Non-Cyclicals   \n",
       "2                 1  cross_border   industry_group              Technology   \n",
       "3                 1      national      not_related             Industrials   \n",
       "4                 1  cross_border         industry                  Energy   \n",
       "...             ...           ...              ...                     ...   \n",
       "18219             1  cross_border      not_related             Industrials   \n",
       "18220             1  cross_border  business_sector      Consumer Cyclicals   \n",
       "18221             1      national      not_related  Consumer Non-Cyclicals   \n",
       "18222             1  cross_border      not_related              Financials   \n",
       "18223             1      national      not_related      Consumer Cyclicals   \n",
       "\n",
       "                             business_sector_ac  \\\n",
       "0                         Energy - Fossil Fuels   \n",
       "1      Personal & Household Products & Services   \n",
       "2                        Software & IT Services   \n",
       "3                              Industrial Goods   \n",
       "4                         Energy - Fossil Fuels   \n",
       "...                                         ...   \n",
       "18219                          Industrial Goods   \n",
       "18220                Cyclical Consumer Products   \n",
       "18221                     Food & Drug Retailing   \n",
       "18222             Banking & Investment Services   \n",
       "18223                                 Retailers   \n",
       "\n",
       "                economic_sector_target            business_sector_target  \\\n",
       "0                               Energy             Energy - Fossil Fuels   \n",
       "1      Academic & Educational Services   Academic & Educational Services   \n",
       "2                           Technology            Software & IT Services   \n",
       "3                      Basic Materials                         Chemicals   \n",
       "4                               Energy             Energy - Fossil Fuels   \n",
       "...                                ...                               ...   \n",
       "18219                        Utilities                         Utilities   \n",
       "18220               Consumer Cyclicals        Cyclical Consumer Products   \n",
       "18221                       Technology            Software & IT Services   \n",
       "18222                      Industrials  Industrial & Commercial Services   \n",
       "18223                       Financials     Banking & Investment Services   \n",
       "\n",
       "            car  \n",
       "0      0.006854  \n",
       "1     -0.010266  \n",
       "2      0.007746  \n",
       "3     -0.011133  \n",
       "4     -0.003971  \n",
       "...         ...  \n",
       "18219  0.020108  \n",
       "18220 -0.040156  \n",
       "18221 -0.003545  \n",
       "18222 -0.025992  \n",
       "18223 -0.000099  \n",
       "\n",
       "[18224 rows x 15 columns]"
      ]
     },
     "execution_count": 25,
     "metadata": {},
     "output_type": "execute_result"
    }
   ],
   "source": [
    "data"
   ]
  },
  {
   "cell_type": "markdown",
   "id": "5c808410",
   "metadata": {},
   "source": [
    "scale the acq count\n"
   ]
  },
  {
   "cell_type": "code",
   "execution_count": 26,
   "id": "e7aae6af",
   "metadata": {
    "ExecuteTime": {
     "end_time": "2021-09-15T07:59:00.869625Z",
     "start_time": "2021-09-15T07:59:00.861875Z"
    },
    "scrolled": false
   },
   "outputs": [
    {
     "data": {
      "text/plain": [
       "Index(['consideration_offered', 'shares_acquired', 'shares_at_announcement',\n",
       "       'acquiror_code', 'target_code', 'target_status', 'acquisition_count',\n",
       "       'bidder_count', 'cross_border', 'relatedness', 'economic_sector_ac',\n",
       "       'business_sector_ac', 'economic_sector_target',\n",
       "       'business_sector_target', 'car'],\n",
       "      dtype='object')"
      ]
     },
     "execution_count": 26,
     "metadata": {},
     "output_type": "execute_result"
    }
   ],
   "source": [
    "data.columns"
   ]
  },
  {
   "cell_type": "code",
   "execution_count": 27,
   "id": "43c916a5",
   "metadata": {
    "ExecuteTime": {
     "end_time": "2021-09-15T07:59:01.098753Z",
     "start_time": "2021-09-15T07:59:01.093969Z"
    }
   },
   "outputs": [],
   "source": [
    "y=data['car']"
   ]
  },
  {
   "cell_type": "code",
   "execution_count": 28,
   "id": "6c30c162",
   "metadata": {
    "ExecuteTime": {
     "end_time": "2021-09-15T07:59:01.339948Z",
     "start_time": "2021-09-15T07:59:01.327689Z"
    }
   },
   "outputs": [],
   "source": [
    "X=data[['consideration_offered', 'shares_acquired', 'shares_at_announcement',\n",
    "       'acquiror_code', 'target_code', 'target_status', 'acquisition_count',\n",
    "       'bidder_count', 'cross_border', 'relatedness', 'economic_sector_ac',\n",
    "       'business_sector_ac', 'economic_sector_target',\n",
    "       'business_sector_target']]"
   ]
  },
  {
   "cell_type": "markdown",
   "id": "8588e22d",
   "metadata": {},
   "source": [
    "# Splitting of the dataset"
   ]
  },
  {
   "cell_type": "code",
   "execution_count": 29,
   "id": "635d5f59",
   "metadata": {
    "ExecuteTime": {
     "end_time": "2021-09-15T07:59:04.354009Z",
     "start_time": "2021-09-15T07:59:04.329133Z"
    }
   },
   "outputs": [],
   "source": [
    "from sklearn.model_selection import train_test_split\n",
    "X_train, X_test, y_train, y_test = train_test_split(X,y, test_size=0.3, random_state=0)"
   ]
  },
  {
   "cell_type": "markdown",
   "id": "5bb6e8cd",
   "metadata": {},
   "source": [
    "# Pipeline and GridSearch"
   ]
  },
  {
   "cell_type": "code",
   "execution_count": 30,
   "id": "751262e6",
   "metadata": {
    "ExecuteTime": {
     "end_time": "2021-09-15T07:59:05.684479Z",
     "start_time": "2021-09-15T07:59:05.679659Z"
    }
   },
   "outputs": [],
   "source": [
    "cat_transformer = OneHotEncoder(handle_unknown='ignore')"
   ]
  },
  {
   "cell_type": "code",
   "execution_count": 31,
   "id": "2fd543b4",
   "metadata": {
    "ExecuteTime": {
     "end_time": "2021-09-15T07:59:05.850617Z",
     "start_time": "2021-09-15T07:59:05.845344Z"
    }
   },
   "outputs": [],
   "source": [
    "num_transformer= MinMaxScaler()"
   ]
  },
  {
   "cell_type": "code",
   "execution_count": 32,
   "id": "062890ff",
   "metadata": {
    "ExecuteTime": {
     "end_time": "2021-09-15T07:59:06.052720Z",
     "start_time": "2021-09-15T07:59:06.046411Z"
    }
   },
   "outputs": [],
   "source": [
    "cat_features=['consideration_offered', 'shares_acquired', 'shares_at_announcement', 'cross_border', 'relatedness',\n",
    "       'economic_sector_ac', 'business_sector_ac', 'economic_sector_target', 'target_status', \n",
    "       'business_sector_target']"
   ]
  },
  {
   "cell_type": "code",
   "execution_count": 33,
   "id": "549dbc82",
   "metadata": {
    "ExecuteTime": {
     "end_time": "2021-09-15T07:59:06.268795Z",
     "start_time": "2021-09-15T07:59:06.262111Z"
    }
   },
   "outputs": [],
   "source": [
    "preprocessor = ColumnTransformer([\n",
    "    ('num_transformer', num_transformer, ['acquisition_count']),\n",
    "    ('cat_transformer', cat_transformer, cat_features)], remainder='passthrough')"
   ]
  },
  {
   "cell_type": "markdown",
   "id": "afc084be",
   "metadata": {},
   "source": [
    "## Baseline"
   ]
  },
  {
   "cell_type": "code",
   "execution_count": 34,
   "id": "87700c7d",
   "metadata": {
    "ExecuteTime": {
     "end_time": "2021-09-14T11:30:25.170904Z",
     "start_time": "2021-09-14T11:30:25.165802Z"
    }
   },
   "outputs": [],
   "source": [
    "baseline_model_mean = DummyRegressor(strategy=\"mean\") "
   ]
  },
  {
   "cell_type": "code",
   "execution_count": 35,
   "id": "919d1f78",
   "metadata": {
    "ExecuteTime": {
     "end_time": "2021-09-14T11:30:25.554822Z",
     "start_time": "2021-09-14T11:30:25.522917Z"
    }
   },
   "outputs": [
    {
     "data": {
      "text/plain": [
       "-0.0005477136768966328"
      ]
     },
     "execution_count": 35,
     "metadata": {},
     "output_type": "execute_result"
    }
   ],
   "source": [
    "cross_val_score(baseline_model_mean, X_train, y_train, cv=5, scoring='r2').mean()"
   ]
  },
  {
   "cell_type": "code",
   "execution_count": 36,
   "id": "c58bc95f",
   "metadata": {
    "ExecuteTime": {
     "end_time": "2021-09-14T11:30:26.064126Z",
     "start_time": "2021-09-14T11:30:26.025686Z"
    }
   },
   "outputs": [
    {
     "data": {
      "text/plain": [
       "-0.0021237193472723316"
      ]
     },
     "execution_count": 36,
     "metadata": {},
     "output_type": "execute_result"
    }
   ],
   "source": [
    "cross_val_score(baseline_model_mean, X_train, y_train, cv=5, scoring='neg_mean_squared_error').mean()"
   ]
  },
  {
   "cell_type": "markdown",
   "id": "865c29e4",
   "metadata": {},
   "source": [
    "## SVR"
   ]
  },
  {
   "cell_type": "code",
   "execution_count": 34,
   "id": "598d3590",
   "metadata": {
    "ExecuteTime": {
     "end_time": "2021-09-15T07:59:13.772652Z",
     "start_time": "2021-09-15T07:59:13.768668Z"
    }
   },
   "outputs": [],
   "source": [
    "model= SVR()"
   ]
  },
  {
   "cell_type": "code",
   "execution_count": 35,
   "id": "b4597687",
   "metadata": {
    "ExecuteTime": {
     "end_time": "2021-09-15T07:59:14.151183Z",
     "start_time": "2021-09-15T07:59:14.144958Z"
    }
   },
   "outputs": [],
   "source": [
    "pipe = Pipeline([\n",
    "    ('preprocessing', preprocessor),\n",
    "    ('model', model)])"
   ]
  },
  {
   "cell_type": "code",
   "execution_count": 36,
   "id": "ed077e28",
   "metadata": {
    "ExecuteTime": {
     "end_time": "2021-09-15T07:59:14.322008Z",
     "start_time": "2021-09-15T07:59:14.313577Z"
    }
   },
   "outputs": [],
   "source": [
    "# Hyperparameter Grid\n",
    "grid = {'model__kernel': ['linear', 'rbf'],\n",
    "        'model__gamma':  [2e-15, 2e-10, 2e-5, 2, 2e3],\n",
    "        'model__C': [2e-5,2e-3,2, 2e5, 2e15]}"
   ]
  },
  {
   "cell_type": "code",
   "execution_count": 37,
   "id": "2cfb746f",
   "metadata": {
    "ExecuteTime": {
     "end_time": "2021-09-15T07:59:15.787127Z",
     "start_time": "2021-09-15T07:59:15.774412Z"
    }
   },
   "outputs": [],
   "source": [
    "search = GridSearchCV(pipe, \n",
    "                      grid, \n",
    "                      scoring = ['neg_mean_squared_error', 'r2','neg_mean_absolute_error'],\n",
    "                      refit='neg_mean_squared_error',\n",
    "                      cv = 5,\n",
    "                      n_jobs=-1) "
   ]
  },
  {
   "cell_type": "code",
   "execution_count": null,
   "id": "d8e3f8b3",
   "metadata": {
    "ExecuteTime": {
     "start_time": "2021-09-15T07:59:15.977Z"
    }
   },
   "outputs": [],
   "source": [
    "# Fit data to Grid Search\n",
    "search.fit(X_train,y_train);"
   ]
  },
  {
   "cell_type": "code",
   "execution_count": null,
   "id": "9e226da5",
   "metadata": {
    "ExecuteTime": {
     "start_time": "2021-09-15T07:59:17.345Z"
    }
   },
   "outputs": [],
   "source": [
    "# Best score 1\n",
    "search.best_score_"
   ]
  },
  {
   "cell_type": "code",
   "execution_count": null,
   "id": "9234bfac",
   "metadata": {
    "ExecuteTime": {
     "start_time": "2021-09-15T07:59:17.648Z"
    }
   },
   "outputs": [],
   "source": [
    "search.best_params_"
   ]
  },
  {
   "cell_type": "code",
   "execution_count": null,
   "id": "35082d65",
   "metadata": {},
   "outputs": [],
   "source": []
  }
 ],
 "metadata": {
  "kernelspec": {
   "display_name": "Python 3 (ipykernel)",
   "language": "python",
   "name": "python3"
  },
  "language_info": {
   "codemirror_mode": {
    "name": "ipython",
    "version": 3
   },
   "file_extension": ".py",
   "mimetype": "text/x-python",
   "name": "python",
   "nbconvert_exporter": "python",
   "pygments_lexer": "ipython3",
   "version": "3.8.6"
  },
  "toc": {
   "base_numbering": 1,
   "nav_menu": {},
   "number_sections": true,
   "sideBar": true,
   "skip_h1_title": false,
   "title_cell": "Table of Contents",
   "title_sidebar": "Contents",
   "toc_cell": false,
   "toc_position": {},
   "toc_section_display": true,
   "toc_window_display": false
  }
 },
 "nbformat": 4,
 "nbformat_minor": 5
}
