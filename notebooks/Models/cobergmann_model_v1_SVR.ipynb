{
 "cells": [
  {
   "cell_type": "code",
   "execution_count": 33,
   "id": "a30b4ee7",
   "metadata": {
    "ExecuteTime": {
     "end_time": "2021-09-15T07:58:55.059305Z",
     "start_time": "2021-09-15T07:58:55.047452Z"
    }
   },
   "outputs": [],
   "source": [
    "from sklearn.preprocessing import OneHotEncoder\n",
    "from sklearn.compose import ColumnTransformer\n",
    "import numpy as np\n",
    "import pandas as pd\n",
    "from sklearn.model_selection import train_test_split\n",
    "from sklearn.linear_model import LinearRegression\n",
    "from sklearn.model_selection import cross_val_score\n",
    "from sklearn.pipeline import Pipeline\n",
    "from sklearn.ensemble import RandomForestRegressor\n",
    "from xgboost import XGBRegressor\n",
    "from sklearn.metrics import r2_score,mean_squared_error\n",
    "from sklearn.model_selection import GridSearchCV\n",
    "from sklearn.linear_model import ElasticNet\n",
    "from sklearn.dummy import DummyRegressor\n",
    "import xgboost as xgb\n",
    "from sklearn.preprocessing import MinMaxScaler\n",
    "from sklearn.svm import SVR\n",
    "from sklearn.linear_model import Ridge"
   ]
  },
  {
   "cell_type": "code",
   "execution_count": 34,
   "id": "4b853f21",
   "metadata": {
    "ExecuteTime": {
     "end_time": "2021-09-15T07:58:56.258987Z",
     "start_time": "2021-09-15T07:58:56.110021Z"
    }
   },
   "outputs": [],
   "source": [
    "data = pd.read_csv('../../MA_PREDICTOR/data/ma_data_car_clean.csv')"
   ]
  },
  {
   "cell_type": "code",
   "execution_count": 35,
   "id": "ee599922",
   "metadata": {
    "ExecuteTime": {
     "end_time": "2021-09-15T07:58:57.844407Z",
     "start_time": "2021-09-15T07:58:57.828767Z"
    },
    "scrolled": true
   },
   "outputs": [],
   "source": [
    "data.drop('month', inplace=True, axis=1)"
   ]
  },
  {
   "cell_type": "code",
   "execution_count": 36,
   "id": "a910692f",
   "metadata": {
    "ExecuteTime": {
     "end_time": "2021-09-15T07:58:58.996228Z",
     "start_time": "2021-09-15T07:58:58.948599Z"
    }
   },
   "outputs": [
    {
     "data": {
      "text/html": [
       "<div>\n",
       "<style scoped>\n",
       "    .dataframe tbody tr th:only-of-type {\n",
       "        vertical-align: middle;\n",
       "    }\n",
       "\n",
       "    .dataframe tbody tr th {\n",
       "        vertical-align: top;\n",
       "    }\n",
       "\n",
       "    .dataframe thead th {\n",
       "        text-align: right;\n",
       "    }\n",
       "</style>\n",
       "<table border=\"1\" class=\"dataframe\">\n",
       "  <thead>\n",
       "    <tr style=\"text-align: right;\">\n",
       "      <th></th>\n",
       "      <th>consideration_offered</th>\n",
       "      <th>shares_acquired</th>\n",
       "      <th>shares_at_announcement</th>\n",
       "      <th>acquiror_code</th>\n",
       "      <th>target_code</th>\n",
       "      <th>target_status</th>\n",
       "      <th>acquisition_count</th>\n",
       "      <th>bidder_count</th>\n",
       "      <th>cross_border</th>\n",
       "      <th>relatedness</th>\n",
       "      <th>economic_sector_ac</th>\n",
       "      <th>business_sector_ac</th>\n",
       "      <th>economic_sector_target</th>\n",
       "      <th>business_sector_target</th>\n",
       "      <th>car_1</th>\n",
       "      <th>car_3</th>\n",
       "      <th>car_5</th>\n",
       "      <th>car_10</th>\n",
       "    </tr>\n",
       "  </thead>\n",
       "  <tbody>\n",
       "    <tr>\n",
       "      <th>0</th>\n",
       "      <td>Other</td>\n",
       "      <td>full</td>\n",
       "      <td>no</td>\n",
       "      <td>55101010</td>\n",
       "      <td>55301010</td>\n",
       "      <td>others</td>\n",
       "      <td>5</td>\n",
       "      <td>1</td>\n",
       "      <td>cross_border</td>\n",
       "      <td>economic_sector</td>\n",
       "      <td>Financials</td>\n",
       "      <td>Banking &amp; Investment Services</td>\n",
       "      <td>Financials</td>\n",
       "      <td>Insurance</td>\n",
       "      <td>-0.002947</td>\n",
       "      <td>-0.000599</td>\n",
       "      <td>-0.019639</td>\n",
       "      <td>-0.007640</td>\n",
       "    </tr>\n",
       "    <tr>\n",
       "      <th>1</th>\n",
       "      <td>Other</td>\n",
       "      <td>full</td>\n",
       "      <td>no</td>\n",
       "      <td>55101010</td>\n",
       "      <td>55301010</td>\n",
       "      <td>others</td>\n",
       "      <td>6</td>\n",
       "      <td>1</td>\n",
       "      <td>cross_border</td>\n",
       "      <td>economic_sector</td>\n",
       "      <td>Financials</td>\n",
       "      <td>Banking &amp; Investment Services</td>\n",
       "      <td>Financials</td>\n",
       "      <td>Insurance</td>\n",
       "      <td>-0.002947</td>\n",
       "      <td>-0.000599</td>\n",
       "      <td>-0.019639</td>\n",
       "      <td>-0.007640</td>\n",
       "    </tr>\n",
       "    <tr>\n",
       "      <th>2</th>\n",
       "      <td>Other</td>\n",
       "      <td>full</td>\n",
       "      <td>no</td>\n",
       "      <td>52102050</td>\n",
       "      <td>53205020</td>\n",
       "      <td>others</td>\n",
       "      <td>22</td>\n",
       "      <td>1</td>\n",
       "      <td>cross_border</td>\n",
       "      <td>not_related</td>\n",
       "      <td>Industrials</td>\n",
       "      <td>Industrial Goods</td>\n",
       "      <td>Consumer Cyclicals</td>\n",
       "      <td>Cyclical Consumer Products</td>\n",
       "      <td>0.006169</td>\n",
       "      <td>0.000123</td>\n",
       "      <td>-0.020599</td>\n",
       "      <td>-0.001150</td>\n",
       "    </tr>\n",
       "    <tr>\n",
       "      <th>3</th>\n",
       "      <td>Other</td>\n",
       "      <td>full</td>\n",
       "      <td>no</td>\n",
       "      <td>54201010</td>\n",
       "      <td>56201040</td>\n",
       "      <td>others</td>\n",
       "      <td>34</td>\n",
       "      <td>1</td>\n",
       "      <td>cross_border</td>\n",
       "      <td>not_related</td>\n",
       "      <td>Consumer Non-Cyclicals</td>\n",
       "      <td>Personal &amp; Household Products &amp; Services</td>\n",
       "      <td>Healthcare</td>\n",
       "      <td>Pharmaceuticals &amp; Medical Research</td>\n",
       "      <td>0.007969</td>\n",
       "      <td>0.029287</td>\n",
       "      <td>0.009896</td>\n",
       "      <td>0.028176</td>\n",
       "    </tr>\n",
       "    <tr>\n",
       "      <th>4</th>\n",
       "      <td>Other</td>\n",
       "      <td>full</td>\n",
       "      <td>no</td>\n",
       "      <td>52102050</td>\n",
       "      <td>53205020</td>\n",
       "      <td>others</td>\n",
       "      <td>23</td>\n",
       "      <td>1</td>\n",
       "      <td>cross_border</td>\n",
       "      <td>not_related</td>\n",
       "      <td>Industrials</td>\n",
       "      <td>Industrial Goods</td>\n",
       "      <td>Consumer Cyclicals</td>\n",
       "      <td>Cyclical Consumer Products</td>\n",
       "      <td>0.006169</td>\n",
       "      <td>0.000123</td>\n",
       "      <td>-0.020599</td>\n",
       "      <td>-0.001150</td>\n",
       "    </tr>\n",
       "  </tbody>\n",
       "</table>\n",
       "</div>"
      ],
      "text/plain": [
       "  consideration_offered shares_acquired shares_at_announcement  acquiror_code  \\\n",
       "0                 Other            full                     no       55101010   \n",
       "1                 Other            full                     no       55101010   \n",
       "2                 Other            full                     no       52102050   \n",
       "3                 Other            full                     no       54201010   \n",
       "4                 Other            full                     no       52102050   \n",
       "\n",
       "   target_code target_status  acquisition_count  bidder_count  cross_border  \\\n",
       "0     55301010        others                  5             1  cross_border   \n",
       "1     55301010        others                  6             1  cross_border   \n",
       "2     53205020        others                 22             1  cross_border   \n",
       "3     56201040        others                 34             1  cross_border   \n",
       "4     53205020        others                 23             1  cross_border   \n",
       "\n",
       "       relatedness      economic_sector_ac  \\\n",
       "0  economic_sector              Financials   \n",
       "1  economic_sector              Financials   \n",
       "2      not_related             Industrials   \n",
       "3      not_related  Consumer Non-Cyclicals   \n",
       "4      not_related             Industrials   \n",
       "\n",
       "                         business_sector_ac economic_sector_target  \\\n",
       "0             Banking & Investment Services             Financials   \n",
       "1             Banking & Investment Services             Financials   \n",
       "2                          Industrial Goods     Consumer Cyclicals   \n",
       "3  Personal & Household Products & Services             Healthcare   \n",
       "4                          Industrial Goods     Consumer Cyclicals   \n",
       "\n",
       "               business_sector_target     car_1     car_3     car_5    car_10  \n",
       "0                           Insurance -0.002947 -0.000599 -0.019639 -0.007640  \n",
       "1                           Insurance -0.002947 -0.000599 -0.019639 -0.007640  \n",
       "2          Cyclical Consumer Products  0.006169  0.000123 -0.020599 -0.001150  \n",
       "3  Pharmaceuticals & Medical Research  0.007969  0.029287  0.009896  0.028176  \n",
       "4          Cyclical Consumer Products  0.006169  0.000123 -0.020599 -0.001150  "
      ]
     },
     "execution_count": 36,
     "metadata": {},
     "output_type": "execute_result"
    }
   ],
   "source": [
    "data.head()"
   ]
  },
  {
   "cell_type": "markdown",
   "id": "5c808410",
   "metadata": {},
   "source": [
    "scale the acq count\n"
   ]
  },
  {
   "cell_type": "code",
   "execution_count": 37,
   "id": "e7aae6af",
   "metadata": {
    "ExecuteTime": {
     "end_time": "2021-09-15T07:59:00.869625Z",
     "start_time": "2021-09-15T07:59:00.861875Z"
    },
    "scrolled": false
   },
   "outputs": [
    {
     "data": {
      "text/plain": [
       "Index(['consideration_offered', 'shares_acquired', 'shares_at_announcement',\n",
       "       'acquiror_code', 'target_code', 'target_status', 'acquisition_count',\n",
       "       'bidder_count', 'cross_border', 'relatedness', 'economic_sector_ac',\n",
       "       'business_sector_ac', 'economic_sector_target',\n",
       "       'business_sector_target', 'car_1', 'car_3', 'car_5', 'car_10'],\n",
       "      dtype='object')"
      ]
     },
     "execution_count": 37,
     "metadata": {},
     "output_type": "execute_result"
    }
   ],
   "source": [
    "data.columns"
   ]
  },
  {
   "cell_type": "code",
   "execution_count": 38,
   "id": "43c916a5",
   "metadata": {
    "ExecuteTime": {
     "end_time": "2021-09-15T07:59:01.098753Z",
     "start_time": "2021-09-15T07:59:01.093969Z"
    }
   },
   "outputs": [],
   "source": [
    "y = data['car_1']"
   ]
  },
  {
   "cell_type": "code",
   "execution_count": 39,
   "id": "6c30c162",
   "metadata": {
    "ExecuteTime": {
     "end_time": "2021-09-15T07:59:01.339948Z",
     "start_time": "2021-09-15T07:59:01.327689Z"
    }
   },
   "outputs": [],
   "source": [
    "X = data[['consideration_offered', 'shares_acquired', 'shares_at_announcement',\n",
    "       'acquiror_code', 'target_code', 'target_status', 'acquisition_count',\n",
    "       'bidder_count', 'cross_border', 'relatedness', 'economic_sector_ac',\n",
    "       'business_sector_ac', 'economic_sector_target',\n",
    "       'business_sector_target']]"
   ]
  },
  {
   "cell_type": "markdown",
   "id": "8588e22d",
   "metadata": {},
   "source": [
    "# Splitting of the dataset"
   ]
  },
  {
   "cell_type": "code",
   "execution_count": 40,
   "id": "635d5f59",
   "metadata": {
    "ExecuteTime": {
     "end_time": "2021-09-15T07:59:04.354009Z",
     "start_time": "2021-09-15T07:59:04.329133Z"
    }
   },
   "outputs": [],
   "source": [
    "from sklearn.model_selection import train_test_split\n",
    "X_train, X_test, y_train, y_test = train_test_split(X,y, test_size=0.3, random_state=0)"
   ]
  },
  {
   "cell_type": "markdown",
   "id": "5bb6e8cd",
   "metadata": {},
   "source": [
    "# Pipeline and GridSearch"
   ]
  },
  {
   "cell_type": "code",
   "execution_count": 41,
   "id": "751262e6",
   "metadata": {
    "ExecuteTime": {
     "end_time": "2021-09-15T07:59:05.684479Z",
     "start_time": "2021-09-15T07:59:05.679659Z"
    }
   },
   "outputs": [],
   "source": [
    "cat_transformer = OneHotEncoder(handle_unknown='ignore')"
   ]
  },
  {
   "cell_type": "code",
   "execution_count": 42,
   "id": "2fd543b4",
   "metadata": {
    "ExecuteTime": {
     "end_time": "2021-09-15T07:59:05.850617Z",
     "start_time": "2021-09-15T07:59:05.845344Z"
    }
   },
   "outputs": [],
   "source": [
    "num_transformer= MinMaxScaler()"
   ]
  },
  {
   "cell_type": "code",
   "execution_count": 43,
   "id": "062890ff",
   "metadata": {
    "ExecuteTime": {
     "end_time": "2021-09-15T07:59:06.052720Z",
     "start_time": "2021-09-15T07:59:06.046411Z"
    }
   },
   "outputs": [],
   "source": [
    "cat_features=['consideration_offered', 'shares_acquired', 'shares_at_announcement', 'cross_border', 'relatedness',\n",
    "       'economic_sector_ac', 'business_sector_ac', 'economic_sector_target', 'target_status', \n",
    "       'business_sector_target']"
   ]
  },
  {
   "cell_type": "code",
   "execution_count": 44,
   "id": "549dbc82",
   "metadata": {
    "ExecuteTime": {
     "end_time": "2021-09-15T07:59:06.268795Z",
     "start_time": "2021-09-15T07:59:06.262111Z"
    }
   },
   "outputs": [],
   "source": [
    "preprocessor = ColumnTransformer([\n",
    "    ('num_transformer', num_transformer, ['acquisition_count']),\n",
    "    ('cat_transformer', cat_transformer, cat_features)], remainder='passthrough')"
   ]
  },
  {
   "cell_type": "markdown",
   "id": "afc084be",
   "metadata": {},
   "source": [
    "## Baseline"
   ]
  },
  {
   "cell_type": "code",
   "execution_count": 45,
   "id": "87700c7d",
   "metadata": {
    "ExecuteTime": {
     "end_time": "2021-09-14T11:30:25.170904Z",
     "start_time": "2021-09-14T11:30:25.165802Z"
    }
   },
   "outputs": [],
   "source": [
    "baseline_model_mean = DummyRegressor(strategy=\"mean\") "
   ]
  },
  {
   "cell_type": "code",
   "execution_count": 46,
   "id": "919d1f78",
   "metadata": {
    "ExecuteTime": {
     "end_time": "2021-09-14T11:30:25.554822Z",
     "start_time": "2021-09-14T11:30:25.522917Z"
    }
   },
   "outputs": [
    {
     "data": {
      "text/plain": [
       "-0.0005246333864007635"
      ]
     },
     "execution_count": 46,
     "metadata": {},
     "output_type": "execute_result"
    }
   ],
   "source": [
    "cross_val_score(baseline_model_mean, X_train, y_train, cv=5, scoring='r2').mean()"
   ]
  },
  {
   "cell_type": "code",
   "execution_count": 47,
   "id": "c58bc95f",
   "metadata": {
    "ExecuteTime": {
     "end_time": "2021-09-14T11:30:26.064126Z",
     "start_time": "2021-09-14T11:30:26.025686Z"
    }
   },
   "outputs": [
    {
     "data": {
      "text/plain": [
       "-0.0018494774855108622"
      ]
     },
     "execution_count": 47,
     "metadata": {},
     "output_type": "execute_result"
    }
   ],
   "source": [
    "cross_val_score(baseline_model_mean, X_train, y_train, cv=5, scoring='neg_mean_squared_error').mean()"
   ]
  },
  {
   "cell_type": "markdown",
   "id": "865c29e4",
   "metadata": {},
   "source": [
    "## SVR"
   ]
  },
  {
   "cell_type": "code",
   "execution_count": 48,
   "id": "598d3590",
   "metadata": {
    "ExecuteTime": {
     "end_time": "2021-09-15T07:59:13.772652Z",
     "start_time": "2021-09-15T07:59:13.768668Z"
    }
   },
   "outputs": [],
   "source": [
    "model= SVR()"
   ]
  },
  {
   "cell_type": "code",
   "execution_count": 49,
   "id": "b4597687",
   "metadata": {
    "ExecuteTime": {
     "end_time": "2021-09-15T07:59:14.151183Z",
     "start_time": "2021-09-15T07:59:14.144958Z"
    }
   },
   "outputs": [],
   "source": [
    "pipe = Pipeline([\n",
    "    ('preprocessing', preprocessor),\n",
    "    ('model', model)])"
   ]
  },
  {
   "cell_type": "code",
   "execution_count": 50,
   "id": "ed077e28",
   "metadata": {
    "ExecuteTime": {
     "end_time": "2021-09-15T07:59:14.322008Z",
     "start_time": "2021-09-15T07:59:14.313577Z"
    }
   },
   "outputs": [],
   "source": [
    "# Old hyperparameter Grid\n",
    "grid = {'model__kernel': ['linear', 'rbf'],\n",
    "        'model__gamma':  [2e-15, 2e-10, 2e-5, 2, 2e3],\n",
    "        'model__C': [2e-5,2e-3,2, 2e5, 2e15]}"
   ]
  },
  {
   "cell_type": "code",
   "execution_count": 54,
   "id": "991cb702",
   "metadata": {},
   "outputs": [],
   "source": [
    "# New hyperparameter Grid\n",
    "grid = {'model__kernel': ['linear'],\n",
    "        'model__gamma':  [2e-5, 2, 2e3],\n",
    "        'model__C': [2e-5, 2, 2e5]}"
   ]
  },
  {
   "cell_type": "code",
   "execution_count": 55,
   "id": "2cfb746f",
   "metadata": {
    "ExecuteTime": {
     "end_time": "2021-09-15T07:59:15.787127Z",
     "start_time": "2021-09-15T07:59:15.774412Z"
    }
   },
   "outputs": [],
   "source": [
    "search = GridSearchCV(pipe, \n",
    "                      grid, \n",
    "                      scoring=['neg_mean_squared_error', 'r2', 'neg_mean_absolute_error'],\n",
    "                      refit='neg_mean_squared_error',\n",
    "                      cv=5,\n",
    "                      n_jobs=-1)"
   ]
  },
  {
   "cell_type": "code",
   "execution_count": 56,
   "id": "d8e3f8b3",
   "metadata": {
    "ExecuteTime": {
     "start_time": "2021-09-15T07:59:15.977Z"
    }
   },
   "outputs": [
    {
     "ename": "KeyboardInterrupt",
     "evalue": "",
     "output_type": "error",
     "traceback": [
      "\u001b[0;31m---------------------------------------------------------------------------\u001b[0m",
      "\u001b[0;31mKeyboardInterrupt\u001b[0m                         Traceback (most recent call last)",
      "\u001b[0;32m/var/folders/z8/077xt3wd30j28k4_3vtz7gn00000gn/T/ipykernel_26906/3274316684.py\u001b[0m in \u001b[0;36m<module>\u001b[0;34m\u001b[0m\n\u001b[1;32m      1\u001b[0m \u001b[0;31m# Fit data to Grid Search\u001b[0m\u001b[0;34m\u001b[0m\u001b[0;34m\u001b[0m\u001b[0;34m\u001b[0m\u001b[0m\n\u001b[0;32m----> 2\u001b[0;31m \u001b[0msearch\u001b[0m\u001b[0;34m.\u001b[0m\u001b[0mfit\u001b[0m\u001b[0;34m(\u001b[0m\u001b[0mX_train\u001b[0m\u001b[0;34m,\u001b[0m\u001b[0my_train\u001b[0m\u001b[0;34m)\u001b[0m\u001b[0;34m;\u001b[0m\u001b[0;34m\u001b[0m\u001b[0;34m\u001b[0m\u001b[0m\n\u001b[0m",
      "\u001b[0;32m~/.pyenv/versions/3.8.6/envs/MA_PREDICTOR/lib/python3.8/site-packages/sklearn/utils/validation.py\u001b[0m in \u001b[0;36minner_f\u001b[0;34m(*args, **kwargs)\u001b[0m\n\u001b[1;32m     61\u001b[0m             \u001b[0mextra_args\u001b[0m \u001b[0;34m=\u001b[0m \u001b[0mlen\u001b[0m\u001b[0;34m(\u001b[0m\u001b[0margs\u001b[0m\u001b[0;34m)\u001b[0m \u001b[0;34m-\u001b[0m \u001b[0mlen\u001b[0m\u001b[0;34m(\u001b[0m\u001b[0mall_args\u001b[0m\u001b[0;34m)\u001b[0m\u001b[0;34m\u001b[0m\u001b[0;34m\u001b[0m\u001b[0m\n\u001b[1;32m     62\u001b[0m             \u001b[0;32mif\u001b[0m \u001b[0mextra_args\u001b[0m \u001b[0;34m<=\u001b[0m \u001b[0;36m0\u001b[0m\u001b[0;34m:\u001b[0m\u001b[0;34m\u001b[0m\u001b[0;34m\u001b[0m\u001b[0m\n\u001b[0;32m---> 63\u001b[0;31m                 \u001b[0;32mreturn\u001b[0m \u001b[0mf\u001b[0m\u001b[0;34m(\u001b[0m\u001b[0;34m*\u001b[0m\u001b[0margs\u001b[0m\u001b[0;34m,\u001b[0m \u001b[0;34m**\u001b[0m\u001b[0mkwargs\u001b[0m\u001b[0;34m)\u001b[0m\u001b[0;34m\u001b[0m\u001b[0;34m\u001b[0m\u001b[0m\n\u001b[0m\u001b[1;32m     64\u001b[0m \u001b[0;34m\u001b[0m\u001b[0m\n\u001b[1;32m     65\u001b[0m             \u001b[0;31m# extra_args > 0\u001b[0m\u001b[0;34m\u001b[0m\u001b[0;34m\u001b[0m\u001b[0;34m\u001b[0m\u001b[0m\n",
      "\u001b[0;32m~/.pyenv/versions/3.8.6/envs/MA_PREDICTOR/lib/python3.8/site-packages/sklearn/model_selection/_search.py\u001b[0m in \u001b[0;36mfit\u001b[0;34m(self, X, y, groups, **fit_params)\u001b[0m\n\u001b[1;32m    839\u001b[0m                 \u001b[0;32mreturn\u001b[0m \u001b[0mresults\u001b[0m\u001b[0;34m\u001b[0m\u001b[0;34m\u001b[0m\u001b[0m\n\u001b[1;32m    840\u001b[0m \u001b[0;34m\u001b[0m\u001b[0m\n\u001b[0;32m--> 841\u001b[0;31m             \u001b[0mself\u001b[0m\u001b[0;34m.\u001b[0m\u001b[0m_run_search\u001b[0m\u001b[0;34m(\u001b[0m\u001b[0mevaluate_candidates\u001b[0m\u001b[0;34m)\u001b[0m\u001b[0;34m\u001b[0m\u001b[0;34m\u001b[0m\u001b[0m\n\u001b[0m\u001b[1;32m    842\u001b[0m \u001b[0;34m\u001b[0m\u001b[0m\n\u001b[1;32m    843\u001b[0m             \u001b[0;31m# multimetric is determined here because in the case of a callable\u001b[0m\u001b[0;34m\u001b[0m\u001b[0;34m\u001b[0m\u001b[0;34m\u001b[0m\u001b[0m\n",
      "\u001b[0;32m~/.pyenv/versions/3.8.6/envs/MA_PREDICTOR/lib/python3.8/site-packages/sklearn/model_selection/_search.py\u001b[0m in \u001b[0;36m_run_search\u001b[0;34m(self, evaluate_candidates)\u001b[0m\n\u001b[1;32m   1294\u001b[0m     \u001b[0;32mdef\u001b[0m \u001b[0m_run_search\u001b[0m\u001b[0;34m(\u001b[0m\u001b[0mself\u001b[0m\u001b[0;34m,\u001b[0m \u001b[0mevaluate_candidates\u001b[0m\u001b[0;34m)\u001b[0m\u001b[0;34m:\u001b[0m\u001b[0;34m\u001b[0m\u001b[0;34m\u001b[0m\u001b[0m\n\u001b[1;32m   1295\u001b[0m         \u001b[0;34m\"\"\"Search all candidates in param_grid\"\"\"\u001b[0m\u001b[0;34m\u001b[0m\u001b[0;34m\u001b[0m\u001b[0m\n\u001b[0;32m-> 1296\u001b[0;31m         \u001b[0mevaluate_candidates\u001b[0m\u001b[0;34m(\u001b[0m\u001b[0mParameterGrid\u001b[0m\u001b[0;34m(\u001b[0m\u001b[0mself\u001b[0m\u001b[0;34m.\u001b[0m\u001b[0mparam_grid\u001b[0m\u001b[0;34m)\u001b[0m\u001b[0;34m)\u001b[0m\u001b[0;34m\u001b[0m\u001b[0;34m\u001b[0m\u001b[0m\n\u001b[0m\u001b[1;32m   1297\u001b[0m \u001b[0;34m\u001b[0m\u001b[0m\n\u001b[1;32m   1298\u001b[0m \u001b[0;34m\u001b[0m\u001b[0m\n",
      "\u001b[0;32m~/.pyenv/versions/3.8.6/envs/MA_PREDICTOR/lib/python3.8/site-packages/sklearn/model_selection/_search.py\u001b[0m in \u001b[0;36mevaluate_candidates\u001b[0;34m(candidate_params, cv, more_results)\u001b[0m\n\u001b[1;32m    793\u001b[0m                               n_splits, n_candidates, n_candidates * n_splits))\n\u001b[1;32m    794\u001b[0m \u001b[0;34m\u001b[0m\u001b[0m\n\u001b[0;32m--> 795\u001b[0;31m                 out = parallel(delayed(_fit_and_score)(clone(base_estimator),\n\u001b[0m\u001b[1;32m    796\u001b[0m                                                        \u001b[0mX\u001b[0m\u001b[0;34m,\u001b[0m \u001b[0my\u001b[0m\u001b[0;34m,\u001b[0m\u001b[0;34m\u001b[0m\u001b[0;34m\u001b[0m\u001b[0m\n\u001b[1;32m    797\u001b[0m                                                        \u001b[0mtrain\u001b[0m\u001b[0;34m=\u001b[0m\u001b[0mtrain\u001b[0m\u001b[0;34m,\u001b[0m \u001b[0mtest\u001b[0m\u001b[0;34m=\u001b[0m\u001b[0mtest\u001b[0m\u001b[0;34m,\u001b[0m\u001b[0;34m\u001b[0m\u001b[0;34m\u001b[0m\u001b[0m\n",
      "\u001b[0;32m~/.pyenv/versions/3.8.6/envs/MA_PREDICTOR/lib/python3.8/site-packages/joblib/parallel.py\u001b[0m in \u001b[0;36m__call__\u001b[0;34m(self, iterable)\u001b[0m\n\u001b[1;32m   1052\u001b[0m \u001b[0;34m\u001b[0m\u001b[0m\n\u001b[1;32m   1053\u001b[0m             \u001b[0;32mwith\u001b[0m \u001b[0mself\u001b[0m\u001b[0;34m.\u001b[0m\u001b[0m_backend\u001b[0m\u001b[0;34m.\u001b[0m\u001b[0mretrieval_context\u001b[0m\u001b[0;34m(\u001b[0m\u001b[0;34m)\u001b[0m\u001b[0;34m:\u001b[0m\u001b[0;34m\u001b[0m\u001b[0;34m\u001b[0m\u001b[0m\n\u001b[0;32m-> 1054\u001b[0;31m                 \u001b[0mself\u001b[0m\u001b[0;34m.\u001b[0m\u001b[0mretrieve\u001b[0m\u001b[0;34m(\u001b[0m\u001b[0;34m)\u001b[0m\u001b[0;34m\u001b[0m\u001b[0;34m\u001b[0m\u001b[0m\n\u001b[0m\u001b[1;32m   1055\u001b[0m             \u001b[0;31m# Make sure that we get a last message telling us we are done\u001b[0m\u001b[0;34m\u001b[0m\u001b[0;34m\u001b[0m\u001b[0;34m\u001b[0m\u001b[0m\n\u001b[1;32m   1056\u001b[0m             \u001b[0melapsed_time\u001b[0m \u001b[0;34m=\u001b[0m \u001b[0mtime\u001b[0m\u001b[0;34m.\u001b[0m\u001b[0mtime\u001b[0m\u001b[0;34m(\u001b[0m\u001b[0;34m)\u001b[0m \u001b[0;34m-\u001b[0m \u001b[0mself\u001b[0m\u001b[0;34m.\u001b[0m\u001b[0m_start_time\u001b[0m\u001b[0;34m\u001b[0m\u001b[0;34m\u001b[0m\u001b[0m\n",
      "\u001b[0;32m~/.pyenv/versions/3.8.6/envs/MA_PREDICTOR/lib/python3.8/site-packages/joblib/parallel.py\u001b[0m in \u001b[0;36mretrieve\u001b[0;34m(self)\u001b[0m\n\u001b[1;32m    931\u001b[0m             \u001b[0;32mtry\u001b[0m\u001b[0;34m:\u001b[0m\u001b[0;34m\u001b[0m\u001b[0;34m\u001b[0m\u001b[0m\n\u001b[1;32m    932\u001b[0m                 \u001b[0;32mif\u001b[0m \u001b[0mgetattr\u001b[0m\u001b[0;34m(\u001b[0m\u001b[0mself\u001b[0m\u001b[0;34m.\u001b[0m\u001b[0m_backend\u001b[0m\u001b[0;34m,\u001b[0m \u001b[0;34m'supports_timeout'\u001b[0m\u001b[0;34m,\u001b[0m \u001b[0;32mFalse\u001b[0m\u001b[0;34m)\u001b[0m\u001b[0;34m:\u001b[0m\u001b[0;34m\u001b[0m\u001b[0;34m\u001b[0m\u001b[0m\n\u001b[0;32m--> 933\u001b[0;31m                     \u001b[0mself\u001b[0m\u001b[0;34m.\u001b[0m\u001b[0m_output\u001b[0m\u001b[0;34m.\u001b[0m\u001b[0mextend\u001b[0m\u001b[0;34m(\u001b[0m\u001b[0mjob\u001b[0m\u001b[0;34m.\u001b[0m\u001b[0mget\u001b[0m\u001b[0;34m(\u001b[0m\u001b[0mtimeout\u001b[0m\u001b[0;34m=\u001b[0m\u001b[0mself\u001b[0m\u001b[0;34m.\u001b[0m\u001b[0mtimeout\u001b[0m\u001b[0;34m)\u001b[0m\u001b[0;34m)\u001b[0m\u001b[0;34m\u001b[0m\u001b[0;34m\u001b[0m\u001b[0m\n\u001b[0m\u001b[1;32m    934\u001b[0m                 \u001b[0;32melse\u001b[0m\u001b[0;34m:\u001b[0m\u001b[0;34m\u001b[0m\u001b[0;34m\u001b[0m\u001b[0m\n\u001b[1;32m    935\u001b[0m                     \u001b[0mself\u001b[0m\u001b[0;34m.\u001b[0m\u001b[0m_output\u001b[0m\u001b[0;34m.\u001b[0m\u001b[0mextend\u001b[0m\u001b[0;34m(\u001b[0m\u001b[0mjob\u001b[0m\u001b[0;34m.\u001b[0m\u001b[0mget\u001b[0m\u001b[0;34m(\u001b[0m\u001b[0;34m)\u001b[0m\u001b[0;34m)\u001b[0m\u001b[0;34m\u001b[0m\u001b[0;34m\u001b[0m\u001b[0m\n",
      "\u001b[0;32m~/.pyenv/versions/3.8.6/envs/MA_PREDICTOR/lib/python3.8/site-packages/joblib/_parallel_backends.py\u001b[0m in \u001b[0;36mwrap_future_result\u001b[0;34m(future, timeout)\u001b[0m\n\u001b[1;32m    540\u001b[0m         AsyncResults.get from multiprocessing.\"\"\"\n\u001b[1;32m    541\u001b[0m         \u001b[0;32mtry\u001b[0m\u001b[0;34m:\u001b[0m\u001b[0;34m\u001b[0m\u001b[0;34m\u001b[0m\u001b[0m\n\u001b[0;32m--> 542\u001b[0;31m             \u001b[0;32mreturn\u001b[0m \u001b[0mfuture\u001b[0m\u001b[0;34m.\u001b[0m\u001b[0mresult\u001b[0m\u001b[0;34m(\u001b[0m\u001b[0mtimeout\u001b[0m\u001b[0;34m=\u001b[0m\u001b[0mtimeout\u001b[0m\u001b[0;34m)\u001b[0m\u001b[0;34m\u001b[0m\u001b[0;34m\u001b[0m\u001b[0m\n\u001b[0m\u001b[1;32m    543\u001b[0m         \u001b[0;32mexcept\u001b[0m \u001b[0mCfTimeoutError\u001b[0m \u001b[0;32mas\u001b[0m \u001b[0me\u001b[0m\u001b[0;34m:\u001b[0m\u001b[0;34m\u001b[0m\u001b[0;34m\u001b[0m\u001b[0m\n\u001b[1;32m    544\u001b[0m             \u001b[0;32mraise\u001b[0m \u001b[0mTimeoutError\u001b[0m \u001b[0;32mfrom\u001b[0m \u001b[0me\u001b[0m\u001b[0;34m\u001b[0m\u001b[0;34m\u001b[0m\u001b[0m\n",
      "\u001b[0;32m~/.pyenv/versions/3.8.6/lib/python3.8/concurrent/futures/_base.py\u001b[0m in \u001b[0;36mresult\u001b[0;34m(self, timeout)\u001b[0m\n\u001b[1;32m    432\u001b[0m                 \u001b[0;32mreturn\u001b[0m \u001b[0mself\u001b[0m\u001b[0;34m.\u001b[0m\u001b[0m__get_result\u001b[0m\u001b[0;34m(\u001b[0m\u001b[0;34m)\u001b[0m\u001b[0;34m\u001b[0m\u001b[0;34m\u001b[0m\u001b[0m\n\u001b[1;32m    433\u001b[0m \u001b[0;34m\u001b[0m\u001b[0m\n\u001b[0;32m--> 434\u001b[0;31m             \u001b[0mself\u001b[0m\u001b[0;34m.\u001b[0m\u001b[0m_condition\u001b[0m\u001b[0;34m.\u001b[0m\u001b[0mwait\u001b[0m\u001b[0;34m(\u001b[0m\u001b[0mtimeout\u001b[0m\u001b[0;34m)\u001b[0m\u001b[0;34m\u001b[0m\u001b[0;34m\u001b[0m\u001b[0m\n\u001b[0m\u001b[1;32m    435\u001b[0m \u001b[0;34m\u001b[0m\u001b[0m\n\u001b[1;32m    436\u001b[0m             \u001b[0;32mif\u001b[0m \u001b[0mself\u001b[0m\u001b[0;34m.\u001b[0m\u001b[0m_state\u001b[0m \u001b[0;32min\u001b[0m \u001b[0;34m[\u001b[0m\u001b[0mCANCELLED\u001b[0m\u001b[0;34m,\u001b[0m \u001b[0mCANCELLED_AND_NOTIFIED\u001b[0m\u001b[0;34m]\u001b[0m\u001b[0;34m:\u001b[0m\u001b[0;34m\u001b[0m\u001b[0;34m\u001b[0m\u001b[0m\n",
      "\u001b[0;32m~/.pyenv/versions/3.8.6/lib/python3.8/threading.py\u001b[0m in \u001b[0;36mwait\u001b[0;34m(self, timeout)\u001b[0m\n\u001b[1;32m    300\u001b[0m         \u001b[0;32mtry\u001b[0m\u001b[0;34m:\u001b[0m    \u001b[0;31m# restore state no matter what (e.g., KeyboardInterrupt)\u001b[0m\u001b[0;34m\u001b[0m\u001b[0;34m\u001b[0m\u001b[0m\n\u001b[1;32m    301\u001b[0m             \u001b[0;32mif\u001b[0m \u001b[0mtimeout\u001b[0m \u001b[0;32mis\u001b[0m \u001b[0;32mNone\u001b[0m\u001b[0;34m:\u001b[0m\u001b[0;34m\u001b[0m\u001b[0;34m\u001b[0m\u001b[0m\n\u001b[0;32m--> 302\u001b[0;31m                 \u001b[0mwaiter\u001b[0m\u001b[0;34m.\u001b[0m\u001b[0macquire\u001b[0m\u001b[0;34m(\u001b[0m\u001b[0;34m)\u001b[0m\u001b[0;34m\u001b[0m\u001b[0;34m\u001b[0m\u001b[0m\n\u001b[0m\u001b[1;32m    303\u001b[0m                 \u001b[0mgotit\u001b[0m \u001b[0;34m=\u001b[0m \u001b[0;32mTrue\u001b[0m\u001b[0;34m\u001b[0m\u001b[0;34m\u001b[0m\u001b[0m\n\u001b[1;32m    304\u001b[0m             \u001b[0;32melse\u001b[0m\u001b[0;34m:\u001b[0m\u001b[0;34m\u001b[0m\u001b[0;34m\u001b[0m\u001b[0m\n",
      "\u001b[0;31mKeyboardInterrupt\u001b[0m: "
     ]
    }
   ],
   "source": [
    "# Fit data to Grid Search\n",
    "search.fit(X_train,y_train);"
   ]
  },
  {
   "cell_type": "code",
   "execution_count": null,
   "id": "9e226da5",
   "metadata": {
    "ExecuteTime": {
     "start_time": "2021-09-15T07:59:17.345Z"
    }
   },
   "outputs": [],
   "source": [
    "# Best score 1\n",
    "search.best_score_"
   ]
  },
  {
   "cell_type": "code",
   "execution_count": null,
   "id": "9234bfac",
   "metadata": {
    "ExecuteTime": {
     "start_time": "2021-09-15T07:59:17.648Z"
    }
   },
   "outputs": [],
   "source": [
    "search.best_params_"
   ]
  },
  {
   "cell_type": "code",
   "execution_count": null,
   "id": "f8d82259",
   "metadata": {},
   "outputs": [],
   "source": []
  }
 ],
 "metadata": {
  "kernelspec": {
   "display_name": "Python 3 (ipykernel)",
   "language": "python",
   "name": "python3"
  },
  "language_info": {
   "codemirror_mode": {
    "name": "ipython",
    "version": 3
   },
   "file_extension": ".py",
   "mimetype": "text/x-python",
   "name": "python",
   "nbconvert_exporter": "python",
   "pygments_lexer": "ipython3",
   "version": "3.8.6"
  },
  "toc": {
   "base_numbering": 1,
   "nav_menu": {},
   "number_sections": true,
   "sideBar": true,
   "skip_h1_title": false,
   "title_cell": "Table of Contents",
   "title_sidebar": "Contents",
   "toc_cell": false,
   "toc_position": {},
   "toc_section_display": true,
   "toc_window_display": false
  }
 },
 "nbformat": 4,
 "nbformat_minor": 5
}
