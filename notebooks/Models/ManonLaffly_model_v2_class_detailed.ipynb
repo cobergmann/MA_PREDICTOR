{
 "cells": [
  {
   "cell_type": "code",
   "execution_count": 18,
   "id": "a30b4ee7",
   "metadata": {
    "ExecuteTime": {
     "end_time": "2021-09-15T22:11:30.744068Z",
     "start_time": "2021-09-15T22:11:30.737287Z"
    }
   },
   "outputs": [],
   "source": [
    "from sklearn.preprocessing import OneHotEncoder\n",
    "from sklearn.compose import ColumnTransformer\n",
    "import numpy as np\n",
    "import pandas as pd\n",
    "from sklearn.model_selection import train_test_split\n",
    "from sklearn.model_selection import cross_val_score\n",
    "from sklearn.pipeline import Pipeline\n",
    "from sklearn.model_selection import GridSearchCV\n",
    "from sklearn.dummy import DummyClassifier\n",
    "from sklearn.preprocessing import MinMaxScaler\n",
    "from sklearn.preprocessing import FunctionTransformer\n",
    "from sklearn.preprocessing import LabelEncoder\n",
    "from sklearn.linear_model import SGDClassifier"
   ]
  },
  {
   "cell_type": "code",
   "execution_count": 19,
   "id": "4b853f21",
   "metadata": {
    "ExecuteTime": {
     "end_time": "2021-09-15T22:11:31.105693Z",
     "start_time": "2021-09-15T22:11:31.077096Z"
    }
   },
   "outputs": [],
   "source": [
    "data = pd.read_csv('../../MA_PREDICTOR/data/ma_detailed_data_car_clean.csv')"
   ]
  },
  {
   "cell_type": "code",
   "execution_count": 20,
   "id": "ee599922",
   "metadata": {
    "ExecuteTime": {
     "end_time": "2021-09-15T22:11:31.429787Z",
     "start_time": "2021-09-15T22:11:31.421235Z"
    },
    "scrolled": true
   },
   "outputs": [],
   "source": [
    "data.drop('month', inplace=True, axis=1)"
   ]
  },
  {
   "cell_type": "code",
   "execution_count": 21,
   "id": "a910692f",
   "metadata": {
    "ExecuteTime": {
     "end_time": "2021-09-15T22:11:31.916638Z",
     "start_time": "2021-09-15T22:11:31.898736Z"
    }
   },
   "outputs": [],
   "source": [
    "horizons = [1, 3, 5, 10]\n",
    "for horizon in horizons:\n",
    "    data = data[(abs(data[f'car_{horizon}']) <= 0.3)]"
   ]
  },
  {
   "cell_type": "code",
   "execution_count": 22,
   "id": "f71ccb17",
   "metadata": {
    "ExecuteTime": {
     "end_time": "2021-09-15T22:11:32.866157Z",
     "start_time": "2021-09-15T22:11:32.809231Z"
    }
   },
   "outputs": [
    {
     "data": {
      "text/html": [
       "<div>\n",
       "<style scoped>\n",
       "    .dataframe tbody tr th:only-of-type {\n",
       "        vertical-align: middle;\n",
       "    }\n",
       "\n",
       "    .dataframe tbody tr th {\n",
       "        vertical-align: top;\n",
       "    }\n",
       "\n",
       "    .dataframe thead th {\n",
       "        text-align: right;\n",
       "    }\n",
       "</style>\n",
       "<table border=\"1\" class=\"dataframe\">\n",
       "  <thead>\n",
       "    <tr style=\"text-align: right;\">\n",
       "      <th></th>\n",
       "      <th>announcement_date</th>\n",
       "      <th>target_status</th>\n",
       "      <th>acquisition_count</th>\n",
       "      <th>shares_at_announcement</th>\n",
       "      <th>shares_acquired</th>\n",
       "      <th>consideration_offered</th>\n",
       "      <th>bidder_count</th>\n",
       "      <th>rel_deal_value</th>\n",
       "      <th>cross_border</th>\n",
       "      <th>relatedness</th>\n",
       "      <th>...</th>\n",
       "      <th>business_sector_ac</th>\n",
       "      <th>economic_sector_target</th>\n",
       "      <th>business_sector_target</th>\n",
       "      <th>cluster_category</th>\n",
       "      <th>a_fin_adv_count</th>\n",
       "      <th>t_fin_adv_count</th>\n",
       "      <th>car_1</th>\n",
       "      <th>car_3</th>\n",
       "      <th>car_5</th>\n",
       "      <th>car_10</th>\n",
       "    </tr>\n",
       "  </thead>\n",
       "  <tbody>\n",
       "    <tr>\n",
       "      <th>0</th>\n",
       "      <td>04/01/2005</td>\n",
       "      <td>public</td>\n",
       "      <td>23</td>\n",
       "      <td>no</td>\n",
       "      <td>full</td>\n",
       "      <td>Cash</td>\n",
       "      <td>1</td>\n",
       "      <td>0.024922</td>\n",
       "      <td>cross_border</td>\n",
       "      <td>not_related</td>\n",
       "      <td>...</td>\n",
       "      <td>Food &amp; Drug Retailing</td>\n",
       "      <td>Industrials</td>\n",
       "      <td>Transportation</td>\n",
       "      <td>divestiture</td>\n",
       "      <td>1</td>\n",
       "      <td>0</td>\n",
       "      <td>-0.009362</td>\n",
       "      <td>0.001308</td>\n",
       "      <td>0.018041</td>\n",
       "      <td>0.056428</td>\n",
       "    </tr>\n",
       "    <tr>\n",
       "      <th>1</th>\n",
       "      <td>11/01/2005</td>\n",
       "      <td>public</td>\n",
       "      <td>18</td>\n",
       "      <td>no</td>\n",
       "      <td>full</td>\n",
       "      <td>Other</td>\n",
       "      <td>1</td>\n",
       "      <td>0.008012</td>\n",
       "      <td>cross_border</td>\n",
       "      <td>industry</td>\n",
       "      <td>...</td>\n",
       "      <td>Banking &amp; Investment Services</td>\n",
       "      <td>Financials</td>\n",
       "      <td>Banking &amp; Investment Services</td>\n",
       "      <td>asset_driven_op</td>\n",
       "      <td>0</td>\n",
       "      <td>0</td>\n",
       "      <td>-0.011249</td>\n",
       "      <td>0.004454</td>\n",
       "      <td>0.012696</td>\n",
       "      <td>0.044807</td>\n",
       "    </tr>\n",
       "    <tr>\n",
       "      <th>2</th>\n",
       "      <td>12/01/2005</td>\n",
       "      <td>public</td>\n",
       "      <td>8</td>\n",
       "      <td>no</td>\n",
       "      <td>not_full</td>\n",
       "      <td>Cash</td>\n",
       "      <td>1</td>\n",
       "      <td>0.382792</td>\n",
       "      <td>national</td>\n",
       "      <td>industry</td>\n",
       "      <td>...</td>\n",
       "      <td>Mineral Resources</td>\n",
       "      <td>Basic Materials</td>\n",
       "      <td>Mineral Resources</td>\n",
       "      <td>divestiture</td>\n",
       "      <td>0</td>\n",
       "      <td>0</td>\n",
       "      <td>0.013061</td>\n",
       "      <td>0.056958</td>\n",
       "      <td>0.055917</td>\n",
       "      <td>0.016918</td>\n",
       "    </tr>\n",
       "    <tr>\n",
       "      <th>3</th>\n",
       "      <td>18/01/2005</td>\n",
       "      <td>public</td>\n",
       "      <td>40</td>\n",
       "      <td>no</td>\n",
       "      <td>full</td>\n",
       "      <td>Other</td>\n",
       "      <td>1</td>\n",
       "      <td>0.014665</td>\n",
       "      <td>cross_border</td>\n",
       "      <td>industry</td>\n",
       "      <td>...</td>\n",
       "      <td>Banking &amp; Investment Services</td>\n",
       "      <td>Financials</td>\n",
       "      <td>Banking &amp; Investment Services</td>\n",
       "      <td>asset_driven_op</td>\n",
       "      <td>0</td>\n",
       "      <td>0</td>\n",
       "      <td>0.060476</td>\n",
       "      <td>-0.010042</td>\n",
       "      <td>0.002116</td>\n",
       "      <td>0.040544</td>\n",
       "    </tr>\n",
       "    <tr>\n",
       "      <th>4</th>\n",
       "      <td>26/01/2005</td>\n",
       "      <td>public</td>\n",
       "      <td>0</td>\n",
       "      <td>no</td>\n",
       "      <td>full</td>\n",
       "      <td>Other</td>\n",
       "      <td>1</td>\n",
       "      <td>2.000163</td>\n",
       "      <td>cross_border</td>\n",
       "      <td>industry</td>\n",
       "      <td>...</td>\n",
       "      <td>Energy - Fossil Fuels</td>\n",
       "      <td>Energy</td>\n",
       "      <td>Energy - Fossil Fuels</td>\n",
       "      <td>asset_driven_op</td>\n",
       "      <td>0</td>\n",
       "      <td>0</td>\n",
       "      <td>-0.093760</td>\n",
       "      <td>-0.082288</td>\n",
       "      <td>-0.082288</td>\n",
       "      <td>-0.061740</td>\n",
       "    </tr>\n",
       "    <tr>\n",
       "      <th>...</th>\n",
       "      <td>...</td>\n",
       "      <td>...</td>\n",
       "      <td>...</td>\n",
       "      <td>...</td>\n",
       "      <td>...</td>\n",
       "      <td>...</td>\n",
       "      <td>...</td>\n",
       "      <td>...</td>\n",
       "      <td>...</td>\n",
       "      <td>...</td>\n",
       "      <td>...</td>\n",
       "      <td>...</td>\n",
       "      <td>...</td>\n",
       "      <td>...</td>\n",
       "      <td>...</td>\n",
       "      <td>...</td>\n",
       "      <td>...</td>\n",
       "      <td>...</td>\n",
       "      <td>...</td>\n",
       "      <td>...</td>\n",
       "      <td>...</td>\n",
       "    </tr>\n",
       "    <tr>\n",
       "      <th>3020</th>\n",
       "      <td>16/07/2021</td>\n",
       "      <td>others</td>\n",
       "      <td>9</td>\n",
       "      <td>no</td>\n",
       "      <td>full</td>\n",
       "      <td>Cash</td>\n",
       "      <td>1</td>\n",
       "      <td>0.004449</td>\n",
       "      <td>cross_border</td>\n",
       "      <td>not_related</td>\n",
       "      <td>...</td>\n",
       "      <td>Utilities</td>\n",
       "      <td>Energy</td>\n",
       "      <td>Energy - Fossil Fuels</td>\n",
       "      <td>divestiture</td>\n",
       "      <td>0</td>\n",
       "      <td>1</td>\n",
       "      <td>-0.015629</td>\n",
       "      <td>-0.045382</td>\n",
       "      <td>-0.025400</td>\n",
       "      <td>-0.054948</td>\n",
       "    </tr>\n",
       "    <tr>\n",
       "      <th>3021</th>\n",
       "      <td>19/07/2021</td>\n",
       "      <td>others</td>\n",
       "      <td>1</td>\n",
       "      <td>no</td>\n",
       "      <td>full</td>\n",
       "      <td>Other</td>\n",
       "      <td>1</td>\n",
       "      <td>0.104705</td>\n",
       "      <td>cross_border</td>\n",
       "      <td>industry</td>\n",
       "      <td>...</td>\n",
       "      <td>Software &amp; IT Services</td>\n",
       "      <td>Technology</td>\n",
       "      <td>Software &amp; IT Services</td>\n",
       "      <td>asset_driven_op</td>\n",
       "      <td>0</td>\n",
       "      <td>0</td>\n",
       "      <td>0.088395</td>\n",
       "      <td>0.122123</td>\n",
       "      <td>0.059973</td>\n",
       "      <td>0.066900</td>\n",
       "    </tr>\n",
       "    <tr>\n",
       "      <th>3022</th>\n",
       "      <td>19/07/2021</td>\n",
       "      <td>others</td>\n",
       "      <td>6</td>\n",
       "      <td>no</td>\n",
       "      <td>full</td>\n",
       "      <td>Other</td>\n",
       "      <td>1</td>\n",
       "      <td>0.270094</td>\n",
       "      <td>cross_border</td>\n",
       "      <td>industry</td>\n",
       "      <td>...</td>\n",
       "      <td>Software &amp; IT Services</td>\n",
       "      <td>Technology</td>\n",
       "      <td>Software &amp; IT Services</td>\n",
       "      <td>divestiture</td>\n",
       "      <td>0</td>\n",
       "      <td>0</td>\n",
       "      <td>0.068755</td>\n",
       "      <td>0.110112</td>\n",
       "      <td>0.102726</td>\n",
       "      <td>0.120972</td>\n",
       "    </tr>\n",
       "    <tr>\n",
       "      <th>3023</th>\n",
       "      <td>28/07/2021</td>\n",
       "      <td>others</td>\n",
       "      <td>21</td>\n",
       "      <td>no</td>\n",
       "      <td>full</td>\n",
       "      <td>Cash</td>\n",
       "      <td>1</td>\n",
       "      <td>0.232595</td>\n",
       "      <td>cross_border</td>\n",
       "      <td>not_related</td>\n",
       "      <td>...</td>\n",
       "      <td>Applied Resources</td>\n",
       "      <td>Consumer Cyclicals</td>\n",
       "      <td>Cyclical Consumer Services</td>\n",
       "      <td>divestiture</td>\n",
       "      <td>1</td>\n",
       "      <td>0</td>\n",
       "      <td>0.022186</td>\n",
       "      <td>0.041487</td>\n",
       "      <td>0.041487</td>\n",
       "      <td>0.016503</td>\n",
       "    </tr>\n",
       "    <tr>\n",
       "      <th>3024</th>\n",
       "      <td>13/08/2021</td>\n",
       "      <td>others</td>\n",
       "      <td>1</td>\n",
       "      <td>no</td>\n",
       "      <td>full</td>\n",
       "      <td>Other</td>\n",
       "      <td>1</td>\n",
       "      <td>0.372376</td>\n",
       "      <td>cross_border</td>\n",
       "      <td>business_sector</td>\n",
       "      <td>...</td>\n",
       "      <td>Pharmaceuticals &amp; Medical Research</td>\n",
       "      <td>Healthcare</td>\n",
       "      <td>Pharmaceuticals &amp; Medical Research</td>\n",
       "      <td>divestiture</td>\n",
       "      <td>0</td>\n",
       "      <td>0</td>\n",
       "      <td>0.045619</td>\n",
       "      <td>0.146613</td>\n",
       "      <td>0.231234</td>\n",
       "      <td>0.290762</td>\n",
       "    </tr>\n",
       "  </tbody>\n",
       "</table>\n",
       "<p>2946 rows × 21 columns</p>\n",
       "</div>"
      ],
      "text/plain": [
       "     announcement_date target_status  acquisition_count  \\\n",
       "0           04/01/2005        public                 23   \n",
       "1           11/01/2005        public                 18   \n",
       "2           12/01/2005        public                  8   \n",
       "3           18/01/2005        public                 40   \n",
       "4           26/01/2005        public                  0   \n",
       "...                ...           ...                ...   \n",
       "3020        16/07/2021        others                  9   \n",
       "3021        19/07/2021        others                  1   \n",
       "3022        19/07/2021        others                  6   \n",
       "3023        28/07/2021        others                 21   \n",
       "3024        13/08/2021        others                  1   \n",
       "\n",
       "     shares_at_announcement shares_acquired consideration_offered  \\\n",
       "0                        no            full                  Cash   \n",
       "1                        no            full                 Other   \n",
       "2                        no        not_full                  Cash   \n",
       "3                        no            full                 Other   \n",
       "4                        no            full                 Other   \n",
       "...                     ...             ...                   ...   \n",
       "3020                     no            full                  Cash   \n",
       "3021                     no            full                 Other   \n",
       "3022                     no            full                 Other   \n",
       "3023                     no            full                  Cash   \n",
       "3024                     no            full                 Other   \n",
       "\n",
       "      bidder_count  rel_deal_value  cross_border      relatedness  ...  \\\n",
       "0                1        0.024922  cross_border      not_related  ...   \n",
       "1                1        0.008012  cross_border         industry  ...   \n",
       "2                1        0.382792      national         industry  ...   \n",
       "3                1        0.014665  cross_border         industry  ...   \n",
       "4                1        2.000163  cross_border         industry  ...   \n",
       "...            ...             ...           ...              ...  ...   \n",
       "3020             1        0.004449  cross_border      not_related  ...   \n",
       "3021             1        0.104705  cross_border         industry  ...   \n",
       "3022             1        0.270094  cross_border         industry  ...   \n",
       "3023             1        0.232595  cross_border      not_related  ...   \n",
       "3024             1        0.372376  cross_border  business_sector  ...   \n",
       "\n",
       "                      business_sector_ac economic_sector_target  \\\n",
       "0                  Food & Drug Retailing            Industrials   \n",
       "1          Banking & Investment Services             Financials   \n",
       "2                      Mineral Resources        Basic Materials   \n",
       "3          Banking & Investment Services             Financials   \n",
       "4                  Energy - Fossil Fuels                 Energy   \n",
       "...                                  ...                    ...   \n",
       "3020                           Utilities                 Energy   \n",
       "3021              Software & IT Services             Technology   \n",
       "3022              Software & IT Services             Technology   \n",
       "3023                   Applied Resources     Consumer Cyclicals   \n",
       "3024  Pharmaceuticals & Medical Research             Healthcare   \n",
       "\n",
       "                  business_sector_target cluster_category a_fin_adv_count  \\\n",
       "0                         Transportation      divestiture               1   \n",
       "1          Banking & Investment Services  asset_driven_op               0   \n",
       "2                      Mineral Resources      divestiture               0   \n",
       "3          Banking & Investment Services  asset_driven_op               0   \n",
       "4                  Energy - Fossil Fuels  asset_driven_op               0   \n",
       "...                                  ...              ...             ...   \n",
       "3020               Energy - Fossil Fuels      divestiture               0   \n",
       "3021              Software & IT Services  asset_driven_op               0   \n",
       "3022              Software & IT Services      divestiture               0   \n",
       "3023          Cyclical Consumer Services      divestiture               1   \n",
       "3024  Pharmaceuticals & Medical Research      divestiture               0   \n",
       "\n",
       "      t_fin_adv_count     car_1     car_3     car_5    car_10  \n",
       "0                   0 -0.009362  0.001308  0.018041  0.056428  \n",
       "1                   0 -0.011249  0.004454  0.012696  0.044807  \n",
       "2                   0  0.013061  0.056958  0.055917  0.016918  \n",
       "3                   0  0.060476 -0.010042  0.002116  0.040544  \n",
       "4                   0 -0.093760 -0.082288 -0.082288 -0.061740  \n",
       "...               ...       ...       ...       ...       ...  \n",
       "3020                1 -0.015629 -0.045382 -0.025400 -0.054948  \n",
       "3021                0  0.088395  0.122123  0.059973  0.066900  \n",
       "3022                0  0.068755  0.110112  0.102726  0.120972  \n",
       "3023                0  0.022186  0.041487  0.041487  0.016503  \n",
       "3024                0  0.045619  0.146613  0.231234  0.290762  \n",
       "\n",
       "[2946 rows x 21 columns]"
      ]
     },
     "execution_count": 22,
     "metadata": {},
     "output_type": "execute_result"
    }
   ],
   "source": [
    "data"
   ]
  },
  {
   "cell_type": "code",
   "execution_count": 23,
   "id": "3ce10f8d",
   "metadata": {
    "ExecuteTime": {
     "end_time": "2021-09-15T22:11:40.212203Z",
     "start_time": "2021-09-15T22:11:40.207330Z"
    }
   },
   "outputs": [],
   "source": [
    "data['car_class_1'] = data['car_1']"
   ]
  },
  {
   "cell_type": "code",
   "execution_count": 24,
   "id": "ea844ec1",
   "metadata": {
    "ExecuteTime": {
     "end_time": "2021-09-15T22:11:40.518580Z",
     "start_time": "2021-09-15T22:11:40.512463Z"
    }
   },
   "outputs": [],
   "source": [
    "data['car_class_3'] = data['car_3']"
   ]
  },
  {
   "cell_type": "code",
   "execution_count": 25,
   "id": "6a33250e",
   "metadata": {
    "ExecuteTime": {
     "end_time": "2021-09-15T22:11:40.738647Z",
     "start_time": "2021-09-15T22:11:40.732673Z"
    }
   },
   "outputs": [],
   "source": [
    "data['car_class_5'] = data['car_5']"
   ]
  },
  {
   "cell_type": "code",
   "execution_count": 26,
   "id": "77402056",
   "metadata": {
    "ExecuteTime": {
     "end_time": "2021-09-15T22:11:40.984493Z",
     "start_time": "2021-09-15T22:11:40.977619Z"
    }
   },
   "outputs": [],
   "source": [
    "data['car_class_10'] = data['car_10']"
   ]
  },
  {
   "cell_type": "code",
   "execution_count": 27,
   "id": "fca634db",
   "metadata": {
    "ExecuteTime": {
     "end_time": "2021-09-15T22:11:41.369186Z",
     "start_time": "2021-09-15T22:11:41.296245Z"
    }
   },
   "outputs": [
    {
     "data": {
      "text/html": [
       "<div>\n",
       "<style scoped>\n",
       "    .dataframe tbody tr th:only-of-type {\n",
       "        vertical-align: middle;\n",
       "    }\n",
       "\n",
       "    .dataframe tbody tr th {\n",
       "        vertical-align: top;\n",
       "    }\n",
       "\n",
       "    .dataframe thead th {\n",
       "        text-align: right;\n",
       "    }\n",
       "</style>\n",
       "<table border=\"1\" class=\"dataframe\">\n",
       "  <thead>\n",
       "    <tr style=\"text-align: right;\">\n",
       "      <th></th>\n",
       "      <th>announcement_date</th>\n",
       "      <th>target_status</th>\n",
       "      <th>acquisition_count</th>\n",
       "      <th>shares_at_announcement</th>\n",
       "      <th>shares_acquired</th>\n",
       "      <th>consideration_offered</th>\n",
       "      <th>bidder_count</th>\n",
       "      <th>rel_deal_value</th>\n",
       "      <th>cross_border</th>\n",
       "      <th>relatedness</th>\n",
       "      <th>...</th>\n",
       "      <th>a_fin_adv_count</th>\n",
       "      <th>t_fin_adv_count</th>\n",
       "      <th>car_1</th>\n",
       "      <th>car_3</th>\n",
       "      <th>car_5</th>\n",
       "      <th>car_10</th>\n",
       "      <th>car_class_1</th>\n",
       "      <th>car_class_3</th>\n",
       "      <th>car_class_5</th>\n",
       "      <th>car_class_10</th>\n",
       "    </tr>\n",
       "  </thead>\n",
       "  <tbody>\n",
       "    <tr>\n",
       "      <th>0</th>\n",
       "      <td>04/01/2005</td>\n",
       "      <td>public</td>\n",
       "      <td>23</td>\n",
       "      <td>no</td>\n",
       "      <td>full</td>\n",
       "      <td>Cash</td>\n",
       "      <td>1</td>\n",
       "      <td>0.024922</td>\n",
       "      <td>cross_border</td>\n",
       "      <td>not_related</td>\n",
       "      <td>...</td>\n",
       "      <td>1</td>\n",
       "      <td>0</td>\n",
       "      <td>-0.009362</td>\n",
       "      <td>0.001308</td>\n",
       "      <td>0.018041</td>\n",
       "      <td>0.056428</td>\n",
       "      <td>-0.009362</td>\n",
       "      <td>0.001308</td>\n",
       "      <td>0.018041</td>\n",
       "      <td>0.056428</td>\n",
       "    </tr>\n",
       "    <tr>\n",
       "      <th>1</th>\n",
       "      <td>11/01/2005</td>\n",
       "      <td>public</td>\n",
       "      <td>18</td>\n",
       "      <td>no</td>\n",
       "      <td>full</td>\n",
       "      <td>Other</td>\n",
       "      <td>1</td>\n",
       "      <td>0.008012</td>\n",
       "      <td>cross_border</td>\n",
       "      <td>industry</td>\n",
       "      <td>...</td>\n",
       "      <td>0</td>\n",
       "      <td>0</td>\n",
       "      <td>-0.011249</td>\n",
       "      <td>0.004454</td>\n",
       "      <td>0.012696</td>\n",
       "      <td>0.044807</td>\n",
       "      <td>-0.011249</td>\n",
       "      <td>0.004454</td>\n",
       "      <td>0.012696</td>\n",
       "      <td>0.044807</td>\n",
       "    </tr>\n",
       "    <tr>\n",
       "      <th>2</th>\n",
       "      <td>12/01/2005</td>\n",
       "      <td>public</td>\n",
       "      <td>8</td>\n",
       "      <td>no</td>\n",
       "      <td>not_full</td>\n",
       "      <td>Cash</td>\n",
       "      <td>1</td>\n",
       "      <td>0.382792</td>\n",
       "      <td>national</td>\n",
       "      <td>industry</td>\n",
       "      <td>...</td>\n",
       "      <td>0</td>\n",
       "      <td>0</td>\n",
       "      <td>0.013061</td>\n",
       "      <td>0.056958</td>\n",
       "      <td>0.055917</td>\n",
       "      <td>0.016918</td>\n",
       "      <td>0.013061</td>\n",
       "      <td>0.056958</td>\n",
       "      <td>0.055917</td>\n",
       "      <td>0.016918</td>\n",
       "    </tr>\n",
       "    <tr>\n",
       "      <th>3</th>\n",
       "      <td>18/01/2005</td>\n",
       "      <td>public</td>\n",
       "      <td>40</td>\n",
       "      <td>no</td>\n",
       "      <td>full</td>\n",
       "      <td>Other</td>\n",
       "      <td>1</td>\n",
       "      <td>0.014665</td>\n",
       "      <td>cross_border</td>\n",
       "      <td>industry</td>\n",
       "      <td>...</td>\n",
       "      <td>0</td>\n",
       "      <td>0</td>\n",
       "      <td>0.060476</td>\n",
       "      <td>-0.010042</td>\n",
       "      <td>0.002116</td>\n",
       "      <td>0.040544</td>\n",
       "      <td>0.060476</td>\n",
       "      <td>-0.010042</td>\n",
       "      <td>0.002116</td>\n",
       "      <td>0.040544</td>\n",
       "    </tr>\n",
       "    <tr>\n",
       "      <th>4</th>\n",
       "      <td>26/01/2005</td>\n",
       "      <td>public</td>\n",
       "      <td>0</td>\n",
       "      <td>no</td>\n",
       "      <td>full</td>\n",
       "      <td>Other</td>\n",
       "      <td>1</td>\n",
       "      <td>2.000163</td>\n",
       "      <td>cross_border</td>\n",
       "      <td>industry</td>\n",
       "      <td>...</td>\n",
       "      <td>0</td>\n",
       "      <td>0</td>\n",
       "      <td>-0.093760</td>\n",
       "      <td>-0.082288</td>\n",
       "      <td>-0.082288</td>\n",
       "      <td>-0.061740</td>\n",
       "      <td>-0.093760</td>\n",
       "      <td>-0.082288</td>\n",
       "      <td>-0.082288</td>\n",
       "      <td>-0.061740</td>\n",
       "    </tr>\n",
       "    <tr>\n",
       "      <th>...</th>\n",
       "      <td>...</td>\n",
       "      <td>...</td>\n",
       "      <td>...</td>\n",
       "      <td>...</td>\n",
       "      <td>...</td>\n",
       "      <td>...</td>\n",
       "      <td>...</td>\n",
       "      <td>...</td>\n",
       "      <td>...</td>\n",
       "      <td>...</td>\n",
       "      <td>...</td>\n",
       "      <td>...</td>\n",
       "      <td>...</td>\n",
       "      <td>...</td>\n",
       "      <td>...</td>\n",
       "      <td>...</td>\n",
       "      <td>...</td>\n",
       "      <td>...</td>\n",
       "      <td>...</td>\n",
       "      <td>...</td>\n",
       "      <td>...</td>\n",
       "    </tr>\n",
       "    <tr>\n",
       "      <th>3020</th>\n",
       "      <td>16/07/2021</td>\n",
       "      <td>others</td>\n",
       "      <td>9</td>\n",
       "      <td>no</td>\n",
       "      <td>full</td>\n",
       "      <td>Cash</td>\n",
       "      <td>1</td>\n",
       "      <td>0.004449</td>\n",
       "      <td>cross_border</td>\n",
       "      <td>not_related</td>\n",
       "      <td>...</td>\n",
       "      <td>0</td>\n",
       "      <td>1</td>\n",
       "      <td>-0.015629</td>\n",
       "      <td>-0.045382</td>\n",
       "      <td>-0.025400</td>\n",
       "      <td>-0.054948</td>\n",
       "      <td>-0.015629</td>\n",
       "      <td>-0.045382</td>\n",
       "      <td>-0.025400</td>\n",
       "      <td>-0.054948</td>\n",
       "    </tr>\n",
       "    <tr>\n",
       "      <th>3021</th>\n",
       "      <td>19/07/2021</td>\n",
       "      <td>others</td>\n",
       "      <td>1</td>\n",
       "      <td>no</td>\n",
       "      <td>full</td>\n",
       "      <td>Other</td>\n",
       "      <td>1</td>\n",
       "      <td>0.104705</td>\n",
       "      <td>cross_border</td>\n",
       "      <td>industry</td>\n",
       "      <td>...</td>\n",
       "      <td>0</td>\n",
       "      <td>0</td>\n",
       "      <td>0.088395</td>\n",
       "      <td>0.122123</td>\n",
       "      <td>0.059973</td>\n",
       "      <td>0.066900</td>\n",
       "      <td>0.088395</td>\n",
       "      <td>0.122123</td>\n",
       "      <td>0.059973</td>\n",
       "      <td>0.066900</td>\n",
       "    </tr>\n",
       "    <tr>\n",
       "      <th>3022</th>\n",
       "      <td>19/07/2021</td>\n",
       "      <td>others</td>\n",
       "      <td>6</td>\n",
       "      <td>no</td>\n",
       "      <td>full</td>\n",
       "      <td>Other</td>\n",
       "      <td>1</td>\n",
       "      <td>0.270094</td>\n",
       "      <td>cross_border</td>\n",
       "      <td>industry</td>\n",
       "      <td>...</td>\n",
       "      <td>0</td>\n",
       "      <td>0</td>\n",
       "      <td>0.068755</td>\n",
       "      <td>0.110112</td>\n",
       "      <td>0.102726</td>\n",
       "      <td>0.120972</td>\n",
       "      <td>0.068755</td>\n",
       "      <td>0.110112</td>\n",
       "      <td>0.102726</td>\n",
       "      <td>0.120972</td>\n",
       "    </tr>\n",
       "    <tr>\n",
       "      <th>3023</th>\n",
       "      <td>28/07/2021</td>\n",
       "      <td>others</td>\n",
       "      <td>21</td>\n",
       "      <td>no</td>\n",
       "      <td>full</td>\n",
       "      <td>Cash</td>\n",
       "      <td>1</td>\n",
       "      <td>0.232595</td>\n",
       "      <td>cross_border</td>\n",
       "      <td>not_related</td>\n",
       "      <td>...</td>\n",
       "      <td>1</td>\n",
       "      <td>0</td>\n",
       "      <td>0.022186</td>\n",
       "      <td>0.041487</td>\n",
       "      <td>0.041487</td>\n",
       "      <td>0.016503</td>\n",
       "      <td>0.022186</td>\n",
       "      <td>0.041487</td>\n",
       "      <td>0.041487</td>\n",
       "      <td>0.016503</td>\n",
       "    </tr>\n",
       "    <tr>\n",
       "      <th>3024</th>\n",
       "      <td>13/08/2021</td>\n",
       "      <td>others</td>\n",
       "      <td>1</td>\n",
       "      <td>no</td>\n",
       "      <td>full</td>\n",
       "      <td>Other</td>\n",
       "      <td>1</td>\n",
       "      <td>0.372376</td>\n",
       "      <td>cross_border</td>\n",
       "      <td>business_sector</td>\n",
       "      <td>...</td>\n",
       "      <td>0</td>\n",
       "      <td>0</td>\n",
       "      <td>0.045619</td>\n",
       "      <td>0.146613</td>\n",
       "      <td>0.231234</td>\n",
       "      <td>0.290762</td>\n",
       "      <td>0.045619</td>\n",
       "      <td>0.146613</td>\n",
       "      <td>0.231234</td>\n",
       "      <td>0.290762</td>\n",
       "    </tr>\n",
       "  </tbody>\n",
       "</table>\n",
       "<p>2946 rows × 25 columns</p>\n",
       "</div>"
      ],
      "text/plain": [
       "     announcement_date target_status  acquisition_count  \\\n",
       "0           04/01/2005        public                 23   \n",
       "1           11/01/2005        public                 18   \n",
       "2           12/01/2005        public                  8   \n",
       "3           18/01/2005        public                 40   \n",
       "4           26/01/2005        public                  0   \n",
       "...                ...           ...                ...   \n",
       "3020        16/07/2021        others                  9   \n",
       "3021        19/07/2021        others                  1   \n",
       "3022        19/07/2021        others                  6   \n",
       "3023        28/07/2021        others                 21   \n",
       "3024        13/08/2021        others                  1   \n",
       "\n",
       "     shares_at_announcement shares_acquired consideration_offered  \\\n",
       "0                        no            full                  Cash   \n",
       "1                        no            full                 Other   \n",
       "2                        no        not_full                  Cash   \n",
       "3                        no            full                 Other   \n",
       "4                        no            full                 Other   \n",
       "...                     ...             ...                   ...   \n",
       "3020                     no            full                  Cash   \n",
       "3021                     no            full                 Other   \n",
       "3022                     no            full                 Other   \n",
       "3023                     no            full                  Cash   \n",
       "3024                     no            full                 Other   \n",
       "\n",
       "      bidder_count  rel_deal_value  cross_border      relatedness  ...  \\\n",
       "0                1        0.024922  cross_border      not_related  ...   \n",
       "1                1        0.008012  cross_border         industry  ...   \n",
       "2                1        0.382792      national         industry  ...   \n",
       "3                1        0.014665  cross_border         industry  ...   \n",
       "4                1        2.000163  cross_border         industry  ...   \n",
       "...            ...             ...           ...              ...  ...   \n",
       "3020             1        0.004449  cross_border      not_related  ...   \n",
       "3021             1        0.104705  cross_border         industry  ...   \n",
       "3022             1        0.270094  cross_border         industry  ...   \n",
       "3023             1        0.232595  cross_border      not_related  ...   \n",
       "3024             1        0.372376  cross_border  business_sector  ...   \n",
       "\n",
       "     a_fin_adv_count t_fin_adv_count     car_1     car_3     car_5    car_10  \\\n",
       "0                  1               0 -0.009362  0.001308  0.018041  0.056428   \n",
       "1                  0               0 -0.011249  0.004454  0.012696  0.044807   \n",
       "2                  0               0  0.013061  0.056958  0.055917  0.016918   \n",
       "3                  0               0  0.060476 -0.010042  0.002116  0.040544   \n",
       "4                  0               0 -0.093760 -0.082288 -0.082288 -0.061740   \n",
       "...              ...             ...       ...       ...       ...       ...   \n",
       "3020               0               1 -0.015629 -0.045382 -0.025400 -0.054948   \n",
       "3021               0               0  0.088395  0.122123  0.059973  0.066900   \n",
       "3022               0               0  0.068755  0.110112  0.102726  0.120972   \n",
       "3023               1               0  0.022186  0.041487  0.041487  0.016503   \n",
       "3024               0               0  0.045619  0.146613  0.231234  0.290762   \n",
       "\n",
       "      car_class_1  car_class_3  car_class_5  car_class_10  \n",
       "0       -0.009362     0.001308     0.018041      0.056428  \n",
       "1       -0.011249     0.004454     0.012696      0.044807  \n",
       "2        0.013061     0.056958     0.055917      0.016918  \n",
       "3        0.060476    -0.010042     0.002116      0.040544  \n",
       "4       -0.093760    -0.082288    -0.082288     -0.061740  \n",
       "...           ...          ...          ...           ...  \n",
       "3020    -0.015629    -0.045382    -0.025400     -0.054948  \n",
       "3021     0.088395     0.122123     0.059973      0.066900  \n",
       "3022     0.068755     0.110112     0.102726      0.120972  \n",
       "3023     0.022186     0.041487     0.041487      0.016503  \n",
       "3024     0.045619     0.146613     0.231234      0.290762  \n",
       "\n",
       "[2946 rows x 25 columns]"
      ]
     },
     "execution_count": 27,
     "metadata": {},
     "output_type": "execute_result"
    }
   ],
   "source": [
    "data"
   ]
  },
  {
   "cell_type": "code",
   "execution_count": 28,
   "id": "c07e5425",
   "metadata": {
    "ExecuteTime": {
     "end_time": "2021-09-15T22:11:42.393776Z",
     "start_time": "2021-09-15T22:11:42.388786Z"
    }
   },
   "outputs": [],
   "source": [
    "def trans_class(x):\n",
    "    if x > 0.01:\n",
    "        return \"positive\"\n",
    "    elif x < -0.01:\n",
    "        return \"negative\"\n",
    "    else:\n",
    "        return \"neutral\""
   ]
  },
  {
   "cell_type": "code",
   "execution_count": 29,
   "id": "81a52e31",
   "metadata": {
    "ExecuteTime": {
     "end_time": "2021-09-15T22:11:42.824943Z",
     "start_time": "2021-09-15T22:11:42.807229Z"
    }
   },
   "outputs": [],
   "source": [
    "horizons = [1, 3, 5, 10]\n",
    "for horizon in horizons:\n",
    "    data[f'car_class_{horizon}']=data[f'car_class_{horizon}'].apply(trans_class)"
   ]
  },
  {
   "cell_type": "code",
   "execution_count": 30,
   "id": "99910dca",
   "metadata": {
    "ExecuteTime": {
     "end_time": "2021-09-15T22:11:43.422128Z",
     "start_time": "2021-09-15T22:11:43.368321Z"
    }
   },
   "outputs": [
    {
     "data": {
      "text/html": [
       "<div>\n",
       "<style scoped>\n",
       "    .dataframe tbody tr th:only-of-type {\n",
       "        vertical-align: middle;\n",
       "    }\n",
       "\n",
       "    .dataframe tbody tr th {\n",
       "        vertical-align: top;\n",
       "    }\n",
       "\n",
       "    .dataframe thead th {\n",
       "        text-align: right;\n",
       "    }\n",
       "</style>\n",
       "<table border=\"1\" class=\"dataframe\">\n",
       "  <thead>\n",
       "    <tr style=\"text-align: right;\">\n",
       "      <th></th>\n",
       "      <th>announcement_date</th>\n",
       "      <th>target_status</th>\n",
       "      <th>acquisition_count</th>\n",
       "      <th>shares_at_announcement</th>\n",
       "      <th>shares_acquired</th>\n",
       "      <th>consideration_offered</th>\n",
       "      <th>bidder_count</th>\n",
       "      <th>rel_deal_value</th>\n",
       "      <th>cross_border</th>\n",
       "      <th>relatedness</th>\n",
       "      <th>...</th>\n",
       "      <th>a_fin_adv_count</th>\n",
       "      <th>t_fin_adv_count</th>\n",
       "      <th>car_1</th>\n",
       "      <th>car_3</th>\n",
       "      <th>car_5</th>\n",
       "      <th>car_10</th>\n",
       "      <th>car_class_1</th>\n",
       "      <th>car_class_3</th>\n",
       "      <th>car_class_5</th>\n",
       "      <th>car_class_10</th>\n",
       "    </tr>\n",
       "  </thead>\n",
       "  <tbody>\n",
       "    <tr>\n",
       "      <th>0</th>\n",
       "      <td>04/01/2005</td>\n",
       "      <td>public</td>\n",
       "      <td>23</td>\n",
       "      <td>no</td>\n",
       "      <td>full</td>\n",
       "      <td>Cash</td>\n",
       "      <td>1</td>\n",
       "      <td>0.024922</td>\n",
       "      <td>cross_border</td>\n",
       "      <td>not_related</td>\n",
       "      <td>...</td>\n",
       "      <td>1</td>\n",
       "      <td>0</td>\n",
       "      <td>-0.009362</td>\n",
       "      <td>0.001308</td>\n",
       "      <td>0.018041</td>\n",
       "      <td>0.056428</td>\n",
       "      <td>neutral</td>\n",
       "      <td>neutral</td>\n",
       "      <td>positive</td>\n",
       "      <td>positive</td>\n",
       "    </tr>\n",
       "    <tr>\n",
       "      <th>1</th>\n",
       "      <td>11/01/2005</td>\n",
       "      <td>public</td>\n",
       "      <td>18</td>\n",
       "      <td>no</td>\n",
       "      <td>full</td>\n",
       "      <td>Other</td>\n",
       "      <td>1</td>\n",
       "      <td>0.008012</td>\n",
       "      <td>cross_border</td>\n",
       "      <td>industry</td>\n",
       "      <td>...</td>\n",
       "      <td>0</td>\n",
       "      <td>0</td>\n",
       "      <td>-0.011249</td>\n",
       "      <td>0.004454</td>\n",
       "      <td>0.012696</td>\n",
       "      <td>0.044807</td>\n",
       "      <td>negative</td>\n",
       "      <td>neutral</td>\n",
       "      <td>positive</td>\n",
       "      <td>positive</td>\n",
       "    </tr>\n",
       "    <tr>\n",
       "      <th>2</th>\n",
       "      <td>12/01/2005</td>\n",
       "      <td>public</td>\n",
       "      <td>8</td>\n",
       "      <td>no</td>\n",
       "      <td>not_full</td>\n",
       "      <td>Cash</td>\n",
       "      <td>1</td>\n",
       "      <td>0.382792</td>\n",
       "      <td>national</td>\n",
       "      <td>industry</td>\n",
       "      <td>...</td>\n",
       "      <td>0</td>\n",
       "      <td>0</td>\n",
       "      <td>0.013061</td>\n",
       "      <td>0.056958</td>\n",
       "      <td>0.055917</td>\n",
       "      <td>0.016918</td>\n",
       "      <td>positive</td>\n",
       "      <td>positive</td>\n",
       "      <td>positive</td>\n",
       "      <td>positive</td>\n",
       "    </tr>\n",
       "    <tr>\n",
       "      <th>3</th>\n",
       "      <td>18/01/2005</td>\n",
       "      <td>public</td>\n",
       "      <td>40</td>\n",
       "      <td>no</td>\n",
       "      <td>full</td>\n",
       "      <td>Other</td>\n",
       "      <td>1</td>\n",
       "      <td>0.014665</td>\n",
       "      <td>cross_border</td>\n",
       "      <td>industry</td>\n",
       "      <td>...</td>\n",
       "      <td>0</td>\n",
       "      <td>0</td>\n",
       "      <td>0.060476</td>\n",
       "      <td>-0.010042</td>\n",
       "      <td>0.002116</td>\n",
       "      <td>0.040544</td>\n",
       "      <td>positive</td>\n",
       "      <td>negative</td>\n",
       "      <td>neutral</td>\n",
       "      <td>positive</td>\n",
       "    </tr>\n",
       "    <tr>\n",
       "      <th>4</th>\n",
       "      <td>26/01/2005</td>\n",
       "      <td>public</td>\n",
       "      <td>0</td>\n",
       "      <td>no</td>\n",
       "      <td>full</td>\n",
       "      <td>Other</td>\n",
       "      <td>1</td>\n",
       "      <td>2.000163</td>\n",
       "      <td>cross_border</td>\n",
       "      <td>industry</td>\n",
       "      <td>...</td>\n",
       "      <td>0</td>\n",
       "      <td>0</td>\n",
       "      <td>-0.093760</td>\n",
       "      <td>-0.082288</td>\n",
       "      <td>-0.082288</td>\n",
       "      <td>-0.061740</td>\n",
       "      <td>negative</td>\n",
       "      <td>negative</td>\n",
       "      <td>negative</td>\n",
       "      <td>negative</td>\n",
       "    </tr>\n",
       "    <tr>\n",
       "      <th>...</th>\n",
       "      <td>...</td>\n",
       "      <td>...</td>\n",
       "      <td>...</td>\n",
       "      <td>...</td>\n",
       "      <td>...</td>\n",
       "      <td>...</td>\n",
       "      <td>...</td>\n",
       "      <td>...</td>\n",
       "      <td>...</td>\n",
       "      <td>...</td>\n",
       "      <td>...</td>\n",
       "      <td>...</td>\n",
       "      <td>...</td>\n",
       "      <td>...</td>\n",
       "      <td>...</td>\n",
       "      <td>...</td>\n",
       "      <td>...</td>\n",
       "      <td>...</td>\n",
       "      <td>...</td>\n",
       "      <td>...</td>\n",
       "      <td>...</td>\n",
       "    </tr>\n",
       "    <tr>\n",
       "      <th>3020</th>\n",
       "      <td>16/07/2021</td>\n",
       "      <td>others</td>\n",
       "      <td>9</td>\n",
       "      <td>no</td>\n",
       "      <td>full</td>\n",
       "      <td>Cash</td>\n",
       "      <td>1</td>\n",
       "      <td>0.004449</td>\n",
       "      <td>cross_border</td>\n",
       "      <td>not_related</td>\n",
       "      <td>...</td>\n",
       "      <td>0</td>\n",
       "      <td>1</td>\n",
       "      <td>-0.015629</td>\n",
       "      <td>-0.045382</td>\n",
       "      <td>-0.025400</td>\n",
       "      <td>-0.054948</td>\n",
       "      <td>negative</td>\n",
       "      <td>negative</td>\n",
       "      <td>negative</td>\n",
       "      <td>negative</td>\n",
       "    </tr>\n",
       "    <tr>\n",
       "      <th>3021</th>\n",
       "      <td>19/07/2021</td>\n",
       "      <td>others</td>\n",
       "      <td>1</td>\n",
       "      <td>no</td>\n",
       "      <td>full</td>\n",
       "      <td>Other</td>\n",
       "      <td>1</td>\n",
       "      <td>0.104705</td>\n",
       "      <td>cross_border</td>\n",
       "      <td>industry</td>\n",
       "      <td>...</td>\n",
       "      <td>0</td>\n",
       "      <td>0</td>\n",
       "      <td>0.088395</td>\n",
       "      <td>0.122123</td>\n",
       "      <td>0.059973</td>\n",
       "      <td>0.066900</td>\n",
       "      <td>positive</td>\n",
       "      <td>positive</td>\n",
       "      <td>positive</td>\n",
       "      <td>positive</td>\n",
       "    </tr>\n",
       "    <tr>\n",
       "      <th>3022</th>\n",
       "      <td>19/07/2021</td>\n",
       "      <td>others</td>\n",
       "      <td>6</td>\n",
       "      <td>no</td>\n",
       "      <td>full</td>\n",
       "      <td>Other</td>\n",
       "      <td>1</td>\n",
       "      <td>0.270094</td>\n",
       "      <td>cross_border</td>\n",
       "      <td>industry</td>\n",
       "      <td>...</td>\n",
       "      <td>0</td>\n",
       "      <td>0</td>\n",
       "      <td>0.068755</td>\n",
       "      <td>0.110112</td>\n",
       "      <td>0.102726</td>\n",
       "      <td>0.120972</td>\n",
       "      <td>positive</td>\n",
       "      <td>positive</td>\n",
       "      <td>positive</td>\n",
       "      <td>positive</td>\n",
       "    </tr>\n",
       "    <tr>\n",
       "      <th>3023</th>\n",
       "      <td>28/07/2021</td>\n",
       "      <td>others</td>\n",
       "      <td>21</td>\n",
       "      <td>no</td>\n",
       "      <td>full</td>\n",
       "      <td>Cash</td>\n",
       "      <td>1</td>\n",
       "      <td>0.232595</td>\n",
       "      <td>cross_border</td>\n",
       "      <td>not_related</td>\n",
       "      <td>...</td>\n",
       "      <td>1</td>\n",
       "      <td>0</td>\n",
       "      <td>0.022186</td>\n",
       "      <td>0.041487</td>\n",
       "      <td>0.041487</td>\n",
       "      <td>0.016503</td>\n",
       "      <td>positive</td>\n",
       "      <td>positive</td>\n",
       "      <td>positive</td>\n",
       "      <td>positive</td>\n",
       "    </tr>\n",
       "    <tr>\n",
       "      <th>3024</th>\n",
       "      <td>13/08/2021</td>\n",
       "      <td>others</td>\n",
       "      <td>1</td>\n",
       "      <td>no</td>\n",
       "      <td>full</td>\n",
       "      <td>Other</td>\n",
       "      <td>1</td>\n",
       "      <td>0.372376</td>\n",
       "      <td>cross_border</td>\n",
       "      <td>business_sector</td>\n",
       "      <td>...</td>\n",
       "      <td>0</td>\n",
       "      <td>0</td>\n",
       "      <td>0.045619</td>\n",
       "      <td>0.146613</td>\n",
       "      <td>0.231234</td>\n",
       "      <td>0.290762</td>\n",
       "      <td>positive</td>\n",
       "      <td>positive</td>\n",
       "      <td>positive</td>\n",
       "      <td>positive</td>\n",
       "    </tr>\n",
       "  </tbody>\n",
       "</table>\n",
       "<p>2946 rows × 25 columns</p>\n",
       "</div>"
      ],
      "text/plain": [
       "     announcement_date target_status  acquisition_count  \\\n",
       "0           04/01/2005        public                 23   \n",
       "1           11/01/2005        public                 18   \n",
       "2           12/01/2005        public                  8   \n",
       "3           18/01/2005        public                 40   \n",
       "4           26/01/2005        public                  0   \n",
       "...                ...           ...                ...   \n",
       "3020        16/07/2021        others                  9   \n",
       "3021        19/07/2021        others                  1   \n",
       "3022        19/07/2021        others                  6   \n",
       "3023        28/07/2021        others                 21   \n",
       "3024        13/08/2021        others                  1   \n",
       "\n",
       "     shares_at_announcement shares_acquired consideration_offered  \\\n",
       "0                        no            full                  Cash   \n",
       "1                        no            full                 Other   \n",
       "2                        no        not_full                  Cash   \n",
       "3                        no            full                 Other   \n",
       "4                        no            full                 Other   \n",
       "...                     ...             ...                   ...   \n",
       "3020                     no            full                  Cash   \n",
       "3021                     no            full                 Other   \n",
       "3022                     no            full                 Other   \n",
       "3023                     no            full                  Cash   \n",
       "3024                     no            full                 Other   \n",
       "\n",
       "      bidder_count  rel_deal_value  cross_border      relatedness  ...  \\\n",
       "0                1        0.024922  cross_border      not_related  ...   \n",
       "1                1        0.008012  cross_border         industry  ...   \n",
       "2                1        0.382792      national         industry  ...   \n",
       "3                1        0.014665  cross_border         industry  ...   \n",
       "4                1        2.000163  cross_border         industry  ...   \n",
       "...            ...             ...           ...              ...  ...   \n",
       "3020             1        0.004449  cross_border      not_related  ...   \n",
       "3021             1        0.104705  cross_border         industry  ...   \n",
       "3022             1        0.270094  cross_border         industry  ...   \n",
       "3023             1        0.232595  cross_border      not_related  ...   \n",
       "3024             1        0.372376  cross_border  business_sector  ...   \n",
       "\n",
       "     a_fin_adv_count t_fin_adv_count     car_1     car_3     car_5    car_10  \\\n",
       "0                  1               0 -0.009362  0.001308  0.018041  0.056428   \n",
       "1                  0               0 -0.011249  0.004454  0.012696  0.044807   \n",
       "2                  0               0  0.013061  0.056958  0.055917  0.016918   \n",
       "3                  0               0  0.060476 -0.010042  0.002116  0.040544   \n",
       "4                  0               0 -0.093760 -0.082288 -0.082288 -0.061740   \n",
       "...              ...             ...       ...       ...       ...       ...   \n",
       "3020               0               1 -0.015629 -0.045382 -0.025400 -0.054948   \n",
       "3021               0               0  0.088395  0.122123  0.059973  0.066900   \n",
       "3022               0               0  0.068755  0.110112  0.102726  0.120972   \n",
       "3023               1               0  0.022186  0.041487  0.041487  0.016503   \n",
       "3024               0               0  0.045619  0.146613  0.231234  0.290762   \n",
       "\n",
       "      car_class_1  car_class_3  car_class_5  car_class_10  \n",
       "0         neutral      neutral     positive      positive  \n",
       "1        negative      neutral     positive      positive  \n",
       "2        positive     positive     positive      positive  \n",
       "3        positive     negative      neutral      positive  \n",
       "4        negative     negative     negative      negative  \n",
       "...           ...          ...          ...           ...  \n",
       "3020     negative     negative     negative      negative  \n",
       "3021     positive     positive     positive      positive  \n",
       "3022     positive     positive     positive      positive  \n",
       "3023     positive     positive     positive      positive  \n",
       "3024     positive     positive     positive      positive  \n",
       "\n",
       "[2946 rows x 25 columns]"
      ]
     },
     "execution_count": 30,
     "metadata": {},
     "output_type": "execute_result"
    }
   ],
   "source": [
    "data"
   ]
  },
  {
   "cell_type": "markdown",
   "id": "6ab2f674",
   "metadata": {},
   "source": [
    "# Encoding the target"
   ]
  },
  {
   "cell_type": "code",
   "execution_count": 31,
   "id": "928e9cd8",
   "metadata": {
    "ExecuteTime": {
     "end_time": "2021-09-15T22:11:46.678913Z",
     "start_time": "2021-09-15T22:11:46.674048Z"
    }
   },
   "outputs": [],
   "source": [
    "# creating instance of labelencoder\n",
    "labelencoder = LabelEncoder()\n"
   ]
  },
  {
   "cell_type": "code",
   "execution_count": 32,
   "id": "0776e684",
   "metadata": {
    "ExecuteTime": {
     "end_time": "2021-09-15T22:11:47.032678Z",
     "start_time": "2021-09-15T22:11:47.017052Z"
    }
   },
   "outputs": [],
   "source": [
    "# Assigning numerical values and storing in another column\n",
    "data['car_class_1'] = labelencoder.fit_transform(data['car_class_1'])\n",
    "data['car_class_3'] = labelencoder.fit_transform(data['car_class_3'])\n",
    "data['car_class_5'] = labelencoder.fit_transform(data['car_class_5'])\n",
    "data['car_class_10'] = labelencoder.fit_transform(data['car_class_10'])"
   ]
  },
  {
   "cell_type": "code",
   "execution_count": 33,
   "id": "ed71fd24",
   "metadata": {
    "ExecuteTime": {
     "end_time": "2021-09-15T22:11:47.503820Z",
     "start_time": "2021-09-15T22:11:47.447277Z"
    }
   },
   "outputs": [
    {
     "data": {
      "text/html": [
       "<div>\n",
       "<style scoped>\n",
       "    .dataframe tbody tr th:only-of-type {\n",
       "        vertical-align: middle;\n",
       "    }\n",
       "\n",
       "    .dataframe tbody tr th {\n",
       "        vertical-align: top;\n",
       "    }\n",
       "\n",
       "    .dataframe thead th {\n",
       "        text-align: right;\n",
       "    }\n",
       "</style>\n",
       "<table border=\"1\" class=\"dataframe\">\n",
       "  <thead>\n",
       "    <tr style=\"text-align: right;\">\n",
       "      <th></th>\n",
       "      <th>announcement_date</th>\n",
       "      <th>target_status</th>\n",
       "      <th>acquisition_count</th>\n",
       "      <th>shares_at_announcement</th>\n",
       "      <th>shares_acquired</th>\n",
       "      <th>consideration_offered</th>\n",
       "      <th>bidder_count</th>\n",
       "      <th>rel_deal_value</th>\n",
       "      <th>cross_border</th>\n",
       "      <th>relatedness</th>\n",
       "      <th>...</th>\n",
       "      <th>a_fin_adv_count</th>\n",
       "      <th>t_fin_adv_count</th>\n",
       "      <th>car_1</th>\n",
       "      <th>car_3</th>\n",
       "      <th>car_5</th>\n",
       "      <th>car_10</th>\n",
       "      <th>car_class_1</th>\n",
       "      <th>car_class_3</th>\n",
       "      <th>car_class_5</th>\n",
       "      <th>car_class_10</th>\n",
       "    </tr>\n",
       "  </thead>\n",
       "  <tbody>\n",
       "    <tr>\n",
       "      <th>0</th>\n",
       "      <td>04/01/2005</td>\n",
       "      <td>public</td>\n",
       "      <td>23</td>\n",
       "      <td>no</td>\n",
       "      <td>full</td>\n",
       "      <td>Cash</td>\n",
       "      <td>1</td>\n",
       "      <td>0.024922</td>\n",
       "      <td>cross_border</td>\n",
       "      <td>not_related</td>\n",
       "      <td>...</td>\n",
       "      <td>1</td>\n",
       "      <td>0</td>\n",
       "      <td>-0.009362</td>\n",
       "      <td>0.001308</td>\n",
       "      <td>0.018041</td>\n",
       "      <td>0.056428</td>\n",
       "      <td>1</td>\n",
       "      <td>1</td>\n",
       "      <td>2</td>\n",
       "      <td>2</td>\n",
       "    </tr>\n",
       "    <tr>\n",
       "      <th>1</th>\n",
       "      <td>11/01/2005</td>\n",
       "      <td>public</td>\n",
       "      <td>18</td>\n",
       "      <td>no</td>\n",
       "      <td>full</td>\n",
       "      <td>Other</td>\n",
       "      <td>1</td>\n",
       "      <td>0.008012</td>\n",
       "      <td>cross_border</td>\n",
       "      <td>industry</td>\n",
       "      <td>...</td>\n",
       "      <td>0</td>\n",
       "      <td>0</td>\n",
       "      <td>-0.011249</td>\n",
       "      <td>0.004454</td>\n",
       "      <td>0.012696</td>\n",
       "      <td>0.044807</td>\n",
       "      <td>0</td>\n",
       "      <td>1</td>\n",
       "      <td>2</td>\n",
       "      <td>2</td>\n",
       "    </tr>\n",
       "    <tr>\n",
       "      <th>2</th>\n",
       "      <td>12/01/2005</td>\n",
       "      <td>public</td>\n",
       "      <td>8</td>\n",
       "      <td>no</td>\n",
       "      <td>not_full</td>\n",
       "      <td>Cash</td>\n",
       "      <td>1</td>\n",
       "      <td>0.382792</td>\n",
       "      <td>national</td>\n",
       "      <td>industry</td>\n",
       "      <td>...</td>\n",
       "      <td>0</td>\n",
       "      <td>0</td>\n",
       "      <td>0.013061</td>\n",
       "      <td>0.056958</td>\n",
       "      <td>0.055917</td>\n",
       "      <td>0.016918</td>\n",
       "      <td>2</td>\n",
       "      <td>2</td>\n",
       "      <td>2</td>\n",
       "      <td>2</td>\n",
       "    </tr>\n",
       "    <tr>\n",
       "      <th>3</th>\n",
       "      <td>18/01/2005</td>\n",
       "      <td>public</td>\n",
       "      <td>40</td>\n",
       "      <td>no</td>\n",
       "      <td>full</td>\n",
       "      <td>Other</td>\n",
       "      <td>1</td>\n",
       "      <td>0.014665</td>\n",
       "      <td>cross_border</td>\n",
       "      <td>industry</td>\n",
       "      <td>...</td>\n",
       "      <td>0</td>\n",
       "      <td>0</td>\n",
       "      <td>0.060476</td>\n",
       "      <td>-0.010042</td>\n",
       "      <td>0.002116</td>\n",
       "      <td>0.040544</td>\n",
       "      <td>2</td>\n",
       "      <td>0</td>\n",
       "      <td>1</td>\n",
       "      <td>2</td>\n",
       "    </tr>\n",
       "    <tr>\n",
       "      <th>4</th>\n",
       "      <td>26/01/2005</td>\n",
       "      <td>public</td>\n",
       "      <td>0</td>\n",
       "      <td>no</td>\n",
       "      <td>full</td>\n",
       "      <td>Other</td>\n",
       "      <td>1</td>\n",
       "      <td>2.000163</td>\n",
       "      <td>cross_border</td>\n",
       "      <td>industry</td>\n",
       "      <td>...</td>\n",
       "      <td>0</td>\n",
       "      <td>0</td>\n",
       "      <td>-0.093760</td>\n",
       "      <td>-0.082288</td>\n",
       "      <td>-0.082288</td>\n",
       "      <td>-0.061740</td>\n",
       "      <td>0</td>\n",
       "      <td>0</td>\n",
       "      <td>0</td>\n",
       "      <td>0</td>\n",
       "    </tr>\n",
       "    <tr>\n",
       "      <th>...</th>\n",
       "      <td>...</td>\n",
       "      <td>...</td>\n",
       "      <td>...</td>\n",
       "      <td>...</td>\n",
       "      <td>...</td>\n",
       "      <td>...</td>\n",
       "      <td>...</td>\n",
       "      <td>...</td>\n",
       "      <td>...</td>\n",
       "      <td>...</td>\n",
       "      <td>...</td>\n",
       "      <td>...</td>\n",
       "      <td>...</td>\n",
       "      <td>...</td>\n",
       "      <td>...</td>\n",
       "      <td>...</td>\n",
       "      <td>...</td>\n",
       "      <td>...</td>\n",
       "      <td>...</td>\n",
       "      <td>...</td>\n",
       "      <td>...</td>\n",
       "    </tr>\n",
       "    <tr>\n",
       "      <th>3020</th>\n",
       "      <td>16/07/2021</td>\n",
       "      <td>others</td>\n",
       "      <td>9</td>\n",
       "      <td>no</td>\n",
       "      <td>full</td>\n",
       "      <td>Cash</td>\n",
       "      <td>1</td>\n",
       "      <td>0.004449</td>\n",
       "      <td>cross_border</td>\n",
       "      <td>not_related</td>\n",
       "      <td>...</td>\n",
       "      <td>0</td>\n",
       "      <td>1</td>\n",
       "      <td>-0.015629</td>\n",
       "      <td>-0.045382</td>\n",
       "      <td>-0.025400</td>\n",
       "      <td>-0.054948</td>\n",
       "      <td>0</td>\n",
       "      <td>0</td>\n",
       "      <td>0</td>\n",
       "      <td>0</td>\n",
       "    </tr>\n",
       "    <tr>\n",
       "      <th>3021</th>\n",
       "      <td>19/07/2021</td>\n",
       "      <td>others</td>\n",
       "      <td>1</td>\n",
       "      <td>no</td>\n",
       "      <td>full</td>\n",
       "      <td>Other</td>\n",
       "      <td>1</td>\n",
       "      <td>0.104705</td>\n",
       "      <td>cross_border</td>\n",
       "      <td>industry</td>\n",
       "      <td>...</td>\n",
       "      <td>0</td>\n",
       "      <td>0</td>\n",
       "      <td>0.088395</td>\n",
       "      <td>0.122123</td>\n",
       "      <td>0.059973</td>\n",
       "      <td>0.066900</td>\n",
       "      <td>2</td>\n",
       "      <td>2</td>\n",
       "      <td>2</td>\n",
       "      <td>2</td>\n",
       "    </tr>\n",
       "    <tr>\n",
       "      <th>3022</th>\n",
       "      <td>19/07/2021</td>\n",
       "      <td>others</td>\n",
       "      <td>6</td>\n",
       "      <td>no</td>\n",
       "      <td>full</td>\n",
       "      <td>Other</td>\n",
       "      <td>1</td>\n",
       "      <td>0.270094</td>\n",
       "      <td>cross_border</td>\n",
       "      <td>industry</td>\n",
       "      <td>...</td>\n",
       "      <td>0</td>\n",
       "      <td>0</td>\n",
       "      <td>0.068755</td>\n",
       "      <td>0.110112</td>\n",
       "      <td>0.102726</td>\n",
       "      <td>0.120972</td>\n",
       "      <td>2</td>\n",
       "      <td>2</td>\n",
       "      <td>2</td>\n",
       "      <td>2</td>\n",
       "    </tr>\n",
       "    <tr>\n",
       "      <th>3023</th>\n",
       "      <td>28/07/2021</td>\n",
       "      <td>others</td>\n",
       "      <td>21</td>\n",
       "      <td>no</td>\n",
       "      <td>full</td>\n",
       "      <td>Cash</td>\n",
       "      <td>1</td>\n",
       "      <td>0.232595</td>\n",
       "      <td>cross_border</td>\n",
       "      <td>not_related</td>\n",
       "      <td>...</td>\n",
       "      <td>1</td>\n",
       "      <td>0</td>\n",
       "      <td>0.022186</td>\n",
       "      <td>0.041487</td>\n",
       "      <td>0.041487</td>\n",
       "      <td>0.016503</td>\n",
       "      <td>2</td>\n",
       "      <td>2</td>\n",
       "      <td>2</td>\n",
       "      <td>2</td>\n",
       "    </tr>\n",
       "    <tr>\n",
       "      <th>3024</th>\n",
       "      <td>13/08/2021</td>\n",
       "      <td>others</td>\n",
       "      <td>1</td>\n",
       "      <td>no</td>\n",
       "      <td>full</td>\n",
       "      <td>Other</td>\n",
       "      <td>1</td>\n",
       "      <td>0.372376</td>\n",
       "      <td>cross_border</td>\n",
       "      <td>business_sector</td>\n",
       "      <td>...</td>\n",
       "      <td>0</td>\n",
       "      <td>0</td>\n",
       "      <td>0.045619</td>\n",
       "      <td>0.146613</td>\n",
       "      <td>0.231234</td>\n",
       "      <td>0.290762</td>\n",
       "      <td>2</td>\n",
       "      <td>2</td>\n",
       "      <td>2</td>\n",
       "      <td>2</td>\n",
       "    </tr>\n",
       "  </tbody>\n",
       "</table>\n",
       "<p>2946 rows × 25 columns</p>\n",
       "</div>"
      ],
      "text/plain": [
       "     announcement_date target_status  acquisition_count  \\\n",
       "0           04/01/2005        public                 23   \n",
       "1           11/01/2005        public                 18   \n",
       "2           12/01/2005        public                  8   \n",
       "3           18/01/2005        public                 40   \n",
       "4           26/01/2005        public                  0   \n",
       "...                ...           ...                ...   \n",
       "3020        16/07/2021        others                  9   \n",
       "3021        19/07/2021        others                  1   \n",
       "3022        19/07/2021        others                  6   \n",
       "3023        28/07/2021        others                 21   \n",
       "3024        13/08/2021        others                  1   \n",
       "\n",
       "     shares_at_announcement shares_acquired consideration_offered  \\\n",
       "0                        no            full                  Cash   \n",
       "1                        no            full                 Other   \n",
       "2                        no        not_full                  Cash   \n",
       "3                        no            full                 Other   \n",
       "4                        no            full                 Other   \n",
       "...                     ...             ...                   ...   \n",
       "3020                     no            full                  Cash   \n",
       "3021                     no            full                 Other   \n",
       "3022                     no            full                 Other   \n",
       "3023                     no            full                  Cash   \n",
       "3024                     no            full                 Other   \n",
       "\n",
       "      bidder_count  rel_deal_value  cross_border      relatedness  ...  \\\n",
       "0                1        0.024922  cross_border      not_related  ...   \n",
       "1                1        0.008012  cross_border         industry  ...   \n",
       "2                1        0.382792      national         industry  ...   \n",
       "3                1        0.014665  cross_border         industry  ...   \n",
       "4                1        2.000163  cross_border         industry  ...   \n",
       "...            ...             ...           ...              ...  ...   \n",
       "3020             1        0.004449  cross_border      not_related  ...   \n",
       "3021             1        0.104705  cross_border         industry  ...   \n",
       "3022             1        0.270094  cross_border         industry  ...   \n",
       "3023             1        0.232595  cross_border      not_related  ...   \n",
       "3024             1        0.372376  cross_border  business_sector  ...   \n",
       "\n",
       "     a_fin_adv_count t_fin_adv_count     car_1     car_3     car_5    car_10  \\\n",
       "0                  1               0 -0.009362  0.001308  0.018041  0.056428   \n",
       "1                  0               0 -0.011249  0.004454  0.012696  0.044807   \n",
       "2                  0               0  0.013061  0.056958  0.055917  0.016918   \n",
       "3                  0               0  0.060476 -0.010042  0.002116  0.040544   \n",
       "4                  0               0 -0.093760 -0.082288 -0.082288 -0.061740   \n",
       "...              ...             ...       ...       ...       ...       ...   \n",
       "3020               0               1 -0.015629 -0.045382 -0.025400 -0.054948   \n",
       "3021               0               0  0.088395  0.122123  0.059973  0.066900   \n",
       "3022               0               0  0.068755  0.110112  0.102726  0.120972   \n",
       "3023               1               0  0.022186  0.041487  0.041487  0.016503   \n",
       "3024               0               0  0.045619  0.146613  0.231234  0.290762   \n",
       "\n",
       "      car_class_1  car_class_3  car_class_5  car_class_10  \n",
       "0               1            1            2             2  \n",
       "1               0            1            2             2  \n",
       "2               2            2            2             2  \n",
       "3               2            0            1             2  \n",
       "4               0            0            0             0  \n",
       "...           ...          ...          ...           ...  \n",
       "3020            0            0            0             0  \n",
       "3021            2            2            2             2  \n",
       "3022            2            2            2             2  \n",
       "3023            2            2            2             2  \n",
       "3024            2            2            2             2  \n",
       "\n",
       "[2946 rows x 25 columns]"
      ]
     },
     "execution_count": 33,
     "metadata": {},
     "output_type": "execute_result"
    }
   ],
   "source": [
    "data"
   ]
  },
  {
   "cell_type": "code",
   "execution_count": 34,
   "id": "e7aae6af",
   "metadata": {
    "ExecuteTime": {
     "end_time": "2021-09-15T22:11:48.455343Z",
     "start_time": "2021-09-15T22:11:48.447557Z"
    },
    "scrolled": false
   },
   "outputs": [
    {
     "data": {
      "text/plain": [
       "Index(['announcement_date', 'target_status', 'acquisition_count',\n",
       "       'shares_at_announcement', 'shares_acquired', 'consideration_offered',\n",
       "       'bidder_count', 'rel_deal_value', 'cross_border', 'relatedness',\n",
       "       'economic_sector_ac', 'business_sector_ac', 'economic_sector_target',\n",
       "       'business_sector_target', 'cluster_category', 'a_fin_adv_count',\n",
       "       't_fin_adv_count', 'car_1', 'car_3', 'car_5', 'car_10', 'car_class_1',\n",
       "       'car_class_3', 'car_class_5', 'car_class_10'],\n",
       "      dtype='object')"
      ]
     },
     "execution_count": 34,
     "metadata": {},
     "output_type": "execute_result"
    }
   ],
   "source": [
    "data.columns"
   ]
  },
  {
   "cell_type": "code",
   "execution_count": 35,
   "id": "43c916a5",
   "metadata": {
    "ExecuteTime": {
     "end_time": "2021-09-15T22:11:53.859374Z",
     "start_time": "2021-09-15T22:11:53.852892Z"
    }
   },
   "outputs": [],
   "source": [
    "y_1=data['car_class_1']"
   ]
  },
  {
   "cell_type": "code",
   "execution_count": 36,
   "id": "97a5845b",
   "metadata": {
    "ExecuteTime": {
     "end_time": "2021-09-15T22:11:54.338137Z",
     "start_time": "2021-09-15T22:11:54.332273Z"
    }
   },
   "outputs": [],
   "source": [
    "y_3=data['car_class_3']"
   ]
  },
  {
   "cell_type": "code",
   "execution_count": 37,
   "id": "79448f79",
   "metadata": {
    "ExecuteTime": {
     "end_time": "2021-09-15T22:11:54.816329Z",
     "start_time": "2021-09-15T22:11:54.812298Z"
    }
   },
   "outputs": [],
   "source": [
    "y_5=data['car_class_5']"
   ]
  },
  {
   "cell_type": "code",
   "execution_count": 38,
   "id": "2332d253",
   "metadata": {
    "ExecuteTime": {
     "end_time": "2021-09-15T22:11:55.945083Z",
     "start_time": "2021-09-15T22:11:55.939391Z"
    }
   },
   "outputs": [],
   "source": [
    "y_10=data['car_class_10']"
   ]
  },
  {
   "cell_type": "code",
   "execution_count": 39,
   "id": "6c30c162",
   "metadata": {
    "ExecuteTime": {
     "end_time": "2021-09-15T22:12:24.921078Z",
     "start_time": "2021-09-15T22:12:24.911378Z"
    }
   },
   "outputs": [],
   "source": [
    "X=data[['target_status', 'acquisition_count',\n",
    "       'shares_at_announcement', 'shares_acquired', 'consideration_offered',\n",
    "       'bidder_count', 'rel_deal_value', 'cross_border', 'relatedness',\n",
    "       'economic_sector_ac', 'business_sector_ac', 'economic_sector_target',\n",
    "       'business_sector_target', 'cluster_category', 'a_fin_adv_count',\n",
    "       't_fin_adv_count']]"
   ]
  },
  {
   "cell_type": "markdown",
   "id": "c821cd43",
   "metadata": {},
   "source": [
    "# Car_1"
   ]
  },
  {
   "cell_type": "markdown",
   "id": "8588e22d",
   "metadata": {},
   "source": [
    "## Splitting of the dataset"
   ]
  },
  {
   "cell_type": "code",
   "execution_count": 40,
   "id": "635d5f59",
   "metadata": {
    "ExecuteTime": {
     "end_time": "2021-09-15T22:12:30.734762Z",
     "start_time": "2021-09-15T22:12:30.722765Z"
    }
   },
   "outputs": [],
   "source": [
    "from sklearn.model_selection import train_test_split\n",
    "X_train, X_test, y_train, y_test = train_test_split(X,y_1, test_size=0.3, random_state=0)"
   ]
  },
  {
   "cell_type": "markdown",
   "id": "5bb6e8cd",
   "metadata": {},
   "source": [
    "## Pipeline and GridSearch"
   ]
  },
  {
   "cell_type": "code",
   "execution_count": 41,
   "id": "751262e6",
   "metadata": {
    "ExecuteTime": {
     "end_time": "2021-09-15T22:12:48.228085Z",
     "start_time": "2021-09-15T22:12:48.223126Z"
    }
   },
   "outputs": [],
   "source": [
    "cat_transformer = OneHotEncoder(handle_unknown='ignore')"
   ]
  },
  {
   "cell_type": "code",
   "execution_count": 42,
   "id": "2fd543b4",
   "metadata": {
    "ExecuteTime": {
     "end_time": "2021-09-15T22:12:48.613475Z",
     "start_time": "2021-09-15T22:12:48.606685Z"
    }
   },
   "outputs": [],
   "source": [
    "num_transformer= MinMaxScaler()"
   ]
  },
  {
   "cell_type": "code",
   "execution_count": 43,
   "id": "062890ff",
   "metadata": {
    "ExecuteTime": {
     "end_time": "2021-09-15T22:12:49.071428Z",
     "start_time": "2021-09-15T22:12:49.064078Z"
    }
   },
   "outputs": [],
   "source": [
    "cat_features=['target_status', 'shares_at_announcement', 'shares_acquired', \n",
    "              'consideration_offered',\n",
    "               'cross_border', 'relatedness',\n",
    "               'economic_sector_ac', 'business_sector_ac', 'economic_sector_target',\n",
    "               'business_sector_target', 'cluster_category']"
   ]
  },
  {
   "cell_type": "code",
   "execution_count": 44,
   "id": "549dbc82",
   "metadata": {
    "ExecuteTime": {
     "end_time": "2021-09-15T22:13:19.747181Z",
     "start_time": "2021-09-15T22:13:19.741371Z"
    }
   },
   "outputs": [],
   "source": [
    "preprocessor = ColumnTransformer([\n",
    "    ('num_transformer', num_transformer, ['acquisition_count', 'rel_deal_value']),\n",
    "    ('cat_transformer', cat_transformer, cat_features)], remainder='passthrough')"
   ]
  },
  {
   "cell_type": "markdown",
   "id": "afc084be",
   "metadata": {},
   "source": [
    "## Baseline"
   ]
  },
  {
   "cell_type": "code",
   "execution_count": 45,
   "id": "87700c7d",
   "metadata": {
    "ExecuteTime": {
     "end_time": "2021-09-15T22:13:20.828875Z",
     "start_time": "2021-09-15T22:13:20.824185Z"
    }
   },
   "outputs": [],
   "source": [
    "baseline_model_str = DummyClassifier(strategy=\"stratified\") "
   ]
  },
  {
   "cell_type": "code",
   "execution_count": 46,
   "id": "919d1f78",
   "metadata": {
    "ExecuteTime": {
     "end_time": "2021-09-15T22:13:21.514901Z",
     "start_time": "2021-09-15T22:13:21.485067Z"
    }
   },
   "outputs": [
    {
     "data": {
      "text/plain": [
       "0.3549942405792331"
      ]
     },
     "execution_count": 46,
     "metadata": {},
     "output_type": "execute_result"
    }
   ],
   "source": [
    "cross_val_score(baseline_model_str, X_train, y_train, cv=5, scoring='accuracy').mean()"
   ]
  },
  {
   "cell_type": "markdown",
   "id": "013b390c",
   "metadata": {},
   "source": [
    "## SGDClassifier"
   ]
  },
  {
   "cell_type": "code",
   "execution_count": 47,
   "id": "b8632c7b",
   "metadata": {
    "ExecuteTime": {
     "end_time": "2021-09-15T22:13:27.865635Z",
     "start_time": "2021-09-15T22:13:27.861016Z"
    }
   },
   "outputs": [],
   "source": [
    "model= SGDClassifier()"
   ]
  },
  {
   "cell_type": "code",
   "execution_count": 48,
   "id": "02f4e9bd",
   "metadata": {
    "ExecuteTime": {
     "end_time": "2021-09-15T22:13:41.990256Z",
     "start_time": "2021-09-15T22:13:41.984327Z"
    }
   },
   "outputs": [],
   "source": [
    "pipe = Pipeline([\n",
    "    ('preprocessing', preprocessor),\n",
    "    ('model', model)])"
   ]
  },
  {
   "cell_type": "code",
   "execution_count": 49,
   "id": "fa1fe277",
   "metadata": {
    "ExecuteTime": {
     "end_time": "2021-09-15T22:13:48.685431Z",
     "start_time": "2021-09-15T22:13:48.679536Z"
    }
   },
   "outputs": [],
   "source": [
    "grid = {\n",
    "    'model__alpha': [1e-4, 1e-3, 1e-2, 1e-1, 1e0, 1e1, 1e2, 1e3], \n",
    "    'model__loss': ['hinge', 'log', 'modified_huber'],\n",
    "    'model__penalty': ['l2', 'l1', 'elasticnet'],\n",
    "    'model__n_jobs': [-1]\n",
    "}"
   ]
  },
  {
   "cell_type": "code",
   "execution_count": 50,
   "id": "78ea3f4b",
   "metadata": {
    "ExecuteTime": {
     "end_time": "2021-09-15T22:13:49.059105Z",
     "start_time": "2021-09-15T22:13:49.053001Z"
    }
   },
   "outputs": [],
   "source": [
    "search = GridSearchCV(pipe, \n",
    "                      grid, \n",
    "                      scoring = 'accuracy',\n",
    "                      cv = 5,\n",
    "                      n_jobs=-1) "
   ]
  },
  {
   "cell_type": "code",
   "execution_count": 51,
   "id": "2de88b5f",
   "metadata": {
    "ExecuteTime": {
     "end_time": "2021-09-15T22:14:15.306903Z",
     "start_time": "2021-09-15T22:13:49.434388Z"
    }
   },
   "outputs": [],
   "source": [
    "# Fit data to Grid Search\n",
    "search.fit(X_train,y_train);"
   ]
  },
  {
   "cell_type": "code",
   "execution_count": 52,
   "id": "23cc4e4d",
   "metadata": {
    "ExecuteTime": {
     "end_time": "2021-09-15T22:14:15.327984Z",
     "start_time": "2021-09-15T22:14:15.316057Z"
    }
   },
   "outputs": [
    {
     "data": {
      "text/plain": [
       "0.4224194268788641"
      ]
     },
     "execution_count": 52,
     "metadata": {},
     "output_type": "execute_result"
    }
   ],
   "source": [
    "# Best score 1\n",
    "search.best_score_"
   ]
  },
  {
   "cell_type": "markdown",
   "id": "2c49ffab",
   "metadata": {},
   "source": [
    "# Car_3"
   ]
  },
  {
   "cell_type": "markdown",
   "id": "0438bb73",
   "metadata": {},
   "source": [
    "## Splitting of the dataset"
   ]
  },
  {
   "cell_type": "code",
   "execution_count": 53,
   "id": "ca2ce8c8",
   "metadata": {
    "ExecuteTime": {
     "end_time": "2021-09-15T22:14:15.352809Z",
     "start_time": "2021-09-15T22:14:15.336753Z"
    }
   },
   "outputs": [],
   "source": [
    "from sklearn.model_selection import train_test_split\n",
    "X_train, X_test, y_train, y_test = train_test_split(X,y_3, test_size=0.3, random_state=0)"
   ]
  },
  {
   "cell_type": "markdown",
   "id": "db2eae80",
   "metadata": {},
   "source": [
    "## Pipeline and GridSearch"
   ]
  },
  {
   "cell_type": "code",
   "execution_count": 54,
   "id": "1fe58e34",
   "metadata": {
    "ExecuteTime": {
     "end_time": "2021-09-15T22:14:15.375918Z",
     "start_time": "2021-09-15T22:14:15.368637Z"
    }
   },
   "outputs": [],
   "source": [
    "cat_transformer = OneHotEncoder(handle_unknown='ignore')"
   ]
  },
  {
   "cell_type": "code",
   "execution_count": 55,
   "id": "8554b0d8",
   "metadata": {
    "ExecuteTime": {
     "end_time": "2021-09-15T22:14:15.384817Z",
     "start_time": "2021-09-15T22:14:15.380490Z"
    }
   },
   "outputs": [],
   "source": [
    "num_transformer= MinMaxScaler()"
   ]
  },
  {
   "cell_type": "code",
   "execution_count": 56,
   "id": "13501b7c",
   "metadata": {
    "ExecuteTime": {
     "end_time": "2021-09-15T22:14:15.397905Z",
     "start_time": "2021-09-15T22:14:15.390221Z"
    }
   },
   "outputs": [],
   "source": [
    "cat_features=['target_status', 'shares_at_announcement', 'shares_acquired', \n",
    "              'consideration_offered',\n",
    "               'cross_border', 'relatedness',\n",
    "               'economic_sector_ac', 'business_sector_ac', 'economic_sector_target',\n",
    "               'business_sector_target', 'cluster_category']"
   ]
  },
  {
   "cell_type": "code",
   "execution_count": 57,
   "id": "d2873564",
   "metadata": {
    "ExecuteTime": {
     "end_time": "2021-09-15T22:14:21.512551Z",
     "start_time": "2021-09-15T22:14:21.506499Z"
    }
   },
   "outputs": [],
   "source": [
    "preprocessor = ColumnTransformer([\n",
    "    ('num_transformer', num_transformer, ['acquisition_count', 'rel_deal_value']),\n",
    "    ('cat_transformer', cat_transformer, cat_features)], remainder='passthrough')"
   ]
  },
  {
   "cell_type": "markdown",
   "id": "00111358",
   "metadata": {},
   "source": [
    "## Baseline"
   ]
  },
  {
   "cell_type": "code",
   "execution_count": 58,
   "id": "66f61beb",
   "metadata": {
    "ExecuteTime": {
     "end_time": "2021-09-15T22:14:46.130302Z",
     "start_time": "2021-09-15T22:14:46.125405Z"
    }
   },
   "outputs": [],
   "source": [
    "baseline_model_str = DummyClassifier(strategy=\"stratified\") "
   ]
  },
  {
   "cell_type": "code",
   "execution_count": 59,
   "id": "5a92cf6b",
   "metadata": {
    "ExecuteTime": {
     "end_time": "2021-09-15T22:14:47.486219Z",
     "start_time": "2021-09-15T22:14:47.455703Z"
    }
   },
   "outputs": [
    {
     "data": {
      "text/plain": [
       "0.37149791955617195"
      ]
     },
     "execution_count": 59,
     "metadata": {},
     "output_type": "execute_result"
    }
   ],
   "source": [
    "cross_val_score(baseline_model_str, X_train, y_train, cv=5, scoring='accuracy').mean()"
   ]
  },
  {
   "cell_type": "markdown",
   "id": "a179d116",
   "metadata": {},
   "source": [
    "## SGDClassifier"
   ]
  },
  {
   "cell_type": "code",
   "execution_count": 60,
   "id": "70d310d7",
   "metadata": {
    "ExecuteTime": {
     "end_time": "2021-09-15T22:14:52.984278Z",
     "start_time": "2021-09-15T22:14:52.978188Z"
    }
   },
   "outputs": [],
   "source": [
    "model= SGDClassifier()"
   ]
  },
  {
   "cell_type": "code",
   "execution_count": 61,
   "id": "8e03657a",
   "metadata": {
    "ExecuteTime": {
     "end_time": "2021-09-15T22:14:53.195962Z",
     "start_time": "2021-09-15T22:14:53.190546Z"
    }
   },
   "outputs": [],
   "source": [
    "pipe = Pipeline([\n",
    "    ('preprocessing', preprocessor),\n",
    "    ('model', model)])"
   ]
  },
  {
   "cell_type": "code",
   "execution_count": 62,
   "id": "b720421e",
   "metadata": {
    "ExecuteTime": {
     "end_time": "2021-09-15T22:14:53.461346Z",
     "start_time": "2021-09-15T22:14:53.455929Z"
    }
   },
   "outputs": [],
   "source": [
    "grid = {\n",
    "    'model__alpha': [1e-4, 1e-3, 1e-2, 1e-1, 1e0, 1e1, 1e2, 1e3], \n",
    "    'model__loss': ['hinge', 'log', 'modified_huber'],\n",
    "    'model__penalty': ['l2', 'l1', 'elasticnet'],\n",
    "    'model__n_jobs': [-1]\n",
    "}"
   ]
  },
  {
   "cell_type": "code",
   "execution_count": 63,
   "id": "73c8110d",
   "metadata": {
    "ExecuteTime": {
     "end_time": "2021-09-15T22:14:53.751801Z",
     "start_time": "2021-09-15T22:14:53.745741Z"
    }
   },
   "outputs": [],
   "source": [
    "search = GridSearchCV(pipe, \n",
    "                      grid, \n",
    "                      scoring = 'accuracy',\n",
    "                      cv = 5,\n",
    "                      n_jobs=-1) "
   ]
  },
  {
   "cell_type": "code",
   "execution_count": 64,
   "id": "799e631c",
   "metadata": {
    "ExecuteTime": {
     "end_time": "2021-09-15T22:15:09.005846Z",
     "start_time": "2021-09-15T22:14:54.293818Z"
    }
   },
   "outputs": [],
   "source": [
    "# Fit data to Grid Search\n",
    "search.fit(X_train,y_train);"
   ]
  },
  {
   "cell_type": "code",
   "execution_count": 65,
   "id": "22799f7d",
   "metadata": {
    "ExecuteTime": {
     "end_time": "2021-09-15T22:15:09.060135Z",
     "start_time": "2021-09-15T22:15:09.041698Z"
    }
   },
   "outputs": [
    {
     "data": {
      "text/plain": [
       "0.44859658196008373"
      ]
     },
     "execution_count": 65,
     "metadata": {},
     "output_type": "execute_result"
    }
   ],
   "source": [
    "# Best score 1\n",
    "search.best_score_"
   ]
  },
  {
   "cell_type": "markdown",
   "id": "2a40aefd",
   "metadata": {},
   "source": [
    "# Car_5"
   ]
  },
  {
   "cell_type": "markdown",
   "id": "e8648afc",
   "metadata": {},
   "source": [
    "## Splitting of the dataset"
   ]
  },
  {
   "cell_type": "code",
   "execution_count": 66,
   "id": "d699b078",
   "metadata": {
    "ExecuteTime": {
     "end_time": "2021-09-15T22:15:09.084800Z",
     "start_time": "2021-09-15T22:15:09.068491Z"
    }
   },
   "outputs": [],
   "source": [
    "from sklearn.model_selection import train_test_split\n",
    "X_train, X_test, y_train, y_test = train_test_split(X,y_5, test_size=0.3, random_state=0)"
   ]
  },
  {
   "cell_type": "markdown",
   "id": "b150ba7b",
   "metadata": {},
   "source": [
    "## Pipeline and GridSearch"
   ]
  },
  {
   "cell_type": "code",
   "execution_count": 67,
   "id": "8ae9641e",
   "metadata": {
    "ExecuteTime": {
     "end_time": "2021-09-15T22:15:19.523148Z",
     "start_time": "2021-09-15T22:15:19.514819Z"
    }
   },
   "outputs": [],
   "source": [
    "cat_transformer = OneHotEncoder(handle_unknown='ignore')"
   ]
  },
  {
   "cell_type": "code",
   "execution_count": 68,
   "id": "bc8e313a",
   "metadata": {
    "ExecuteTime": {
     "end_time": "2021-09-15T22:15:19.963117Z",
     "start_time": "2021-09-15T22:15:19.958019Z"
    }
   },
   "outputs": [],
   "source": [
    "num_transformer= MinMaxScaler()"
   ]
  },
  {
   "cell_type": "code",
   "execution_count": 69,
   "id": "f4063cfd",
   "metadata": {
    "ExecuteTime": {
     "end_time": "2021-09-15T22:15:32.371872Z",
     "start_time": "2021-09-15T22:15:32.367087Z"
    }
   },
   "outputs": [],
   "source": [
    "cat_features=['target_status', 'shares_at_announcement', 'shares_acquired', \n",
    "              'consideration_offered',\n",
    "               'cross_border', 'relatedness',\n",
    "               'economic_sector_ac', 'business_sector_ac', 'economic_sector_target',\n",
    "               'business_sector_target', 'cluster_category']"
   ]
  },
  {
   "cell_type": "code",
   "execution_count": 70,
   "id": "43ee8151",
   "metadata": {
    "ExecuteTime": {
     "end_time": "2021-09-15T22:15:44.047026Z",
     "start_time": "2021-09-15T22:15:44.041301Z"
    }
   },
   "outputs": [],
   "source": [
    "preprocessor = ColumnTransformer([\n",
    "    ('num_transformer', num_transformer, ['acquisition_count', 'rel_deal_value']),\n",
    "    ('cat_transformer', cat_transformer, cat_features)], remainder='passthrough')"
   ]
  },
  {
   "cell_type": "markdown",
   "id": "6e20c387",
   "metadata": {},
   "source": [
    "## Baseline"
   ]
  },
  {
   "cell_type": "code",
   "execution_count": 71,
   "id": "6a27185f",
   "metadata": {
    "ExecuteTime": {
     "end_time": "2021-09-15T22:15:46.910929Z",
     "start_time": "2021-09-15T22:15:46.907131Z"
    }
   },
   "outputs": [],
   "source": [
    "baseline_model_str = DummyClassifier(strategy=\"stratified\") "
   ]
  },
  {
   "cell_type": "code",
   "execution_count": 72,
   "id": "859a1228",
   "metadata": {
    "ExecuteTime": {
     "end_time": "2021-09-15T22:15:47.263609Z",
     "start_time": "2021-09-15T22:15:47.235672Z"
    }
   },
   "outputs": [
    {
     "data": {
      "text/plain": [
       "0.37195279625755184"
      ]
     },
     "execution_count": 72,
     "metadata": {},
     "output_type": "execute_result"
    }
   ],
   "source": [
    "cross_val_score(baseline_model_str, X_train, y_train, cv=5, scoring='accuracy').mean()"
   ]
  },
  {
   "cell_type": "markdown",
   "id": "e707052a",
   "metadata": {},
   "source": [
    "## SGDClassifier"
   ]
  },
  {
   "cell_type": "code",
   "execution_count": 73,
   "id": "dbe902b1",
   "metadata": {
    "ExecuteTime": {
     "end_time": "2021-09-15T22:16:19.846122Z",
     "start_time": "2021-09-15T22:16:19.841592Z"
    }
   },
   "outputs": [],
   "source": [
    "model= SGDClassifier()"
   ]
  },
  {
   "cell_type": "code",
   "execution_count": 74,
   "id": "a680f2fa",
   "metadata": {
    "ExecuteTime": {
     "end_time": "2021-09-15T22:16:20.362565Z",
     "start_time": "2021-09-15T22:16:20.356834Z"
    }
   },
   "outputs": [],
   "source": [
    "pipe = Pipeline([\n",
    "    ('preprocessing', preprocessor),\n",
    "    ('model', model)])"
   ]
  },
  {
   "cell_type": "code",
   "execution_count": 75,
   "id": "77799db5",
   "metadata": {
    "ExecuteTime": {
     "end_time": "2021-09-15T22:16:39.455857Z",
     "start_time": "2021-09-15T22:16:39.448133Z"
    }
   },
   "outputs": [],
   "source": [
    "grid = {\n",
    "    'model__alpha': [1e-4, 1e-3, 1e-2, 1e-1, 1e0, 1e1, 1e2, 1e3], \n",
    "    'model__loss': ['hinge', 'log', 'modified_huber'],\n",
    "    'model__penalty': ['l2', 'l1', 'elasticnet'],\n",
    "    'model__n_jobs': [-1]\n",
    "}"
   ]
  },
  {
   "cell_type": "code",
   "execution_count": 76,
   "id": "233e4f1b",
   "metadata": {
    "ExecuteTime": {
     "end_time": "2021-09-15T22:16:39.830764Z",
     "start_time": "2021-09-15T22:16:39.825700Z"
    }
   },
   "outputs": [],
   "source": [
    "search = GridSearchCV(pipe, \n",
    "                      grid, \n",
    "                      scoring = 'accuracy',\n",
    "                      cv = 5,\n",
    "                      n_jobs=-1) "
   ]
  },
  {
   "cell_type": "code",
   "execution_count": 77,
   "id": "fabfe32e",
   "metadata": {
    "ExecuteTime": {
     "end_time": "2021-09-15T22:16:59.601391Z",
     "start_time": "2021-09-15T22:16:40.229642Z"
    }
   },
   "outputs": [],
   "source": [
    "# Fit data to Grid Search\n",
    "search.fit(X_train,y_train);"
   ]
  },
  {
   "cell_type": "code",
   "execution_count": 78,
   "id": "84e6c371",
   "metadata": {
    "ExecuteTime": {
     "end_time": "2021-09-15T22:16:59.621947Z",
     "start_time": "2021-09-15T22:16:59.611005Z"
    }
   },
   "outputs": [
    {
     "data": {
      "text/plain": [
       "0.45975222736782717"
      ]
     },
     "execution_count": 78,
     "metadata": {},
     "output_type": "execute_result"
    }
   ],
   "source": [
    "# Best score 1\n",
    "search.best_score_"
   ]
  },
  {
   "cell_type": "markdown",
   "id": "46185a91",
   "metadata": {},
   "source": [
    "# Car_10"
   ]
  },
  {
   "cell_type": "markdown",
   "id": "4f942b7b",
   "metadata": {},
   "source": [
    "## Splitting of the dataset"
   ]
  },
  {
   "cell_type": "code",
   "execution_count": 79,
   "id": "dcdc7fcf",
   "metadata": {
    "ExecuteTime": {
     "end_time": "2021-09-15T22:17:31.804720Z",
     "start_time": "2021-09-15T22:17:31.792424Z"
    }
   },
   "outputs": [],
   "source": [
    "from sklearn.model_selection import train_test_split\n",
    "X_train, X_test, y_train, y_test = train_test_split(X,y_10, test_size=0.3, random_state=0)"
   ]
  },
  {
   "cell_type": "markdown",
   "id": "9b5674b7",
   "metadata": {},
   "source": [
    "## Pipeline and GridSearch"
   ]
  },
  {
   "cell_type": "code",
   "execution_count": 80,
   "id": "eba06da1",
   "metadata": {
    "ExecuteTime": {
     "end_time": "2021-09-15T22:17:32.908711Z",
     "start_time": "2021-09-15T22:17:32.903625Z"
    }
   },
   "outputs": [],
   "source": [
    "cat_transformer = OneHotEncoder(handle_unknown='ignore')"
   ]
  },
  {
   "cell_type": "code",
   "execution_count": 81,
   "id": "a27a11d2",
   "metadata": {
    "ExecuteTime": {
     "end_time": "2021-09-15T22:17:33.064342Z",
     "start_time": "2021-09-15T22:17:33.059704Z"
    }
   },
   "outputs": [],
   "source": [
    "num_transformer= MinMaxScaler()"
   ]
  },
  {
   "cell_type": "code",
   "execution_count": 82,
   "id": "952ac167",
   "metadata": {
    "ExecuteTime": {
     "end_time": "2021-09-15T22:17:33.333809Z",
     "start_time": "2021-09-15T22:17:33.328463Z"
    }
   },
   "outputs": [],
   "source": [
    "cat_features=['target_status', 'shares_at_announcement', 'shares_acquired', \n",
    "              'consideration_offered',\n",
    "               'cross_border', 'relatedness',\n",
    "               'economic_sector_ac', 'business_sector_ac', 'economic_sector_target',\n",
    "               'business_sector_target', 'cluster_category']"
   ]
  },
  {
   "cell_type": "code",
   "execution_count": 83,
   "id": "7c79369a",
   "metadata": {
    "ExecuteTime": {
     "end_time": "2021-09-15T22:17:33.592331Z",
     "start_time": "2021-09-15T22:17:33.587837Z"
    }
   },
   "outputs": [],
   "source": [
    "preprocessor = ColumnTransformer([\n",
    "    ('num_transformer', num_transformer, ['acquisition_count', 'rel_deal_value']),\n",
    "    ('cat_transformer', cat_transformer, cat_features)], remainder='passthrough')"
   ]
  },
  {
   "cell_type": "markdown",
   "id": "0ec69cba",
   "metadata": {},
   "source": [
    "## Baseline"
   ]
  },
  {
   "cell_type": "code",
   "execution_count": 84,
   "id": "44e055f9",
   "metadata": {
    "ExecuteTime": {
     "end_time": "2021-09-15T22:17:34.449359Z",
     "start_time": "2021-09-15T22:17:34.444093Z"
    }
   },
   "outputs": [],
   "source": [
    "baseline_model_str = DummyClassifier(strategy=\"stratified\") "
   ]
  },
  {
   "cell_type": "code",
   "execution_count": 85,
   "id": "ce0a7b2a",
   "metadata": {
    "ExecuteTime": {
     "end_time": "2021-09-15T22:17:35.272348Z",
     "start_time": "2021-09-15T22:17:35.243532Z"
    }
   },
   "outputs": [
    {
     "data": {
      "text/plain": [
       "0.37538494087778274"
      ]
     },
     "execution_count": 85,
     "metadata": {},
     "output_type": "execute_result"
    }
   ],
   "source": [
    "cross_val_score(baseline_model_str, X_train, y_train, cv=5, scoring='accuracy').mean()"
   ]
  },
  {
   "cell_type": "markdown",
   "id": "280c6ddf",
   "metadata": {},
   "source": [
    "## SGDClassifier"
   ]
  },
  {
   "cell_type": "code",
   "execution_count": 86,
   "id": "8f4542cf",
   "metadata": {
    "ExecuteTime": {
     "end_time": "2021-09-15T22:17:36.983371Z",
     "start_time": "2021-09-15T22:17:36.977139Z"
    }
   },
   "outputs": [],
   "source": [
    "model= SGDClassifier()"
   ]
  },
  {
   "cell_type": "code",
   "execution_count": 87,
   "id": "fdf75b73",
   "metadata": {
    "ExecuteTime": {
     "end_time": "2021-09-15T22:17:37.737533Z",
     "start_time": "2021-09-15T22:17:37.732526Z"
    }
   },
   "outputs": [],
   "source": [
    "pipe = Pipeline([\n",
    "    ('preprocessing', preprocessor),\n",
    "    ('model', model)])"
   ]
  },
  {
   "cell_type": "code",
   "execution_count": 88,
   "id": "d99c907f",
   "metadata": {
    "ExecuteTime": {
     "end_time": "2021-09-15T22:17:38.096578Z",
     "start_time": "2021-09-15T22:17:38.092096Z"
    }
   },
   "outputs": [],
   "source": [
    "grid = {\n",
    "    'model__alpha': [1e-4, 1e-3, 1e-2, 1e-1, 1e0, 1e1, 1e2, 1e3], \n",
    "    'model__loss': ['hinge', 'log', 'modified_huber'],\n",
    "    'model__penalty': ['l2', 'l1', 'elasticnet'],\n",
    "    'model__n_jobs': [-1]\n",
    "}"
   ]
  },
  {
   "cell_type": "code",
   "execution_count": 89,
   "id": "a9ac8149",
   "metadata": {
    "ExecuteTime": {
     "end_time": "2021-09-15T22:17:38.656611Z",
     "start_time": "2021-09-15T22:17:38.651517Z"
    }
   },
   "outputs": [],
   "source": [
    "search = GridSearchCV(pipe, \n",
    "                      grid, \n",
    "                      scoring = 'accuracy',\n",
    "                      cv = 5,\n",
    "                      n_jobs=-1) "
   ]
  },
  {
   "cell_type": "code",
   "execution_count": 90,
   "id": "b208de05",
   "metadata": {
    "ExecuteTime": {
     "end_time": "2021-09-15T22:17:53.604265Z",
     "start_time": "2021-09-15T22:17:39.371388Z"
    }
   },
   "outputs": [],
   "source": [
    "# Fit data to Grid Search\n",
    "search.fit(X_train,y_train);"
   ]
  },
  {
   "cell_type": "code",
   "execution_count": 91,
   "id": "d59fcd45",
   "metadata": {
    "ExecuteTime": {
     "end_time": "2021-09-15T22:17:53.677370Z",
     "start_time": "2021-09-15T22:17:53.635407Z"
    }
   },
   "outputs": [
    {
     "data": {
      "text/plain": [
       "0.4767237123580714"
      ]
     },
     "execution_count": 91,
     "metadata": {},
     "output_type": "execute_result"
    }
   ],
   "source": [
    "# Best score 1\n",
    "search.best_score_"
   ]
  },
  {
   "cell_type": "code",
   "execution_count": null,
   "id": "011d6833",
   "metadata": {},
   "outputs": [],
   "source": []
  }
 ],
 "metadata": {
  "kernelspec": {
   "display_name": "Python 3 (ipykernel)",
   "language": "python",
   "name": "python3"
  },
  "language_info": {
   "codemirror_mode": {
    "name": "ipython",
    "version": 3
   },
   "file_extension": ".py",
   "mimetype": "text/x-python",
   "name": "python",
   "nbconvert_exporter": "python",
   "pygments_lexer": "ipython3",
   "version": "3.8.6"
  },
  "toc": {
   "base_numbering": 1,
   "nav_menu": {},
   "number_sections": true,
   "sideBar": true,
   "skip_h1_title": false,
   "title_cell": "Table of Contents",
   "title_sidebar": "Contents",
   "toc_cell": false,
   "toc_position": {},
   "toc_section_display": true,
   "toc_window_display": false
  }
 },
 "nbformat": 4,
 "nbformat_minor": 5
}
