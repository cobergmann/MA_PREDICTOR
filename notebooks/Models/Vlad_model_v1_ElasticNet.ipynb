{
 "cells": [
  {
   "cell_type": "code",
   "execution_count": 6,
   "id": "a30b4ee7",
   "metadata": {
    "ExecuteTime": {
     "end_time": "2021-09-15T08:15:33.125791Z",
     "start_time": "2021-09-15T08:15:28.817350Z"
    }
   },
   "outputs": [],
   "source": [
    "from sklearn.preprocessing import OneHotEncoder\n",
    "from sklearn.compose import ColumnTransformer\n",
    "import numpy as np\n",
    "import pandas as pd\n",
    "from sklearn.model_selection import train_test_split\n",
    "from sklearn.linear_model import LinearRegression\n",
    "from sklearn.model_selection import cross_val_score\n",
    "from sklearn.pipeline import Pipeline\n",
    "from sklearn.ensemble import RandomForestRegressor\n",
    "from xgboost import XGBRegressor\n",
    "from sklearn.metrics import r2_score,mean_squared_error\n",
    "from sklearn.model_selection import GridSearchCV\n",
    "from sklearn.linear_model import ElasticNet\n",
    "from sklearn.dummy import DummyRegressor\n",
    "import xgboost as xgb\n",
    "from sklearn.preprocessing import MinMaxScaler\n",
    "from sklearn.svm import SVR\n",
    "from sklearn.linear_model import Ridge"
   ]
  },
  {
   "cell_type": "code",
   "execution_count": 7,
   "id": "d5731e5f",
   "metadata": {
    "ExecuteTime": {
     "end_time": "2021-09-15T08:15:33.305554Z",
     "start_time": "2021-09-15T08:15:33.143306Z"
    }
   },
   "outputs": [
    {
     "name": "stdout",
     "output_type": "stream",
     "text": [
      "/Users/manonlaffly/code/cobergmann/MA_PREDICTOR/notebooks/Models\r\n"
     ]
    }
   ],
   "source": [
    "!pwd"
   ]
  },
  {
   "cell_type": "code",
   "execution_count": 8,
   "id": "4b853f21",
   "metadata": {
    "ExecuteTime": {
     "end_time": "2021-09-15T08:15:33.597255Z",
     "start_time": "2021-09-15T08:15:33.320549Z"
    }
   },
   "outputs": [],
   "source": [
    "data_orig = pd.read_csv('../../MA_PREDICTOR/data/ma_data_car_clean.csv')"
   ]
  },
  {
   "cell_type": "code",
   "execution_count": 9,
   "id": "83c28433",
   "metadata": {
    "ExecuteTime": {
     "end_time": "2021-09-15T08:15:33.654739Z",
     "start_time": "2021-09-15T08:15:33.633856Z"
    }
   },
   "outputs": [],
   "source": [
    "data = data_orig[(data_orig.car > -0.3) & (data_orig.car < 0.3)]"
   ]
  },
  {
   "cell_type": "code",
   "execution_count": 10,
   "id": "ee599922",
   "metadata": {
    "ExecuteTime": {
     "end_time": "2021-09-15T08:15:40.519461Z",
     "start_time": "2021-09-15T08:15:40.508697Z"
    },
    "scrolled": true
   },
   "outputs": [],
   "source": [
    "data.drop('month', inplace=True, axis=1)"
   ]
  },
  {
   "cell_type": "code",
   "execution_count": 11,
   "id": "a910692f",
   "metadata": {
    "ExecuteTime": {
     "end_time": "2021-09-15T08:15:40.781312Z",
     "start_time": "2021-09-15T08:15:40.725151Z"
    }
   },
   "outputs": [
    {
     "data": {
      "text/html": [
       "<div>\n",
       "<style scoped>\n",
       "    .dataframe tbody tr th:only-of-type {\n",
       "        vertical-align: middle;\n",
       "    }\n",
       "\n",
       "    .dataframe tbody tr th {\n",
       "        vertical-align: top;\n",
       "    }\n",
       "\n",
       "    .dataframe thead th {\n",
       "        text-align: right;\n",
       "    }\n",
       "</style>\n",
       "<table border=\"1\" class=\"dataframe\">\n",
       "  <thead>\n",
       "    <tr style=\"text-align: right;\">\n",
       "      <th></th>\n",
       "      <th>consideration_offered</th>\n",
       "      <th>shares_acquired</th>\n",
       "      <th>shares_at_announcement</th>\n",
       "      <th>acquiror_code</th>\n",
       "      <th>target_code</th>\n",
       "      <th>target_status</th>\n",
       "      <th>acquisition_count</th>\n",
       "      <th>bidder_count</th>\n",
       "      <th>cross_border</th>\n",
       "      <th>relatedness</th>\n",
       "      <th>economic_sector_ac</th>\n",
       "      <th>business_sector_ac</th>\n",
       "      <th>economic_sector_target</th>\n",
       "      <th>business_sector_target</th>\n",
       "      <th>car</th>\n",
       "    </tr>\n",
       "  </thead>\n",
       "  <tbody>\n",
       "    <tr>\n",
       "      <th>0</th>\n",
       "      <td>Cash</td>\n",
       "      <td>full</td>\n",
       "      <td>no</td>\n",
       "      <td>50102030</td>\n",
       "      <td>50103030</td>\n",
       "      <td>others</td>\n",
       "      <td>15</td>\n",
       "      <td>1</td>\n",
       "      <td>cross_border</td>\n",
       "      <td>business_sector</td>\n",
       "      <td>Energy</td>\n",
       "      <td>Energy - Fossil Fuels</td>\n",
       "      <td>Energy</td>\n",
       "      <td>Energy - Fossil Fuels</td>\n",
       "      <td>0.006854</td>\n",
       "    </tr>\n",
       "    <tr>\n",
       "      <th>1</th>\n",
       "      <td>Other</td>\n",
       "      <td>full</td>\n",
       "      <td>no</td>\n",
       "      <td>54201030</td>\n",
       "      <td>63103010</td>\n",
       "      <td>others</td>\n",
       "      <td>31</td>\n",
       "      <td>1</td>\n",
       "      <td>cross_border</td>\n",
       "      <td>not_related</td>\n",
       "      <td>Consumer Non-Cyclicals</td>\n",
       "      <td>Personal &amp; Household Products &amp; Services</td>\n",
       "      <td>Academic &amp; Educational Services</td>\n",
       "      <td>Academic &amp; Educational Services</td>\n",
       "      <td>-0.010266</td>\n",
       "    </tr>\n",
       "    <tr>\n",
       "      <th>2</th>\n",
       "      <td>Other</td>\n",
       "      <td>full</td>\n",
       "      <td>no</td>\n",
       "      <td>57201030</td>\n",
       "      <td>57201020</td>\n",
       "      <td>others</td>\n",
       "      <td>2</td>\n",
       "      <td>1</td>\n",
       "      <td>cross_border</td>\n",
       "      <td>industry_group</td>\n",
       "      <td>Technology</td>\n",
       "      <td>Software &amp; IT Services</td>\n",
       "      <td>Technology</td>\n",
       "      <td>Software &amp; IT Services</td>\n",
       "      <td>0.007746</td>\n",
       "    </tr>\n",
       "    <tr>\n",
       "      <th>3</th>\n",
       "      <td>Cash</td>\n",
       "      <td>full</td>\n",
       "      <td>no</td>\n",
       "      <td>52102010</td>\n",
       "      <td>51101010</td>\n",
       "      <td>others</td>\n",
       "      <td>7</td>\n",
       "      <td>1</td>\n",
       "      <td>national</td>\n",
       "      <td>not_related</td>\n",
       "      <td>Industrials</td>\n",
       "      <td>Industrial Goods</td>\n",
       "      <td>Basic Materials</td>\n",
       "      <td>Chemicals</td>\n",
       "      <td>-0.011133</td>\n",
       "    </tr>\n",
       "    <tr>\n",
       "      <th>4</th>\n",
       "      <td>Cash</td>\n",
       "      <td>not_full</td>\n",
       "      <td>no</td>\n",
       "      <td>50102030</td>\n",
       "      <td>50102030</td>\n",
       "      <td>public</td>\n",
       "      <td>8</td>\n",
       "      <td>1</td>\n",
       "      <td>cross_border</td>\n",
       "      <td>industry</td>\n",
       "      <td>Energy</td>\n",
       "      <td>Energy - Fossil Fuels</td>\n",
       "      <td>Energy</td>\n",
       "      <td>Energy - Fossil Fuels</td>\n",
       "      <td>-0.003971</td>\n",
       "    </tr>\n",
       "    <tr>\n",
       "      <th>...</th>\n",
       "      <td>...</td>\n",
       "      <td>...</td>\n",
       "      <td>...</td>\n",
       "      <td>...</td>\n",
       "      <td>...</td>\n",
       "      <td>...</td>\n",
       "      <td>...</td>\n",
       "      <td>...</td>\n",
       "      <td>...</td>\n",
       "      <td>...</td>\n",
       "      <td>...</td>\n",
       "      <td>...</td>\n",
       "      <td>...</td>\n",
       "      <td>...</td>\n",
       "      <td>...</td>\n",
       "    </tr>\n",
       "    <tr>\n",
       "      <th>18219</th>\n",
       "      <td>Cash</td>\n",
       "      <td>full</td>\n",
       "      <td>no</td>\n",
       "      <td>52102010</td>\n",
       "      <td>59103010</td>\n",
       "      <td>others</td>\n",
       "      <td>15</td>\n",
       "      <td>1</td>\n",
       "      <td>cross_border</td>\n",
       "      <td>not_related</td>\n",
       "      <td>Industrials</td>\n",
       "      <td>Industrial Goods</td>\n",
       "      <td>Utilities</td>\n",
       "      <td>Utilities</td>\n",
       "      <td>0.020108</td>\n",
       "    </tr>\n",
       "    <tr>\n",
       "      <th>18220</th>\n",
       "      <td>Other</td>\n",
       "      <td>full</td>\n",
       "      <td>no</td>\n",
       "      <td>53203020</td>\n",
       "      <td>53205020</td>\n",
       "      <td>others</td>\n",
       "      <td>60</td>\n",
       "      <td>1</td>\n",
       "      <td>cross_border</td>\n",
       "      <td>business_sector</td>\n",
       "      <td>Consumer Cyclicals</td>\n",
       "      <td>Cyclical Consumer Products</td>\n",
       "      <td>Consumer Cyclicals</td>\n",
       "      <td>Cyclical Consumer Products</td>\n",
       "      <td>-0.040156</td>\n",
       "    </tr>\n",
       "    <tr>\n",
       "      <th>18221</th>\n",
       "      <td>Other</td>\n",
       "      <td>full</td>\n",
       "      <td>no</td>\n",
       "      <td>54301020</td>\n",
       "      <td>57201010</td>\n",
       "      <td>others</td>\n",
       "      <td>52</td>\n",
       "      <td>1</td>\n",
       "      <td>national</td>\n",
       "      <td>not_related</td>\n",
       "      <td>Consumer Non-Cyclicals</td>\n",
       "      <td>Food &amp; Drug Retailing</td>\n",
       "      <td>Technology</td>\n",
       "      <td>Software &amp; IT Services</td>\n",
       "      <td>-0.003545</td>\n",
       "    </tr>\n",
       "    <tr>\n",
       "      <th>18222</th>\n",
       "      <td>Other</td>\n",
       "      <td>full</td>\n",
       "      <td>no</td>\n",
       "      <td>55101010</td>\n",
       "      <td>52203030</td>\n",
       "      <td>others</td>\n",
       "      <td>6</td>\n",
       "      <td>1</td>\n",
       "      <td>cross_border</td>\n",
       "      <td>not_related</td>\n",
       "      <td>Financials</td>\n",
       "      <td>Banking &amp; Investment Services</td>\n",
       "      <td>Industrials</td>\n",
       "      <td>Industrial &amp; Commercial Services</td>\n",
       "      <td>-0.025992</td>\n",
       "    </tr>\n",
       "    <tr>\n",
       "      <th>18223</th>\n",
       "      <td>Other</td>\n",
       "      <td>full</td>\n",
       "      <td>no</td>\n",
       "      <td>53403010</td>\n",
       "      <td>55101050</td>\n",
       "      <td>others</td>\n",
       "      <td>73</td>\n",
       "      <td>1</td>\n",
       "      <td>national</td>\n",
       "      <td>not_related</td>\n",
       "      <td>Consumer Cyclicals</td>\n",
       "      <td>Retailers</td>\n",
       "      <td>Financials</td>\n",
       "      <td>Banking &amp; Investment Services</td>\n",
       "      <td>-0.000099</td>\n",
       "    </tr>\n",
       "  </tbody>\n",
       "</table>\n",
       "<p>18224 rows × 15 columns</p>\n",
       "</div>"
      ],
      "text/plain": [
       "      consideration_offered shares_acquired shares_at_announcement  \\\n",
       "0                      Cash            full                     no   \n",
       "1                     Other            full                     no   \n",
       "2                     Other            full                     no   \n",
       "3                      Cash            full                     no   \n",
       "4                      Cash        not_full                     no   \n",
       "...                     ...             ...                    ...   \n",
       "18219                  Cash            full                     no   \n",
       "18220                 Other            full                     no   \n",
       "18221                 Other            full                     no   \n",
       "18222                 Other            full                     no   \n",
       "18223                 Other            full                     no   \n",
       "\n",
       "       acquiror_code  target_code target_status  acquisition_count  \\\n",
       "0           50102030     50103030        others                 15   \n",
       "1           54201030     63103010        others                 31   \n",
       "2           57201030     57201020        others                  2   \n",
       "3           52102010     51101010        others                  7   \n",
       "4           50102030     50102030        public                  8   \n",
       "...              ...          ...           ...                ...   \n",
       "18219       52102010     59103010        others                 15   \n",
       "18220       53203020     53205020        others                 60   \n",
       "18221       54301020     57201010        others                 52   \n",
       "18222       55101010     52203030        others                  6   \n",
       "18223       53403010     55101050        others                 73   \n",
       "\n",
       "       bidder_count  cross_border      relatedness      economic_sector_ac  \\\n",
       "0                 1  cross_border  business_sector                  Energy   \n",
       "1                 1  cross_border      not_related  Consumer Non-Cyclicals   \n",
       "2                 1  cross_border   industry_group              Technology   \n",
       "3                 1      national      not_related             Industrials   \n",
       "4                 1  cross_border         industry                  Energy   \n",
       "...             ...           ...              ...                     ...   \n",
       "18219             1  cross_border      not_related             Industrials   \n",
       "18220             1  cross_border  business_sector      Consumer Cyclicals   \n",
       "18221             1      national      not_related  Consumer Non-Cyclicals   \n",
       "18222             1  cross_border      not_related              Financials   \n",
       "18223             1      national      not_related      Consumer Cyclicals   \n",
       "\n",
       "                             business_sector_ac  \\\n",
       "0                         Energy - Fossil Fuels   \n",
       "1      Personal & Household Products & Services   \n",
       "2                        Software & IT Services   \n",
       "3                              Industrial Goods   \n",
       "4                         Energy - Fossil Fuels   \n",
       "...                                         ...   \n",
       "18219                          Industrial Goods   \n",
       "18220                Cyclical Consumer Products   \n",
       "18221                     Food & Drug Retailing   \n",
       "18222             Banking & Investment Services   \n",
       "18223                                 Retailers   \n",
       "\n",
       "                economic_sector_target            business_sector_target  \\\n",
       "0                               Energy             Energy - Fossil Fuels   \n",
       "1      Academic & Educational Services   Academic & Educational Services   \n",
       "2                           Technology            Software & IT Services   \n",
       "3                      Basic Materials                         Chemicals   \n",
       "4                               Energy             Energy - Fossil Fuels   \n",
       "...                                ...                               ...   \n",
       "18219                        Utilities                         Utilities   \n",
       "18220               Consumer Cyclicals        Cyclical Consumer Products   \n",
       "18221                       Technology            Software & IT Services   \n",
       "18222                      Industrials  Industrial & Commercial Services   \n",
       "18223                       Financials     Banking & Investment Services   \n",
       "\n",
       "            car  \n",
       "0      0.006854  \n",
       "1     -0.010266  \n",
       "2      0.007746  \n",
       "3     -0.011133  \n",
       "4     -0.003971  \n",
       "...         ...  \n",
       "18219  0.020108  \n",
       "18220 -0.040156  \n",
       "18221 -0.003545  \n",
       "18222 -0.025992  \n",
       "18223 -0.000099  \n",
       "\n",
       "[18224 rows x 15 columns]"
      ]
     },
     "execution_count": 11,
     "metadata": {},
     "output_type": "execute_result"
    }
   ],
   "source": [
    "data"
   ]
  },
  {
   "cell_type": "markdown",
   "id": "5c808410",
   "metadata": {},
   "source": [
    "scale the acq count\n"
   ]
  },
  {
   "cell_type": "code",
   "execution_count": 12,
   "id": "e7aae6af",
   "metadata": {
    "ExecuteTime": {
     "end_time": "2021-09-15T08:15:41.114956Z",
     "start_time": "2021-09-15T08:15:41.102715Z"
    },
    "scrolled": false
   },
   "outputs": [
    {
     "data": {
      "text/plain": [
       "Index(['consideration_offered', 'shares_acquired', 'shares_at_announcement',\n",
       "       'acquiror_code', 'target_code', 'target_status', 'acquisition_count',\n",
       "       'bidder_count', 'cross_border', 'relatedness', 'economic_sector_ac',\n",
       "       'business_sector_ac', 'economic_sector_target',\n",
       "       'business_sector_target', 'car'],\n",
       "      dtype='object')"
      ]
     },
     "execution_count": 12,
     "metadata": {},
     "output_type": "execute_result"
    }
   ],
   "source": [
    "data.columns"
   ]
  },
  {
   "cell_type": "code",
   "execution_count": 13,
   "id": "43c916a5",
   "metadata": {
    "ExecuteTime": {
     "end_time": "2021-09-15T08:15:41.303759Z",
     "start_time": "2021-09-15T08:15:41.299227Z"
    }
   },
   "outputs": [],
   "source": [
    "y=data['car']"
   ]
  },
  {
   "cell_type": "code",
   "execution_count": 14,
   "id": "6c30c162",
   "metadata": {
    "ExecuteTime": {
     "end_time": "2021-09-15T08:15:41.545059Z",
     "start_time": "2021-09-15T08:15:41.537118Z"
    }
   },
   "outputs": [],
   "source": [
    "X=data[['consideration_offered', 'shares_acquired', 'shares_at_announcement',\n",
    "       'acquiror_code', 'target_code', 'target_status', 'acquisition_count',\n",
    "       'bidder_count', 'cross_border', 'relatedness', 'economic_sector_ac',\n",
    "       'business_sector_ac', 'economic_sector_target',\n",
    "       'business_sector_target']]"
   ]
  },
  {
   "cell_type": "markdown",
   "id": "8588e22d",
   "metadata": {},
   "source": [
    "# Splitting of the dataset"
   ]
  },
  {
   "cell_type": "code",
   "execution_count": 15,
   "id": "635d5f59",
   "metadata": {
    "ExecuteTime": {
     "end_time": "2021-09-15T08:15:42.868620Z",
     "start_time": "2021-09-15T08:15:42.853733Z"
    }
   },
   "outputs": [],
   "source": [
    "from sklearn.model_selection import train_test_split\n",
    "X_train, X_test, y_train, y_test = train_test_split(X,y, test_size=0.3, random_state=0)"
   ]
  },
  {
   "cell_type": "markdown",
   "id": "5bb6e8cd",
   "metadata": {},
   "source": [
    "# Pipeline and GridSearch"
   ]
  },
  {
   "cell_type": "code",
   "execution_count": 16,
   "id": "751262e6",
   "metadata": {
    "ExecuteTime": {
     "end_time": "2021-09-15T08:15:43.340307Z",
     "start_time": "2021-09-15T08:15:43.333067Z"
    }
   },
   "outputs": [],
   "source": [
    "cat_transformer = OneHotEncoder(handle_unknown='ignore')"
   ]
  },
  {
   "cell_type": "code",
   "execution_count": 17,
   "id": "2fd543b4",
   "metadata": {
    "ExecuteTime": {
     "end_time": "2021-09-15T08:15:44.321484Z",
     "start_time": "2021-09-15T08:15:44.315927Z"
    }
   },
   "outputs": [],
   "source": [
    "num_transformer= MinMaxScaler()"
   ]
  },
  {
   "cell_type": "code",
   "execution_count": 18,
   "id": "062890ff",
   "metadata": {
    "ExecuteTime": {
     "end_time": "2021-09-15T08:15:44.549610Z",
     "start_time": "2021-09-15T08:15:44.542993Z"
    }
   },
   "outputs": [],
   "source": [
    "cat_features=['consideration_offered', 'shares_acquired', 'shares_at_announcement', 'cross_border', 'relatedness',\n",
    "       'economic_sector_ac', 'business_sector_ac', 'economic_sector_target', 'target_status', \n",
    "       'business_sector_target']"
   ]
  },
  {
   "cell_type": "code",
   "execution_count": 19,
   "id": "549dbc82",
   "metadata": {
    "ExecuteTime": {
     "end_time": "2021-09-15T08:15:44.759617Z",
     "start_time": "2021-09-15T08:15:44.753825Z"
    }
   },
   "outputs": [],
   "source": [
    "preprocessor = ColumnTransformer([\n",
    "    ('num_transformer', num_transformer, ['acquisition_count']),\n",
    "    ('cat_transformer', cat_transformer, cat_features)], remainder='passthrough')"
   ]
  },
  {
   "cell_type": "markdown",
   "id": "afc084be",
   "metadata": {},
   "source": [
    "## Baseline"
   ]
  },
  {
   "cell_type": "code",
   "execution_count": 20,
   "id": "87700c7d",
   "metadata": {
    "ExecuteTime": {
     "end_time": "2021-09-15T08:15:46.304151Z",
     "start_time": "2021-09-15T08:15:46.299820Z"
    }
   },
   "outputs": [],
   "source": [
    "baseline_model_mean = DummyRegressor(strategy=\"mean\") "
   ]
  },
  {
   "cell_type": "code",
   "execution_count": 21,
   "id": "919d1f78",
   "metadata": {
    "ExecuteTime": {
     "end_time": "2021-09-15T08:15:46.622844Z",
     "start_time": "2021-09-15T08:15:46.580037Z"
    }
   },
   "outputs": [
    {
     "data": {
      "text/plain": [
       "-0.0005477136768966328"
      ]
     },
     "execution_count": 21,
     "metadata": {},
     "output_type": "execute_result"
    }
   ],
   "source": [
    "cross_val_score(baseline_model_mean, X_train, y_train, cv=5, scoring='r2').mean()"
   ]
  },
  {
   "cell_type": "code",
   "execution_count": 22,
   "id": "c58bc95f",
   "metadata": {
    "ExecuteTime": {
     "end_time": "2021-09-15T08:15:47.102484Z",
     "start_time": "2021-09-15T08:15:47.066290Z"
    }
   },
   "outputs": [
    {
     "data": {
      "text/plain": [
       "-0.0021237193472723316"
      ]
     },
     "execution_count": 22,
     "metadata": {},
     "output_type": "execute_result"
    }
   ],
   "source": [
    "cross_val_score(baseline_model_mean, X_train, y_train, cv=5, scoring='neg_mean_squared_error').mean()"
   ]
  },
  {
   "cell_type": "markdown",
   "id": "3e740db2",
   "metadata": {},
   "source": [
    "## ElasticNet"
   ]
  },
  {
   "cell_type": "code",
   "execution_count": 23,
   "id": "c6f5d99a",
   "metadata": {
    "ExecuteTime": {
     "end_time": "2021-09-15T08:15:58.065887Z",
     "start_time": "2021-09-15T08:15:58.060766Z"
    }
   },
   "outputs": [],
   "source": [
    "# Hyperparameter Grid\n",
    "grid = {'model__alpha': [0.1, 0.2, 0.3, 0.4],\n",
    "        'model__l1_ratio': [0,0.05, 0.1, 0.15, 0.2],\n",
    "        'model__max_iter': [10000]}"
   ]
  },
  {
   "cell_type": "code",
   "execution_count": 24,
   "id": "c94704ed",
   "metadata": {
    "ExecuteTime": {
     "end_time": "2021-09-15T08:15:59.592060Z",
     "start_time": "2021-09-15T08:15:59.586495Z"
    }
   },
   "outputs": [],
   "source": [
    "# Combine preprocessor and linear model in pipeline\n",
    "pipe = Pipeline([\n",
    "    ('preprocessing', preprocessor),\n",
    "    ('model', ElasticNet())])"
   ]
  },
  {
   "cell_type": "code",
   "execution_count": 25,
   "id": "dadf399d",
   "metadata": {
    "ExecuteTime": {
     "end_time": "2021-09-15T08:16:11.560480Z",
     "start_time": "2021-09-15T08:16:11.554599Z"
    }
   },
   "outputs": [],
   "source": [
    "search = GridSearchCV(pipe, \n",
    "                      grid, \n",
    "                      scoring = ['neg_mean_squared_error', 'r2','neg_mean_absolute_error'],\n",
    "                      refit='neg_mean_squared_error',\n",
    "                      cv = 5,\n",
    "                      n_jobs=-1) "
   ]
  },
  {
   "cell_type": "code",
   "execution_count": 26,
   "id": "549b1784",
   "metadata": {
    "ExecuteTime": {
     "end_time": "2021-09-15T08:19:36.158934Z",
     "start_time": "2021-09-15T08:16:14.715211Z"
    },
    "collapsed": true
   },
   "outputs": [
    {
     "ename": "KeyboardInterrupt",
     "evalue": "",
     "output_type": "error",
     "traceback": [
      "\u001b[0;31m---------------------------------------------------------------------------\u001b[0m",
      "\u001b[0;31mKeyboardInterrupt\u001b[0m                         Traceback (most recent call last)",
      "\u001b[0;32m/var/folders/tw/12c8kwg9497btcy7q6r_t5y00000gn/T/ipykernel_34795/3274316684.py\u001b[0m in \u001b[0;36m<module>\u001b[0;34m\u001b[0m\n\u001b[1;32m      1\u001b[0m \u001b[0;31m# Fit data to Grid Search\u001b[0m\u001b[0;34m\u001b[0m\u001b[0;34m\u001b[0m\u001b[0;34m\u001b[0m\u001b[0m\n\u001b[0;32m----> 2\u001b[0;31m \u001b[0msearch\u001b[0m\u001b[0;34m.\u001b[0m\u001b[0mfit\u001b[0m\u001b[0;34m(\u001b[0m\u001b[0mX_train\u001b[0m\u001b[0;34m,\u001b[0m\u001b[0my_train\u001b[0m\u001b[0;34m)\u001b[0m\u001b[0;34m;\u001b[0m\u001b[0;34m\u001b[0m\u001b[0;34m\u001b[0m\u001b[0m\n\u001b[0m",
      "\u001b[0;32m~/.pyenv/versions/3.8.6/envs/MA_PREDICTOR/lib/python3.8/site-packages/sklearn/utils/validation.py\u001b[0m in \u001b[0;36minner_f\u001b[0;34m(*args, **kwargs)\u001b[0m\n\u001b[1;32m     61\u001b[0m             \u001b[0mextra_args\u001b[0m \u001b[0;34m=\u001b[0m \u001b[0mlen\u001b[0m\u001b[0;34m(\u001b[0m\u001b[0margs\u001b[0m\u001b[0;34m)\u001b[0m \u001b[0;34m-\u001b[0m \u001b[0mlen\u001b[0m\u001b[0;34m(\u001b[0m\u001b[0mall_args\u001b[0m\u001b[0;34m)\u001b[0m\u001b[0;34m\u001b[0m\u001b[0;34m\u001b[0m\u001b[0m\n\u001b[1;32m     62\u001b[0m             \u001b[0;32mif\u001b[0m \u001b[0mextra_args\u001b[0m \u001b[0;34m<=\u001b[0m \u001b[0;36m0\u001b[0m\u001b[0;34m:\u001b[0m\u001b[0;34m\u001b[0m\u001b[0;34m\u001b[0m\u001b[0m\n\u001b[0;32m---> 63\u001b[0;31m                 \u001b[0;32mreturn\u001b[0m \u001b[0mf\u001b[0m\u001b[0;34m(\u001b[0m\u001b[0;34m*\u001b[0m\u001b[0margs\u001b[0m\u001b[0;34m,\u001b[0m \u001b[0;34m**\u001b[0m\u001b[0mkwargs\u001b[0m\u001b[0;34m)\u001b[0m\u001b[0;34m\u001b[0m\u001b[0;34m\u001b[0m\u001b[0m\n\u001b[0m\u001b[1;32m     64\u001b[0m \u001b[0;34m\u001b[0m\u001b[0m\n\u001b[1;32m     65\u001b[0m             \u001b[0;31m# extra_args > 0\u001b[0m\u001b[0;34m\u001b[0m\u001b[0;34m\u001b[0m\u001b[0;34m\u001b[0m\u001b[0m\n",
      "\u001b[0;32m~/.pyenv/versions/3.8.6/envs/MA_PREDICTOR/lib/python3.8/site-packages/sklearn/model_selection/_search.py\u001b[0m in \u001b[0;36mfit\u001b[0;34m(self, X, y, groups, **fit_params)\u001b[0m\n\u001b[1;32m    839\u001b[0m                 \u001b[0;32mreturn\u001b[0m \u001b[0mresults\u001b[0m\u001b[0;34m\u001b[0m\u001b[0;34m\u001b[0m\u001b[0m\n\u001b[1;32m    840\u001b[0m \u001b[0;34m\u001b[0m\u001b[0m\n\u001b[0;32m--> 841\u001b[0;31m             \u001b[0mself\u001b[0m\u001b[0;34m.\u001b[0m\u001b[0m_run_search\u001b[0m\u001b[0;34m(\u001b[0m\u001b[0mevaluate_candidates\u001b[0m\u001b[0;34m)\u001b[0m\u001b[0;34m\u001b[0m\u001b[0;34m\u001b[0m\u001b[0m\n\u001b[0m\u001b[1;32m    842\u001b[0m \u001b[0;34m\u001b[0m\u001b[0m\n\u001b[1;32m    843\u001b[0m             \u001b[0;31m# multimetric is determined here because in the case of a callable\u001b[0m\u001b[0;34m\u001b[0m\u001b[0;34m\u001b[0m\u001b[0;34m\u001b[0m\u001b[0m\n",
      "\u001b[0;32m~/.pyenv/versions/3.8.6/envs/MA_PREDICTOR/lib/python3.8/site-packages/sklearn/model_selection/_search.py\u001b[0m in \u001b[0;36m_run_search\u001b[0;34m(self, evaluate_candidates)\u001b[0m\n\u001b[1;32m   1294\u001b[0m     \u001b[0;32mdef\u001b[0m \u001b[0m_run_search\u001b[0m\u001b[0;34m(\u001b[0m\u001b[0mself\u001b[0m\u001b[0;34m,\u001b[0m \u001b[0mevaluate_candidates\u001b[0m\u001b[0;34m)\u001b[0m\u001b[0;34m:\u001b[0m\u001b[0;34m\u001b[0m\u001b[0;34m\u001b[0m\u001b[0m\n\u001b[1;32m   1295\u001b[0m         \u001b[0;34m\"\"\"Search all candidates in param_grid\"\"\"\u001b[0m\u001b[0;34m\u001b[0m\u001b[0;34m\u001b[0m\u001b[0m\n\u001b[0;32m-> 1296\u001b[0;31m         \u001b[0mevaluate_candidates\u001b[0m\u001b[0;34m(\u001b[0m\u001b[0mParameterGrid\u001b[0m\u001b[0;34m(\u001b[0m\u001b[0mself\u001b[0m\u001b[0;34m.\u001b[0m\u001b[0mparam_grid\u001b[0m\u001b[0;34m)\u001b[0m\u001b[0;34m)\u001b[0m\u001b[0;34m\u001b[0m\u001b[0;34m\u001b[0m\u001b[0m\n\u001b[0m\u001b[1;32m   1297\u001b[0m \u001b[0;34m\u001b[0m\u001b[0m\n\u001b[1;32m   1298\u001b[0m \u001b[0;34m\u001b[0m\u001b[0m\n",
      "\u001b[0;32m~/.pyenv/versions/3.8.6/envs/MA_PREDICTOR/lib/python3.8/site-packages/sklearn/model_selection/_search.py\u001b[0m in \u001b[0;36mevaluate_candidates\u001b[0;34m(candidate_params, cv, more_results)\u001b[0m\n\u001b[1;32m    793\u001b[0m                               n_splits, n_candidates, n_candidates * n_splits))\n\u001b[1;32m    794\u001b[0m \u001b[0;34m\u001b[0m\u001b[0m\n\u001b[0;32m--> 795\u001b[0;31m                 out = parallel(delayed(_fit_and_score)(clone(base_estimator),\n\u001b[0m\u001b[1;32m    796\u001b[0m                                                        \u001b[0mX\u001b[0m\u001b[0;34m,\u001b[0m \u001b[0my\u001b[0m\u001b[0;34m,\u001b[0m\u001b[0;34m\u001b[0m\u001b[0;34m\u001b[0m\u001b[0m\n\u001b[1;32m    797\u001b[0m                                                        \u001b[0mtrain\u001b[0m\u001b[0;34m=\u001b[0m\u001b[0mtrain\u001b[0m\u001b[0;34m,\u001b[0m \u001b[0mtest\u001b[0m\u001b[0;34m=\u001b[0m\u001b[0mtest\u001b[0m\u001b[0;34m,\u001b[0m\u001b[0;34m\u001b[0m\u001b[0;34m\u001b[0m\u001b[0m\n",
      "\u001b[0;32m~/.pyenv/versions/3.8.6/envs/MA_PREDICTOR/lib/python3.8/site-packages/joblib/parallel.py\u001b[0m in \u001b[0;36m__call__\u001b[0;34m(self, iterable)\u001b[0m\n\u001b[1;32m   1052\u001b[0m \u001b[0;34m\u001b[0m\u001b[0m\n\u001b[1;32m   1053\u001b[0m             \u001b[0;32mwith\u001b[0m \u001b[0mself\u001b[0m\u001b[0;34m.\u001b[0m\u001b[0m_backend\u001b[0m\u001b[0;34m.\u001b[0m\u001b[0mretrieval_context\u001b[0m\u001b[0;34m(\u001b[0m\u001b[0;34m)\u001b[0m\u001b[0;34m:\u001b[0m\u001b[0;34m\u001b[0m\u001b[0;34m\u001b[0m\u001b[0m\n\u001b[0;32m-> 1054\u001b[0;31m                 \u001b[0mself\u001b[0m\u001b[0;34m.\u001b[0m\u001b[0mretrieve\u001b[0m\u001b[0;34m(\u001b[0m\u001b[0;34m)\u001b[0m\u001b[0;34m\u001b[0m\u001b[0;34m\u001b[0m\u001b[0m\n\u001b[0m\u001b[1;32m   1055\u001b[0m             \u001b[0;31m# Make sure that we get a last message telling us we are done\u001b[0m\u001b[0;34m\u001b[0m\u001b[0;34m\u001b[0m\u001b[0;34m\u001b[0m\u001b[0m\n\u001b[1;32m   1056\u001b[0m             \u001b[0melapsed_time\u001b[0m \u001b[0;34m=\u001b[0m \u001b[0mtime\u001b[0m\u001b[0;34m.\u001b[0m\u001b[0mtime\u001b[0m\u001b[0;34m(\u001b[0m\u001b[0;34m)\u001b[0m \u001b[0;34m-\u001b[0m \u001b[0mself\u001b[0m\u001b[0;34m.\u001b[0m\u001b[0m_start_time\u001b[0m\u001b[0;34m\u001b[0m\u001b[0;34m\u001b[0m\u001b[0m\n",
      "\u001b[0;32m~/.pyenv/versions/3.8.6/envs/MA_PREDICTOR/lib/python3.8/site-packages/joblib/parallel.py\u001b[0m in \u001b[0;36mretrieve\u001b[0;34m(self)\u001b[0m\n\u001b[1;32m    931\u001b[0m             \u001b[0;32mtry\u001b[0m\u001b[0;34m:\u001b[0m\u001b[0;34m\u001b[0m\u001b[0;34m\u001b[0m\u001b[0m\n\u001b[1;32m    932\u001b[0m                 \u001b[0;32mif\u001b[0m \u001b[0mgetattr\u001b[0m\u001b[0;34m(\u001b[0m\u001b[0mself\u001b[0m\u001b[0;34m.\u001b[0m\u001b[0m_backend\u001b[0m\u001b[0;34m,\u001b[0m \u001b[0;34m'supports_timeout'\u001b[0m\u001b[0;34m,\u001b[0m \u001b[0;32mFalse\u001b[0m\u001b[0;34m)\u001b[0m\u001b[0;34m:\u001b[0m\u001b[0;34m\u001b[0m\u001b[0;34m\u001b[0m\u001b[0m\n\u001b[0;32m--> 933\u001b[0;31m                     \u001b[0mself\u001b[0m\u001b[0;34m.\u001b[0m\u001b[0m_output\u001b[0m\u001b[0;34m.\u001b[0m\u001b[0mextend\u001b[0m\u001b[0;34m(\u001b[0m\u001b[0mjob\u001b[0m\u001b[0;34m.\u001b[0m\u001b[0mget\u001b[0m\u001b[0;34m(\u001b[0m\u001b[0mtimeout\u001b[0m\u001b[0;34m=\u001b[0m\u001b[0mself\u001b[0m\u001b[0;34m.\u001b[0m\u001b[0mtimeout\u001b[0m\u001b[0;34m)\u001b[0m\u001b[0;34m)\u001b[0m\u001b[0;34m\u001b[0m\u001b[0;34m\u001b[0m\u001b[0m\n\u001b[0m\u001b[1;32m    934\u001b[0m                 \u001b[0;32melse\u001b[0m\u001b[0;34m:\u001b[0m\u001b[0;34m\u001b[0m\u001b[0;34m\u001b[0m\u001b[0m\n\u001b[1;32m    935\u001b[0m                     \u001b[0mself\u001b[0m\u001b[0;34m.\u001b[0m\u001b[0m_output\u001b[0m\u001b[0;34m.\u001b[0m\u001b[0mextend\u001b[0m\u001b[0;34m(\u001b[0m\u001b[0mjob\u001b[0m\u001b[0;34m.\u001b[0m\u001b[0mget\u001b[0m\u001b[0;34m(\u001b[0m\u001b[0;34m)\u001b[0m\u001b[0;34m)\u001b[0m\u001b[0;34m\u001b[0m\u001b[0;34m\u001b[0m\u001b[0m\n",
      "\u001b[0;32m~/.pyenv/versions/3.8.6/envs/MA_PREDICTOR/lib/python3.8/site-packages/joblib/_parallel_backends.py\u001b[0m in \u001b[0;36mwrap_future_result\u001b[0;34m(future, timeout)\u001b[0m\n\u001b[1;32m    540\u001b[0m         AsyncResults.get from multiprocessing.\"\"\"\n\u001b[1;32m    541\u001b[0m         \u001b[0;32mtry\u001b[0m\u001b[0;34m:\u001b[0m\u001b[0;34m\u001b[0m\u001b[0;34m\u001b[0m\u001b[0m\n\u001b[0;32m--> 542\u001b[0;31m             \u001b[0;32mreturn\u001b[0m \u001b[0mfuture\u001b[0m\u001b[0;34m.\u001b[0m\u001b[0mresult\u001b[0m\u001b[0;34m(\u001b[0m\u001b[0mtimeout\u001b[0m\u001b[0;34m=\u001b[0m\u001b[0mtimeout\u001b[0m\u001b[0;34m)\u001b[0m\u001b[0;34m\u001b[0m\u001b[0;34m\u001b[0m\u001b[0m\n\u001b[0m\u001b[1;32m    543\u001b[0m         \u001b[0;32mexcept\u001b[0m \u001b[0mCfTimeoutError\u001b[0m \u001b[0;32mas\u001b[0m \u001b[0me\u001b[0m\u001b[0;34m:\u001b[0m\u001b[0;34m\u001b[0m\u001b[0;34m\u001b[0m\u001b[0m\n\u001b[1;32m    544\u001b[0m             \u001b[0;32mraise\u001b[0m \u001b[0mTimeoutError\u001b[0m \u001b[0;32mfrom\u001b[0m \u001b[0me\u001b[0m\u001b[0;34m\u001b[0m\u001b[0;34m\u001b[0m\u001b[0m\n",
      "\u001b[0;32m~/.pyenv/versions/3.8.6/lib/python3.8/concurrent/futures/_base.py\u001b[0m in \u001b[0;36mresult\u001b[0;34m(self, timeout)\u001b[0m\n\u001b[1;32m    432\u001b[0m                 \u001b[0;32mreturn\u001b[0m \u001b[0mself\u001b[0m\u001b[0;34m.\u001b[0m\u001b[0m__get_result\u001b[0m\u001b[0;34m(\u001b[0m\u001b[0;34m)\u001b[0m\u001b[0;34m\u001b[0m\u001b[0;34m\u001b[0m\u001b[0m\n\u001b[1;32m    433\u001b[0m \u001b[0;34m\u001b[0m\u001b[0m\n\u001b[0;32m--> 434\u001b[0;31m             \u001b[0mself\u001b[0m\u001b[0;34m.\u001b[0m\u001b[0m_condition\u001b[0m\u001b[0;34m.\u001b[0m\u001b[0mwait\u001b[0m\u001b[0;34m(\u001b[0m\u001b[0mtimeout\u001b[0m\u001b[0;34m)\u001b[0m\u001b[0;34m\u001b[0m\u001b[0;34m\u001b[0m\u001b[0m\n\u001b[0m\u001b[1;32m    435\u001b[0m \u001b[0;34m\u001b[0m\u001b[0m\n\u001b[1;32m    436\u001b[0m             \u001b[0;32mif\u001b[0m \u001b[0mself\u001b[0m\u001b[0;34m.\u001b[0m\u001b[0m_state\u001b[0m \u001b[0;32min\u001b[0m \u001b[0;34m[\u001b[0m\u001b[0mCANCELLED\u001b[0m\u001b[0;34m,\u001b[0m \u001b[0mCANCELLED_AND_NOTIFIED\u001b[0m\u001b[0;34m]\u001b[0m\u001b[0;34m:\u001b[0m\u001b[0;34m\u001b[0m\u001b[0;34m\u001b[0m\u001b[0m\n",
      "\u001b[0;32m~/.pyenv/versions/3.8.6/lib/python3.8/threading.py\u001b[0m in \u001b[0;36mwait\u001b[0;34m(self, timeout)\u001b[0m\n\u001b[1;32m    300\u001b[0m         \u001b[0;32mtry\u001b[0m\u001b[0;34m:\u001b[0m    \u001b[0;31m# restore state no matter what (e.g., KeyboardInterrupt)\u001b[0m\u001b[0;34m\u001b[0m\u001b[0;34m\u001b[0m\u001b[0m\n\u001b[1;32m    301\u001b[0m             \u001b[0;32mif\u001b[0m \u001b[0mtimeout\u001b[0m \u001b[0;32mis\u001b[0m \u001b[0;32mNone\u001b[0m\u001b[0;34m:\u001b[0m\u001b[0;34m\u001b[0m\u001b[0;34m\u001b[0m\u001b[0m\n\u001b[0;32m--> 302\u001b[0;31m                 \u001b[0mwaiter\u001b[0m\u001b[0;34m.\u001b[0m\u001b[0macquire\u001b[0m\u001b[0;34m(\u001b[0m\u001b[0;34m)\u001b[0m\u001b[0;34m\u001b[0m\u001b[0;34m\u001b[0m\u001b[0m\n\u001b[0m\u001b[1;32m    303\u001b[0m                 \u001b[0mgotit\u001b[0m \u001b[0;34m=\u001b[0m \u001b[0;32mTrue\u001b[0m\u001b[0;34m\u001b[0m\u001b[0;34m\u001b[0m\u001b[0m\n\u001b[1;32m    304\u001b[0m             \u001b[0;32melse\u001b[0m\u001b[0;34m:\u001b[0m\u001b[0;34m\u001b[0m\u001b[0;34m\u001b[0m\u001b[0m\n",
      "\u001b[0;31mKeyboardInterrupt\u001b[0m: "
     ]
    }
   ],
   "source": [
    "# Fit data to Grid Search\n",
    "search.fit(X_train,y_train);"
   ]
  },
  {
   "cell_type": "code",
   "execution_count": null,
   "id": "96fa7590",
   "metadata": {
    "ExecuteTime": {
     "end_time": "2021-09-15T08:19:36.181041Z",
     "start_time": "2021-09-15T08:19:36.179876Z"
    },
    "scrolled": true
   },
   "outputs": [],
   "source": [
    "# Best score 1\n",
    "search.best_score_"
   ]
  },
  {
   "cell_type": "code",
   "execution_count": null,
   "id": "fd8a8f6d",
   "metadata": {
    "ExecuteTime": {
     "end_time": "2021-09-15T08:19:36.197977Z",
     "start_time": "2021-09-15T08:19:36.197911Z"
    }
   },
   "outputs": [],
   "source": [
    "search.best_params_"
   ]
  },
  {
   "cell_type": "code",
   "execution_count": null,
   "id": "3914f6ee",
   "metadata": {},
   "outputs": [],
   "source": []
  }
 ],
 "metadata": {
  "kernelspec": {
   "display_name": "Python 3 (ipykernel)",
   "language": "python",
   "name": "python3"
  },
  "language_info": {
   "codemirror_mode": {
    "name": "ipython",
    "version": 3
   },
   "file_extension": ".py",
   "mimetype": "text/x-python",
   "name": "python",
   "nbconvert_exporter": "python",
   "pygments_lexer": "ipython3",
   "version": "3.8.6"
  },
  "toc": {
   "base_numbering": 1,
   "nav_menu": {},
   "number_sections": true,
   "sideBar": true,
   "skip_h1_title": false,
   "title_cell": "Table of Contents",
   "title_sidebar": "Contents",
   "toc_cell": false,
   "toc_position": {},
   "toc_section_display": true,
   "toc_window_display": false
  }
 },
 "nbformat": 4,
 "nbformat_minor": 5
}
