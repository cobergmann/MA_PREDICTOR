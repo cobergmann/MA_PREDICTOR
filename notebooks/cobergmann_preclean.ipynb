{
 "cells": [
  {
   "cell_type": "code",
   "execution_count": 1,
   "id": "d576ae95",
   "metadata": {},
   "outputs": [],
   "source": [
    "import pandas as pd\n",
    "import numpy as np\n",
    "from datetime import datetime"
   ]
  },
  {
   "cell_type": "markdown",
   "id": "f3f052cf",
   "metadata": {},
   "source": [
    "# Raw data"
   ]
  },
  {
   "cell_type": "code",
   "execution_count": 2,
   "id": "ffa2a754",
   "metadata": {},
   "outputs": [
    {
     "data": {
      "text/html": [
       "<div>\n",
       "<style scoped>\n",
       "    .dataframe tbody tr th:only-of-type {\n",
       "        vertical-align: middle;\n",
       "    }\n",
       "\n",
       "    .dataframe tbody tr th {\n",
       "        vertical-align: top;\n",
       "    }\n",
       "\n",
       "    .dataframe thead th {\n",
       "        text-align: right;\n",
       "    }\n",
       "</style>\n",
       "<table border=\"1\" class=\"dataframe\">\n",
       "  <thead>\n",
       "    <tr style=\"text-align: right;\">\n",
       "      <th></th>\n",
       "      <th>SDC Deal No</th>\n",
       "      <th>Date Announced</th>\n",
       "      <th>Deal Value\\r\\n(USD, Millions)</th>\n",
       "      <th>Acquiror Total Assets Last 12 Months\\r\\n(USD, Millions)</th>\n",
       "      <th>Acquiror Full Name</th>\n",
       "      <th>Acquiror Primary Ticker Symbol</th>\n",
       "      <th>Target Full Name</th>\n",
       "      <th>Target Nation</th>\n",
       "      <th>Acquiror Nation</th>\n",
       "      <th>Target Public Status</th>\n",
       "      <th>Acquiror TRBC Industry</th>\n",
       "      <th>Target TRBC Industry</th>\n",
       "      <th>Percentage of Shares Held at Announcement</th>\n",
       "      <th>Percentage of Shares Acquired in Transaction</th>\n",
       "      <th>Consideration Offered\\r\\n('|')</th>\n",
       "      <th>Deal Attitude</th>\n",
       "      <th>Acquisition Techniques\\r\\n('|')</th>\n",
       "      <th>Acquiror Financial Advisors Name\\r\\n('|')</th>\n",
       "      <th>Target Financial Advisors Name\\r\\n('|')</th>\n",
       "      <th>Purpose\\r\\n('|')</th>\n",
       "    </tr>\n",
       "  </thead>\n",
       "  <tbody>\n",
       "    <tr>\n",
       "      <th>0</th>\n",
       "      <td>1631732020</td>\n",
       "      <td>01/01/2005</td>\n",
       "      <td>12.00</td>\n",
       "      <td>3,160.41</td>\n",
       "      <td>Plains All American Pipeline LP</td>\n",
       "      <td>PAA</td>\n",
       "      <td>Shell Pipeline Co LP-Crude Oil Pipeline Assets...</td>\n",
       "      <td>United States</td>\n",
       "      <td>United States</td>\n",
       "      <td>Subsidiary</td>\n",
       "      <td>Oil &amp; Gas Refining and Marketing</td>\n",
       "      <td>Oil &amp; Gas Transportation Services</td>\n",
       "      <td>NaN</td>\n",
       "      <td>100.0</td>\n",
       "      <td>Cash|Cash Only</td>\n",
       "      <td>Friendly</td>\n",
       "      <td>Financial Acquiror|Divestiture</td>\n",
       "      <td>NaN</td>\n",
       "      <td>NaN</td>\n",
       "      <td>Strengthen existing operations/expand presence...</td>\n",
       "    </tr>\n",
       "    <tr>\n",
       "      <th>1</th>\n",
       "      <td>1653652020</td>\n",
       "      <td>01/01/2005</td>\n",
       "      <td>NaN</td>\n",
       "      <td>1,680.57</td>\n",
       "      <td>Regis Corp</td>\n",
       "      <td>RGS</td>\n",
       "      <td>Scot Lewis Schools</td>\n",
       "      <td>United States</td>\n",
       "      <td>United States</td>\n",
       "      <td>Private</td>\n",
       "      <td>Personal Services</td>\n",
       "      <td>Professional &amp; Business Education</td>\n",
       "      <td>NaN</td>\n",
       "      <td>100.0</td>\n",
       "      <td>Unspecified</td>\n",
       "      <td>Friendly</td>\n",
       "      <td>Not Applicable</td>\n",
       "      <td>NaN</td>\n",
       "      <td>NaN</td>\n",
       "      <td>NaN</td>\n",
       "    </tr>\n",
       "  </tbody>\n",
       "</table>\n",
       "</div>"
      ],
      "text/plain": [
       "   SDC Deal No Date Announced Deal Value\\r\\n(USD, Millions)  \\\n",
       "0   1631732020     01/01/2005                         12.00   \n",
       "1   1653652020     01/01/2005                           NaN   \n",
       "\n",
       "  Acquiror Total Assets Last 12 Months\\r\\n(USD, Millions)  \\\n",
       "0                                           3,160.41        \n",
       "1                                           1,680.57        \n",
       "\n",
       "                Acquiror Full Name Acquiror Primary Ticker Symbol  \\\n",
       "0  Plains All American Pipeline LP                            PAA   \n",
       "1                       Regis Corp                            RGS   \n",
       "\n",
       "                                    Target Full Name  Target Nation  \\\n",
       "0  Shell Pipeline Co LP-Crude Oil Pipeline Assets...  United States   \n",
       "1                                 Scot Lewis Schools  United States   \n",
       "\n",
       "  Acquiror Nation Target Public Status            Acquiror TRBC Industry  \\\n",
       "0   United States           Subsidiary  Oil & Gas Refining and Marketing   \n",
       "1   United States              Private                 Personal Services   \n",
       "\n",
       "                Target TRBC Industry  \\\n",
       "0  Oil & Gas Transportation Services   \n",
       "1  Professional & Business Education   \n",
       "\n",
       "   Percentage of Shares Held at Announcement  \\\n",
       "0                                        NaN   \n",
       "1                                        NaN   \n",
       "\n",
       "   Percentage of Shares Acquired in Transaction  \\\n",
       "0                                         100.0   \n",
       "1                                         100.0   \n",
       "\n",
       "  Consideration Offered\\r\\n('|') Deal Attitude  \\\n",
       "0                 Cash|Cash Only      Friendly   \n",
       "1                    Unspecified      Friendly   \n",
       "\n",
       "  Acquisition Techniques\\r\\n('|') Acquiror Financial Advisors Name\\r\\n('|')  \\\n",
       "0  Financial Acquiror|Divestiture                                       NaN   \n",
       "1                  Not Applicable                                       NaN   \n",
       "\n",
       "  Target Financial Advisors Name\\r\\n('|')  \\\n",
       "0                                     NaN   \n",
       "1                                     NaN   \n",
       "\n",
       "                                    Purpose\\r\\n('|')  \n",
       "0  Strengthen existing operations/expand presence...  \n",
       "1                                                NaN  "
      ]
     },
     "execution_count": 2,
     "metadata": {},
     "output_type": "execute_result"
    }
   ],
   "source": [
    "data = pd.read_csv('../raw_data/210908_LeWagon_finalproject_v3.csv')\n",
    "data.head(2)"
   ]
  },
  {
   "cell_type": "markdown",
   "id": "840c0c68",
   "metadata": {},
   "source": [
    "# Adjust data"
   ]
  },
  {
   "cell_type": "markdown",
   "id": "a970af5c",
   "metadata": {},
   "source": [
    "## Column names"
   ]
  },
  {
   "cell_type": "code",
   "execution_count": 3,
   "id": "3f89d768",
   "metadata": {},
   "outputs": [
    {
     "data": {
      "text/plain": [
       "Index(['SDC Deal No', 'Date Announced', 'Deal Value\\r\\n(USD, Millions)',\n",
       "       'Acquiror Total Assets Last 12 Months\\r\\n(USD, Millions)',\n",
       "       'Acquiror Full Name', 'Acquiror Primary Ticker Symbol',\n",
       "       'Target Full Name', 'Target Nation', 'Acquiror Nation',\n",
       "       'Target Public Status', 'Acquiror TRBC Industry',\n",
       "       'Target TRBC Industry', 'Percentage of Shares Held at Announcement',\n",
       "       'Percentage of Shares Acquired in Transaction',\n",
       "       'Consideration Offered\\r\\n('|')', 'Deal Attitude',\n",
       "       'Acquisition Techniques\\r\\n('|')',\n",
       "       'Acquiror Financial Advisors Name\\r\\n('|')',\n",
       "       'Target Financial Advisors Name\\r\\n('|')', 'Purpose\\r\\n('|')'],\n",
       "      dtype='object')"
      ]
     },
     "execution_count": 3,
     "metadata": {},
     "output_type": "execute_result"
    }
   ],
   "source": [
    "data.columns"
   ]
  },
  {
   "cell_type": "code",
   "execution_count": 4,
   "id": "53cf7006",
   "metadata": {},
   "outputs": [],
   "source": [
    "new_columns = [\n",
    "    'id', 'announcement_date', 'deal_value', 'acquiror_total_assets', 'acquiror_name', 'acquiror_ticker', 'target_name',\n",
    "    'target_nation', 'acquiror_nation', 'target_status', 'acquiror_industry', 'target_industry',\n",
    "    'shares_at_announcement', 'shares_acquired', 'consideration_offered', 'attitude',\n",
    "    'acquisition_technique', 'acquiror_financial_advisor', 'target_financial_advisor', 'purpose'\n",
    "]"
   ]
  },
  {
   "cell_type": "code",
   "execution_count": 5,
   "id": "6db814b8",
   "metadata": {},
   "outputs": [],
   "source": [
    "data.columns = new_columns"
   ]
  },
  {
   "cell_type": "markdown",
   "id": "38804f21",
   "metadata": {},
   "source": [
    "## Adding TRBC (industry classifier)"
   ]
  },
  {
   "cell_type": "code",
   "execution_count": 6,
   "id": "2e4d85e7",
   "metadata": {},
   "outputs": [
    {
     "data": {
      "text/html": [
       "<div>\n",
       "<style scoped>\n",
       "    .dataframe tbody tr th:only-of-type {\n",
       "        vertical-align: middle;\n",
       "    }\n",
       "\n",
       "    .dataframe tbody tr th {\n",
       "        vertical-align: top;\n",
       "    }\n",
       "\n",
       "    .dataframe thead th {\n",
       "        text-align: right;\n",
       "    }\n",
       "</style>\n",
       "<table border=\"1\" class=\"dataframe\">\n",
       "  <thead>\n",
       "    <tr style=\"text-align: right;\">\n",
       "      <th></th>\n",
       "      <th>Title</th>\n",
       "      <th>Hierarchical_Code</th>\n",
       "    </tr>\n",
       "  </thead>\n",
       "  <tbody>\n",
       "    <tr>\n",
       "      <th>0</th>\n",
       "      <td>Coal</td>\n",
       "      <td>50101010</td>\n",
       "    </tr>\n",
       "    <tr>\n",
       "      <th>1</th>\n",
       "      <td>Integrated Oil &amp; Gas</td>\n",
       "      <td>50102010</td>\n",
       "    </tr>\n",
       "    <tr>\n",
       "      <th>2</th>\n",
       "      <td>Oil &amp; Gas Exploration and Production</td>\n",
       "      <td>50102020</td>\n",
       "    </tr>\n",
       "    <tr>\n",
       "      <th>3</th>\n",
       "      <td>Oil &amp; Gas Refining and Marketing</td>\n",
       "      <td>50102030</td>\n",
       "    </tr>\n",
       "    <tr>\n",
       "      <th>4</th>\n",
       "      <td>Oil &amp; Gas Drilling</td>\n",
       "      <td>50103010</td>\n",
       "    </tr>\n",
       "  </tbody>\n",
       "</table>\n",
       "</div>"
      ],
      "text/plain": [
       "                                  Title  Hierarchical_Code\n",
       "0                                  Coal           50101010\n",
       "1                  Integrated Oil & Gas           50102010\n",
       "2  Oil & Gas Exploration and Production           50102020\n",
       "3      Oil & Gas Refining and Marketing           50102030\n",
       "4                    Oil & Gas Drilling           50103010"
      ]
     },
     "execution_count": 6,
     "metadata": {},
     "output_type": "execute_result"
    }
   ],
   "source": [
    "trbc = pd.read_pickle('../MA_PREDICTOR/data/trbc.pkl')\n",
    "trbc.head()"
   ]
  },
  {
   "cell_type": "code",
   "execution_count": 7,
   "id": "42fcc2e0",
   "metadata": {},
   "outputs": [],
   "source": [
    "# Acquiror\n",
    "data = data.join(trbc.set_index('Title'), on='acquiror_industry')\n",
    "data.rename(columns={'Hierarchical_Code': 'acquiror_code'}, inplace=True)\n",
    "\n",
    "# Target\n",
    "data = data.join(trbc.set_index('Title'), on='target_industry')\n",
    "data.rename(columns={'Hierarchical_Code': 'target_code'}, inplace=True)"
   ]
  },
  {
   "cell_type": "markdown",
   "id": "c265a722",
   "metadata": {},
   "source": [
    "## dtypes"
   ]
  },
  {
   "cell_type": "code",
   "execution_count": 8,
   "id": "6c10cd15",
   "metadata": {
    "scrolled": false
   },
   "outputs": [
    {
     "data": {
      "text/plain": [
       "id                              int64\n",
       "announcement_date              object\n",
       "deal_value                     object\n",
       "acquiror_total_assets          object\n",
       "acquiror_name                  object\n",
       "acquiror_ticker                object\n",
       "target_name                    object\n",
       "target_nation                  object\n",
       "acquiror_nation                object\n",
       "target_status                  object\n",
       "acquiror_industry              object\n",
       "target_industry                object\n",
       "shares_at_announcement        float64\n",
       "shares_acquired               float64\n",
       "consideration_offered          object\n",
       "attitude                       object\n",
       "acquisition_technique          object\n",
       "acquiror_financial_advisor     object\n",
       "target_financial_advisor       object\n",
       "purpose                        object\n",
       "acquiror_code                 float64\n",
       "target_code                   float64\n",
       "dtype: object"
      ]
     },
     "execution_count": 8,
     "metadata": {},
     "output_type": "execute_result"
    }
   ],
   "source": [
    "data.dtypes"
   ]
  },
  {
   "cell_type": "code",
   "execution_count": 9,
   "id": "187378e3",
   "metadata": {},
   "outputs": [],
   "source": [
    "# transforming announcement_date\n",
    "data['announcement_date'] = pd.to_datetime(data['announcement_date'], format=\"%d/%m/%Y\")"
   ]
  },
  {
   "cell_type": "code",
   "execution_count": 10,
   "id": "9f7fe30e",
   "metadata": {},
   "outputs": [],
   "source": [
    "# transforming deal_value\n",
    "rem_com = lambda x: x.replace(',', '') if type(x) == str else x # removing comma in string, leaving float\n",
    "data['deal_value'] = data['deal_value'].apply(rem_com).astype(float)"
   ]
  },
  {
   "cell_type": "code",
   "execution_count": 11,
   "id": "59fabd8d",
   "metadata": {},
   "outputs": [],
   "source": [
    "# Transforming trbc codes\n",
    "\n",
    "# Removing nas\n",
    "data = data[data['acquiror_code'].notna()]\n",
    "data = data[data['target_code'].notna()]\n",
    "\n",
    "# Type transformation\n",
    "data['acquiror_code'] = data['acquiror_code'].astype(int)\n",
    "data['target_code'] = data['target_code'].astype(int)"
   ]
  },
  {
   "cell_type": "markdown",
   "id": "f4828f32",
   "metadata": {},
   "source": [
    "# Modifying data"
   ]
  },
  {
   "cell_type": "code",
   "execution_count": 12,
   "id": "49063510",
   "metadata": {},
   "outputs": [
    {
     "data": {
      "text/plain": [
       "id                                0\n",
       "announcement_date                 0\n",
       "deal_value                    17813\n",
       "acquiror_total_assets          8738\n",
       "acquiror_name                     0\n",
       "acquiror_ticker                  73\n",
       "target_name                       1\n",
       "target_nation                     1\n",
       "acquiror_nation                   0\n",
       "target_status                     0\n",
       "acquiror_industry                 0\n",
       "target_industry                   0\n",
       "shares_at_announcement        40009\n",
       "shares_acquired                   0\n",
       "consideration_offered             7\n",
       "attitude                          0\n",
       "acquisition_technique             3\n",
       "acquiror_financial_advisor    35036\n",
       "target_financial_advisor      32109\n",
       "purpose                       19147\n",
       "acquiror_code                     0\n",
       "target_code                       0\n",
       "dtype: int64"
      ]
     },
     "execution_count": 12,
     "metadata": {},
     "output_type": "execute_result"
    }
   ],
   "source": [
    "data.isna().sum()"
   ]
  },
  {
   "cell_type": "code",
   "execution_count": 13,
   "id": "4e4cfd2d",
   "metadata": {},
   "outputs": [],
   "source": [
    "# deal_value=not considered\n",
    "# acquiror_ticker=remove\n",
    "# target_name/target_nation/target_industry=remove\n",
    "# target_status=remove\n",
    "# shares_at_announcement=0\n",
    "# consideration_offered=remove\n",
    "# acquiror/target_financial_advisor=not considered"
   ]
  },
  {
   "cell_type": "markdown",
   "id": "86f6a52f",
   "metadata": {},
   "source": [
    "## Fill up missing values"
   ]
  },
  {
   "cell_type": "code",
   "execution_count": 14,
   "id": "df606624",
   "metadata": {},
   "outputs": [],
   "source": [
    "# NA in 'shares_at_announcement' implies 0\n",
    "data['shares_at_announcement'].fillna(0, inplace=True)"
   ]
  },
  {
   "cell_type": "markdown",
   "id": "5320d1d6",
   "metadata": {},
   "source": [
    "## Removing NAs"
   ]
  },
  {
   "cell_type": "code",
   "execution_count": 15,
   "id": "5ed45ecb",
   "metadata": {},
   "outputs": [],
   "source": [
    "drop_na = ['acquiror_ticker', 'target_name', 'target_nation', 'target_status', 'target_industry',\n",
    "           'consideration_offered']"
   ]
  },
  {
   "cell_type": "code",
   "execution_count": 16,
   "id": "01e7468c",
   "metadata": {},
   "outputs": [],
   "source": [
    "for col in drop_na:\n",
    "    data = data[data[col].notna()]"
   ]
  },
  {
   "cell_type": "code",
   "execution_count": 17,
   "id": "346111b7",
   "metadata": {},
   "outputs": [
    {
     "data": {
      "text/plain": [
       "0.3874583606876261"
      ]
     },
     "execution_count": 17,
     "metadata": {},
     "output_type": "execute_result"
    }
   ],
   "source": [
    "# 'Unspecified' in consideration_offered has to be removed -> we would lose 38% of our data\n",
    "len(data[data['consideration_offered'] == 'Unspecified']) / len(data)"
   ]
  },
  {
   "cell_type": "code",
   "execution_count": 42,
   "id": "4f445758",
   "metadata": {},
   "outputs": [],
   "source": [
    "# to be excluded in detailed dataset\n",
    "# data = data[data['consideration_offered'] != 'Unspecified']"
   ]
  },
  {
   "cell_type": "markdown",
   "id": "4dab15ae",
   "metadata": {},
   "source": [
    "## US only"
   ]
  },
  {
   "cell_type": "code",
   "execution_count": 18,
   "id": "8d23ac10",
   "metadata": {},
   "outputs": [
    {
     "data": {
      "text/plain": [
       "array(['United States', 'Canada', 'China (Mainland)', 'Russia',\n",
       "       'Hong Kong', 'Philippines', 'Poland', 'Japan', 'Netherlands',\n",
       "       'France', 'Malaysia', 'United Kingdom', 'Australia', 'Taiwan',\n",
       "       'Sweden', 'Bermuda', 'Switzerland', 'Hungary', 'Singapore',\n",
       "       'Israel', 'Peru', 'Argentina', 'Colombia', 'United Arab Emirates',\n",
       "       'Thailand', 'Brazil', 'Cambodia', 'New Zealand', 'Panama',\n",
       "       'South Korea', 'Germany', 'Ireland', 'Italy', 'Ecuador', 'Vietnam',\n",
       "       'Czech Republic', 'Dominican Republic', 'Fiji', 'Kenya', 'Denmark',\n",
       "       'Ukraine', 'Latvia', 'Malta', 'Jamaica', 'Puerto Rico', 'Greece',\n",
       "       'Indonesia', 'U.S. Virgin Islands', 'India'], dtype=object)"
      ]
     },
     "execution_count": 18,
     "metadata": {},
     "output_type": "execute_result"
    }
   ],
   "source": [
    "# Raw data was filtered for nation of incorporation, some nations stayed in\n",
    "data['acquiror_nation'].unique()"
   ]
  },
  {
   "cell_type": "code",
   "execution_count": 19,
   "id": "6ec78f32",
   "metadata": {},
   "outputs": [],
   "source": [
    "data = data[data['acquiror_nation'] == 'United States']"
   ]
  },
  {
   "cell_type": "markdown",
   "id": "c579c918",
   "metadata": {},
   "source": [
    "## Empty acquisitions"
   ]
  },
  {
   "cell_type": "code",
   "execution_count": 20,
   "id": "c524114f",
   "metadata": {},
   "outputs": [
    {
     "data": {
      "text/plain": [
       "(12579, 22)"
      ]
     },
     "execution_count": 20,
     "metadata": {},
     "output_type": "execute_result"
    }
   ],
   "source": [
    "data[data['shares_acquired'] <= 0.0].shape # we have 12579 empty acquisitions"
   ]
  },
  {
   "cell_type": "code",
   "execution_count": 21,
   "id": "33d82049",
   "metadata": {
    "scrolled": true
   },
   "outputs": [],
   "source": [
    "data = data[data['shares_acquired'] > 0.0]"
   ]
  },
  {
   "cell_type": "code",
   "execution_count": 22,
   "id": "d62e3e81",
   "metadata": {},
   "outputs": [
    {
     "data": {
      "text/plain": [
       "id                                0\n",
       "announcement_date                 0\n",
       "deal_value                    12921\n",
       "acquiror_total_assets          1882\n",
       "acquiror_name                     0\n",
       "acquiror_ticker                   0\n",
       "target_name                       0\n",
       "target_nation                     0\n",
       "acquiror_nation                   0\n",
       "target_status                     0\n",
       "acquiror_industry                 0\n",
       "target_industry                   0\n",
       "shares_at_announcement            0\n",
       "shares_acquired                   0\n",
       "consideration_offered             0\n",
       "attitude                          0\n",
       "acquisition_technique             0\n",
       "acquiror_financial_advisor    22135\n",
       "target_financial_advisor      19527\n",
       "purpose                       12533\n",
       "acquiror_code                     0\n",
       "target_code                       0\n",
       "dtype: int64"
      ]
     },
     "execution_count": 22,
     "metadata": {},
     "output_type": "execute_result"
    }
   ],
   "source": [
    "data.isna().sum()"
   ]
  },
  {
   "cell_type": "markdown",
   "id": "50d884ed",
   "metadata": {},
   "source": [
    "## No purpose given"
   ]
  },
  {
   "cell_type": "code",
   "execution_count": 23,
   "id": "4fd7c300",
   "metadata": {},
   "outputs": [
    {
     "data": {
      "text/plain": [
       "(673, 22)"
      ]
     },
     "execution_count": 23,
     "metadata": {},
     "output_type": "execute_result"
    }
   ],
   "source": [
    "data[data['purpose'] == 'Other'].shape # 673 undefined purpose\n",
    "# + 12533 NaN\n",
    "# = 13206 lost deals"
   ]
  },
  {
   "cell_type": "code",
   "execution_count": 50,
   "id": "db1741e3",
   "metadata": {},
   "outputs": [],
   "source": [
    "# to be excluded in detailed model\n",
    "# data = data[data['purpose'].notna()]\n",
    "# data = data[data['purpose'] != 'Other']"
   ]
  },
  {
   "cell_type": "markdown",
   "id": "b38b078a",
   "metadata": {},
   "source": [
    "## No acquisition_technique"
   ]
  },
  {
   "cell_type": "code",
   "execution_count": 53,
   "id": "104ed7ff",
   "metadata": {},
   "outputs": [
    {
     "data": {
      "text/plain": [
       "(3679, 22)"
      ]
     },
     "execution_count": 53,
     "metadata": {},
     "output_type": "execute_result"
    }
   ],
   "source": [
    "data[data['acquisition_technique'] == 'Not Applicable'].shape # 13940 not specified"
   ]
  },
  {
   "cell_type": "code",
   "execution_count": null,
   "id": "311d8e7e",
   "metadata": {},
   "outputs": [],
   "source": [
    "# to be excluded in detailed dataset\n",
    "# data = data[data['acquisition_technique'] != 'Not Applicable']\n",
    "# would end up with ~6k deals carrying very specific information"
   ]
  },
  {
   "cell_type": "markdown",
   "id": "6ee3f3ab",
   "metadata": {},
   "source": [
    "# Upload"
   ]
  },
  {
   "cell_type": "code",
   "execution_count": 25,
   "id": "c13f4424",
   "metadata": {},
   "outputs": [],
   "source": [
    "data.to_csv('../MA_PREDICTOR/data/ma_data.csv', index=False)"
   ]
  }
 ],
 "metadata": {
  "kernelspec": {
   "display_name": "Python 3 (ipykernel)",
   "language": "python",
   "name": "python3"
  },
  "language_info": {
   "codemirror_mode": {
    "name": "ipython",
    "version": 3
   },
   "file_extension": ".py",
   "mimetype": "text/x-python",
   "name": "python",
   "nbconvert_exporter": "python",
   "pygments_lexer": "ipython3",
   "version": "3.8.6"
  },
  "toc": {
   "base_numbering": 1,
   "nav_menu": {},
   "number_sections": true,
   "sideBar": true,
   "skip_h1_title": false,
   "title_cell": "Table of Contents",
   "title_sidebar": "Contents",
   "toc_cell": false,
   "toc_position": {},
   "toc_section_display": true,
   "toc_window_display": false
  }
 },
 "nbformat": 4,
 "nbformat_minor": 5
}
