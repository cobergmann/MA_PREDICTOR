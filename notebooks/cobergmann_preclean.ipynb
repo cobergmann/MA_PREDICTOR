{
 "cells": [
  {
   "cell_type": "code",
   "execution_count": 301,
   "id": "5fd81258",
   "metadata": {},
   "outputs": [
    {
     "name": "stdout",
     "output_type": "stream",
     "text": [
      "The autoreload extension is already loaded. To reload it, use:\n",
      "  %reload_ext autoreload\n"
     ]
    }
   ],
   "source": [
    "%load_ext autoreload\n",
    "%autoreload 2"
   ]
  },
  {
   "cell_type": "code",
   "execution_count": 302,
   "id": "d576ae95",
   "metadata": {},
   "outputs": [],
   "source": [
    "import pandas as pd\n",
    "import numpy as np\n",
    "from datetime import datetime"
   ]
  },
  {
   "cell_type": "markdown",
   "id": "f3f052cf",
   "metadata": {},
   "source": [
    "# Raw data"
   ]
  },
  {
   "cell_type": "code",
   "execution_count": 303,
   "id": "ffa2a754",
   "metadata": {},
   "outputs": [
    {
     "data": {
      "text/html": [
       "<div>\n",
       "<style scoped>\n",
       "    .dataframe tbody tr th:only-of-type {\n",
       "        vertical-align: middle;\n",
       "    }\n",
       "\n",
       "    .dataframe tbody tr th {\n",
       "        vertical-align: top;\n",
       "    }\n",
       "\n",
       "    .dataframe thead th {\n",
       "        text-align: right;\n",
       "    }\n",
       "</style>\n",
       "<table border=\"1\" class=\"dataframe\">\n",
       "  <thead>\n",
       "    <tr style=\"text-align: right;\">\n",
       "      <th></th>\n",
       "      <th>SDC Deal No</th>\n",
       "      <th>Date Announced</th>\n",
       "      <th>Deal Value\\r\\n(USD, Millions)</th>\n",
       "      <th>Acquiror Total Assets Last 12 Months\\r\\n(USD, Millions)</th>\n",
       "      <th>Acquiror Full Name</th>\n",
       "      <th>Acquiror Primary Ticker Symbol</th>\n",
       "      <th>Target Full Name</th>\n",
       "      <th>Target Nation</th>\n",
       "      <th>Acquiror Nation</th>\n",
       "      <th>Target Public Status</th>\n",
       "      <th>Acquiror TRBC Industry</th>\n",
       "      <th>Target TRBC Industry</th>\n",
       "      <th>Percentage of Shares Held at Announcement</th>\n",
       "      <th>Percentage of Shares Acquired in Transaction</th>\n",
       "      <th>Consideration Offered\\r\\n('|')</th>\n",
       "      <th>Deal Attitude</th>\n",
       "      <th>Acquisition Techniques\\r\\n('|')</th>\n",
       "      <th>Acquiror Financial Advisors Name\\r\\n('|')</th>\n",
       "      <th>Target Financial Advisors Name\\r\\n('|')</th>\n",
       "      <th>Purpose\\r\\n('|')</th>\n",
       "    </tr>\n",
       "  </thead>\n",
       "  <tbody>\n",
       "    <tr>\n",
       "      <th>0</th>\n",
       "      <td>1631732020</td>\n",
       "      <td>01/01/2005</td>\n",
       "      <td>12.00</td>\n",
       "      <td>3,160.41</td>\n",
       "      <td>Plains All American Pipeline LP</td>\n",
       "      <td>PAA</td>\n",
       "      <td>Shell Pipeline Co LP-Crude Oil Pipeline Assets...</td>\n",
       "      <td>United States</td>\n",
       "      <td>United States</td>\n",
       "      <td>Subsidiary</td>\n",
       "      <td>Oil &amp; Gas Refining and Marketing</td>\n",
       "      <td>Oil &amp; Gas Transportation Services</td>\n",
       "      <td>NaN</td>\n",
       "      <td>100.0</td>\n",
       "      <td>Cash|Cash Only</td>\n",
       "      <td>Friendly</td>\n",
       "      <td>Financial Acquiror|Divestiture</td>\n",
       "      <td>NaN</td>\n",
       "      <td>NaN</td>\n",
       "      <td>Strengthen existing operations/expand presence...</td>\n",
       "    </tr>\n",
       "    <tr>\n",
       "      <th>1</th>\n",
       "      <td>1653652020</td>\n",
       "      <td>01/01/2005</td>\n",
       "      <td>NaN</td>\n",
       "      <td>1,680.57</td>\n",
       "      <td>Regis Corp</td>\n",
       "      <td>RGS</td>\n",
       "      <td>Scot Lewis Schools</td>\n",
       "      <td>United States</td>\n",
       "      <td>United States</td>\n",
       "      <td>Private</td>\n",
       "      <td>Personal Services</td>\n",
       "      <td>Professional &amp; Business Education</td>\n",
       "      <td>NaN</td>\n",
       "      <td>100.0</td>\n",
       "      <td>Unspecified</td>\n",
       "      <td>Friendly</td>\n",
       "      <td>Not Applicable</td>\n",
       "      <td>NaN</td>\n",
       "      <td>NaN</td>\n",
       "      <td>NaN</td>\n",
       "    </tr>\n",
       "  </tbody>\n",
       "</table>\n",
       "</div>"
      ],
      "text/plain": [
       "   SDC Deal No Date Announced Deal Value\\r\\n(USD, Millions)  \\\n",
       "0   1631732020     01/01/2005                         12.00   \n",
       "1   1653652020     01/01/2005                           NaN   \n",
       "\n",
       "  Acquiror Total Assets Last 12 Months\\r\\n(USD, Millions)  \\\n",
       "0                                           3,160.41        \n",
       "1                                           1,680.57        \n",
       "\n",
       "                Acquiror Full Name Acquiror Primary Ticker Symbol  \\\n",
       "0  Plains All American Pipeline LP                            PAA   \n",
       "1                       Regis Corp                            RGS   \n",
       "\n",
       "                                    Target Full Name  Target Nation  \\\n",
       "0  Shell Pipeline Co LP-Crude Oil Pipeline Assets...  United States   \n",
       "1                                 Scot Lewis Schools  United States   \n",
       "\n",
       "  Acquiror Nation Target Public Status            Acquiror TRBC Industry  \\\n",
       "0   United States           Subsidiary  Oil & Gas Refining and Marketing   \n",
       "1   United States              Private                 Personal Services   \n",
       "\n",
       "                Target TRBC Industry  \\\n",
       "0  Oil & Gas Transportation Services   \n",
       "1  Professional & Business Education   \n",
       "\n",
       "   Percentage of Shares Held at Announcement  \\\n",
       "0                                        NaN   \n",
       "1                                        NaN   \n",
       "\n",
       "   Percentage of Shares Acquired in Transaction  \\\n",
       "0                                         100.0   \n",
       "1                                         100.0   \n",
       "\n",
       "  Consideration Offered\\r\\n('|') Deal Attitude  \\\n",
       "0                 Cash|Cash Only      Friendly   \n",
       "1                    Unspecified      Friendly   \n",
       "\n",
       "  Acquisition Techniques\\r\\n('|') Acquiror Financial Advisors Name\\r\\n('|')  \\\n",
       "0  Financial Acquiror|Divestiture                                       NaN   \n",
       "1                  Not Applicable                                       NaN   \n",
       "\n",
       "  Target Financial Advisors Name\\r\\n('|')  \\\n",
       "0                                     NaN   \n",
       "1                                     NaN   \n",
       "\n",
       "                                    Purpose\\r\\n('|')  \n",
       "0  Strengthen existing operations/expand presence...  \n",
       "1                                                NaN  "
      ]
     },
     "execution_count": 303,
     "metadata": {},
     "output_type": "execute_result"
    }
   ],
   "source": [
    "data = pd.read_csv('../raw_data/210908_LeWagon_finalproject_v3.csv')\n",
    "data.head(2)"
   ]
  },
  {
   "cell_type": "markdown",
   "id": "840c0c68",
   "metadata": {},
   "source": [
    "# Adjust data"
   ]
  },
  {
   "cell_type": "markdown",
   "id": "a970af5c",
   "metadata": {},
   "source": [
    "## Column names"
   ]
  },
  {
   "cell_type": "code",
   "execution_count": 304,
   "id": "3f89d768",
   "metadata": {},
   "outputs": [
    {
     "data": {
      "text/plain": [
       "Index(['SDC Deal No', 'Date Announced', 'Deal Value\\r\\n(USD, Millions)',\n",
       "       'Acquiror Total Assets Last 12 Months\\r\\n(USD, Millions)',\n",
       "       'Acquiror Full Name', 'Acquiror Primary Ticker Symbol',\n",
       "       'Target Full Name', 'Target Nation', 'Acquiror Nation',\n",
       "       'Target Public Status', 'Acquiror TRBC Industry',\n",
       "       'Target TRBC Industry', 'Percentage of Shares Held at Announcement',\n",
       "       'Percentage of Shares Acquired in Transaction',\n",
       "       'Consideration Offered\\r\\n('|')', 'Deal Attitude',\n",
       "       'Acquisition Techniques\\r\\n('|')',\n",
       "       'Acquiror Financial Advisors Name\\r\\n('|')',\n",
       "       'Target Financial Advisors Name\\r\\n('|')', 'Purpose\\r\\n('|')'],\n",
       "      dtype='object')"
      ]
     },
     "execution_count": 304,
     "metadata": {},
     "output_type": "execute_result"
    }
   ],
   "source": [
    "data.columns"
   ]
  },
  {
   "cell_type": "code",
   "execution_count": 305,
   "id": "53cf7006",
   "metadata": {},
   "outputs": [],
   "source": [
    "new_columns = [\n",
    "    'id', 'announcement_date', 'deal_value', 'acquiror_total_assets', 'acquiror_name', 'acquiror_ticker', 'target_name',\n",
    "    'target_nation', 'acquiror_nation', 'target_status', 'acquiror_industry', 'target_industry',\n",
    "    'shares_at_announcement', 'shares_acquired', 'consideration_offered', 'attitude',\n",
    "    'acquisition_technique', 'acquiror_financial_advisor', 'target_financial_advisor', 'purpose'\n",
    "]"
   ]
  },
  {
   "cell_type": "code",
   "execution_count": 306,
   "id": "6db814b8",
   "metadata": {},
   "outputs": [],
   "source": [
    "data.columns = new_columns"
   ]
  },
  {
   "cell_type": "markdown",
   "id": "38804f21",
   "metadata": {},
   "source": [
    "## Adding TRBC (industry classifier)"
   ]
  },
  {
   "cell_type": "code",
   "execution_count": 307,
   "id": "2e4d85e7",
   "metadata": {},
   "outputs": [
    {
     "data": {
      "text/html": [
       "<div>\n",
       "<style scoped>\n",
       "    .dataframe tbody tr th:only-of-type {\n",
       "        vertical-align: middle;\n",
       "    }\n",
       "\n",
       "    .dataframe tbody tr th {\n",
       "        vertical-align: top;\n",
       "    }\n",
       "\n",
       "    .dataframe thead th {\n",
       "        text-align: right;\n",
       "    }\n",
       "</style>\n",
       "<table border=\"1\" class=\"dataframe\">\n",
       "  <thead>\n",
       "    <tr style=\"text-align: right;\">\n",
       "      <th></th>\n",
       "      <th>Title</th>\n",
       "      <th>Hierarchical_Code</th>\n",
       "    </tr>\n",
       "  </thead>\n",
       "  <tbody>\n",
       "    <tr>\n",
       "      <th>0</th>\n",
       "      <td>Coal</td>\n",
       "      <td>50101010</td>\n",
       "    </tr>\n",
       "    <tr>\n",
       "      <th>1</th>\n",
       "      <td>Integrated Oil &amp; Gas</td>\n",
       "      <td>50102010</td>\n",
       "    </tr>\n",
       "    <tr>\n",
       "      <th>2</th>\n",
       "      <td>Oil &amp; Gas Exploration and Production</td>\n",
       "      <td>50102020</td>\n",
       "    </tr>\n",
       "    <tr>\n",
       "      <th>3</th>\n",
       "      <td>Oil &amp; Gas Refining and Marketing</td>\n",
       "      <td>50102030</td>\n",
       "    </tr>\n",
       "    <tr>\n",
       "      <th>4</th>\n",
       "      <td>Oil &amp; Gas Drilling</td>\n",
       "      <td>50103010</td>\n",
       "    </tr>\n",
       "  </tbody>\n",
       "</table>\n",
       "</div>"
      ],
      "text/plain": [
       "                                  Title  Hierarchical_Code\n",
       "0                                  Coal           50101010\n",
       "1                  Integrated Oil & Gas           50102010\n",
       "2  Oil & Gas Exploration and Production           50102020\n",
       "3      Oil & Gas Refining and Marketing           50102030\n",
       "4                    Oil & Gas Drilling           50103010"
      ]
     },
     "execution_count": 307,
     "metadata": {},
     "output_type": "execute_result"
    }
   ],
   "source": [
    "trbc = pd.read_pickle('../MA_PREDICTOR/data/trbc.pkl')\n",
    "trbc.head()"
   ]
  },
  {
   "cell_type": "code",
   "execution_count": 308,
   "id": "42fcc2e0",
   "metadata": {},
   "outputs": [],
   "source": [
    "# Acquiror\n",
    "data = data.join(trbc.set_index('Title'), on='acquiror_industry')\n",
    "data.rename(columns={'Hierarchical_Code': 'acquiror_code'}, inplace=True)\n",
    "\n",
    "# Target\n",
    "data = data.join(trbc.set_index('Title'), on='target_industry')\n",
    "data.rename(columns={'Hierarchical_Code': 'target_code'}, inplace=True)"
   ]
  },
  {
   "cell_type": "markdown",
   "id": "debf98bc",
   "metadata": {},
   "source": [
    "## Adding acquisition_count"
   ]
  },
  {
   "cell_type": "code",
   "execution_count": 309,
   "id": "8e70b62d",
   "metadata": {},
   "outputs": [],
   "source": [
    "# Loading acquisition data from 1990-2021\n",
    "hist_acquisition = pd.read_pickle('../MA_PREDICTOR/data/acquisition_count.pkl')\n",
    "hist_acquisition.drop(columns=['announcement_date'], inplace=True)"
   ]
  },
  {
   "cell_type": "code",
   "execution_count": 310,
   "id": "b0c592d3",
   "metadata": {},
   "outputs": [],
   "source": [
    "data = data.join(hist_acquisition.set_index('id')['acquisition_count'], on='id')"
   ]
  },
  {
   "cell_type": "code",
   "execution_count": 311,
   "id": "a91c9b97",
   "metadata": {},
   "outputs": [
    {
     "name": "stderr",
     "output_type": "stream",
     "text": [
      "/var/folders/z8/077xt3wd30j28k4_3vtz7gn00000gn/T/ipykernel_8608/3583381704.py:40: SettingWithCopyWarning: \n",
      "A value is trying to be set on a copy of a slice from a DataFrame\n",
      "\n",
      "See the caveats in the documentation: https://pandas.pydata.org/pandas-docs/stable/user_guide/indexing.html#returning-a-view-versus-a-copy\n",
      "  data.acquisition_count[data.acquiror_name == acquiror] = series\n"
     ]
    }
   ],
   "source": [
    "# We have to fill Nan's with previous value for cumcount for this specific acuqiror\n",
    "\n",
    "# Get all acquirors' name in dataset\n",
    "acquirors = set(data.acquiror_name.unique())\n",
    "\n",
    "# Get all acquirors' name in historical dataset\n",
    "hist_acquirors = set(hist_acquisition.acquiror_name.unique())\n",
    "\n",
    "# Iterate through set of acquirors and fill NaN values accordingly\n",
    "for acquiror in acquirors:\n",
    "    \n",
    "    # Set deals per acquiror as variable\n",
    "    series = data.acquisition_count[data.acquiror_name == acquiror]\n",
    "    \n",
    "    # Special fill if first deal in dataset is not completed (ffill not suited)\n",
    "    if pd.isna(series.iloc[0]):\n",
    "        \n",
    "        # No completed acquisition can be observed from 2005-2021 dataset\n",
    "        if all(pd.isna(data.acquisition_count[data.acquiror_name == acquiror])):\n",
    "            \n",
    "            # Take most recent value (happening before 2005) and manually accumulate\n",
    "            if acquiror in hist_acquirors:\n",
    "                series.iloc[0] = hist_acquisition[hist_acquisition.acquiror_name == acquiror\n",
    "                                                 ].acquisition_count.max() + 1\n",
    "\n",
    "            # If not available in historical dataset, completed mergers are assumed to be 0\n",
    "            else:\n",
    "                series.iloc[0] = 0\n",
    "                \n",
    "        # Find next available number of completed acquisition and manually decumulate\n",
    "        else:\n",
    "            for i in range(len(series)):\n",
    "                if not pd.isna(series.iloc[i]):\n",
    "                    series.iloc[0] = series.iloc[i] - 1\n",
    "                    break\n",
    "                    \n",
    "    # With first observation filled we can forwardfill the rest\n",
    "    series = series.ffill()\n",
    "                \n",
    "    data.acquisition_count[data.acquiror_name == acquiror] = series"
   ]
  },
  {
   "cell_type": "code",
   "execution_count": 312,
   "id": "43110626",
   "metadata": {},
   "outputs": [
    {
     "data": {
      "text/plain": [
       "39029    0.0\n",
       "41188    0.0\n",
       "Name: acquisition_count, dtype: float64"
      ]
     },
     "execution_count": 312,
     "metadata": {},
     "output_type": "execute_result"
    }
   ],
   "source": [
    "# e.g. all NaNs\n",
    "data.acquisition_count[data.acquiror_name == 'Fourth Wave Energy Inc']"
   ]
  },
  {
   "cell_type": "code",
   "execution_count": 313,
   "id": "b725e234",
   "metadata": {
    "scrolled": true
   },
   "outputs": [
    {
     "data": {
      "text/plain": [
       "31       0.0\n",
       "2678     1.0\n",
       "2679     2.0\n",
       "3539     3.0\n",
       "4566     3.0\n",
       "10490    3.0\n",
       "14857    3.0\n",
       "21363    4.0\n",
       "25441    4.0\n",
       "Name: acquisition_count, dtype: float64"
      ]
     },
     "execution_count": 313,
     "metadata": {},
     "output_type": "execute_result"
    }
   ],
   "source": [
    "# e.g. first observations NaN\n",
    "data.acquisition_count[data.acquiror_name == 'Post Properties Inc']"
   ]
  },
  {
   "cell_type": "markdown",
   "id": "b4e05f69",
   "metadata": {},
   "source": [
    "## Adding bidder_count"
   ]
  },
  {
   "cell_type": "code",
   "execution_count": 314,
   "id": "708c81c6",
   "metadata": {},
   "outputs": [],
   "source": [
    "# Importing dataframe with all bidders complete and extracting relevant columns\n",
    "bidders = pd.read_csv('../raw_data/210914_bidder_count.csv')[['SDC Deal No', 'Number of Bidders']]\n",
    "bidders.columns = ['id', 'bidder_count']"
   ]
  },
  {
   "cell_type": "code",
   "execution_count": 315,
   "id": "c8b47256",
   "metadata": {},
   "outputs": [],
   "source": [
    "data = data.join(bidders.set_index('id'), on='id')"
   ]
  },
  {
   "cell_type": "code",
   "execution_count": 316,
   "id": "bfd87f59",
   "metadata": {},
   "outputs": [
    {
     "data": {
      "text/plain": [
       "1.0    41037\n",
       "2.0      152\n",
       "3.0       25\n",
       "4.0        2\n",
       "Name: bidder_count, dtype: int64"
      ]
     },
     "execution_count": 316,
     "metadata": {},
     "output_type": "execute_result"
    }
   ],
   "source": [
    "data.bidder_count.value_counts()"
   ]
  },
  {
   "cell_type": "code",
   "execution_count": 317,
   "id": "4bc1f32e",
   "metadata": {},
   "outputs": [],
   "source": [
    "# Assume that nas are 1 (based on above observation)\n",
    "data.bidder_count.fillna(1, inplace=True)"
   ]
  },
  {
   "cell_type": "markdown",
   "id": "c265a722",
   "metadata": {},
   "source": [
    "## dtypes"
   ]
  },
  {
   "cell_type": "code",
   "execution_count": 318,
   "id": "6c10cd15",
   "metadata": {
    "scrolled": false
   },
   "outputs": [
    {
     "data": {
      "text/plain": [
       "id                              int64\n",
       "announcement_date              object\n",
       "deal_value                     object\n",
       "acquiror_total_assets          object\n",
       "acquiror_name                  object\n",
       "acquiror_ticker                object\n",
       "target_name                    object\n",
       "target_nation                  object\n",
       "acquiror_nation                object\n",
       "target_status                  object\n",
       "acquiror_industry              object\n",
       "target_industry                object\n",
       "shares_at_announcement        float64\n",
       "shares_acquired               float64\n",
       "consideration_offered          object\n",
       "attitude                       object\n",
       "acquisition_technique          object\n",
       "acquiror_financial_advisor     object\n",
       "target_financial_advisor       object\n",
       "purpose                        object\n",
       "acquiror_code                 float64\n",
       "target_code                   float64\n",
       "acquisition_count             float64\n",
       "bidder_count                  float64\n",
       "dtype: object"
      ]
     },
     "execution_count": 318,
     "metadata": {},
     "output_type": "execute_result"
    }
   ],
   "source": [
    "data.dtypes"
   ]
  },
  {
   "cell_type": "code",
   "execution_count": 319,
   "id": "187378e3",
   "metadata": {},
   "outputs": [],
   "source": [
    "# transforming announcement_date\n",
    "data['announcement_date'] = pd.to_datetime(data['announcement_date'], format=\"%d/%m/%Y\")"
   ]
  },
  {
   "cell_type": "code",
   "execution_count": 320,
   "id": "9f7fe30e",
   "metadata": {},
   "outputs": [],
   "source": [
    "# transforming deal_value\n",
    "rem_com = lambda x: x.replace(',', '') if type(x) == str else x # removing comma in string, leaving float\n",
    "num_feat = ['deal_value', 'acquiror_total_assets']\n",
    "for feat in num_feat:\n",
    "    data[feat]= data[feat].apply(rem_com).astype(float)"
   ]
  },
  {
   "cell_type": "code",
   "execution_count": 321,
   "id": "59fabd8d",
   "metadata": {},
   "outputs": [],
   "source": [
    "# Transforming trbc codes\n",
    "\n",
    "# Removing nas\n",
    "data = data[data['acquiror_code'].notna()]\n",
    "data = data[data['target_code'].notna()]\n",
    "\n",
    "# Type transformation\n",
    "data['acquiror_code'] = data['acquiror_code'].astype(int)\n",
    "data['target_code'] = data['target_code'].astype(int)"
   ]
  },
  {
   "cell_type": "code",
   "execution_count": 322,
   "id": "e24e1edf",
   "metadata": {},
   "outputs": [],
   "source": [
    "# Type transformation\n",
    "data['acquisition_count'] = data['acquisition_count'].astype('int')\n",
    "data['bidder_count'] = data['bidder_count'].astype('int')"
   ]
  },
  {
   "cell_type": "markdown",
   "id": "f4828f32",
   "metadata": {},
   "source": [
    "# Modifying data"
   ]
  },
  {
   "cell_type": "code",
   "execution_count": 323,
   "id": "49063510",
   "metadata": {},
   "outputs": [
    {
     "data": {
      "text/plain": [
       "id                                0\n",
       "announcement_date                 0\n",
       "deal_value                    17813\n",
       "acquiror_total_assets          8738\n",
       "acquiror_name                     0\n",
       "acquiror_ticker                  73\n",
       "target_name                       1\n",
       "target_nation                     1\n",
       "acquiror_nation                   0\n",
       "target_status                     0\n",
       "acquiror_industry                 0\n",
       "target_industry                   0\n",
       "shares_at_announcement        40009\n",
       "shares_acquired                   0\n",
       "consideration_offered             7\n",
       "attitude                          0\n",
       "acquisition_technique             3\n",
       "acquiror_financial_advisor    35036\n",
       "target_financial_advisor      32109\n",
       "purpose                       19147\n",
       "acquiror_code                     0\n",
       "target_code                       0\n",
       "acquisition_count                 0\n",
       "bidder_count                      0\n",
       "dtype: int64"
      ]
     },
     "execution_count": 323,
     "metadata": {},
     "output_type": "execute_result"
    }
   ],
   "source": [
    "data.isna().sum()"
   ]
  },
  {
   "cell_type": "code",
   "execution_count": 324,
   "id": "4e4cfd2d",
   "metadata": {},
   "outputs": [],
   "source": [
    "# deal_value=not considered\n",
    "# acquiror_ticker=remove\n",
    "# target_name/target_nation/target_industry=remove\n",
    "# target_status=remove\n",
    "# shares_at_announcement=0\n",
    "# consideration_offered=remove\n",
    "# acquiror/target_financial_advisor=not considered"
   ]
  },
  {
   "cell_type": "markdown",
   "id": "86f6a52f",
   "metadata": {},
   "source": [
    "## Fill up missing values"
   ]
  },
  {
   "cell_type": "code",
   "execution_count": 325,
   "id": "df606624",
   "metadata": {},
   "outputs": [],
   "source": [
    "# NA in 'shares_at_announcement' implies 0\n",
    "data['shares_at_announcement'].fillna(0, inplace=True)"
   ]
  },
  {
   "cell_type": "markdown",
   "id": "5320d1d6",
   "metadata": {},
   "source": [
    "## Removing NAs"
   ]
  },
  {
   "cell_type": "code",
   "execution_count": 326,
   "id": "5ed45ecb",
   "metadata": {},
   "outputs": [],
   "source": [
    "drop_na = ['acquiror_ticker', 'target_name', 'target_nation', 'target_status', 'target_industry',\n",
    "           'consideration_offered']"
   ]
  },
  {
   "cell_type": "code",
   "execution_count": 327,
   "id": "34b774ae",
   "metadata": {},
   "outputs": [
    {
     "data": {
      "text/plain": [
       "(41209, 24)"
      ]
     },
     "execution_count": 327,
     "metadata": {},
     "output_type": "execute_result"
    }
   ],
   "source": [
    "data.shape"
   ]
  },
  {
   "cell_type": "code",
   "execution_count": 328,
   "id": "01e7468c",
   "metadata": {},
   "outputs": [],
   "source": [
    "for col in drop_na:\n",
    "    data = data[data[col].notna()]"
   ]
  },
  {
   "cell_type": "markdown",
   "id": "6e8c7c1b",
   "metadata": {},
   "source": [
    "## Optional: clean consideration offered"
   ]
  },
  {
   "cell_type": "code",
   "execution_count": 329,
   "id": "346111b7",
   "metadata": {},
   "outputs": [
    {
     "data": {
      "text/plain": [
       "0.3874583606876261"
      ]
     },
     "execution_count": 329,
     "metadata": {},
     "output_type": "execute_result"
    }
   ],
   "source": [
    "# 'Unspecified' in consideration_offered has to be removed -> we would lose 38% of our data\n",
    "len(data[data['consideration_offered'] == 'Unspecified']) / len(data)"
   ]
  },
  {
   "cell_type": "code",
   "execution_count": 330,
   "id": "fac601e9",
   "metadata": {},
   "outputs": [
    {
     "data": {
      "text/plain": [
       "(41127, 24)"
      ]
     },
     "execution_count": 330,
     "metadata": {},
     "output_type": "execute_result"
    }
   ],
   "source": [
    "data.shape"
   ]
  },
  {
   "cell_type": "code",
   "execution_count": 331,
   "id": "4f445758",
   "metadata": {},
   "outputs": [],
   "source": [
    "# to be excluded in detailed dataset\n",
    "data = data[data['consideration_offered'] != 'Unspecified']"
   ]
  },
  {
   "cell_type": "code",
   "execution_count": 332,
   "id": "9dc03298",
   "metadata": {},
   "outputs": [
    {
     "data": {
      "text/plain": [
       "(25192, 24)"
      ]
     },
     "execution_count": 332,
     "metadata": {},
     "output_type": "execute_result"
    }
   ],
   "source": [
    "data.shape"
   ]
  },
  {
   "cell_type": "markdown",
   "id": "4dab15ae",
   "metadata": {},
   "source": [
    "## US only"
   ]
  },
  {
   "cell_type": "code",
   "execution_count": 333,
   "id": "8d23ac10",
   "metadata": {},
   "outputs": [
    {
     "data": {
      "text/plain": [
       "array(['United States', 'Russia', 'Canada', 'Hong Kong', 'Philippines',\n",
       "       'Poland', 'China (Mainland)', 'Japan', 'Netherlands', 'France',\n",
       "       'Malaysia', 'United Kingdom', 'Australia', 'Taiwan', 'Bermuda',\n",
       "       'Sweden', 'Switzerland', 'Singapore', 'Israel', 'Peru',\n",
       "       'Argentina', 'United Arab Emirates', 'New Zealand', 'South Korea',\n",
       "       'Brazil', 'Colombia', 'Ireland', 'Cambodia', 'Ecuador', 'Vietnam',\n",
       "       'Hungary', 'Czech Republic', 'Dominican Republic', 'Thailand',\n",
       "       'Malta', 'Denmark', 'Puerto Rico', 'Greece', 'U.S. Virgin Islands',\n",
       "       'Italy', 'India'], dtype=object)"
      ]
     },
     "execution_count": 333,
     "metadata": {},
     "output_type": "execute_result"
    }
   ],
   "source": [
    "# Raw data was filtered for nation of incorporation, some nations stayed in\n",
    "data['acquiror_nation'].unique()"
   ]
  },
  {
   "cell_type": "code",
   "execution_count": 334,
   "id": "6ec78f32",
   "metadata": {},
   "outputs": [],
   "source": [
    "data = data[data['acquiror_nation'] == 'United States']"
   ]
  },
  {
   "cell_type": "markdown",
   "id": "c579c918",
   "metadata": {},
   "source": [
    "## Empty acquisitions"
   ]
  },
  {
   "cell_type": "code",
   "execution_count": 335,
   "id": "caeac95e",
   "metadata": {},
   "outputs": [
    {
     "data": {
      "text/plain": [
       "(24410, 24)"
      ]
     },
     "execution_count": 335,
     "metadata": {},
     "output_type": "execute_result"
    }
   ],
   "source": [
    "data.shape"
   ]
  },
  {
   "cell_type": "code",
   "execution_count": 336,
   "id": "c524114f",
   "metadata": {},
   "outputs": [
    {
     "data": {
      "text/plain": [
       "(9223, 24)"
      ]
     },
     "execution_count": 336,
     "metadata": {},
     "output_type": "execute_result"
    }
   ],
   "source": [
    "data[data['shares_acquired'] <= 0.0].shape # we have 12579 empty acquisitions"
   ]
  },
  {
   "cell_type": "code",
   "execution_count": 337,
   "id": "33d82049",
   "metadata": {
    "scrolled": true
   },
   "outputs": [],
   "source": [
    "data = data[data['shares_acquired'] > 0.0]"
   ]
  },
  {
   "cell_type": "code",
   "execution_count": 338,
   "id": "1542f9af",
   "metadata": {},
   "outputs": [
    {
     "data": {
      "text/plain": [
       "(15187, 24)"
      ]
     },
     "execution_count": 338,
     "metadata": {},
     "output_type": "execute_result"
    }
   ],
   "source": [
    "data.shape"
   ]
  },
  {
   "cell_type": "markdown",
   "id": "50d884ed",
   "metadata": {},
   "source": [
    "## Optional: No purpose given"
   ]
  },
  {
   "cell_type": "code",
   "execution_count": 339,
   "id": "4fd7c300",
   "metadata": {},
   "outputs": [
    {
     "data": {
      "text/plain": [
       "(527, 24)"
      ]
     },
     "execution_count": 339,
     "metadata": {},
     "output_type": "execute_result"
    }
   ],
   "source": [
    "data[data['purpose'] == 'Other'].shape # 673 undefined purpose\n",
    "# + 12533 NaN\n",
    "# = 13206 lost deals"
   ]
  },
  {
   "cell_type": "code",
   "execution_count": 340,
   "id": "cc6b67ca",
   "metadata": {},
   "outputs": [
    {
     "data": {
      "text/plain": [
       "(15187, 24)"
      ]
     },
     "execution_count": 340,
     "metadata": {},
     "output_type": "execute_result"
    }
   ],
   "source": [
    "data.shape"
   ]
  },
  {
   "cell_type": "code",
   "execution_count": 341,
   "id": "db1741e3",
   "metadata": {},
   "outputs": [],
   "source": [
    "# to be excluded in detailed model\n",
    "data = data[data['purpose'].notna()]\n",
    "data = data[data['purpose'] != 'Other']"
   ]
  },
  {
   "cell_type": "code",
   "execution_count": 342,
   "id": "0a70ab8c",
   "metadata": {},
   "outputs": [
    {
     "data": {
      "text/plain": [
       "(9319, 24)"
      ]
     },
     "execution_count": 342,
     "metadata": {},
     "output_type": "execute_result"
    }
   ],
   "source": [
    "data.shape"
   ]
  },
  {
   "cell_type": "markdown",
   "id": "b38b078a",
   "metadata": {},
   "source": [
    "## Optional: No acquisition_technique"
   ]
  },
  {
   "cell_type": "code",
   "execution_count": 343,
   "id": "104ed7ff",
   "metadata": {},
   "outputs": [
    {
     "data": {
      "text/plain": [
       "(3679, 24)"
      ]
     },
     "execution_count": 343,
     "metadata": {},
     "output_type": "execute_result"
    }
   ],
   "source": [
    "data[data['acquisition_technique'] == 'Not Applicable'].shape # 13940 not specified"
   ]
  },
  {
   "cell_type": "code",
   "execution_count": 344,
   "id": "3ed948e1",
   "metadata": {},
   "outputs": [
    {
     "data": {
      "text/plain": [
       "(9319, 24)"
      ]
     },
     "execution_count": 344,
     "metadata": {},
     "output_type": "execute_result"
    }
   ],
   "source": [
    "data.shape"
   ]
  },
  {
   "cell_type": "code",
   "execution_count": 345,
   "id": "311d8e7e",
   "metadata": {},
   "outputs": [],
   "source": [
    "# to be excluded in detailed dataset\n",
    "data = data[data['acquisition_technique'] != 'Not Applicable']"
   ]
  },
  {
   "cell_type": "code",
   "execution_count": 346,
   "id": "c7d154be",
   "metadata": {},
   "outputs": [
    {
     "data": {
      "text/plain": [
       "(5640, 24)"
      ]
     },
     "execution_count": 346,
     "metadata": {},
     "output_type": "execute_result"
    }
   ],
   "source": [
    "data.shape"
   ]
  },
  {
   "cell_type": "markdown",
   "id": "448f2902",
   "metadata": {},
   "source": [
    "## Optional: missing financial data"
   ]
  },
  {
   "cell_type": "code",
   "execution_count": 347,
   "id": "754a70c9",
   "metadata": {},
   "outputs": [],
   "source": [
    "fin_feat = ['deal_value', 'acquiror_total_assets']\n",
    "for feat in fin_feat:\n",
    "    data = data[data[feat].notna()]"
   ]
  },
  {
   "cell_type": "code",
   "execution_count": 348,
   "id": "b4adf8d0",
   "metadata": {},
   "outputs": [
    {
     "data": {
      "text/plain": [
       "(5047, 24)"
      ]
     },
     "execution_count": 348,
     "metadata": {},
     "output_type": "execute_result"
    }
   ],
   "source": [
    "data.shape"
   ]
  },
  {
   "cell_type": "markdown",
   "id": "6ee3f3ab",
   "metadata": {},
   "source": [
    "# Upload 1"
   ]
  },
  {
   "cell_type": "code",
   "execution_count": 349,
   "id": "83d55a74",
   "metadata": {},
   "outputs": [
    {
     "data": {
      "text/plain": [
       "id                                     int64\n",
       "announcement_date             datetime64[ns]\n",
       "deal_value                           float64\n",
       "acquiror_total_assets                float64\n",
       "acquiror_name                         object\n",
       "acquiror_ticker                       object\n",
       "target_name                           object\n",
       "target_nation                         object\n",
       "acquiror_nation                       object\n",
       "target_status                         object\n",
       "acquiror_industry                     object\n",
       "target_industry                       object\n",
       "shares_at_announcement               float64\n",
       "shares_acquired                      float64\n",
       "consideration_offered                 object\n",
       "attitude                              object\n",
       "acquisition_technique                 object\n",
       "acquiror_financial_advisor            object\n",
       "target_financial_advisor              object\n",
       "purpose                               object\n",
       "acquiror_code                          int64\n",
       "target_code                            int64\n",
       "acquisition_count                      int64\n",
       "bidder_count                           int64\n",
       "dtype: object"
      ]
     },
     "execution_count": 349,
     "metadata": {},
     "output_type": "execute_result"
    }
   ],
   "source": [
    "data.dtypes"
   ]
  },
  {
   "cell_type": "code",
   "execution_count": 350,
   "id": "2ca1ebdc",
   "metadata": {},
   "outputs": [
    {
     "data": {
      "text/plain": [
       "(5047, 24)"
      ]
     },
     "execution_count": 350,
     "metadata": {},
     "output_type": "execute_result"
    }
   ],
   "source": [
    "data.shape # detailed: 5047 deals, not_detailed: 27272 deals"
   ]
  },
  {
   "cell_type": "code",
   "execution_count": 351,
   "id": "c13f4424",
   "metadata": {},
   "outputs": [],
   "source": [
    "data.to_csv('../MA_PREDICTOR/data/ma_detailed_data.csv', index=False, date_format=\"%d/%m/%Y\")"
   ]
  },
  {
   "cell_type": "markdown",
   "id": "aa803d89",
   "metadata": {},
   "source": [
    "# Clean missing feature (CAR)"
   ]
  },
  {
   "cell_type": "code",
   "execution_count": 352,
   "id": "78b93ede",
   "metadata": {},
   "outputs": [],
   "source": [
    "data_car = pd.read_csv('../MA_PREDICTOR/data/ma_detailed_data_car.csv', parse_dates=['announcement_date'])"
   ]
  },
  {
   "cell_type": "code",
   "execution_count": 353,
   "id": "e39a6b9d",
   "metadata": {},
   "outputs": [
    {
     "data": {
      "text/plain": [
       "id                               0\n",
       "announcement_date                0\n",
       "deal_value                       0\n",
       "acquiror_total_assets            0\n",
       "acquiror_name                    0\n",
       "acquiror_ticker                  0\n",
       "target_name                      0\n",
       "target_nation                    0\n",
       "acquiror_nation                  0\n",
       "target_status                    0\n",
       "acquiror_industry                0\n",
       "target_industry                  0\n",
       "shares_at_announcement           0\n",
       "shares_acquired                  0\n",
       "consideration_offered            0\n",
       "attitude                         0\n",
       "acquisition_technique            0\n",
       "acquiror_financial_advisor    2463\n",
       "target_financial_advisor      1987\n",
       "purpose                          0\n",
       "acquiror_code                    0\n",
       "target_code                      0\n",
       "acquisition_count                0\n",
       "bidder_count                     0\n",
       "car                           1717\n",
       "dtype: int64"
      ]
     },
     "execution_count": 353,
     "metadata": {},
     "output_type": "execute_result"
    }
   ],
   "source": [
    "data_car.isna().sum() # we will loose 8813 observations and 1717 for detailed"
   ]
  },
  {
   "cell_type": "code",
   "execution_count": 354,
   "id": "62bdfb18",
   "metadata": {},
   "outputs": [],
   "source": [
    "data_car = data_car[data_car['car'].notna()]"
   ]
  },
  {
   "cell_type": "code",
   "execution_count": 355,
   "id": "cc23b66e",
   "metadata": {},
   "outputs": [
    {
     "data": {
      "text/plain": [
       "(3330, 25)"
      ]
     },
     "execution_count": 355,
     "metadata": {},
     "output_type": "execute_result"
    }
   ],
   "source": [
    "data_car.shape # feature clean will leave us with 18459 observations; detailed=3300 observations"
   ]
  },
  {
   "cell_type": "markdown",
   "id": "a1203dc0",
   "metadata": {},
   "source": [
    "# Upload 2"
   ]
  },
  {
   "cell_type": "code",
   "execution_count": 356,
   "id": "d2ecad99",
   "metadata": {},
   "outputs": [],
   "source": [
    "data_car.to_csv('../MA_PREDICTOR/data/ma_detailed_data_car.csv', index=False, date_format=\"%d/%m/%Y\")"
   ]
  }
 ],
 "metadata": {
  "kernelspec": {
   "display_name": "Python 3 (ipykernel)",
   "language": "python",
   "name": "python3"
  },
  "language_info": {
   "codemirror_mode": {
    "name": "ipython",
    "version": 3
   },
   "file_extension": ".py",
   "mimetype": "text/x-python",
   "name": "python",
   "nbconvert_exporter": "python",
   "pygments_lexer": "ipython3",
   "version": "3.8.6"
  },
  "toc": {
   "base_numbering": 1,
   "nav_menu": {},
   "number_sections": true,
   "sideBar": true,
   "skip_h1_title": false,
   "title_cell": "Table of Contents",
   "title_sidebar": "Contents",
   "toc_cell": false,
   "toc_position": {
    "height": "calc(100% - 180px)",
    "left": "10px",
    "top": "150px",
    "width": "288px"
   },
   "toc_section_display": true,
   "toc_window_display": true
  }
 },
 "nbformat": 4,
 "nbformat_minor": 5
}
