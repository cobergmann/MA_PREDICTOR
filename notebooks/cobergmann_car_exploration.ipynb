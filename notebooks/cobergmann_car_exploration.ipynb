{
 "cells": [
  {
   "cell_type": "code",
   "execution_count": 2,
   "id": "e55f1104",
   "metadata": {},
   "outputs": [
    {
     "name": "stdout",
     "output_type": "stream",
     "text": [
      "The autoreload extension is already loaded. To reload it, use:\n",
      "  %reload_ext autoreload\n"
     ]
    }
   ],
   "source": [
    "%load_ext autoreload\n",
    "%autoreload 2"
   ]
  },
  {
   "cell_type": "code",
   "execution_count": 157,
   "id": "608417ba",
   "metadata": {
    "ExecuteTime": {
     "end_time": "2021-09-14T08:59:46.201726Z",
     "start_time": "2021-09-14T08:59:46.168586Z"
    }
   },
   "outputs": [],
   "source": [
    "import pandas as pd\n",
    "import numpy as np\n",
    "import os\n",
    "import matplotlib.pyplot as plt\n",
    "from datetime import datetime\n",
    "from pandas.tseries.offsets import BDay\n",
    "\n",
    "from MA_PREDICTOR.car import calculate_car\n",
    "from MA_PREDICTOR.car import calculate_ar\n",
    "from MA_PREDICTOR.global_vars import STOCKS\n",
    "from MA_PREDICTOR.data import add_car"
   ]
  },
  {
   "cell_type": "code",
   "execution_count": 401,
   "id": "85f1c5e7",
   "metadata": {
    "ExecuteTime": {
     "end_time": "2021-09-14T08:59:46.815762Z",
     "start_time": "2021-09-14T08:59:46.538136Z"
    }
   },
   "outputs": [],
   "source": [
    "data = pd.read_csv('../MA_PREDICTOR/data/ma_data.csv',\n",
    "                   parse_dates=['announcement_date'])[['id', 'announcement_date', 'acquiror_ticker']]"
   ]
  },
  {
   "cell_type": "markdown",
   "id": "b5ee81f8",
   "metadata": {},
   "source": [
    "# Deep dive: single observations"
   ]
  },
  {
   "cell_type": "code",
   "execution_count": 395,
   "id": "561534ff",
   "metadata": {},
   "outputs": [
    {
     "ename": "UnboundLocalError",
     "evalue": "local variable 'start_day' referenced before assignment",
     "output_type": "error",
     "traceback": [
      "\u001b[0;31m---------------------------------------------------------------------------\u001b[0m",
      "\u001b[0;31mUnboundLocalError\u001b[0m                         Traceback (most recent call last)",
      "\u001b[0;32m/var/folders/z8/077xt3wd30j28k4_3vtz7gn00000gn/T/ipykernel_16967/1843892436.py\u001b[0m in \u001b[0;36m<module>\u001b[0;34m\u001b[0m\n\u001b[1;32m      6\u001b[0m \u001b[0;32mfor\u001b[0m \u001b[0msample\u001b[0m \u001b[0;32min\u001b[0m \u001b[0msamples\u001b[0m\u001b[0;34m:\u001b[0m\u001b[0;34m\u001b[0m\u001b[0;34m\u001b[0m\u001b[0m\n\u001b[1;32m      7\u001b[0m     \u001b[0;32mif\u001b[0m \u001b[0msample\u001b[0m\u001b[0;34m.\u001b[0m\u001b[0macquiror_ticker\u001b[0m \u001b[0;32min\u001b[0m \u001b[0mSTOCKS\u001b[0m\u001b[0;34m:\u001b[0m\u001b[0;34m\u001b[0m\u001b[0;34m\u001b[0m\u001b[0m\n\u001b[0;32m----> 8\u001b[0;31m         \u001b[0mabnormal_returns\u001b[0m\u001b[0;34m.\u001b[0m\u001b[0mappend\u001b[0m\u001b[0;34m(\u001b[0m\u001b[0mcalculate_ar\u001b[0m\u001b[0;34m(\u001b[0m\u001b[0msample\u001b[0m\u001b[0;34m.\u001b[0m\u001b[0macquiror_ticker\u001b[0m\u001b[0;34m,\u001b[0m \u001b[0msample\u001b[0m\u001b[0;34m.\u001b[0m\u001b[0mannouncement_date\u001b[0m\u001b[0;34m)\u001b[0m\u001b[0;34m)\u001b[0m\u001b[0;34m\u001b[0m\u001b[0;34m\u001b[0m\u001b[0m\n\u001b[0m",
      "\u001b[0;32m~/code/cobergmann/MA_PREDICTOR/MA_PREDICTOR/car.py\u001b[0m in \u001b[0;36mcalculate_ar\u001b[0;34m(ticker, announcement, start, end)\u001b[0m\n\u001b[1;32m     88\u001b[0m \u001b[0;34m\u001b[0m\u001b[0m\n\u001b[1;32m     89\u001b[0m     \u001b[0;31m# Define event horizon\u001b[0m\u001b[0;34m\u001b[0m\u001b[0;34m\u001b[0m\u001b[0;34m\u001b[0m\u001b[0m\n\u001b[0;32m---> 90\u001b[0;31m     \u001b[0mstart_day\u001b[0m\u001b[0;34m,\u001b[0m \u001b[0mend_day\u001b[0m \u001b[0;34m=\u001b[0m \u001b[0mevent_horizon\u001b[0m\u001b[0;34m(\u001b[0m\u001b[0mannouncement\u001b[0m\u001b[0;34m,\u001b[0m \u001b[0mstart\u001b[0m\u001b[0;34m,\u001b[0m \u001b[0mend\u001b[0m\u001b[0;34m,\u001b[0m \u001b[0mreturns\u001b[0m\u001b[0;34m)\u001b[0m\u001b[0;34m\u001b[0m\u001b[0;34m\u001b[0m\u001b[0m\n\u001b[0m\u001b[1;32m     91\u001b[0m \u001b[0;34m\u001b[0m\u001b[0m\n\u001b[1;32m     92\u001b[0m     \u001b[0;31m# Calculate AR\u001b[0m\u001b[0;34m\u001b[0m\u001b[0;34m\u001b[0m\u001b[0;34m\u001b[0m\u001b[0m\n",
      "\u001b[0;32m~/code/cobergmann/MA_PREDICTOR/MA_PREDICTOR/car.py\u001b[0m in \u001b[0;36mevent_horizon\u001b[0;34m(announcement, start, end, returns)\u001b[0m\n\u001b[1;32m     53\u001b[0m \u001b[0;34m\u001b[0m\u001b[0m\n\u001b[1;32m     54\u001b[0m             \u001b[0;31m# Return if all days have been found\u001b[0m\u001b[0;34m\u001b[0m\u001b[0;34m\u001b[0m\u001b[0;34m\u001b[0m\u001b[0m\n\u001b[0;32m---> 55\u001b[0;31m             \u001b[0;32mreturn\u001b[0m \u001b[0mstart_day\u001b[0m\u001b[0;34m,\u001b[0m \u001b[0mend_day\u001b[0m\u001b[0;34m\u001b[0m\u001b[0;34m\u001b[0m\u001b[0m\n\u001b[0m\u001b[1;32m     56\u001b[0m \u001b[0;34m\u001b[0m\u001b[0m\n\u001b[1;32m     57\u001b[0m     \u001b[0;31m# Will return an empty dataframe\u001b[0m\u001b[0;34m\u001b[0m\u001b[0;34m\u001b[0m\u001b[0;34m\u001b[0m\u001b[0m\n",
      "\u001b[0;31mUnboundLocalError\u001b[0m: local variable 'start_day' referenced before assignment"
     ]
    }
   ],
   "source": [
    "# Generating random samples\n",
    "samples = [data.iloc[n] for n in np.random.randint(len(data), size=10)]\n",
    "\n",
    "# Getting abnormal return for specified timeframe\n",
    "abnormal_returns = []\n",
    "for sample in samples:\n",
    "    if sample.acquiror_ticker in STOCKS:\n",
    "        abnormal_returns.append(calculate_ar(sample.acquiror_ticker, sample.announcement_date))"
   ]
  },
  {
   "cell_type": "code",
   "execution_count": 398,
   "id": "63e3c3c1",
   "metadata": {},
   "outputs": [
    {
     "data": {
      "text/plain": [
       "[id                            3532632020\n",
       " announcement_date    2020-03-19 00:00:00\n",
       " acquiror_ticker                     DRNE\n",
       " Name: 25634, dtype: object,\n",
       " id                            3760078020\n",
       " announcement_date    2021-06-21 00:00:00\n",
       " acquiror_ticker                     OBTX\n",
       " Name: 27081, dtype: object,\n",
       " id                            2430324020\n",
       " announcement_date    2012-02-07 00:00:00\n",
       " acquiror_ticker                      FRM\n",
       " Name: 12679, dtype: object,\n",
       " id                            3791878020\n",
       " announcement_date    2021-08-26 00:00:00\n",
       " acquiror_ticker                     WTRH\n",
       " Name: 27263, dtype: object,\n",
       " id                            2209241020\n",
       " announcement_date    2010-05-08 00:00:00\n",
       " acquiror_ticker                     FSYS\n",
       " Name: 9370, dtype: object,\n",
       " id                            2097391020\n",
       " announcement_date    2009-06-08 00:00:00\n",
       " acquiror_ticker                       HK\n",
       " Name: 7891, dtype: object,\n",
       " id                            3101133020\n",
       " announcement_date    2017-05-05 00:00:00\n",
       " acquiror_ticker                      TKR\n",
       " Name: 21460, dtype: object,\n",
       " id                            1790643020\n",
       " announcement_date    2006-07-09 00:00:00\n",
       " acquiror_ticker                      MMM\n",
       " Name: 2890, dtype: object,\n",
       " id                            2127042020\n",
       " announcement_date    2009-11-11 00:00:00\n",
       " acquiror_ticker                     RECV\n",
       " Name: 8240, dtype: object,\n",
       " id                            1656880020\n",
       " announcement_date    2005-06-04 00:00:00\n",
       " acquiror_ticker                     SBUX\n",
       " Name: 382, dtype: object]"
      ]
     },
     "execution_count": 398,
     "metadata": {},
     "output_type": "execute_result"
    }
   ],
   "source": [
    "samples"
   ]
  },
  {
   "cell_type": "code",
   "execution_count": 397,
   "id": "d7ddc22e",
   "metadata": {},
   "outputs": [
    {
     "data": {
      "text/plain": [
       "[Date\n",
       " 2021-06-18   -0.064340\n",
       " 2021-06-21    0.025692\n",
       " 2021-06-22    0.008091\n",
       " Name: abnormal_return, dtype: float64,\n",
       " Date\n",
       " 2021-08-25   -0.026414\n",
       " 2021-08-26   -0.035497\n",
       " 2021-08-27    0.103261\n",
       " Name: abnormal_return, dtype: float64,\n",
       " Date\n",
       " 2017-05-04   -0.011064\n",
       " 2017-05-05    0.011801\n",
       " 2017-05-08   -0.005251\n",
       " Name: abnormal_return, dtype: float64,\n",
       " Date\n",
       " 2006-07-07   -0.082818\n",
       " 2006-07-10   -0.014830\n",
       " 2006-07-11   -0.004361\n",
       " Name: abnormal_return, dtype: float64]"
      ]
     },
     "execution_count": 397,
     "metadata": {},
     "output_type": "execute_result"
    }
   ],
   "source": [
    "abnormal_returns"
   ]
  },
  {
   "cell_type": "code",
   "execution_count": 403,
   "id": "43f38f01",
   "metadata": {},
   "outputs": [
    {
     "data": {
      "text/html": [
       "<div>\n",
       "<style scoped>\n",
       "    .dataframe tbody tr th:only-of-type {\n",
       "        vertical-align: middle;\n",
       "    }\n",
       "\n",
       "    .dataframe tbody tr th {\n",
       "        vertical-align: top;\n",
       "    }\n",
       "\n",
       "    .dataframe thead th {\n",
       "        text-align: right;\n",
       "    }\n",
       "</style>\n",
       "<table border=\"1\" class=\"dataframe\">\n",
       "  <thead>\n",
       "    <tr style=\"text-align: right;\">\n",
       "      <th></th>\n",
       "      <th>id</th>\n",
       "      <th>announcement_date</th>\n",
       "      <th>acquiror_ticker</th>\n",
       "    </tr>\n",
       "  </thead>\n",
       "  <tbody>\n",
       "    <tr>\n",
       "      <th>8240</th>\n",
       "      <td>2127042020</td>\n",
       "      <td>2009-11-11</td>\n",
       "      <td>RECV</td>\n",
       "    </tr>\n",
       "  </tbody>\n",
       "</table>\n",
       "</div>"
      ],
      "text/plain": [
       "              id announcement_date acquiror_ticker\n",
       "8240  2127042020        2009-11-11            RECV"
      ]
     },
     "execution_count": 403,
     "metadata": {},
     "output_type": "execute_result"
    }
   ],
   "source": [
    "data[data.id == 2127042020]"
   ]
  },
  {
   "cell_type": "code",
   "execution_count": 406,
   "id": "e62660b5",
   "metadata": {},
   "outputs": [
    {
     "data": {
      "text/html": [
       "<div>\n",
       "<style scoped>\n",
       "    .dataframe tbody tr th:only-of-type {\n",
       "        vertical-align: middle;\n",
       "    }\n",
       "\n",
       "    .dataframe tbody tr th {\n",
       "        vertical-align: top;\n",
       "    }\n",
       "\n",
       "    .dataframe thead th {\n",
       "        text-align: right;\n",
       "    }\n",
       "</style>\n",
       "<table border=\"1\" class=\"dataframe\">\n",
       "  <thead>\n",
       "    <tr style=\"text-align: right;\">\n",
       "      <th></th>\n",
       "      <th>Open</th>\n",
       "      <th>Close</th>\n",
       "    </tr>\n",
       "    <tr>\n",
       "      <th>Date</th>\n",
       "      <th></th>\n",
       "      <th></th>\n",
       "    </tr>\n",
       "  </thead>\n",
       "  <tbody>\n",
       "    <tr>\n",
       "      <th>2009-10-07</th>\n",
       "      <td>5.21</td>\n",
       "      <td>5.21</td>\n",
       "    </tr>\n",
       "    <tr>\n",
       "      <th>2009-10-08</th>\n",
       "      <td>5.21</td>\n",
       "      <td>5.21</td>\n",
       "    </tr>\n",
       "    <tr>\n",
       "      <th>2009-10-09</th>\n",
       "      <td>5.21</td>\n",
       "      <td>5.21</td>\n",
       "    </tr>\n",
       "    <tr>\n",
       "      <th>2009-10-20</th>\n",
       "      <td>5.21</td>\n",
       "      <td>5.21</td>\n",
       "    </tr>\n",
       "    <tr>\n",
       "      <th>2009-10-26</th>\n",
       "      <td>5.80</td>\n",
       "      <td>5.80</td>\n",
       "    </tr>\n",
       "    <tr>\n",
       "      <th>2009-11-20</th>\n",
       "      <td>5.01</td>\n",
       "      <td>5.01</td>\n",
       "    </tr>\n",
       "    <tr>\n",
       "      <th>2009-11-23</th>\n",
       "      <td>5.01</td>\n",
       "      <td>5.01</td>\n",
       "    </tr>\n",
       "    <tr>\n",
       "      <th>2009-11-25</th>\n",
       "      <td>5.02</td>\n",
       "      <td>5.02</td>\n",
       "    </tr>\n",
       "    <tr>\n",
       "      <th>2009-11-30</th>\n",
       "      <td>5.01</td>\n",
       "      <td>5.01</td>\n",
       "    </tr>\n",
       "  </tbody>\n",
       "</table>\n",
       "</div>"
      ],
      "text/plain": [
       "            Open  Close\n",
       "Date                   \n",
       "2009-10-07  5.21   5.21\n",
       "2009-10-08  5.21   5.21\n",
       "2009-10-09  5.21   5.21\n",
       "2009-10-20  5.21   5.21\n",
       "2009-10-26  5.80   5.80\n",
       "2009-11-20  5.01   5.01\n",
       "2009-11-23  5.01   5.01\n",
       "2009-11-25  5.02   5.02\n",
       "2009-11-30  5.01   5.01"
      ]
     },
     "execution_count": 406,
     "metadata": {},
     "output_type": "execute_result"
    }
   ],
   "source": [
    "STOCKS['RECV']['2009-10-01':'2009-11-30']"
   ]
  },
  {
   "cell_type": "code",
   "execution_count": 424,
   "id": "be6b51b6",
   "metadata": {},
   "outputs": [],
   "source": [
    "ann = datetime.strptime('2009-11-11', '%Y-%m-%d')"
   ]
  },
  {
   "cell_type": "code",
   "execution_count": 425,
   "id": "c7fb4e3f",
   "metadata": {},
   "outputs": [
    {
     "data": {
      "text/plain": [
       "Timestamp('2002-03-13 00:00:00')"
      ]
     },
     "execution_count": 425,
     "metadata": {},
     "output_type": "execute_result"
    }
   ],
   "source": [
    "ann - BDay(2000)"
   ]
  },
  {
   "cell_type": "code",
   "execution_count": 412,
   "id": "24238526",
   "metadata": {},
   "outputs": [
    {
     "data": {
      "text/plain": [
       "Date\n",
       "2009-10-20    0.006239\n",
       "2009-10-26    0.124961\n",
       "2009-11-20   -0.132992\n",
       "Name: abnormal_return, dtype: float64"
      ]
     },
     "execution_count": 412,
     "metadata": {},
     "output_type": "execute_result"
    }
   ],
   "source": [
    "# announcement day is by far not in range\n",
    "calculate_ar('RECV', ann)"
   ]
  },
  {
   "cell_type": "code",
   "execution_count": 396,
   "id": "a399f8ef",
   "metadata": {},
   "outputs": [
    {
     "ename": "IndexError",
     "evalue": "list index out of range",
     "output_type": "error",
     "traceback": [
      "\u001b[0;31m---------------------------------------------------------------------------\u001b[0m",
      "\u001b[0;31mIndexError\u001b[0m                                Traceback (most recent call last)",
      "\u001b[0;32m/var/folders/z8/077xt3wd30j28k4_3vtz7gn00000gn/T/ipykernel_16967/1995122321.py\u001b[0m in \u001b[0;36m<module>\u001b[0;34m\u001b[0m\n\u001b[1;32m      3\u001b[0m \u001b[0;32mfor\u001b[0m \u001b[0mx\u001b[0m \u001b[0;32min\u001b[0m \u001b[0mrange\u001b[0m\u001b[0;34m(\u001b[0m\u001b[0;36m5\u001b[0m\u001b[0;34m)\u001b[0m\u001b[0;34m:\u001b[0m\u001b[0;34m\u001b[0m\u001b[0;34m\u001b[0m\u001b[0m\n\u001b[1;32m      4\u001b[0m     \u001b[0;32mfor\u001b[0m \u001b[0my\u001b[0m \u001b[0;32min\u001b[0m \u001b[0mrange\u001b[0m\u001b[0;34m(\u001b[0m\u001b[0;36m2\u001b[0m\u001b[0;34m)\u001b[0m\u001b[0;34m:\u001b[0m\u001b[0;34m\u001b[0m\u001b[0;34m\u001b[0m\u001b[0m\n\u001b[0;32m----> 5\u001b[0;31m         \u001b[0mreturns\u001b[0m \u001b[0;34m=\u001b[0m \u001b[0mabnormal_returns\u001b[0m\u001b[0;34m[\u001b[0m\u001b[0mx\u001b[0m\u001b[0;34m*\u001b[0m\u001b[0my\u001b[0m \u001b[0;34m+\u001b[0m \u001b[0my\u001b[0m\u001b[0;34m]\u001b[0m\u001b[0;34m\u001b[0m\u001b[0;34m\u001b[0m\u001b[0m\n\u001b[0m\u001b[1;32m      6\u001b[0m         \u001b[0mreturns\u001b[0m\u001b[0;34m.\u001b[0m\u001b[0mplot\u001b[0m\u001b[0;34m(\u001b[0m\u001b[0max\u001b[0m\u001b[0;34m=\u001b[0m\u001b[0maxes\u001b[0m\u001b[0;34m[\u001b[0m\u001b[0mx\u001b[0m\u001b[0;34m]\u001b[0m\u001b[0;34m[\u001b[0m\u001b[0my\u001b[0m\u001b[0;34m]\u001b[0m\u001b[0;34m)\u001b[0m\u001b[0;34m;\u001b[0m\u001b[0;34m\u001b[0m\u001b[0;34m\u001b[0m\u001b[0m\n",
      "\u001b[0;31mIndexError\u001b[0m: list index out of range"
     ]
    },
    {
     "data": {
      "image/png": "[encoded data removed]",
      "text/plain": [
       "<Figure size 1152x2304 with 10 Axes>"
      ]
     },
     "metadata": {
      "needs_background": "light"
     },
     "output_type": "display_data"
    }
   ],
   "source": [
    "fig, axes = plt.subplots(5,2, figsize=(16, 32))\n",
    "\n",
    "for x in range(5):\n",
    "    for y in range(2):\n",
    "        returns = abnormal_returns[x*y + y]\n",
    "        returns.plot(ax=axes[x][y]);"
   ]
  },
  {
   "cell_type": "markdown",
   "id": "684c3ef3",
   "metadata": {},
   "source": [
    "# Dataset"
   ]
  },
  {
   "cell_type": "code",
   "execution_count": 11,
   "id": "00ef3ca2",
   "metadata": {
    "ExecuteTime": {
     "end_time": "2021-09-14T08:59:46.954331Z",
     "start_time": "2021-09-14T08:59:46.901527Z"
    }
   },
   "outputs": [],
   "source": [
    "def add_car(df):\n",
    "\n",
    "    # if ticker not in dict put nan\n",
    "    df['car'] = df.apply(\n",
    "        lambda row:\n",
    "            calculate_car(row.acquiror_ticker, row.announcement_date)\n",
    "            if row.acquiror_ticker in STOCKS else np.NaN,\n",
    "        axis=1)"
   ]
  },
  {
   "cell_type": "code",
   "execution_count": 12,
   "id": "6f22ea9a",
   "metadata": {
    "ExecuteTime": {
     "end_time": "2021-09-14T08:59:47.142720Z",
     "start_time": "2021-09-14T08:59:47.098632Z"
    }
   },
   "outputs": [],
   "source": [
    "def add_car_3(df):\n",
    "\n",
    "    # if ticker not in dict put nan\n",
    "    df['car_3'] = df.apply(\n",
    "        lambda row:\n",
    "            calculate_car(row.acquiror_ticker, row.announcement_date, 3, 3)\n",
    "            if row.acquiror_ticker in STOCKS else np.NaN,\n",
    "        axis=1)"
   ]
  },
  {
   "cell_type": "code",
   "execution_count": 13,
   "id": "c8e2df0a",
   "metadata": {
    "ExecuteTime": {
     "end_time": "2021-09-14T08:59:47.266356Z",
     "start_time": "2021-09-14T08:59:47.233117Z"
    }
   },
   "outputs": [],
   "source": [
    "def add_car_5(df):\n",
    "\n",
    "    # if ticker not in dict put nan\n",
    "    df['car_5'] = df.apply(\n",
    "        lambda row:\n",
    "            calculate_car(row.acquiror_ticker, row.announcement_date, 5, 5)\n",
    "            if row.acquiror_ticker in STOCKS else np.NaN,\n",
    "        axis=1)"
   ]
  },
  {
   "cell_type": "code",
   "execution_count": 115,
   "id": "e2848bde",
   "metadata": {},
   "outputs": [
    {
     "data": {
      "text/html": [
       "<div>\n",
       "<style scoped>\n",
       "    .dataframe tbody tr th:only-of-type {\n",
       "        vertical-align: middle;\n",
       "    }\n",
       "\n",
       "    .dataframe tbody tr th {\n",
       "        vertical-align: top;\n",
       "    }\n",
       "\n",
       "    .dataframe thead th {\n",
       "        text-align: right;\n",
       "    }\n",
       "</style>\n",
       "<table border=\"1\" class=\"dataframe\">\n",
       "  <thead>\n",
       "    <tr style=\"text-align: right;\">\n",
       "      <th></th>\n",
       "      <th>id</th>\n",
       "      <th>announcement_date</th>\n",
       "      <th>acquiror_ticker</th>\n",
       "    </tr>\n",
       "  </thead>\n",
       "  <tbody>\n",
       "    <tr>\n",
       "      <th>8694</th>\n",
       "      <td>2161346020</td>\n",
       "      <td>2010-04-03</td>\n",
       "      <td>WPI</td>\n",
       "    </tr>\n",
       "  </tbody>\n",
       "</table>\n",
       "</div>"
      ],
      "text/plain": [
       "              id announcement_date acquiror_ticker\n",
       "8694  2161346020        2010-04-03             WPI"
      ]
     },
     "execution_count": 115,
     "metadata": {},
     "output_type": "execute_result"
    }
   ],
   "source": [
    "data[data.id == 2161346020]"
   ]
  },
  {
   "cell_type": "code",
   "execution_count": 136,
   "id": "802cc465",
   "metadata": {},
   "outputs": [
    {
     "data": {
      "text/html": [
       "<div>\n",
       "<style scoped>\n",
       "    .dataframe tbody tr th:only-of-type {\n",
       "        vertical-align: middle;\n",
       "    }\n",
       "\n",
       "    .dataframe tbody tr th {\n",
       "        vertical-align: top;\n",
       "    }\n",
       "\n",
       "    .dataframe thead th {\n",
       "        text-align: right;\n",
       "    }\n",
       "</style>\n",
       "<table border=\"1\" class=\"dataframe\">\n",
       "  <thead>\n",
       "    <tr style=\"text-align: right;\">\n",
       "      <th></th>\n",
       "      <th>Open</th>\n",
       "      <th>Close</th>\n",
       "    </tr>\n",
       "    <tr>\n",
       "      <th>Date</th>\n",
       "      <th></th>\n",
       "      <th></th>\n",
       "    </tr>\n",
       "  </thead>\n",
       "  <tbody>\n",
       "    <tr>\n",
       "      <th>2010-04-01</th>\n",
       "      <td>0.27</td>\n",
       "      <td>0.27</td>\n",
       "    </tr>\n",
       "    <tr>\n",
       "      <th>2010-04-05</th>\n",
       "      <td>0.26</td>\n",
       "      <td>0.27</td>\n",
       "    </tr>\n",
       "    <tr>\n",
       "      <th>2010-04-06</th>\n",
       "      <td>0.26</td>\n",
       "      <td>0.27</td>\n",
       "    </tr>\n",
       "    <tr>\n",
       "      <th>2010-04-14</th>\n",
       "      <td>0.28</td>\n",
       "      <td>0.28</td>\n",
       "    </tr>\n",
       "    <tr>\n",
       "      <th>2010-04-15</th>\n",
       "      <td>0.28</td>\n",
       "      <td>0.28</td>\n",
       "    </tr>\n",
       "    <tr>\n",
       "      <th>2010-04-21</th>\n",
       "      <td>0.27</td>\n",
       "      <td>0.26</td>\n",
       "    </tr>\n",
       "    <tr>\n",
       "      <th>2010-04-22</th>\n",
       "      <td>0.27</td>\n",
       "      <td>0.26</td>\n",
       "    </tr>\n",
       "    <tr>\n",
       "      <th>2010-04-23</th>\n",
       "      <td>0.26</td>\n",
       "      <td>0.26</td>\n",
       "    </tr>\n",
       "    <tr>\n",
       "      <th>2010-04-26</th>\n",
       "      <td>0.27</td>\n",
       "      <td>0.27</td>\n",
       "    </tr>\n",
       "    <tr>\n",
       "      <th>2010-04-27</th>\n",
       "      <td>0.27</td>\n",
       "      <td>0.27</td>\n",
       "    </tr>\n",
       "  </tbody>\n",
       "</table>\n",
       "</div>"
      ],
      "text/plain": [
       "            Open  Close\n",
       "Date                   \n",
       "2010-04-01  0.27   0.27\n",
       "2010-04-05  0.26   0.27\n",
       "2010-04-06  0.26   0.27\n",
       "2010-04-14  0.28   0.28\n",
       "2010-04-15  0.28   0.28\n",
       "2010-04-21  0.27   0.26\n",
       "2010-04-22  0.27   0.26\n",
       "2010-04-23  0.26   0.26\n",
       "2010-04-26  0.27   0.27\n",
       "2010-04-27  0.27   0.27"
      ]
     },
     "execution_count": 136,
     "metadata": {},
     "output_type": "execute_result"
    }
   ],
   "source": [
    "STOCKS['WPI'].loc['2010-04-01':'2010-04-30']"
   ]
  },
  {
   "cell_type": "code",
   "execution_count": 14,
   "id": "64b42a15",
   "metadata": {
    "ExecuteTime": {
     "end_time": "2021-09-14T08:59:47.470053Z",
     "start_time": "2021-09-14T08:59:47.424712Z"
    }
   },
   "outputs": [],
   "source": [
    "def add_car_10(df):\n",
    "\n",
    "    # if ticker not in dict put nan\n",
    "    df['car_10'] = df.apply(\n",
    "        lambda row:\n",
    "            calculate_car(row.acquiror_ticker, row.announcement_date, 10, 10)\n",
    "            if row.acquiror_ticker in STOCKS else np.NaN,\n",
    "        axis=1)\n",
    "    "
   ]
  },
  {
   "cell_type": "code",
   "execution_count": 15,
   "id": "ee5da460",
   "metadata": {
    "ExecuteTime": {
     "end_time": "2021-09-14T09:01:21.253195Z",
     "start_time": "2021-09-14T08:59:47.624727Z"
    }
   },
   "outputs": [],
   "source": [
    "add_car(data)"
   ]
  },
  {
   "cell_type": "code",
   "execution_count": 16,
   "id": "f5176d7e",
   "metadata": {
    "ExecuteTime": {
     "end_time": "2021-09-14T09:02:51.812827Z",
     "start_time": "2021-09-14T09:01:21.256314Z"
    }
   },
   "outputs": [],
   "source": [
    "add_car_3(data)"
   ]
  },
  {
   "cell_type": "code",
   "execution_count": 17,
   "id": "d19018e5",
   "metadata": {
    "ExecuteTime": {
     "end_time": "2021-09-14T09:05:07.516730Z",
     "start_time": "2021-09-14T09:02:51.817483Z"
    }
   },
   "outputs": [],
   "source": [
    "add_car_5(data)"
   ]
  },
  {
   "cell_type": "code",
   "execution_count": 18,
   "id": "371c34c3",
   "metadata": {
    "ExecuteTime": {
     "end_time": "2021-09-14T09:06:53.008093Z",
     "start_time": "2021-09-14T09:05:07.582526Z"
    }
   },
   "outputs": [],
   "source": [
    "add_car_10(data)"
   ]
  },
  {
   "cell_type": "code",
   "execution_count": 20,
   "id": "52e75f87",
   "metadata": {
    "ExecuteTime": {
     "end_time": "2021-09-14T09:06:53.155172Z",
     "start_time": "2021-09-14T09:06:53.088441Z"
    }
   },
   "outputs": [
    {
     "name": "stderr",
     "output_type": "stream",
     "text": [
      "/var/folders/z8/077xt3wd30j28k4_3vtz7gn00000gn/T/ipykernel_16967/2723740006.py:1: FutureWarning: Dropping of nuisance columns in DataFrame reductions (with 'numeric_only=None') is deprecated; in a future version this will raise TypeError.  Select only valid columns before calling the reduction.\n",
      "  data.std()\n"
     ]
    },
    {
     "data": {
      "text/plain": [
       "announcement_date    1692 days 23:58:49.942889696\n",
       "car                                   1313.993729\n",
       "car_3                                  1323.23541\n",
       "car_5                                 1337.908961\n",
       "car_10                                1439.034082\n",
       "dtype: object"
      ]
     },
     "execution_count": 20,
     "metadata": {},
     "output_type": "execute_result"
    }
   ],
   "source": [
    "data.std()"
   ]
  },
  {
   "cell_type": "code",
   "execution_count": 21,
   "id": "389809a2",
   "metadata": {
    "ExecuteTime": {
     "end_time": "2021-09-14T09:06:53.197196Z",
     "start_time": "2021-09-14T09:06:53.159135Z"
    }
   },
   "outputs": [],
   "source": [
    "# Removing outliers\n",
    "\n",
    "data = data[(data.car > -0.3) & (data.car < 0.3)]\n",
    "data = data[(data.car_3 > -0.3) & (data.car_3 < 0.3)]\n",
    "data = data[(data.car_5 > -0.3) & (data.car_5 < 0.3)]\n",
    "data = data[(data.car_10 > -0.3) & (data.car_10 < 0.3)]"
   ]
  },
  {
   "cell_type": "code",
   "execution_count": 27,
   "id": "a3170eef",
   "metadata": {
    "ExecuteTime": {
     "end_time": "2021-09-14T09:06:53.241672Z",
     "start_time": "2021-09-14T09:06:53.200334Z"
    }
   },
   "outputs": [
    {
     "data": {
      "text/html": [
       "<div>\n",
       "<style scoped>\n",
       "    .dataframe tbody tr th:only-of-type {\n",
       "        vertical-align: middle;\n",
       "    }\n",
       "\n",
       "    .dataframe tbody tr th {\n",
       "        vertical-align: top;\n",
       "    }\n",
       "\n",
       "    .dataframe thead th {\n",
       "        text-align: right;\n",
       "    }\n",
       "</style>\n",
       "<table border=\"1\" class=\"dataframe\">\n",
       "  <thead>\n",
       "    <tr style=\"text-align: right;\">\n",
       "      <th></th>\n",
       "      <th>car</th>\n",
       "      <th>car_3</th>\n",
       "      <th>car_5</th>\n",
       "      <th>car_10</th>\n",
       "    </tr>\n",
       "  </thead>\n",
       "  <tbody>\n",
       "    <tr>\n",
       "      <th>count</th>\n",
       "      <td>17615.000000</td>\n",
       "      <td>17615.000000</td>\n",
       "      <td>17615.000000</td>\n",
       "      <td>17615.000000</td>\n",
       "    </tr>\n",
       "    <tr>\n",
       "      <th>mean</th>\n",
       "      <td>0.002637</td>\n",
       "      <td>0.003536</td>\n",
       "      <td>0.004035</td>\n",
       "      <td>0.006707</td>\n",
       "    </tr>\n",
       "    <tr>\n",
       "      <th>std</th>\n",
       "      <td>0.040770</td>\n",
       "      <td>0.053954</td>\n",
       "      <td>0.063260</td>\n",
       "      <td>0.080327</td>\n",
       "    </tr>\n",
       "    <tr>\n",
       "      <th>min</th>\n",
       "      <td>-0.299103</td>\n",
       "      <td>-0.294592</td>\n",
       "      <td>-0.299453</td>\n",
       "      <td>-0.299860</td>\n",
       "    </tr>\n",
       "    <tr>\n",
       "      <th>25%</th>\n",
       "      <td>-0.013622</td>\n",
       "      <td>-0.020684</td>\n",
       "      <td>-0.025919</td>\n",
       "      <td>-0.034288</td>\n",
       "    </tr>\n",
       "    <tr>\n",
       "      <th>50%</th>\n",
       "      <td>0.000270</td>\n",
       "      <td>0.000915</td>\n",
       "      <td>0.001154</td>\n",
       "      <td>0.003641</td>\n",
       "    </tr>\n",
       "    <tr>\n",
       "      <th>75%</th>\n",
       "      <td>0.017485</td>\n",
       "      <td>0.026692</td>\n",
       "      <td>0.034136</td>\n",
       "      <td>0.047952</td>\n",
       "    </tr>\n",
       "    <tr>\n",
       "      <th>max</th>\n",
       "      <td>0.274971</td>\n",
       "      <td>0.299202</td>\n",
       "      <td>0.292692</td>\n",
       "      <td>0.299782</td>\n",
       "    </tr>\n",
       "  </tbody>\n",
       "</table>\n",
       "</div>"
      ],
      "text/plain": [
       "                car         car_3         car_5        car_10\n",
       "count  17615.000000  17615.000000  17615.000000  17615.000000\n",
       "mean       0.002637      0.003536      0.004035      0.006707\n",
       "std        0.040770      0.053954      0.063260      0.080327\n",
       "min       -0.299103     -0.294592     -0.299453     -0.299860\n",
       "25%       -0.013622     -0.020684     -0.025919     -0.034288\n",
       "50%        0.000270      0.000915      0.001154      0.003641\n",
       "75%        0.017485      0.026692      0.034136      0.047952\n",
       "max        0.274971      0.299202      0.292692      0.299782"
      ]
     },
     "execution_count": 27,
     "metadata": {},
     "output_type": "execute_result"
    }
   ],
   "source": [
    "data.describe()"
   ]
  },
  {
   "cell_type": "code",
   "execution_count": 23,
   "id": "c5bcbbe7",
   "metadata": {
    "ExecuteTime": {
     "end_time": "2021-09-14T09:08:11.623541Z",
     "start_time": "2021-09-14T09:08:11.363087Z"
    }
   },
   "outputs": [
    {
     "name": "stderr",
     "output_type": "stream",
     "text": [
      "/var/folders/z8/077xt3wd30j28k4_3vtz7gn00000gn/T/ipykernel_16967/2928176065.py:1: FutureWarning: Dropping of nuisance columns in DataFrame reductions (with 'numeric_only=None') is deprecated; in a future version this will raise TypeError.  Select only valid columns before calling the reduction.\n",
      "  plt.plot(list(data.std()[-4:]));\n"
     ]
    },
    {
     "data": {
      "image/png": "[encoded data removed]",
      "text/plain": [
       "<Figure size 432x288 with 1 Axes>"
      ]
     },
     "metadata": {
      "needs_background": "light"
     },
     "output_type": "display_data"
    }
   ],
   "source": [
    "plt.plot(list(data.std()[-4:]));"
   ]
  },
  {
   "cell_type": "code",
   "execution_count": 25,
   "id": "68961534",
   "metadata": {
    "ExecuteTime": {
     "end_time": "2021-09-14T09:08:12.421997Z",
     "start_time": "2021-09-14T09:08:12.140072Z"
    }
   },
   "outputs": [
    {
     "name": "stderr",
     "output_type": "stream",
     "text": [
      "/var/folders/z8/077xt3wd30j28k4_3vtz7gn00000gn/T/ipykernel_16967/622446858.py:1: FutureWarning: Dropping of nuisance columns in DataFrame reductions (with 'numeric_only=None') is deprecated; in a future version this will raise TypeError.  Select only valid columns before calling the reduction.\n",
      "  plt.hist(list(data.std()[-4:]));\n"
     ]
    },
    {
     "data": {
      "image/png": "[encoded data removed]",
      "text/plain": [
       "<Figure size 432x288 with 1 Axes>"
      ]
     },
     "metadata": {
      "needs_background": "light"
     },
     "output_type": "display_data"
    }
   ],
   "source": [
    "plt.hist(list(data.std()[-4:]));"
   ]
  },
  {
   "cell_type": "code",
   "execution_count": null,
   "id": "1481c357",
   "metadata": {},
   "outputs": [],
   "source": []
  }
 ],
 "metadata": {
  "kernelspec": {
   "display_name": "Python 3 (ipykernel)",
   "language": "python",
   "name": "python3"
  },
  "language_info": {
   "codemirror_mode": {
    "name": "ipython",
    "version": 3
   },
   "file_extension": ".py",
   "mimetype": "text/x-python",
   "name": "python",
   "nbconvert_exporter": "python",
   "pygments_lexer": "ipython3",
   "version": "3.8.6"
  },
  "toc": {
   "base_numbering": 1,
   "nav_menu": {},
   "number_sections": true,
   "sideBar": true,
   "skip_h1_title": false,
   "title_cell": "Table of Contents",
   "title_sidebar": "Contents",
   "toc_cell": false,
   "toc_position": {},
   "toc_section_display": true,
   "toc_window_display": false
  }
 },
 "nbformat": 4,
 "nbformat_minor": 5
}
