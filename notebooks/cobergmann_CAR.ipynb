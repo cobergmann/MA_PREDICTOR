{
 "cells": [
  {
   "cell_type": "code",
   "execution_count": 415,
   "id": "6c290c30",
   "metadata": {},
   "outputs": [],
   "source": [
    "import pandas as pd\n",
    "import numpy as np"
   ]
  },
  {
   "cell_type": "markdown",
   "id": "d6965c66",
   "metadata": {},
   "source": [
    "Input will be 2 variables:\n",
    "* Acquiror ticker symbol/ acquiror name\n",
    "* Announcement date"
   ]
  },
  {
   "cell_type": "markdown",
   "id": "b5692b64",
   "metadata": {},
   "source": [
    "# Get data"
   ]
  },
  {
   "cell_type": "markdown",
   "id": "a2b2fc61",
   "metadata": {},
   "source": [
    "## Stock data"
   ]
  },
  {
   "cell_type": "code",
   "execution_count": 416,
   "id": "95a3c90b",
   "metadata": {},
   "outputs": [],
   "source": [
    "# access Manon's dictionary to get 15y of stock data of company"
   ]
  },
  {
   "cell_type": "code",
   "execution_count": 515,
   "id": "79e947cb",
   "metadata": {},
   "outputs": [],
   "source": [
    "import requests\n",
    "\n",
    "url = \"http://iex.lewagon.com/stable/stock/aapl/chart/max\" # max accesses past 15 y\n",
    "data = requests.get(url)#.json()"
   ]
  },
  {
   "cell_type": "code",
   "execution_count": 519,
   "id": "63b77bb9",
   "metadata": {},
   "outputs": [
    {
     "ename": "JSONDecodeError",
     "evalue": "Expecting value: line 1 column 1 (char 0)",
     "output_type": "error",
     "traceback": [
      "\u001b[0;31m---------------------------------------------------------------------------\u001b[0m",
      "\u001b[0;31mJSONDecodeError\u001b[0m                           Traceback (most recent call last)",
      "\u001b[0;32m/var/folders/z8/077xt3wd30j28k4_3vtz7gn00000gn/T/ipykernel_27218/354839536.py\u001b[0m in \u001b[0;36m<module>\u001b[0;34m\u001b[0m\n\u001b[0;32m----> 1\u001b[0;31m \u001b[0mdata\u001b[0m\u001b[0;34m.\u001b[0m\u001b[0mjson\u001b[0m\u001b[0;34m(\u001b[0m\u001b[0;34m)\u001b[0m\u001b[0;34m\u001b[0m\u001b[0;34m\u001b[0m\u001b[0m\n\u001b[0m",
      "\u001b[0;32m~/.pyenv/versions/3.8.6/envs/lewagon/lib/python3.8/site-packages/requests/models.py\u001b[0m in \u001b[0;36mjson\u001b[0;34m(self, **kwargs)\u001b[0m\n\u001b[1;32m    908\u001b[0m                     \u001b[0;31m# used.\u001b[0m\u001b[0;34m\u001b[0m\u001b[0;34m\u001b[0m\u001b[0;34m\u001b[0m\u001b[0m\n\u001b[1;32m    909\u001b[0m                     \u001b[0;32mpass\u001b[0m\u001b[0;34m\u001b[0m\u001b[0;34m\u001b[0m\u001b[0m\n\u001b[0;32m--> 910\u001b[0;31m         \u001b[0;32mreturn\u001b[0m \u001b[0mcomplexjson\u001b[0m\u001b[0;34m.\u001b[0m\u001b[0mloads\u001b[0m\u001b[0;34m(\u001b[0m\u001b[0mself\u001b[0m\u001b[0;34m.\u001b[0m\u001b[0mtext\u001b[0m\u001b[0;34m,\u001b[0m \u001b[0;34m**\u001b[0m\u001b[0mkwargs\u001b[0m\u001b[0;34m)\u001b[0m\u001b[0;34m\u001b[0m\u001b[0;34m\u001b[0m\u001b[0m\n\u001b[0m\u001b[1;32m    911\u001b[0m \u001b[0;34m\u001b[0m\u001b[0m\n\u001b[1;32m    912\u001b[0m     \u001b[0;34m@\u001b[0m\u001b[0mproperty\u001b[0m\u001b[0;34m\u001b[0m\u001b[0;34m\u001b[0m\u001b[0m\n",
      "\u001b[0;32m~/.pyenv/versions/3.8.6/lib/python3.8/json/__init__.py\u001b[0m in \u001b[0;36mloads\u001b[0;34m(s, cls, object_hook, parse_float, parse_int, parse_constant, object_pairs_hook, **kw)\u001b[0m\n\u001b[1;32m    355\u001b[0m             \u001b[0mparse_int\u001b[0m \u001b[0;32mis\u001b[0m \u001b[0;32mNone\u001b[0m \u001b[0;32mand\u001b[0m \u001b[0mparse_float\u001b[0m \u001b[0;32mis\u001b[0m \u001b[0;32mNone\u001b[0m \u001b[0;32mand\u001b[0m\u001b[0;34m\u001b[0m\u001b[0;34m\u001b[0m\u001b[0m\n\u001b[1;32m    356\u001b[0m             parse_constant is None and object_pairs_hook is None and not kw):\n\u001b[0;32m--> 357\u001b[0;31m         \u001b[0;32mreturn\u001b[0m \u001b[0m_default_decoder\u001b[0m\u001b[0;34m.\u001b[0m\u001b[0mdecode\u001b[0m\u001b[0;34m(\u001b[0m\u001b[0ms\u001b[0m\u001b[0;34m)\u001b[0m\u001b[0;34m\u001b[0m\u001b[0;34m\u001b[0m\u001b[0m\n\u001b[0m\u001b[1;32m    358\u001b[0m     \u001b[0;32mif\u001b[0m \u001b[0mcls\u001b[0m \u001b[0;32mis\u001b[0m \u001b[0;32mNone\u001b[0m\u001b[0;34m:\u001b[0m\u001b[0;34m\u001b[0m\u001b[0;34m\u001b[0m\u001b[0m\n\u001b[1;32m    359\u001b[0m         \u001b[0mcls\u001b[0m \u001b[0;34m=\u001b[0m \u001b[0mJSONDecoder\u001b[0m\u001b[0;34m\u001b[0m\u001b[0;34m\u001b[0m\u001b[0m\n",
      "\u001b[0;32m~/.pyenv/versions/3.8.6/lib/python3.8/json/decoder.py\u001b[0m in \u001b[0;36mdecode\u001b[0;34m(self, s, _w)\u001b[0m\n\u001b[1;32m    335\u001b[0m \u001b[0;34m\u001b[0m\u001b[0m\n\u001b[1;32m    336\u001b[0m         \"\"\"\n\u001b[0;32m--> 337\u001b[0;31m         \u001b[0mobj\u001b[0m\u001b[0;34m,\u001b[0m \u001b[0mend\u001b[0m \u001b[0;34m=\u001b[0m \u001b[0mself\u001b[0m\u001b[0;34m.\u001b[0m\u001b[0mraw_decode\u001b[0m\u001b[0;34m(\u001b[0m\u001b[0ms\u001b[0m\u001b[0;34m,\u001b[0m \u001b[0midx\u001b[0m\u001b[0;34m=\u001b[0m\u001b[0m_w\u001b[0m\u001b[0;34m(\u001b[0m\u001b[0ms\u001b[0m\u001b[0;34m,\u001b[0m \u001b[0;36m0\u001b[0m\u001b[0;34m)\u001b[0m\u001b[0;34m.\u001b[0m\u001b[0mend\u001b[0m\u001b[0;34m(\u001b[0m\u001b[0;34m)\u001b[0m\u001b[0;34m)\u001b[0m\u001b[0;34m\u001b[0m\u001b[0;34m\u001b[0m\u001b[0m\n\u001b[0m\u001b[1;32m    338\u001b[0m         \u001b[0mend\u001b[0m \u001b[0;34m=\u001b[0m \u001b[0m_w\u001b[0m\u001b[0;34m(\u001b[0m\u001b[0ms\u001b[0m\u001b[0;34m,\u001b[0m \u001b[0mend\u001b[0m\u001b[0;34m)\u001b[0m\u001b[0;34m.\u001b[0m\u001b[0mend\u001b[0m\u001b[0;34m(\u001b[0m\u001b[0;34m)\u001b[0m\u001b[0;34m\u001b[0m\u001b[0;34m\u001b[0m\u001b[0m\n\u001b[1;32m    339\u001b[0m         \u001b[0;32mif\u001b[0m \u001b[0mend\u001b[0m \u001b[0;34m!=\u001b[0m \u001b[0mlen\u001b[0m\u001b[0;34m(\u001b[0m\u001b[0ms\u001b[0m\u001b[0;34m)\u001b[0m\u001b[0;34m:\u001b[0m\u001b[0;34m\u001b[0m\u001b[0;34m\u001b[0m\u001b[0m\n",
      "\u001b[0;32m~/.pyenv/versions/3.8.6/lib/python3.8/json/decoder.py\u001b[0m in \u001b[0;36mraw_decode\u001b[0;34m(self, s, idx)\u001b[0m\n\u001b[1;32m    353\u001b[0m             \u001b[0mobj\u001b[0m\u001b[0;34m,\u001b[0m \u001b[0mend\u001b[0m \u001b[0;34m=\u001b[0m \u001b[0mself\u001b[0m\u001b[0;34m.\u001b[0m\u001b[0mscan_once\u001b[0m\u001b[0;34m(\u001b[0m\u001b[0ms\u001b[0m\u001b[0;34m,\u001b[0m \u001b[0midx\u001b[0m\u001b[0;34m)\u001b[0m\u001b[0;34m\u001b[0m\u001b[0;34m\u001b[0m\u001b[0m\n\u001b[1;32m    354\u001b[0m         \u001b[0;32mexcept\u001b[0m \u001b[0mStopIteration\u001b[0m \u001b[0;32mas\u001b[0m \u001b[0merr\u001b[0m\u001b[0;34m:\u001b[0m\u001b[0;34m\u001b[0m\u001b[0;34m\u001b[0m\u001b[0m\n\u001b[0;32m--> 355\u001b[0;31m             \u001b[0;32mraise\u001b[0m \u001b[0mJSONDecodeError\u001b[0m\u001b[0;34m(\u001b[0m\u001b[0;34m\"Expecting value\"\u001b[0m\u001b[0;34m,\u001b[0m \u001b[0ms\u001b[0m\u001b[0;34m,\u001b[0m \u001b[0merr\u001b[0m\u001b[0;34m.\u001b[0m\u001b[0mvalue\u001b[0m\u001b[0;34m)\u001b[0m \u001b[0;32mfrom\u001b[0m \u001b[0;32mNone\u001b[0m\u001b[0;34m\u001b[0m\u001b[0;34m\u001b[0m\u001b[0m\n\u001b[0m\u001b[1;32m    356\u001b[0m         \u001b[0;32mreturn\u001b[0m \u001b[0mobj\u001b[0m\u001b[0;34m,\u001b[0m \u001b[0mend\u001b[0m\u001b[0;34m\u001b[0m\u001b[0;34m\u001b[0m\u001b[0m\n",
      "\u001b[0;31mJSONDecodeError\u001b[0m: Expecting value: line 1 column 1 (char 0)"
     ]
    }
   ],
   "source": [
    "data.json()"
   ]
  },
  {
   "cell_type": "code",
   "execution_count": null,
   "id": "a07de752",
   "metadata": {},
   "outputs": [],
   "source": [
    "comp = pd.DataFrame(data)\n",
    "\n",
    "# transform date and set as index\n",
    "comp['date'] = pd.to_datetime(comp['date'], format=\"%Y-%m-%d\")\n",
    "comp.set_index('date', inplace=True)\n",
    "\n",
    "#comp = comp[['close']]\n",
    "\n",
    "comp.head()"
   ]
  },
  {
   "cell_type": "markdown",
   "id": "7ec1da0a",
   "metadata": {},
   "source": [
    "## Market data"
   ]
  },
  {
   "cell_type": "code",
   "execution_count": 509,
   "id": "95622b29",
   "metadata": {},
   "outputs": [
    {
     "data": {
      "text/html": [
       "<div>\n",
       "<style scoped>\n",
       "    .dataframe tbody tr th:only-of-type {\n",
       "        vertical-align: middle;\n",
       "    }\n",
       "\n",
       "    .dataframe tbody tr th {\n",
       "        vertical-align: top;\n",
       "    }\n",
       "\n",
       "    .dataframe thead th {\n",
       "        text-align: right;\n",
       "    }\n",
       "</style>\n",
       "<table border=\"1\" class=\"dataframe\">\n",
       "  <thead>\n",
       "    <tr style=\"text-align: right;\">\n",
       "      <th></th>\n",
       "      <th>Exchange Date</th>\n",
       "      <th>Close</th>\n",
       "      <th>%Chg</th>\n",
       "      <th>Open</th>\n",
       "      <th>Volume</th>\n",
       "    </tr>\n",
       "  </thead>\n",
       "  <tbody>\n",
       "    <tr>\n",
       "      <th>0</th>\n",
       "      <td>03-Jan-2005</td>\n",
       "      <td>1,202.08</td>\n",
       "      <td>NaN</td>\n",
       "      <td>1,211.92</td>\n",
       "      <td>0.0</td>\n",
       "    </tr>\n",
       "    <tr>\n",
       "      <th>1</th>\n",
       "      <td>04-Jan-2005</td>\n",
       "      <td>1,188.05</td>\n",
       "      <td>-1.17%</td>\n",
       "      <td>1,202.08</td>\n",
       "      <td>0.0</td>\n",
       "    </tr>\n",
       "    <tr>\n",
       "      <th>2</th>\n",
       "      <td>05-Jan-2005</td>\n",
       "      <td>1,183.74</td>\n",
       "      <td>-0.36%</td>\n",
       "      <td>1,188.05</td>\n",
       "      <td>0.0</td>\n",
       "    </tr>\n",
       "    <tr>\n",
       "      <th>3</th>\n",
       "      <td>06-Jan-2005</td>\n",
       "      <td>1,187.89</td>\n",
       "      <td>+0.35%</td>\n",
       "      <td>1,183.74</td>\n",
       "      <td>0.0</td>\n",
       "    </tr>\n",
       "    <tr>\n",
       "      <th>4</th>\n",
       "      <td>07-Jan-2005</td>\n",
       "      <td>1,186.19</td>\n",
       "      <td>-0.14%</td>\n",
       "      <td>1,187.89</td>\n",
       "      <td>0.0</td>\n",
       "    </tr>\n",
       "  </tbody>\n",
       "</table>\n",
       "</div>"
      ],
      "text/plain": [
       "  Exchange Date     Close    %Chg      Open  Volume\n",
       "0   03-Jan-2005  1,202.08     NaN  1,211.92     0.0\n",
       "1   04-Jan-2005  1,188.05  -1.17%  1,202.08     0.0\n",
       "2   05-Jan-2005  1,183.74  -0.36%  1,188.05     0.0\n",
       "3   06-Jan-2005  1,187.89  +0.35%  1,183.74     0.0\n",
       "4   07-Jan-2005  1,186.19  -0.14%  1,187.89     0.0"
      ]
     },
     "execution_count": 509,
     "metadata": {},
     "output_type": "execute_result"
    }
   ],
   "source": [
    "# access csv file of market data\n",
    "market = pd.read_csv('../raw_data/210906_S&P500_SPX.csv')\n",
    "\n",
    "market.head()"
   ]
  },
  {
   "cell_type": "code",
   "execution_count": 510,
   "id": "64f32c2a",
   "metadata": {},
   "outputs": [],
   "source": [
    "from datetime import datetime, timedelta\n",
    "\n",
    "# transform date and set as index\n",
    "to_date = lambda x: datetime.strptime(x, '%d-%b-%Y')\n",
    "market['Exchange Date'] = market['Exchange Date'].apply(to_date)\n",
    "market.set_index('Exchange Date', inplace=True)"
   ]
  },
  {
   "cell_type": "code",
   "execution_count": 511,
   "id": "ceab41db",
   "metadata": {},
   "outputs": [
    {
     "data": {
      "text/html": [
       "<div>\n",
       "<style scoped>\n",
       "    .dataframe tbody tr th:only-of-type {\n",
       "        vertical-align: middle;\n",
       "    }\n",
       "\n",
       "    .dataframe tbody tr th {\n",
       "        vertical-align: top;\n",
       "    }\n",
       "\n",
       "    .dataframe thead th {\n",
       "        text-align: right;\n",
       "    }\n",
       "</style>\n",
       "<table border=\"1\" class=\"dataframe\">\n",
       "  <thead>\n",
       "    <tr style=\"text-align: right;\">\n",
       "      <th></th>\n",
       "      <th>Close</th>\n",
       "      <th>Open</th>\n",
       "    </tr>\n",
       "    <tr>\n",
       "      <th>Exchange Date</th>\n",
       "      <th></th>\n",
       "      <th></th>\n",
       "    </tr>\n",
       "  </thead>\n",
       "  <tbody>\n",
       "    <tr>\n",
       "      <th>2005-01-03</th>\n",
       "      <td>1202.08</td>\n",
       "      <td>1211.92</td>\n",
       "    </tr>\n",
       "    <tr>\n",
       "      <th>2005-01-04</th>\n",
       "      <td>1188.05</td>\n",
       "      <td>1202.08</td>\n",
       "    </tr>\n",
       "    <tr>\n",
       "      <th>2005-01-05</th>\n",
       "      <td>1183.74</td>\n",
       "      <td>1188.05</td>\n",
       "    </tr>\n",
       "    <tr>\n",
       "      <th>2005-01-06</th>\n",
       "      <td>1187.89</td>\n",
       "      <td>1183.74</td>\n",
       "    </tr>\n",
       "    <tr>\n",
       "      <th>2005-01-07</th>\n",
       "      <td>1186.19</td>\n",
       "      <td>1187.89</td>\n",
       "    </tr>\n",
       "  </tbody>\n",
       "</table>\n",
       "</div>"
      ],
      "text/plain": [
       "                 Close     Open\n",
       "Exchange Date                  \n",
       "2005-01-03     1202.08  1211.92\n",
       "2005-01-04     1188.05  1202.08\n",
       "2005-01-05     1183.74  1188.05\n",
       "2005-01-06     1187.89  1183.74\n",
       "2005-01-07     1186.19  1187.89"
      ]
     },
     "execution_count": 511,
     "metadata": {},
     "output_type": "execute_result"
    }
   ],
   "source": [
    "# transform closing price into float\n",
    "rem_com = lambda x: x.replace(',', '')\n",
    "market[\"Close\"] = market['Close'].apply(rem_com).astype(float)\n",
    "market[\"Open\"] = market['Open'].apply(rem_com).astype(float)\n",
    "market = market[['Close', 'Open']]\n",
    "\n",
    "market.head()"
   ]
  },
  {
   "cell_type": "markdown",
   "id": "dd431123",
   "metadata": {},
   "source": [
    "# Calculate returns"
   ]
  },
  {
   "cell_type": "markdown",
   "id": "660477b5",
   "metadata": {},
   "source": [
    "## Stock"
   ]
  },
  {
   "cell_type": "code",
   "execution_count": 497,
   "id": "e31db2d7",
   "metadata": {},
   "outputs": [
    {
     "data": {
      "text/html": [
       "<div>\n",
       "<style scoped>\n",
       "    .dataframe tbody tr th:only-of-type {\n",
       "        vertical-align: middle;\n",
       "    }\n",
       "\n",
       "    .dataframe tbody tr th {\n",
       "        vertical-align: top;\n",
       "    }\n",
       "\n",
       "    .dataframe thead th {\n",
       "        text-align: right;\n",
       "    }\n",
       "</style>\n",
       "<table border=\"1\" class=\"dataframe\">\n",
       "  <thead>\n",
       "    <tr style=\"text-align: right;\">\n",
       "      <th></th>\n",
       "      <th>close</th>\n",
       "    </tr>\n",
       "    <tr>\n",
       "      <th>date</th>\n",
       "      <th></th>\n",
       "    </tr>\n",
       "  </thead>\n",
       "  <tbody>\n",
       "    <tr>\n",
       "      <th>2006-12-29</th>\n",
       "      <td>NaN</td>\n",
       "    </tr>\n",
       "    <tr>\n",
       "      <th>2007-01-03</th>\n",
       "      <td>-0.012244</td>\n",
       "    </tr>\n",
       "    <tr>\n",
       "      <th>2007-01-04</th>\n",
       "      <td>0.022186</td>\n",
       "    </tr>\n",
       "    <tr>\n",
       "      <th>2007-01-05</th>\n",
       "      <td>-0.007126</td>\n",
       "    </tr>\n",
       "    <tr>\n",
       "      <th>2007-01-08</th>\n",
       "      <td>0.004938</td>\n",
       "    </tr>\n",
       "  </tbody>\n",
       "</table>\n",
       "</div>"
      ],
      "text/plain": [
       "               close\n",
       "date                \n",
       "2006-12-29       NaN\n",
       "2007-01-03 -0.012244\n",
       "2007-01-04  0.022186\n",
       "2007-01-05 -0.007126\n",
       "2007-01-08  0.004938"
      ]
     },
     "execution_count": 497,
     "metadata": {},
     "output_type": "execute_result"
    }
   ],
   "source": [
    "comp_returns = comp.pct_change() # calculates percentage change of each day\n",
    "# comp_returns = comp_returns[['close']]\n",
    "# comp_returns.columns = ['comp_return']\n",
    "\n",
    "comp_returns.head()"
   ]
  },
  {
   "cell_type": "code",
   "execution_count": 438,
   "id": "86813df9",
   "metadata": {},
   "outputs": [
    {
     "data": {
      "text/plain": [
       "True"
      ]
     },
     "execution_count": 438,
     "metadata": {},
     "output_type": "execute_result"
    }
   ],
   "source": [
    "# check\n",
    "np.round(2.9929 / 3.03 - 1, 6) == -0.012244"
   ]
  },
  {
   "cell_type": "markdown",
   "id": "e2d62f37",
   "metadata": {},
   "source": [
    "## Market"
   ]
  },
  {
   "cell_type": "code",
   "execution_count": 512,
   "id": "823e9f69",
   "metadata": {},
   "outputs": [
    {
     "data": {
      "text/plain": [
       "Exchange Date\n",
       "2005-01-03         NaN\n",
       "2005-01-04   -0.011671\n",
       "2005-01-05   -0.003628\n",
       "2005-01-06    0.003506\n",
       "2005-01-07   -0.001431\n",
       "                ...   \n",
       "2021-08-30    0.004307\n",
       "2021-08-31   -0.001349\n",
       "2021-09-01    0.000312\n",
       "2021-09-02    0.002843\n",
       "2021-09-03   -0.000335\n",
       "Name: Close, Length: 4198, dtype: float64"
      ]
     },
     "execution_count": 512,
     "metadata": {},
     "output_type": "execute_result"
    }
   ],
   "source": [
    "market_returns = market.pct_change()\n",
    "# market_returns = \n",
    "market_returns['Close']\n",
    "# market_returns.columns = ['market_return']\n",
    "\n",
    "# market_returns.head()"
   ]
  },
  {
   "cell_type": "markdown",
   "id": "a369fe95",
   "metadata": {},
   "source": [
    "## Market adjusted model"
   ]
  },
  {
   "cell_type": "code",
   "execution_count": 444,
   "id": "c62c02d5",
   "metadata": {
    "scrolled": true
   },
   "outputs": [
    {
     "data": {
      "text/html": [
       "<div>\n",
       "<style scoped>\n",
       "    .dataframe tbody tr th:only-of-type {\n",
       "        vertical-align: middle;\n",
       "    }\n",
       "\n",
       "    .dataframe tbody tr th {\n",
       "        vertical-align: top;\n",
       "    }\n",
       "\n",
       "    .dataframe thead th {\n",
       "        text-align: right;\n",
       "    }\n",
       "</style>\n",
       "<table border=\"1\" class=\"dataframe\">\n",
       "  <thead>\n",
       "    <tr style=\"text-align: right;\">\n",
       "      <th></th>\n",
       "      <th>comp_return</th>\n",
       "      <th>market_return</th>\n",
       "      <th>abnormal_return</th>\n",
       "    </tr>\n",
       "    <tr>\n",
       "      <th>date</th>\n",
       "      <th></th>\n",
       "      <th></th>\n",
       "      <th></th>\n",
       "    </tr>\n",
       "  </thead>\n",
       "  <tbody>\n",
       "    <tr>\n",
       "      <th>2006-12-29</th>\n",
       "      <td>NaN</td>\n",
       "      <td>-0.004513</td>\n",
       "      <td>NaN</td>\n",
       "    </tr>\n",
       "    <tr>\n",
       "      <th>2007-01-03</th>\n",
       "      <td>-0.012244</td>\n",
       "      <td>-0.001199</td>\n",
       "      <td>-0.011046</td>\n",
       "    </tr>\n",
       "    <tr>\n",
       "      <th>2007-01-04</th>\n",
       "      <td>0.022186</td>\n",
       "      <td>0.001228</td>\n",
       "      <td>0.020958</td>\n",
       "    </tr>\n",
       "    <tr>\n",
       "      <th>2007-01-05</th>\n",
       "      <td>-0.007126</td>\n",
       "      <td>-0.006085</td>\n",
       "      <td>-0.001041</td>\n",
       "    </tr>\n",
       "    <tr>\n",
       "      <th>2007-01-08</th>\n",
       "      <td>0.004938</td>\n",
       "      <td>0.002220</td>\n",
       "      <td>0.002718</td>\n",
       "    </tr>\n",
       "  </tbody>\n",
       "</table>\n",
       "</div>"
      ],
      "text/plain": [
       "            comp_return  market_return  abnormal_return\n",
       "date                                                   \n",
       "2006-12-29          NaN      -0.004513              NaN\n",
       "2007-01-03    -0.012244      -0.001199        -0.011046\n",
       "2007-01-04     0.022186       0.001228         0.020958\n",
       "2007-01-05    -0.007126      -0.006085        -0.001041\n",
       "2007-01-08     0.004938       0.002220         0.002718"
      ]
     },
     "execution_count": 444,
     "metadata": {},
     "output_type": "execute_result"
    }
   ],
   "source": [
    "# merge dataframes\n",
    "market_adj = comp_returns.join(market_returns)\n",
    "\n",
    "# company return - market return\n",
    "market_adj['abnormal_return'] = market_adj.comp_return - market_adj.market_return\n",
    "\n",
    "market_adj.head()"
   ]
  },
  {
   "cell_type": "code",
   "execution_count": 484,
   "id": "4eb8c3af",
   "metadata": {},
   "outputs": [
    {
     "data": {
      "text/plain": [
       "0.011636883137329135"
      ]
     },
     "execution_count": 484,
     "metadata": {},
     "output_type": "execute_result"
    }
   ],
   "source": [
    "market_adj['abnormal_return'].loc[(market_adj.index >= start_day) & (market_adj.index <= end_day)].sum()"
   ]
  },
  {
   "cell_type": "markdown",
   "id": "7c6001e0",
   "metadata": {},
   "source": [
    "# CAR"
   ]
  },
  {
   "cell_type": "code",
   "execution_count": 445,
   "id": "9a11c3d1",
   "metadata": {},
   "outputs": [],
   "source": [
    "from pandas.tseries.offsets import BDay"
   ]
  },
  {
   "cell_type": "code",
   "execution_count": 458,
   "id": "a9640d5e",
   "metadata": {},
   "outputs": [],
   "source": [
    "# Set event horizon\n",
    "def calculate_car(ticker, announcement_date, start=1, end=1):\n",
    "    \n",
    "    # transform into business days\n",
    "    start_day = announcement_date - BDay(start)\n",
    "\n",
    "    # define function that takes care of non-trading days (taking the later trading day)\n",
    "    if announcement_date.weekday() > 4:\n",
    "        end_day = announcement_date + BDay(2) # otherwise will just take event horizon -1 into consideration\n",
    "        \n",
    "    else:\n",
    "        end_day = announcement_date + BDay(end)\n",
    "        \n",
    "    # get data\n",
    "    \n",
    "    \n",
    "    \n",
    "    # calculate CAR\n",
    "    car = market_adj.loc[(market_adj.index >= start_day) & (market_adj.index <= end_day)]['abnormal_return'].sum()\n",
    "\n",
    "    return car"
   ]
  },
  {
   "cell_type": "code",
   "execution_count": 463,
   "id": "92c74aac",
   "metadata": {},
   "outputs": [],
   "source": [
    "ann = pd.to_datetime('2021-08-14', format=\"%Y-%m-%d\")"
   ]
  },
  {
   "cell_type": "code",
   "execution_count": 465,
   "id": "e1906c49",
   "metadata": {},
   "outputs": [],
   "source": [
    "# transform into business days\n",
    "start_day = ann - BDay(1)\n",
    "\n",
    "# define function that takes care of non-trading days (taking the later trading day)\n",
    "if ann.weekday() > 4:\n",
    "    end_day = ann + BDay(2) # otherwise will just take event horizon -1 into consideration\n",
    "\n",
    "else:\n",
    "    end_day = ann + BDay(1)"
   ]
  },
  {
   "cell_type": "code",
   "execution_count": 466,
   "id": "09daede8",
   "metadata": {},
   "outputs": [
    {
     "name": "stdout",
     "output_type": "stream",
     "text": [
      "2021-08-13 00:00:00 2021-08-17 00:00:00\n"
     ]
    }
   ],
   "source": [
    "print(start_day, end_day)"
   ]
  },
  {
   "cell_type": "code",
   "execution_count": 467,
   "id": "3181cfe4",
   "metadata": {},
   "outputs": [],
   "source": [
    "end_day = ann + BDay(2) if ann.weekday() > 4 else ann + BDay(1)"
   ]
  },
  {
   "cell_type": "code",
   "execution_count": 468,
   "id": "7eead355",
   "metadata": {},
   "outputs": [
    {
     "data": {
      "text/plain": [
       "Timestamp('2021-08-17 00:00:00')"
      ]
     },
     "execution_count": 468,
     "metadata": {},
     "output_type": "execute_result"
    }
   ],
   "source": [
    "end_day"
   ]
  }
 ],
 "metadata": {
  "kernelspec": {
   "display_name": "Python 3 (ipykernel)",
   "language": "python",
   "name": "python3"
  },
  "language_info": {
   "codemirror_mode": {
    "name": "ipython",
    "version": 3
   },
   "file_extension": ".py",
   "mimetype": "text/x-python",
   "name": "python",
   "nbconvert_exporter": "python",
   "pygments_lexer": "ipython3",
   "version": "3.8.6"
  },
  "toc": {
   "base_numbering": 1,
   "nav_menu": {},
   "number_sections": true,
   "sideBar": true,
   "skip_h1_title": false,
   "title_cell": "Table of Contents",
   "title_sidebar": "Contents",
   "toc_cell": false,
   "toc_position": {},
   "toc_section_display": true,
   "toc_window_display": false
  }
 },
 "nbformat": 4,
 "nbformat_minor": 5
}
