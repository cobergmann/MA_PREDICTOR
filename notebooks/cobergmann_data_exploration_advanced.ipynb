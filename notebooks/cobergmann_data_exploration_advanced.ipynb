{
 "cells": [
  {
   "cell_type": "code",
   "execution_count": 5,
   "id": "a49047c0",
   "metadata": {},
   "outputs": [
    {
     "name": "stdout",
     "output_type": "stream",
     "text": [
      "The autoreload extension is already loaded. To reload it, use:\n",
      "  %reload_ext autoreload\n"
     ]
    }
   ],
   "source": [
    "%load_ext autoreload\n",
    "%autoreload 2"
   ]
  },
  {
   "cell_type": "code",
   "execution_count": 6,
   "id": "71823571",
   "metadata": {},
   "outputs": [],
   "source": [
    "import pandas as pd\n",
    "import numpy as np\n",
    "import matplotlib.pyplot as plt\n",
    "import seaborn as sns"
   ]
  },
  {
   "cell_type": "code",
   "execution_count": 7,
   "id": "1091b56c",
   "metadata": {},
   "outputs": [
    {
     "data": {
      "text/html": [
       "<div>\n",
       "<style scoped>\n",
       "    .dataframe tbody tr th:only-of-type {\n",
       "        vertical-align: middle;\n",
       "    }\n",
       "\n",
       "    .dataframe tbody tr th {\n",
       "        vertical-align: top;\n",
       "    }\n",
       "\n",
       "    .dataframe thead th {\n",
       "        text-align: right;\n",
       "    }\n",
       "</style>\n",
       "<table border=\"1\" class=\"dataframe\">\n",
       "  <thead>\n",
       "    <tr style=\"text-align: right;\">\n",
       "      <th></th>\n",
       "      <th>id</th>\n",
       "      <th>announcement_date</th>\n",
       "      <th>deal_value</th>\n",
       "      <th>acquiror_total_assets</th>\n",
       "      <th>acquiror_name</th>\n",
       "      <th>acquiror_ticker</th>\n",
       "      <th>target_name</th>\n",
       "      <th>target_nation</th>\n",
       "      <th>acquiror_nation</th>\n",
       "      <th>target_status</th>\n",
       "      <th>...</th>\n",
       "      <th>shares_acquired</th>\n",
       "      <th>consideration_offered</th>\n",
       "      <th>attitude</th>\n",
       "      <th>acquisition_technique</th>\n",
       "      <th>acquiror_financial_advisor</th>\n",
       "      <th>target_financial_advisor</th>\n",
       "      <th>purpose</th>\n",
       "      <th>acquiror_code</th>\n",
       "      <th>target_code</th>\n",
       "      <th>car</th>\n",
       "    </tr>\n",
       "  </thead>\n",
       "  <tbody>\n",
       "    <tr>\n",
       "      <th>0</th>\n",
       "      <td>1631732020</td>\n",
       "      <td>2005-01-01</td>\n",
       "      <td>12.00</td>\n",
       "      <td>3160.41</td>\n",
       "      <td>Plains All American Pipeline LP</td>\n",
       "      <td>PAA</td>\n",
       "      <td>Shell Pipeline Co LP-Crude Oil Pipeline Assets...</td>\n",
       "      <td>United States</td>\n",
       "      <td>United States</td>\n",
       "      <td>Subsidiary</td>\n",
       "      <td>...</td>\n",
       "      <td>100.0</td>\n",
       "      <td>Cash|Cash Only</td>\n",
       "      <td>Friendly</td>\n",
       "      <td>Financial Acquiror|Divestiture</td>\n",
       "      <td>NaN</td>\n",
       "      <td>NaN</td>\n",
       "      <td>Strengthen existing operations/expand presence...</td>\n",
       "      <td>50102030</td>\n",
       "      <td>50103030</td>\n",
       "      <td>0.006854</td>\n",
       "    </tr>\n",
       "    <tr>\n",
       "      <th>1</th>\n",
       "      <td>1653652020</td>\n",
       "      <td>2005-01-01</td>\n",
       "      <td>NaN</td>\n",
       "      <td>1680.57</td>\n",
       "      <td>Regis Corp</td>\n",
       "      <td>RGS</td>\n",
       "      <td>Scot Lewis Schools</td>\n",
       "      <td>United States</td>\n",
       "      <td>United States</td>\n",
       "      <td>Private</td>\n",
       "      <td>...</td>\n",
       "      <td>100.0</td>\n",
       "      <td>Unspecified</td>\n",
       "      <td>Friendly</td>\n",
       "      <td>Not Applicable</td>\n",
       "      <td>NaN</td>\n",
       "      <td>NaN</td>\n",
       "      <td>NaN</td>\n",
       "      <td>54201030</td>\n",
       "      <td>63103010</td>\n",
       "      <td>-0.010266</td>\n",
       "    </tr>\n",
       "    <tr>\n",
       "      <th>2</th>\n",
       "      <td>1949421020</td>\n",
       "      <td>2005-01-01</td>\n",
       "      <td>NaN</td>\n",
       "      <td>3301.76</td>\n",
       "      <td>Google Inc</td>\n",
       "      <td>GOOG</td>\n",
       "      <td>PhatBits</td>\n",
       "      <td>United States</td>\n",
       "      <td>United States</td>\n",
       "      <td>Private</td>\n",
       "      <td>...</td>\n",
       "      <td>100.0</td>\n",
       "      <td>Unspecified</td>\n",
       "      <td>Friendly</td>\n",
       "      <td>Not Applicable</td>\n",
       "      <td>NaN</td>\n",
       "      <td>NaN</td>\n",
       "      <td>NaN</td>\n",
       "      <td>57201030</td>\n",
       "      <td>57201020</td>\n",
       "      <td>0.007746</td>\n",
       "    </tr>\n",
       "    <tr>\n",
       "      <th>3</th>\n",
       "      <td>1652453040</td>\n",
       "      <td>2005-01-01</td>\n",
       "      <td>20.03</td>\n",
       "      <td>371.71</td>\n",
       "      <td>Graco Inc</td>\n",
       "      <td>GGG</td>\n",
       "      <td>Gusmer Europe SL</td>\n",
       "      <td>Spain</td>\n",
       "      <td>United States</td>\n",
       "      <td>Private</td>\n",
       "      <td>...</td>\n",
       "      <td>100.0</td>\n",
       "      <td>Cash|Cash Only</td>\n",
       "      <td>Friendly</td>\n",
       "      <td>Not Applicable</td>\n",
       "      <td>NaN</td>\n",
       "      <td>NaN</td>\n",
       "      <td>NaN</td>\n",
       "      <td>52102010</td>\n",
       "      <td>51101010</td>\n",
       "      <td>-0.011133</td>\n",
       "    </tr>\n",
       "    <tr>\n",
       "      <th>4</th>\n",
       "      <td>2721963020</td>\n",
       "      <td>2005-01-01</td>\n",
       "      <td>18220.52</td>\n",
       "      <td>NaN</td>\n",
       "      <td>Exxon Mobil Corp</td>\n",
       "      <td>XOM</td>\n",
       "      <td>Exxon Mobil Corp</td>\n",
       "      <td>United States</td>\n",
       "      <td>United States</td>\n",
       "      <td>Public</td>\n",
       "      <td>...</td>\n",
       "      <td>5.0</td>\n",
       "      <td>Cash|Cash Only</td>\n",
       "      <td>No Applicable</td>\n",
       "      <td>Open Market Purchase|Privately Negotiated Purc...</td>\n",
       "      <td>NaN</td>\n",
       "      <td>NaN</td>\n",
       "      <td>Other</td>\n",
       "      <td>50102030</td>\n",
       "      <td>50102030</td>\n",
       "      <td>-0.003971</td>\n",
       "    </tr>\n",
       "  </tbody>\n",
       "</table>\n",
       "<p>5 rows × 23 columns</p>\n",
       "</div>"
      ],
      "text/plain": [
       "           id announcement_date  deal_value  acquiror_total_assets  \\\n",
       "0  1631732020        2005-01-01       12.00                3160.41   \n",
       "1  1653652020        2005-01-01         NaN                1680.57   \n",
       "2  1949421020        2005-01-01         NaN                3301.76   \n",
       "3  1652453040        2005-01-01       20.03                 371.71   \n",
       "4  2721963020        2005-01-01    18220.52                    NaN   \n",
       "\n",
       "                     acquiror_name acquiror_ticker  \\\n",
       "0  Plains All American Pipeline LP             PAA   \n",
       "1                       Regis Corp             RGS   \n",
       "2                       Google Inc            GOOG   \n",
       "3                        Graco Inc             GGG   \n",
       "4                 Exxon Mobil Corp             XOM   \n",
       "\n",
       "                                         target_name  target_nation  \\\n",
       "0  Shell Pipeline Co LP-Crude Oil Pipeline Assets...  United States   \n",
       "1                                 Scot Lewis Schools  United States   \n",
       "2                                           PhatBits  United States   \n",
       "3                                   Gusmer Europe SL          Spain   \n",
       "4                                   Exxon Mobil Corp  United States   \n",
       "\n",
       "  acquiror_nation target_status  ... shares_acquired consideration_offered  \\\n",
       "0   United States    Subsidiary  ...           100.0        Cash|Cash Only   \n",
       "1   United States       Private  ...           100.0           Unspecified   \n",
       "2   United States       Private  ...           100.0           Unspecified   \n",
       "3   United States       Private  ...           100.0        Cash|Cash Only   \n",
       "4   United States        Public  ...             5.0        Cash|Cash Only   \n",
       "\n",
       "        attitude                              acquisition_technique  \\\n",
       "0       Friendly                     Financial Acquiror|Divestiture   \n",
       "1       Friendly                                     Not Applicable   \n",
       "2       Friendly                                     Not Applicable   \n",
       "3       Friendly                                     Not Applicable   \n",
       "4  No Applicable  Open Market Purchase|Privately Negotiated Purc...   \n",
       "\n",
       "  acquiror_financial_advisor target_financial_advisor  \\\n",
       "0                        NaN                      NaN   \n",
       "1                        NaN                      NaN   \n",
       "2                        NaN                      NaN   \n",
       "3                        NaN                      NaN   \n",
       "4                        NaN                      NaN   \n",
       "\n",
       "                                             purpose acquiror_code  \\\n",
       "0  Strengthen existing operations/expand presence...      50102030   \n",
       "1                                                NaN      54201030   \n",
       "2                                                NaN      57201030   \n",
       "3                                                NaN      52102010   \n",
       "4                                              Other      50102030   \n",
       "\n",
       "  target_code       car  \n",
       "0    50103030  0.006854  \n",
       "1    63103010 -0.010266  \n",
       "2    57201020  0.007746  \n",
       "3    51101010 -0.011133  \n",
       "4    50102030 -0.003971  \n",
       "\n",
       "[5 rows x 23 columns]"
      ]
     },
     "execution_count": 7,
     "metadata": {},
     "output_type": "execute_result"
    }
   ],
   "source": [
    "data_orig = pd.read_csv('../MA_PREDICTOR/data/ma_data_car.csv', parse_dates=['announcement_date'])\n",
    "data_orig.head()"
   ]
  },
  {
   "cell_type": "code",
   "execution_count": 102,
   "id": "8d1a8070",
   "metadata": {},
   "outputs": [
    {
     "data": {
      "text/plain": [
       "0"
      ]
     },
     "execution_count": 102,
     "metadata": {},
     "output_type": "execute_result"
    }
   ],
   "source": [
    "data_orig.car.isna().sum()"
   ]
  },
  {
   "cell_type": "code",
   "execution_count": 8,
   "id": "cf704650",
   "metadata": {
    "scrolled": true
   },
   "outputs": [
    {
     "data": {
      "text/plain": [
       "Index(['id', 'announcement_date', 'deal_value', 'acquiror_total_assets',\n",
       "       'acquiror_name', 'acquiror_ticker', 'target_name', 'target_nation',\n",
       "       'acquiror_nation', 'target_status', 'acquiror_industry',\n",
       "       'target_industry', 'shares_at_announcement', 'shares_acquired',\n",
       "       'consideration_offered', 'attitude', 'acquisition_technique',\n",
       "       'acquiror_financial_advisor', 'target_financial_advisor', 'purpose',\n",
       "       'acquiror_code', 'target_code', 'car'],\n",
       "      dtype='object')"
      ]
     },
     "execution_count": 8,
     "metadata": {},
     "output_type": "execute_result"
    }
   ],
   "source": [
    "data_orig.columns"
   ]
  },
  {
   "cell_type": "markdown",
   "id": "3d8dc2b5",
   "metadata": {},
   "source": [
    "# Scope"
   ]
  },
  {
   "cell_type": "code",
   "execution_count": 9,
   "id": "6e5b7d58",
   "metadata": {},
   "outputs": [],
   "source": [
    "features = ['consideration_offered', 'attitude', 'acquisition_technique',\n",
    "            'acquiror_financial_advisor', 'target_financial_advisor', 'purpose',\n",
    "            'acquiror_code', 'target_code', 'car']"
   ]
  },
  {
   "cell_type": "markdown",
   "id": "7e3276f8",
   "metadata": {},
   "source": [
    "# Outliers"
   ]
  },
  {
   "cell_type": "markdown",
   "id": "968ab897",
   "metadata": {},
   "source": [
    "## Detecting outliers"
   ]
  },
  {
   "cell_type": "code",
   "execution_count": 10,
   "id": "7d3c0e4c",
   "metadata": {},
   "outputs": [
    {
     "data": {
      "image/png": "[encoded data removed]",
      "text/plain": [
       "<Figure size 432x288 with 1 Axes>"
      ]
     },
     "metadata": {
      "needs_background": "light"
     },
     "output_type": "display_data"
    }
   ],
   "source": [
    "plt.hist(data_orig.car, range=(-0.15, 0.15));"
   ]
  },
  {
   "cell_type": "markdown",
   "id": "89590668",
   "metadata": {},
   "source": [
    "## Excluding outliers"
   ]
  },
  {
   "cell_type": "code",
   "execution_count": 11,
   "id": "d4600ef4",
   "metadata": {},
   "outputs": [],
   "source": [
    "data = data_orig[(data_orig.car > -0.15) & (data_orig.car < 0.15)]"
   ]
  },
  {
   "cell_type": "code",
   "execution_count": 12,
   "id": "66ebb895",
   "metadata": {
    "scrolled": true
   },
   "outputs": [
    {
     "data": {
      "image/png": "[encoded data removed]",
      "text/plain": [
       "<Figure size 432x288 with 1 Axes>"
      ]
     },
     "metadata": {
      "needs_background": "light"
     },
     "output_type": "display_data"
    }
   ],
   "source": [
    "plt.hist(data.car);"
   ]
  },
  {
   "cell_type": "markdown",
   "id": "7e1a58b0",
   "metadata": {},
   "source": [
    "# Features"
   ]
  },
  {
   "cell_type": "markdown",
   "id": "3708c21f",
   "metadata": {},
   "source": [
    "## consideration_offered"
   ]
  },
  {
   "cell_type": "code",
   "execution_count": 13,
   "id": "6a67f48b",
   "metadata": {},
   "outputs": [],
   "source": [
    "tmp = data[['consideration_offered', 'car']]"
   ]
  },
  {
   "cell_type": "code",
   "execution_count": 14,
   "id": "a45936e6",
   "metadata": {},
   "outputs": [
    {
     "data": {
      "text/plain": [
       "0        Cash|Cash Only\n",
       "1           Unspecified\n",
       "2           Unspecified\n",
       "3        Cash|Cash Only\n",
       "4        Cash|Cash Only\n",
       "              ...      \n",
       "18454    Cash Only|Cash\n",
       "18455       Unspecified\n",
       "18456       Unspecified\n",
       "18457       Unspecified\n",
       "18458       Unspecified\n",
       "Name: consideration_offered, Length: 17823, dtype: object"
      ]
     },
     "execution_count": 14,
     "metadata": {},
     "output_type": "execute_result"
    }
   ],
   "source": [
    "tmp.consideration_offered"
   ]
  },
  {
   "cell_type": "code",
   "execution_count": 15,
   "id": "0fec3047",
   "metadata": {},
   "outputs": [],
   "source": [
    "# has to be transformed first -> everything that only has cash will be 'cash', rest 'other'"
   ]
  },
  {
   "cell_type": "code",
   "execution_count": 16,
   "id": "618952d2",
   "metadata": {},
   "outputs": [],
   "source": [
    "# transform pipes into list of all considerations"
   ]
  },
  {
   "cell_type": "code",
   "execution_count": 17,
   "id": "1190dacd",
   "metadata": {},
   "outputs": [],
   "source": [
    "list_gen = lambda x: x.split('|')\n",
    "\n",
    "tmp['consideration_offered'] = tmp.consideration_offered.apply(list_gen)"
   ]
  },
  {
   "cell_type": "code",
   "execution_count": 21,
   "id": "3aa14106",
   "metadata": {},
   "outputs": [
    {
     "name": "stderr",
     "output_type": "stream",
     "text": [
      "/var/folders/z8/077xt3wd30j28k4_3vtz7gn00000gn/T/ipykernel_73042/3051038063.py:1: SettingWithCopyWarning: \n",
      "A value is trying to be set on a copy of a slice from a DataFrame.\n",
      "Try using .loc[row_indexer,col_indexer] = value instead\n",
      "\n",
      "See the caveats in the documentation: https://pandas.pydata.org/pandas-docs/stable/user_guide/indexing.html#returning-a-view-versus-a-copy\n",
      "  tmp['consideration_offered'] = tmp.apply(lambda row: cash(row.consideration_offered), axis=1)\n"
     ]
    }
   ],
   "source": [
    "# Cluster considerations\n",
    "def cash(considerations):\n",
    "    \n",
    "    for consideration in considerations:\n",
    "        if 'Cash' not in consideration:\n",
    "            return 'Other'\n",
    "    return 'Cash'\n",
    "\n",
    "# Apply\n",
    "tmp['consideration_offered'] = tmp.apply(lambda row: cash(row.consideration_offered), axis=1)"
   ]
  },
  {
   "cell_type": "markdown",
   "id": "e2404a68",
   "metadata": {},
   "source": [
    "### Distribution"
   ]
  },
  {
   "cell_type": "code",
   "execution_count": 23,
   "id": "828db5f3",
   "metadata": {},
   "outputs": [
    {
     "data": {
      "image/png": "[encoded data removed]",
      "text/plain": [
       "<Figure size 432x288 with 1 Axes>"
      ]
     },
     "metadata": {
      "needs_background": "light"
     },
     "output_type": "display_data"
    }
   ],
   "source": [
    "plt.hist(tmp.consideration_offered);"
   ]
  },
  {
   "cell_type": "markdown",
   "id": "efe4e50c",
   "metadata": {},
   "source": [
    "### Impact on target"
   ]
  },
  {
   "cell_type": "code",
   "execution_count": 36,
   "id": "9cf5cadd",
   "metadata": {},
   "outputs": [
    {
     "data": {
      "text/html": [
       "<div>\n",
       "<style scoped>\n",
       "    .dataframe tbody tr th:only-of-type {\n",
       "        vertical-align: middle;\n",
       "    }\n",
       "\n",
       "    .dataframe tbody tr th {\n",
       "        vertical-align: top;\n",
       "    }\n",
       "\n",
       "    .dataframe thead th {\n",
       "        text-align: right;\n",
       "    }\n",
       "</style>\n",
       "<table border=\"1\" class=\"dataframe\">\n",
       "  <thead>\n",
       "    <tr style=\"text-align: right;\">\n",
       "      <th></th>\n",
       "      <th>car</th>\n",
       "    </tr>\n",
       "    <tr>\n",
       "      <th>consideration_offered</th>\n",
       "      <th></th>\n",
       "    </tr>\n",
       "  </thead>\n",
       "  <tbody>\n",
       "    <tr>\n",
       "      <th>Cash</th>\n",
       "      <td>0.003427</td>\n",
       "    </tr>\n",
       "    <tr>\n",
       "      <th>Other</th>\n",
       "      <td>0.001090</td>\n",
       "    </tr>\n",
       "  </tbody>\n",
       "</table>\n",
       "</div>"
      ],
      "text/plain": [
       "                            car\n",
       "consideration_offered          \n",
       "Cash                   0.003427\n",
       "Other                  0.001090"
      ]
     },
     "execution_count": 36,
     "metadata": {},
     "output_type": "execute_result"
    }
   ],
   "source": [
    "tmp.groupby(by='consideration_offered').mean()"
   ]
  },
  {
   "cell_type": "code",
   "execution_count": 37,
   "id": "3963278c",
   "metadata": {},
   "outputs": [
    {
     "data": {
      "text/plain": [
       "0.0019291859304173993"
      ]
     },
     "execution_count": 37,
     "metadata": {},
     "output_type": "execute_result"
    }
   ],
   "source": [
    "tmp.car.mean() # to show that on average, cash performs better than non-cash"
   ]
  },
  {
   "cell_type": "markdown",
   "id": "929a15fa",
   "metadata": {},
   "source": [
    "## Attitude"
   ]
  },
  {
   "cell_type": "code",
   "execution_count": 39,
   "id": "d01e0aa2",
   "metadata": {},
   "outputs": [
    {
     "data": {
      "text/plain": [
       "array(['Friendly', 'No Applicable', 'Neutral', 'Hostile', 'Unsolicited'],\n",
       "      dtype=object)"
      ]
     },
     "execution_count": 39,
     "metadata": {},
     "output_type": "execute_result"
    }
   ],
   "source": [
    "data.attitude.unique()"
   ]
  },
  {
   "cell_type": "markdown",
   "id": "e04ec52b",
   "metadata": {},
   "source": [
    "### Distribution"
   ]
  },
  {
   "cell_type": "code",
   "execution_count": 41,
   "id": "10ac1905",
   "metadata": {},
   "outputs": [
    {
     "data": {
      "image/png": "[encoded data removed]",
      "text/plain": [
       "<Figure size 432x288 with 1 Axes>"
      ]
     },
     "metadata": {
      "needs_background": "light"
     },
     "output_type": "display_data"
    }
   ],
   "source": [
    "plt.hist(data.attitude);"
   ]
  },
  {
   "cell_type": "markdown",
   "id": "9afb5b51",
   "metadata": {},
   "source": [
    "### Impact on target"
   ]
  },
  {
   "cell_type": "code",
   "execution_count": 73,
   "id": "b9bd0e3f",
   "metadata": {
    "scrolled": true
   },
   "outputs": [
    {
     "data": {
      "text/plain": [
       "<AxesSubplot:xlabel='attitude'>"
      ]
     },
     "execution_count": 73,
     "metadata": {},
     "output_type": "execute_result"
    },
    {
     "data": {
      "image/png": "[encoded data removed]",
      "text/plain": [
       "<Figure size 432x288 with 1 Axes>"
      ]
     },
     "metadata": {
      "needs_background": "light"
     },
     "output_type": "display_data"
    }
   ],
   "source": [
    "data.groupby(by='attitude').mean()[['car']].plot()"
   ]
  },
  {
   "cell_type": "code",
   "execution_count": 75,
   "id": "a06b5957",
   "metadata": {},
   "outputs": [
    {
     "data": {
      "text/plain": [
       "Friendly         17224\n",
       "No Applicable      469\n",
       "Neutral            121\n",
       "Unsolicited          6\n",
       "Hostile              3\n",
       "Name: attitude, dtype: int64"
      ]
     },
     "execution_count": 75,
     "metadata": {},
     "output_type": "execute_result"
    }
   ],
   "source": [
    "data.attitude.value_counts() # shows us that this is not meaningful, with only 3 observations"
   ]
  },
  {
   "cell_type": "code",
   "execution_count": 76,
   "id": "137598c6",
   "metadata": {},
   "outputs": [
    {
     "data": {
      "text/plain": [
       "['consideration_offered',\n",
       " 'attitude',\n",
       " 'acquisition_technique',\n",
       " 'acquiror_financial_advisor',\n",
       " 'target_financial_advisor',\n",
       " 'purpose',\n",
       " 'acquiror_code',\n",
       " 'target_code',\n",
       " 'car']"
      ]
     },
     "execution_count": 76,
     "metadata": {},
     "output_type": "execute_result"
    }
   ],
   "source": [
    "features"
   ]
  },
  {
   "cell_type": "markdown",
   "id": "63a9353c",
   "metadata": {},
   "source": [
    "## acquisition_techniques"
   ]
  },
  {
   "cell_type": "code",
   "execution_count": 77,
   "id": "67ceb70c",
   "metadata": {},
   "outputs": [],
   "source": [
    "# to be ignored for now"
   ]
  },
  {
   "cell_type": "markdown",
   "id": "d871ad2a",
   "metadata": {},
   "source": [
    "## acquiror_financial_advisor (target_financial_advisor)"
   ]
  },
  {
   "cell_type": "code",
   "execution_count": 78,
   "id": "292d6925",
   "metadata": {},
   "outputs": [],
   "source": [
    "# to be ignored for now"
   ]
  },
  {
   "cell_type": "markdown",
   "id": "2dee64b4",
   "metadata": {},
   "source": [
    "## purpose"
   ]
  },
  {
   "cell_type": "code",
   "execution_count": 79,
   "id": "ba079c19",
   "metadata": {},
   "outputs": [],
   "source": [
    "# to be ignored for now"
   ]
  },
  {
   "cell_type": "markdown",
   "id": "08c33c69",
   "metadata": {},
   "source": [
    "## industry_relatedness (acquiror_code, target_code)"
   ]
  },
  {
   "cell_type": "markdown",
   "id": "bbecab34",
   "metadata": {},
   "source": [
    "**Relatedness from top to bottom:**\n",
    "1. Same industry (Iron & Steel)\n",
    "2. Same industry group (Metals & Mining)\n",
    "3. Same business sector (Mineral Resources)\n",
    "4. Same economic sector (Basic Materials)\n",
    "5. Not related"
   ]
  },
  {
   "cell_type": "code",
   "execution_count": 85,
   "id": "156e4952",
   "metadata": {},
   "outputs": [],
   "source": [
    "tmp = data[['car']]"
   ]
  },
  {
   "cell_type": "code",
   "execution_count": 80,
   "id": "a9ebddc0",
   "metadata": {},
   "outputs": [],
   "source": [
    "# codes have to be transformed first"
   ]
  },
  {
   "cell_type": "code",
   "execution_count": 83,
   "id": "e7fdf7aa",
   "metadata": {},
   "outputs": [],
   "source": [
    "def relatedness(acquiror, target):\n",
    "    if acquiror == target:\n",
    "        return 'industry'\n",
    "    elif acquiror[:6] == target[:6]:\n",
    "        return 'industry_group'\n",
    "    elif acquiror[:4] == target[:4]:\n",
    "        return 'business_sector'\n",
    "    elif acquiror[:2] == target[:2]:\n",
    "        return 'economic_sector'\n",
    "    else:\n",
    "        return 'not_related'"
   ]
  },
  {
   "cell_type": "code",
   "execution_count": 87,
   "id": "f06d3d44",
   "metadata": {},
   "outputs": [
    {
     "name": "stderr",
     "output_type": "stream",
     "text": [
      "/var/folders/z8/077xt3wd30j28k4_3vtz7gn00000gn/T/ipykernel_73042/436178826.py:1: SettingWithCopyWarning: \n",
      "A value is trying to be set on a copy of a slice from a DataFrame.\n",
      "Try using .loc[row_indexer,col_indexer] = value instead\n",
      "\n",
      "See the caveats in the documentation: https://pandas.pydata.org/pandas-docs/stable/user_guide/indexing.html#returning-a-view-versus-a-copy\n",
      "  tmp['relatedness'] = data.apply(lambda row: relatedness(str(row.acquiror_code), str(row.target_code)), axis=1)\n"
     ]
    }
   ],
   "source": [
    "tmp['relatedness'] = data.apply(lambda row: relatedness(str(row.acquiror_code), str(row.target_code)), axis=1)"
   ]
  },
  {
   "cell_type": "code",
   "execution_count": 98,
   "id": "9e3d20b3",
   "metadata": {},
   "outputs": [
    {
     "data": {
      "text/plain": [
       "industry           7166\n",
       "not_related        5838\n",
       "industry_group     1891\n",
       "economic_sector    1565\n",
       "business_sector    1363\n",
       "dtype: int64"
      ]
     },
     "execution_count": 98,
     "metadata": {},
     "output_type": "execute_result"
    }
   ],
   "source": [
    "tmp.relatedness.value_counts()"
   ]
  },
  {
   "cell_type": "code",
   "execution_count": 94,
   "id": "8ee8a5fb",
   "metadata": {},
   "outputs": [
    {
     "data": {
      "image/png": "[encoded data removed]",
      "text/plain": [
       "<Figure size 432x288 with 1 Axes>"
      ]
     },
     "metadata": {
      "needs_background": "light"
     },
     "output_type": "display_data"
    }
   ],
   "source": [
    "plt.hist(tmp.relatedness, orientation='horizontal');"
   ]
  },
  {
   "cell_type": "code",
   "execution_count": null,
   "id": "f470bba2",
   "metadata": {},
   "outputs": [],
   "source": []
  }
 ],
 "metadata": {
  "kernelspec": {
   "display_name": "Python 3 (ipykernel)",
   "language": "python",
   "name": "python3"
  },
  "language_info": {
   "codemirror_mode": {
    "name": "ipython",
    "version": 3
   },
   "file_extension": ".py",
   "mimetype": "text/x-python",
   "name": "python",
   "nbconvert_exporter": "python",
   "pygments_lexer": "ipython3",
   "version": "3.8.6"
  },
  "toc": {
   "base_numbering": 1,
   "nav_menu": {},
   "number_sections": true,
   "sideBar": true,
   "skip_h1_title": false,
   "title_cell": "Table of Contents",
   "title_sidebar": "Contents",
   "toc_cell": false,
   "toc_position": {},
   "toc_section_display": true,
   "toc_window_display": false
  }
 },
 "nbformat": 4,
 "nbformat_minor": 5
}
