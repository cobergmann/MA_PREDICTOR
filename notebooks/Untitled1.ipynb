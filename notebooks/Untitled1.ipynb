{
 "cells": [
  {
   "cell_type": "code",
   "execution_count": 55,
   "id": "53c3257f",
   "metadata": {},
   "outputs": [
    {
     "data": {
      "text/plain": [
       "<Figure size 864x360 with 0 Axes>"
      ]
     },
     "metadata": {},
     "output_type": "display_data"
    }
   ],
   "source": [
    "import pandas as pd\n",
    "import seaborn as sns\n",
    "import matplotlib.pyplot as plt\n",
    "\n",
    "plt.style.use('fivethirtyeight')\n",
    "plt.rcParams['font.size'] = 14\n",
    "plt.figure(figsize=(12,5))\n",
    "palette = sns.color_palette('Paired', 10)"
   ]
  },
  {
   "cell_type": "markdown",
   "id": "4fb5ca9f",
   "metadata": {},
   "source": [
    "-10%/+10%"
   ]
  },
  {
   "cell_type": "markdown",
   "id": "f8237cb0",
   "metadata": {},
   "source": [
    "id', 'announcement_date', 'deal_value', 'acquiror_total_assets',\n",
    "       'acquiror_name', 'acquiror_ticker', 'target_name', 'target_nation',\n",
    "       'acquiror_nation', 'target_status', 'acquiror_industry',\n",
    "       'target_industry', 'shares_at_announcement', 'shares_acquired',"
   ]
  },
  {
   "cell_type": "code",
   "execution_count": 86,
   "id": "0b3b2cef",
   "metadata": {},
   "outputs": [],
   "source": [
    "data_orig= pd.read_csv('/Users/manonlaffly/code/cobergmann/MA_PREDICTOR/MA_PREDICTOR/data/ma_data_car.csv', parse_dates=['announcement_date'])"
   ]
  },
  {
   "cell_type": "code",
   "execution_count": 92,
   "id": "f85d34db",
   "metadata": {},
   "outputs": [
    {
     "data": {
      "text/html": [
       "<div>\n",
       "<style scoped>\n",
       "    .dataframe tbody tr th:only-of-type {\n",
       "        vertical-align: middle;\n",
       "    }\n",
       "\n",
       "    .dataframe tbody tr th {\n",
       "        vertical-align: top;\n",
       "    }\n",
       "\n",
       "    .dataframe thead th {\n",
       "        text-align: right;\n",
       "    }\n",
       "</style>\n",
       "<table border=\"1\" class=\"dataframe\">\n",
       "  <thead>\n",
       "    <tr style=\"text-align: right;\">\n",
       "      <th></th>\n",
       "      <th>id</th>\n",
       "      <th>announcement_date</th>\n",
       "      <th>deal_value</th>\n",
       "      <th>acquiror_total_assets</th>\n",
       "      <th>acquiror_name</th>\n",
       "      <th>acquiror_ticker</th>\n",
       "      <th>target_name</th>\n",
       "      <th>target_nation</th>\n",
       "      <th>acquiror_nation</th>\n",
       "      <th>target_status</th>\n",
       "      <th>...</th>\n",
       "      <th>shares_acquired</th>\n",
       "      <th>consideration_offered</th>\n",
       "      <th>attitude</th>\n",
       "      <th>acquisition_technique</th>\n",
       "      <th>acquiror_financial_advisor</th>\n",
       "      <th>target_financial_advisor</th>\n",
       "      <th>purpose</th>\n",
       "      <th>acquiror_code</th>\n",
       "      <th>target_code</th>\n",
       "      <th>car</th>\n",
       "    </tr>\n",
       "  </thead>\n",
       "  <tbody>\n",
       "    <tr>\n",
       "      <th>0</th>\n",
       "      <td>1631732020</td>\n",
       "      <td>2005-01-01</td>\n",
       "      <td>12.00</td>\n",
       "      <td>3160.41</td>\n",
       "      <td>Plains All American Pipeline LP</td>\n",
       "      <td>PAA</td>\n",
       "      <td>Shell Pipeline Co LP-Crude Oil Pipeline Assets...</td>\n",
       "      <td>United States</td>\n",
       "      <td>United States</td>\n",
       "      <td>Subsidiary</td>\n",
       "      <td>...</td>\n",
       "      <td>100.0</td>\n",
       "      <td>Cash|Cash Only</td>\n",
       "      <td>Friendly</td>\n",
       "      <td>Financial Acquiror|Divestiture</td>\n",
       "      <td>NaN</td>\n",
       "      <td>NaN</td>\n",
       "      <td>Strengthen existing operations/expand presence...</td>\n",
       "      <td>50102030</td>\n",
       "      <td>50103030</td>\n",
       "      <td>0.006854</td>\n",
       "    </tr>\n",
       "    <tr>\n",
       "      <th>1</th>\n",
       "      <td>1653652020</td>\n",
       "      <td>2005-01-01</td>\n",
       "      <td>NaN</td>\n",
       "      <td>1680.57</td>\n",
       "      <td>Regis Corp</td>\n",
       "      <td>RGS</td>\n",
       "      <td>Scot Lewis Schools</td>\n",
       "      <td>United States</td>\n",
       "      <td>United States</td>\n",
       "      <td>Private</td>\n",
       "      <td>...</td>\n",
       "      <td>100.0</td>\n",
       "      <td>Unspecified</td>\n",
       "      <td>Friendly</td>\n",
       "      <td>Not Applicable</td>\n",
       "      <td>NaN</td>\n",
       "      <td>NaN</td>\n",
       "      <td>NaN</td>\n",
       "      <td>54201030</td>\n",
       "      <td>63103010</td>\n",
       "      <td>-0.010266</td>\n",
       "    </tr>\n",
       "    <tr>\n",
       "      <th>2</th>\n",
       "      <td>1949421020</td>\n",
       "      <td>2005-01-01</td>\n",
       "      <td>NaN</td>\n",
       "      <td>3301.76</td>\n",
       "      <td>Google Inc</td>\n",
       "      <td>GOOG</td>\n",
       "      <td>PhatBits</td>\n",
       "      <td>United States</td>\n",
       "      <td>United States</td>\n",
       "      <td>Private</td>\n",
       "      <td>...</td>\n",
       "      <td>100.0</td>\n",
       "      <td>Unspecified</td>\n",
       "      <td>Friendly</td>\n",
       "      <td>Not Applicable</td>\n",
       "      <td>NaN</td>\n",
       "      <td>NaN</td>\n",
       "      <td>NaN</td>\n",
       "      <td>57201030</td>\n",
       "      <td>57201020</td>\n",
       "      <td>0.007746</td>\n",
       "    </tr>\n",
       "    <tr>\n",
       "      <th>3</th>\n",
       "      <td>1652453040</td>\n",
       "      <td>2005-01-01</td>\n",
       "      <td>20.03</td>\n",
       "      <td>371.71</td>\n",
       "      <td>Graco Inc</td>\n",
       "      <td>GGG</td>\n",
       "      <td>Gusmer Europe SL</td>\n",
       "      <td>Spain</td>\n",
       "      <td>United States</td>\n",
       "      <td>Private</td>\n",
       "      <td>...</td>\n",
       "      <td>100.0</td>\n",
       "      <td>Cash|Cash Only</td>\n",
       "      <td>Friendly</td>\n",
       "      <td>Not Applicable</td>\n",
       "      <td>NaN</td>\n",
       "      <td>NaN</td>\n",
       "      <td>NaN</td>\n",
       "      <td>52102010</td>\n",
       "      <td>51101010</td>\n",
       "      <td>-0.011133</td>\n",
       "    </tr>\n",
       "    <tr>\n",
       "      <th>4</th>\n",
       "      <td>2721963020</td>\n",
       "      <td>2005-01-01</td>\n",
       "      <td>18220.52</td>\n",
       "      <td>NaN</td>\n",
       "      <td>Exxon Mobil Corp</td>\n",
       "      <td>XOM</td>\n",
       "      <td>Exxon Mobil Corp</td>\n",
       "      <td>United States</td>\n",
       "      <td>United States</td>\n",
       "      <td>Public</td>\n",
       "      <td>...</td>\n",
       "      <td>5.0</td>\n",
       "      <td>Cash|Cash Only</td>\n",
       "      <td>No Applicable</td>\n",
       "      <td>Open Market Purchase|Privately Negotiated Purc...</td>\n",
       "      <td>NaN</td>\n",
       "      <td>NaN</td>\n",
       "      <td>Other</td>\n",
       "      <td>50102030</td>\n",
       "      <td>50102030</td>\n",
       "      <td>-0.003971</td>\n",
       "    </tr>\n",
       "    <tr>\n",
       "      <th>...</th>\n",
       "      <td>...</td>\n",
       "      <td>...</td>\n",
       "      <td>...</td>\n",
       "      <td>...</td>\n",
       "      <td>...</td>\n",
       "      <td>...</td>\n",
       "      <td>...</td>\n",
       "      <td>...</td>\n",
       "      <td>...</td>\n",
       "      <td>...</td>\n",
       "      <td>...</td>\n",
       "      <td>...</td>\n",
       "      <td>...</td>\n",
       "      <td>...</td>\n",
       "      <td>...</td>\n",
       "      <td>...</td>\n",
       "      <td>...</td>\n",
       "      <td>...</td>\n",
       "      <td>...</td>\n",
       "      <td>...</td>\n",
       "      <td>...</td>\n",
       "    </tr>\n",
       "    <tr>\n",
       "      <th>27267</th>\n",
       "      <td>3791733020</td>\n",
       "      <td>2021-08-30</td>\n",
       "      <td>40.00</td>\n",
       "      <td>2830.00</td>\n",
       "      <td>Chart Industries Inc</td>\n",
       "      <td>GTLS</td>\n",
       "      <td>AdEdge Holdings LLC</td>\n",
       "      <td>United States</td>\n",
       "      <td>United States</td>\n",
       "      <td>Private</td>\n",
       "      <td>...</td>\n",
       "      <td>100.0</td>\n",
       "      <td>Cash Only|Cash</td>\n",
       "      <td>Friendly</td>\n",
       "      <td>Not Applicable</td>\n",
       "      <td>NaN</td>\n",
       "      <td>Raymond James</td>\n",
       "      <td>NaN</td>\n",
       "      <td>52102010</td>\n",
       "      <td>59103010</td>\n",
       "      <td>0.020108</td>\n",
       "    </tr>\n",
       "    <tr>\n",
       "      <th>27268</th>\n",
       "      <td>3791806020</td>\n",
       "      <td>2021-08-30</td>\n",
       "      <td>NaN</td>\n",
       "      <td>2224.71</td>\n",
       "      <td>Patrick Industries Inc</td>\n",
       "      <td>PATK</td>\n",
       "      <td>Tumacs Boat Covers Inc</td>\n",
       "      <td>United States</td>\n",
       "      <td>United States</td>\n",
       "      <td>Private</td>\n",
       "      <td>...</td>\n",
       "      <td>100.0</td>\n",
       "      <td>Unspecified</td>\n",
       "      <td>Friendly</td>\n",
       "      <td>Not Applicable</td>\n",
       "      <td>NaN</td>\n",
       "      <td>NaN</td>\n",
       "      <td>NaN</td>\n",
       "      <td>53203020</td>\n",
       "      <td>53205020</td>\n",
       "      <td>-0.040156</td>\n",
       "    </tr>\n",
       "    <tr>\n",
       "      <th>27269</th>\n",
       "      <td>3793728040</td>\n",
       "      <td>2021-08-30</td>\n",
       "      <td>NaN</td>\n",
       "      <td>21061.02</td>\n",
       "      <td>Sysco Corp</td>\n",
       "      <td>SYY</td>\n",
       "      <td>Cegal AS</td>\n",
       "      <td>Norway</td>\n",
       "      <td>United States</td>\n",
       "      <td>Subsidiary</td>\n",
       "      <td>...</td>\n",
       "      <td>100.0</td>\n",
       "      <td>Unspecified</td>\n",
       "      <td>Friendly</td>\n",
       "      <td>Divestiture</td>\n",
       "      <td>NaN</td>\n",
       "      <td>NaN</td>\n",
       "      <td>NaN</td>\n",
       "      <td>54301020</td>\n",
       "      <td>57201010</td>\n",
       "      <td>-0.003545</td>\n",
       "    </tr>\n",
       "    <tr>\n",
       "      <th>27270</th>\n",
       "      <td>3792444020</td>\n",
       "      <td>2021-08-31</td>\n",
       "      <td>NaN</td>\n",
       "      <td>5295.10</td>\n",
       "      <td>Financial Institutions Inc</td>\n",
       "      <td>FISI</td>\n",
       "      <td>North Woods Capital Benefits LLC</td>\n",
       "      <td>United States</td>\n",
       "      <td>United States</td>\n",
       "      <td>Private</td>\n",
       "      <td>...</td>\n",
       "      <td>100.0</td>\n",
       "      <td>Unspecified</td>\n",
       "      <td>Friendly</td>\n",
       "      <td>Not Applicable</td>\n",
       "      <td>NaN</td>\n",
       "      <td>NaN</td>\n",
       "      <td>NaN</td>\n",
       "      <td>55101010</td>\n",
       "      <td>52203030</td>\n",
       "      <td>-0.025992</td>\n",
       "    </tr>\n",
       "    <tr>\n",
       "      <th>27271</th>\n",
       "      <td>3792794040</td>\n",
       "      <td>2021-08-31</td>\n",
       "      <td>NaN</td>\n",
       "      <td>10092.50</td>\n",
       "      <td>Lithia Motors Inc</td>\n",
       "      <td>LAD</td>\n",
       "      <td>Pfaff Automotive Partners Inc-Leasing Business</td>\n",
       "      <td>Canada</td>\n",
       "      <td>United States</td>\n",
       "      <td>Subsidiary</td>\n",
       "      <td>...</td>\n",
       "      <td>100.0</td>\n",
       "      <td>Unspecified</td>\n",
       "      <td>Friendly</td>\n",
       "      <td>Divestiture</td>\n",
       "      <td>NaN</td>\n",
       "      <td>NaN</td>\n",
       "      <td>NaN</td>\n",
       "      <td>53403010</td>\n",
       "      <td>55101050</td>\n",
       "      <td>-0.000099</td>\n",
       "    </tr>\n",
       "  </tbody>\n",
       "</table>\n",
       "<p>27272 rows × 23 columns</p>\n",
       "</div>"
      ],
      "text/plain": [
       "               id announcement_date  deal_value  acquiror_total_assets  \\\n",
       "0      1631732020        2005-01-01       12.00                3160.41   \n",
       "1      1653652020        2005-01-01         NaN                1680.57   \n",
       "2      1949421020        2005-01-01         NaN                3301.76   \n",
       "3      1652453040        2005-01-01       20.03                 371.71   \n",
       "4      2721963020        2005-01-01    18220.52                    NaN   \n",
       "...           ...               ...         ...                    ...   \n",
       "27267  3791733020        2021-08-30       40.00                2830.00   \n",
       "27268  3791806020        2021-08-30         NaN                2224.71   \n",
       "27269  3793728040        2021-08-30         NaN               21061.02   \n",
       "27270  3792444020        2021-08-31         NaN                5295.10   \n",
       "27271  3792794040        2021-08-31         NaN               10092.50   \n",
       "\n",
       "                         acquiror_name acquiror_ticker  \\\n",
       "0      Plains All American Pipeline LP             PAA   \n",
       "1                           Regis Corp             RGS   \n",
       "2                           Google Inc            GOOG   \n",
       "3                            Graco Inc             GGG   \n",
       "4                     Exxon Mobil Corp             XOM   \n",
       "...                                ...             ...   \n",
       "27267             Chart Industries Inc            GTLS   \n",
       "27268           Patrick Industries Inc            PATK   \n",
       "27269                       Sysco Corp             SYY   \n",
       "27270       Financial Institutions Inc            FISI   \n",
       "27271                Lithia Motors Inc             LAD   \n",
       "\n",
       "                                             target_name  target_nation  \\\n",
       "0      Shell Pipeline Co LP-Crude Oil Pipeline Assets...  United States   \n",
       "1                                     Scot Lewis Schools  United States   \n",
       "2                                               PhatBits  United States   \n",
       "3                                       Gusmer Europe SL          Spain   \n",
       "4                                       Exxon Mobil Corp  United States   \n",
       "...                                                  ...            ...   \n",
       "27267                                AdEdge Holdings LLC  United States   \n",
       "27268                             Tumacs Boat Covers Inc  United States   \n",
       "27269                                           Cegal AS         Norway   \n",
       "27270                   North Woods Capital Benefits LLC  United States   \n",
       "27271     Pfaff Automotive Partners Inc-Leasing Business         Canada   \n",
       "\n",
       "      acquiror_nation target_status  ... shares_acquired  \\\n",
       "0       United States    Subsidiary  ...           100.0   \n",
       "1       United States       Private  ...           100.0   \n",
       "2       United States       Private  ...           100.0   \n",
       "3       United States       Private  ...           100.0   \n",
       "4       United States        Public  ...             5.0   \n",
       "...               ...           ...  ...             ...   \n",
       "27267   United States       Private  ...           100.0   \n",
       "27268   United States       Private  ...           100.0   \n",
       "27269   United States    Subsidiary  ...           100.0   \n",
       "27270   United States       Private  ...           100.0   \n",
       "27271   United States    Subsidiary  ...           100.0   \n",
       "\n",
       "      consideration_offered       attitude  \\\n",
       "0            Cash|Cash Only       Friendly   \n",
       "1               Unspecified       Friendly   \n",
       "2               Unspecified       Friendly   \n",
       "3            Cash|Cash Only       Friendly   \n",
       "4            Cash|Cash Only  No Applicable   \n",
       "...                     ...            ...   \n",
       "27267        Cash Only|Cash       Friendly   \n",
       "27268           Unspecified       Friendly   \n",
       "27269           Unspecified       Friendly   \n",
       "27270           Unspecified       Friendly   \n",
       "27271           Unspecified       Friendly   \n",
       "\n",
       "                                   acquisition_technique  \\\n",
       "0                         Financial Acquiror|Divestiture   \n",
       "1                                         Not Applicable   \n",
       "2                                         Not Applicable   \n",
       "3                                         Not Applicable   \n",
       "4      Open Market Purchase|Privately Negotiated Purc...   \n",
       "...                                                  ...   \n",
       "27267                                     Not Applicable   \n",
       "27268                                     Not Applicable   \n",
       "27269                                        Divestiture   \n",
       "27270                                     Not Applicable   \n",
       "27271                                        Divestiture   \n",
       "\n",
       "      acquiror_financial_advisor target_financial_advisor  \\\n",
       "0                            NaN                      NaN   \n",
       "1                            NaN                      NaN   \n",
       "2                            NaN                      NaN   \n",
       "3                            NaN                      NaN   \n",
       "4                            NaN                      NaN   \n",
       "...                          ...                      ...   \n",
       "27267                        NaN            Raymond James   \n",
       "27268                        NaN                      NaN   \n",
       "27269                        NaN                      NaN   \n",
       "27270                        NaN                      NaN   \n",
       "27271                        NaN                      NaN   \n",
       "\n",
       "                                                 purpose acquiror_code  \\\n",
       "0      Strengthen existing operations/expand presence...      50102030   \n",
       "1                                                    NaN      54201030   \n",
       "2                                                    NaN      57201030   \n",
       "3                                                    NaN      52102010   \n",
       "4                                                  Other      50102030   \n",
       "...                                                  ...           ...   \n",
       "27267                                                NaN      52102010   \n",
       "27268                                                NaN      53203020   \n",
       "27269                                                NaN      54301020   \n",
       "27270                                                NaN      55101010   \n",
       "27271                                                NaN      53403010   \n",
       "\n",
       "      target_code       car  \n",
       "0        50103030  0.006854  \n",
       "1        63103010 -0.010266  \n",
       "2        57201020  0.007746  \n",
       "3        51101010 -0.011133  \n",
       "4        50102030 -0.003971  \n",
       "...           ...       ...  \n",
       "27267    59103010  0.020108  \n",
       "27268    53205020 -0.040156  \n",
       "27269    57201010 -0.003545  \n",
       "27270    52203030 -0.025992  \n",
       "27271    55101050 -0.000099  \n",
       "\n",
       "[27272 rows x 23 columns]"
      ]
     },
     "execution_count": 92,
     "metadata": {},
     "output_type": "execute_result"
    }
   ],
   "source": [
    "data_orig"
   ]
  },
  {
   "cell_type": "code",
   "execution_count": 91,
   "id": "de327ade",
   "metadata": {},
   "outputs": [
    {
     "data": {
      "text/plain": [
       "8813"
      ]
     },
     "execution_count": 91,
     "metadata": {},
     "output_type": "execute_result"
    }
   ],
   "source": [
    "data_orig.car.isna().sum()"
   ]
  },
  {
   "cell_type": "markdown",
   "id": "d83597b2",
   "metadata": {},
   "source": [
    "# Exploration of the CAR variable"
   ]
  },
  {
   "cell_type": "code",
   "execution_count": 85,
   "id": "d2b6442b",
   "metadata": {},
   "outputs": [
    {
     "data": {
      "text/plain": [
       "8813"
      ]
     },
     "execution_count": 85,
     "metadata": {},
     "output_type": "execute_result"
    }
   ],
   "source": [
    "data_orig.car.isna().sum()"
   ]
  },
  {
   "cell_type": "code",
   "execution_count": 71,
   "id": "d9499a58",
   "metadata": {},
   "outputs": [],
   "source": [
    "data = data_orig[(data_orig.car > -0.15) & (data_orig.car < 0.15)]"
   ]
  },
  {
   "cell_type": "code",
   "execution_count": 72,
   "id": "34470954",
   "metadata": {},
   "outputs": [
    {
     "data": {
      "text/plain": [
       "count    3193.000000\n",
       "mean        0.004198\n",
       "std         0.042714\n",
       "min        -0.145614\n",
       "25%        -0.015590\n",
       "50%         0.001033\n",
       "75%         0.023939\n",
       "max         0.148835\n",
       "Name: car, dtype: float64"
      ]
     },
     "execution_count": 72,
     "metadata": {},
     "output_type": "execute_result"
    }
   ],
   "source": [
    "data.car.describe()"
   ]
  },
  {
   "cell_type": "code",
   "execution_count": 59,
   "id": "6a8b8f64",
   "metadata": {},
   "outputs": [
    {
     "data": {
      "text/plain": [
       "3193"
      ]
     },
     "execution_count": 59,
     "metadata": {},
     "output_type": "execute_result"
    }
   ],
   "source": [
    "len(data)"
   ]
  },
  {
   "cell_type": "markdown",
   "id": "9af5b017",
   "metadata": {},
   "source": [
    "# Exploration of the other variables "
   ]
  },
  {
   "cell_type": "markdown",
   "id": "fa78893d",
   "metadata": {},
   "source": [
    "The deal_value:"
   ]
  },
  {
   "cell_type": "code",
   "execution_count": 60,
   "id": "2b62d486",
   "metadata": {
    "scrolled": true
   },
   "outputs": [
    {
     "data": {
      "text/plain": [
       "count     3193.000000\n",
       "mean      1319.498597\n",
       "std       4640.015751\n",
       "min          0.070000\n",
       "25%         62.110000\n",
       "50%        255.000000\n",
       "75%        800.000000\n",
       "max      79406.460000\n",
       "Name: deal_value, dtype: float64"
      ]
     },
     "execution_count": 60,
     "metadata": {},
     "output_type": "execute_result"
    }
   ],
   "source": [
    "data.deal_value.describe()"
   ]
  },
  {
   "cell_type": "code",
   "execution_count": 65,
   "id": "19a8f111",
   "metadata": {},
   "outputs": [
    {
     "data": {
      "text/plain": [
       "3193"
      ]
     },
     "execution_count": 65,
     "metadata": {},
     "output_type": "execute_result"
    }
   ],
   "source": [
    "data.deal_value.isna().count()"
   ]
  },
  {
   "cell_type": "code",
   "execution_count": 69,
   "id": "3a675253",
   "metadata": {
    "scrolled": false
   },
   "outputs": [],
   "source": [
    "fin_feat = ['deal_value', 'acquiror_total_assets']\n",
    "for feat in fin_feat:\n",
    "    data = data[data[feat].notna()]"
   ]
  },
  {
   "cell_type": "code",
   "execution_count": 66,
   "id": "72044018",
   "metadata": {},
   "outputs": [],
   "source": [
    "data = data[data['deal_value'].notna()]"
   ]
  },
  {
   "cell_type": "code",
   "execution_count": 67,
   "id": "bde47e15",
   "metadata": {},
   "outputs": [
    {
     "data": {
      "text/plain": [
       "3193"
      ]
     },
     "execution_count": 67,
     "metadata": {},
     "output_type": "execute_result"
    }
   ],
   "source": [
    "len(data)"
   ]
  },
  {
   "cell_type": "code",
   "execution_count": null,
   "id": "1b8b6e04",
   "metadata": {},
   "outputs": [],
   "source": [
    "sns.histplot(data['deal_value'], kde=True, stat='density', discrete=True)"
   ]
  },
  {
   "cell_type": "code",
   "execution_count": 8,
   "id": "8f6b6c8b",
   "metadata": {},
   "outputs": [
    {
     "data": {
      "image/png": "[encoded data removed]",
      "text/plain": [
       "<Figure size 360x360 with 1 Axes>"
      ]
     },
     "metadata": {},
     "output_type": "display_data"
    }
   ],
   "source": [
    "sns.relplot(x=\"deal_value\", y=\"car\", data=data);"
   ]
  },
  {
   "cell_type": "markdown",
   "id": "7993f231",
   "metadata": {},
   "source": [
    "The acquiror_total_assets:"
   ]
  },
  {
   "cell_type": "code",
   "execution_count": null,
   "id": "07fbd5c7",
   "metadata": {},
   "outputs": [],
   "source": [
    "data.acquiror_total_assets.describe()"
   ]
  },
  {
   "cell_type": "code",
   "execution_count": null,
   "id": "ec0e3994",
   "metadata": {},
   "outputs": [],
   "source": [
    "plot_dist(data['acquiror_total_assets'])"
   ]
  },
  {
   "cell_type": "code",
   "execution_count": null,
   "id": "efccdc74",
   "metadata": {},
   "outputs": [],
   "source": [
    "sns.relplot(x=\"acquiror_total_assets\", y=\"car\", data=data);"
   ]
  },
  {
   "cell_type": "markdown",
   "id": "d05db327",
   "metadata": {},
   "source": [
    "The acquiror_ticker:"
   ]
  },
  {
   "cell_type": "code",
   "execution_count": null,
   "id": "9b242816",
   "metadata": {},
   "outputs": [],
   "source": [
    "data.acquiror_ticker.describe()"
   ]
  },
  {
   "cell_type": "code",
   "execution_count": null,
   "id": "b0292c58",
   "metadata": {},
   "outputs": [],
   "source": [
    "plot_dist(data['acquiror_ticker'])"
   ]
  },
  {
   "cell_type": "code",
   "execution_count": null,
   "id": "4ca1c2e8",
   "metadata": {},
   "outputs": [],
   "source": [
    "sns.relplot(x=\"acquiror_ticker\", y=\"car\", data=data);"
   ]
  },
  {
   "cell_type": "markdown",
   "id": "ca1ef523",
   "metadata": {},
   "source": [
    "The target_name:"
   ]
  },
  {
   "cell_type": "code",
   "execution_count": null,
   "id": "86be99ad",
   "metadata": {},
   "outputs": [],
   "source": [
    "data.target_name.describe()"
   ]
  },
  {
   "cell_type": "code",
   "execution_count": null,
   "id": "3e17e617",
   "metadata": {},
   "outputs": [],
   "source": [
    "plot_dist(data['target_name'])"
   ]
  },
  {
   "cell_type": "code",
   "execution_count": null,
   "id": "2bdb2c46",
   "metadata": {},
   "outputs": [],
   "source": [
    "sns.relplot(x=\"target_name\", y=\"car\", data=data);"
   ]
  },
  {
   "cell_type": "markdown",
   "id": "00c432c8",
   "metadata": {},
   "source": [
    "The target_nation: "
   ]
  },
  {
   "cell_type": "code",
   "execution_count": null,
   "id": "5caed47c",
   "metadata": {},
   "outputs": [],
   "source": [
    "data.target_nation.describe()"
   ]
  },
  {
   "cell_type": "code",
   "execution_count": null,
   "id": "20e253c7",
   "metadata": {},
   "outputs": [],
   "source": [
    "plot_dist(data['target_nation'])"
   ]
  },
  {
   "cell_type": "code",
   "execution_count": null,
   "id": "2a8f7bb4",
   "metadata": {},
   "outputs": [],
   "source": []
  }
 ],
 "metadata": {
  "kernelspec": {
   "display_name": "Python 3 (ipykernel)",
   "language": "python",
   "name": "python3"
  },
  "language_info": {
   "codemirror_mode": {
    "name": "ipython",
    "version": 3
   },
   "file_extension": ".py",
   "mimetype": "text/x-python",
   "name": "python",
   "nbconvert_exporter": "python",
   "pygments_lexer": "ipython3",
   "version": "3.8.6"
  },
  "toc": {
   "base_numbering": 1,
   "nav_menu": {},
   "number_sections": true,
   "sideBar": true,
   "skip_h1_title": false,
   "title_cell": "Table of Contents",
   "title_sidebar": "Contents",
   "toc_cell": false,
   "toc_position": {},
   "toc_section_display": true,
   "toc_window_display": false
  }
 },
 "nbformat": 4,
 "nbformat_minor": 5
}
