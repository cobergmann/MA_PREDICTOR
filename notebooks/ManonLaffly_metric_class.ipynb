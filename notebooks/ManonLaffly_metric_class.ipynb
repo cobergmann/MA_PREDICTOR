{
 "cells": [
  {
   "cell_type": "code",
   "execution_count": 13,
   "id": "18bfa8f4",
   "metadata": {
    "ExecuteTime": {
     "end_time": "2021-09-14T09:41:53.801386Z",
     "start_time": "2021-09-14T09:41:53.451798Z"
    }
   },
   "outputs": [],
   "source": [
    "import pandas as pd\n",
    "import numpy as np\n",
    "from sklearn.metrics import make_scorer\n",
    "from sklearn.preprocessing import OneHotEncoder\n",
    "from sklearn.compose import ColumnTransformer\n",
    "from sklearn.model_selection import train_test_split\n",
    "from sklearn.linear_model import LinearRegression\n",
    "from sklearn.model_selection import cross_val_score\n",
    "from sklearn.pipeline import Pipeline\n",
    "from sklearn.ensemble import RandomForestRegressor\n",
    "from xgboost import XGBRegressor\n",
    "from sklearn.metrics import r2_score,mean_squared_error\n",
    "from sklearn.model_selection import GridSearchCV\n",
    "from sklearn.linear_model import ElasticNet\n",
    "from sklearn.dummy import DummyRegressor\n",
    "import xgboost as xgb"
   ]
  },
  {
   "cell_type": "code",
   "execution_count": 2,
   "id": "de01c331",
   "metadata": {
    "ExecuteTime": {
     "end_time": "2021-09-14T09:20:40.012671Z",
     "start_time": "2021-09-14T09:20:39.855839Z"
    }
   },
   "outputs": [
    {
     "name": "stdout",
     "output_type": "stream",
     "text": [
      "/Users/manonlaffly/code/cobergmann/MA_PREDICTOR/notebooks\r\n"
     ]
    }
   ],
   "source": [
    "!pwd"
   ]
  },
  {
   "cell_type": "code",
   "execution_count": 3,
   "id": "c3f19087",
   "metadata": {
    "ExecuteTime": {
     "end_time": "2021-09-14T09:21:14.097959Z",
     "start_time": "2021-09-14T09:21:13.963660Z"
    }
   },
   "outputs": [],
   "source": [
    "data= pd.read_csv(\"../MA_PREDICTOR/data/ma_data_car_clean.csv\")"
   ]
  },
  {
   "cell_type": "code",
   "execution_count": 4,
   "id": "7341e3d0",
   "metadata": {
    "ExecuteTime": {
     "end_time": "2021-09-14T09:21:19.525766Z",
     "start_time": "2021-09-14T09:21:19.428461Z"
    }
   },
   "outputs": [
    {
     "data": {
      "text/html": [
       "<div>\n",
       "<style scoped>\n",
       "    .dataframe tbody tr th:only-of-type {\n",
       "        vertical-align: middle;\n",
       "    }\n",
       "\n",
       "    .dataframe tbody tr th {\n",
       "        vertical-align: top;\n",
       "    }\n",
       "\n",
       "    .dataframe thead th {\n",
       "        text-align: right;\n",
       "    }\n",
       "</style>\n",
       "<table border=\"1\" class=\"dataframe\">\n",
       "  <thead>\n",
       "    <tr style=\"text-align: right;\">\n",
       "      <th></th>\n",
       "      <th>consideration_offered</th>\n",
       "      <th>shares_acquired</th>\n",
       "      <th>shares_at_announcement</th>\n",
       "      <th>acquiror_code</th>\n",
       "      <th>target_code</th>\n",
       "      <th>target_status</th>\n",
       "      <th>month</th>\n",
       "      <th>cross_border</th>\n",
       "      <th>relatedness</th>\n",
       "      <th>economic_sector_ac</th>\n",
       "      <th>business_sector_ac</th>\n",
       "      <th>economic_sector_target</th>\n",
       "      <th>business_sector_target</th>\n",
       "      <th>car</th>\n",
       "    </tr>\n",
       "  </thead>\n",
       "  <tbody>\n",
       "    <tr>\n",
       "      <th>0</th>\n",
       "      <td>Cash</td>\n",
       "      <td>full</td>\n",
       "      <td>no</td>\n",
       "      <td>50102030</td>\n",
       "      <td>50103030</td>\n",
       "      <td>others</td>\n",
       "      <td>1</td>\n",
       "      <td>cross_border</td>\n",
       "      <td>business_sector</td>\n",
       "      <td>Energy</td>\n",
       "      <td>Energy - Fossil Fuels</td>\n",
       "      <td>Energy</td>\n",
       "      <td>Energy - Fossil Fuels</td>\n",
       "      <td>0.006854</td>\n",
       "    </tr>\n",
       "    <tr>\n",
       "      <th>1</th>\n",
       "      <td>Other</td>\n",
       "      <td>full</td>\n",
       "      <td>no</td>\n",
       "      <td>54201030</td>\n",
       "      <td>63103010</td>\n",
       "      <td>others</td>\n",
       "      <td>1</td>\n",
       "      <td>cross_border</td>\n",
       "      <td>not_related</td>\n",
       "      <td>Consumer Non-Cyclicals</td>\n",
       "      <td>Personal &amp; Household Products &amp; Services</td>\n",
       "      <td>Academic &amp; Educational Services</td>\n",
       "      <td>Academic &amp; Educational Services</td>\n",
       "      <td>-0.010266</td>\n",
       "    </tr>\n",
       "    <tr>\n",
       "      <th>2</th>\n",
       "      <td>Other</td>\n",
       "      <td>full</td>\n",
       "      <td>no</td>\n",
       "      <td>57201030</td>\n",
       "      <td>57201020</td>\n",
       "      <td>others</td>\n",
       "      <td>1</td>\n",
       "      <td>cross_border</td>\n",
       "      <td>industry_group</td>\n",
       "      <td>Technology</td>\n",
       "      <td>Software &amp; IT Services</td>\n",
       "      <td>Technology</td>\n",
       "      <td>Software &amp; IT Services</td>\n",
       "      <td>0.007746</td>\n",
       "    </tr>\n",
       "    <tr>\n",
       "      <th>3</th>\n",
       "      <td>Cash</td>\n",
       "      <td>full</td>\n",
       "      <td>no</td>\n",
       "      <td>52102010</td>\n",
       "      <td>51101010</td>\n",
       "      <td>others</td>\n",
       "      <td>1</td>\n",
       "      <td>national</td>\n",
       "      <td>not_related</td>\n",
       "      <td>Industrials</td>\n",
       "      <td>Industrial Goods</td>\n",
       "      <td>Basic Materials</td>\n",
       "      <td>Chemicals</td>\n",
       "      <td>-0.011133</td>\n",
       "    </tr>\n",
       "    <tr>\n",
       "      <th>4</th>\n",
       "      <td>Cash</td>\n",
       "      <td>not_full</td>\n",
       "      <td>no</td>\n",
       "      <td>50102030</td>\n",
       "      <td>50102030</td>\n",
       "      <td>public</td>\n",
       "      <td>1</td>\n",
       "      <td>cross_border</td>\n",
       "      <td>industry</td>\n",
       "      <td>Energy</td>\n",
       "      <td>Energy - Fossil Fuels</td>\n",
       "      <td>Energy</td>\n",
       "      <td>Energy - Fossil Fuels</td>\n",
       "      <td>-0.003971</td>\n",
       "    </tr>\n",
       "    <tr>\n",
       "      <th>...</th>\n",
       "      <td>...</td>\n",
       "      <td>...</td>\n",
       "      <td>...</td>\n",
       "      <td>...</td>\n",
       "      <td>...</td>\n",
       "      <td>...</td>\n",
       "      <td>...</td>\n",
       "      <td>...</td>\n",
       "      <td>...</td>\n",
       "      <td>...</td>\n",
       "      <td>...</td>\n",
       "      <td>...</td>\n",
       "      <td>...</td>\n",
       "      <td>...</td>\n",
       "    </tr>\n",
       "    <tr>\n",
       "      <th>18219</th>\n",
       "      <td>Cash</td>\n",
       "      <td>full</td>\n",
       "      <td>no</td>\n",
       "      <td>52102010</td>\n",
       "      <td>59103010</td>\n",
       "      <td>others</td>\n",
       "      <td>8</td>\n",
       "      <td>cross_border</td>\n",
       "      <td>not_related</td>\n",
       "      <td>Industrials</td>\n",
       "      <td>Industrial Goods</td>\n",
       "      <td>Utilities</td>\n",
       "      <td>Utilities</td>\n",
       "      <td>0.020108</td>\n",
       "    </tr>\n",
       "    <tr>\n",
       "      <th>18220</th>\n",
       "      <td>Other</td>\n",
       "      <td>full</td>\n",
       "      <td>no</td>\n",
       "      <td>53203020</td>\n",
       "      <td>53205020</td>\n",
       "      <td>others</td>\n",
       "      <td>8</td>\n",
       "      <td>cross_border</td>\n",
       "      <td>business_sector</td>\n",
       "      <td>Consumer Cyclicals</td>\n",
       "      <td>Cyclical Consumer Products</td>\n",
       "      <td>Consumer Cyclicals</td>\n",
       "      <td>Cyclical Consumer Products</td>\n",
       "      <td>-0.040156</td>\n",
       "    </tr>\n",
       "    <tr>\n",
       "      <th>18221</th>\n",
       "      <td>Other</td>\n",
       "      <td>full</td>\n",
       "      <td>no</td>\n",
       "      <td>54301020</td>\n",
       "      <td>57201010</td>\n",
       "      <td>others</td>\n",
       "      <td>8</td>\n",
       "      <td>national</td>\n",
       "      <td>not_related</td>\n",
       "      <td>Consumer Non-Cyclicals</td>\n",
       "      <td>Food &amp; Drug Retailing</td>\n",
       "      <td>Technology</td>\n",
       "      <td>Software &amp; IT Services</td>\n",
       "      <td>-0.003545</td>\n",
       "    </tr>\n",
       "    <tr>\n",
       "      <th>18222</th>\n",
       "      <td>Other</td>\n",
       "      <td>full</td>\n",
       "      <td>no</td>\n",
       "      <td>55101010</td>\n",
       "      <td>52203030</td>\n",
       "      <td>others</td>\n",
       "      <td>8</td>\n",
       "      <td>cross_border</td>\n",
       "      <td>not_related</td>\n",
       "      <td>Financials</td>\n",
       "      <td>Banking &amp; Investment Services</td>\n",
       "      <td>Industrials</td>\n",
       "      <td>Industrial &amp; Commercial Services</td>\n",
       "      <td>-0.025992</td>\n",
       "    </tr>\n",
       "    <tr>\n",
       "      <th>18223</th>\n",
       "      <td>Other</td>\n",
       "      <td>full</td>\n",
       "      <td>no</td>\n",
       "      <td>53403010</td>\n",
       "      <td>55101050</td>\n",
       "      <td>others</td>\n",
       "      <td>8</td>\n",
       "      <td>national</td>\n",
       "      <td>not_related</td>\n",
       "      <td>Consumer Cyclicals</td>\n",
       "      <td>Retailers</td>\n",
       "      <td>Financials</td>\n",
       "      <td>Banking &amp; Investment Services</td>\n",
       "      <td>-0.000099</td>\n",
       "    </tr>\n",
       "  </tbody>\n",
       "</table>\n",
       "<p>18224 rows × 14 columns</p>\n",
       "</div>"
      ],
      "text/plain": [
       "      consideration_offered shares_acquired shares_at_announcement  \\\n",
       "0                      Cash            full                     no   \n",
       "1                     Other            full                     no   \n",
       "2                     Other            full                     no   \n",
       "3                      Cash            full                     no   \n",
       "4                      Cash        not_full                     no   \n",
       "...                     ...             ...                    ...   \n",
       "18219                  Cash            full                     no   \n",
       "18220                 Other            full                     no   \n",
       "18221                 Other            full                     no   \n",
       "18222                 Other            full                     no   \n",
       "18223                 Other            full                     no   \n",
       "\n",
       "       acquiror_code  target_code target_status  month  cross_border  \\\n",
       "0           50102030     50103030        others      1  cross_border   \n",
       "1           54201030     63103010        others      1  cross_border   \n",
       "2           57201030     57201020        others      1  cross_border   \n",
       "3           52102010     51101010        others      1      national   \n",
       "4           50102030     50102030        public      1  cross_border   \n",
       "...              ...          ...           ...    ...           ...   \n",
       "18219       52102010     59103010        others      8  cross_border   \n",
       "18220       53203020     53205020        others      8  cross_border   \n",
       "18221       54301020     57201010        others      8      national   \n",
       "18222       55101010     52203030        others      8  cross_border   \n",
       "18223       53403010     55101050        others      8      national   \n",
       "\n",
       "           relatedness      economic_sector_ac  \\\n",
       "0      business_sector                  Energy   \n",
       "1          not_related  Consumer Non-Cyclicals   \n",
       "2       industry_group              Technology   \n",
       "3          not_related             Industrials   \n",
       "4             industry                  Energy   \n",
       "...                ...                     ...   \n",
       "18219      not_related             Industrials   \n",
       "18220  business_sector      Consumer Cyclicals   \n",
       "18221      not_related  Consumer Non-Cyclicals   \n",
       "18222      not_related              Financials   \n",
       "18223      not_related      Consumer Cyclicals   \n",
       "\n",
       "                             business_sector_ac  \\\n",
       "0                         Energy - Fossil Fuels   \n",
       "1      Personal & Household Products & Services   \n",
       "2                        Software & IT Services   \n",
       "3                              Industrial Goods   \n",
       "4                         Energy - Fossil Fuels   \n",
       "...                                         ...   \n",
       "18219                          Industrial Goods   \n",
       "18220                Cyclical Consumer Products   \n",
       "18221                     Food & Drug Retailing   \n",
       "18222             Banking & Investment Services   \n",
       "18223                                 Retailers   \n",
       "\n",
       "                economic_sector_target            business_sector_target  \\\n",
       "0                               Energy             Energy - Fossil Fuels   \n",
       "1      Academic & Educational Services   Academic & Educational Services   \n",
       "2                           Technology            Software & IT Services   \n",
       "3                      Basic Materials                         Chemicals   \n",
       "4                               Energy             Energy - Fossil Fuels   \n",
       "...                                ...                               ...   \n",
       "18219                        Utilities                         Utilities   \n",
       "18220               Consumer Cyclicals        Cyclical Consumer Products   \n",
       "18221                       Technology            Software & IT Services   \n",
       "18222                      Industrials  Industrial & Commercial Services   \n",
       "18223                       Financials     Banking & Investment Services   \n",
       "\n",
       "            car  \n",
       "0      0.006854  \n",
       "1     -0.010266  \n",
       "2      0.007746  \n",
       "3     -0.011133  \n",
       "4     -0.003971  \n",
       "...         ...  \n",
       "18219  0.020108  \n",
       "18220 -0.040156  \n",
       "18221 -0.003545  \n",
       "18222 -0.025992  \n",
       "18223 -0.000099  \n",
       "\n",
       "[18224 rows x 14 columns]"
      ]
     },
     "execution_count": 4,
     "metadata": {},
     "output_type": "execute_result"
    }
   ],
   "source": [
    "data"
   ]
  },
  {
   "cell_type": "markdown",
   "id": "844ced28",
   "metadata": {},
   "source": [
    "# Adding one binary column"
   ]
  },
  {
   "cell_type": "code",
   "execution_count": 6,
   "id": "f0f558cc",
   "metadata": {
    "ExecuteTime": {
     "end_time": "2021-09-14T09:29:38.111463Z",
     "start_time": "2021-09-14T09:29:38.078042Z"
    }
   },
   "outputs": [],
   "source": [
    "data['car_positive'] = np.where(data['car'] > 0, 1, 0)"
   ]
  },
  {
   "cell_type": "code",
   "execution_count": 7,
   "id": "2cdccb93",
   "metadata": {
    "ExecuteTime": {
     "end_time": "2021-09-14T09:29:43.394643Z",
     "start_time": "2021-09-14T09:29:43.298977Z"
    },
    "scrolled": true
   },
   "outputs": [
    {
     "data": {
      "text/html": [
       "<div>\n",
       "<style scoped>\n",
       "    .dataframe tbody tr th:only-of-type {\n",
       "        vertical-align: middle;\n",
       "    }\n",
       "\n",
       "    .dataframe tbody tr th {\n",
       "        vertical-align: top;\n",
       "    }\n",
       "\n",
       "    .dataframe thead th {\n",
       "        text-align: right;\n",
       "    }\n",
       "</style>\n",
       "<table border=\"1\" class=\"dataframe\">\n",
       "  <thead>\n",
       "    <tr style=\"text-align: right;\">\n",
       "      <th></th>\n",
       "      <th>consideration_offered</th>\n",
       "      <th>shares_acquired</th>\n",
       "      <th>shares_at_announcement</th>\n",
       "      <th>acquiror_code</th>\n",
       "      <th>target_code</th>\n",
       "      <th>target_status</th>\n",
       "      <th>month</th>\n",
       "      <th>cross_border</th>\n",
       "      <th>relatedness</th>\n",
       "      <th>economic_sector_ac</th>\n",
       "      <th>business_sector_ac</th>\n",
       "      <th>economic_sector_target</th>\n",
       "      <th>business_sector_target</th>\n",
       "      <th>car</th>\n",
       "      <th>car_positive</th>\n",
       "    </tr>\n",
       "  </thead>\n",
       "  <tbody>\n",
       "    <tr>\n",
       "      <th>0</th>\n",
       "      <td>Cash</td>\n",
       "      <td>full</td>\n",
       "      <td>no</td>\n",
       "      <td>50102030</td>\n",
       "      <td>50103030</td>\n",
       "      <td>others</td>\n",
       "      <td>1</td>\n",
       "      <td>cross_border</td>\n",
       "      <td>business_sector</td>\n",
       "      <td>Energy</td>\n",
       "      <td>Energy - Fossil Fuels</td>\n",
       "      <td>Energy</td>\n",
       "      <td>Energy - Fossil Fuels</td>\n",
       "      <td>0.006854</td>\n",
       "      <td>1</td>\n",
       "    </tr>\n",
       "    <tr>\n",
       "      <th>1</th>\n",
       "      <td>Other</td>\n",
       "      <td>full</td>\n",
       "      <td>no</td>\n",
       "      <td>54201030</td>\n",
       "      <td>63103010</td>\n",
       "      <td>others</td>\n",
       "      <td>1</td>\n",
       "      <td>cross_border</td>\n",
       "      <td>not_related</td>\n",
       "      <td>Consumer Non-Cyclicals</td>\n",
       "      <td>Personal &amp; Household Products &amp; Services</td>\n",
       "      <td>Academic &amp; Educational Services</td>\n",
       "      <td>Academic &amp; Educational Services</td>\n",
       "      <td>-0.010266</td>\n",
       "      <td>0</td>\n",
       "    </tr>\n",
       "    <tr>\n",
       "      <th>2</th>\n",
       "      <td>Other</td>\n",
       "      <td>full</td>\n",
       "      <td>no</td>\n",
       "      <td>57201030</td>\n",
       "      <td>57201020</td>\n",
       "      <td>others</td>\n",
       "      <td>1</td>\n",
       "      <td>cross_border</td>\n",
       "      <td>industry_group</td>\n",
       "      <td>Technology</td>\n",
       "      <td>Software &amp; IT Services</td>\n",
       "      <td>Technology</td>\n",
       "      <td>Software &amp; IT Services</td>\n",
       "      <td>0.007746</td>\n",
       "      <td>1</td>\n",
       "    </tr>\n",
       "    <tr>\n",
       "      <th>3</th>\n",
       "      <td>Cash</td>\n",
       "      <td>full</td>\n",
       "      <td>no</td>\n",
       "      <td>52102010</td>\n",
       "      <td>51101010</td>\n",
       "      <td>others</td>\n",
       "      <td>1</td>\n",
       "      <td>national</td>\n",
       "      <td>not_related</td>\n",
       "      <td>Industrials</td>\n",
       "      <td>Industrial Goods</td>\n",
       "      <td>Basic Materials</td>\n",
       "      <td>Chemicals</td>\n",
       "      <td>-0.011133</td>\n",
       "      <td>0</td>\n",
       "    </tr>\n",
       "    <tr>\n",
       "      <th>4</th>\n",
       "      <td>Cash</td>\n",
       "      <td>not_full</td>\n",
       "      <td>no</td>\n",
       "      <td>50102030</td>\n",
       "      <td>50102030</td>\n",
       "      <td>public</td>\n",
       "      <td>1</td>\n",
       "      <td>cross_border</td>\n",
       "      <td>industry</td>\n",
       "      <td>Energy</td>\n",
       "      <td>Energy - Fossil Fuels</td>\n",
       "      <td>Energy</td>\n",
       "      <td>Energy - Fossil Fuels</td>\n",
       "      <td>-0.003971</td>\n",
       "      <td>0</td>\n",
       "    </tr>\n",
       "    <tr>\n",
       "      <th>...</th>\n",
       "      <td>...</td>\n",
       "      <td>...</td>\n",
       "      <td>...</td>\n",
       "      <td>...</td>\n",
       "      <td>...</td>\n",
       "      <td>...</td>\n",
       "      <td>...</td>\n",
       "      <td>...</td>\n",
       "      <td>...</td>\n",
       "      <td>...</td>\n",
       "      <td>...</td>\n",
       "      <td>...</td>\n",
       "      <td>...</td>\n",
       "      <td>...</td>\n",
       "      <td>...</td>\n",
       "    </tr>\n",
       "    <tr>\n",
       "      <th>18219</th>\n",
       "      <td>Cash</td>\n",
       "      <td>full</td>\n",
       "      <td>no</td>\n",
       "      <td>52102010</td>\n",
       "      <td>59103010</td>\n",
       "      <td>others</td>\n",
       "      <td>8</td>\n",
       "      <td>cross_border</td>\n",
       "      <td>not_related</td>\n",
       "      <td>Industrials</td>\n",
       "      <td>Industrial Goods</td>\n",
       "      <td>Utilities</td>\n",
       "      <td>Utilities</td>\n",
       "      <td>0.020108</td>\n",
       "      <td>1</td>\n",
       "    </tr>\n",
       "    <tr>\n",
       "      <th>18220</th>\n",
       "      <td>Other</td>\n",
       "      <td>full</td>\n",
       "      <td>no</td>\n",
       "      <td>53203020</td>\n",
       "      <td>53205020</td>\n",
       "      <td>others</td>\n",
       "      <td>8</td>\n",
       "      <td>cross_border</td>\n",
       "      <td>business_sector</td>\n",
       "      <td>Consumer Cyclicals</td>\n",
       "      <td>Cyclical Consumer Products</td>\n",
       "      <td>Consumer Cyclicals</td>\n",
       "      <td>Cyclical Consumer Products</td>\n",
       "      <td>-0.040156</td>\n",
       "      <td>0</td>\n",
       "    </tr>\n",
       "    <tr>\n",
       "      <th>18221</th>\n",
       "      <td>Other</td>\n",
       "      <td>full</td>\n",
       "      <td>no</td>\n",
       "      <td>54301020</td>\n",
       "      <td>57201010</td>\n",
       "      <td>others</td>\n",
       "      <td>8</td>\n",
       "      <td>national</td>\n",
       "      <td>not_related</td>\n",
       "      <td>Consumer Non-Cyclicals</td>\n",
       "      <td>Food &amp; Drug Retailing</td>\n",
       "      <td>Technology</td>\n",
       "      <td>Software &amp; IT Services</td>\n",
       "      <td>-0.003545</td>\n",
       "      <td>0</td>\n",
       "    </tr>\n",
       "    <tr>\n",
       "      <th>18222</th>\n",
       "      <td>Other</td>\n",
       "      <td>full</td>\n",
       "      <td>no</td>\n",
       "      <td>55101010</td>\n",
       "      <td>52203030</td>\n",
       "      <td>others</td>\n",
       "      <td>8</td>\n",
       "      <td>cross_border</td>\n",
       "      <td>not_related</td>\n",
       "      <td>Financials</td>\n",
       "      <td>Banking &amp; Investment Services</td>\n",
       "      <td>Industrials</td>\n",
       "      <td>Industrial &amp; Commercial Services</td>\n",
       "      <td>-0.025992</td>\n",
       "      <td>0</td>\n",
       "    </tr>\n",
       "    <tr>\n",
       "      <th>18223</th>\n",
       "      <td>Other</td>\n",
       "      <td>full</td>\n",
       "      <td>no</td>\n",
       "      <td>53403010</td>\n",
       "      <td>55101050</td>\n",
       "      <td>others</td>\n",
       "      <td>8</td>\n",
       "      <td>national</td>\n",
       "      <td>not_related</td>\n",
       "      <td>Consumer Cyclicals</td>\n",
       "      <td>Retailers</td>\n",
       "      <td>Financials</td>\n",
       "      <td>Banking &amp; Investment Services</td>\n",
       "      <td>-0.000099</td>\n",
       "      <td>0</td>\n",
       "    </tr>\n",
       "  </tbody>\n",
       "</table>\n",
       "<p>18224 rows × 15 columns</p>\n",
       "</div>"
      ],
      "text/plain": [
       "      consideration_offered shares_acquired shares_at_announcement  \\\n",
       "0                      Cash            full                     no   \n",
       "1                     Other            full                     no   \n",
       "2                     Other            full                     no   \n",
       "3                      Cash            full                     no   \n",
       "4                      Cash        not_full                     no   \n",
       "...                     ...             ...                    ...   \n",
       "18219                  Cash            full                     no   \n",
       "18220                 Other            full                     no   \n",
       "18221                 Other            full                     no   \n",
       "18222                 Other            full                     no   \n",
       "18223                 Other            full                     no   \n",
       "\n",
       "       acquiror_code  target_code target_status  month  cross_border  \\\n",
       "0           50102030     50103030        others      1  cross_border   \n",
       "1           54201030     63103010        others      1  cross_border   \n",
       "2           57201030     57201020        others      1  cross_border   \n",
       "3           52102010     51101010        others      1      national   \n",
       "4           50102030     50102030        public      1  cross_border   \n",
       "...              ...          ...           ...    ...           ...   \n",
       "18219       52102010     59103010        others      8  cross_border   \n",
       "18220       53203020     53205020        others      8  cross_border   \n",
       "18221       54301020     57201010        others      8      national   \n",
       "18222       55101010     52203030        others      8  cross_border   \n",
       "18223       53403010     55101050        others      8      national   \n",
       "\n",
       "           relatedness      economic_sector_ac  \\\n",
       "0      business_sector                  Energy   \n",
       "1          not_related  Consumer Non-Cyclicals   \n",
       "2       industry_group              Technology   \n",
       "3          not_related             Industrials   \n",
       "4             industry                  Energy   \n",
       "...                ...                     ...   \n",
       "18219      not_related             Industrials   \n",
       "18220  business_sector      Consumer Cyclicals   \n",
       "18221      not_related  Consumer Non-Cyclicals   \n",
       "18222      not_related              Financials   \n",
       "18223      not_related      Consumer Cyclicals   \n",
       "\n",
       "                             business_sector_ac  \\\n",
       "0                         Energy - Fossil Fuels   \n",
       "1      Personal & Household Products & Services   \n",
       "2                        Software & IT Services   \n",
       "3                              Industrial Goods   \n",
       "4                         Energy - Fossil Fuels   \n",
       "...                                         ...   \n",
       "18219                          Industrial Goods   \n",
       "18220                Cyclical Consumer Products   \n",
       "18221                     Food & Drug Retailing   \n",
       "18222             Banking & Investment Services   \n",
       "18223                                 Retailers   \n",
       "\n",
       "                economic_sector_target            business_sector_target  \\\n",
       "0                               Energy             Energy - Fossil Fuels   \n",
       "1      Academic & Educational Services   Academic & Educational Services   \n",
       "2                           Technology            Software & IT Services   \n",
       "3                      Basic Materials                         Chemicals   \n",
       "4                               Energy             Energy - Fossil Fuels   \n",
       "...                                ...                               ...   \n",
       "18219                        Utilities                         Utilities   \n",
       "18220               Consumer Cyclicals        Cyclical Consumer Products   \n",
       "18221                       Technology            Software & IT Services   \n",
       "18222                      Industrials  Industrial & Commercial Services   \n",
       "18223                       Financials     Banking & Investment Services   \n",
       "\n",
       "            car  car_positive  \n",
       "0      0.006854             1  \n",
       "1     -0.010266             0  \n",
       "2      0.007746             1  \n",
       "3     -0.011133             0  \n",
       "4     -0.003971             0  \n",
       "...         ...           ...  \n",
       "18219  0.020108             1  \n",
       "18220 -0.040156             0  \n",
       "18221 -0.003545             0  \n",
       "18222 -0.025992             0  \n",
       "18223 -0.000099             0  \n",
       "\n",
       "[18224 rows x 15 columns]"
      ]
     },
     "execution_count": 7,
     "metadata": {},
     "output_type": "execute_result"
    }
   ],
   "source": [
    "data"
   ]
  },
  {
   "cell_type": "code",
   "execution_count": 9,
   "id": "4380566d",
   "metadata": {
    "ExecuteTime": {
     "end_time": "2021-09-14T09:36:02.016044Z",
     "start_time": "2021-09-14T09:36:01.974655Z"
    }
   },
   "outputs": [
    {
     "data": {
      "text/plain": [
       "Index(['consideration_offered', 'shares_acquired', 'shares_at_announcement',\n",
       "       'acquiror_code', 'target_code', 'target_status', 'month',\n",
       "       'cross_border', 'relatedness', 'economic_sector_ac',\n",
       "       'business_sector_ac', 'economic_sector_target',\n",
       "       'business_sector_target', 'car', 'car_positive'],\n",
       "      dtype='object')"
      ]
     },
     "execution_count": 9,
     "metadata": {},
     "output_type": "execute_result"
    }
   ],
   "source": [
    "data.columns"
   ]
  },
  {
   "cell_type": "markdown",
   "id": "447a2df4",
   "metadata": {},
   "source": [
    "# Splitting the dataset"
   ]
  },
  {
   "cell_type": "markdown",
   "id": "d46bd51f",
   "metadata": {},
   "source": [
    "We decide to not include month in the X fetaures because the statistical study did previously did not consider this feature to be statistically significant (AT ALL!)"
   ]
  },
  {
   "cell_type": "code",
   "execution_count": 134,
   "id": "19b72596",
   "metadata": {
    "ExecuteTime": {
     "end_time": "2021-09-14T11:04:06.601717Z",
     "start_time": "2021-09-14T11:04:06.598242Z"
    }
   },
   "outputs": [],
   "source": [
    "y=data['car']"
   ]
  },
  {
   "cell_type": "code",
   "execution_count": 135,
   "id": "0d074832",
   "metadata": {
    "ExecuteTime": {
     "end_time": "2021-09-14T11:04:06.847638Z",
     "start_time": "2021-09-14T11:04:06.838210Z"
    }
   },
   "outputs": [],
   "source": [
    "X=data[['consideration_offered', 'shares_acquired', 'shares_at_announcement', 'cross_border', 'relatedness',\n",
    "       'economic_sector_ac', 'business_sector_ac', 'economic_sector_target', 'target_status', \n",
    "       'business_sector_target']]"
   ]
  },
  {
   "cell_type": "code",
   "execution_count": 136,
   "id": "e3a441f0",
   "metadata": {
    "ExecuteTime": {
     "end_time": "2021-09-14T11:04:07.183155Z",
     "start_time": "2021-09-14T11:04:07.168220Z"
    }
   },
   "outputs": [],
   "source": [
    "from sklearn.model_selection import train_test_split\n",
    "X_train, X_test, y_train, y_test = train_test_split(X,y, test_size=0.3, random_state=0)"
   ]
  },
  {
   "cell_type": "markdown",
   "id": "5b901345",
   "metadata": {},
   "source": [
    "# Pipeline"
   ]
  },
  {
   "cell_type": "code",
   "execution_count": 137,
   "id": "dbca31d1",
   "metadata": {
    "ExecuteTime": {
     "end_time": "2021-09-14T11:04:09.535530Z",
     "start_time": "2021-09-14T11:04:09.532326Z"
    }
   },
   "outputs": [],
   "source": [
    "cat_transformer = OneHotEncoder(handle_unknown='ignore')"
   ]
  },
  {
   "cell_type": "code",
   "execution_count": 138,
   "id": "c62ead74",
   "metadata": {
    "ExecuteTime": {
     "end_time": "2021-09-14T11:04:09.699913Z",
     "start_time": "2021-09-14T11:04:09.696697Z"
    }
   },
   "outputs": [],
   "source": [
    "cat_features=['consideration_offered', 'shares_acquired', 'shares_at_announcement', 'cross_border', 'relatedness',\n",
    "       'economic_sector_ac', 'business_sector_ac', 'economic_sector_target', 'target_status', \n",
    "       'business_sector_target']"
   ]
  },
  {
   "cell_type": "code",
   "execution_count": 139,
   "id": "f2957cde",
   "metadata": {
    "ExecuteTime": {
     "end_time": "2021-09-14T11:04:09.880729Z",
     "start_time": "2021-09-14T11:04:09.874618Z"
    }
   },
   "outputs": [],
   "source": [
    "preprocessor = ColumnTransformer([\n",
    "    ('cat_transformer', cat_transformer, cat_features)])"
   ]
  },
  {
   "cell_type": "markdown",
   "id": "7e3f8223",
   "metadata": {},
   "source": [
    "# ElasticNet"
   ]
  },
  {
   "cell_type": "code",
   "execution_count": 28,
   "id": "29d7caa5",
   "metadata": {
    "ExecuteTime": {
     "end_time": "2021-09-14T09:55:40.404595Z",
     "start_time": "2021-09-14T09:55:40.398868Z"
    }
   },
   "outputs": [],
   "source": [
    "grid = {'model__alpha': [0.15, 0.18, 0.2, 0.22, 0.24],\n",
    "        'model__l1_ratio': [0,0.05],\n",
    "        'model__max_iter': [10000]}"
   ]
  },
  {
   "cell_type": "code",
   "execution_count": 29,
   "id": "7a40147c",
   "metadata": {
    "ExecuteTime": {
     "end_time": "2021-09-14T09:55:40.612435Z",
     "start_time": "2021-09-14T09:55:40.601667Z"
    }
   },
   "outputs": [],
   "source": [
    "pipe = Pipeline([\n",
    "    ('preprocessing', preprocessor),\n",
    "    ('model', ElasticNet())])"
   ]
  },
  {
   "cell_type": "code",
   "execution_count": 30,
   "id": "f46a55fb",
   "metadata": {
    "ExecuteTime": {
     "end_time": "2021-09-14T09:55:40.850475Z",
     "start_time": "2021-09-14T09:55:40.835955Z"
    }
   },
   "outputs": [],
   "source": [
    "search = GridSearchCV(pipe, \n",
    "                      grid, \n",
    "                      scoring = ['neg_mean_squared_error', 'r2','neg_mean_absolute_error'],\n",
    "                      refit='neg_mean_squared_error',\n",
    "                      cv = 5,\n",
    "                      n_jobs=-1) "
   ]
  },
  {
   "cell_type": "code",
   "execution_count": 31,
   "id": "d9ad5a51",
   "metadata": {
    "ExecuteTime": {
     "end_time": "2021-09-14T10:01:02.175788Z",
     "start_time": "2021-09-14T09:55:41.156739Z"
    }
   },
   "outputs": [
    {
     "name": "stderr",
     "output_type": "stream",
     "text": [
      "/Users/manonlaffly/.pyenv/versions/3.8.6/envs/MA_PREDICTOR/lib/python3.8/site-packages/sklearn/linear_model/_coordinate_descent.py:513: ConvergenceWarning: Objective did not converge. You might want to increase the number of iterations. Duality gap: 13.505085544274488, tolerance: 0.00270848662194968\n",
      "  model = cd_fast.sparse_enet_coordinate_descent(\n"
     ]
    }
   ],
   "source": [
    "# Fit data to Grid Search\n",
    "search.fit(X_train,y_train);"
   ]
  },
  {
   "cell_type": "code",
   "execution_count": 22,
   "id": "f6ec727d",
   "metadata": {
    "ExecuteTime": {
     "end_time": "2021-09-14T09:50:10.683244Z",
     "start_time": "2021-09-14T09:50:10.653601Z"
    }
   },
   "outputs": [
    {
     "data": {
      "text/plain": [
       "-0.002120288949990078"
      ]
     },
     "execution_count": 22,
     "metadata": {},
     "output_type": "execute_result"
    }
   ],
   "source": [
    "# Best score 1\n",
    "search.best_score_"
   ]
  },
  {
   "cell_type": "code",
   "execution_count": 23,
   "id": "b901a20d",
   "metadata": {
    "ExecuteTime": {
     "end_time": "2021-09-14T09:50:10.730382Z",
     "start_time": "2021-09-14T09:50:10.687727Z"
    }
   },
   "outputs": [
    {
     "data": {
      "text/plain": [
       "{'model__alpha': 0.2, 'model__l1_ratio': 0, 'model__max_iter': 10000}"
      ]
     },
     "execution_count": 23,
     "metadata": {},
     "output_type": "execute_result"
    }
   ],
   "source": [
    "# Best params 1\n",
    "search.best_params_"
   ]
  },
  {
   "cell_type": "code",
   "execution_count": 32,
   "id": "f7067d5c",
   "metadata": {
    "ExecuteTime": {
     "end_time": "2021-09-14T10:01:02.219850Z",
     "start_time": "2021-09-14T10:01:02.184129Z"
    }
   },
   "outputs": [
    {
     "data": {
      "text/plain": [
       "-0.0021202583976565516"
      ]
     },
     "execution_count": 32,
     "metadata": {},
     "output_type": "execute_result"
    }
   ],
   "source": [
    "# Best score 2\n",
    "search.best_score_"
   ]
  },
  {
   "cell_type": "code",
   "execution_count": 33,
   "id": "6bf0624f",
   "metadata": {
    "ExecuteTime": {
     "end_time": "2021-09-14T10:01:02.241161Z",
     "start_time": "2021-09-14T10:01:02.227325Z"
    }
   },
   "outputs": [
    {
     "data": {
      "text/plain": [
       "{'model__alpha': 0.15, 'model__l1_ratio': 0, 'model__max_iter': 10000}"
      ]
     },
     "execution_count": 33,
     "metadata": {},
     "output_type": "execute_result"
    }
   ],
   "source": [
    "# Best params 2\n",
    "search.best_params_"
   ]
  },
  {
   "cell_type": "markdown",
   "id": "e959cfa4",
   "metadata": {},
   "source": [
    "# Estimating with the parameters"
   ]
  },
  {
   "cell_type": "code",
   "execution_count": 140,
   "id": "f04c34ce",
   "metadata": {
    "ExecuteTime": {
     "end_time": "2021-09-14T11:04:13.430295Z",
     "start_time": "2021-09-14T11:04:13.426509Z"
    }
   },
   "outputs": [],
   "source": [
    "pipe = Pipeline([\n",
    "    ('preprocessing', preprocessor),\n",
    "    ('model', ElasticNet(alpha= 0.15, l1_ratio=0, max_iter= 10000))])"
   ]
  },
  {
   "cell_type": "code",
   "execution_count": 141,
   "id": "c8a97cee",
   "metadata": {
    "ExecuteTime": {
     "end_time": "2021-09-14T11:04:45.972012Z",
     "start_time": "2021-09-14T11:04:13.843441Z"
    }
   },
   "outputs": [
    {
     "name": "stderr",
     "output_type": "stream",
     "text": [
      "/Users/manonlaffly/.pyenv/versions/3.8.6/envs/MA_PREDICTOR/lib/python3.8/site-packages/sklearn/linear_model/_coordinate_descent.py:513: ConvergenceWarning: Objective did not converge. You might want to increase the number of iterations. Duality gap: 13.505085544274488, tolerance: 0.00270848662194968\n",
      "  model = cd_fast.sparse_enet_coordinate_descent(\n"
     ]
    }
   ],
   "source": [
    "# Train pipeline\n",
    "pipe_trained = pipe.fit(X_train,y_train)"
   ]
  },
  {
   "cell_type": "code",
   "execution_count": 142,
   "id": "3247840f",
   "metadata": {
    "ExecuteTime": {
     "end_time": "2021-09-14T11:04:46.022481Z",
     "start_time": "2021-09-14T11:04:45.977439Z"
    }
   },
   "outputs": [],
   "source": [
    "# Make predictions\n",
    "results= pipe_trained.predict(X_test)"
   ]
  },
  {
   "cell_type": "code",
   "execution_count": 143,
   "id": "3c72255f",
   "metadata": {
    "ExecuteTime": {
     "end_time": "2021-09-14T11:04:46.074581Z",
     "start_time": "2021-09-14T11:04:46.033543Z"
    }
   },
   "outputs": [
    {
     "data": {
      "text/plain": [
       "0.0012461683723647976"
      ]
     },
     "execution_count": 143,
     "metadata": {},
     "output_type": "execute_result"
    }
   ],
   "source": [
    "# Score model\n",
    "pipe_trained.score(X_test,y_test)"
   ]
  },
  {
   "cell_type": "markdown",
   "id": "29703785",
   "metadata": {},
   "source": [
    "# Encoding the results"
   ]
  },
  {
   "cell_type": "code",
   "execution_count": 144,
   "id": "602f3d56",
   "metadata": {
    "ExecuteTime": {
     "end_time": "2021-09-14T11:04:46.086176Z",
     "start_time": "2021-09-14T11:04:46.079989Z"
    }
   },
   "outputs": [],
   "source": [
    "list_y_test= list(y_test)"
   ]
  },
  {
   "cell_type": "code",
   "execution_count": 145,
   "id": "888d410b",
   "metadata": {
    "ExecuteTime": {
     "end_time": "2021-09-14T11:04:46.097797Z",
     "start_time": "2021-09-14T11:04:46.089382Z"
    }
   },
   "outputs": [
    {
     "data": {
      "text/plain": [
       "213"
      ]
     },
     "execution_count": 145,
     "metadata": {},
     "output_type": "execute_result"
    }
   ],
   "source": [
    "list_y_test.count(0)"
   ]
  },
  {
   "cell_type": "code",
   "execution_count": 146,
   "id": "7e4247e9",
   "metadata": {
    "ExecuteTime": {
     "end_time": "2021-09-14T11:04:46.106465Z",
     "start_time": "2021-09-14T11:04:46.101481Z"
    }
   },
   "outputs": [],
   "source": [
    "list_y_pred= list(results)"
   ]
  },
  {
   "cell_type": "code",
   "execution_count": 147,
   "id": "e934a081",
   "metadata": {
    "ExecuteTime": {
     "end_time": "2021-09-14T11:04:46.123280Z",
     "start_time": "2021-09-14T11:04:46.110506Z"
    }
   },
   "outputs": [
    {
     "data": {
      "text/plain": [
       "0"
      ]
     },
     "execution_count": 147,
     "metadata": {},
     "output_type": "execute_result"
    }
   ],
   "source": [
    "list_y_pred.count(0)"
   ]
  },
  {
   "cell_type": "code",
   "execution_count": 148,
   "id": "e73e8bc2",
   "metadata": {
    "ExecuteTime": {
     "end_time": "2021-09-14T11:04:46.140127Z",
     "start_time": "2021-09-14T11:04:46.127016Z"
    }
   },
   "outputs": [],
   "source": [
    "y_test_list=[]\n",
    "y_pred_list=[]\n",
    "for i in range(len(list_y_test)):\n",
    "    if list_y_test[i] !=0:\n",
    "        y_test_list.append(list_y_test[i])\n",
    "        y_pred_list.append(list_y_pred[i])\n",
    "        "
   ]
  },
  {
   "cell_type": "code",
   "execution_count": 155,
   "id": "34247be8",
   "metadata": {
    "ExecuteTime": {
     "end_time": "2021-09-14T11:05:23.884569Z",
     "start_time": "2021-09-14T11:05:23.878682Z"
    }
   },
   "outputs": [
    {
     "data": {
      "text/plain": [
       "True"
      ]
     },
     "execution_count": 155,
     "metadata": {},
     "output_type": "execute_result"
    }
   ],
   "source": [
    "len(y_test_list)==len(y_pred_list)"
   ]
  },
  {
   "cell_type": "code",
   "execution_count": 156,
   "id": "20295537",
   "metadata": {
    "ExecuteTime": {
     "end_time": "2021-09-14T11:06:27.994692Z",
     "start_time": "2021-09-14T11:06:27.987251Z"
    }
   },
   "outputs": [],
   "source": [
    "y_true_array=np.array(y_test_list)"
   ]
  },
  {
   "cell_type": "code",
   "execution_count": 157,
   "id": "c3d4c9df",
   "metadata": {
    "ExecuteTime": {
     "end_time": "2021-09-14T11:06:28.272452Z",
     "start_time": "2021-09-14T11:06:28.269031Z"
    }
   },
   "outputs": [],
   "source": [
    "y_pred_array=np.array(y_pred_list)"
   ]
  },
  {
   "cell_type": "code",
   "execution_count": 158,
   "id": "c44d848f",
   "metadata": {
    "ExecuteTime": {
     "end_time": "2021-09-14T11:06:29.478259Z",
     "start_time": "2021-09-14T11:06:29.472483Z"
    }
   },
   "outputs": [
    {
     "data": {
      "text/plain": [
       "True"
      ]
     },
     "execution_count": 158,
     "metadata": {},
     "output_type": "execute_result"
    }
   ],
   "source": [
    "len(y_true_array)==len(y_true_array)"
   ]
  },
  {
   "cell_type": "code",
   "execution_count": 159,
   "id": "bfa15a62",
   "metadata": {
    "ExecuteTime": {
     "end_time": "2021-09-14T11:06:30.580720Z",
     "start_time": "2021-09-14T11:06:30.576926Z"
    }
   },
   "outputs": [],
   "source": [
    "y_true_array= np.where(y_true_array > 0, 1, 0)"
   ]
  },
  {
   "cell_type": "code",
   "execution_count": 160,
   "id": "ec695c07",
   "metadata": {
    "ExecuteTime": {
     "end_time": "2021-09-14T11:06:30.940268Z",
     "start_time": "2021-09-14T11:06:30.935468Z"
    }
   },
   "outputs": [],
   "source": [
    "y_pred_array= np.where(y_pred_array > 0, 1, 0)"
   ]
  },
  {
   "cell_type": "markdown",
   "id": "a1cda02d",
   "metadata": {},
   "source": [
    "# Metrics"
   ]
  },
  {
   "cell_type": "code",
   "execution_count": 161,
   "id": "cbeb9354",
   "metadata": {
    "ExecuteTime": {
     "end_time": "2021-09-14T11:06:32.370889Z",
     "start_time": "2021-09-14T11:06:32.346747Z"
    }
   },
   "outputs": [],
   "source": [
    "confusion_matrix = pd.crosstab(index= y_true_array,\n",
    "                               columns = y_pred_array)"
   ]
  },
  {
   "cell_type": "code",
   "execution_count": 162,
   "id": "9f5b46ad",
   "metadata": {
    "ExecuteTime": {
     "end_time": "2021-09-14T11:06:56.859390Z",
     "start_time": "2021-09-14T11:06:56.850059Z"
    }
   },
   "outputs": [
    {
     "data": {
      "text/html": [
       "<div>\n",
       "<style scoped>\n",
       "    .dataframe tbody tr th:only-of-type {\n",
       "        vertical-align: middle;\n",
       "    }\n",
       "\n",
       "    .dataframe tbody tr th {\n",
       "        vertical-align: top;\n",
       "    }\n",
       "\n",
       "    .dataframe thead th {\n",
       "        text-align: right;\n",
       "    }\n",
       "</style>\n",
       "<table border=\"1\" class=\"dataframe\">\n",
       "  <thead>\n",
       "    <tr style=\"text-align: right;\">\n",
       "      <th>col_0</th>\n",
       "      <th>0</th>\n",
       "      <th>1</th>\n",
       "    </tr>\n",
       "    <tr>\n",
       "      <th>row_0</th>\n",
       "      <th></th>\n",
       "      <th></th>\n",
       "    </tr>\n",
       "  </thead>\n",
       "  <tbody>\n",
       "    <tr>\n",
       "      <th>0</th>\n",
       "      <td>144</td>\n",
       "      <td>2367</td>\n",
       "    </tr>\n",
       "    <tr>\n",
       "      <th>1</th>\n",
       "      <td>142</td>\n",
       "      <td>2602</td>\n",
       "    </tr>\n",
       "  </tbody>\n",
       "</table>\n",
       "</div>"
      ],
      "text/plain": [
       "col_0    0     1\n",
       "row_0           \n",
       "0      144  2367\n",
       "1      142  2602"
      ]
     },
     "execution_count": 162,
     "metadata": {},
     "output_type": "execute_result"
    }
   ],
   "source": [
    "confusion_matrix\n",
    "#col_0: Predicted\n",
    "#row_0: Actual"
   ]
  },
  {
   "cell_type": "code",
   "execution_count": 163,
   "id": "75f663dc",
   "metadata": {
    "ExecuteTime": {
     "end_time": "2021-09-14T11:07:22.831256Z",
     "start_time": "2021-09-14T11:07:22.811238Z"
    }
   },
   "outputs": [
    {
     "name": "stdout",
     "output_type": "stream",
     "text": [
      "Accuracy = 0.52255\n",
      "Precision = 0.523647\n",
      "Recall = 0.948251\n",
      "F1 score = 0.674705\n"
     ]
    }
   ],
   "source": [
    "from sklearn.metrics import accuracy_score, precision_score, recall_score, f1_score\n",
    "\n",
    "print('Accuracy =', round(accuracy_score(y_true_array, y_pred_array), 6)) # Accuracy\n",
    "\n",
    "print('Precision =', round(precision_score(y_true_array, y_pred_array), 6)) # Precision\n",
    "\n",
    "print('Recall =', round(recall_score(y_true_array, y_pred_array), 6)) # Recall\n",
    "\n",
    "print('F1 score =', round(f1_score(y_true_array, y_pred_array), 6)) # F1 score"
   ]
  },
  {
   "cell_type": "code",
   "execution_count": null,
   "id": "ad82fda1",
   "metadata": {},
   "outputs": [],
   "source": []
  }
 ],
 "metadata": {
  "kernelspec": {
   "display_name": "Python 3 (ipykernel)",
   "language": "python",
   "name": "python3"
  },
  "language_info": {
   "codemirror_mode": {
    "name": "ipython",
    "version": 3
   },
   "file_extension": ".py",
   "mimetype": "text/x-python",
   "name": "python",
   "nbconvert_exporter": "python",
   "pygments_lexer": "ipython3",
   "version": "3.8.6"
  },
  "toc": {
   "base_numbering": 1,
   "nav_menu": {},
   "number_sections": true,
   "sideBar": true,
   "skip_h1_title": false,
   "title_cell": "Table of Contents",
   "title_sidebar": "Contents",
   "toc_cell": false,
   "toc_position": {},
   "toc_section_display": true,
   "toc_window_display": false
  }
 },
 "nbformat": 4,
 "nbformat_minor": 5
}
