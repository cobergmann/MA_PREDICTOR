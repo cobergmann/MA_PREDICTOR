{
 "cells": [
  {
   "cell_type": "code",
   "execution_count": 2,
   "id": "a30b4ee7",
   "metadata": {
    "ExecuteTime": {
     "end_time": "2021-09-13T14:54:45.297564Z",
     "start_time": "2021-09-13T14:54:42.827577Z"
    }
   },
   "outputs": [],
   "source": [
    "from sklearn.preprocessing import OneHotEncoder\n",
    "from sklearn.compose import ColumnTransformer\n",
    "import numpy as np\n",
    "import pandas as pd\n",
    "from sklearn.model_selection import train_test_split\n",
    "from sklearn.linear_model import LinearRegression\n",
    "from sklearn.model_selection import cross_val_score\n",
    "from sklearn.pipeline import Pipeline\n",
    "from sklearn.ensemble import RandomForestRegressor\n",
    "from xgboost import XGBRegressor\n",
    "from sklearn.ensemble import AdaBoostRegressor\n",
    "from sklearn.ensemble import GradientBoostingRegressor\n",
    "from sklearn.ensemble import BaggingRegressor\n",
    "from sklearn.tree import DecisionTreeRegressor\n",
    "from sklearn.metrics import r2_score,mean_squared_error\n",
    "from sklearn.model_selection import GridSearchCV\n",
    "from sklearn.linear_model import ElasticNet\n",
    "from sklearn.dummy import DummyRegressor\n",
    "import xgboost as xgb"
   ]
  },
  {
   "cell_type": "code",
   "execution_count": 3,
   "id": "4b853f21",
   "metadata": {
    "ExecuteTime": {
     "end_time": "2021-09-13T14:54:45.420759Z",
     "start_time": "2021-09-13T14:54:45.300646Z"
    }
   },
   "outputs": [],
   "source": [
    "data_orig = pd.read_csv('../MA_PREDICTOR/data/ma_data_car_clean.csv')"
   ]
  },
  {
   "cell_type": "code",
   "execution_count": 4,
   "id": "83c28433",
   "metadata": {
    "ExecuteTime": {
     "end_time": "2021-09-13T14:54:45.453399Z",
     "start_time": "2021-09-13T14:54:45.434934Z"
    }
   },
   "outputs": [],
   "source": [
    "data = data_orig[(data_orig.car > -0.3) & (data_orig.car < 0.3)]"
   ]
  },
  {
   "cell_type": "code",
   "execution_count": 5,
   "id": "ee599922",
   "metadata": {
    "ExecuteTime": {
     "end_time": "2021-09-13T14:54:45.714973Z",
     "start_time": "2021-09-13T14:54:45.475895Z"
    },
    "scrolled": false
   },
   "outputs": [
    {
     "data": {
      "text/html": [
       "<div>\n",
       "<style scoped>\n",
       "    .dataframe tbody tr th:only-of-type {\n",
       "        vertical-align: middle;\n",
       "    }\n",
       "\n",
       "    .dataframe tbody tr th {\n",
       "        vertical-align: top;\n",
       "    }\n",
       "\n",
       "    .dataframe thead th {\n",
       "        text-align: right;\n",
       "    }\n",
       "</style>\n",
       "<table border=\"1\" class=\"dataframe\">\n",
       "  <thead>\n",
       "    <tr style=\"text-align: right;\">\n",
       "      <th></th>\n",
       "      <th>consideration_offered</th>\n",
       "      <th>shares_acquired</th>\n",
       "      <th>shares_at_announcement</th>\n",
       "      <th>acquiror_code</th>\n",
       "      <th>target_code</th>\n",
       "      <th>target_status</th>\n",
       "      <th>month</th>\n",
       "      <th>cross_border</th>\n",
       "      <th>relatedness</th>\n",
       "      <th>economic_sector_ac</th>\n",
       "      <th>business_sector_ac</th>\n",
       "      <th>economic_sector_target</th>\n",
       "      <th>business_sector_target</th>\n",
       "      <th>car</th>\n",
       "    </tr>\n",
       "  </thead>\n",
       "  <tbody>\n",
       "    <tr>\n",
       "      <th>0</th>\n",
       "      <td>Cash</td>\n",
       "      <td>full</td>\n",
       "      <td>no</td>\n",
       "      <td>50102030</td>\n",
       "      <td>50103030</td>\n",
       "      <td>others</td>\n",
       "      <td>1</td>\n",
       "      <td>cross_border</td>\n",
       "      <td>business_sector</td>\n",
       "      <td>Energy</td>\n",
       "      <td>Energy - Fossil Fuels</td>\n",
       "      <td>Energy</td>\n",
       "      <td>Energy - Fossil Fuels</td>\n",
       "      <td>0.006854</td>\n",
       "    </tr>\n",
       "    <tr>\n",
       "      <th>1</th>\n",
       "      <td>Other</td>\n",
       "      <td>full</td>\n",
       "      <td>no</td>\n",
       "      <td>54201030</td>\n",
       "      <td>63103010</td>\n",
       "      <td>others</td>\n",
       "      <td>1</td>\n",
       "      <td>cross_border</td>\n",
       "      <td>not_related</td>\n",
       "      <td>Consumer Non-Cyclicals</td>\n",
       "      <td>Personal &amp; Household Products &amp; Services</td>\n",
       "      <td>Academic &amp; Educational Services</td>\n",
       "      <td>Academic &amp; Educational Services</td>\n",
       "      <td>-0.010266</td>\n",
       "    </tr>\n",
       "    <tr>\n",
       "      <th>2</th>\n",
       "      <td>Other</td>\n",
       "      <td>full</td>\n",
       "      <td>no</td>\n",
       "      <td>57201030</td>\n",
       "      <td>57201020</td>\n",
       "      <td>others</td>\n",
       "      <td>1</td>\n",
       "      <td>cross_border</td>\n",
       "      <td>industry_group</td>\n",
       "      <td>Technology</td>\n",
       "      <td>Software &amp; IT Services</td>\n",
       "      <td>Technology</td>\n",
       "      <td>Software &amp; IT Services</td>\n",
       "      <td>0.007746</td>\n",
       "    </tr>\n",
       "    <tr>\n",
       "      <th>3</th>\n",
       "      <td>Cash</td>\n",
       "      <td>full</td>\n",
       "      <td>no</td>\n",
       "      <td>52102010</td>\n",
       "      <td>51101010</td>\n",
       "      <td>others</td>\n",
       "      <td>1</td>\n",
       "      <td>national</td>\n",
       "      <td>not_related</td>\n",
       "      <td>Industrials</td>\n",
       "      <td>Industrial Goods</td>\n",
       "      <td>Basic Materials</td>\n",
       "      <td>Chemicals</td>\n",
       "      <td>-0.011133</td>\n",
       "    </tr>\n",
       "    <tr>\n",
       "      <th>4</th>\n",
       "      <td>Cash</td>\n",
       "      <td>not_full</td>\n",
       "      <td>no</td>\n",
       "      <td>50102030</td>\n",
       "      <td>50102030</td>\n",
       "      <td>public</td>\n",
       "      <td>1</td>\n",
       "      <td>cross_border</td>\n",
       "      <td>industry</td>\n",
       "      <td>Energy</td>\n",
       "      <td>Energy - Fossil Fuels</td>\n",
       "      <td>Energy</td>\n",
       "      <td>Energy - Fossil Fuels</td>\n",
       "      <td>-0.003971</td>\n",
       "    </tr>\n",
       "    <tr>\n",
       "      <th>...</th>\n",
       "      <td>...</td>\n",
       "      <td>...</td>\n",
       "      <td>...</td>\n",
       "      <td>...</td>\n",
       "      <td>...</td>\n",
       "      <td>...</td>\n",
       "      <td>...</td>\n",
       "      <td>...</td>\n",
       "      <td>...</td>\n",
       "      <td>...</td>\n",
       "      <td>...</td>\n",
       "      <td>...</td>\n",
       "      <td>...</td>\n",
       "      <td>...</td>\n",
       "    </tr>\n",
       "    <tr>\n",
       "      <th>18219</th>\n",
       "      <td>Cash</td>\n",
       "      <td>full</td>\n",
       "      <td>no</td>\n",
       "      <td>52102010</td>\n",
       "      <td>59103010</td>\n",
       "      <td>others</td>\n",
       "      <td>8</td>\n",
       "      <td>cross_border</td>\n",
       "      <td>not_related</td>\n",
       "      <td>Industrials</td>\n",
       "      <td>Industrial Goods</td>\n",
       "      <td>Utilities</td>\n",
       "      <td>Utilities</td>\n",
       "      <td>0.020108</td>\n",
       "    </tr>\n",
       "    <tr>\n",
       "      <th>18220</th>\n",
       "      <td>Other</td>\n",
       "      <td>full</td>\n",
       "      <td>no</td>\n",
       "      <td>53203020</td>\n",
       "      <td>53205020</td>\n",
       "      <td>others</td>\n",
       "      <td>8</td>\n",
       "      <td>cross_border</td>\n",
       "      <td>business_sector</td>\n",
       "      <td>Consumer Cyclicals</td>\n",
       "      <td>Cyclical Consumer Products</td>\n",
       "      <td>Consumer Cyclicals</td>\n",
       "      <td>Cyclical Consumer Products</td>\n",
       "      <td>-0.040156</td>\n",
       "    </tr>\n",
       "    <tr>\n",
       "      <th>18221</th>\n",
       "      <td>Other</td>\n",
       "      <td>full</td>\n",
       "      <td>no</td>\n",
       "      <td>54301020</td>\n",
       "      <td>57201010</td>\n",
       "      <td>others</td>\n",
       "      <td>8</td>\n",
       "      <td>national</td>\n",
       "      <td>not_related</td>\n",
       "      <td>Consumer Non-Cyclicals</td>\n",
       "      <td>Food &amp; Drug Retailing</td>\n",
       "      <td>Technology</td>\n",
       "      <td>Software &amp; IT Services</td>\n",
       "      <td>-0.003545</td>\n",
       "    </tr>\n",
       "    <tr>\n",
       "      <th>18222</th>\n",
       "      <td>Other</td>\n",
       "      <td>full</td>\n",
       "      <td>no</td>\n",
       "      <td>55101010</td>\n",
       "      <td>52203030</td>\n",
       "      <td>others</td>\n",
       "      <td>8</td>\n",
       "      <td>cross_border</td>\n",
       "      <td>not_related</td>\n",
       "      <td>Financials</td>\n",
       "      <td>Banking &amp; Investment Services</td>\n",
       "      <td>Industrials</td>\n",
       "      <td>Industrial &amp; Commercial Services</td>\n",
       "      <td>-0.025992</td>\n",
       "    </tr>\n",
       "    <tr>\n",
       "      <th>18223</th>\n",
       "      <td>Other</td>\n",
       "      <td>full</td>\n",
       "      <td>no</td>\n",
       "      <td>53403010</td>\n",
       "      <td>55101050</td>\n",
       "      <td>others</td>\n",
       "      <td>8</td>\n",
       "      <td>national</td>\n",
       "      <td>not_related</td>\n",
       "      <td>Consumer Cyclicals</td>\n",
       "      <td>Retailers</td>\n",
       "      <td>Financials</td>\n",
       "      <td>Banking &amp; Investment Services</td>\n",
       "      <td>-0.000099</td>\n",
       "    </tr>\n",
       "  </tbody>\n",
       "</table>\n",
       "<p>18224 rows × 14 columns</p>\n",
       "</div>"
      ],
      "text/plain": [
       "      consideration_offered shares_acquired shares_at_announcement  \\\n",
       "0                      Cash            full                     no   \n",
       "1                     Other            full                     no   \n",
       "2                     Other            full                     no   \n",
       "3                      Cash            full                     no   \n",
       "4                      Cash        not_full                     no   \n",
       "...                     ...             ...                    ...   \n",
       "18219                  Cash            full                     no   \n",
       "18220                 Other            full                     no   \n",
       "18221                 Other            full                     no   \n",
       "18222                 Other            full                     no   \n",
       "18223                 Other            full                     no   \n",
       "\n",
       "       acquiror_code  target_code target_status  month  cross_border  \\\n",
       "0           50102030     50103030        others      1  cross_border   \n",
       "1           54201030     63103010        others      1  cross_border   \n",
       "2           57201030     57201020        others      1  cross_border   \n",
       "3           52102010     51101010        others      1      national   \n",
       "4           50102030     50102030        public      1  cross_border   \n",
       "...              ...          ...           ...    ...           ...   \n",
       "18219       52102010     59103010        others      8  cross_border   \n",
       "18220       53203020     53205020        others      8  cross_border   \n",
       "18221       54301020     57201010        others      8      national   \n",
       "18222       55101010     52203030        others      8  cross_border   \n",
       "18223       53403010     55101050        others      8      national   \n",
       "\n",
       "           relatedness      economic_sector_ac  \\\n",
       "0      business_sector                  Energy   \n",
       "1          not_related  Consumer Non-Cyclicals   \n",
       "2       industry_group              Technology   \n",
       "3          not_related             Industrials   \n",
       "4             industry                  Energy   \n",
       "...                ...                     ...   \n",
       "18219      not_related             Industrials   \n",
       "18220  business_sector      Consumer Cyclicals   \n",
       "18221      not_related  Consumer Non-Cyclicals   \n",
       "18222      not_related              Financials   \n",
       "18223      not_related      Consumer Cyclicals   \n",
       "\n",
       "                             business_sector_ac  \\\n",
       "0                         Energy - Fossil Fuels   \n",
       "1      Personal & Household Products & Services   \n",
       "2                        Software & IT Services   \n",
       "3                              Industrial Goods   \n",
       "4                         Energy - Fossil Fuels   \n",
       "...                                         ...   \n",
       "18219                          Industrial Goods   \n",
       "18220                Cyclical Consumer Products   \n",
       "18221                     Food & Drug Retailing   \n",
       "18222             Banking & Investment Services   \n",
       "18223                                 Retailers   \n",
       "\n",
       "                economic_sector_target            business_sector_target  \\\n",
       "0                               Energy             Energy - Fossil Fuels   \n",
       "1      Academic & Educational Services   Academic & Educational Services   \n",
       "2                           Technology            Software & IT Services   \n",
       "3                      Basic Materials                         Chemicals   \n",
       "4                               Energy             Energy - Fossil Fuels   \n",
       "...                                ...                               ...   \n",
       "18219                        Utilities                         Utilities   \n",
       "18220               Consumer Cyclicals        Cyclical Consumer Products   \n",
       "18221                       Technology            Software & IT Services   \n",
       "18222                      Industrials  Industrial & Commercial Services   \n",
       "18223                       Financials     Banking & Investment Services   \n",
       "\n",
       "            car  \n",
       "0      0.006854  \n",
       "1     -0.010266  \n",
       "2      0.007746  \n",
       "3     -0.011133  \n",
       "4     -0.003971  \n",
       "...         ...  \n",
       "18219  0.020108  \n",
       "18220 -0.040156  \n",
       "18221 -0.003545  \n",
       "18222 -0.025992  \n",
       "18223 -0.000099  \n",
       "\n",
       "[18224 rows x 14 columns]"
      ]
     },
     "execution_count": 5,
     "metadata": {},
     "output_type": "execute_result"
    }
   ],
   "source": [
    "data"
   ]
  },
  {
   "cell_type": "code",
   "execution_count": 6,
   "id": "e7aae6af",
   "metadata": {
    "ExecuteTime": {
     "end_time": "2021-09-13T14:54:46.080816Z",
     "start_time": "2021-09-13T14:54:46.047740Z"
    },
    "scrolled": false
   },
   "outputs": [
    {
     "data": {
      "text/plain": [
       "Index(['consideration_offered', 'shares_acquired', 'shares_at_announcement',\n",
       "       'acquiror_code', 'target_code', 'target_status', 'month',\n",
       "       'cross_border', 'relatedness', 'economic_sector_ac',\n",
       "       'business_sector_ac', 'economic_sector_target',\n",
       "       'business_sector_target', 'car'],\n",
       "      dtype='object')"
      ]
     },
     "execution_count": 6,
     "metadata": {},
     "output_type": "execute_result"
    }
   ],
   "source": [
    "data.columns"
   ]
  },
  {
   "cell_type": "code",
   "execution_count": 7,
   "id": "43c916a5",
   "metadata": {
    "ExecuteTime": {
     "end_time": "2021-09-13T14:54:46.386832Z",
     "start_time": "2021-09-13T14:54:46.378299Z"
    }
   },
   "outputs": [],
   "source": [
    "y=data['car']"
   ]
  },
  {
   "cell_type": "code",
   "execution_count": 8,
   "id": "6c30c162",
   "metadata": {
    "ExecuteTime": {
     "end_time": "2021-09-13T14:54:47.490855Z",
     "start_time": "2021-09-13T14:54:47.473010Z"
    }
   },
   "outputs": [],
   "source": [
    "X=data[['consideration_offered', 'shares_acquired', 'shares_at_announcement', 'cross_border', 'relatedness',\n",
    "       'economic_sector_ac', 'business_sector_ac', 'economic_sector_target', 'target_status', \n",
    "       'business_sector_target']]"
   ]
  },
  {
   "cell_type": "markdown",
   "id": "8588e22d",
   "metadata": {},
   "source": [
    "# Splitting of the dataset"
   ]
  },
  {
   "cell_type": "code",
   "execution_count": 9,
   "id": "635d5f59",
   "metadata": {
    "ExecuteTime": {
     "end_time": "2021-09-13T14:54:49.581857Z",
     "start_time": "2021-09-13T14:54:49.554182Z"
    }
   },
   "outputs": [],
   "source": [
    "from sklearn.model_selection import train_test_split\n",
    "X_train, X_test, y_train, y_test = train_test_split(X,y, test_size=0.3, random_state=0)"
   ]
  },
  {
   "cell_type": "markdown",
   "id": "5bb6e8cd",
   "metadata": {},
   "source": [
    "# Pipeline and GridSearch"
   ]
  },
  {
   "cell_type": "code",
   "execution_count": 10,
   "id": "751262e6",
   "metadata": {
    "ExecuteTime": {
     "end_time": "2021-09-13T14:54:55.625386Z",
     "start_time": "2021-09-13T14:54:55.616175Z"
    }
   },
   "outputs": [],
   "source": [
    "cat_transformer = OneHotEncoder(handle_unknown='ignore')"
   ]
  },
  {
   "cell_type": "code",
   "execution_count": 11,
   "id": "062890ff",
   "metadata": {
    "ExecuteTime": {
     "end_time": "2021-09-13T14:54:55.852841Z",
     "start_time": "2021-09-13T14:54:55.847694Z"
    }
   },
   "outputs": [],
   "source": [
    "cat_features=['consideration_offered', 'shares_acquired', 'shares_at_announcement', 'cross_border', 'relatedness',\n",
    "       'economic_sector_ac', 'business_sector_ac', 'economic_sector_target', 'target_status', \n",
    "       'business_sector_target']"
   ]
  },
  {
   "cell_type": "code",
   "execution_count": 12,
   "id": "549dbc82",
   "metadata": {
    "ExecuteTime": {
     "end_time": "2021-09-13T14:54:56.101362Z",
     "start_time": "2021-09-13T14:54:56.078954Z"
    }
   },
   "outputs": [],
   "source": [
    "preprocessor = ColumnTransformer([\n",
    "    ('cat_transformer', cat_transformer, cat_features)])"
   ]
  },
  {
   "cell_type": "markdown",
   "id": "afc084be",
   "metadata": {},
   "source": [
    "## Baseline"
   ]
  },
  {
   "cell_type": "code",
   "execution_count": 53,
   "id": "87700c7d",
   "metadata": {
    "ExecuteTime": {
     "end_time": "2021-09-13T13:35:42.552573Z",
     "start_time": "2021-09-13T13:35:42.547933Z"
    }
   },
   "outputs": [],
   "source": [
    "baseline_model_mean = DummyRegressor(strategy=\"mean\") "
   ]
  },
  {
   "cell_type": "code",
   "execution_count": 54,
   "id": "919d1f78",
   "metadata": {
    "ExecuteTime": {
     "end_time": "2021-09-13T13:35:42.941980Z",
     "start_time": "2021-09-13T13:35:42.906485Z"
    }
   },
   "outputs": [
    {
     "data": {
      "text/plain": [
       "-0.0005477136768966328"
      ]
     },
     "execution_count": 54,
     "metadata": {},
     "output_type": "execute_result"
    }
   ],
   "source": [
    "cross_val_score(baseline_model_mean, X_train, y_train, cv=5, scoring='r2').mean()"
   ]
  },
  {
   "cell_type": "code",
   "execution_count": 55,
   "id": "c58bc95f",
   "metadata": {
    "ExecuteTime": {
     "end_time": "2021-09-13T13:35:43.892536Z",
     "start_time": "2021-09-13T13:35:43.859677Z"
    }
   },
   "outputs": [
    {
     "data": {
      "text/plain": [
       "-0.0021237193472723316"
      ]
     },
     "execution_count": 55,
     "metadata": {},
     "output_type": "execute_result"
    }
   ],
   "source": [
    "cross_val_score(baseline_model_mean, X_train, y_train, cv=5, scoring='neg_mean_squared_error').mean()"
   ]
  },
  {
   "cell_type": "code",
   "execution_count": 90,
   "id": "9ee87228",
   "metadata": {
    "ExecuteTime": {
     "end_time": "2021-09-13T14:29:00.078446Z",
     "start_time": "2021-09-13T14:29:00.058680Z"
    },
    "collapsed": true
   },
   "outputs": [
    {
     "ename": "NotFittedError",
     "evalue": "This DummyRegressor instance is not fitted yet. Call 'fit' with appropriate arguments before using this estimator.",
     "output_type": "error",
     "traceback": [
      "\u001b[0;31m---------------------------------------------------------------------------\u001b[0m",
      "\u001b[0;31mNotFittedError\u001b[0m                            Traceback (most recent call last)",
      "\u001b[0;32m/var/folders/tw/12c8kwg9497btcy7q6r_t5y00000gn/T/ipykernel_21407/3403949875.py\u001b[0m in \u001b[0;36m<module>\u001b[0;34m\u001b[0m\n\u001b[0;32m----> 1\u001b[0;31m \u001b[0mbaseline_model_mean\u001b[0m\u001b[0;34m.\u001b[0m\u001b[0mscore\u001b[0m\u001b[0;34m(\u001b[0m\u001b[0mX_test\u001b[0m\u001b[0;34m,\u001b[0m \u001b[0my_test\u001b[0m\u001b[0;34m)\u001b[0m\u001b[0;34m\u001b[0m\u001b[0;34m\u001b[0m\u001b[0m\n\u001b[0m",
      "\u001b[0;32m~/.pyenv/versions/3.8.6/envs/MA_PREDICTOR/lib/python3.8/site-packages/sklearn/dummy.py\u001b[0m in \u001b[0;36mscore\u001b[0;34m(self, X, y, sample_weight)\u001b[0m\n\u001b[1;32m    601\u001b[0m         \u001b[0;32mif\u001b[0m \u001b[0mX\u001b[0m \u001b[0;32mis\u001b[0m \u001b[0;32mNone\u001b[0m\u001b[0;34m:\u001b[0m\u001b[0;34m\u001b[0m\u001b[0;34m\u001b[0m\u001b[0m\n\u001b[1;32m    602\u001b[0m             \u001b[0mX\u001b[0m \u001b[0;34m=\u001b[0m \u001b[0mnp\u001b[0m\u001b[0;34m.\u001b[0m\u001b[0mzeros\u001b[0m\u001b[0;34m(\u001b[0m\u001b[0mshape\u001b[0m\u001b[0;34m=\u001b[0m\u001b[0;34m(\u001b[0m\u001b[0mlen\u001b[0m\u001b[0;34m(\u001b[0m\u001b[0my\u001b[0m\u001b[0;34m)\u001b[0m\u001b[0;34m,\u001b[0m \u001b[0;36m1\u001b[0m\u001b[0;34m)\u001b[0m\u001b[0;34m)\u001b[0m\u001b[0;34m\u001b[0m\u001b[0;34m\u001b[0m\u001b[0m\n\u001b[0;32m--> 603\u001b[0;31m         \u001b[0;32mreturn\u001b[0m \u001b[0msuper\u001b[0m\u001b[0;34m(\u001b[0m\u001b[0;34m)\u001b[0m\u001b[0;34m.\u001b[0m\u001b[0mscore\u001b[0m\u001b[0;34m(\u001b[0m\u001b[0mX\u001b[0m\u001b[0;34m,\u001b[0m \u001b[0my\u001b[0m\u001b[0;34m,\u001b[0m \u001b[0msample_weight\u001b[0m\u001b[0;34m)\u001b[0m\u001b[0;34m\u001b[0m\u001b[0;34m\u001b[0m\u001b[0m\n\u001b[0m",
      "\u001b[0;32m~/.pyenv/versions/3.8.6/envs/MA_PREDICTOR/lib/python3.8/site-packages/sklearn/base.py\u001b[0m in \u001b[0;36mscore\u001b[0;34m(self, X, y, sample_weight)\u001b[0m\n\u001b[1;32m    551\u001b[0m \u001b[0;34m\u001b[0m\u001b[0m\n\u001b[1;32m    552\u001b[0m         \u001b[0;32mfrom\u001b[0m \u001b[0;34m.\u001b[0m\u001b[0mmetrics\u001b[0m \u001b[0;32mimport\u001b[0m \u001b[0mr2_score\u001b[0m\u001b[0;34m\u001b[0m\u001b[0;34m\u001b[0m\u001b[0m\n\u001b[0;32m--> 553\u001b[0;31m         \u001b[0my_pred\u001b[0m \u001b[0;34m=\u001b[0m \u001b[0mself\u001b[0m\u001b[0;34m.\u001b[0m\u001b[0mpredict\u001b[0m\u001b[0;34m(\u001b[0m\u001b[0mX\u001b[0m\u001b[0;34m)\u001b[0m\u001b[0;34m\u001b[0m\u001b[0;34m\u001b[0m\u001b[0m\n\u001b[0m\u001b[1;32m    554\u001b[0m         \u001b[0;32mreturn\u001b[0m \u001b[0mr2_score\u001b[0m\u001b[0;34m(\u001b[0m\u001b[0my\u001b[0m\u001b[0;34m,\u001b[0m \u001b[0my_pred\u001b[0m\u001b[0;34m,\u001b[0m \u001b[0msample_weight\u001b[0m\u001b[0;34m=\u001b[0m\u001b[0msample_weight\u001b[0m\u001b[0;34m)\u001b[0m\u001b[0;34m\u001b[0m\u001b[0;34m\u001b[0m\u001b[0m\n\u001b[1;32m    555\u001b[0m \u001b[0;34m\u001b[0m\u001b[0m\n",
      "\u001b[0;32m~/.pyenv/versions/3.8.6/envs/MA_PREDICTOR/lib/python3.8/site-packages/sklearn/dummy.py\u001b[0m in \u001b[0;36mpredict\u001b[0;34m(self, X, return_std)\u001b[0m\n\u001b[1;32m    554\u001b[0m             \u001b[0mStandard\u001b[0m \u001b[0mdeviation\u001b[0m \u001b[0mof\u001b[0m \u001b[0mpredictive\u001b[0m \u001b[0mdistribution\u001b[0m \u001b[0mof\u001b[0m \u001b[0mquery\u001b[0m \u001b[0mpoints\u001b[0m\u001b[0;34m.\u001b[0m\u001b[0;34m\u001b[0m\u001b[0;34m\u001b[0m\u001b[0m\n\u001b[1;32m    555\u001b[0m         \"\"\"\n\u001b[0;32m--> 556\u001b[0;31m         \u001b[0mcheck_is_fitted\u001b[0m\u001b[0;34m(\u001b[0m\u001b[0mself\u001b[0m\u001b[0;34m)\u001b[0m\u001b[0;34m\u001b[0m\u001b[0;34m\u001b[0m\u001b[0m\n\u001b[0m\u001b[1;32m    557\u001b[0m         \u001b[0mn_samples\u001b[0m \u001b[0;34m=\u001b[0m \u001b[0m_num_samples\u001b[0m\u001b[0;34m(\u001b[0m\u001b[0mX\u001b[0m\u001b[0;34m)\u001b[0m\u001b[0;34m\u001b[0m\u001b[0;34m\u001b[0m\u001b[0m\n\u001b[1;32m    558\u001b[0m \u001b[0;34m\u001b[0m\u001b[0m\n",
      "\u001b[0;32m~/.pyenv/versions/3.8.6/envs/MA_PREDICTOR/lib/python3.8/site-packages/sklearn/utils/validation.py\u001b[0m in \u001b[0;36minner_f\u001b[0;34m(*args, **kwargs)\u001b[0m\n\u001b[1;32m     61\u001b[0m             \u001b[0mextra_args\u001b[0m \u001b[0;34m=\u001b[0m \u001b[0mlen\u001b[0m\u001b[0;34m(\u001b[0m\u001b[0margs\u001b[0m\u001b[0;34m)\u001b[0m \u001b[0;34m-\u001b[0m \u001b[0mlen\u001b[0m\u001b[0;34m(\u001b[0m\u001b[0mall_args\u001b[0m\u001b[0;34m)\u001b[0m\u001b[0;34m\u001b[0m\u001b[0;34m\u001b[0m\u001b[0m\n\u001b[1;32m     62\u001b[0m             \u001b[0;32mif\u001b[0m \u001b[0mextra_args\u001b[0m \u001b[0;34m<=\u001b[0m \u001b[0;36m0\u001b[0m\u001b[0;34m:\u001b[0m\u001b[0;34m\u001b[0m\u001b[0;34m\u001b[0m\u001b[0m\n\u001b[0;32m---> 63\u001b[0;31m                 \u001b[0;32mreturn\u001b[0m \u001b[0mf\u001b[0m\u001b[0;34m(\u001b[0m\u001b[0;34m*\u001b[0m\u001b[0margs\u001b[0m\u001b[0;34m,\u001b[0m \u001b[0;34m**\u001b[0m\u001b[0mkwargs\u001b[0m\u001b[0;34m)\u001b[0m\u001b[0;34m\u001b[0m\u001b[0;34m\u001b[0m\u001b[0m\n\u001b[0m\u001b[1;32m     64\u001b[0m \u001b[0;34m\u001b[0m\u001b[0m\n\u001b[1;32m     65\u001b[0m             \u001b[0;31m# extra_args > 0\u001b[0m\u001b[0;34m\u001b[0m\u001b[0;34m\u001b[0m\u001b[0;34m\u001b[0m\u001b[0m\n",
      "\u001b[0;32m~/.pyenv/versions/3.8.6/envs/MA_PREDICTOR/lib/python3.8/site-packages/sklearn/utils/validation.py\u001b[0m in \u001b[0;36mcheck_is_fitted\u001b[0;34m(estimator, attributes, msg, all_or_any)\u001b[0m\n\u001b[1;32m   1096\u001b[0m \u001b[0;34m\u001b[0m\u001b[0m\n\u001b[1;32m   1097\u001b[0m     \u001b[0;32mif\u001b[0m \u001b[0;32mnot\u001b[0m \u001b[0mattrs\u001b[0m\u001b[0;34m:\u001b[0m\u001b[0;34m\u001b[0m\u001b[0;34m\u001b[0m\u001b[0m\n\u001b[0;32m-> 1098\u001b[0;31m         \u001b[0;32mraise\u001b[0m \u001b[0mNotFittedError\u001b[0m\u001b[0;34m(\u001b[0m\u001b[0mmsg\u001b[0m \u001b[0;34m%\u001b[0m \u001b[0;34m{\u001b[0m\u001b[0;34m'name'\u001b[0m\u001b[0;34m:\u001b[0m \u001b[0mtype\u001b[0m\u001b[0;34m(\u001b[0m\u001b[0mestimator\u001b[0m\u001b[0;34m)\u001b[0m\u001b[0;34m.\u001b[0m\u001b[0m__name__\u001b[0m\u001b[0;34m}\u001b[0m\u001b[0;34m)\u001b[0m\u001b[0;34m\u001b[0m\u001b[0;34m\u001b[0m\u001b[0m\n\u001b[0m\u001b[1;32m   1099\u001b[0m \u001b[0;34m\u001b[0m\u001b[0m\n\u001b[1;32m   1100\u001b[0m \u001b[0;34m\u001b[0m\u001b[0m\n",
      "\u001b[0;31mNotFittedError\u001b[0m: This DummyRegressor instance is not fitted yet. Call 'fit' with appropriate arguments before using this estimator."
     ]
    }
   ],
   "source": [
    "baseline_model_mean.score(X_test, y_test)"
   ]
  },
  {
   "cell_type": "markdown",
   "id": "3e740db2",
   "metadata": {},
   "source": [
    "## ElasticNet"
   ]
  },
  {
   "cell_type": "code",
   "execution_count": 46,
   "id": "c6f5d99a",
   "metadata": {
    "ExecuteTime": {
     "end_time": "2021-09-13T13:30:05.644075Z",
     "start_time": "2021-09-13T13:30:05.638318Z"
    }
   },
   "outputs": [],
   "source": [
    "# Hyperparameter Grid\n",
    "grid = {'model__alpha': [0.1, 0.2, 0.3, 0.4],\n",
    "        'model__l1_ratio': [0,0.05, 0.1, 0.15, 0.2],\n",
    "        'model__max_iter': [10000]}"
   ]
  },
  {
   "cell_type": "code",
   "execution_count": 47,
   "id": "c94704ed",
   "metadata": {
    "ExecuteTime": {
     "end_time": "2021-09-13T13:30:06.089052Z",
     "start_time": "2021-09-13T13:30:06.079648Z"
    }
   },
   "outputs": [],
   "source": [
    "# Combine preprocessor and linear model in pipeline\n",
    "pipe = Pipeline([\n",
    "    ('preprocessing', preprocessor),\n",
    "    ('model', ElasticNet())])"
   ]
  },
  {
   "cell_type": "code",
   "execution_count": 48,
   "id": "dadf399d",
   "metadata": {
    "ExecuteTime": {
     "end_time": "2021-09-13T13:30:07.285460Z",
     "start_time": "2021-09-13T13:30:07.279798Z"
    }
   },
   "outputs": [],
   "source": [
    "search = GridSearchCV(pipe, \n",
    "                      grid, \n",
    "                      scoring = ['neg_mean_squared_error', 'r2','neg_mean_absolute_error'],\n",
    "                      refit='neg_mean_squared_error',\n",
    "                      cv = 5,\n",
    "                      n_jobs=-1) "
   ]
  },
  {
   "cell_type": "code",
   "execution_count": 49,
   "id": "549b1784",
   "metadata": {
    "ExecuteTime": {
     "end_time": "2021-09-13T13:34:32.986433Z",
     "start_time": "2021-09-13T13:30:08.217404Z"
    }
   },
   "outputs": [
    {
     "name": "stderr",
     "output_type": "stream",
     "text": [
      "/Users/manonlaffly/.pyenv/versions/3.8.6/envs/MA_PREDICTOR/lib/python3.8/site-packages/sklearn/linear_model/_coordinate_descent.py:513: ConvergenceWarning: Objective did not converge. You might want to increase the number of iterations. Duality gap: 13.509962771944553, tolerance: 0.00270848662194968\n",
      "  model = cd_fast.sparse_enet_coordinate_descent(\n"
     ]
    }
   ],
   "source": [
    "# Fit data to Grid Search\n",
    "search.fit(X_train,y_train);"
   ]
  },
  {
   "cell_type": "code",
   "execution_count": 50,
   "id": "96fa7590",
   "metadata": {
    "ExecuteTime": {
     "end_time": "2021-09-13T13:34:33.000608Z",
     "start_time": "2021-09-13T13:34:32.992543Z"
    },
    "scrolled": true
   },
   "outputs": [
    {
     "data": {
      "text/plain": [
       "-0.002120288949990078"
      ]
     },
     "execution_count": 50,
     "metadata": {},
     "output_type": "execute_result"
    }
   ],
   "source": [
    "# Best score 1\n",
    "search.best_score_"
   ]
  },
  {
   "cell_type": "markdown",
   "id": "99c69976",
   "metadata": {
    "heading_collapsed": true
   },
   "source": [
    "## RandomForest"
   ]
  },
  {
   "cell_type": "code",
   "execution_count": 55,
   "id": "be21204c",
   "metadata": {
    "ExecuteTime": {
     "end_time": "2021-09-10T14:39:06.148477Z",
     "start_time": "2021-09-10T14:39:06.139274Z"
    },
    "hidden": true
   },
   "outputs": [
    {
     "data": {
      "text/plain": [
       "dict_keys(['bootstrap', 'ccp_alpha', 'criterion', 'max_depth', 'max_features', 'max_leaf_nodes', 'max_samples', 'min_impurity_decrease', 'min_impurity_split', 'min_samples_leaf', 'min_samples_split', 'min_weight_fraction_leaf', 'n_estimators', 'n_jobs', 'oob_score', 'random_state', 'verbose', 'warm_start'])"
      ]
     },
     "execution_count": 55,
     "metadata": {},
     "output_type": "execute_result"
    },
    {
     "name": "stderr",
     "output_type": "stream",
     "text": [
      "/Users/manonlaffly/.pyenv/versions/3.8.6/envs/MA_PREDICTOR/lib/python3.8/site-packages/sklearn/linear_model/_coordinate_descent.py:513: ConvergenceWarning: Objective did not converge. You might want to increase the number of iterations. Duality gap: 10.823037600169421, tolerance: 0.002171952132502156\n",
      "  model = cd_fast.sparse_enet_coordinate_descent(\n",
      "/Users/manonlaffly/.pyenv/versions/3.8.6/envs/MA_PREDICTOR/lib/python3.8/site-packages/sklearn/linear_model/_coordinate_descent.py:513: ConvergenceWarning: Objective did not converge. You might want to increase the number of iterations. Duality gap: 10.909977424148362, tolerance: 0.0021893696612592245\n",
      "  model = cd_fast.sparse_enet_coordinate_descent(\n",
      "/Users/manonlaffly/.pyenv/versions/3.8.6/envs/MA_PREDICTOR/lib/python3.8/site-packages/sklearn/linear_model/_coordinate_descent.py:513: ConvergenceWarning: Objective did not converge. You might want to increase the number of iterations. Duality gap: 10.910393640038457, tolerance: 0.0021893696612592245\n",
      "  model = cd_fast.sparse_enet_coordinate_descent(\n",
      "/Users/manonlaffly/.pyenv/versions/3.8.6/envs/MA_PREDICTOR/lib/python3.8/site-packages/sklearn/linear_model/_coordinate_descent.py:513: ConvergenceWarning: Objective did not converge. You might want to increase the number of iterations. Duality gap: 10.966610479786253, tolerance: 0.0021995781105870666\n",
      "  model = cd_fast.sparse_enet_coordinate_descent(\n",
      "/Users/manonlaffly/.pyenv/versions/3.8.6/envs/MA_PREDICTOR/lib/python3.8/site-packages/sklearn/linear_model/_coordinate_descent.py:513: ConvergenceWarning: Objective did not converge. You might want to increase the number of iterations. Duality gap: 10.643103704733479, tolerance: 0.002134897697797967\n",
      "  model = cd_fast.sparse_enet_coordinate_descent(\n",
      "/Users/manonlaffly/.pyenv/versions/3.8.6/envs/MA_PREDICTOR/lib/python3.8/site-packages/sklearn/linear_model/_coordinate_descent.py:513: ConvergenceWarning: Objective did not converge. You might want to increase the number of iterations. Duality gap: 10.82441953604731, tolerance: 0.002171952132502156\n",
      "  model = cd_fast.sparse_enet_coordinate_descent(\n",
      "/Users/manonlaffly/.pyenv/versions/3.8.6/envs/MA_PREDICTOR/lib/python3.8/site-packages/sklearn/linear_model/_coordinate_descent.py:513: ConvergenceWarning: Objective did not converge. You might want to increase the number of iterations. Duality gap: 10.657865666880374, tolerance: 0.002137919167920729\n",
      "  model = cd_fast.sparse_enet_coordinate_descent(\n",
      "/Users/manonlaffly/.pyenv/versions/3.8.6/envs/MA_PREDICTOR/lib/python3.8/site-packages/sklearn/linear_model/_coordinate_descent.py:513: ConvergenceWarning: Objective did not converge. You might want to increase the number of iterations. Duality gap: 10.656466084816689, tolerance: 0.002137919167920729\n",
      "  model = cd_fast.sparse_enet_coordinate_descent(\n",
      "/Users/manonlaffly/.pyenv/versions/3.8.6/envs/MA_PREDICTOR/lib/python3.8/site-packages/sklearn/linear_model/_coordinate_descent.py:513: ConvergenceWarning: Objective did not converge. You might want to increase the number of iterations. Duality gap: 10.656757246237758, tolerance: 0.002137919167920729\n",
      "  model = cd_fast.sparse_enet_coordinate_descent(\n",
      "/Users/manonlaffly/.pyenv/versions/3.8.6/envs/MA_PREDICTOR/lib/python3.8/site-packages/sklearn/linear_model/_coordinate_descent.py:513: ConvergenceWarning: Objective did not converge. You might want to increase the number of iterations. Duality gap: 10.966255932358015, tolerance: 0.0021995781105870666\n",
      "  model = cd_fast.sparse_enet_coordinate_descent(\n",
      "/Users/manonlaffly/.pyenv/versions/3.8.6/envs/MA_PREDICTOR/lib/python3.8/site-packages/sklearn/linear_model/_coordinate_descent.py:513: ConvergenceWarning: Objective did not converge. You might want to increase the number of iterations. Duality gap: 10.642723826461784, tolerance: 0.002134897697797967\n",
      "  model = cd_fast.sparse_enet_coordinate_descent(\n",
      "/Users/manonlaffly/.pyenv/versions/3.8.6/envs/MA_PREDICTOR/lib/python3.8/site-packages/sklearn/linear_model/_coordinate_descent.py:513: ConvergenceWarning: Objective did not converge. You might want to increase the number of iterations. Duality gap: 10.824214686760616, tolerance: 0.002171952132502156\n",
      "  model = cd_fast.sparse_enet_coordinate_descent(\n",
      "/Users/manonlaffly/.pyenv/versions/3.8.6/envs/MA_PREDICTOR/lib/python3.8/site-packages/sklearn/linear_model/_coordinate_descent.py:513: ConvergenceWarning: Objective did not converge. You might want to increase the number of iterations. Duality gap: 10.657686884167147, tolerance: 0.002137919167920729\n",
      "  model = cd_fast.sparse_enet_coordinate_descent(\n",
      "/Users/manonlaffly/.pyenv/versions/3.8.6/envs/MA_PREDICTOR/lib/python3.8/site-packages/sklearn/linear_model/_coordinate_descent.py:513: ConvergenceWarning: Objective did not converge. You might want to increase the number of iterations. Duality gap: 10.966955904248458, tolerance: 0.0021995781105870666\n",
      "  model = cd_fast.sparse_enet_coordinate_descent(\n",
      "/Users/manonlaffly/.pyenv/versions/3.8.6/envs/MA_PREDICTOR/lib/python3.8/site-packages/sklearn/linear_model/_coordinate_descent.py:513: ConvergenceWarning: Objective did not converge. You might want to increase the number of iterations. Duality gap: 10.90965802099826, tolerance: 0.0021893696612592245\n",
      "  model = cd_fast.sparse_enet_coordinate_descent(\n",
      "/Users/manonlaffly/.pyenv/versions/3.8.6/envs/MA_PREDICTOR/lib/python3.8/site-packages/sklearn/linear_model/_coordinate_descent.py:513: ConvergenceWarning: Objective did not converge. You might want to increase the number of iterations. Duality gap: 10.642033393853284, tolerance: 0.002134897697797967\n",
      "  model = cd_fast.sparse_enet_coordinate_descent(\n",
      "/Users/manonlaffly/.pyenv/versions/3.8.6/envs/MA_PREDICTOR/lib/python3.8/site-packages/sklearn/linear_model/_coordinate_descent.py:513: ConvergenceWarning: Objective did not converge. You might want to increase the number of iterations. Duality gap: 10.823367406337004, tolerance: 0.002171952132502156\n",
      "  model = cd_fast.sparse_enet_coordinate_descent(\n",
      "/Users/manonlaffly/.pyenv/versions/3.8.6/envs/MA_PREDICTOR/lib/python3.8/site-packages/sklearn/linear_model/_coordinate_descent.py:513: ConvergenceWarning: Objective did not converge. You might want to increase the number of iterations. Duality gap: 10.657136456693417, tolerance: 0.002137919167920729\n",
      "  model = cd_fast.sparse_enet_coordinate_descent(\n",
      "/Users/manonlaffly/.pyenv/versions/3.8.6/envs/MA_PREDICTOR/lib/python3.8/site-packages/sklearn/linear_model/_coordinate_descent.py:513: ConvergenceWarning: Objective did not converge. You might want to increase the number of iterations. Duality gap: 10.910799258154114, tolerance: 0.0021893696612592245\n",
      "  model = cd_fast.sparse_enet_coordinate_descent(\n",
      "/Users/manonlaffly/.pyenv/versions/3.8.6/envs/MA_PREDICTOR/lib/python3.8/site-packages/sklearn/linear_model/_coordinate_descent.py:513: ConvergenceWarning: Objective did not converge. You might want to increase the number of iterations. Duality gap: 10.910998234275972, tolerance: 0.0021893696612592245\n",
      "  model = cd_fast.sparse_enet_coordinate_descent(\n",
      "/Users/manonlaffly/.pyenv/versions/3.8.6/envs/MA_PREDICTOR/lib/python3.8/site-packages/sklearn/linear_model/_coordinate_descent.py:513: ConvergenceWarning: Objective did not converge. You might want to increase the number of iterations. Duality gap: 10.643289838948366, tolerance: 0.002134897697797967\n",
      "  model = cd_fast.sparse_enet_coordinate_descent(\n",
      "/Users/manonlaffly/.pyenv/versions/3.8.6/envs/MA_PREDICTOR/lib/python3.8/site-packages/sklearn/linear_model/_coordinate_descent.py:513: ConvergenceWarning: Objective did not converge. You might want to increase the number of iterations. Duality gap: 10.824621717961515, tolerance: 0.002171952132502156\n",
      "  model = cd_fast.sparse_enet_coordinate_descent(\n",
      "/Users/manonlaffly/.pyenv/versions/3.8.6/envs/MA_PREDICTOR/lib/python3.8/site-packages/sklearn/linear_model/_coordinate_descent.py:513: ConvergenceWarning: Objective did not converge. You might want to increase the number of iterations. Duality gap: 10.965612246139697, tolerance: 0.0021995781105870666\n",
      "  model = cd_fast.sparse_enet_coordinate_descent(\n",
      "/Users/manonlaffly/.pyenv/versions/3.8.6/envs/MA_PREDICTOR/lib/python3.8/site-packages/sklearn/linear_model/_coordinate_descent.py:513: ConvergenceWarning: Objective did not converge. You might want to increase the number of iterations. Duality gap: 10.96589184307521, tolerance: 0.0021995781105870666\n",
      "  model = cd_fast.sparse_enet_coordinate_descent(\n",
      "/Users/manonlaffly/.pyenv/versions/3.8.6/envs/MA_PREDICTOR/lib/python3.8/site-packages/sklearn/linear_model/_coordinate_descent.py:513: ConvergenceWarning: Objective did not converge. You might want to increase the number of iterations. Duality gap: 10.64233341318288, tolerance: 0.002134897697797967\n",
      "  model = cd_fast.sparse_enet_coordinate_descent(\n",
      "/Users/manonlaffly/.pyenv/versions/3.8.6/envs/MA_PREDICTOR/lib/python3.8/site-packages/sklearn/linear_model/_coordinate_descent.py:513: ConvergenceWarning: Objective did not converge. You might want to increase the number of iterations. Duality gap: 10.823796748054262, tolerance: 0.002171952132502156\n",
      "  model = cd_fast.sparse_enet_coordinate_descent(\n",
      "/Users/manonlaffly/.pyenv/versions/3.8.6/envs/MA_PREDICTOR/lib/python3.8/site-packages/sklearn/linear_model/_coordinate_descent.py:513: ConvergenceWarning: Objective did not converge. You might want to increase the number of iterations. Duality gap: 10.657505788861831, tolerance: 0.002137919167920729\n",
      "  model = cd_fast.sparse_enet_coordinate_descent(\n",
      "/Users/manonlaffly/.pyenv/versions/3.8.6/envs/MA_PREDICTOR/lib/python3.8/site-packages/sklearn/linear_model/_coordinate_descent.py:513: ConvergenceWarning: Objective did not converge. You might want to increase the number of iterations. Duality gap: 10.966784307263312, tolerance: 0.0021995781105870666\n",
      "  model = cd_fast.sparse_enet_coordinate_descent(\n",
      "/Users/manonlaffly/.pyenv/versions/3.8.6/envs/MA_PREDICTOR/lib/python3.8/site-packages/sklearn/linear_model/_coordinate_descent.py:513: ConvergenceWarning: Objective did not converge. You might want to increase the number of iterations. Duality gap: 10.911194726933745, tolerance: 0.0021893696612592245\n",
      "  model = cd_fast.sparse_enet_coordinate_descent(\n",
      "/Users/manonlaffly/.pyenv/versions/3.8.6/envs/MA_PREDICTOR/lib/python3.8/site-packages/sklearn/linear_model/_coordinate_descent.py:513: ConvergenceWarning: Objective did not converge. You might want to increase the number of iterations. Duality gap: 10.643473510593354, tolerance: 0.002134897697797967\n",
      "  model = cd_fast.sparse_enet_coordinate_descent(\n"
     ]
    }
   ],
   "source": [
    "RandomForestRegressor().get_params().keys()"
   ]
  },
  {
   "cell_type": "code",
   "execution_count": 26,
   "id": "283d491d",
   "metadata": {
    "ExecuteTime": {
     "end_time": "2021-09-11T07:21:05.513372Z",
     "start_time": "2021-09-11T07:21:05.504832Z"
    },
    "hidden": true
   },
   "outputs": [],
   "source": [
    "# Hyperparameter Grid\n",
    "grid={'model__bootstrap': [True, False],\n",
    "      'model__max_depth': [10, 20, 30, 40, 50, 60, 70, 80, 90, 100, None],\n",
    "      'model__max_features': ['auto', 'sqrt'],\n",
    "      'model__min_samples_leaf': [1, 2, 4, 10],\n",
    "      'model__min_samples_split': [2, 5, 10],\n",
    "      'model__n_estimators': [200, 400, 600, 800, 1000, 1200, 1400, 1600, 1800, 2000]}"
   ]
  },
  {
   "cell_type": "code",
   "execution_count": 27,
   "id": "3cc7d7b5",
   "metadata": {
    "ExecuteTime": {
     "end_time": "2021-09-11T07:21:06.179704Z",
     "start_time": "2021-09-11T07:21:06.173311Z"
    },
    "hidden": true
   },
   "outputs": [],
   "source": [
    "pipe = Pipeline([\n",
    "    ('preprocessing', preprocessor),\n",
    "    ('model', RandomForestRegressor())])"
   ]
  },
  {
   "cell_type": "code",
   "execution_count": 28,
   "id": "442900d3",
   "metadata": {
    "ExecuteTime": {
     "end_time": "2021-09-11T07:21:10.676401Z",
     "start_time": "2021-09-11T07:21:10.668749Z"
    },
    "hidden": true
   },
   "outputs": [],
   "source": [
    "search = GridSearchCV(pipe, \n",
    "                      grid, \n",
    "                      scoring = ['neg_mean_squared_error', 'r2','neg_mean_absolute_error'],\n",
    "                      refit='neg_mean_squared_error',\n",
    "                      cv = 5,\n",
    "                      n_jobs=-1) "
   ]
  },
  {
   "cell_type": "code",
   "execution_count": 29,
   "id": "5c6cc303",
   "metadata": {
    "ExecuteTime": {
     "end_time": "2021-09-12T09:16:24.101794Z",
     "start_time": "2021-09-11T07:21:11.507002Z"
    },
    "hidden": true
   },
   "outputs": [
    {
     "ename": "KeyboardInterrupt",
     "evalue": "",
     "output_type": "error",
     "traceback": [
      "\u001b[0;31m---------------------------------------------------------------------------\u001b[0m",
      "\u001b[0;31mKeyboardInterrupt\u001b[0m                         Traceback (most recent call last)",
      "\u001b[0;32m/var/folders/tw/12c8kwg9497btcy7q6r_t5y00000gn/T/ipykernel_8652/3274316684.py\u001b[0m in \u001b[0;36m<module>\u001b[0;34m\u001b[0m\n\u001b[1;32m      1\u001b[0m \u001b[0;31m# Fit data to Grid Search\u001b[0m\u001b[0;34m\u001b[0m\u001b[0;34m\u001b[0m\u001b[0;34m\u001b[0m\u001b[0m\n\u001b[0;32m----> 2\u001b[0;31m \u001b[0msearch\u001b[0m\u001b[0;34m.\u001b[0m\u001b[0mfit\u001b[0m\u001b[0;34m(\u001b[0m\u001b[0mX_train\u001b[0m\u001b[0;34m,\u001b[0m\u001b[0my_train\u001b[0m\u001b[0;34m)\u001b[0m\u001b[0;34m;\u001b[0m\u001b[0;34m\u001b[0m\u001b[0;34m\u001b[0m\u001b[0m\n\u001b[0m",
      "\u001b[0;32m~/.pyenv/versions/3.8.6/envs/MA_PREDICTOR/lib/python3.8/site-packages/sklearn/utils/validation.py\u001b[0m in \u001b[0;36minner_f\u001b[0;34m(*args, **kwargs)\u001b[0m\n\u001b[1;32m     61\u001b[0m             \u001b[0mextra_args\u001b[0m \u001b[0;34m=\u001b[0m \u001b[0mlen\u001b[0m\u001b[0;34m(\u001b[0m\u001b[0margs\u001b[0m\u001b[0;34m)\u001b[0m \u001b[0;34m-\u001b[0m \u001b[0mlen\u001b[0m\u001b[0;34m(\u001b[0m\u001b[0mall_args\u001b[0m\u001b[0;34m)\u001b[0m\u001b[0;34m\u001b[0m\u001b[0;34m\u001b[0m\u001b[0m\n\u001b[1;32m     62\u001b[0m             \u001b[0;32mif\u001b[0m \u001b[0mextra_args\u001b[0m \u001b[0;34m<=\u001b[0m \u001b[0;36m0\u001b[0m\u001b[0;34m:\u001b[0m\u001b[0;34m\u001b[0m\u001b[0;34m\u001b[0m\u001b[0m\n\u001b[0;32m---> 63\u001b[0;31m                 \u001b[0;32mreturn\u001b[0m \u001b[0mf\u001b[0m\u001b[0;34m(\u001b[0m\u001b[0;34m*\u001b[0m\u001b[0margs\u001b[0m\u001b[0;34m,\u001b[0m \u001b[0;34m**\u001b[0m\u001b[0mkwargs\u001b[0m\u001b[0;34m)\u001b[0m\u001b[0;34m\u001b[0m\u001b[0;34m\u001b[0m\u001b[0m\n\u001b[0m\u001b[1;32m     64\u001b[0m \u001b[0;34m\u001b[0m\u001b[0m\n\u001b[1;32m     65\u001b[0m             \u001b[0;31m# extra_args > 0\u001b[0m\u001b[0;34m\u001b[0m\u001b[0;34m\u001b[0m\u001b[0;34m\u001b[0m\u001b[0m\n",
      "\u001b[0;32m~/.pyenv/versions/3.8.6/envs/MA_PREDICTOR/lib/python3.8/site-packages/sklearn/model_selection/_search.py\u001b[0m in \u001b[0;36mfit\u001b[0;34m(self, X, y, groups, **fit_params)\u001b[0m\n\u001b[1;32m    839\u001b[0m                 \u001b[0;32mreturn\u001b[0m \u001b[0mresults\u001b[0m\u001b[0;34m\u001b[0m\u001b[0;34m\u001b[0m\u001b[0m\n\u001b[1;32m    840\u001b[0m \u001b[0;34m\u001b[0m\u001b[0m\n\u001b[0;32m--> 841\u001b[0;31m             \u001b[0mself\u001b[0m\u001b[0;34m.\u001b[0m\u001b[0m_run_search\u001b[0m\u001b[0;34m(\u001b[0m\u001b[0mevaluate_candidates\u001b[0m\u001b[0;34m)\u001b[0m\u001b[0;34m\u001b[0m\u001b[0;34m\u001b[0m\u001b[0m\n\u001b[0m\u001b[1;32m    842\u001b[0m \u001b[0;34m\u001b[0m\u001b[0m\n\u001b[1;32m    843\u001b[0m             \u001b[0;31m# multimetric is determined here because in the case of a callable\u001b[0m\u001b[0;34m\u001b[0m\u001b[0;34m\u001b[0m\u001b[0;34m\u001b[0m\u001b[0m\n",
      "\u001b[0;32m~/.pyenv/versions/3.8.6/envs/MA_PREDICTOR/lib/python3.8/site-packages/sklearn/model_selection/_search.py\u001b[0m in \u001b[0;36m_run_search\u001b[0;34m(self, evaluate_candidates)\u001b[0m\n\u001b[1;32m   1294\u001b[0m     \u001b[0;32mdef\u001b[0m \u001b[0m_run_search\u001b[0m\u001b[0;34m(\u001b[0m\u001b[0mself\u001b[0m\u001b[0;34m,\u001b[0m \u001b[0mevaluate_candidates\u001b[0m\u001b[0;34m)\u001b[0m\u001b[0;34m:\u001b[0m\u001b[0;34m\u001b[0m\u001b[0;34m\u001b[0m\u001b[0m\n\u001b[1;32m   1295\u001b[0m         \u001b[0;34m\"\"\"Search all candidates in param_grid\"\"\"\u001b[0m\u001b[0;34m\u001b[0m\u001b[0;34m\u001b[0m\u001b[0m\n\u001b[0;32m-> 1296\u001b[0;31m         \u001b[0mevaluate_candidates\u001b[0m\u001b[0;34m(\u001b[0m\u001b[0mParameterGrid\u001b[0m\u001b[0;34m(\u001b[0m\u001b[0mself\u001b[0m\u001b[0;34m.\u001b[0m\u001b[0mparam_grid\u001b[0m\u001b[0;34m)\u001b[0m\u001b[0;34m)\u001b[0m\u001b[0;34m\u001b[0m\u001b[0;34m\u001b[0m\u001b[0m\n\u001b[0m\u001b[1;32m   1297\u001b[0m \u001b[0;34m\u001b[0m\u001b[0m\n\u001b[1;32m   1298\u001b[0m \u001b[0;34m\u001b[0m\u001b[0m\n",
      "\u001b[0;32m~/.pyenv/versions/3.8.6/envs/MA_PREDICTOR/lib/python3.8/site-packages/sklearn/model_selection/_search.py\u001b[0m in \u001b[0;36mevaluate_candidates\u001b[0;34m(candidate_params, cv, more_results)\u001b[0m\n\u001b[1;32m    793\u001b[0m                               n_splits, n_candidates, n_candidates * n_splits))\n\u001b[1;32m    794\u001b[0m \u001b[0;34m\u001b[0m\u001b[0m\n\u001b[0;32m--> 795\u001b[0;31m                 out = parallel(delayed(_fit_and_score)(clone(base_estimator),\n\u001b[0m\u001b[1;32m    796\u001b[0m                                                        \u001b[0mX\u001b[0m\u001b[0;34m,\u001b[0m \u001b[0my\u001b[0m\u001b[0;34m,\u001b[0m\u001b[0;34m\u001b[0m\u001b[0;34m\u001b[0m\u001b[0m\n\u001b[1;32m    797\u001b[0m                                                        \u001b[0mtrain\u001b[0m\u001b[0;34m=\u001b[0m\u001b[0mtrain\u001b[0m\u001b[0;34m,\u001b[0m \u001b[0mtest\u001b[0m\u001b[0;34m=\u001b[0m\u001b[0mtest\u001b[0m\u001b[0;34m,\u001b[0m\u001b[0;34m\u001b[0m\u001b[0;34m\u001b[0m\u001b[0m\n",
      "\u001b[0;32m~/.pyenv/versions/3.8.6/envs/MA_PREDICTOR/lib/python3.8/site-packages/joblib/parallel.py\u001b[0m in \u001b[0;36m__call__\u001b[0;34m(self, iterable)\u001b[0m\n\u001b[1;32m   1052\u001b[0m \u001b[0;34m\u001b[0m\u001b[0m\n\u001b[1;32m   1053\u001b[0m             \u001b[0;32mwith\u001b[0m \u001b[0mself\u001b[0m\u001b[0;34m.\u001b[0m\u001b[0m_backend\u001b[0m\u001b[0;34m.\u001b[0m\u001b[0mretrieval_context\u001b[0m\u001b[0;34m(\u001b[0m\u001b[0;34m)\u001b[0m\u001b[0;34m:\u001b[0m\u001b[0;34m\u001b[0m\u001b[0;34m\u001b[0m\u001b[0m\n\u001b[0;32m-> 1054\u001b[0;31m                 \u001b[0mself\u001b[0m\u001b[0;34m.\u001b[0m\u001b[0mretrieve\u001b[0m\u001b[0;34m(\u001b[0m\u001b[0;34m)\u001b[0m\u001b[0;34m\u001b[0m\u001b[0;34m\u001b[0m\u001b[0m\n\u001b[0m\u001b[1;32m   1055\u001b[0m             \u001b[0;31m# Make sure that we get a last message telling us we are done\u001b[0m\u001b[0;34m\u001b[0m\u001b[0;34m\u001b[0m\u001b[0;34m\u001b[0m\u001b[0m\n\u001b[1;32m   1056\u001b[0m             \u001b[0melapsed_time\u001b[0m \u001b[0;34m=\u001b[0m \u001b[0mtime\u001b[0m\u001b[0;34m.\u001b[0m\u001b[0mtime\u001b[0m\u001b[0;34m(\u001b[0m\u001b[0;34m)\u001b[0m \u001b[0;34m-\u001b[0m \u001b[0mself\u001b[0m\u001b[0;34m.\u001b[0m\u001b[0m_start_time\u001b[0m\u001b[0;34m\u001b[0m\u001b[0;34m\u001b[0m\u001b[0m\n",
      "\u001b[0;32m~/.pyenv/versions/3.8.6/envs/MA_PREDICTOR/lib/python3.8/site-packages/joblib/parallel.py\u001b[0m in \u001b[0;36mretrieve\u001b[0;34m(self)\u001b[0m\n\u001b[1;32m    931\u001b[0m             \u001b[0;32mtry\u001b[0m\u001b[0;34m:\u001b[0m\u001b[0;34m\u001b[0m\u001b[0;34m\u001b[0m\u001b[0m\n\u001b[1;32m    932\u001b[0m                 \u001b[0;32mif\u001b[0m \u001b[0mgetattr\u001b[0m\u001b[0;34m(\u001b[0m\u001b[0mself\u001b[0m\u001b[0;34m.\u001b[0m\u001b[0m_backend\u001b[0m\u001b[0;34m,\u001b[0m \u001b[0;34m'supports_timeout'\u001b[0m\u001b[0;34m,\u001b[0m \u001b[0;32mFalse\u001b[0m\u001b[0;34m)\u001b[0m\u001b[0;34m:\u001b[0m\u001b[0;34m\u001b[0m\u001b[0;34m\u001b[0m\u001b[0m\n\u001b[0;32m--> 933\u001b[0;31m                     \u001b[0mself\u001b[0m\u001b[0;34m.\u001b[0m\u001b[0m_output\u001b[0m\u001b[0;34m.\u001b[0m\u001b[0mextend\u001b[0m\u001b[0;34m(\u001b[0m\u001b[0mjob\u001b[0m\u001b[0;34m.\u001b[0m\u001b[0mget\u001b[0m\u001b[0;34m(\u001b[0m\u001b[0mtimeout\u001b[0m\u001b[0;34m=\u001b[0m\u001b[0mself\u001b[0m\u001b[0;34m.\u001b[0m\u001b[0mtimeout\u001b[0m\u001b[0;34m)\u001b[0m\u001b[0;34m)\u001b[0m\u001b[0;34m\u001b[0m\u001b[0;34m\u001b[0m\u001b[0m\n\u001b[0m\u001b[1;32m    934\u001b[0m                 \u001b[0;32melse\u001b[0m\u001b[0;34m:\u001b[0m\u001b[0;34m\u001b[0m\u001b[0;34m\u001b[0m\u001b[0m\n\u001b[1;32m    935\u001b[0m                     \u001b[0mself\u001b[0m\u001b[0;34m.\u001b[0m\u001b[0m_output\u001b[0m\u001b[0;34m.\u001b[0m\u001b[0mextend\u001b[0m\u001b[0;34m(\u001b[0m\u001b[0mjob\u001b[0m\u001b[0;34m.\u001b[0m\u001b[0mget\u001b[0m\u001b[0;34m(\u001b[0m\u001b[0;34m)\u001b[0m\u001b[0;34m)\u001b[0m\u001b[0;34m\u001b[0m\u001b[0;34m\u001b[0m\u001b[0m\n",
      "\u001b[0;32m~/.pyenv/versions/3.8.6/envs/MA_PREDICTOR/lib/python3.8/site-packages/joblib/_parallel_backends.py\u001b[0m in \u001b[0;36mwrap_future_result\u001b[0;34m(future, timeout)\u001b[0m\n\u001b[1;32m    540\u001b[0m         AsyncResults.get from multiprocessing.\"\"\"\n\u001b[1;32m    541\u001b[0m         \u001b[0;32mtry\u001b[0m\u001b[0;34m:\u001b[0m\u001b[0;34m\u001b[0m\u001b[0;34m\u001b[0m\u001b[0m\n\u001b[0;32m--> 542\u001b[0;31m             \u001b[0;32mreturn\u001b[0m \u001b[0mfuture\u001b[0m\u001b[0;34m.\u001b[0m\u001b[0mresult\u001b[0m\u001b[0;34m(\u001b[0m\u001b[0mtimeout\u001b[0m\u001b[0;34m=\u001b[0m\u001b[0mtimeout\u001b[0m\u001b[0;34m)\u001b[0m\u001b[0;34m\u001b[0m\u001b[0;34m\u001b[0m\u001b[0m\n\u001b[0m\u001b[1;32m    543\u001b[0m         \u001b[0;32mexcept\u001b[0m \u001b[0mCfTimeoutError\u001b[0m \u001b[0;32mas\u001b[0m \u001b[0me\u001b[0m\u001b[0;34m:\u001b[0m\u001b[0;34m\u001b[0m\u001b[0;34m\u001b[0m\u001b[0m\n\u001b[1;32m    544\u001b[0m             \u001b[0;32mraise\u001b[0m \u001b[0mTimeoutError\u001b[0m \u001b[0;32mfrom\u001b[0m \u001b[0me\u001b[0m\u001b[0;34m\u001b[0m\u001b[0;34m\u001b[0m\u001b[0m\n",
      "\u001b[0;32m~/.pyenv/versions/3.8.6/lib/python3.8/concurrent/futures/_base.py\u001b[0m in \u001b[0;36mresult\u001b[0;34m(self, timeout)\u001b[0m\n\u001b[1;32m    432\u001b[0m                 \u001b[0;32mreturn\u001b[0m \u001b[0mself\u001b[0m\u001b[0;34m.\u001b[0m\u001b[0m__get_result\u001b[0m\u001b[0;34m(\u001b[0m\u001b[0;34m)\u001b[0m\u001b[0;34m\u001b[0m\u001b[0;34m\u001b[0m\u001b[0m\n\u001b[1;32m    433\u001b[0m \u001b[0;34m\u001b[0m\u001b[0m\n\u001b[0;32m--> 434\u001b[0;31m             \u001b[0mself\u001b[0m\u001b[0;34m.\u001b[0m\u001b[0m_condition\u001b[0m\u001b[0;34m.\u001b[0m\u001b[0mwait\u001b[0m\u001b[0;34m(\u001b[0m\u001b[0mtimeout\u001b[0m\u001b[0;34m)\u001b[0m\u001b[0;34m\u001b[0m\u001b[0;34m\u001b[0m\u001b[0m\n\u001b[0m\u001b[1;32m    435\u001b[0m \u001b[0;34m\u001b[0m\u001b[0m\n\u001b[1;32m    436\u001b[0m             \u001b[0;32mif\u001b[0m \u001b[0mself\u001b[0m\u001b[0;34m.\u001b[0m\u001b[0m_state\u001b[0m \u001b[0;32min\u001b[0m \u001b[0;34m[\u001b[0m\u001b[0mCANCELLED\u001b[0m\u001b[0;34m,\u001b[0m \u001b[0mCANCELLED_AND_NOTIFIED\u001b[0m\u001b[0;34m]\u001b[0m\u001b[0;34m:\u001b[0m\u001b[0;34m\u001b[0m\u001b[0;34m\u001b[0m\u001b[0m\n",
      "\u001b[0;32m~/.pyenv/versions/3.8.6/lib/python3.8/threading.py\u001b[0m in \u001b[0;36mwait\u001b[0;34m(self, timeout)\u001b[0m\n\u001b[1;32m    300\u001b[0m         \u001b[0;32mtry\u001b[0m\u001b[0;34m:\u001b[0m    \u001b[0;31m# restore state no matter what (e.g., KeyboardInterrupt)\u001b[0m\u001b[0;34m\u001b[0m\u001b[0;34m\u001b[0m\u001b[0m\n\u001b[1;32m    301\u001b[0m             \u001b[0;32mif\u001b[0m \u001b[0mtimeout\u001b[0m \u001b[0;32mis\u001b[0m \u001b[0;32mNone\u001b[0m\u001b[0;34m:\u001b[0m\u001b[0;34m\u001b[0m\u001b[0;34m\u001b[0m\u001b[0m\n\u001b[0;32m--> 302\u001b[0;31m                 \u001b[0mwaiter\u001b[0m\u001b[0;34m.\u001b[0m\u001b[0macquire\u001b[0m\u001b[0;34m(\u001b[0m\u001b[0;34m)\u001b[0m\u001b[0;34m\u001b[0m\u001b[0;34m\u001b[0m\u001b[0m\n\u001b[0m\u001b[1;32m    303\u001b[0m                 \u001b[0mgotit\u001b[0m \u001b[0;34m=\u001b[0m \u001b[0;32mTrue\u001b[0m\u001b[0;34m\u001b[0m\u001b[0;34m\u001b[0m\u001b[0m\n\u001b[1;32m    304\u001b[0m             \u001b[0;32melse\u001b[0m\u001b[0;34m:\u001b[0m\u001b[0;34m\u001b[0m\u001b[0;34m\u001b[0m\u001b[0m\n",
      "\u001b[0;31mKeyboardInterrupt\u001b[0m: "
     ]
    }
   ],
   "source": [
    "# Fit data to Grid Search\n",
    "search.fit(X_train,y_train);"
   ]
  },
  {
   "cell_type": "code",
   "execution_count": 61,
   "id": "e713d524",
   "metadata": {
    "ExecuteTime": {
     "end_time": "2021-09-10T14:48:04.101935Z",
     "start_time": "2021-09-10T14:48:04.092558Z"
    },
    "hidden": true
   },
   "outputs": [
    {
     "data": {
      "text/plain": [
       "-0.0025065721534876877"
      ]
     },
     "execution_count": 61,
     "metadata": {},
     "output_type": "execute_result"
    }
   ],
   "source": [
    "# Best score 1\n",
    "search.best_score_"
   ]
  },
  {
   "cell_type": "code",
   "execution_count": null,
   "id": "efe86722",
   "metadata": {
    "ExecuteTime": {
     "end_time": "2021-09-11T00:26:09.413007Z",
     "start_time": "2021-09-11T00:26:09.412958Z"
    },
    "hidden": true
   },
   "outputs": [],
   "source": [
    "# Best score 2\n",
    "search.best_score_"
   ]
  },
  {
   "cell_type": "code",
   "execution_count": null,
   "id": "9fa74216",
   "metadata": {
    "ExecuteTime": {
     "end_time": "2021-09-12T09:16:24.109803Z",
     "start_time": "2021-09-12T09:16:24.109757Z"
    },
    "hidden": true
   },
   "outputs": [],
   "source": [
    "# Best score 3\n",
    "search.best_score_"
   ]
  },
  {
   "cell_type": "code",
   "execution_count": 62,
   "id": "c72b43a4",
   "metadata": {
    "ExecuteTime": {
     "end_time": "2021-09-10T14:48:32.627916Z",
     "start_time": "2021-09-10T14:48:32.620939Z"
    },
    "hidden": true
   },
   "outputs": [
    {
     "data": {
      "text/plain": [
       "{'model__n_estimators': 150}"
      ]
     },
     "execution_count": 62,
     "metadata": {},
     "output_type": "execute_result"
    }
   ],
   "source": [
    "# Best Params\n",
    "search.best_params_"
   ]
  },
  {
   "cell_type": "markdown",
   "id": "3b1b3cfd",
   "metadata": {},
   "source": [
    "## XGBoost"
   ]
  },
  {
   "cell_type": "code",
   "execution_count": 13,
   "id": "83dd964f",
   "metadata": {
    "ExecuteTime": {
     "end_time": "2021-09-13T14:55:00.089699Z",
     "start_time": "2021-09-13T14:55:00.084288Z"
    }
   },
   "outputs": [],
   "source": [
    "model= XGBRegressor()"
   ]
  },
  {
   "cell_type": "code",
   "execution_count": 20,
   "id": "1320d4f9",
   "metadata": {
    "ExecuteTime": {
     "end_time": "2021-09-13T15:34:52.747335Z",
     "start_time": "2021-09-13T15:34:52.724292Z"
    }
   },
   "outputs": [],
   "source": [
    "# Hyperparameter Grid\n",
    "grid = {'model__n_estimators': [500, 800, 1000],\n",
    "        'model__learning_rate':  [0.1, 0.2 , 0.3, 0.4],\n",
    "        'model__max_depth': [1, 2, 3]}"
   ]
  },
  {
   "cell_type": "code",
   "execution_count": 21,
   "id": "de3ac263",
   "metadata": {
    "ExecuteTime": {
     "end_time": "2021-09-13T15:34:53.085472Z",
     "start_time": "2021-09-13T15:34:53.058997Z"
    }
   },
   "outputs": [],
   "source": [
    "pipe = Pipeline([\n",
    "    ('preprocessing', preprocessor),\n",
    "    ('model', model)])"
   ]
  },
  {
   "cell_type": "code",
   "execution_count": 58,
   "id": "a5d892ea",
   "metadata": {
    "ExecuteTime": {
     "end_time": "2021-09-13T13:40:05.461220Z",
     "start_time": "2021-09-13T13:40:02.358994Z"
    }
   },
   "outputs": [
    {
     "data": {
      "text/plain": [
       "-0.002258528474975258"
      ]
     },
     "execution_count": 58,
     "metadata": {},
     "output_type": "execute_result"
    }
   ],
   "source": [
    "cross_val_score(pipe, X_train, y_train, cv=5, scoring='neg_mean_squared_error').mean()"
   ]
  },
  {
   "cell_type": "code",
   "execution_count": 22,
   "id": "f5227a09",
   "metadata": {
    "ExecuteTime": {
     "end_time": "2021-09-13T15:34:57.573628Z",
     "start_time": "2021-09-13T15:34:57.551250Z"
    }
   },
   "outputs": [],
   "source": [
    "search = GridSearchCV(pipe, \n",
    "                      grid, \n",
    "                      scoring = ['neg_mean_squared_error', 'r2','neg_mean_absolute_error'],\n",
    "                      refit='neg_mean_squared_error',\n",
    "                      cv = 5,\n",
    "                      n_jobs=-1) "
   ]
  },
  {
   "cell_type": "code",
   "execution_count": 23,
   "id": "13b76106",
   "metadata": {
    "ExecuteTime": {
     "end_time": "2021-09-13T15:41:44.676198Z",
     "start_time": "2021-09-13T15:34:59.045602Z"
    }
   },
   "outputs": [],
   "source": [
    "# Fit data to Grid Search\n",
    "search.fit(X_train,y_train);"
   ]
  },
  {
   "cell_type": "code",
   "execution_count": 71,
   "id": "51be159f",
   "metadata": {
    "ExecuteTime": {
     "end_time": "2021-09-13T13:49:49.125163Z",
     "start_time": "2021-09-13T13:49:49.098189Z"
    }
   },
   "outputs": [
    {
     "data": {
      "text/plain": [
       "-0.002129517642842963"
      ]
     },
     "execution_count": 71,
     "metadata": {},
     "output_type": "execute_result"
    }
   ],
   "source": [
    "# Best score 1\n",
    "search.best_score_"
   ]
  },
  {
   "cell_type": "code",
   "execution_count": 72,
   "id": "62502c13",
   "metadata": {
    "ExecuteTime": {
     "end_time": "2021-09-13T13:50:56.099433Z",
     "start_time": "2021-09-13T13:50:56.090519Z"
    }
   },
   "outputs": [
    {
     "data": {
      "text/plain": [
       "{'model__learning_rate': 0.7, 'model__max_depth': 3, 'model__n_estimators': 5}"
      ]
     },
     "execution_count": 72,
     "metadata": {},
     "output_type": "execute_result"
    }
   ],
   "source": [
    "search.best_params_"
   ]
  },
  {
   "cell_type": "code",
   "execution_count": 79,
   "id": "e8acdfce",
   "metadata": {
    "ExecuteTime": {
     "end_time": "2021-09-13T13:52:23.795897Z",
     "start_time": "2021-09-13T13:52:23.777201Z"
    }
   },
   "outputs": [
    {
     "data": {
      "text/plain": [
       "-0.002122335369717998"
      ]
     },
     "execution_count": 79,
     "metadata": {},
     "output_type": "execute_result"
    }
   ],
   "source": [
    "# Best score 2\n",
    "search.best_score_"
   ]
  },
  {
   "cell_type": "code",
   "execution_count": 80,
   "id": "39e2ccbb",
   "metadata": {
    "ExecuteTime": {
     "end_time": "2021-09-13T13:52:23.815930Z",
     "start_time": "2021-09-13T13:52:23.806968Z"
    }
   },
   "outputs": [
    {
     "data": {
      "text/plain": [
       "{'model__learning_rate': 0.7, 'model__max_depth': 1, 'model__n_estimators': 6}"
      ]
     },
     "execution_count": 80,
     "metadata": {},
     "output_type": "execute_result"
    }
   ],
   "source": [
    "search.best_params_"
   ]
  },
  {
   "cell_type": "code",
   "execution_count": 85,
   "id": "75df70bc",
   "metadata": {
    "ExecuteTime": {
     "end_time": "2021-09-13T13:58:18.192623Z",
     "start_time": "2021-09-13T13:58:18.169105Z"
    }
   },
   "outputs": [
    {
     "data": {
      "text/plain": [
       "-0.0021306478955788618"
      ]
     },
     "execution_count": 85,
     "metadata": {},
     "output_type": "execute_result"
    }
   ],
   "source": [
    "# Best score 3\n",
    "search.best_score_"
   ]
  },
  {
   "cell_type": "code",
   "execution_count": 86,
   "id": "69295bc3",
   "metadata": {
    "ExecuteTime": {
     "end_time": "2021-09-13T13:58:18.223753Z",
     "start_time": "2021-09-13T13:58:18.200738Z"
    }
   },
   "outputs": [
    {
     "data": {
      "text/plain": [
       "{'model__learning_rate': 0.5,\n",
       " 'model__max_depth': 1,\n",
       " 'model__n_estimators': 1000}"
      ]
     },
     "execution_count": 86,
     "metadata": {},
     "output_type": "execute_result"
    }
   ],
   "source": [
    "search.best_params_"
   ]
  },
  {
   "cell_type": "code",
   "execution_count": 18,
   "id": "f1fe6c00",
   "metadata": {
    "ExecuteTime": {
     "end_time": "2021-09-13T15:26:03.899766Z",
     "start_time": "2021-09-13T15:26:03.883672Z"
    }
   },
   "outputs": [
    {
     "data": {
      "text/plain": [
       "-0.0021304504982820943"
      ]
     },
     "execution_count": 18,
     "metadata": {},
     "output_type": "execute_result"
    }
   ],
   "source": [
    "# Best score 4\n",
    "search.best_score_"
   ]
  },
  {
   "cell_type": "code",
   "execution_count": 19,
   "id": "2da5a52c",
   "metadata": {
    "ExecuteTime": {
     "end_time": "2021-09-13T15:26:03.925726Z",
     "start_time": "2021-09-13T15:26:03.914767Z"
    }
   },
   "outputs": [
    {
     "data": {
      "text/plain": [
       "{'model__learning_rate': 0.3,\n",
       " 'model__max_depth': 1,\n",
       " 'model__n_estimators': 1000}"
      ]
     },
     "execution_count": 19,
     "metadata": {},
     "output_type": "execute_result"
    }
   ],
   "source": [
    "search.best_params_"
   ]
  },
  {
   "cell_type": "code",
   "execution_count": 24,
   "id": "40102c8e",
   "metadata": {
    "ExecuteTime": {
     "end_time": "2021-09-13T15:41:44.704025Z",
     "start_time": "2021-09-13T15:41:44.681483Z"
    }
   },
   "outputs": [
    {
     "data": {
      "text/plain": [
       "-0.002124521752699194"
      ]
     },
     "execution_count": 24,
     "metadata": {},
     "output_type": "execute_result"
    }
   ],
   "source": [
    "# Best score 5\n",
    "search.best_score_"
   ]
  },
  {
   "cell_type": "code",
   "execution_count": 25,
   "id": "fb5e2d41",
   "metadata": {
    "ExecuteTime": {
     "end_time": "2021-09-13T15:41:44.726116Z",
     "start_time": "2021-09-13T15:41:44.707583Z"
    }
   },
   "outputs": [
    {
     "data": {
      "text/plain": [
       "{'model__learning_rate': 0.1,\n",
       " 'model__max_depth': 1,\n",
       " 'model__n_estimators': 500}"
      ]
     },
     "execution_count": 25,
     "metadata": {},
     "output_type": "execute_result"
    }
   ],
   "source": [
    "search.best_params_"
   ]
  },
  {
   "cell_type": "code",
   "execution_count": null,
   "id": "266b99f9",
   "metadata": {},
   "outputs": [],
   "source": []
  }
 ],
 "metadata": {
  "kernelspec": {
   "display_name": "Python 3 (ipykernel)",
   "language": "python",
   "name": "python3"
  },
  "language_info": {
   "codemirror_mode": {
    "name": "ipython",
    "version": 3
   },
   "file_extension": ".py",
   "mimetype": "text/x-python",
   "name": "python",
   "nbconvert_exporter": "python",
   "pygments_lexer": "ipython3",
   "version": "3.8.6"
  },
  "toc": {
   "base_numbering": 1,
   "nav_menu": {},
   "number_sections": true,
   "sideBar": true,
   "skip_h1_title": false,
   "title_cell": "Table of Contents",
   "title_sidebar": "Contents",
   "toc_cell": false,
   "toc_position": {},
   "toc_section_display": true,
   "toc_window_display": false
  }
 },
 "nbformat": 4,
 "nbformat_minor": 5
}
